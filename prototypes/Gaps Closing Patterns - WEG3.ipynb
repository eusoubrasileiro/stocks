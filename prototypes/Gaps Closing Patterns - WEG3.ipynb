{
 "cells": [
  {
   "cell_type": "markdown",
   "metadata": {},
   "source": [
    "#### Using WEG4\\3\n",
    "\n",
    "Something with low Beta with bovespa"
   ]
  },
  {
   "cell_type": "code",
   "execution_count": 1,
   "metadata": {},
   "outputs": [],
   "source": [
    "%matplotlib inline"
   ]
  },
  {
   "cell_type": "code",
   "execution_count": 2,
   "metadata": {
    "scrolled": true
   },
   "outputs": [
    {
     "data": {
      "text/plain": [
       "'/home/andre/Projects/stocks/prototypes'"
      ]
     },
     "execution_count": 2,
     "metadata": {},
     "output_type": "execute_result"
    }
   ],
   "source": [
    "pwd"
   ]
  },
  {
   "cell_type": "code",
   "execution_count": 3,
   "metadata": {},
   "outputs": [
    {
     "name": "stdout",
     "output_type": "stream",
     "text": [
      "/home/andre/Projects/stocks\n"
     ]
    }
   ],
   "source": [
    "cd .."
   ]
  },
  {
   "cell_type": "code",
   "execution_count": 4,
   "metadata": {},
   "outputs": [],
   "source": [
    "%matplotlib inline"
   ]
  },
  {
   "cell_type": "code",
   "execution_count": 5,
   "metadata": {},
   "outputs": [],
   "source": [
    "from matplotlib import pyplot as plt\n",
    "import os\n",
    "import sys\n",
    "import pandas as pd\n",
    "import numpy as np\n",
    "import struct\n",
    "import datetime\n",
    "import calendar\n",
    "import time\n",
    "import argparse\n",
    "import seaborn as sns\n",
    "from algos.util import progressbar\n",
    "from algos import meta5Ibov\n",
    "from algos.nn import torchNN, torchCV, torchUtil\n",
    "import torch as th\n",
    "import scipy\n",
    "import talib as ta"
   ]
  },
  {
   "cell_type": "code",
   "execution_count": 6,
   "metadata": {},
   "outputs": [
    {
     "name": "stdout",
     "output_type": "stream",
     "text": [
      "/home/andre/Projects/stocks/data\n"
     ]
    }
   ],
   "source": [
    "cd data"
   ]
  },
  {
   "cell_type": "code",
   "execution_count": 7,
   "metadata": {},
   "outputs": [
    {
     "data": {
      "text/plain": [
       "'/home/andre/Projects/stocks/data'"
      ]
     },
     "execution_count": 7,
     "metadata": {},
     "output_type": "execute_result"
    }
   ],
   "source": [
    "pwd"
   ]
  },
  {
   "cell_type": "code",
   "execution_count": 8,
   "metadata": {},
   "outputs": [
    {
     "name": "stderr",
     "output_type": "stream",
     "text": [
      "Master data loaded size (minutes):  515198\n",
      "symbols loaded:\n",
      "['BBAS3' 'DOL$' 'VALE3' 'ABEV3' 'ITUB4' 'B3SA3' 'BBDC4' 'PETR4' 'WIN@']\n"
     ]
    }
   ],
   "source": [
    "\n",
    "import os\n",
    "\n",
    "if os.name == 'nt':\n",
    "    meta5Ibov.setDataPath('D:\\\\Users\\\\andre.ferreira\\\\Documents\\\\stocks\\\\data', \n",
    "                        'D:\\\\Users\\\\andre.ferreira\\\\Documents\\\\stocks\\\\data', preload=False)\n",
    "else:\n",
    "    meta5Ibov.setDataPath(r'/home/andre/Projects/stocks/data', \n",
    "                        r'/home/andre/Projects/stocks/data')"
   ]
  },
  {
   "cell_type": "code",
   "execution_count": 9,
   "metadata": {},
   "outputs": [
    {
     "name": "stderr",
     "output_type": "stream",
     "text": [
      "symbols loaded:\n",
      "['BBAS3' 'DOL$' 'VALE3' 'ABEV3' 'ITUB4' 'B3SA3' 'BBDC4' 'WEGE3' 'PETR4'\n",
      " 'WIN@']\n",
      "percent missing:  0.057403360195657734\n"
     ]
    },
    {
     "data": {
      "text/plain": [
       "10"
      ]
     },
     "execution_count": 9,
     "metadata": {},
     "output_type": "execute_result"
    }
   ],
   "source": [
    "meta5Ibov.loadMeta5Data(cleandays=False, preload=False)"
   ]
  },
  {
   "cell_type": "code",
   "execution_count": 12,
   "metadata": {},
   "outputs": [],
   "source": [
    "win = meta5Ibov.getSymbol('WEGE3')"
   ]
  },
  {
   "cell_type": "code",
   "execution_count": 13,
   "metadata": {},
   "outputs": [],
   "source": [
    "win['time'] = win.index.map(lambda x: x.time())"
   ]
  },
  {
   "cell_type": "code",
   "execution_count": 14,
   "metadata": {},
   "outputs": [
    {
     "data": {
      "text/plain": [
       "datetime.time(17, 54)"
      ]
     },
     "execution_count": 14,
     "metadata": {},
     "output_type": "execute_result"
    }
   ],
   "source": [
    "win.time.max()"
   ]
  },
  {
   "cell_type": "code",
   "execution_count": 15,
   "metadata": {},
   "outputs": [
    {
     "data": {
      "text/plain": [
       "0"
      ]
     },
     "execution_count": 15,
     "metadata": {},
     "output_type": "execute_result"
    }
   ],
   "source": [
    "win.isnull().sum().sum() # total number of cells with nans "
   ]
  },
  {
   "cell_type": "code",
   "execution_count": 16,
   "metadata": {},
   "outputs": [],
   "source": [
    "win.dropna(inplace=True)"
   ]
  },
  {
   "cell_type": "markdown",
   "metadata": {},
   "source": [
    "Convert to datetime Date"
   ]
  },
  {
   "cell_type": "code",
   "execution_count": 17,
   "metadata": {},
   "outputs": [
    {
     "data": {
      "text/html": [
       "<div>\n",
       "<style scoped>\n",
       "    .dataframe tbody tr th:only-of-type {\n",
       "        vertical-align: middle;\n",
       "    }\n",
       "\n",
       "    .dataframe tbody tr th {\n",
       "        vertical-align: top;\n",
       "    }\n",
       "\n",
       "    .dataframe thead th {\n",
       "        text-align: right;\n",
       "    }\n",
       "</style>\n",
       "<table border=\"1\" class=\"dataframe\">\n",
       "  <thead>\n",
       "    <tr style=\"text-align: right;\">\n",
       "      <th></th>\n",
       "      <th>O</th>\n",
       "      <th>H</th>\n",
       "      <th>L</th>\n",
       "      <th>C</th>\n",
       "      <th>TV</th>\n",
       "      <th>S</th>\n",
       "      <th>RV</th>\n",
       "      <th>time</th>\n",
       "    </tr>\n",
       "    <tr>\n",
       "      <th>time</th>\n",
       "      <th></th>\n",
       "      <th></th>\n",
       "      <th></th>\n",
       "      <th></th>\n",
       "      <th></th>\n",
       "      <th></th>\n",
       "      <th></th>\n",
       "      <th></th>\n",
       "    </tr>\n",
       "  </thead>\n",
       "  <tbody>\n",
       "    <tr>\n",
       "      <th>2014-06-30 10:05:00</th>\n",
       "      <td>9.76</td>\n",
       "      <td>9.76</td>\n",
       "      <td>9.76</td>\n",
       "      <td>9.76</td>\n",
       "      <td>2</td>\n",
       "      <td>1</td>\n",
       "      <td>1000</td>\n",
       "      <td>10:05:00</td>\n",
       "    </tr>\n",
       "    <tr>\n",
       "      <th>2014-06-30 10:07:00</th>\n",
       "      <td>9.77</td>\n",
       "      <td>9.77</td>\n",
       "      <td>9.77</td>\n",
       "      <td>9.77</td>\n",
       "      <td>1</td>\n",
       "      <td>1</td>\n",
       "      <td>200</td>\n",
       "      <td>10:07:00</td>\n",
       "    </tr>\n",
       "  </tbody>\n",
       "</table>\n",
       "</div>"
      ],
      "text/plain": [
       "                        O     H     L     C  TV  S    RV      time\n",
       "time                                                              \n",
       "2014-06-30 10:05:00  9.76  9.76  9.76  9.76   2  1  1000  10:05:00\n",
       "2014-06-30 10:07:00  9.77  9.77  9.77  9.77   1  1   200  10:07:00"
      ]
     },
     "execution_count": 17,
     "metadata": {},
     "output_type": "execute_result"
    }
   ],
   "source": [
    "win.head(2)"
   ]
  },
  {
   "cell_type": "code",
   "execution_count": 18,
   "metadata": {},
   "outputs": [],
   "source": [
    "win.drop(['TV', 'S'], axis=1, inplace=True)"
   ]
  },
  {
   "cell_type": "code",
   "execution_count": 19,
   "metadata": {},
   "outputs": [],
   "source": [
    "win['time'] = win.index.map(lambda x: x.time())\n",
    "win['date'] = win.index.map(lambda x: x.date())"
   ]
  },
  {
   "cell_type": "code",
   "execution_count": 20,
   "metadata": {},
   "outputs": [],
   "source": [
    "win['hour'] = win.time.apply(lambda x: x.hour)\n",
    "win['minute'] = win.time.apply(lambda x: x.minute)\n",
    "win['wday'] = win.date.apply(lambda x: x.weekday()) # week day where Monday is 0 and Sunday is 6\n",
    "# friday is 4"
   ]
  },
  {
   "cell_type": "code",
   "execution_count": 21,
   "metadata": {},
   "outputs": [
    {
     "data": {
      "text/html": [
       "<div>\n",
       "<style scoped>\n",
       "    .dataframe tbody tr th:only-of-type {\n",
       "        vertical-align: middle;\n",
       "    }\n",
       "\n",
       "    .dataframe tbody tr th {\n",
       "        vertical-align: top;\n",
       "    }\n",
       "\n",
       "    .dataframe thead th {\n",
       "        text-align: right;\n",
       "    }\n",
       "</style>\n",
       "<table border=\"1\" class=\"dataframe\">\n",
       "  <thead>\n",
       "    <tr style=\"text-align: right;\">\n",
       "      <th></th>\n",
       "      <th>O</th>\n",
       "      <th>H</th>\n",
       "      <th>L</th>\n",
       "      <th>C</th>\n",
       "      <th>RV</th>\n",
       "      <th>time</th>\n",
       "      <th>date</th>\n",
       "      <th>hour</th>\n",
       "      <th>minute</th>\n",
       "      <th>wday</th>\n",
       "    </tr>\n",
       "    <tr>\n",
       "      <th>time</th>\n",
       "      <th></th>\n",
       "      <th></th>\n",
       "      <th></th>\n",
       "      <th></th>\n",
       "      <th></th>\n",
       "      <th></th>\n",
       "      <th></th>\n",
       "      <th></th>\n",
       "      <th></th>\n",
       "      <th></th>\n",
       "    </tr>\n",
       "  </thead>\n",
       "  <tbody>\n",
       "    <tr>\n",
       "      <th>2014-06-30 10:05:00</th>\n",
       "      <td>9.76</td>\n",
       "      <td>9.76</td>\n",
       "      <td>9.76</td>\n",
       "      <td>9.76</td>\n",
       "      <td>1000</td>\n",
       "      <td>10:05:00</td>\n",
       "      <td>2014-06-30</td>\n",
       "      <td>10</td>\n",
       "      <td>5</td>\n",
       "      <td>0</td>\n",
       "    </tr>\n",
       "    <tr>\n",
       "      <th>2014-06-30 10:07:00</th>\n",
       "      <td>9.77</td>\n",
       "      <td>9.77</td>\n",
       "      <td>9.77</td>\n",
       "      <td>9.77</td>\n",
       "      <td>200</td>\n",
       "      <td>10:07:00</td>\n",
       "      <td>2014-06-30</td>\n",
       "      <td>10</td>\n",
       "      <td>7</td>\n",
       "      <td>0</td>\n",
       "    </tr>\n",
       "    <tr>\n",
       "      <th>2014-06-30 10:08:00</th>\n",
       "      <td>9.76</td>\n",
       "      <td>9.76</td>\n",
       "      <td>9.76</td>\n",
       "      <td>9.76</td>\n",
       "      <td>200</td>\n",
       "      <td>10:08:00</td>\n",
       "      <td>2014-06-30</td>\n",
       "      <td>10</td>\n",
       "      <td>8</td>\n",
       "      <td>0</td>\n",
       "    </tr>\n",
       "    <tr>\n",
       "      <th>2014-06-30 10:09:00</th>\n",
       "      <td>9.76</td>\n",
       "      <td>9.76</td>\n",
       "      <td>9.76</td>\n",
       "      <td>9.76</td>\n",
       "      <td>200</td>\n",
       "      <td>10:09:00</td>\n",
       "      <td>2014-06-30</td>\n",
       "      <td>10</td>\n",
       "      <td>9</td>\n",
       "      <td>0</td>\n",
       "    </tr>\n",
       "    <tr>\n",
       "      <th>2014-06-30 10:10:00</th>\n",
       "      <td>9.76</td>\n",
       "      <td>9.76</td>\n",
       "      <td>9.76</td>\n",
       "      <td>9.76</td>\n",
       "      <td>800</td>\n",
       "      <td>10:10:00</td>\n",
       "      <td>2014-06-30</td>\n",
       "      <td>10</td>\n",
       "      <td>10</td>\n",
       "      <td>0</td>\n",
       "    </tr>\n",
       "  </tbody>\n",
       "</table>\n",
       "</div>"
      ],
      "text/plain": [
       "                        O     H     L     C    RV      time        date  hour  \\\n",
       "time                                                                            \n",
       "2014-06-30 10:05:00  9.76  9.76  9.76  9.76  1000  10:05:00  2014-06-30    10   \n",
       "2014-06-30 10:07:00  9.77  9.77  9.77  9.77   200  10:07:00  2014-06-30    10   \n",
       "2014-06-30 10:08:00  9.76  9.76  9.76  9.76   200  10:08:00  2014-06-30    10   \n",
       "2014-06-30 10:09:00  9.76  9.76  9.76  9.76   200  10:09:00  2014-06-30    10   \n",
       "2014-06-30 10:10:00  9.76  9.76  9.76  9.76   800  10:10:00  2014-06-30    10   \n",
       "\n",
       "                     minute  wday  \n",
       "time                               \n",
       "2014-06-30 10:05:00       5     0  \n",
       "2014-06-30 10:07:00       7     0  \n",
       "2014-06-30 10:08:00       8     0  \n",
       "2014-06-30 10:09:00       9     0  \n",
       "2014-06-30 10:10:00      10     0  "
      ]
     },
     "execution_count": 21,
     "metadata": {},
     "output_type": "execute_result"
    }
   ],
   "source": [
    "win.head()"
   ]
  },
  {
   "cell_type": "markdown",
   "metadata": {},
   "source": [
    " ### Total number of days"
   ]
  },
  {
   "cell_type": "code",
   "execution_count": 22,
   "metadata": {},
   "outputs": [
    {
     "data": {
      "text/plain": [
       "1249"
      ]
     },
     "execution_count": 22,
     "metadata": {},
     "output_type": "execute_result"
    }
   ],
   "source": [
    "len(win.groupby(win.date)) # days"
   ]
  },
  {
   "cell_type": "markdown",
   "metadata": {},
   "source": [
    "### We can see the data  market hours were not corrected from summer time\n",
    "\n",
    " - ignoring some outliers\n",
    " - pre-market is from 9:00 to 10:00 \n",
    " - after-market is from 17:00 to 18:00/18:15    \n",
    " \n",
    " \n",
    " - **doesn't matter right now**"
   ]
  },
  {
   "cell_type": "code",
   "execution_count": 23,
   "metadata": {},
   "outputs": [
    {
     "data": {
      "image/png": "[encoded data removed]",
      "text/plain": [
       "<Figure size 1008x576 with 4 Axes>"
      ]
     },
     "metadata": {
      "needs_background": "light"
     },
     "output_type": "display_data"
    }
   ],
   "source": [
    "fig, (ax1, ax2, ax3, ax4) = plt.subplots(nrows=4, figsize=(14,8))\n",
    "\n",
    "ax1.plot(win.groupby(win.date).time.agg(['min']).applymap(lambda x: x.hour))\n",
    "ax1.set_ylabel('hour')\n",
    "ax1.set_title('pre market hour')\n",
    "\n",
    "ax2.plot(win.groupby(win.date).time.agg(['min']).applymap(lambda x: x.minute))\n",
    "ax2.set_ylabel('minute')\n",
    "\n",
    "\n",
    "ax3.plot(win.groupby(win.date).time.agg(['max']).applymap(lambda x: x.hour))\n",
    "ax3.set_ylabel('hour')\n",
    "ax3.set_title('after market hour')\n",
    "\n",
    "ax4.plot(win.groupby(win.date).time.agg(['max']).applymap(lambda x: x.minute))\n",
    "ax4.set_ylabel('minute')\n",
    "\n",
    "plt.subplots_adjust(hspace=0.5)"
   ]
  },
  {
   "cell_type": "markdown",
   "metadata": {},
   "source": [
    "### First let's look of days of gaps\n",
    "\n",
    " - everyday has a gap"
   ]
  },
  {
   "cell_type": "code",
   "execution_count": 24,
   "metadata": {},
   "outputs": [],
   "source": [
    "windays = win.groupby(win.date)"
   ]
  },
  {
   "cell_type": "code",
   "execution_count": 25,
   "metadata": {},
   "outputs": [
    {
     "data": {
      "text/html": [
       "<div>\n",
       "<style scoped>\n",
       "    .dataframe tbody tr th:only-of-type {\n",
       "        vertical-align: middle;\n",
       "    }\n",
       "\n",
       "    .dataframe tbody tr th {\n",
       "        vertical-align: top;\n",
       "    }\n",
       "\n",
       "    .dataframe thead th {\n",
       "        text-align: right;\n",
       "    }\n",
       "</style>\n",
       "<table border=\"1\" class=\"dataframe\">\n",
       "  <thead>\n",
       "    <tr style=\"text-align: right;\">\n",
       "      <th></th>\n",
       "      <th>last</th>\n",
       "    </tr>\n",
       "    <tr>\n",
       "      <th>date</th>\n",
       "      <th></th>\n",
       "    </tr>\n",
       "  </thead>\n",
       "  <tbody>\n",
       "    <tr>\n",
       "      <th>2014-06-30</th>\n",
       "      <td>9.84</td>\n",
       "    </tr>\n",
       "    <tr>\n",
       "      <th>2014-07-01</th>\n",
       "      <td>9.86</td>\n",
       "    </tr>\n",
       "    <tr>\n",
       "      <th>2014-07-02</th>\n",
       "      <td>9.79</td>\n",
       "    </tr>\n",
       "  </tbody>\n",
       "</table>\n",
       "</div>"
      ],
      "text/plain": [
       "            last\n",
       "date            \n",
       "2014-06-30  9.84\n",
       "2014-07-01  9.86\n",
       "2014-07-02  9.79"
      ]
     },
     "execution_count": 25,
     "metadata": {},
     "output_type": "execute_result"
    }
   ],
   "source": [
    "windays['C'].agg(['last']).head(3)\n",
    "#windays['Open'].agg(['first']).head(3)"
   ]
  },
  {
   "cell_type": "markdown",
   "metadata": {},
   "source": [
    "- Everyday that was not preceeded by its correct week day doesnt have a valid gap or \n",
    "- was a holiday \n",
    "\n",
    "Since they are few and we have the holidays we  \n",
    "we will just ignore any incorrect gap"
   ]
  },
  {
   "cell_type": "code",
   "execution_count": 26,
   "metadata": {
    "scrolled": true
   },
   "outputs": [],
   "source": [
    "weekfails = np.diff(windays.wday.agg('first'))"
   ]
  },
  {
   "cell_type": "code",
   "execution_count": 27,
   "metadata": {},
   "outputs": [
    {
     "data": {
      "text/plain": [
       "array([ 2,  2,  3,  3, -2, -3,  2, -3,  2,  2,  2, -3, -3, -3, -3, -2, -2,\n",
       "       -3, -2, -3,  2,  2,  2,  2,  2,  2, -3,  2, -2, -3, -3, -3,  2,  2,\n",
       "        2,  2,  2, -3, -3, -2,  2, -2, -3,  2,  2, -3, -3, -3, -3,  2,  2,\n",
       "       -2, -2, -3, -2, -3,  2,  2,  2])"
      ]
     },
     "execution_count": 27,
     "metadata": {},
     "output_type": "execute_result"
    }
   ],
   "source": [
    "weekfails[ (weekfails != -4) & (weekfails != 1) ]"
   ]
  },
  {
   "cell_type": "code",
   "execution_count": 28,
   "metadata": {},
   "outputs": [
    {
     "data": {
      "text/plain": [
       "59"
      ]
     },
     "execution_count": 28,
     "metadata": {},
     "output_type": "execute_result"
    }
   ],
   "source": [
    "np.count_nonzero(weekfails[ (weekfails != -4) & (weekfails != 1) ])"
   ]
  },
  {
   "cell_type": "code",
   "execution_count": 29,
   "metadata": {},
   "outputs": [
    {
     "data": {
      "text/plain": [
       "0.047275641025641024"
      ]
     },
     "execution_count": 29,
     "metadata": {},
     "output_type": "execute_result"
    }
   ],
   "source": [
    "np.count_nonzero(weekfails[ (weekfails != -4) & (weekfails != 1) ])/len(weekfails)"
   ]
  },
  {
   "cell_type": "markdown",
   "metadata": {},
   "source": [
    "Invalid gaps will certainly be smaller than 4% due holidays"
   ]
  },
  {
   "cell_type": "code",
   "execution_count": 30,
   "metadata": {},
   "outputs": [
    {
     "data": {
      "text/plain": [
       "[<matplotlib.lines.Line2D at 0x7fd29cd0ec50>]"
      ]
     },
     "execution_count": 30,
     "metadata": {},
     "output_type": "execute_result"
    },
    {
     "data": {
      "image/png": "[encoded data removed]",
      "text/plain": [
       "<Figure size 1080x144 with 1 Axes>"
      ]
     },
     "metadata": {
      "needs_background": "light"
     },
     "output_type": "display_data"
    }
   ],
   "source": [
    "plt.figure(figsize=(15,2))\n",
    "plt.plot(weekfails)"
   ]
  },
  {
   "cell_type": "markdown",
   "metadata": {},
   "source": [
    "- Everyday where data started after 9:00 cannot have a valida gap\n",
    "- Everyday where the day before did not end after 17 hours cannot have a valid gap"
   ]
  },
  {
   "cell_type": "code",
   "execution_count": 31,
   "metadata": {},
   "outputs": [],
   "source": [
    "hourfails = windays.hour.agg('first').values"
   ]
  },
  {
   "cell_type": "code",
   "execution_count": 32,
   "metadata": {},
   "outputs": [
    {
     "data": {
      "text/plain": [
       "array([11, 14, 11, 11, 13, 13, 13, 13])"
      ]
     },
     "execution_count": 32,
     "metadata": {},
     "output_type": "execute_result"
    }
   ],
   "source": [
    "hourfails[hourfails != 10]"
   ]
  },
  {
   "cell_type": "code",
   "execution_count": 33,
   "metadata": {},
   "outputs": [],
   "source": [
    "hourfails = windays.hour.agg('last').values"
   ]
  },
  {
   "cell_type": "code",
   "execution_count": 34,
   "metadata": {},
   "outputs": [
    {
     "data": {
      "text/plain": [
       "array([14, 14])"
      ]
     },
     "execution_count": 34,
     "metadata": {},
     "output_type": "execute_result"
    }
   ],
   "source": [
    "hourfails[hourfails < 16]"
   ]
  },
  {
   "cell_type": "markdown",
   "metadata": {},
   "source": [
    "- We will ignore for now they seam few"
   ]
  },
  {
   "cell_type": "code",
   "execution_count": 35,
   "metadata": {},
   "outputs": [],
   "source": [
    "# tomorrow open - today's close\n",
    "# dont have gap on first day that's why [:1] / [:-1]\n",
    "pclose = windays['C'].agg(['last']).values[:-1] # previous close\n",
    "open = windays['O'].agg(['first']).values[1:]  \n",
    "gaps = open-pclose"
   ]
  },
  {
   "cell_type": "code",
   "execution_count": 36,
   "metadata": {
    "scrolled": true
   },
   "outputs": [
    {
     "data": {
      "image/png": "[encoded data removed]",
      "text/plain": [
       "<Figure size 720x288 with 1 Axes>"
      ]
     },
     "metadata": {
      "needs_background": "light"
     },
     "output_type": "display_data"
    },
    {
     "data": {
      "image/png": "[encoded data removed]",
      "text/plain": [
       "<Figure size 720x288 with 1 Axes>"
      ]
     },
     "metadata": {
      "needs_background": "light"
     },
     "output_type": "display_data"
    }
   ],
   "source": [
    "plt.figure(figsize=(10,4))\n",
    "plt.plot(gaps, lw=0.8)\n",
    "plt.figure(figsize=(10,4))\n",
    "plt.hist(abs(gaps), bins=100);"
   ]
  },
  {
   "cell_type": "code",
   "execution_count": 37,
   "metadata": {},
   "outputs": [
    {
     "data": {
      "text/plain": [
       "0.5857371794871795"
      ]
     },
     "execution_count": 37,
     "metadata": {},
     "output_type": "execute_result"
    }
   ],
   "source": [
    "len(gaps[gaps > 0])/len(gaps)"
   ]
  },
  {
   "cell_type": "code",
   "execution_count": 38,
   "metadata": {},
   "outputs": [
    {
     "data": {
      "text/plain": [
       "array([0.18])"
      ]
     },
     "execution_count": 38,
     "metadata": {},
     "output_type": "execute_result"
    }
   ],
   "source": [
    "np.percentile(abs(gaps), [90])"
   ]
  },
  {
   "cell_type": "code",
   "execution_count": 39,
   "metadata": {
    "scrolled": true
   },
   "outputs": [
    {
     "data": {
      "text/plain": [
       "array([0.01])"
      ]
     },
     "execution_count": 39,
     "metadata": {},
     "output_type": "execute_result"
    }
   ],
   "source": [
    "np.percentile(abs(gaps), [10])"
   ]
  },
  {
   "cell_type": "markdown",
   "metadata": {},
   "source": [
    " ### Some conclusions\n",
    " \n",
    " - 90% of day gaps are smaller than ~.18 cents\n",
    " - 90% of days have gaps bigger than ~0.01 cents\n",
    " - 58.57% up gaps and rest of down gaps fairly even"
   ]
  },
  {
   "cell_type": "markdown",
   "metadata": {},
   "source": [
    "## How many gaps close ?\n",
    "\n",
    " - Considering even aftermarket hour (query 'hour >= 17')"
   ]
  },
  {
   "cell_type": "code",
   "execution_count": 40,
   "metadata": {},
   "outputs": [
    {
     "data": {
      "text/plain": [
       "array([[22.4 , 23.17],\n",
       "       [22.42, 22.97],\n",
       "       [22.48, 22.77],\n",
       "       [22.63, 22.93],\n",
       "       [22.71, 22.95]])"
      ]
     },
     "execution_count": 40,
     "metadata": {},
     "output_type": "execute_result"
    }
   ],
   "source": [
    "daymin = windays['H', 'L'].agg(['min', 'max']).min(axis=1)[1:] # first day cannot have gap\n",
    "daymax = windays['H', 'L'].agg(['min', 'max']).max(axis=1)[1:]\n",
    "dayshl = np.stack((daymin, daymax), axis=-1)\n",
    "dayshl[-5:]"
   ]
  },
  {
   "cell_type": "markdown",
   "metadata": {},
   "source": [
    "Variation in points H and L after openning"
   ]
  },
  {
   "cell_type": "code",
   "execution_count": 41,
   "metadata": {},
   "outputs": [],
   "source": [
    "varhl = dayshl-open"
   ]
  },
  {
   "cell_type": "code",
   "execution_count": 42,
   "metadata": {},
   "outputs": [
    {
     "data": {
      "text/plain": [
       "array([[-0.67,  0.1 ],\n",
       "       [-0.2 ,  0.35],\n",
       "       [-0.19,  0.1 ],\n",
       "       [-0.17,  0.13],\n",
       "       [-0.02,  0.22]])"
      ]
     },
     "execution_count": 42,
     "metadata": {},
     "output_type": "execute_result"
    }
   ],
   "source": [
    "varhl[-5:]"
   ]
  },
  {
   "cell_type": "code",
   "execution_count": 43,
   "metadata": {},
   "outputs": [
    {
     "data": {
      "text/plain": [
       "array([[-0.02],\n",
       "       [ 0.22],\n",
       "       [ 0.16],\n",
       "       [ 0.27],\n",
       "       [-0.02]])"
      ]
     },
     "execution_count": 43,
     "metadata": {},
     "output_type": "execute_result"
    }
   ],
   "source": [
    "gaps[-5:]"
   ]
  },
  {
   "cell_type": "code",
   "execution_count": 44,
   "metadata": {
    "scrolled": true
   },
   "outputs": [
    {
     "data": {
      "text/plain": [
       "array([1, 1, 1, ..., 0, 0, 1])"
      ]
     },
     "execution_count": 44,
     "metadata": {},
     "output_type": "execute_result"
    }
   ],
   "source": [
    "gapsign = np.sign(gaps).ravel()\n",
    "select = gapsign-1\n",
    "select[select < 0] = 1\n",
    "select = select.ravel().astype(int)\n",
    "select"
   ]
  },
  {
   "cell_type": "markdown",
   "metadata": {},
   "source": [
    "Difference between the gap value in points due to an up or down to the corresponding low and high of the day."
   ]
  },
  {
   "cell_type": "code",
   "execution_count": 45,
   "metadata": {},
   "outputs": [
    {
     "data": {
      "text/plain": [
       "array([ 0.08,  0.02, -0.03,  0.1 ,  0.2 ])"
      ]
     },
     "execution_count": 45,
     "metadata": {},
     "output_type": "execute_result"
    }
   ],
   "source": [
    "gapdif = gaps.ravel() + varhl[np.arange(len(varhl)), select]\n",
    "gapdif[-5:]"
   ]
  },
  {
   "cell_type": "markdown",
   "metadata": {},
   "source": [
    "Gap sign\n",
    "\n",
    " - 1 means up gap \n",
    " - -1 means down gap"
   ]
  },
  {
   "cell_type": "code",
   "execution_count": 46,
   "metadata": {},
   "outputs": [
    {
     "data": {
      "text/plain": [
       "array([-1.,  1.,  1.,  1., -1.])"
      ]
     },
     "execution_count": 46,
     "metadata": {},
     "output_type": "execute_result"
    }
   ],
   "source": [
    "gapsign[-5:]"
   ]
  },
  {
   "cell_type": "markdown",
   "metadata": {},
   "source": [
    "Gap results \n",
    "\n",
    "  * bigger >= 0 means the gap was closed and even went further that many points\n",
    "  * smaller < 0 means the gap was not closed and that many points were the distance missing to close"
   ]
  },
  {
   "cell_type": "code",
   "execution_count": 47,
   "metadata": {},
   "outputs": [],
   "source": [
    "gapresult = gapdif*gapsign*-1"
   ]
  },
  {
   "cell_type": "code",
   "execution_count": 48,
   "metadata": {},
   "outputs": [
    {
     "data": {
      "text/plain": [
       "array([ 0.08, -0.02,  0.03, -0.1 ,  0.2 ])"
      ]
     },
     "execution_count": 48,
     "metadata": {},
     "output_type": "execute_result"
    }
   ],
   "source": [
    "gapresult[-5:]"
   ]
  },
  {
   "cell_type": "code",
   "execution_count": 49,
   "metadata": {},
   "outputs": [
    {
     "data": {
      "image/png": "[encoded data removed]",
      "text/plain": [
       "<Figure size 432x288 with 1 Axes>"
      ]
     },
     "metadata": {
      "needs_background": "light"
     },
     "output_type": "display_data"
    }
   ],
   "source": [
    "plt.hist(gapresult, bins=100);"
   ]
  },
  {
   "cell_type": "code",
   "execution_count": 50,
   "metadata": {},
   "outputs": [
    {
     "data": {
      "text/plain": [
       "0.8060897435897436"
      ]
     },
     "execution_count": 50,
     "metadata": {},
     "output_type": "execute_result"
    }
   ],
   "source": [
    "len(gapresult[gapresult >=0 ])/len(gapresult)"
   ]
  },
  {
   "cell_type": "code",
   "execution_count": 61,
   "metadata": {},
   "outputs": [
    {
     "data": {
      "text/plain": [
       "0.8842105263157894"
      ]
     },
     "execution_count": 61,
     "metadata": {},
     "output_type": "execute_result"
    }
   ],
   "source": [
    "iselected = np.argwhere( (abs(gaps.ravel()) < 0.10) )\n",
    "selectedgapresult = gapresult[iselected]\n",
    "len(selectedgapresult[selectedgapresult >=0 ])/len(selectedgapresult)"
   ]
  },
  {
   "cell_type": "code",
   "execution_count": 56,
   "metadata": {},
   "outputs": [
    {
     "data": {
      "text/plain": [
       "1.0"
      ]
     },
     "execution_count": 56,
     "metadata": {},
     "output_type": "execute_result"
    }
   ],
   "source": [
    "iselected = np.argwhere( abs(gaps.ravel()) > 0.57)\n",
    "selectedgapresult = gapresult[iselected]\n",
    "1.-(len(selectedgapresult[selectedgapresult >= 0 ])/len(selectedgapresult))"
   ]
  },
  {
   "cell_type": "markdown",
   "metadata": {},
   "source": [
    "### Some conclusions\n",
    " \n",
    " - roughly 80% of gaps close\n",
    " - gaps with less than 0.08 cents 91% times close!!\n",
    " - gaps with more than 0.57 cents 100% times never close!!"
   ]
  },
  {
   "cell_type": "markdown",
   "metadata": {},
   "source": [
    "### Make a classifier with Random Forest\n",
    "\n",
    "Gap will close or not?"
   ]
  },
  {
   "cell_type": "markdown",
   "metadata": {},
   "source": [
    "- day before above or bellow the moving average of 21D on Close\n",
    "- day before above or bellow the moving average of 200D on Close\n",
    "- day before after-market O-H-L-C\n",
    "- gap-day open price"
   ]
  },
  {
   "cell_type": "code",
   "execution_count": 58,
   "metadata": {},
   "outputs": [],
   "source": [
    "# plt.figure(figsize=(15,3))\n",
    "# plt.plot(win.index, win.C)\n",
    "# plt.plot(win.index, ta.MA(win.C, 21*60*8)) # 21D MA\n",
    "# plt.plot(win.index, ta.MA(win.C, 200*60*8)) #200D MA"
   ]
  }
 ],
 "metadata": {
  "kernelspec": {
   "display_name": "Python 3",
   "language": "python",
   "name": "python3"
  },
  "language_info": {
   "codemirror_mode": {
    "name": "ipython",
    "version": 3
   },
   "file_extension": ".py",
   "mimetype": "text/x-python",
   "name": "python",
   "nbconvert_exporter": "python",
   "pygments_lexer": "ipython3",
   "version": "3.6.8"
  }
 },
 "nbformat": 4,
 "nbformat_minor": 2
}
