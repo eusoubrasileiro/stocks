{
 "cells": [
  {
   "cell_type": "markdown",
   "metadata": {},
   "source": [
    "#### Using WIN@ \n",
    "\n",
    "Downloaded as .csv using Metatrader 5 \n",
    "\n",
    "#### Create my Candle Pattern predictor for next hour"
   ]
  },
  {
   "cell_type": "code",
   "execution_count": 1,
   "metadata": {},
   "outputs": [],
   "source": [
    "%matplotlib inline"
   ]
  },
  {
   "cell_type": "code",
   "execution_count": 2,
   "metadata": {},
   "outputs": [
    {
     "data": {
      "text/plain": [
       "'C:\\\\Users\\\\alferreira\\\\Documents\\\\stocks\\\\prototypes'"
      ]
     },
     "execution_count": 2,
     "metadata": {},
     "output_type": "execute_result"
    }
   ],
   "source": [
    "pwd"
   ]
  },
  {
   "cell_type": "code",
   "execution_count": 3,
   "metadata": {},
   "outputs": [
    {
     "name": "stdout",
     "output_type": "stream",
     "text": [
      "C:\\Users\\alferreira\\Documents\\stocks\n"
     ]
    }
   ],
   "source": [
    "cd .."
   ]
  },
  {
   "cell_type": "code",
   "execution_count": 4,
   "metadata": {},
   "outputs": [],
   "source": [
    "from matplotlib import pyplot as plt\n",
    "import os\n",
    "import sys\n",
    "import pandas as pd\n",
    "import numpy as np\n",
    "import struct\n",
    "import datetime\n",
    "import calendar\n",
    "import time\n",
    "import argparse\n",
    "import seaborn as sns\n",
    "from algos.util import progressbar\n",
    "from algos import prepareData, meta5Ibov\n",
    "from algos.nn import torchNN, torchCV, torchUtil\n",
    "import torch as th\n",
    "import scipy"
   ]
  },
  {
   "cell_type": "markdown",
   "metadata": {},
   "source": [
    "### Load Dow Jones 1 Century Data"
   ]
  },
  {
   "cell_type": "code",
   "execution_count": 5,
   "metadata": {},
   "outputs": [
    {
     "name": "stdout",
     "output_type": "stream",
     "text": [
      "C:\\Users\\alferreira\\Documents\\stocks\\data\n"
     ]
    }
   ],
   "source": [
    "cd data"
   ]
  },
  {
   "cell_type": "code",
   "execution_count": 6,
   "metadata": {},
   "outputs": [
    {
     "data": {
      "text/plain": [
       "'C:\\\\Users\\\\alferreira\\\\Documents\\\\stocks\\\\data'"
      ]
     },
     "execution_count": 6,
     "metadata": {},
     "output_type": "execute_result"
    }
   ],
   "source": [
    "pwd"
   ]
  },
  {
   "cell_type": "markdown",
   "metadata": {},
   "source": [
    "### Devido ao desdobramento de ações, divisão de ações melhor usar o Ibovespa"
   ]
  },
  {
   "cell_type": "code",
   "execution_count": 7,
   "metadata": {},
   "outputs": [],
   "source": [
    "dow = pd.read_csv('WIN@_H1_2013_2018.csv', delimiter='\\t',\n",
    "                 na_values=['null', '0'], \n",
    "                names=['Date', 'Time', 'Open', 'High', 'Low', 'Close', 'TickVol', 'Volume', 'Spread'],\n",
    "                header=0)"
   ]
  },
  {
   "cell_type": "code",
   "execution_count": 8,
   "metadata": {},
   "outputs": [
    {
     "data": {
      "text/html": [
       "<div>\n",
       "<style scoped>\n",
       "    .dataframe tbody tr th:only-of-type {\n",
       "        vertical-align: middle;\n",
       "    }\n",
       "\n",
       "    .dataframe tbody tr th {\n",
       "        vertical-align: top;\n",
       "    }\n",
       "\n",
       "    .dataframe thead th {\n",
       "        text-align: right;\n",
       "    }\n",
       "</style>\n",
       "<table border=\"1\" class=\"dataframe\">\n",
       "  <thead>\n",
       "    <tr style=\"text-align: right;\">\n",
       "      <th></th>\n",
       "      <th>Date</th>\n",
       "      <th>Time</th>\n",
       "      <th>Open</th>\n",
       "      <th>High</th>\n",
       "      <th>Low</th>\n",
       "      <th>Close</th>\n",
       "      <th>TickVol</th>\n",
       "      <th>Volume</th>\n",
       "      <th>Spread</th>\n",
       "    </tr>\n",
       "  </thead>\n",
       "  <tbody>\n",
       "    <tr>\n",
       "      <th>11663</th>\n",
       "      <td>2019.02.08</td>\n",
       "      <td>14:00:00</td>\n",
       "      <td>94150</td>\n",
       "      <td>94275</td>\n",
       "      <td>93440</td>\n",
       "      <td>94160</td>\n",
       "      <td>253714</td>\n",
       "      <td>921049</td>\n",
       "      <td>NaN</td>\n",
       "    </tr>\n",
       "    <tr>\n",
       "      <th>11664</th>\n",
       "      <td>2019.02.08</td>\n",
       "      <td>15:00:00</td>\n",
       "      <td>94155</td>\n",
       "      <td>95025</td>\n",
       "      <td>94065</td>\n",
       "      <td>94945</td>\n",
       "      <td>190812</td>\n",
       "      <td>781287</td>\n",
       "      <td>NaN</td>\n",
       "    </tr>\n",
       "    <tr>\n",
       "      <th>11665</th>\n",
       "      <td>2019.02.08</td>\n",
       "      <td>16:00:00</td>\n",
       "      <td>94945</td>\n",
       "      <td>95250</td>\n",
       "      <td>94675</td>\n",
       "      <td>95035</td>\n",
       "      <td>153068</td>\n",
       "      <td>603484</td>\n",
       "      <td>NaN</td>\n",
       "    </tr>\n",
       "    <tr>\n",
       "      <th>11666</th>\n",
       "      <td>2019.02.08</td>\n",
       "      <td>17:00:00</td>\n",
       "      <td>95040</td>\n",
       "      <td>95620</td>\n",
       "      <td>94970</td>\n",
       "      <td>95425</td>\n",
       "      <td>112216</td>\n",
       "      <td>486874</td>\n",
       "      <td>NaN</td>\n",
       "    </tr>\n",
       "    <tr>\n",
       "      <th>11667</th>\n",
       "      <td>2019.02.08</td>\n",
       "      <td>18:00:00</td>\n",
       "      <td>95425</td>\n",
       "      <td>95515</td>\n",
       "      <td>95070</td>\n",
       "      <td>95070</td>\n",
       "      <td>8830</td>\n",
       "      <td>39156</td>\n",
       "      <td>NaN</td>\n",
       "    </tr>\n",
       "  </tbody>\n",
       "</table>\n",
       "</div>"
      ],
      "text/plain": [
       "             Date      Time   Open   High    Low  Close  TickVol  Volume  \\\n",
       "11663  2019.02.08  14:00:00  94150  94275  93440  94160   253714  921049   \n",
       "11664  2019.02.08  15:00:00  94155  95025  94065  94945   190812  781287   \n",
       "11665  2019.02.08  16:00:00  94945  95250  94675  95035   153068  603484   \n",
       "11666  2019.02.08  17:00:00  95040  95620  94970  95425   112216  486874   \n",
       "11667  2019.02.08  18:00:00  95425  95515  95070  95070     8830   39156   \n",
       "\n",
       "       Spread  \n",
       "11663     NaN  \n",
       "11664     NaN  \n",
       "11665     NaN  \n",
       "11666     NaN  \n",
       "11667     NaN  "
      ]
     },
     "execution_count": 8,
     "metadata": {},
     "output_type": "execute_result"
    }
   ],
   "source": [
    "dow.tail()"
   ]
  },
  {
   "cell_type": "code",
   "execution_count": 9,
   "metadata": {},
   "outputs": [],
   "source": [
    "# for yahooo finance data\n",
    "#dow['Close'] = dow['Adj Close']  \n",
    "dow.drop(['TickVol', 'Spread'], axis=1, inplace=True) # Close is better than Adjusted Close\n",
    "# 1/3%"
   ]
  },
  {
   "cell_type": "code",
   "execution_count": 10,
   "metadata": {},
   "outputs": [
    {
     "data": {
      "text/plain": [
       "0"
      ]
     },
     "execution_count": 10,
     "metadata": {},
     "output_type": "execute_result"
    }
   ],
   "source": [
    "dow.isnull().sum().sum() # total number of cells with nans "
   ]
  },
  {
   "cell_type": "code",
   "execution_count": 11,
   "metadata": {},
   "outputs": [],
   "source": [
    "dow.dropna(inplace=True)"
   ]
  },
  {
   "cell_type": "markdown",
   "metadata": {},
   "source": [
    "Convert to datetime Date"
   ]
  },
  {
   "cell_type": "code",
   "execution_count": 12,
   "metadata": {},
   "outputs": [],
   "source": [
    "dow.Date = pd.to_datetime(dow.Date+' '+dow.Time)"
   ]
  },
  {
   "cell_type": "code",
   "execution_count": 13,
   "metadata": {},
   "outputs": [
    {
     "data": {
      "text/html": [
       "<div>\n",
       "<style scoped>\n",
       "    .dataframe tbody tr th:only-of-type {\n",
       "        vertical-align: middle;\n",
       "    }\n",
       "\n",
       "    .dataframe tbody tr th {\n",
       "        vertical-align: top;\n",
       "    }\n",
       "\n",
       "    .dataframe thead th {\n",
       "        text-align: right;\n",
       "    }\n",
       "</style>\n",
       "<table border=\"1\" class=\"dataframe\">\n",
       "  <thead>\n",
       "    <tr style=\"text-align: right;\">\n",
       "      <th></th>\n",
       "      <th>Date</th>\n",
       "      <th>Time</th>\n",
       "      <th>Open</th>\n",
       "      <th>High</th>\n",
       "      <th>Low</th>\n",
       "      <th>Close</th>\n",
       "      <th>Volume</th>\n",
       "    </tr>\n",
       "  </thead>\n",
       "  <tbody>\n",
       "    <tr>\n",
       "      <th>0</th>\n",
       "      <td>2013-12-12 09:00:00</td>\n",
       "      <td>09:00:00</td>\n",
       "      <td>77531</td>\n",
       "      <td>77982</td>\n",
       "      <td>77469</td>\n",
       "      <td>77834</td>\n",
       "      <td>14143</td>\n",
       "    </tr>\n",
       "    <tr>\n",
       "      <th>1</th>\n",
       "      <td>2013-12-12 10:00:00</td>\n",
       "      <td>10:00:00</td>\n",
       "      <td>77826</td>\n",
       "      <td>78106</td>\n",
       "      <td>77756</td>\n",
       "      <td>77826</td>\n",
       "      <td>24654</td>\n",
       "    </tr>\n",
       "  </tbody>\n",
       "</table>\n",
       "</div>"
      ],
      "text/plain": [
       "                 Date      Time   Open   High    Low  Close  Volume\n",
       "0 2013-12-12 09:00:00  09:00:00  77531  77982  77469  77834   14143\n",
       "1 2013-12-12 10:00:00  10:00:00  77826  78106  77756  77826   24654"
      ]
     },
     "execution_count": 13,
     "metadata": {},
     "output_type": "execute_result"
    }
   ],
   "source": [
    "dow.head(2)"
   ]
  },
  {
   "cell_type": "code",
   "execution_count": 14,
   "metadata": {},
   "outputs": [],
   "source": [
    "dow.set_index(dow.Date, drop=True, inplace=True);"
   ]
  },
  {
   "cell_type": "code",
   "execution_count": 15,
   "metadata": {},
   "outputs": [],
   "source": [
    "dow.drop(['Date', 'Time'], axis=1, inplace=True)"
   ]
  },
  {
   "cell_type": "markdown",
   "metadata": {},
   "source": [
    "### Fake Algo Random Data test"
   ]
  },
  {
   "cell_type": "code",
   "execution_count": 16,
   "metadata": {},
   "outputs": [
    {
     "data": {
      "text/plain": [
       "(11668, 5)"
      ]
     },
     "execution_count": 16,
     "metadata": {},
     "output_type": "execute_result"
    }
   ],
   "source": [
    "dow.shape"
   ]
  },
  {
   "cell_type": "code",
   "execution_count": 17,
   "metadata": {},
   "outputs": [],
   "source": [
    "#dow.iloc[:, :] = np.abs(np.random.rand(11668, 5)*10000)"
   ]
  },
  {
   "cell_type": "markdown",
   "metadata": {},
   "source": [
    "### **Let's create the up/down class for each day compared with the previous**"
   ]
  },
  {
   "cell_type": "code",
   "execution_count": 18,
   "metadata": {},
   "outputs": [],
   "source": [
    "dow['updown'] = np.nan"
   ]
  },
  {
   "cell_type": "markdown",
   "metadata": {},
   "source": [
    "We are pushing the days were there were no movement to the down. "
   ]
  },
  {
   "cell_type": "code",
   "execution_count": 19,
   "metadata": {},
   "outputs": [
    {
     "name": "stderr",
     "output_type": "stream",
     "text": [
      "C:\\Users\\alferreira\\AppData\\Local\\Continuum\\anaconda3\\lib\\site-packages\\pandas\\core\\indexing.py:189: SettingWithCopyWarning: \n",
      "A value is trying to be set on a copy of a slice from a DataFrame\n",
      "\n",
      "See the caveats in the documentation: http://pandas.pydata.org/pandas-docs/stable/indexing.html#indexing-view-versus-copy\n",
      "  self._setitem_with_indexer(indexer, value)\n"
     ]
    }
   ],
   "source": [
    "# candles on close\n",
    "dow.updown.iloc[1:] = dow.iloc[1:].Close.values > dow.iloc[:-1].Close.values \n",
    "dow.updown = dow.updown.map(lambda x: 1 if x else 0)"
   ]
  },
  {
   "cell_type": "code",
   "execution_count": 20,
   "metadata": {},
   "outputs": [],
   "source": [
    "dow.updown.values[0] = -1 # first day has no info"
   ]
  },
  {
   "cell_type": "code",
   "execution_count": 21,
   "metadata": {},
   "outputs": [
    {
     "data": {
      "text/html": [
       "<div>\n",
       "<style scoped>\n",
       "    .dataframe tbody tr th:only-of-type {\n",
       "        vertical-align: middle;\n",
       "    }\n",
       "\n",
       "    .dataframe tbody tr th {\n",
       "        vertical-align: top;\n",
       "    }\n",
       "\n",
       "    .dataframe thead th {\n",
       "        text-align: right;\n",
       "    }\n",
       "</style>\n",
       "<table border=\"1\" class=\"dataframe\">\n",
       "  <thead>\n",
       "    <tr style=\"text-align: right;\">\n",
       "      <th></th>\n",
       "      <th>Open</th>\n",
       "      <th>High</th>\n",
       "      <th>Low</th>\n",
       "      <th>Close</th>\n",
       "      <th>Volume</th>\n",
       "      <th>updown</th>\n",
       "    </tr>\n",
       "    <tr>\n",
       "      <th>Date</th>\n",
       "      <th></th>\n",
       "      <th></th>\n",
       "      <th></th>\n",
       "      <th></th>\n",
       "      <th></th>\n",
       "      <th></th>\n",
       "    </tr>\n",
       "  </thead>\n",
       "  <tbody>\n",
       "    <tr>\n",
       "      <th>2013-12-12 09:00:00</th>\n",
       "      <td>77531</td>\n",
       "      <td>77982</td>\n",
       "      <td>77469</td>\n",
       "      <td>77834</td>\n",
       "      <td>14143</td>\n",
       "      <td>-1</td>\n",
       "    </tr>\n",
       "    <tr>\n",
       "      <th>2013-12-12 10:00:00</th>\n",
       "      <td>77826</td>\n",
       "      <td>78106</td>\n",
       "      <td>77756</td>\n",
       "      <td>77826</td>\n",
       "      <td>24654</td>\n",
       "      <td>0</td>\n",
       "    </tr>\n",
       "    <tr>\n",
       "      <th>2013-12-12 11:00:00</th>\n",
       "      <td>77826</td>\n",
       "      <td>77888</td>\n",
       "      <td>77446</td>\n",
       "      <td>77857</td>\n",
       "      <td>29381</td>\n",
       "      <td>1</td>\n",
       "    </tr>\n",
       "    <tr>\n",
       "      <th>2013-12-12 12:00:00</th>\n",
       "      <td>77865</td>\n",
       "      <td>78028</td>\n",
       "      <td>77570</td>\n",
       "      <td>77625</td>\n",
       "      <td>26368</td>\n",
       "      <td>0</td>\n",
       "    </tr>\n",
       "    <tr>\n",
       "      <th>2013-12-12 13:00:00</th>\n",
       "      <td>77625</td>\n",
       "      <td>77725</td>\n",
       "      <td>77330</td>\n",
       "      <td>77531</td>\n",
       "      <td>25854</td>\n",
       "      <td>0</td>\n",
       "    </tr>\n",
       "  </tbody>\n",
       "</table>\n",
       "</div>"
      ],
      "text/plain": [
       "                      Open   High    Low  Close  Volume  updown\n",
       "Date                                                           \n",
       "2013-12-12 09:00:00  77531  77982  77469  77834   14143      -1\n",
       "2013-12-12 10:00:00  77826  78106  77756  77826   24654       0\n",
       "2013-12-12 11:00:00  77826  77888  77446  77857   29381       1\n",
       "2013-12-12 12:00:00  77865  78028  77570  77625   26368       0\n",
       "2013-12-12 13:00:00  77625  77725  77330  77531   25854       0"
      ]
     },
     "execution_count": 21,
     "metadata": {},
     "output_type": "execute_result"
    }
   ],
   "source": [
    "dow.head()"
   ]
  },
  {
   "cell_type": "code",
   "execution_count": 22,
   "metadata": {
    "scrolled": true
   },
   "outputs": [
    {
     "data": {
      "text/html": [
       "<div>\n",
       "<style scoped>\n",
       "    .dataframe tbody tr th:only-of-type {\n",
       "        vertical-align: middle;\n",
       "    }\n",
       "\n",
       "    .dataframe tbody tr th {\n",
       "        vertical-align: top;\n",
       "    }\n",
       "\n",
       "    .dataframe thead th {\n",
       "        text-align: right;\n",
       "    }\n",
       "</style>\n",
       "<table border=\"1\" class=\"dataframe\">\n",
       "  <thead>\n",
       "    <tr style=\"text-align: right;\">\n",
       "      <th></th>\n",
       "      <th>Open</th>\n",
       "      <th>High</th>\n",
       "      <th>Low</th>\n",
       "      <th>Close</th>\n",
       "      <th>Volume</th>\n",
       "      <th>updown</th>\n",
       "    </tr>\n",
       "    <tr>\n",
       "      <th>Date</th>\n",
       "      <th></th>\n",
       "      <th></th>\n",
       "      <th></th>\n",
       "      <th></th>\n",
       "      <th></th>\n",
       "      <th></th>\n",
       "    </tr>\n",
       "  </thead>\n",
       "  <tbody>\n",
       "    <tr>\n",
       "      <th>2019-02-08 14:00:00</th>\n",
       "      <td>94150</td>\n",
       "      <td>94275</td>\n",
       "      <td>93440</td>\n",
       "      <td>94160</td>\n",
       "      <td>921049</td>\n",
       "      <td>1</td>\n",
       "    </tr>\n",
       "    <tr>\n",
       "      <th>2019-02-08 15:00:00</th>\n",
       "      <td>94155</td>\n",
       "      <td>95025</td>\n",
       "      <td>94065</td>\n",
       "      <td>94945</td>\n",
       "      <td>781287</td>\n",
       "      <td>1</td>\n",
       "    </tr>\n",
       "    <tr>\n",
       "      <th>2019-02-08 16:00:00</th>\n",
       "      <td>94945</td>\n",
       "      <td>95250</td>\n",
       "      <td>94675</td>\n",
       "      <td>95035</td>\n",
       "      <td>603484</td>\n",
       "      <td>1</td>\n",
       "    </tr>\n",
       "    <tr>\n",
       "      <th>2019-02-08 17:00:00</th>\n",
       "      <td>95040</td>\n",
       "      <td>95620</td>\n",
       "      <td>94970</td>\n",
       "      <td>95425</td>\n",
       "      <td>486874</td>\n",
       "      <td>1</td>\n",
       "    </tr>\n",
       "    <tr>\n",
       "      <th>2019-02-08 18:00:00</th>\n",
       "      <td>95425</td>\n",
       "      <td>95515</td>\n",
       "      <td>95070</td>\n",
       "      <td>95070</td>\n",
       "      <td>39156</td>\n",
       "      <td>0</td>\n",
       "    </tr>\n",
       "  </tbody>\n",
       "</table>\n",
       "</div>"
      ],
      "text/plain": [
       "                      Open   High    Low  Close  Volume  updown\n",
       "Date                                                           \n",
       "2019-02-08 14:00:00  94150  94275  93440  94160  921049       1\n",
       "2019-02-08 15:00:00  94155  95025  94065  94945  781287       1\n",
       "2019-02-08 16:00:00  94945  95250  94675  95035  603484       1\n",
       "2019-02-08 17:00:00  95040  95620  94970  95425  486874       1\n",
       "2019-02-08 18:00:00  95425  95515  95070  95070   39156       0"
      ]
     },
     "execution_count": 22,
     "metadata": {},
     "output_type": "execute_result"
    }
   ],
   "source": [
    "dow.tail()"
   ]
  },
  {
   "cell_type": "code",
   "execution_count": 23,
   "metadata": {},
   "outputs": [],
   "source": [
    "#dow.Close.resample('D') # maybe use this someday"
   ]
  },
  {
   "cell_type": "markdown",
   "metadata": {},
   "source": [
    "### Lets take a look on that data"
   ]
  },
  {
   "cell_type": "code",
   "execution_count": 24,
   "metadata": {},
   "outputs": [
    {
     "data": {
      "text/plain": [
       "[<matplotlib.lines.Line2D at 0x145d8fbbf28>]"
      ]
     },
     "execution_count": 24,
     "metadata": {},
     "output_type": "execute_result"
    },
    {
     "data": {
      "image/png": "[encoded data removed]",
      "text/plain": [
       "<Figure size 1080x144 with 1 Axes>"
      ]
     },
     "metadata": {
      "needs_background": "light"
     },
     "output_type": "display_data"
    },
    {
     "data": {
      "image/png": "[encoded data removed]",
      "text/plain": [
       "<Figure size 1080x144 with 1 Axes>"
      ]
     },
     "metadata": {
      "needs_background": "light"
     },
     "output_type": "display_data"
    }
   ],
   "source": [
    "plt.figure(figsize=(15,2))\n",
    "plt.plot(dow.Close) # dow.index.map(lambda x: x.year)\n",
    "plt.figure(figsize=(15,2))\n",
    "plt.plot(dow.Volume) # dow.index.map(lambda x: x.year)"
   ]
  },
  {
   "cell_type": "code",
   "execution_count": 25,
   "metadata": {},
   "outputs": [
    {
     "data": {
      "text/plain": [
       "Date\n",
       "2013-12-12 09:00:00    14143\n",
       "2013-12-12 10:00:00    24654\n",
       "2013-12-12 11:00:00    29381\n",
       "2013-12-12 12:00:00    26368\n",
       "2013-12-12 13:00:00    25854\n",
       "Name: Volume, dtype: int64"
      ]
     },
     "execution_count": 25,
     "metadata": {},
     "output_type": "execute_result"
    }
   ],
   "source": [
    "dow.Volume.head()"
   ]
  },
  {
   "cell_type": "markdown",
   "metadata": {},
   "source": [
    "#### Since the data is `exponentially` increasing lets see if we can detrend it.\n",
    "Lets first use a simple log function"
   ]
  },
  {
   "cell_type": "code",
   "execution_count": 26,
   "metadata": {},
   "outputs": [
    {
     "data": {
      "text/plain": [
       "[<matplotlib.lines.Line2D at 0x145da37fd68>]"
      ]
     },
     "execution_count": 26,
     "metadata": {},
     "output_type": "execute_result"
    },
    {
     "data": {
      "image/png": "[encoded data removed]",
      "text/plain": [
       "<Figure size 1080x144 with 1 Axes>"
      ]
     },
     "metadata": {
      "needs_background": "light"
     },
     "output_type": "display_data"
    },
    {
     "data": {
      "image/png": "[encoded data removed]",
      "text/plain": [
       "<Figure size 1080x144 with 1 Axes>"
      ]
     },
     "metadata": {
      "needs_background": "light"
     },
     "output_type": "display_data"
    }
   ],
   "source": [
    "plt.figure(figsize=(15,2))\n",
    "plt.plot(np.log(dow.Close)) # dow.index.map(lambda x: x.year)\n",
    "plt.figure(figsize=(15,2))\n",
    "plt.plot(np.log(dow.Volume)) # dow.index.map(lambda x: x.year)"
   ]
  },
  {
   "cell_type": "code",
   "execution_count": 27,
   "metadata": {},
   "outputs": [],
   "source": [
    "for column in dow.columns[:-1]: # all less the up/down class\n",
    "    dow.loc[:, column] = np.log(dow.loc[:, column].values)"
   ]
  },
  {
   "cell_type": "markdown",
   "metadata": {},
   "source": [
    "For simplicity a linear detrend to solve the rest.  First try did not pose nice results.  \n",
    "Use it just for viewing. \n",
    "\n",
    "But since we are trying to analyse a specific time-scale 5/6 days all other variations are noise to us. So let's try to remove a moving average of three weeks (3*5=15 days). Need to figure out a better.  "
   ]
  },
  {
   "cell_type": "code",
   "execution_count": 28,
   "metadata": {},
   "outputs": [],
   "source": [
    "from scipy.signal import detrend\n",
    "dowv = dow.copy()\n",
    "dowv.values[:, :5] = detrend(dow.values[:,:5], axis=0, type='linear')"
   ]
  },
  {
   "cell_type": "code",
   "execution_count": 29,
   "metadata": {},
   "outputs": [
    {
     "data": {
      "text/plain": [
       "Text(0.5, 1.0, 'Just for viewing data')"
      ]
     },
     "execution_count": 29,
     "metadata": {},
     "output_type": "execute_result"
    },
    {
     "data": {
      "image/png": "[encoded data removed]",
      "text/plain": [
       "<Figure size 1008x144 with 1 Axes>"
      ]
     },
     "metadata": {
      "needs_background": "light"
     },
     "output_type": "display_data"
    }
   ],
   "source": [
    "plt.figure(figsize=(14,2))\n",
    "plt.plot(dowv.Close)\n",
    "plt.title('Just for viewing data')"
   ]
  },
  {
   "cell_type": "code",
   "execution_count": 30,
   "metadata": {},
   "outputs": [],
   "source": [
    "import talib as ta"
   ]
  },
  {
   "cell_type": "code",
   "execution_count": 31,
   "metadata": {},
   "outputs": [
    {
     "data": {
      "text/plain": [
       "11668"
      ]
     },
     "execution_count": 31,
     "metadata": {},
     "output_type": "execute_result"
    }
   ],
   "source": [
    "len(dow)"
   ]
  },
  {
   "cell_type": "code",
   "execution_count": 32,
   "metadata": {},
   "outputs": [],
   "source": [
    "# this will need to change to a EMA or SMA due future data dependence\n",
    "for col in range(5):\n",
    "    #trend = np.convolve(dow.iloc[:, col], np.ones((15,))/15, mode='valid') \n",
    "    trend = ta.SMA(dow.iloc[:, col].values.astype(np.double), 2)\n",
    "    #dow.iloc[7:-7, col] -= trend # to fit at the center -7 + 7 samples are border\n",
    "    dow.iloc[:, col] -= trend # to fit at the center -7 + 7 samples are border\n",
    "# dow.drop(dow.index[:7], inplace=True) # due border effect\n",
    "# dow.drop(dow.index[-7:], inplace=True)"
   ]
  },
  {
   "cell_type": "code",
   "execution_count": 33,
   "metadata": {},
   "outputs": [],
   "source": [
    "dow.dropna(inplace=True) # drop first nan value and meaningless UpDown value"
   ]
  },
  {
   "cell_type": "code",
   "execution_count": 34,
   "metadata": {},
   "outputs": [
    {
     "data": {
      "text/plain": [
       "11667"
      ]
     },
     "execution_count": 34,
     "metadata": {},
     "output_type": "execute_result"
    }
   ],
   "source": [
    "len(dow)"
   ]
  },
  {
   "cell_type": "code",
   "execution_count": 35,
   "metadata": {},
   "outputs": [],
   "source": [
    "dowv = dowv.loc[dow.index] # update the viewing "
   ]
  },
  {
   "cell_type": "code",
   "execution_count": 36,
   "metadata": {},
   "outputs": [
    {
     "data": {
      "text/plain": [
       "[<matplotlib.lines.Line2D at 0x145da501b38>]"
      ]
     },
     "execution_count": 36,
     "metadata": {},
     "output_type": "execute_result"
    },
    {
     "data": {
      "image/png": "[encoded data removed]",
      "text/plain": [
       "<Figure size 1080x144 with 1 Axes>"
      ]
     },
     "metadata": {
      "needs_background": "light"
     },
     "output_type": "display_data"
    },
    {
     "data": {
      "image/png": "[encoded data removed]",
      "text/plain": [
       "<Figure size 1080x144 with 1 Axes>"
      ]
     },
     "metadata": {
      "needs_background": "light"
     },
     "output_type": "display_data"
    }
   ],
   "source": [
    "plt.figure(figsize=(15,2))\n",
    "plt.plot(dow.Close) # dow.index.map(lambda x: x.year)\n",
    "plt.figure(figsize=(15,2))\n",
    "plt.plot(dow.Volume) # dow.index.map(lambda x: x.year)"
   ]
  },
  {
   "cell_type": "markdown",
   "metadata": {},
   "source": [
    "For while, let inflation be!   \n",
    "Will just calculate pattern of candles.   "
   ]
  },
  {
   "cell_type": "code",
   "execution_count": 37,
   "metadata": {},
   "outputs": [],
   "source": [
    "dow['sup'] = np.nan"
   ]
  },
  {
   "cell_type": "markdown",
   "metadata": {},
   "source": [
    "We are pushing the days were there were no movement to the down. "
   ]
  },
  {
   "cell_type": "code",
   "execution_count": 38,
   "metadata": {},
   "outputs": [],
   "source": [
    "# candles on close\n",
    "dow.sup.iloc[1:] = dow.iloc[1:].Close.values > dow.iloc[:-1].Close.values \n",
    "dow.sup = dow.sup.map(lambda x: 1 if x else 0)"
   ]
  },
  {
   "cell_type": "code",
   "execution_count": 39,
   "metadata": {},
   "outputs": [],
   "source": [
    "#dow.sup.values[0] = 0 # first day has no info - but lets not contaminated the mean"
   ]
  },
  {
   "cell_type": "markdown",
   "metadata": {},
   "source": [
    "Let's drop the first sample due no info and nans on the **trend** removed"
   ]
  },
  {
   "cell_type": "code",
   "execution_count": 40,
   "metadata": {},
   "outputs": [],
   "source": [
    "dow = dow[1:]\n",
    "dowv = dowv[1:]"
   ]
  },
  {
   "cell_type": "code",
   "execution_count": 41,
   "metadata": {},
   "outputs": [],
   "source": [
    "dowv['sup'] = dow.sup.copy()"
   ]
  },
  {
   "cell_type": "markdown",
   "metadata": {},
   "source": [
    "### Lets Standardize data before creating the training Vector or Feature Vector X\n",
    "\n",
    "From the histograms we can see there is no class in-balance at first look. "
   ]
  },
  {
   "cell_type": "code",
   "execution_count": 42,
   "metadata": {},
   "outputs": [
    {
     "data": {
      "image/png": "[encoded data removed]",
      "text/plain": [
       "<Figure size 1080x720 with 6 Axes>"
      ]
     },
     "metadata": {
      "needs_background": "light"
     },
     "output_type": "display_data"
    }
   ],
   "source": [
    "dow.iloc[:, :5].hist(bins=100, figsize=(15,10));"
   ]
  },
  {
   "cell_type": "code",
   "execution_count": 43,
   "metadata": {},
   "outputs": [
    {
     "data": {
      "text/html": [
       "<div>\n",
       "<style scoped>\n",
       "    .dataframe tbody tr th:only-of-type {\n",
       "        vertical-align: middle;\n",
       "    }\n",
       "\n",
       "    .dataframe tbody tr th {\n",
       "        vertical-align: top;\n",
       "    }\n",
       "\n",
       "    .dataframe thead th {\n",
       "        text-align: right;\n",
       "    }\n",
       "</style>\n",
       "<table border=\"1\" class=\"dataframe\">\n",
       "  <thead>\n",
       "    <tr style=\"text-align: right;\">\n",
       "      <th></th>\n",
       "      <th>Open</th>\n",
       "      <th>High</th>\n",
       "      <th>Low</th>\n",
       "      <th>Close</th>\n",
       "      <th>Volume</th>\n",
       "      <th>updown</th>\n",
       "      <th>sup</th>\n",
       "    </tr>\n",
       "    <tr>\n",
       "      <th>Date</th>\n",
       "      <th></th>\n",
       "      <th></th>\n",
       "      <th></th>\n",
       "      <th></th>\n",
       "      <th></th>\n",
       "      <th></th>\n",
       "      <th></th>\n",
       "    </tr>\n",
       "  </thead>\n",
       "  <tbody>\n",
       "    <tr>\n",
       "      <th>2013-12-12 11:00:00</th>\n",
       "      <td>1.776357e-15</td>\n",
       "      <td>-0.001397</td>\n",
       "      <td>-0.001997</td>\n",
       "      <td>0.000199</td>\n",
       "      <td>0.087705</td>\n",
       "      <td>1</td>\n",
       "      <td>1</td>\n",
       "    </tr>\n",
       "  </tbody>\n",
       "</table>\n",
       "</div>"
      ],
      "text/plain": [
       "                             Open      High       Low     Close    Volume  \\\n",
       "Date                                                                        \n",
       "2013-12-12 11:00:00  1.776357e-15 -0.001397 -0.001997  0.000199  0.087705   \n",
       "\n",
       "                     updown  sup  \n",
       "Date                              \n",
       "2013-12-12 11:00:00       1    1  "
      ]
     },
     "execution_count": 43,
     "metadata": {},
     "output_type": "execute_result"
    }
   ],
   "source": [
    "dow.head(1)"
   ]
  },
  {
   "cell_type": "code",
   "execution_count": 44,
   "metadata": {},
   "outputs": [],
   "source": [
    "newcolumns=dow.columns[:-2].tolist()\n",
    "newcolumns.extend(['sup', 'updown'])\n",
    "dow = dow.reindex(columns=newcolumns)\n",
    "dowv = dowv.reindex(columns=newcolumns)"
   ]
  },
  {
   "cell_type": "code",
   "execution_count": 45,
   "metadata": {
    "scrolled": true
   },
   "outputs": [
    {
     "data": {
      "text/html": [
       "<div>\n",
       "<style scoped>\n",
       "    .dataframe tbody tr th:only-of-type {\n",
       "        vertical-align: middle;\n",
       "    }\n",
       "\n",
       "    .dataframe tbody tr th {\n",
       "        vertical-align: top;\n",
       "    }\n",
       "\n",
       "    .dataframe thead th {\n",
       "        text-align: right;\n",
       "    }\n",
       "</style>\n",
       "<table border=\"1\" class=\"dataframe\">\n",
       "  <thead>\n",
       "    <tr style=\"text-align: right;\">\n",
       "      <th></th>\n",
       "      <th>Open</th>\n",
       "      <th>High</th>\n",
       "      <th>Low</th>\n",
       "      <th>Close</th>\n",
       "      <th>Volume</th>\n",
       "      <th>sup</th>\n",
       "      <th>updown</th>\n",
       "    </tr>\n",
       "    <tr>\n",
       "      <th>Date</th>\n",
       "      <th></th>\n",
       "      <th></th>\n",
       "      <th></th>\n",
       "      <th></th>\n",
       "      <th></th>\n",
       "      <th></th>\n",
       "      <th></th>\n",
       "    </tr>\n",
       "  </thead>\n",
       "  <tbody>\n",
       "    <tr>\n",
       "      <th>2013-12-12 11:00:00</th>\n",
       "      <td>1.776357e-15</td>\n",
       "      <td>-0.001397</td>\n",
       "      <td>-0.001997</td>\n",
       "      <td>0.000199</td>\n",
       "      <td>0.087705</td>\n",
       "      <td>1</td>\n",
       "      <td>1</td>\n",
       "    </tr>\n",
       "  </tbody>\n",
       "</table>\n",
       "</div>"
      ],
      "text/plain": [
       "                             Open      High       Low     Close    Volume  \\\n",
       "Date                                                                        \n",
       "2013-12-12 11:00:00  1.776357e-15 -0.001397 -0.001997  0.000199  0.087705   \n",
       "\n",
       "                     sup  updown  \n",
       "Date                              \n",
       "2013-12-12 11:00:00    1       1  "
      ]
     },
     "execution_count": 45,
     "metadata": {},
     "output_type": "execute_result"
    }
   ],
   "source": [
    "dow.head(1)"
   ]
  },
  {
   "cell_type": "code",
   "execution_count": 46,
   "metadata": {},
   "outputs": [],
   "source": [
    "from sklearn import preprocessing\n",
    "from sklearn.preprocessing import RobustScaler"
   ]
  },
  {
   "cell_type": "code",
   "execution_count": 47,
   "metadata": {},
   "outputs": [],
   "source": [
    "quantile_transformer = preprocessing.QuantileTransformer(\n",
    "    output_distribution='normal', random_state=0)\n",
    "\n",
    "X_trans = quantile_transformer.fit_transform(dow.values[:,:-2])"
   ]
  },
  {
   "cell_type": "code",
   "execution_count": 48,
   "metadata": {},
   "outputs": [
    {
     "data": {
      "text/plain": [
       "(11666, 5)"
      ]
     },
     "execution_count": 48,
     "metadata": {},
     "output_type": "execute_result"
    }
   ],
   "source": [
    "X_trans.shape"
   ]
  },
  {
   "cell_type": "code",
   "execution_count": 49,
   "metadata": {},
   "outputs": [
    {
     "data": {
      "image/png": "[encoded data removed]",
      "text/plain": [
       "<Figure size 288x144 with 1 Axes>"
      ]
     },
     "metadata": {
      "needs_background": "light"
     },
     "output_type": "display_data"
    }
   ],
   "source": [
    "plt.figure(figsize=(4,2))\n",
    "plt.hist(X_trans[:,4], bins=100);"
   ]
  },
  {
   "cell_type": "code",
   "execution_count": 50,
   "metadata": {},
   "outputs": [
    {
     "data": {
      "text/plain": [
       "(-0.00010077143354168453, 1.000485200648405)"
      ]
     },
     "execution_count": 50,
     "metadata": {},
     "output_type": "execute_result"
    }
   ],
   "source": [
    "np.mean(X_trans[:,4]), np.std(X_trans[:,4])"
   ]
  },
  {
   "cell_type": "code",
   "execution_count": 51,
   "metadata": {},
   "outputs": [
    {
     "data": {
      "text/plain": [
       "(11666, 5)"
      ]
     },
     "execution_count": 51,
     "metadata": {},
     "output_type": "execute_result"
    }
   ],
   "source": [
    "X_trans.shape"
   ]
  },
  {
   "cell_type": "code",
   "execution_count": 52,
   "metadata": {},
   "outputs": [],
   "source": [
    "X = np.array(X_trans)\n",
    "#X[:,:5] = X_trans[:,:]\n",
    "#X[:, 5] = dow.values[:,-2]\n",
    "#X[:, 5] = (X[:, 5] - X[:, 5].mean())/X[:, 5].std() # normalize variance=1 mean=0"
   ]
  },
  {
   "cell_type": "code",
   "execution_count": 53,
   "metadata": {
    "scrolled": true
   },
   "outputs": [
    {
     "data": {
      "text/plain": [
       "array([-1.53773660e-05, -2.84141399e-05, -1.00858225e-05,  1.47423111e-05,\n",
       "       -1.00771434e-04])"
      ]
     },
     "execution_count": 53,
     "metadata": {},
     "output_type": "execute_result"
    }
   ],
   "source": [
    "np.mean(X, axis=0)"
   ]
  },
  {
   "cell_type": "code",
   "execution_count": 54,
   "metadata": {},
   "outputs": [
    {
     "data": {
      "text/plain": [
       "array([1.0001176 , 1.00009352, 1.00038068, 1.00028142, 1.0004852 ])"
      ]
     },
     "execution_count": 54,
     "metadata": {},
     "output_type": "execute_result"
    }
   ],
   "source": [
    "np.std(X, axis=0)"
   ]
  },
  {
   "cell_type": "markdown",
   "metadata": {},
   "source": [
    "### Lets make the feature vector X\n",
    "\n",
    "\n",
    "We will shift forward 5 days so we can use the last ones to predict the next.  \n",
    "So we can use previous days information to train to predict next one.  \n",
    "\n",
    "We will train like this:\n",
    "\n",
    "[-5, -4, -3, -2, -1] -> [0]  \n",
    "[-4, -3, -2, -1,  0] -> [1]  \n",
    "[-3, -2, -1,  0,  1] -> [2]  \n",
    "        ...              \n",
    " \n",
    "but each day O, H, L, C, V will be a row so:\n",
    "\n",
    "[-5, -4, -3, -2, -1] -> [0]\n",
    "is  \n",
    "\n",
    "[O[-5], H[-5], L[-5], C[-5], V[-5], O[-4], H[-4], L[-4], C[-4], V[-4] ... O[-1], H[-1], L[-1], C[-1], V[-1]] -> [0]\n",
    "\n",
    "Meaning training or feature vector will have 5*5 = 25 dimension. "
   ]
  },
  {
   "cell_type": "code",
   "execution_count": 55,
   "metadata": {},
   "outputs": [],
   "source": [
    "data = X # we don't use the training class"
   ]
  },
  {
   "cell_type": "code",
   "execution_count": 56,
   "metadata": {},
   "outputs": [],
   "source": [
    "pdays=21 # previous hours ~ 5 days on H2 time-frame"
   ]
  },
  {
   "cell_type": "code",
   "execution_count": 57,
   "metadata": {},
   "outputs": [],
   "source": [
    "data = dow.iloc[:, :-2].values"
   ]
  },
  {
   "cell_type": "code",
   "execution_count": 58,
   "metadata": {},
   "outputs": [],
   "source": [
    "# data = np.array([1, 3, 4, 5, 6, 3])\n",
    "# pdays=3"
   ]
  },
  {
   "cell_type": "code",
   "execution_count": 59,
   "metadata": {},
   "outputs": [],
   "source": [
    "from numba import jit\n",
    "\n",
    "@jit(nopython=True)\n",
    "def Xbackward_array(data, nprevious, ncolumns):\n",
    "    X = np.zeros((len(data)-nprevious+1, nprevious*ncolumns))\n",
    "    # maybe using np.tile with np.repeat is faster but dont know how\n",
    "    for i in range(nprevious, len(data)+1):\n",
    "        X[i-nprevious,:] = data[i-nprevious:i].flatten()\n",
    "    return X"
   ]
  },
  {
   "cell_type": "markdown",
   "metadata": {},
   "source": [
    "[1, 3, 4, 5, 6, 3]\n",
    "\n",
    "[1, 3, 4]  \n",
    "[3, 4, 5]  \n",
    "[4, 5, 6]  \n",
    "[5, 6, 3]  "
   ]
  },
  {
   "cell_type": "code",
   "execution_count": 60,
   "metadata": {},
   "outputs": [],
   "source": [
    "assert np.alltrue( \n",
    "    Xbackward_array(np.array([1, 3, 4, 5, 6, 3]), 3, 1) ==\n",
    "    np.array([[1, 3, 4], [3, 4, 5], [4, 5, 6], [5, 6, 3]]))"
   ]
  },
  {
   "cell_type": "code",
   "execution_count": 61,
   "metadata": {},
   "outputs": [],
   "source": [
    "X = Xbackward_array(data, pdays, 5)"
   ]
  },
  {
   "cell_type": "code",
   "execution_count": 62,
   "metadata": {},
   "outputs": [
    {
     "data": {
      "text/plain": [
       "11646"
      ]
     },
     "execution_count": 62,
     "metadata": {},
     "output_type": "execute_result"
    }
   ],
   "source": [
    "len(X)"
   ]
  },
  {
   "cell_type": "markdown",
   "metadata": {},
   "source": [
    "### Lets make the class vector or target vector Y"
   ]
  },
  {
   "cell_type": "code",
   "execution_count": 63,
   "metadata": {},
   "outputs": [],
   "source": [
    "#Y = dow.updown[pdays:]\n",
    "Y = dow.sup[pdays:]\n",
    "Y = Y.values"
   ]
  },
  {
   "cell_type": "code",
   "execution_count": 64,
   "metadata": {},
   "outputs": [],
   "source": [
    "#Y = Y[1:]"
   ]
  },
  {
   "cell_type": "code",
   "execution_count": 65,
   "metadata": {},
   "outputs": [
    {
     "data": {
      "text/plain": [
       "(11646, 11645)"
      ]
     },
     "execution_count": 65,
     "metadata": {},
     "output_type": "execute_result"
    }
   ],
   "source": [
    "len(X), len(Y)"
   ]
  },
  {
   "cell_type": "code",
   "execution_count": 66,
   "metadata": {},
   "outputs": [],
   "source": [
    "Xfuture = X[-1] # last day/hour is prediction of future\n",
    "X = X[:-1] # this is training data"
   ]
  },
  {
   "cell_type": "code",
   "execution_count": 67,
   "metadata": {},
   "outputs": [],
   "source": [
    "#X[-1]"
   ]
  },
  {
   "cell_type": "code",
   "execution_count": 68,
   "metadata": {},
   "outputs": [
    {
     "data": {
      "text/plain": [
       "1"
      ]
     },
     "execution_count": 68,
     "metadata": {},
     "output_type": "execute_result"
    }
   ],
   "source": [
    "Y[-2]"
   ]
  },
  {
   "cell_type": "code",
   "execution_count": 69,
   "metadata": {},
   "outputs": [],
   "source": [
    "#dow.tail(pdays)"
   ]
  },
  {
   "cell_type": "code",
   "execution_count": 70,
   "metadata": {},
   "outputs": [],
   "source": [
    "dow = dow[pdays:] # the first days dont cannot use class for training so we dont need them\n",
    "dowv = dowv[pdays:] # same for plotting"
   ]
  },
  {
   "cell_type": "code",
   "execution_count": 71,
   "metadata": {},
   "outputs": [],
   "source": [
    "import sklearn"
   ]
  },
  {
   "cell_type": "code",
   "execution_count": 72,
   "metadata": {},
   "outputs": [
    {
     "name": "stdout",
     "output_type": "stream",
     "text": [
      "              precision    recall  f1-score   support\n",
      "\n",
      "           0       0.75      0.75      0.75      5817\n",
      "           1       0.75      0.74      0.75      5828\n",
      "\n",
      "   micro avg       0.75      0.75      0.75     11645\n",
      "   macro avg       0.75      0.75      0.75     11645\n",
      "weighted avg       0.75      0.75      0.75     11645\n",
      "\n"
     ]
    }
   ],
   "source": [
    "print(sklearn.metrics.classification_report(dow.updown, dow.sup))"
   ]
  },
  {
   "cell_type": "code",
   "execution_count": 73,
   "metadata": {
    "scrolled": true
   },
   "outputs": [],
   "source": [
    "#sns.jointplot(dow.updown, dow.sup, kind='kde')"
   ]
  },
  {
   "cell_type": "markdown",
   "metadata": {},
   "source": [
    "#### Remember!\n",
    "\n",
    "dowv has same number of row than X, Y vectors, indexes are syncronized"
   ]
  },
  {
   "cell_type": "markdown",
   "metadata": {},
   "source": [
    "### Lets prepare the engine Torch"
   ]
  },
  {
   "cell_type": "code",
   "execution_count": 132,
   "metadata": {},
   "outputs": [],
   "source": [
    "import importlib"
   ]
  },
  {
   "cell_type": "code",
   "execution_count": 133,
   "metadata": {},
   "outputs": [
    {
     "data": {
      "text/plain": [
       "(<module 'algos.nn.torchNN' from 'C:\\\\Users\\\\alferreira\\\\Documents\\\\stocks\\\\algos\\\\nn\\\\torchNN.py'>,\n",
       " <module 'algos.nn.torchCV' from 'C:\\\\Users\\\\alferreira\\\\Documents\\\\stocks\\\\algos\\\\nn\\\\torchCV.py'>,\n",
       " <module 'algos.nn.torchUtil' from 'C:\\\\Users\\\\alferreira\\\\Documents\\\\stocks\\\\algos\\\\nn\\\\torchUtil.py'>)"
      ]
     },
     "execution_count": 133,
     "metadata": {},
     "output_type": "execute_result"
    }
   ],
   "source": [
    "importlib.reload(torchNN), importlib.reload(torchCV), importlib.reload(torchUtil)"
   ]
  },
  {
   "cell_type": "code",
   "execution_count": 76,
   "metadata": {},
   "outputs": [],
   "source": [
    "device = torchNN.getDevice()"
   ]
  },
  {
   "cell_type": "code",
   "execution_count": 77,
   "metadata": {},
   "outputs": [
    {
     "data": {
      "text/plain": [
       "device(type='cuda')"
      ]
     },
     "execution_count": 77,
     "metadata": {},
     "output_type": "execute_result"
    }
   ],
   "source": [
    "device"
   ]
  },
  {
   "cell_type": "code",
   "execution_count": 78,
   "metadata": {},
   "outputs": [],
   "source": [
    "torchNN.setSeed(device, 25640) # reproducible"
   ]
  },
  {
   "cell_type": "markdown",
   "metadata": {},
   "source": [
    "Train in ~ **2 month** and test on the subsequent **0.1 months**\n",
    "\n",
    "training/valiation ratio of 90%"
   ]
  },
  {
   "cell_type": "code",
   "execution_count": 79,
   "metadata": {},
   "outputs": [],
   "source": [
    "X, Y = torchUtil.binaryTensors(X, Y, device=device)"
   ]
  },
  {
   "cell_type": "code",
   "execution_count": 80,
   "metadata": {},
   "outputs": [
    {
     "name": "stdout",
     "output_type": "stream",
     "text": [
      "number of folds  10910  H1 of training  660  H1 of validation  74  H1 of prediction  1\n"
     ]
    }
   ],
   "source": [
    "ntrain= 7*5*21\n",
    "kfold = torchCV.sKFold(X, foldsize=ntrain, ratio=0.9)\n",
    "nsplits = kfold.GetnSplits()\n",
    "ntrain, ntest, npred = kfold.ntrain, kfold.ntest, kfold.npred\n",
    "print('number of folds ', nsplits, \n",
    "      ' H1 of training ', ntrain, \n",
    "      ' H1 of validation ', ntest,\n",
    "      ' H1 of prediction ', npred)"
   ]
  },
  {
   "cell_type": "markdown",
   "metadata": {},
   "source": [
    "Get a random begin on data of those n years"
   ]
  },
  {
   "cell_type": "markdown",
   "metadata": {},
   "source": [
    "Locally normalize mean = 0 and variance to 1  \n",
    "Specially for this 25 type of data/training, this should not be done here. "
   ]
  },
  {
   "cell_type": "code",
   "execution_count": 81,
   "metadata": {},
   "outputs": [],
   "source": [
    "#Xfold = (Xfold - Xfold.mean())/Xfold.std() # normalize variance=1 mean=0"
   ]
  },
  {
   "cell_type": "code",
   "execution_count": 165,
   "metadata": {
    "scrolled": true
   },
   "outputs": [
    {
     "name": "stdout",
     "output_type": "stream",
     "text": [
      "unbalanced class percentage training ~: % -0.9\n",
      "unbalanced class percentage validation~: % -1.4\n"
     ]
    }
   ],
   "source": [
    "# tensors\n",
    "for start, sval, spred, end in kfold.SplitsRandn(1):\n",
    "    Xt, yt = X[start:sval], Y[start:sval]\n",
    "    Xs, ys = X[sval:spred], Y[sval:spred]\n",
    "    # use :end on slicing to avoid using unsqueze\n",
    "    Xp, yp = X[spred:end], Y[spred:end] # only ONE sample\n",
    "\n",
    "#print(start, sval, spred, end)\n",
    "print('unbalanced class percentage training ~: % {:.1f}'.format(100*((th.sum(yt).item()/(len(yt))-0.5))))\n",
    "print('unbalanced class percentage validation~: % {:.1f}'.format(100*((th.sum(ys).item()/len(ys))-0.5)))\n",
    "\n",
    "classifier = torchNN.BinaryNN(input_dim=X.shape[1], nneurons=[256, 256, 128, 128],\n",
    "                              dropout=0.55, learn=8e-3, patience=100, device=device)"
   ]
  },
  {
   "cell_type": "code",
   "execution_count": 166,
   "metadata": {},
   "outputs": [
    {
     "name": "stdout",
     "output_type": "stream",
     "text": [
      "iteration : 2      train loss: 0.6939443 valid acc: 0.4864865 valid loss :0.6942016 learn r.: 0.0010000\n",
      "iteration : 5      train loss: 0.6936806 valid acc: 0.4864865 valid loss :0.6938531 learn r.: 0.0009900\n",
      "iteration : 8      train loss: 0.6934438 valid acc: 0.4864865 valid loss :0.6935480 learn r.: 0.0009801\n",
      "iteration : 11     train loss: 0.6932498 valid acc: 0.4864865 valid loss :0.6932923 learn r.: 0.0009703\n",
      "iteration : 14     train loss: 0.6931221 valid acc: 0.4864865 valid loss :0.6931254 learn r.: 0.0009606\n",
      "iteration : 17     train loss: 0.6929831 valid acc: 0.5000000 valid loss :0.6929226 learn r.: 0.0009510\n",
      "iteration : 20     train loss: 0.6928819 valid acc: 0.5135135 valid loss :0.6927592 learn r.: 0.0009415\n",
      "iteration : 23     train loss: 0.6927809 valid acc: 0.5135135 valid loss :0.6925924 learn r.: 0.0009321\n",
      "iteration : 26     train loss: 0.6926922 valid acc: 0.5135135 valid loss :0.6924628 learn r.: 0.0009227\n",
      "iteration : 29     train loss: 0.6926021 valid acc: 0.5135135 valid loss :0.6923127 learn r.: 0.0009135\n",
      "iteration : 32     train loss: 0.6925067 valid acc: 0.5135135 valid loss :0.6921526 learn r.: 0.0009044\n",
      "iteration : 35     train loss: 0.6924223 valid acc: 0.5135135 valid loss :0.6920047 learn r.: 0.0008953\n",
      "iteration : 38     train loss: 0.6923294 valid acc: 0.5135135 valid loss :0.6919218 learn r.: 0.0008864\n",
      "iteration : 41     train loss: 0.6922482 valid acc: 0.5135135 valid loss :0.6918676 learn r.: 0.0008775\n",
      "iteration : 44     train loss: 0.6921476 valid acc: 0.5135135 valid loss :0.6918052 learn r.: 0.0008687\n",
      "iteration : 47     train loss: 0.6920013 valid acc: 0.5135135 valid loss :0.6916776 learn r.: 0.0008601\n",
      "[################################################################################] 48/48\n",
      "final : train acc. 0.509091 val acc.0.513514\n"
     ]
    }
   ],
   "source": [
    "classifier.fit(Xt, yt, Xs, ys, epochs=8, batch=128, iscore=0.5, gma=0.99, learn=1e-3, verbose=True);"
   ]
  },
  {
   "cell_type": "code",
   "execution_count": 167,
   "metadata": {},
   "outputs": [
    {
     "name": "stdout",
     "output_type": "stream",
     "text": [
      "[################################################################################] 2/2\n",
      "[################################################################################] 2/2\n"
     ]
    }
   ],
   "source": [
    "for i in range(2):\n",
    "    classifier.fineTune(Xs, ys, batch=128)"
   ]
  },
  {
   "cell_type": "code",
   "execution_count": 168,
   "metadata": {},
   "outputs": [
    {
     "data": {
      "text/html": [
       "<div>\n",
       "<style scoped>\n",
       "    .dataframe tbody tr th:only-of-type {\n",
       "        vertical-align: middle;\n",
       "    }\n",
       "\n",
       "    .dataframe tbody tr th {\n",
       "        vertical-align: top;\n",
       "    }\n",
       "\n",
       "    .dataframe thead th {\n",
       "        text-align: right;\n",
       "    }\n",
       "</style>\n",
       "<table border=\"1\" class=\"dataframe\">\n",
       "  <thead>\n",
       "    <tr style=\"text-align: right;\">\n",
       "      <th></th>\n",
       "      <th>Open</th>\n",
       "      <th>High</th>\n",
       "      <th>Low</th>\n",
       "      <th>Close</th>\n",
       "      <th>Volume</th>\n",
       "      <th>sup</th>\n",
       "      <th>updown</th>\n",
       "    </tr>\n",
       "    <tr>\n",
       "      <th>Date</th>\n",
       "      <th></th>\n",
       "      <th></th>\n",
       "      <th></th>\n",
       "      <th></th>\n",
       "      <th></th>\n",
       "      <th></th>\n",
       "      <th></th>\n",
       "    </tr>\n",
       "  </thead>\n",
       "  <tbody>\n",
       "    <tr>\n",
       "      <th>2019-02-08 17:00:00</th>\n",
       "      <td>11.462053</td>\n",
       "      <td>11.468137</td>\n",
       "      <td>11.461316</td>\n",
       "      <td>11.466096</td>\n",
       "      <td>13.095761</td>\n",
       "      <td>1</td>\n",
       "      <td>1</td>\n",
       "    </tr>\n",
       "    <tr>\n",
       "      <th>2019-02-08 18:00:00</th>\n",
       "      <td>11.466096</td>\n",
       "      <td>11.467039</td>\n",
       "      <td>11.462369</td>\n",
       "      <td>11.462369</td>\n",
       "      <td>10.575309</td>\n",
       "      <td>0</td>\n",
       "      <td>0</td>\n",
       "    </tr>\n",
       "  </tbody>\n",
       "</table>\n",
       "</div>"
      ],
      "text/plain": [
       "                          Open       High        Low      Close     Volume  \\\n",
       "Date                                                                         \n",
       "2019-02-08 17:00:00  11.462053  11.468137  11.461316  11.466096  13.095761   \n",
       "2019-02-08 18:00:00  11.466096  11.467039  11.462369  11.462369  10.575309   \n",
       "\n",
       "                     sup  updown  \n",
       "Date                              \n",
       "2019-02-08 17:00:00    1       1  \n",
       "2019-02-08 18:00:00    0       0  "
      ]
     },
     "execution_count": 168,
     "metadata": {},
     "output_type": "execute_result"
    }
   ],
   "source": [
    "dowv.tail(2)"
   ]
  },
  {
   "cell_type": "code",
   "execution_count": 170,
   "metadata": {
    "scrolled": true
   },
   "outputs": [
    {
     "data": {
      "text/plain": [
       "<matplotlib.legend.Legend at 0x145dbff92b0>"
      ]
     },
     "execution_count": 170,
     "metadata": {},
     "output_type": "execute_result"
    },
    {
     "data": {
      "image/png": "[encoded data removed]",
      "text/plain": [
       "<Figure size 1080x144 with 1 Axes>"
      ]
     },
     "metadata": {
      "needs_background": "light"
     },
     "output_type": "display_data"
    }
   ],
   "source": [
    "plt.figure(figsize=(15,2))\n",
    "plt.plot(dowv.iloc[start:end].Close, 'k-', lw=1, label='window')\n",
    "plt.plot(dowv.iloc[start:sval].Close, 'g--', label='training', lw=1)\n",
    "plt.plot(dowv.iloc[sval:end].Close, 'r-.', label='validation', lw=1)\n",
    "plt.legend()"
   ]
  },
  {
   "cell_type": "code",
   "execution_count": 171,
   "metadata": {
    "scrolled": true
   },
   "outputs": [
    {
     "data": {
      "text/plain": [
       "torch.Size([17, 3])"
      ]
     },
     "execution_count": 171,
     "metadata": {},
     "output_type": "execute_result"
    }
   ],
   "source": [
    "classifier.prog.shape"
   ]
  },
  {
   "cell_type": "markdown",
   "metadata": {},
   "source": [
    "Using a cut-off on model probability if not certain why should I trust?!  \n",
    "Try to correct the cases where there is no up or down, just laterall variation or anything else with not that certainty\n",
    "\n",
    "0.7 or 70% at least"
   ]
  },
  {
   "cell_type": "code",
   "execution_count": 172,
   "metadata": {},
   "outputs": [
    {
     "data": {
      "text/plain": [
       "0.5135135054588318"
      ]
     },
     "execution_count": 172,
     "metadata": {},
     "output_type": "execute_result"
    }
   ],
   "source": [
    "classifier.score(Xs, ys)"
   ]
  },
  {
   "cell_type": "code",
   "execution_count": 173,
   "metadata": {},
   "outputs": [],
   "source": [
    "params = {'cutoff':0.51}"
   ]
  },
  {
   "cell_type": "code",
   "execution_count": 174,
   "metadata": {
    "scrolled": true
   },
   "outputs": [
    {
     "name": "stdout",
     "output_type": "stream",
     "text": [
      "data above probability cutoff: 1.00\n"
     ]
    },
    {
     "data": {
      "text/plain": [
       "0.5135135054588318"
      ]
     },
     "execution_count": 174,
     "metadata": {},
     "output_type": "execute_result"
    }
   ],
   "source": [
    "classifier.score(Xs, ys, **params)"
   ]
  },
  {
   "cell_type": "markdown",
   "metadata": {},
   "source": [
    "To think about...\n",
    "\n",
    "That above indicates that validation must have a weight.   \n",
    "Those samples that are more recent should receive a higher 'weight' somehow.\n",
    "\n",
    "We cannot train too much on a validation set that is too far behind on time. \n",
    "\n",
    "Also there are breaking points when the market totally loose correlation from the past.  \n",
    "For example above near end november."
   ]
  },
  {
   "cell_type": "markdown",
   "metadata": {},
   "source": [
    "### Best 78.4% on validation\n",
    "\n",
    "- `gamma`  should not be too low (~0.9) otherwise we have overfitting on training set \n",
    "- a low `gamma` value makes it go to a local minima that is the validation minima"
   ]
  },
  {
   "cell_type": "code",
   "execution_count": 175,
   "metadata": {},
   "outputs": [
    {
     "data": {
      "image/png": "[encoded data removed]",
      "text/plain": [
       "<Figure size 1080x360 with 3 Axes>"
      ]
     },
     "metadata": {
      "needs_background": "light"
     },
     "output_type": "display_data"
    }
   ],
   "source": [
    "classifier.viewResults()"
   ]
  },
  {
   "cell_type": "markdown",
   "metadata": {},
   "source": [
    "###  Results\n",
    "\n",
    "Let's see latest forecasts."
   ]
  },
  {
   "cell_type": "code",
   "execution_count": 176,
   "metadata": {
    "scrolled": true
   },
   "outputs": [
    {
     "data": {
      "text/html": [
       "<div>\n",
       "<style scoped>\n",
       "    .dataframe tbody tr th:only-of-type {\n",
       "        vertical-align: middle;\n",
       "    }\n",
       "\n",
       "    .dataframe tbody tr th {\n",
       "        vertical-align: top;\n",
       "    }\n",
       "\n",
       "    .dataframe thead th {\n",
       "        text-align: right;\n",
       "    }\n",
       "</style>\n",
       "<table border=\"1\" class=\"dataframe\">\n",
       "  <thead>\n",
       "    <tr style=\"text-align: right;\">\n",
       "      <th></th>\n",
       "      <th>Open</th>\n",
       "      <th>High</th>\n",
       "      <th>Low</th>\n",
       "      <th>Close</th>\n",
       "      <th>Volume</th>\n",
       "      <th>sup</th>\n",
       "      <th>updown</th>\n",
       "    </tr>\n",
       "    <tr>\n",
       "      <th>Date</th>\n",
       "      <th></th>\n",
       "      <th></th>\n",
       "      <th></th>\n",
       "      <th></th>\n",
       "      <th></th>\n",
       "      <th></th>\n",
       "      <th></th>\n",
       "    </tr>\n",
       "  </thead>\n",
       "  <tbody>\n",
       "    <tr>\n",
       "      <th>2019-02-08 16:00:00</th>\n",
       "      <td>11.461053</td>\n",
       "      <td>11.464260</td>\n",
       "      <td>11.458205</td>\n",
       "      <td>11.462001</td>\n",
       "      <td>13.310475</td>\n",
       "      <td>0</td>\n",
       "      <td>1</td>\n",
       "    </tr>\n",
       "    <tr>\n",
       "      <th>2019-02-08 17:00:00</th>\n",
       "      <td>11.462053</td>\n",
       "      <td>11.468137</td>\n",
       "      <td>11.461316</td>\n",
       "      <td>11.466096</td>\n",
       "      <td>13.095761</td>\n",
       "      <td>1</td>\n",
       "      <td>1</td>\n",
       "    </tr>\n",
       "    <tr>\n",
       "      <th>2019-02-08 18:00:00</th>\n",
       "      <td>11.466096</td>\n",
       "      <td>11.467039</td>\n",
       "      <td>11.462369</td>\n",
       "      <td>11.462369</td>\n",
       "      <td>10.575309</td>\n",
       "      <td>0</td>\n",
       "      <td>0</td>\n",
       "    </tr>\n",
       "  </tbody>\n",
       "</table>\n",
       "</div>"
      ],
      "text/plain": [
       "                          Open       High        Low      Close     Volume  \\\n",
       "Date                                                                         \n",
       "2019-02-08 16:00:00  11.461053  11.464260  11.458205  11.462001  13.310475   \n",
       "2019-02-08 17:00:00  11.462053  11.468137  11.461316  11.466096  13.095761   \n",
       "2019-02-08 18:00:00  11.466096  11.467039  11.462369  11.462369  10.575309   \n",
       "\n",
       "                     sup  updown  \n",
       "Date                              \n",
       "2019-02-08 16:00:00    0       1  \n",
       "2019-02-08 17:00:00    1       1  \n",
       "2019-02-08 18:00:00    0       0  "
      ]
     },
     "execution_count": 176,
     "metadata": {},
     "output_type": "execute_result"
    }
   ],
   "source": [
    "dowv.tail(3)"
   ]
  },
  {
   "cell_type": "markdown",
   "metadata": {},
   "source": [
    "### last 22 days / 22 * 2H hours"
   ]
  },
  {
   "cell_type": "code",
   "execution_count": 177,
   "metadata": {},
   "outputs": [],
   "source": [
    "pdays=22\n",
    "cutoff=0.7"
   ]
  },
  {
   "cell_type": "code",
   "execution_count": 178,
   "metadata": {
    "scrolled": true
   },
   "outputs": [
    {
     "name": "stdout",
     "output_type": "stream",
     "text": [
      "data above probability cutoff: 0.00\n"
     ]
    },
    {
     "data": {
      "text/plain": [
       "nan"
      ]
     },
     "execution_count": 178,
     "metadata": {},
     "output_type": "execute_result"
    }
   ],
   "source": [
    "classifier.score(Xs[-pdays:], ys[-pdays:], cutoff)"
   ]
  },
  {
   "cell_type": "markdown",
   "metadata": {},
   "source": [
    "### last 10 days / 10 * 2H hours"
   ]
  },
  {
   "cell_type": "code",
   "execution_count": 179,
   "metadata": {},
   "outputs": [],
   "source": [
    "pdays=10\n",
    "cutoff=0.5"
   ]
  },
  {
   "cell_type": "code",
   "execution_count": 180,
   "metadata": {
    "scrolled": true
   },
   "outputs": [
    {
     "name": "stdout",
     "output_type": "stream",
     "text": [
      "data above probability cutoff: 1.00\n"
     ]
    },
    {
     "data": {
      "text/plain": [
       "0.5999999940395355"
      ]
     },
     "execution_count": 180,
     "metadata": {},
     "output_type": "execute_result"
    }
   ],
   "source": [
    "classifier.score(Xs[-pdays:], ys[-pdays:], cutoff)"
   ]
  },
  {
   "cell_type": "markdown",
   "metadata": {},
   "source": [
    "## Today"
   ]
  },
  {
   "cell_type": "code",
   "execution_count": 181,
   "metadata": {},
   "outputs": [
    {
     "data": {
      "text/plain": [
       "(tensor([[0.5271, 0.4729]], device='cuda:0'), tensor([0], device='cuda:0'))"
      ]
     },
     "execution_count": 181,
     "metadata": {},
     "output_type": "execute_result"
    }
   ],
   "source": [
    "classifier.predict(th.tensor(Xfuture, dtype=th.float, device=device).unsqueeze(dim=0))"
   ]
  },
  {
   "cell_type": "markdown",
   "metadata": {},
   "source": [
    "### Cross validation Sequential Folds "
   ]
  },
  {
   "cell_type": "code",
   "execution_count": 182,
   "metadata": {},
   "outputs": [
    {
     "data": {
      "text/plain": [
       "<module 'algos.nn.torchCV' from 'C:\\\\Users\\\\alferreira\\\\Documents\\\\stocks\\\\algos\\\\nn\\\\torchCV.py'>"
      ]
     },
     "execution_count": 182,
     "metadata": {},
     "output_type": "execute_result"
    }
   ],
   "source": [
    "importlib.reload(torchCV)"
   ]
  },
  {
   "cell_type": "code",
   "execution_count": 183,
   "metadata": {},
   "outputs": [],
   "source": [
    "# stand-by dont need this now, better use probabilyties before and test\n",
    "# to find the best cut-off\n",
    "# accuracy_clip = lambda m, x, y : torchCV.accuracy(m, x, y, cutoff=0.65)"
   ]
  },
  {
   "cell_type": "code",
   "execution_count": 184,
   "metadata": {},
   "outputs": [],
   "source": [
    "classifier = torchNN.BinaryNN(input_dim=X.shape[1], nneurons=[256, 256, 256, 32],\n",
    "                              dropout=0.6, learn=5e-3, patience=10, device=device)\n",
    "params = {'epochs':9, 'batch':128, 'iscore':0.5, 'gma':0.92, 'verbose':False}"
   ]
  },
  {
   "cell_type": "markdown",
   "metadata": {},
   "source": [
    "#### Run 100 cross-validations on the last n folds\n",
    "\n",
    "- save predictions as well its probabilities\n",
    "- pass params using dictionary for 'fit' method"
   ]
  },
  {
   "cell_type": "code",
   "execution_count": 186,
   "metadata": {},
   "outputs": [],
   "source": [
    "ntrain=21*7*5"
   ]
  },
  {
   "cell_type": "code",
   "execution_count": 187,
   "metadata": {},
   "outputs": [
    {
     "name": "stdout",
     "output_type": "stream",
     "text": [
      "early stopped: no progress on validation#################........................] 38/54\n",
      "[################################################################################] 2/2\n",
      "[################################################################################] 2/2\n",
      "[################################################################################] 2/2\n",
      "early stopped: no progress on validation#################........................] 38/54\n",
      "[################################################################################] 2/2\n",
      "[################################################################################] 2/2\n",
      "[################################################################################] 2/2\n",
      "early stopped: no progress on validation#####################....................] 41/54\n",
      "[################################################################################] 2/2\n",
      "[################################################################################] 2/2\n",
      "[################################################################################] 2/2\n",
      "early stopped: no progress on validation#################........................] 38/54\n",
      "[################################################################################] 2/2\n",
      "[################################################################################] 2/2\n",
      "[################################################################################] 2/2\n",
      "early stopped: no progress on validation##############################...........] 47/54\n",
      "[################################################################################] 2/2\n",
      "[################################################################################] 2/2\n",
      "[################################################################################] 2/2\n",
      "[################################################################################] 54/54\n",
      "[################################################################################] 2/2\n",
      "[################################################################################] 2/2\n",
      "[################################################################################] 2/2\n",
      "early stopped: no progress on validation#################........................] 38/54\n",
      "[################################################################################] 2/2\n",
      "[################################################################################] 2/2\n",
      "[################################################################################] 2/2\n",
      "early stopped: no progress on validation#################........................] 38/54\n",
      "[################################################################################] 2/2\n",
      "[################################################################################] 2/2\n",
      "[################################################################################] 2/2\n",
      "early stopped: no progress on validation##########################...............] 44/54\n",
      "[################################################################################] 2/2\n",
      "[################################################################################] 2/2\n",
      "[################################################################################] 2/2\n",
      "early stopped: no progress on validation#################........................] 38/54\n",
      "[################################################################################] 2/2\n",
      "[################################################################################] 2/2\n",
      "[################################################################################] 2/2\n",
      "early stopped: no progress on validation#################........................] 38/54\n",
      "[################################################################################] 2/2\n",
      "[################################################################################] 2/2\n",
      "[################################################################################] 2/2\n",
      "early stopped: no progress on validation#####################....................] 41/54\n",
      "[################################################################################] 2/2\n",
      "[################################################################################] 2/2\n",
      "[################################################################################] 2/2\n",
      "early stopped: no progress on validation#################........................] 38/54\n",
      "[################################################################################] 2/2\n",
      "[################################################################################] 2/2\n",
      "[################################################################################] 2/2\n",
      "early stopped: no progress on validation#################........................] 38/54\n",
      "[################################################################################] 2/2\n",
      "[################################################################################] 2/2\n",
      "[################################################################################] 2/2\n",
      "early stopped: no progress on validation##########################...............] 44/54\n",
      "[################################################################################] 2/2\n",
      "[################################################################################] 2/2\n",
      "[################################################################################] 2/2\n",
      "early stopped: no progress on validation#################........................] 38/54\n",
      "[################################################################################] 2/2\n",
      "[################################################################################] 2/2\n",
      "[################################################################################] 2/2\n",
      "early stopped: no progress on validation#################........................] 38/54\n",
      "[################################################################################] 2/2\n",
      "[################################################################################] 2/2\n",
      "[################################################################################] 2/2\n",
      "[################################################################################] 54/54\n",
      "[################################################################################] 2/2\n",
      "[################################################################################] 2/2\n",
      "[################################################################################] 2/2\n",
      "early stopped: no progress on validation##############################...........] 47/54\n",
      "[################################################################################] 2/2\n",
      "[################################################################################] 2/2\n",
      "[################################################################################] 2/2\n",
      "early stopped: no progress on validation#####################....................] 41/54\n",
      "[################################################################################] 2/2\n",
      "[################################################################################] 2/2\n",
      "[################################################################################] 2/2\n",
      "early stopped: no progress on validation#################........................] 38/54\n",
      "[################################################################################] 2/2\n",
      "[################################################################################] 2/2\n",
      "[################################################################################] 2/2\n",
      "early stopped: no progress on validation##########################...............] 44/54\n",
      "[################################################################################] 2/2\n",
      "[################################################################################] 2/2\n",
      "[################################################################################] 2/2\n",
      "early stopped: no progress on validation#######################################..] 53/54\n",
      "[################################################################################] 2/2\n",
      "[################################################################################] 2/2\n",
      "[################################################################################] 2/2\n",
      "early stopped: no progress on validation#####################....................] 41/54\n"
     ]
    },
    {
     "name": "stdout",
     "output_type": "stream",
     "text": [
      "[################################################################################] 2/2\n",
      "[################################################################################] 2/2\n",
      "[################################################################################] 2/2\n",
      "early stopped: no progress on validation##########################...............] 44/54\n",
      "[################################################################################] 2/2\n",
      "[################################################################################] 2/2\n",
      "[################################################################################] 2/2\n"
     ]
    }
   ],
   "source": [
    "# torchCV.sCrossValidate(X, Y, classifier, foldsize=ntrain, cv=3, \n",
    "#                        fit_params=params, scores=[accuracy_clip], predict=True)\n",
    "results = torchCV.sCrossValidate(X, Y, classifier, foldsize=ntrain, ratio=0.90, cv=25, fine=3, \n",
    "                       fit_params=params, kind='lastn', predict=True)"
   ]
  },
  {
   "cell_type": "code",
   "execution_count": 188,
   "metadata": {},
   "outputs": [],
   "source": [
    "metrics = pd.DataFrame(results, columns=['idx', 'trainac', 'validac', 'accpred', 'predb0', 'predb1', 'y' ])"
   ]
  },
  {
   "cell_type": "markdown",
   "metadata": {},
   "source": [
    "### Need to run cross-validation again \n",
    "\n"
   ]
  },
  {
   "cell_type": "code",
   "execution_count": 189,
   "metadata": {},
   "outputs": [
    {
     "data": {
      "text/html": [
       "<div>\n",
       "<style scoped>\n",
       "    .dataframe tbody tr th:only-of-type {\n",
       "        vertical-align: middle;\n",
       "    }\n",
       "\n",
       "    .dataframe tbody tr th {\n",
       "        vertical-align: top;\n",
       "    }\n",
       "\n",
       "    .dataframe thead th {\n",
       "        text-align: right;\n",
       "    }\n",
       "</style>\n",
       "<table border=\"1\" class=\"dataframe\">\n",
       "  <thead>\n",
       "    <tr style=\"text-align: right;\">\n",
       "      <th></th>\n",
       "      <th>idx</th>\n",
       "      <th>trainac</th>\n",
       "      <th>validac</th>\n",
       "      <th>accpred</th>\n",
       "      <th>predb0</th>\n",
       "      <th>predb1</th>\n",
       "      <th>y</th>\n",
       "    </tr>\n",
       "  </thead>\n",
       "  <tbody>\n",
       "    <tr>\n",
       "      <th>0</th>\n",
       "      <td>11643.0</td>\n",
       "      <td>0.509091</td>\n",
       "      <td>0.540541</td>\n",
       "      <td>0.0</td>\n",
       "      <td>0.555268</td>\n",
       "      <td>0.444732</td>\n",
       "      <td>1.0</td>\n",
       "    </tr>\n",
       "    <tr>\n",
       "      <th>1</th>\n",
       "      <td>11642.0</td>\n",
       "      <td>0.507576</td>\n",
       "      <td>0.540541</td>\n",
       "      <td>1.0</td>\n",
       "      <td>0.568145</td>\n",
       "      <td>0.431855</td>\n",
       "      <td>0.0</td>\n",
       "    </tr>\n",
       "    <tr>\n",
       "      <th>2</th>\n",
       "      <td>11641.0</td>\n",
       "      <td>0.507576</td>\n",
       "      <td>0.554054</td>\n",
       "      <td>0.0</td>\n",
       "      <td>0.547825</td>\n",
       "      <td>0.452175</td>\n",
       "      <td>1.0</td>\n",
       "    </tr>\n",
       "    <tr>\n",
       "      <th>3</th>\n",
       "      <td>11640.0</td>\n",
       "      <td>0.507576</td>\n",
       "      <td>0.567568</td>\n",
       "      <td>0.0</td>\n",
       "      <td>0.593401</td>\n",
       "      <td>0.406599</td>\n",
       "      <td>1.0</td>\n",
       "    </tr>\n",
       "    <tr>\n",
       "      <th>4</th>\n",
       "      <td>11639.0</td>\n",
       "      <td>0.507576</td>\n",
       "      <td>0.554054</td>\n",
       "      <td>1.0</td>\n",
       "      <td>0.530665</td>\n",
       "      <td>0.469335</td>\n",
       "      <td>0.0</td>\n",
       "    </tr>\n",
       "  </tbody>\n",
       "</table>\n",
       "</div>"
      ],
      "text/plain": [
       "       idx   trainac   validac  accpred    predb0    predb1    y\n",
       "0  11643.0  0.509091  0.540541      0.0  0.555268  0.444732  1.0\n",
       "1  11642.0  0.507576  0.540541      1.0  0.568145  0.431855  0.0\n",
       "2  11641.0  0.507576  0.554054      0.0  0.547825  0.452175  1.0\n",
       "3  11640.0  0.507576  0.567568      0.0  0.593401  0.406599  1.0\n",
       "4  11639.0  0.507576  0.554054      1.0  0.530665  0.469335  0.0"
      ]
     },
     "execution_count": 189,
     "metadata": {},
     "output_type": "execute_result"
    }
   ],
   "source": [
    "metrics.head()"
   ]
  },
  {
   "cell_type": "code",
   "execution_count": 190,
   "metadata": {},
   "outputs": [],
   "source": [
    "metrics.idx = metrics.idx.values.astype(int)\n",
    "metrics.y = metrics.y.values.astype(int)"
   ]
  },
  {
   "cell_type": "markdown",
   "metadata": {},
   "source": [
    "#### What is the best cut-off\n",
    "\n",
    "Better do interactvly cutting and calculating the percentage... of data  \n",
    "should also vary at the same time the model score to see where is the best  \n",
    "balance between data-percentage and accuracy. "
   ]
  },
  {
   "cell_type": "code",
   "execution_count": 191,
   "metadata": {},
   "outputs": [
    {
     "data": {
      "text/plain": [
       "0.56"
      ]
     },
     "execution_count": 191,
     "metadata": {},
     "output_type": "execute_result"
    }
   ],
   "source": [
    "np.mean(metrics.accpred)"
   ]
  },
  {
   "cell_type": "code",
   "execution_count": 192,
   "metadata": {},
   "outputs": [],
   "source": [
    "metrics['probmax'] = metrics.apply(lambda x:  max(x.predb0, x.predb1), axis=1)"
   ]
  },
  {
   "cell_type": "code",
   "execution_count": 193,
   "metadata": {
    "scrolled": true
   },
   "outputs": [
    {
     "name": "stderr",
     "output_type": "stream",
     "text": [
      "C:\\Users\\alferreira\\AppData\\Local\\Continuum\\anaconda3\\lib\\site-packages\\scipy\\stats\\stats.py:1713: FutureWarning: Using a non-tuple sequence for multidimensional indexing is deprecated; use `arr[tuple(seq)]` instead of `arr[seq]`. In the future this will be interpreted as an array index, `arr[np.array(seq)]`, which will result either in an error or a different result.\n",
      "  return np.add.reduce(sorted[indexer] * weights, axis=axis) / sumval\n"
     ]
    },
    {
     "data": {
      "text/plain": [
       "<seaborn.axisgrid.JointGrid at 0x1459699a9e8>"
      ]
     },
     "execution_count": 193,
     "metadata": {},
     "output_type": "execute_result"
    },
    {
     "data": {
      "image/png": "[encoded data removed]",
      "text/plain": [
       "<Figure size 432x432 with 3 Axes>"
      ]
     },
     "metadata": {
      "needs_background": "light"
     },
     "output_type": "display_data"
    }
   ],
   "source": [
    "sns.jointplot(metrics.accpred, metrics.probmax, kind='kde')"
   ]
  },
  {
   "cell_type": "markdown",
   "metadata": {},
   "source": [
    "Jointplot above suggests 0.8 of cut-off"
   ]
  },
  {
   "cell_type": "code",
   "execution_count": 194,
   "metadata": {},
   "outputs": [
    {
     "data": {
      "text/plain": [
       "<matplotlib.axes._subplots.AxesSubplot at 0x14597368518>"
      ]
     },
     "execution_count": 194,
     "metadata": {},
     "output_type": "execute_result"
    },
    {
     "data": {
      "image/png": "[encoded data removed]",
      "text/plain": [
       "<Figure size 432x288 with 1 Axes>"
      ]
     },
     "metadata": {
      "needs_background": "light"
     },
     "output_type": "display_data"
    }
   ],
   "source": [
    "metrics.accpred.hist()"
   ]
  },
  {
   "cell_type": "code",
   "execution_count": 117,
   "metadata": {},
   "outputs": [],
   "source": [
    "import talib as ta"
   ]
  },
  {
   "cell_type": "markdown",
   "metadata": {},
   "source": [
    "### Average Accuracy by day"
   ]
  },
  {
   "cell_type": "code",
   "execution_count": 118,
   "metadata": {
    "scrolled": true
   },
   "outputs": [
    {
     "name": "stdout",
     "output_type": "stream",
     "text": [
      "[0.25 0.25 0.5  0.75 1.  ]\n"
     ]
    },
    {
     "data": {
      "image/png": "[encoded data removed]",
      "text/plain": [
       "<Figure size 288x144 with 1 Axes>"
      ]
     },
     "metadata": {
      "needs_background": "light"
     },
     "output_type": "display_data"
    }
   ],
   "source": [
    "metrics['davpredac'] = ta.SMA(metrics.accpred.values, 4)\n",
    "plt.figure(figsize=(4,2))\n",
    "plt.hist(metrics.davpredac.dropna());\n",
    "print(np.percentile(metrics.davpredac.dropna().values, (0, 1, 10, 50, 90)))\n",
    "# davpredac_c = ta.SMA(metrics.predac_c.dropna().astype(np.double), 4)\n",
    "# plt.figure(figsize=(4,2))\n",
    "# plt.hist(davpredac_c.dropna());\n",
    "# print(np.percentile(davpredac_c.dropna(), (0, 1, 10, 50, 90)))"
   ]
  },
  {
   "cell_type": "markdown",
   "metadata": {},
   "source": [
    "### Average Accuracy by week"
   ]
  },
  {
   "cell_type": "code",
   "execution_count": 119,
   "metadata": {},
   "outputs": [
    {
     "name": "stdout",
     "output_type": "stream",
     "text": [
      "[0.75 0.75 0.75 0.85 0.9 ]\n"
     ]
    },
    {
     "data": {
      "image/png": "[encoded data removed]",
      "text/plain": [
       "<Figure size 288x144 with 1 Axes>"
      ]
     },
     "metadata": {
      "needs_background": "light"
     },
     "output_type": "display_data"
    }
   ],
   "source": [
    "metrics['wavpredac'] = ta.SMA(metrics.accpred.values, 20)\n",
    "plt.figure(figsize=(4,2))\n",
    "plt.hist(metrics.wavpredac.dropna());\n",
    "print(np.percentile(metrics.wavpredac.dropna().values, (0, 1, 10, 50, 90)))\n",
    "# wavpredac_c = ta.SMA(metrics.predac_c.dropna().astype(np.double), 20)\n",
    "# plt.figure(figsize=(4,2))\n",
    "# plt.hist(wavpredac_c.dropna());\n",
    "# print(np.percentile(wavpredac_c.dropna(), (0, 1, 10, 50, 90)))"
   ]
  },
  {
   "cell_type": "code",
   "execution_count": 120,
   "metadata": {},
   "outputs": [],
   "source": [
    "metrics['modelscore'] = np.sqrt(metrics.trainac*metrics.validac)"
   ]
  },
  {
   "cell_type": "code",
   "execution_count": 121,
   "metadata": {},
   "outputs": [
    {
     "data": {
      "text/plain": [
       "<seaborn.axisgrid.JointGrid at 0x2158fa11dd8>"
      ]
     },
     "execution_count": 121,
     "metadata": {},
     "output_type": "execute_result"
    },
    {
     "data": {
      "image/png": "[encoded data removed]",
      "text/plain": [
       "<Figure size 432x432 with 3 Axes>"
      ]
     },
     "metadata": {
      "needs_background": "light"
     },
     "output_type": "display_data"
    }
   ],
   "source": [
    "sns.jointplot(metrics.modelscore, metrics.wavpredac, kind='kde')"
   ]
  },
  {
   "cell_type": "code",
   "execution_count": 122,
   "metadata": {
    "scrolled": true
   },
   "outputs": [
    {
     "name": "stdout",
     "output_type": "stream",
     "text": [
      "[0.75 0.75 0.75 0.85 0.9 ]\n"
     ]
    }
   ],
   "source": [
    "print(np.percentile(metrics.wavpredac[ metrics.modelscore > 0.525 ].dropna(), (0, 1, 10, 50, 90)))"
   ]
  },
  {
   "cell_type": "code",
   "execution_count": 123,
   "metadata": {},
   "outputs": [
    {
     "data": {
      "text/plain": [
       "1.0"
      ]
     },
     "execution_count": 123,
     "metadata": {},
     "output_type": "execute_result"
    }
   ],
   "source": [
    "len(metrics.wavpredac[ metrics.modelscore > 0.78 ].dropna())/len(metrics.wavpredac.dropna())"
   ]
  },
  {
   "cell_type": "code",
   "execution_count": 124,
   "metadata": {},
   "outputs": [
    {
     "data": {
      "text/html": [
       "<div>\n",
       "<style scoped>\n",
       "    .dataframe tbody tr th:only-of-type {\n",
       "        vertical-align: middle;\n",
       "    }\n",
       "\n",
       "    .dataframe tbody tr th {\n",
       "        vertical-align: top;\n",
       "    }\n",
       "\n",
       "    .dataframe thead th {\n",
       "        text-align: right;\n",
       "    }\n",
       "</style>\n",
       "<table border=\"1\" class=\"dataframe\">\n",
       "  <thead>\n",
       "    <tr style=\"text-align: right;\">\n",
       "      <th></th>\n",
       "      <th>idx</th>\n",
       "      <th>trainac</th>\n",
       "      <th>validac</th>\n",
       "      <th>accpred</th>\n",
       "      <th>predb0</th>\n",
       "      <th>predb1</th>\n",
       "      <th>y</th>\n",
       "      <th>probmax</th>\n",
       "      <th>davpredac</th>\n",
       "      <th>wavpredac</th>\n",
       "      <th>modelscore</th>\n",
       "    </tr>\n",
       "  </thead>\n",
       "  <tbody>\n",
       "    <tr>\n",
       "      <th>90</th>\n",
       "      <td>11553</td>\n",
       "      <td>0.856242</td>\n",
       "      <td>0.841808</td>\n",
       "      <td>1.0</td>\n",
       "      <td>0.000403</td>\n",
       "      <td>9.995973e-01</td>\n",
       "      <td>1</td>\n",
       "      <td>0.999597</td>\n",
       "      <td>0.75</td>\n",
       "      <td>0.75</td>\n",
       "      <td>0.848994</td>\n",
       "    </tr>\n",
       "    <tr>\n",
       "      <th>91</th>\n",
       "      <td>11552</td>\n",
       "      <td>0.875158</td>\n",
       "      <td>0.864407</td>\n",
       "      <td>1.0</td>\n",
       "      <td>1.000000</td>\n",
       "      <td>1.461305e-14</td>\n",
       "      <td>0</td>\n",
       "      <td>1.000000</td>\n",
       "      <td>0.75</td>\n",
       "      <td>0.80</td>\n",
       "      <td>0.869766</td>\n",
       "    </tr>\n",
       "    <tr>\n",
       "      <th>92</th>\n",
       "      <td>11551</td>\n",
       "      <td>0.853090</td>\n",
       "      <td>0.847458</td>\n",
       "      <td>1.0</td>\n",
       "      <td>0.000003</td>\n",
       "      <td>9.999974e-01</td>\n",
       "      <td>1</td>\n",
       "      <td>0.999997</td>\n",
       "      <td>1.00</td>\n",
       "      <td>0.80</td>\n",
       "      <td>0.850269</td>\n",
       "    </tr>\n",
       "    <tr>\n",
       "      <th>93</th>\n",
       "      <td>11550</td>\n",
       "      <td>0.863178</td>\n",
       "      <td>0.858757</td>\n",
       "      <td>1.0</td>\n",
       "      <td>0.784204</td>\n",
       "      <td>2.157964e-01</td>\n",
       "      <td>0</td>\n",
       "      <td>0.784204</td>\n",
       "      <td>1.00</td>\n",
       "      <td>0.80</td>\n",
       "      <td>0.860965</td>\n",
       "    </tr>\n",
       "    <tr>\n",
       "      <th>94</th>\n",
       "      <td>11549</td>\n",
       "      <td>0.889660</td>\n",
       "      <td>0.841808</td>\n",
       "      <td>1.0</td>\n",
       "      <td>1.000000</td>\n",
       "      <td>1.227794e-15</td>\n",
       "      <td>0</td>\n",
       "      <td>1.000000</td>\n",
       "      <td>1.00</td>\n",
       "      <td>0.80</td>\n",
       "      <td>0.865403</td>\n",
       "    </tr>\n",
       "    <tr>\n",
       "      <th>95</th>\n",
       "      <td>11548</td>\n",
       "      <td>0.889660</td>\n",
       "      <td>0.853107</td>\n",
       "      <td>1.0</td>\n",
       "      <td>0.000141</td>\n",
       "      <td>9.998587e-01</td>\n",
       "      <td>1</td>\n",
       "      <td>0.999859</td>\n",
       "      <td>1.00</td>\n",
       "      <td>0.80</td>\n",
       "      <td>0.871192</td>\n",
       "    </tr>\n",
       "    <tr>\n",
       "      <th>96</th>\n",
       "      <td>11547</td>\n",
       "      <td>0.866961</td>\n",
       "      <td>0.847458</td>\n",
       "      <td>0.0</td>\n",
       "      <td>0.000127</td>\n",
       "      <td>9.998730e-01</td>\n",
       "      <td>0</td>\n",
       "      <td>0.999873</td>\n",
       "      <td>0.75</td>\n",
       "      <td>0.75</td>\n",
       "      <td>0.857154</td>\n",
       "    </tr>\n",
       "    <tr>\n",
       "      <th>97</th>\n",
       "      <td>11546</td>\n",
       "      <td>0.872005</td>\n",
       "      <td>0.824859</td>\n",
       "      <td>1.0</td>\n",
       "      <td>0.999996</td>\n",
       "      <td>4.258966e-06</td>\n",
       "      <td>0</td>\n",
       "      <td>0.999996</td>\n",
       "      <td>0.75</td>\n",
       "      <td>0.80</td>\n",
       "      <td>0.848104</td>\n",
       "    </tr>\n",
       "    <tr>\n",
       "      <th>98</th>\n",
       "      <td>11545</td>\n",
       "      <td>0.875788</td>\n",
       "      <td>0.824859</td>\n",
       "      <td>1.0</td>\n",
       "      <td>0.015713</td>\n",
       "      <td>9.842871e-01</td>\n",
       "      <td>1</td>\n",
       "      <td>0.984287</td>\n",
       "      <td>0.75</td>\n",
       "      <td>0.80</td>\n",
       "      <td>0.849942</td>\n",
       "    </tr>\n",
       "    <tr>\n",
       "      <th>99</th>\n",
       "      <td>11544</td>\n",
       "      <td>0.892182</td>\n",
       "      <td>0.853107</td>\n",
       "      <td>1.0</td>\n",
       "      <td>0.993606</td>\n",
       "      <td>6.394231e-03</td>\n",
       "      <td>0</td>\n",
       "      <td>0.993606</td>\n",
       "      <td>0.75</td>\n",
       "      <td>0.85</td>\n",
       "      <td>0.872426</td>\n",
       "    </tr>\n",
       "  </tbody>\n",
       "</table>\n",
       "</div>"
      ],
      "text/plain": [
       "      idx   trainac   validac  accpred    predb0        predb1  y   probmax  \\\n",
       "90  11553  0.856242  0.841808      1.0  0.000403  9.995973e-01  1  0.999597   \n",
       "91  11552  0.875158  0.864407      1.0  1.000000  1.461305e-14  0  1.000000   \n",
       "92  11551  0.853090  0.847458      1.0  0.000003  9.999974e-01  1  0.999997   \n",
       "93  11550  0.863178  0.858757      1.0  0.784204  2.157964e-01  0  0.784204   \n",
       "94  11549  0.889660  0.841808      1.0  1.000000  1.227794e-15  0  1.000000   \n",
       "95  11548  0.889660  0.853107      1.0  0.000141  9.998587e-01  1  0.999859   \n",
       "96  11547  0.866961  0.847458      0.0  0.000127  9.998730e-01  0  0.999873   \n",
       "97  11546  0.872005  0.824859      1.0  0.999996  4.258966e-06  0  0.999996   \n",
       "98  11545  0.875788  0.824859      1.0  0.015713  9.842871e-01  1  0.984287   \n",
       "99  11544  0.892182  0.853107      1.0  0.993606  6.394231e-03  0  0.993606   \n",
       "\n",
       "    davpredac  wavpredac  modelscore  \n",
       "90       0.75       0.75    0.848994  \n",
       "91       0.75       0.80    0.869766  \n",
       "92       1.00       0.80    0.850269  \n",
       "93       1.00       0.80    0.860965  \n",
       "94       1.00       0.80    0.865403  \n",
       "95       1.00       0.80    0.871192  \n",
       "96       0.75       0.75    0.857154  \n",
       "97       0.75       0.80    0.848104  \n",
       "98       0.75       0.80    0.849942  \n",
       "99       0.75       0.85    0.872426  "
      ]
     },
     "execution_count": 124,
     "metadata": {},
     "output_type": "execute_result"
    }
   ],
   "source": [
    "metrics[-10:]"
   ]
  },
  {
   "cell_type": "code",
   "execution_count": 125,
   "metadata": {},
   "outputs": [],
   "source": [
    "def probability(values):\n",
    "    percentiles = np.percentile(values, [0, 1, 10, 50, 90])\n",
    "    print('percentiles are ', percentiles)\n",
    "    import matplotlib.ticker as plticker\n",
    "    loc = plticker.MultipleLocator(base=1.0) # this locator puts ticks at regular intervals\n",
    "    fig = plt.figure(figsize=(10,4))\n",
    "    ax1 = fig.add_subplot(211);\n",
    "    ax1.hist(values, bins=20, density=True);\n",
    "    #ax1.set_xlim(percentiles[0], 5)\n",
    "    ax1.xaxis.set_major_locator(loc)\n",
    "    ax1.grid()\n",
    "    ax2 = fig.add_subplot(212, sharex=ax1)\n",
    "    ax2.hist(values, bins=20, density=True, cumulative=True);\n",
    "    ax2.xaxis.set_major_locator(loc)\n",
    "    ax2.set_ylabel('cumulative percentage (%)')\n",
    "    ax2.grid()"
   ]
  },
  {
   "cell_type": "code",
   "execution_count": 126,
   "metadata": {},
   "outputs": [
    {
     "name": "stdout",
     "output_type": "stream",
     "text": [
      "percentiles are  [0.75 0.75 0.75 0.85 0.9 ]\n"
     ]
    },
    {
     "data": {
      "image/png": "[encoded data removed]",
      "text/plain": [
       "<Figure size 720x288 with 2 Axes>"
      ]
     },
     "metadata": {
      "needs_background": "light"
     },
     "output_type": "display_data"
    }
   ],
   "source": [
    "probability(metrics.wavpredac[ metrics.probmax > 0.78 ].dropna());"
   ]
  },
  {
   "cell_type": "markdown",
   "metadata": {},
   "source": [
    "#### Percent of entries"
   ]
  },
  {
   "cell_type": "code",
   "execution_count": 128,
   "metadata": {},
   "outputs": [
    {
     "data": {
      "text/plain": [
       "0.77"
      ]
     },
     "execution_count": 128,
     "metadata": {},
     "output_type": "execute_result"
    }
   ],
   "source": [
    "len(metrics.wavpredac[ metrics.probmax > 0.78 ].dropna())/100"
   ]
  },
  {
   "cell_type": "code",
   "execution_count": null,
   "metadata": {},
   "outputs": [],
   "source": []
  }
 ],
 "metadata": {
  "kernelspec": {
   "display_name": "Python 3",
   "language": "python",
   "name": "python3"
  },
  "language_info": {
   "codemirror_mode": {
    "name": "ipython",
    "version": 3
   },
   "file_extension": ".py",
   "mimetype": "text/x-python",
   "name": "python",
   "nbconvert_exporter": "python",
   "pygments_lexer": "ipython3",
   "version": "3.7.1"
  }
 },
 "nbformat": 4,
 "nbformat_minor": 2
}
