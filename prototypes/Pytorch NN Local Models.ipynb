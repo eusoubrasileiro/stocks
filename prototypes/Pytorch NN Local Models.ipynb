{
 "cells": [
  {
   "cell_type": "code",
   "execution_count": 1,
   "metadata": {},
   "outputs": [],
   "source": [
    "%matplotlib inline"
   ]
  },
  {
   "cell_type": "code",
   "execution_count": 2,
   "metadata": {},
   "outputs": [
    {
     "name": "stdout",
     "output_type": "stream",
     "text": [
      "/home/andre/Projects/stocks\n"
     ]
    }
   ],
   "source": [
    "cd .."
   ]
  },
  {
   "cell_type": "code",
   "execution_count": 3,
   "metadata": {},
   "outputs": [],
   "source": [
    "from matplotlib import pyplot as plt\n",
    "import os\n",
    "import sys\n",
    "import pandas as pd\n",
    "import numpy as np\n",
    "import struct\n",
    "import datetime\n",
    "from Tools.util import progressbar\n",
    "from Tools import prepareData, torchNN, torchCV\n",
    "from Tools import meta5Ibov\n",
    "import seaborn as sns\n"
   ]
  },
  {
   "cell_type": "markdown",
   "metadata": {},
   "source": [
    "### Load Vectors Ready for Training"
   ]
  },
  {
   "cell_type": "code",
   "execution_count": 4,
   "metadata": {},
   "outputs": [
    {
     "name": "stdout",
     "output_type": "stream",
     "text": [
      "/home/andre/Projects/stocks/data\n"
     ]
    }
   ],
   "source": [
    "cd data"
   ]
  },
  {
   "cell_type": "code",
   "execution_count": 5,
   "metadata": {},
   "outputs": [],
   "source": [
    "# # Working Path for Expert Advisor Metatrader 5\n",
    "# # Use same path that can be read by the expert advisor\n",
    "# #datapath = \"C:\\\\Users\\\\alferreira\\\\Downloads\\\\stocks\\\\data\"\n",
    "# datapath = \"/home/andre/Projects/stocks/data\"\n",
    "# os.chdir(datapath)\n",
    "# # staistical mean and variance from 2013+2018 used to make data\n",
    "# # with variance < 1 and mean close to 0, that is how it works!\n",
    "# #stocks_stats = pd.read_csv('stocks_stats_2018.csv', index_col=0)\n",
    "# # selected columns by backtesting best performance accuracy\n",
    "# with open('collumns_selected.txt', 'r') as f: # txt column names divided by spaces\n",
    "#     columns = f.read()\n",
    "# selected_columns = columns.split(' ')[:-1]\n",
    "# #datapath = '/home/andre/.wine/drive_c/Program Files/Rico MetaTrader 5/MQL5/Files'\n",
    "# meta5Ibov.setDataPath(datapath, datapath, verbose=False)\n",
    "# # don't want masterdf to be reused\n",
    "# masterdf = meta5Ibov.loadMeta5Data(suffix='M1.mt5bin',\n",
    "#             cleandays=True, verbose=True)\n",
    "# masterdf = meta5Ibov.simpleColumnNames()"
   ]
  },
  {
   "cell_type": "code",
   "execution_count": 6,
   "metadata": {},
   "outputs": [],
   "source": [
    "# percmiss = meta5Ibov.calculateMissing(masterdf)\n",
    "# X, y, Xp = prepareData.GetTrainingPredictionVectors(\n",
    "#     masterdf.copy(), targetsymbol='PETR4_C', verbose=False,\n",
    "#     span=90, stats=None, selected=selected_columns)"
   ]
  },
  {
   "cell_type": "code",
   "execution_count": 7,
   "metadata": {},
   "outputs": [],
   "source": [
    "# X.to_pickle('X_train_90_minutes.pickle')\n",
    "# y.to_pickle('Y_train_90_minutes.pickle')"
   ]
  },
  {
   "cell_type": "code",
   "execution_count": 8,
   "metadata": {},
   "outputs": [],
   "source": [
    "X = pd.read_pickle('X_train_90_minutes.pickle')\n",
    "y = pd.read_pickle('Y_train_90_minutes.pickle')"
   ]
  },
  {
   "cell_type": "code",
   "execution_count": 9,
   "metadata": {},
   "outputs": [],
   "source": [
    "# X = X[:80000]\n",
    "# y = y[:80000]"
   ]
  },
  {
   "cell_type": "code",
   "execution_count": 10,
   "metadata": {
    "scrolled": true
   },
   "outputs": [
    {
     "data": {
      "text/plain": [
       "(504965, 148)"
      ]
     },
     "execution_count": 10,
     "metadata": {},
     "output_type": "execute_result"
    }
   ],
   "source": [
    "X.shape"
   ]
  },
  {
   "cell_type": "markdown",
   "metadata": {},
   "source": [
    "Clean up training samples  \n",
    "\n",
    "1:30 hours = 90 minutes  \n",
    "\n",
    "day has 7 hours for trading == 7*60 = 420  \n",
    "420-90-90 = 240 boundaries make left = 4 hours  "
   ]
  },
  {
   "cell_type": "code",
   "execution_count": 11,
   "metadata": {},
   "outputs": [],
   "source": [
    "X['day'] = X.index.map(lambda x: x.date())"
   ]
  },
  {
   "cell_type": "code",
   "execution_count": 12,
   "metadata": {},
   "outputs": [],
   "source": [
    "for day, group in X.groupby('day'):\n",
    "    if len(group) < 60*4: # less than 4 hours cannot daytrade with 2/3 hours boundary\n",
    "        X.drop(group.index, inplace=True)"
   ]
  },
  {
   "cell_type": "code",
   "execution_count": 13,
   "metadata": {},
   "outputs": [],
   "source": [
    "X['start'] = X.day.map(lambda x: datetime.datetime(x.year, x.month, x.day, 11, 30, 0))\n",
    "X['end'] = X.day.map(lambda x: datetime.datetime(x.year, x.month, x.day, 15, 30, 0))\n",
    "Xn = X.query('index > start and index < end').copy()\n",
    "Xn.drop(columns=['day', 'start', 'end'], inplace=True)\n",
    "Yn = y[Xn.index]"
   ]
  },
  {
   "cell_type": "code",
   "execution_count": 14,
   "metadata": {},
   "outputs": [
    {
     "data": {
      "text/plain": [
       "time\n",
       "2018-07-27 15:22:00    1.0\n",
       "2018-07-27 15:23:00    1.0\n",
       "2018-07-27 15:24:00    1.0\n",
       "Name: y, dtype: float64"
      ]
     },
     "execution_count": 14,
     "metadata": {},
     "output_type": "execute_result"
    }
   ],
   "source": [
    "Yn.tail(3)"
   ]
  },
  {
   "cell_type": "code",
   "execution_count": 15,
   "metadata": {},
   "outputs": [
    {
     "data": {
      "text/html": [
       "<div>\n",
       "<style scoped>\n",
       "    .dataframe tbody tr th:only-of-type {\n",
       "        vertical-align: middle;\n",
       "    }\n",
       "\n",
       "    .dataframe tbody tr th {\n",
       "        vertical-align: top;\n",
       "    }\n",
       "\n",
       "    .dataframe thead th {\n",
       "        text-align: right;\n",
       "    }\n",
       "</style>\n",
       "<table border=\"1\" class=\"dataframe\">\n",
       "  <thead>\n",
       "    <tr style=\"text-align: right;\">\n",
       "      <th></th>\n",
       "      <th>BBAS3_O</th>\n",
       "      <th>BBAS3_T</th>\n",
       "      <th>BBAS3_R</th>\n",
       "      <th>DOL$_O</th>\n",
       "      <th>DOL$_T</th>\n",
       "      <th>DOL$_R</th>\n",
       "      <th>VALE3_O</th>\n",
       "      <th>VALE3_T</th>\n",
       "      <th>VALE3_R</th>\n",
       "      <th>ABEV3_O</th>\n",
       "      <th>...</th>\n",
       "      <th>dema_2hour</th>\n",
       "      <th>macdhour</th>\n",
       "      <th>macd_meanhour</th>\n",
       "      <th>ema_2weekday</th>\n",
       "      <th>dema_2weekday</th>\n",
       "      <th>macdweekday</th>\n",
       "      <th>macd_meanweekday</th>\n",
       "      <th>rsi_2weekday</th>\n",
       "      <th>ema_2minute</th>\n",
       "      <th>macdminute</th>\n",
       "    </tr>\n",
       "    <tr>\n",
       "      <th>time</th>\n",
       "      <th></th>\n",
       "      <th></th>\n",
       "      <th></th>\n",
       "      <th></th>\n",
       "      <th></th>\n",
       "      <th></th>\n",
       "      <th></th>\n",
       "      <th></th>\n",
       "      <th></th>\n",
       "      <th></th>\n",
       "      <th></th>\n",
       "      <th></th>\n",
       "      <th></th>\n",
       "      <th></th>\n",
       "      <th></th>\n",
       "      <th></th>\n",
       "      <th></th>\n",
       "      <th></th>\n",
       "      <th></th>\n",
       "      <th></th>\n",
       "      <th></th>\n",
       "    </tr>\n",
       "  </thead>\n",
       "  <tbody>\n",
       "    <tr>\n",
       "      <th>2013-07-02 11:31:00</th>\n",
       "      <td>-1.039078</td>\n",
       "      <td>-0.234609</td>\n",
       "      <td>-0.621252</td>\n",
       "      <td>-0.517422</td>\n",
       "      <td>1.251865</td>\n",
       "      <td>1.862783</td>\n",
       "      <td>-0.185586</td>\n",
       "      <td>-0.132574</td>\n",
       "      <td>-0.098213</td>\n",
       "      <td>-1.229889</td>\n",
       "      <td>...</td>\n",
       "      <td>-0.871298</td>\n",
       "      <td>0.169966</td>\n",
       "      <td>-1.602625</td>\n",
       "      <td>-1.148629</td>\n",
       "      <td>0.632565</td>\n",
       "      <td>0.021266</td>\n",
       "      <td>0.896495</td>\n",
       "      <td>0.723836</td>\n",
       "      <td>-1.542713</td>\n",
       "      <td>0.397759</td>\n",
       "    </tr>\n",
       "    <tr>\n",
       "      <th>2013-07-02 11:32:00</th>\n",
       "      <td>-1.037687</td>\n",
       "      <td>-0.030084</td>\n",
       "      <td>-0.261802</td>\n",
       "      <td>-0.515785</td>\n",
       "      <td>1.626139</td>\n",
       "      <td>1.169825</td>\n",
       "      <td>-0.185586</td>\n",
       "      <td>-0.525525</td>\n",
       "      <td>-0.583688</td>\n",
       "      <td>-1.225708</td>\n",
       "      <td>...</td>\n",
       "      <td>-0.861675</td>\n",
       "      <td>0.158380</td>\n",
       "      <td>-1.595915</td>\n",
       "      <td>-1.144886</td>\n",
       "      <td>0.625563</td>\n",
       "      <td>0.019656</td>\n",
       "      <td>0.893689</td>\n",
       "      <td>0.723836</td>\n",
       "      <td>-1.508259</td>\n",
       "      <td>0.459120</td>\n",
       "    </tr>\n",
       "    <tr>\n",
       "      <th>2013-07-02 11:33:00</th>\n",
       "      <td>-1.037687</td>\n",
       "      <td>0.112929</td>\n",
       "      <td>-0.352245</td>\n",
       "      <td>-0.517422</td>\n",
       "      <td>1.327723</td>\n",
       "      <td>0.199945</td>\n",
       "      <td>-0.187598</td>\n",
       "      <td>-0.525525</td>\n",
       "      <td>-0.649792</td>\n",
       "      <td>-1.229889</td>\n",
       "      <td>...</td>\n",
       "      <td>-0.852158</td>\n",
       "      <td>0.147496</td>\n",
       "      <td>-1.589038</td>\n",
       "      <td>-1.141185</td>\n",
       "      <td>0.618639</td>\n",
       "      <td>0.018165</td>\n",
       "      <td>0.890757</td>\n",
       "      <td>0.723836</td>\n",
       "      <td>-1.466666</td>\n",
       "      <td>0.516576</td>\n",
       "    </tr>\n",
       "  </tbody>\n",
       "</table>\n",
       "<p>3 rows × 148 columns</p>\n",
       "</div>"
      ],
      "text/plain": [
       "                      BBAS3_O   BBAS3_T   BBAS3_R    DOL$_O    DOL$_T  \\\n",
       "time                                                                    \n",
       "2013-07-02 11:31:00 -1.039078 -0.234609 -0.621252 -0.517422  1.251865   \n",
       "2013-07-02 11:32:00 -1.037687 -0.030084 -0.261802 -0.515785  1.626139   \n",
       "2013-07-02 11:33:00 -1.037687  0.112929 -0.352245 -0.517422  1.327723   \n",
       "\n",
       "                       DOL$_R   VALE3_O   VALE3_T   VALE3_R   ABEV3_O  \\\n",
       "time                                                                    \n",
       "2013-07-02 11:31:00  1.862783 -0.185586 -0.132574 -0.098213 -1.229889   \n",
       "2013-07-02 11:32:00  1.169825 -0.185586 -0.525525 -0.583688 -1.225708   \n",
       "2013-07-02 11:33:00  0.199945 -0.187598 -0.525525 -0.649792 -1.229889   \n",
       "\n",
       "                        ...      dema_2hour  macdhour  macd_meanhour  \\\n",
       "time                    ...                                            \n",
       "2013-07-02 11:31:00     ...       -0.871298  0.169966      -1.602625   \n",
       "2013-07-02 11:32:00     ...       -0.861675  0.158380      -1.595915   \n",
       "2013-07-02 11:33:00     ...       -0.852158  0.147496      -1.589038   \n",
       "\n",
       "                     ema_2weekday  dema_2weekday  macdweekday  \\\n",
       "time                                                            \n",
       "2013-07-02 11:31:00     -1.148629       0.632565     0.021266   \n",
       "2013-07-02 11:32:00     -1.144886       0.625563     0.019656   \n",
       "2013-07-02 11:33:00     -1.141185       0.618639     0.018165   \n",
       "\n",
       "                     macd_meanweekday  rsi_2weekday  ema_2minute  macdminute  \n",
       "time                                                                          \n",
       "2013-07-02 11:31:00          0.896495      0.723836    -1.542713    0.397759  \n",
       "2013-07-02 11:32:00          0.893689      0.723836    -1.508259    0.459120  \n",
       "2013-07-02 11:33:00          0.890757      0.723836    -1.466666    0.516576  \n",
       "\n",
       "[3 rows x 148 columns]"
      ]
     },
     "execution_count": 15,
     "metadata": {},
     "output_type": "execute_result"
    }
   ],
   "source": [
    "Xn.head(3)"
   ]
  },
  {
   "cell_type": "code",
   "execution_count": 16,
   "metadata": {},
   "outputs": [],
   "source": [
    "device = torchNN.getDevice()"
   ]
  },
  {
   "cell_type": "code",
   "execution_count": 17,
   "metadata": {},
   "outputs": [
    {
     "data": {
      "text/plain": [
       "device(type='cuda')"
      ]
     },
     "execution_count": 17,
     "metadata": {},
     "output_type": "execute_result"
    }
   ],
   "source": [
    "device"
   ]
  },
  {
   "cell_type": "code",
   "execution_count": 18,
   "metadata": {},
   "outputs": [],
   "source": [
    "# tensors cannot be used with sklearn train_test_split\n",
    "# Xth, Yth = torchNN.dfvectorstoTensor(Xn, Yn, device)\n",
    "# Xth = torchNN.tensorNormalize(Xth)"
   ]
  },
  {
   "cell_type": "code",
   "execution_count": 19,
   "metadata": {},
   "outputs": [],
   "source": [
    "torchNN.setSeed(device, 25640) # reproducible"
   ]
  },
  {
   "cell_type": "code",
   "execution_count": 20,
   "metadata": {
    "scrolled": true
   },
   "outputs": [
    {
     "data": {
      "text/plain": [
       "288190"
      ]
     },
     "execution_count": 20,
     "metadata": {},
     "output_type": "execute_result"
    }
   ],
   "source": [
    "len(Xn)"
   ]
  },
  {
   "cell_type": "markdown",
   "metadata": {},
   "source": [
    "Train in **1 year** and test on the subsequent **6 months**"
   ]
  },
  {
   "cell_type": "code",
   "execution_count": 21,
   "metadata": {},
   "outputs": [
    {
     "name": "stdout",
     "output_type": "stream",
     "text": [
      "number folds  283150\n"
     ]
    }
   ],
   "source": [
    "#indextrain, indextest, nfolds = indexSequentialFolds(len(Xn), 4*60*5*4, 4*60)\n",
    "ntrain= 4*60*5*4\n",
    "ntest = 4*60\n",
    "indexfolds, nfolds = torchCV.indexSequentialFolds(len(Xn), ntrain+ntest)"
   ]
  },
  {
   "cell_type": "markdown",
   "metadata": {},
   "source": [
    "Get a random begin on data of 5 years"
   ]
  },
  {
   "cell_type": "code",
   "execution_count": 22,
   "metadata": {},
   "outputs": [],
   "source": [
    "i = np.random.randint(nfolds)"
   ]
  },
  {
   "cell_type": "markdown",
   "metadata": {},
   "source": [
    "Locally normalize mean = 0 and variance to 1"
   ]
  },
  {
   "cell_type": "code",
   "execution_count": 23,
   "metadata": {},
   "outputs": [],
   "source": [
    "Xfold, yfold  = Xn[indexfolds[i,0]:indexfolds[i,1]].copy(), Yn[indexfolds[i,0]:indexfolds[i,1]].copy()\n",
    "Xfold = (Xfold - Xfold.mean())/Xfold.std() # normalize variance=1 mean=0"
   ]
  },
  {
   "cell_type": "code",
   "execution_count": 24,
   "metadata": {},
   "outputs": [
    {
     "ename": "KeyboardInterrupt",
     "evalue": "",
     "output_type": "error",
     "traceback": [
      "\u001b[0;31m---------------------------------------------------------------------------\u001b[0m",
      "\u001b[0;31mKeyboardInterrupt\u001b[0m                         Traceback (most recent call last)",
      "\u001b[0;32m<ipython-input-24-a57863a56b10>\u001b[0m in \u001b[0;36m<module>\u001b[0;34m()\u001b[0m\n\u001b[1;32m      1\u001b[0m \u001b[0;31m# tensors\u001b[0m\u001b[0;34m\u001b[0m\u001b[0;34m\u001b[0m\u001b[0m\n\u001b[0;32m----> 2\u001b[0;31m \u001b[0mXt\u001b[0m\u001b[0;34m,\u001b[0m \u001b[0myt\u001b[0m \u001b[0;34m=\u001b[0m \u001b[0mtorchNN\u001b[0m\u001b[0;34m.\u001b[0m\u001b[0mdfvectorstoTensor\u001b[0m\u001b[0;34m(\u001b[0m\u001b[0mXfold\u001b[0m\u001b[0;34m[\u001b[0m\u001b[0;34m:\u001b[0m\u001b[0mntrain\u001b[0m\u001b[0;34m]\u001b[0m\u001b[0;34m,\u001b[0m \u001b[0myfold\u001b[0m\u001b[0;34m[\u001b[0m\u001b[0;34m:\u001b[0m\u001b[0mntrain\u001b[0m\u001b[0;34m]\u001b[0m\u001b[0;34m,\u001b[0m \u001b[0mdevice\u001b[0m\u001b[0;34m)\u001b[0m\u001b[0;34m\u001b[0m\u001b[0m\n\u001b[0m\u001b[1;32m      3\u001b[0m \u001b[0mXs\u001b[0m\u001b[0;34m,\u001b[0m \u001b[0mys\u001b[0m \u001b[0;34m=\u001b[0m \u001b[0mtorchNN\u001b[0m\u001b[0;34m.\u001b[0m\u001b[0mdfvectorstoTensor\u001b[0m\u001b[0;34m(\u001b[0m\u001b[0mXfold\u001b[0m\u001b[0;34m[\u001b[0m\u001b[0;34m-\u001b[0m\u001b[0mntest\u001b[0m\u001b[0;34m:\u001b[0m\u001b[0;34m]\u001b[0m\u001b[0;34m,\u001b[0m \u001b[0myfold\u001b[0m\u001b[0;34m[\u001b[0m\u001b[0;34m-\u001b[0m\u001b[0mntest\u001b[0m\u001b[0;34m:\u001b[0m\u001b[0;34m]\u001b[0m\u001b[0;34m,\u001b[0m \u001b[0mdevice\u001b[0m\u001b[0;34m)\u001b[0m\u001b[0;34m\u001b[0m\u001b[0m\n",
      "\u001b[0;32m~/Projects/stocks/Tools/torchNN.py\u001b[0m in \u001b[0;36mdfvectorstoTensor\u001b[0;34m(X, y, device)\u001b[0m\n\u001b[1;32m    161\u001b[0m     \u001b[0mXn\u001b[0m \u001b[0;34m=\u001b[0m \u001b[0mX\u001b[0m\u001b[0;34m.\u001b[0m\u001b[0mvalues\u001b[0m\u001b[0;34m\u001b[0m\u001b[0m\n\u001b[1;32m    162\u001b[0m     \u001b[0myn\u001b[0m \u001b[0;34m=\u001b[0m \u001b[0my\u001b[0m\u001b[0;34m.\u001b[0m\u001b[0mvalues\u001b[0m\u001b[0;34m\u001b[0m\u001b[0m\n\u001b[0;32m--> 163\u001b[0;31m     \u001b[0mXn\u001b[0m \u001b[0;34m=\u001b[0m \u001b[0mth\u001b[0m\u001b[0;34m.\u001b[0m\u001b[0mtensor\u001b[0m\u001b[0;34m(\u001b[0m\u001b[0mXn\u001b[0m\u001b[0;34m.\u001b[0m\u001b[0mastype\u001b[0m\u001b[0;34m(\u001b[0m\u001b[0mnp\u001b[0m\u001b[0;34m.\u001b[0m\u001b[0mfloat32\u001b[0m\u001b[0;34m)\u001b[0m\u001b[0;34m)\u001b[0m\u001b[0;34m.\u001b[0m\u001b[0mto\u001b[0m\u001b[0;34m(\u001b[0m\u001b[0mdevice\u001b[0m\u001b[0;34m)\u001b[0m\u001b[0;34m\u001b[0m\u001b[0m\n\u001b[0m\u001b[1;32m    164\u001b[0m     \u001b[0myn\u001b[0m \u001b[0;34m=\u001b[0m \u001b[0mth\u001b[0m\u001b[0;34m.\u001b[0m\u001b[0mtensor\u001b[0m\u001b[0;34m(\u001b[0m\u001b[0myn\u001b[0m\u001b[0;34m.\u001b[0m\u001b[0mastype\u001b[0m\u001b[0;34m(\u001b[0m\u001b[0mnp\u001b[0m\u001b[0;34m.\u001b[0m\u001b[0mint64\u001b[0m\u001b[0;34m)\u001b[0m\u001b[0;34m)\u001b[0m\u001b[0;34m.\u001b[0m\u001b[0mto\u001b[0m\u001b[0;34m(\u001b[0m\u001b[0mdevice\u001b[0m\u001b[0;34m)\u001b[0m\u001b[0;34m\u001b[0m\u001b[0m\n\u001b[1;32m    165\u001b[0m     \u001b[0;32mreturn\u001b[0m \u001b[0mXn\u001b[0m\u001b[0;34m,\u001b[0m \u001b[0myn\u001b[0m\u001b[0;34m\u001b[0m\u001b[0m\n",
      "\u001b[0;31mKeyboardInterrupt\u001b[0m: "
     ]
    }
   ],
   "source": [
    "# tensors\n",
    "Xt, yt = torchNN.dfvectorstoTensor(Xfold[:ntrain], yfold[:ntrain], device) \n",
    "Xs, ys = torchNN.dfvectorstoTensor(Xfold[-ntest:], yfold[-ntest:], device)"
   ]
  },
  {
   "cell_type": "code",
   "execution_count": null,
   "metadata": {},
   "outputs": [],
   "source": [
    "classifier = torchNN.BinaryNN(device, dropout=0.4, learn=5e-4, patience=7)"
   ]
  },
  {
   "cell_type": "code",
   "execution_count": null,
   "metadata": {},
   "outputs": [],
   "source": [
    "classifier.fit(Xt, yt, Xs, ys, epochs=15, batch=64, score=0.5, gma=0.725, verbose=False)"
   ]
  },
  {
   "cell_type": "code",
   "execution_count": null,
   "metadata": {},
   "outputs": [],
   "source": [
    "results = classifier.results()"
   ]
  },
  {
   "cell_type": "code",
   "execution_count": null,
   "metadata": {},
   "outputs": [],
   "source": [
    "results.head()"
   ]
  },
  {
   "cell_type": "markdown",
   "metadata": {},
   "source": [
    "### Best 54% on validation\n",
    "\n",
    "- `gamma`  should not be too high (~0.9) otherwise we have overfitting on training set \n",
    "- a low `gamma` value makes it go to a local minima that is the validation minima"
   ]
  },
  {
   "cell_type": "code",
   "execution_count": null,
   "metadata": {},
   "outputs": [],
   "source": [
    "xlim = 1200#len(errort)#40 #len(errort) #50#len(errort) #310\n",
    "epochs = results.index[-xlim:]\n",
    "losst = results.t_loss.values[-xlim:]\n",
    "lossv = results.v_loss.values[-xlim:]\n",
    "acc = results.accuracy.values[-xlim:]\n",
    "f, axr = plt.subplots(3, sharex=True, figsize=(15,5))\n",
    "f.subplots_adjust(hspace=0)\n",
    "axr[0].plot(epochs, acc, '.r')\n",
    "axr[0].plot(epochs, acc, '-r', label='accuracy validation')\n",
    "#axr[0].set_xscale('log')\n",
    "axr[0].grid()\n",
    "axr[0].legend()\n",
    "axr[1].plot(epochs, lossv, '.g')\n",
    "axr[1].plot(epochs, lossv, '-g', label='loss validation')\n",
    "axr[1].grid()\n",
    "axr[1].legend()\n",
    "axr[2].plot(epochs, losst, '.r')\n",
    "axr[2].plot(epochs, losst, '-r', label='loss training')\n",
    "axr[2].grid()\n",
    "axr[2].legend()\n",
    "axr[2].set_xlabel('epochs')"
   ]
  },
  {
   "cell_type": "markdown",
   "metadata": {},
   "source": [
    "### Cross validation Sequential Folds - random samples"
   ]
  },
  {
   "cell_type": "code",
   "execution_count": null,
   "metadata": {},
   "outputs": [],
   "source": [
    "torchNN.setSeed(device, 25640) # reproducible"
   ]
  },
  {
   "cell_type": "code",
   "execution_count": null,
   "metadata": {
    "scrolled": true
   },
   "outputs": [],
   "source": [
    "#def cross_validate\n",
    "ntrain= 4*60*5 # week\n",
    "ntest = 90\n",
    "nacc = 90\n",
    "indexfolds, nfolds = torchCV.indexSequentialFolds(len(Xn), ntrain+ntest+nacc)\n",
    "accuracies = [] # validation accuracies\n",
    "for n in progressbar(range(1000)):\n",
    "    i = np.random.randint(nfolds)\n",
    "    Xfold, yfold  = Xn[indexfolds[i,0]:indexfolds[i,1]].copy(), Yn[indexfolds[i,0]:indexfolds[i,1]].copy()\n",
    "    Xfold = (Xfold - Xfold.mean())/Xfold.std() # normalize variance=1 mean=0\n",
    "    # tensors\n",
    "    Xt, yt = torchNN.dfvectorstoTensor(Xfold[:ntrain], yfold[:ntrain], device) \n",
    "    Xs, ys = torchNN.dfvectorstoTensor(Xfold[ntrain:-nacc], yfold[ntrain:-nacc], device)\n",
    "    classifier = torchNN.BinaryNN(device, dropout=0.4, learn=5e-4, patience=10)\n",
    "    accuracyt = classifier.fit(Xt, yt, Xs, ys, epochs=15, batch=32, score=0.5, gma=0.725, verbose=False)\n",
    "#     Xt, yt = torchNN.dfvectorstoTensor(Xfold[:ntrain+ntest//2], yfold[:ntrain+ntest//2], device) \n",
    "#     Xs, ys = torchNN.dfvectorstoTensor(Xfold[ntrain+ntest//2:-nacc], yfold[ntrain+ntest//2:-nacc], device)\n",
    "#     classifier = torchNN.BinaryNN(dropout=0.4, learn=5e-4, patience=10)\n",
    "#     accuracyv = classifier.fit(Xt, yt, Xs, ys, device, epochs=15, batch=32, score=0.5, gma=0.725, verbose=False)\n",
    "    classifier.fineTune(Xs, ys, epochs=1, batch=8) # fine tunning before predict\n",
    "    Xac, yac = torchNN.dfvectorstoTensor( Xfold[-nacc:], yfold[-nacc:], device)\n",
    "    predicted = torchNN.modelAccuracy(classifier, Xac, yac)\n",
    "    accuracies.append([accuracyt, 0., predicted])\n",
    "    print(n)"
   ]
  },
  {
   "cell_type": "code",
   "execution_count": null,
   "metadata": {},
   "outputs": [],
   "source": [
    "accuracies = np.array(accuracies)"
   ]
  },
  {
   "cell_type": "code",
   "execution_count": null,
   "metadata": {},
   "outputs": [],
   "source": [
    "def probability(values):\n",
    "    percentiles = np.percentile(values, [0, 1, 10, 50, 90])\n",
    "    print('percentiles are ', percentiles)\n",
    "    import matplotlib.ticker as plticker\n",
    "    loc = plticker.MultipleLocator(base=1.0) # this locator puts ticks at regular intervals\n",
    "    fig = plt.figure(figsize=(10,4))\n",
    "    ax1 = fig.add_subplot(211);\n",
    "    ax1.hist(values, bins=20, density=True);\n",
    "    #ax1.set_xlim(percentiles[0], 5)\n",
    "    ax1.xaxis.set_major_locator(loc)\n",
    "    ax1.grid()\n",
    "    ax2 = fig.add_subplot(212, sharex=ax1)\n",
    "    ax2.hist(values, bins=20, density=True, cumulative=True);\n",
    "    ax2.xaxis.set_major_locator(loc)\n",
    "    ax2.set_ylabel('cumulative percentage (%)')\n",
    "    ax2.grid()"
   ]
  },
  {
   "cell_type": "code",
   "execution_count": null,
   "metadata": {},
   "outputs": [],
   "source": [
    "dfacc = pd.DataFrame(accuracies, columns=['score0', 'score1', 'acc'])"
   ]
  },
  {
   "cell_type": "code",
   "execution_count": null,
   "metadata": {},
   "outputs": [],
   "source": [
    "#dfacc = pd.read_pickle('simulations_akamoviedod.pickle')"
   ]
  },
  {
   "cell_type": "code",
   "execution_count": null,
   "metadata": {},
   "outputs": [],
   "source": [
    "dfacc.head(1)"
   ]
  },
  {
   "cell_type": "code",
   "execution_count": null,
   "metadata": {},
   "outputs": [],
   "source": [
    "#dfacc['avg'] = np.sqrt(dfacc.score0*dfacc.score1)"
   ]
  },
  {
   "cell_type": "code",
   "execution_count": null,
   "metadata": {},
   "outputs": [],
   "source": [
    "plt.figure()\n",
    "sns.jointplot(dfacc.score0, dfacc.acc, kind=\"kde\")\n",
    "sns.despine()\n",
    "plt.figure()"
   ]
  },
  {
   "cell_type": "code",
   "execution_count": null,
   "metadata": {},
   "outputs": [],
   "source": [
    "probability(dfacc[dfacc.score0 > 0.95].acc);"
   ]
  },
  {
   "cell_type": "code",
   "execution_count": null,
   "metadata": {},
   "outputs": [],
   "source": [
    "len(dfacc[dfacc.score0 > 0.95].acc)"
   ]
  },
  {
   "cell_type": "code",
   "execution_count": null,
   "metadata": {},
   "outputs": [],
   "source": [
    "len(dfacc[dfacc.score0 > 0.95].acc)/1000"
   ]
  },
  {
   "cell_type": "code",
   "execution_count": null,
   "metadata": {},
   "outputs": [],
   "source": []
  }
 ],
 "metadata": {
  "kernelspec": {
   "display_name": "Python 3",
   "language": "python",
   "name": "python3"
  },
  "language_info": {
   "codemirror_mode": {
    "name": "ipython",
    "version": 3
   },
   "file_extension": ".py",
   "mimetype": "text/x-python",
   "name": "python",
   "nbconvert_exporter": "python",
   "pygments_lexer": "ipython3",
   "version": "3.6.5"
  }
 },
 "nbformat": 4,
 "nbformat_minor": 2
}
