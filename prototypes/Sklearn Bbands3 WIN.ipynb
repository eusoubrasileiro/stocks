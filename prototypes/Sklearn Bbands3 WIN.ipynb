{
 "cells": [
  {
   "cell_type": "markdown",
   "metadata": {},
   "source": [
    "#### Using WIN M1 Metatrader 5 data\n",
    "\n",
    "Implementing Saulo's arbitrage algo\n",
    "\n",
    "The idea is to train a guided system that learns and ajusts itself with its owns errors.  \n",
    "That's the idea of a kalman's filter.   \n",
    "The base for the first decision is the Bollinger Bands Algo.  \n",
    "That's the most powerfull algo, based on the regression toward the mean law!"
   ]
  },
  {
   "cell_type": "code",
   "execution_count": 1,
   "metadata": {},
   "outputs": [],
   "source": [
    "%matplotlib inline "
   ]
  },
  {
   "cell_type": "code",
   "execution_count": 2,
   "metadata": {},
   "outputs": [
    {
     "data": {
      "text/plain": [
       "'/home/andre/Projects/stocks/prototypes'"
      ]
     },
     "execution_count": 2,
     "metadata": {},
     "output_type": "execute_result"
    }
   ],
   "source": [
    "pwd"
   ]
  },
  {
   "cell_type": "code",
   "execution_count": 3,
   "metadata": {},
   "outputs": [
    {
     "name": "stdout",
     "output_type": "stream",
     "text": [
      "/home/andre/Projects/stocks\n"
     ]
    }
   ],
   "source": [
    "cd .."
   ]
  },
  {
   "cell_type": "code",
   "execution_count": 4,
   "metadata": {},
   "outputs": [],
   "source": [
    "from matplotlib import pyplot as plt\n",
    "import os\n",
    "import sys\n",
    "import pandas as pd\n",
    "import numpy as np\n",
    "import struct\n",
    "import datetime\n",
    "import calendar\n",
    "import time\n",
    "import argparse\n",
    "import seaborn as sns\n",
    "from algos import meta5Ibov\n",
    "from algos.util import progressbar\n",
    "from algos import bbands\n",
    "from algos import meta5Ibov\n",
    "\n",
    "import torch as th\n",
    "import scipy\n",
    "import talib as ta\n",
    "from numba import jit"
   ]
  },
  {
   "cell_type": "code",
   "execution_count": 5,
   "metadata": {},
   "outputs": [
    {
     "name": "stdout",
     "output_type": "stream",
     "text": [
      "/home/andre/Projects/stocks/data\n"
     ]
    }
   ],
   "source": [
    "cd data"
   ]
  },
  {
   "cell_type": "code",
   "execution_count": 6,
   "metadata": {},
   "outputs": [
    {
     "data": {
      "text/plain": [
       "'/home/andre/Projects/stocks/data'"
      ]
     },
     "execution_count": 6,
     "metadata": {},
     "output_type": "execute_result"
    }
   ],
   "source": [
    "pwd"
   ]
  },
  {
   "cell_type": "code",
   "execution_count": 7,
   "metadata": {},
   "outputs": [
    {
     "name": "stderr",
     "output_type": "stream",
     "text": [
      "Master data loaded size (minutes):  509471\n",
      "symbols loaded:\n",
      "['BBAS3' 'DOL$' 'VALE3' 'ABEV3' 'ITUB4' 'B3SA3' 'BBDC4' 'PETR4' 'WIN@']\n"
     ]
    }
   ],
   "source": [
    "# meta5Ibov.setDataPath(r'C:\\\\Users\\\\alferreira\\\\Documents\\\\stocks\\\\data', \n",
    "#                      r'C:\\\\Users\\\\alferreira\\\\Documents\\\\stocks\\\\data')\n",
    "meta5Ibov.setDataPath(r'/home/andre/Projects/stocks/data', \n",
    "                        r'/home/andre/Projects/stocks/data')\n"
   ]
  },
  {
   "cell_type": "markdown",
   "metadata": {},
   "source": [
    "#### Using M1 Data but could be M15 data etc.\n",
    "\n",
    "Saulo used 10 seconds interval"
   ]
  },
  {
   "cell_type": "code",
   "execution_count": 8,
   "metadata": {},
   "outputs": [
    {
     "name": "stderr",
     "output_type": "stream",
     "text": [
      "Master data loaded size (minutes):  509471\n",
      "symbols loaded:\n",
      "['BBAS3' 'DOL$' 'VALE3' 'ABEV3' 'ITUB4' 'B3SA3' 'BBDC4' 'PETR4' 'WIN@']\n",
      "Using previous loaded data!\n"
     ]
    }
   ],
   "source": [
    "#meta5Ibov.loadMeta5Data(preload=False);\n",
    "meta5Ibov.loadMeta5Data();"
   ]
  },
  {
   "cell_type": "code",
   "execution_count": 9,
   "metadata": {},
   "outputs": [],
   "source": [
    "bars = meta5Ibov.getSymbol('WIN@')"
   ]
  },
  {
   "cell_type": "markdown",
   "metadata": {},
   "source": [
    "### Must be done otherwise will have 8 columns of data prior creating signal features"
   ]
  },
  {
   "cell_type": "code",
   "execution_count": 10,
   "metadata": {},
   "outputs": [],
   "source": [
    "del bars['S'] "
   ]
  },
  {
   "cell_type": "code",
   "execution_count": 14,
   "metadata": {},
   "outputs": [],
   "source": [
    "datetimes = bars.index"
   ]
  },
  {
   "cell_type": "code",
   "execution_count": 22,
   "metadata": {},
   "outputs": [
    {
     "data": {
      "text/plain": [
       "<bound method Index.get_values of DatetimeIndex(['2014-01-02 10:06:00', '2014-01-02 10:07:00',\n",
       "               '2014-01-02 10:08:00', '2014-01-02 10:09:00',\n",
       "               '2014-01-02 10:10:00', '2014-01-02 10:11:00',\n",
       "               '2014-01-02 10:12:00', '2014-01-02 10:13:00',\n",
       "               '2014-01-02 10:14:00', '2014-01-02 10:15:00',\n",
       "               ...\n",
       "               '2019-01-17 17:45:00', '2019-01-17 17:46:00',\n",
       "               '2019-01-17 17:47:00', '2019-01-17 17:48:00',\n",
       "               '2019-01-17 17:49:00', '2019-01-17 17:50:00',\n",
       "               '2019-01-17 17:51:00', '2019-01-17 17:52:00',\n",
       "               '2019-01-17 17:53:00', '2019-01-17 17:54:00'],\n",
       "              dtype='datetime64[ns]', name='time', length=509471, freq=None)>"
      ]
     },
     "execution_count": 22,
     "metadata": {},
     "output_type": "execute_result"
    }
   ],
   "source": [
    "datetimes."
   ]
  },
  {
   "cell_type": "code",
   "execution_count": 50,
   "metadata": {},
   "outputs": [
    {
     "name": "stdout",
     "output_type": "stream",
     "text": [
      "CPU times: user 32.9 ms, sys: 44 µs, total: 33 ms\n",
      "Wall time: 32.3 ms\n"
     ]
    }
   ],
   "source": [
    "%%time\n",
    "days = datetimes.to_period('D')\n",
    "dayint = days.asi8"
   ]
  },
  {
   "cell_type": "code",
   "execution_count": 52,
   "metadata": {},
   "outputs": [
    {
     "data": {
      "text/plain": [
       "(509471, 509471)"
      ]
     },
     "execution_count": 52,
     "metadata": {},
     "output_type": "execute_result"
    }
   ],
   "source": [
    "len(dayint), len(datetimes)"
   ]
  },
  {
   "cell_type": "markdown",
   "metadata": {},
   "source": [
    "Not enough memory on local machine"
   ]
  },
  {
   "cell_type": "code",
   "execution_count": 12,
   "metadata": {},
   "outputs": [],
   "source": [
    "bars = bars[-5000:]"
   ]
  },
  {
   "cell_type": "code",
   "execution_count": 13,
   "metadata": {},
   "outputs": [],
   "source": [
    "# Indicadores\n",
    "# Bollinger, MACD, SMA, EMA"
   ]
  },
  {
   "cell_type": "code",
   "execution_count": 14,
   "metadata": {},
   "outputs": [],
   "source": [
    "#dow['OHLC'] = dow.apply(lambda row: np.mean([row['O'], row['H'], row['L'], row['C']]), axis=1) \n",
    "bars['OHLC'] = np.nan # typical price\n",
    "bars.OHLC.values[:] = np.mean(bars.values[:,0:4], axis=1) # 1000x faster"
   ]
  },
  {
   "cell_type": "code",
   "execution_count": 15,
   "metadata": {},
   "outputs": [],
   "source": [
    "# needed to reset orders by day, day id\n",
    "bars['date'] = bars.index.date\n",
    "bars.date = bars.apply(lambda x: x.date.toordinal(), axis=1) # integer day from year 1 day 1 gregorian day"
   ]
  },
  {
   "cell_type": "code",
   "execution_count": 16,
   "metadata": {},
   "outputs": [],
   "source": [
    "# # (to unix timestamp) from nano seconds 10*9 to seconds //60 to minutes\n",
    "# dow.index.astype(np.int64)//10**9"
   ]
  },
  {
   "cell_type": "code",
   "execution_count": 17,
   "metadata": {
    "scrolled": true
   },
   "outputs": [
    {
     "data": {
      "text/html": [
       "<div>\n",
       "<style scoped>\n",
       "    .dataframe tbody tr th:only-of-type {\n",
       "        vertical-align: middle;\n",
       "    }\n",
       "\n",
       "    .dataframe tbody tr th {\n",
       "        vertical-align: top;\n",
       "    }\n",
       "\n",
       "    .dataframe thead th {\n",
       "        text-align: right;\n",
       "    }\n",
       "</style>\n",
       "<table border=\"1\" class=\"dataframe\">\n",
       "  <thead>\n",
       "    <tr style=\"text-align: right;\">\n",
       "      <th></th>\n",
       "      <th>O</th>\n",
       "      <th>H</th>\n",
       "      <th>L</th>\n",
       "      <th>C</th>\n",
       "      <th>TV</th>\n",
       "      <th>RV</th>\n",
       "      <th>OHLC</th>\n",
       "      <th>date</th>\n",
       "    </tr>\n",
       "    <tr>\n",
       "      <th>time</th>\n",
       "      <th></th>\n",
       "      <th></th>\n",
       "      <th></th>\n",
       "      <th></th>\n",
       "      <th></th>\n",
       "      <th></th>\n",
       "      <th></th>\n",
       "      <th></th>\n",
       "    </tr>\n",
       "  </thead>\n",
       "  <tbody>\n",
       "    <tr>\n",
       "      <th>2018-11-27 11:25:00</th>\n",
       "      <td>86190.0</td>\n",
       "      <td>86195.0</td>\n",
       "      <td>86135.0</td>\n",
       "      <td>86160.0</td>\n",
       "      <td>1544</td>\n",
       "      <td>4907</td>\n",
       "      <td>86170.0</td>\n",
       "      <td>737025</td>\n",
       "    </tr>\n",
       "  </tbody>\n",
       "</table>\n",
       "</div>"
      ],
      "text/plain": [
       "                           O        H        L        C    TV    RV     OHLC  \\\n",
       "time                                                                           \n",
       "2018-11-27 11:25:00  86190.0  86195.0  86135.0  86160.0  1544  4907  86170.0   \n",
       "\n",
       "                       date  \n",
       "time                         \n",
       "2018-11-27 11:25:00  737025  "
      ]
     },
     "execution_count": 17,
     "metadata": {},
     "output_type": "execute_result"
    }
   ],
   "source": [
    "bars.head(1)"
   ]
  },
  {
   "cell_type": "code",
   "execution_count": 18,
   "metadata": {},
   "outputs": [
    {
     "data": {
      "text/plain": [
       "(5000, 8)"
      ]
     },
     "execution_count": 18,
     "metadata": {},
     "output_type": "execute_result"
    }
   ],
   "source": [
    "bars.shape"
   ]
  },
  {
   "cell_type": "code",
   "execution_count": 19,
   "metadata": {},
   "outputs": [],
   "source": [
    "window=21; nbands=3 # number of bbands"
   ]
  },
  {
   "cell_type": "markdown",
   "metadata": {},
   "source": [
    "#### Calculate 6 bollinger bands\n",
    "\n",
    "starting with 0.5xjanela= 0.5x360=180  \n",
    "increasing so the 6 bollinger bands have lengths  \n",
    "180, 360, 540, 720, 1080  \n",
    "#### For each band get signals of buy/sell or hold  "
   ]
  },
  {
   "cell_type": "markdown",
   "metadata": {},
   "source": [
    "#### Calculate bands first and drop nan's at the beginning\n",
    "\n",
    "nan's due the EMA's using previous values"
   ]
  },
  {
   "cell_type": "code",
   "execution_count": 20,
   "metadata": {},
   "outputs": [
    {
     "data": {
      "image/png": "[encoded data removed]",
      "text/plain": [
       "<Figure size 1080x504 with 2 Axes>"
      ]
     },
     "metadata": {
      "needs_background": "light"
     },
     "output_type": "display_data"
    }
   ],
   "source": [
    "lastn=-500\n",
    "verbose=True\n",
    "price = bars.OHLC.values\n",
    "inc=0.5\n",
    "for i in range(nbands):\n",
    "    upband, sma, lwband =  ta.BBANDS(price, window*inc)\n",
    "    bars['bandlw'+str(i)] = lwband\n",
    "    bars['bandup'+str(i)] = upband\n",
    "    bars['bandsg'+str(i)] = 0 # signal for this band\n",
    "    signals = bbands.bollingerSignal(price[1:], price[:-1],\n",
    "                              upband[1:], upband[:-1], lwband[1:], lwband[:-1])\n",
    "    bars.loc[1:, 'bandsg'+str(i)] = signals.astype(int) # signal for this band\n",
    "    inc += 0.5\n",
    "bars.dropna(inplace=True)\n",
    "\n",
    "# if verbose plotting\n",
    "lastn=-500\n",
    "if verbose:\n",
    "    plt.figure(figsize=(15,7))\n",
    "    plt.subplot(2, 1, 1)\n",
    "    plt.plot(price[lastn:], 'k-')\n",
    "    for i in range(nbands):\n",
    "        # plot bands\n",
    "        plt.plot(bars['bandup'+str(i)].values[lastn:], 'b--', lw=0.3)\n",
    "        plt.plot(bars['bandlw'+str(i)].values[lastn:], 'b--', lw=0.3)\n",
    "    plt.subplot(2, 1, 2)\n",
    "    for i in range(nbands):\n",
    "        plt.plot(bars['bandsg'+str(i)].values[lastn:], '+', label='band '+str(i))\n",
    "        plt.ylabel('signal-code')\n",
    "    plt.legend()\n",
    "#     plt.savefig('bbands.png')\n",
    "#     plt.close()"
   ]
  },
  {
   "cell_type": "code",
   "execution_count": 21,
   "metadata": {},
   "outputs": [],
   "source": [
    "bars.dropna(inplace=True)"
   ]
  },
  {
   "cell_type": "code",
   "execution_count": 22,
   "metadata": {},
   "outputs": [
    {
     "data": {
      "text/plain": [
       "4970"
      ]
     },
     "execution_count": 22,
     "metadata": {},
     "output_type": "execute_result"
    }
   ],
   "source": [
    "len(bars)"
   ]
  },
  {
   "cell_type": "markdown",
   "metadata": {},
   "source": [
    "#### batch signal vector is N dimensional composed of signals for each band + thousand indicators\n",
    "\n",
    "batch.append([sigb0, sigb1, ..., sigb5, askv, bidv])\n",
    "\n",
    "may/should increase this here with other indicators"
   ]
  },
  {
   "cell_type": "markdown",
   "metadata": {},
   "source": [
    "#### Need to traverse every band calculating \n",
    "\n",
    "- profit\n",
    "- real Y class (buy, hold, sell)"
   ]
  },
  {
   "cell_type": "code",
   "execution_count": 23,
   "metadata": {},
   "outputs": [],
   "source": [
    "for j in range(nbands): # for each band traverse it\n",
    "    bars['y'+str(j)] = np.nan\n",
    "    ibandsg = bars.columns.get_loc('bandsg'+str(j))\n",
    "    iyband = bars.columns.get_loc('y'+str(j))    \n",
    "    # being pessimistic ... is this right?\n",
    "    # should i buy at what price? I dont know maybe the typical one is more realistic.\n",
    "    # but setting the worst case garantees profit in the worst scenario!!\n",
    "    # better.\n",
    "    # So i Buy at the highest price and sell at the lowest one.\n",
    "    yband = bbands.traverseBand(bars.iloc[:, ibandsg].values.astype(int),\n",
    "                                    bars.iloc[:, iyband].values,\n",
    "                                    bars.H.values, bars.L.values, bars.date.values)\n",
    "    bars.iloc[:, iyband] = yband"
   ]
  },
  {
   "cell_type": "code",
   "execution_count": 24,
   "metadata": {
    "scrolled": false
   },
   "outputs": [
    {
     "data": {
      "text/plain": [
       "0"
      ]
     },
     "execution_count": 24,
     "metadata": {},
     "output_type": "execute_result"
    }
   ],
   "source": [
    "bars.memory_usage(index=True).sum()//(1024*1024) # MBytes"
   ]
  },
  {
   "cell_type": "markdown",
   "metadata": {},
   "source": [
    "### Taking a look on the target class for each band"
   ]
  },
  {
   "cell_type": "code",
   "execution_count": 25,
   "metadata": {},
   "outputs": [],
   "source": [
    "#tmp = dow.dropna()\n",
    "columns = ['y'+str(j) for j in range(nbands)]\n",
    "tmp = bars[columns]\n",
    "ys = tmp.dropna(how='all')"
   ]
  },
  {
   "cell_type": "code",
   "execution_count": 26,
   "metadata": {
    "scrolled": true
   },
   "outputs": [
    {
     "data": {
      "text/html": [
       "<div>\n",
       "<style scoped>\n",
       "    .dataframe tbody tr th:only-of-type {\n",
       "        vertical-align: middle;\n",
       "    }\n",
       "\n",
       "    .dataframe tbody tr th {\n",
       "        vertical-align: top;\n",
       "    }\n",
       "\n",
       "    .dataframe thead th {\n",
       "        text-align: right;\n",
       "    }\n",
       "</style>\n",
       "<table border=\"1\" class=\"dataframe\">\n",
       "  <thead>\n",
       "    <tr style=\"text-align: right;\">\n",
       "      <th></th>\n",
       "      <th>y0</th>\n",
       "      <th>y1</th>\n",
       "      <th>y2</th>\n",
       "    </tr>\n",
       "    <tr>\n",
       "      <th>time</th>\n",
       "      <th></th>\n",
       "      <th></th>\n",
       "      <th></th>\n",
       "    </tr>\n",
       "  </thead>\n",
       "  <tbody>\n",
       "    <tr>\n",
       "      <th>2018-11-27 11:57:00</th>\n",
       "      <td>0.0</td>\n",
       "      <td>NaN</td>\n",
       "      <td>NaN</td>\n",
       "    </tr>\n",
       "    <tr>\n",
       "      <th>2018-11-27 12:16:00</th>\n",
       "      <td>1.0</td>\n",
       "      <td>NaN</td>\n",
       "      <td>NaN</td>\n",
       "    </tr>\n",
       "    <tr>\n",
       "      <th>2018-11-27 12:18:00</th>\n",
       "      <td>NaN</td>\n",
       "      <td>1.0</td>\n",
       "      <td>NaN</td>\n",
       "    </tr>\n",
       "    <tr>\n",
       "      <th>2018-11-27 12:19:00</th>\n",
       "      <td>NaN</td>\n",
       "      <td>NaN</td>\n",
       "      <td>1.0</td>\n",
       "    </tr>\n",
       "    <tr>\n",
       "      <th>2018-11-27 12:37:00</th>\n",
       "      <td>2.0</td>\n",
       "      <td>NaN</td>\n",
       "      <td>NaN</td>\n",
       "    </tr>\n",
       "  </tbody>\n",
       "</table>\n",
       "</div>"
      ],
      "text/plain": [
       "                      y0   y1   y2\n",
       "time                              \n",
       "2018-11-27 11:57:00  0.0  NaN  NaN\n",
       "2018-11-27 12:16:00  1.0  NaN  NaN\n",
       "2018-11-27 12:18:00  NaN  1.0  NaN\n",
       "2018-11-27 12:19:00  NaN  NaN  1.0\n",
       "2018-11-27 12:37:00  2.0  NaN  NaN"
      ]
     },
     "execution_count": 26,
     "metadata": {},
     "output_type": "execute_result"
    }
   ],
   "source": [
    "ys.head()"
   ]
  },
  {
   "cell_type": "markdown",
   "metadata": {},
   "source": [
    "### In average how long it takes to close a position"
   ]
  },
  {
   "cell_type": "markdown",
   "metadata": {},
   "source": [
    "** reseted by day**"
   ]
  },
  {
   "cell_type": "code",
   "execution_count": 27,
   "metadata": {},
   "outputs": [],
   "source": [
    "@jit\n",
    "def close_time(yserie):\n",
    "    buy = False\n",
    "    times = []\n",
    "    buytime = None\n",
    "    for i in range(yserie.size):\n",
    "        if yserie[i] == 1:\n",
    "            buy = True\n",
    "            buytime = yserie.index[i]\n",
    "        elif yserie[i] == 2 and buy == True: #selling that\n",
    "            selltime = yserie.index[i]\n",
    "            #print('diff ', selltime-buytime)\n",
    "            times.append(selltime-buytime)\n",
    "            buy = False\n",
    "    return np.array(times)"
   ]
  },
  {
   "cell_type": "code",
   "execution_count": 28,
   "metadata": {},
   "outputs": [],
   "source": [
    "times = np.array([])\n",
    "for i in range(nbands):\n",
    "    times = np.append(times, close_time(ys['y'+str(i)]))"
   ]
  },
  {
   "cell_type": "code",
   "execution_count": 29,
   "metadata": {
    "scrolled": true
   },
   "outputs": [],
   "source": [
    "times = np.array(list(map(lambda x: x.total_seconds()/60, times)))"
   ]
  },
  {
   "cell_type": "code",
   "execution_count": 30,
   "metadata": {},
   "outputs": [
    {
     "name": "stdout",
     "output_type": "stream",
     "text": [
      "p0: 6.0 p1: 7.0 p10: 10.0 p50: 21.5 p90: 38.2\n"
     ]
    }
   ],
   "source": [
    "print('p0: {:.1f} p1: {:.1f} p10: {:.1f} p50: {:.1f} p90: {:.1f}'.format(*np.percentile(times, [0, 1, 10, 50, 90])))"
   ]
  },
  {
   "cell_type": "code",
   "execution_count": 31,
   "metadata": {},
   "outputs": [
    {
     "data": {
      "text/plain": [
       "89.0"
      ]
     },
     "execution_count": 31,
     "metadata": {},
     "output_type": "execute_result"
    }
   ],
   "source": [
    "np.max(times)"
   ]
  },
  {
   "cell_type": "code",
   "execution_count": 32,
   "metadata": {},
   "outputs": [
    {
     "data": {
      "image/png": "[encoded data removed]",
      "text/plain": [
       "<Figure size 432x288 with 1 Axes>"
      ]
     },
     "metadata": {
      "needs_background": "light"
     },
     "output_type": "display_data"
    }
   ],
   "source": [
    "plt.hist(times, bins=40);"
   ]
  },
  {
   "cell_type": "code",
   "execution_count": 33,
   "metadata": {},
   "outputs": [],
   "source": [
    "from scipy.stats import percentileofscore"
   ]
  },
  {
   "cell_type": "code",
   "execution_count": 34,
   "metadata": {
    "scrolled": true
   },
   "outputs": [
    {
     "data": {
      "text/plain": [
       "94.54545454545455"
      ]
     },
     "execution_count": 34,
     "metadata": {},
     "output_type": "execute_result"
    }
   ],
   "source": [
    "percentileofscore(times, 46)"
   ]
  },
  {
   "cell_type": "code",
   "execution_count": 35,
   "metadata": {},
   "outputs": [
    {
     "name": "stderr",
     "output_type": "stream",
     "text": [
      "/home/andre/anaconda3/lib/python3.6/site-packages/ipykernel_launcher.py:1: SettingWithCopyWarning: \n",
      "A value is trying to be set on a copy of a slice from a DataFrame.\n",
      "Try using .loc[row_indexer,col_indexer] = value instead\n",
      "\n",
      "See the caveats in the documentation: http://pandas.pydata.org/pandas-docs/stable/indexing.html#indexing-view-versus-copy\n",
      "  \"\"\"Entry point for launching an IPython kernel.\n",
      "/home/andre/anaconda3/lib/python3.6/site-packages/pandas/core/frame.py:3163: SettingWithCopyWarning: \n",
      "A value is trying to be set on a copy of a slice from a DataFrame\n",
      "\n",
      "See the caveats in the documentation: http://pandas.pydata.org/pandas-docs/stable/indexing.html#indexing-view-versus-copy\n",
      "  self._where(-key, value, inplace=True)\n"
     ]
    }
   ],
   "source": [
    "ys[ ys == 2] = -1\n",
    "ys = ys[ ys != 0 ]\n",
    "ys.dropna(how='all', inplace=True) # due getting only !=0 "
   ]
  },
  {
   "cell_type": "code",
   "execution_count": 36,
   "metadata": {},
   "outputs": [
    {
     "data": {
      "text/html": [
       "<div>\n",
       "<style scoped>\n",
       "    .dataframe tbody tr th:only-of-type {\n",
       "        vertical-align: middle;\n",
       "    }\n",
       "\n",
       "    .dataframe tbody tr th {\n",
       "        vertical-align: top;\n",
       "    }\n",
       "\n",
       "    .dataframe thead th {\n",
       "        text-align: right;\n",
       "    }\n",
       "</style>\n",
       "<table border=\"1\" class=\"dataframe\">\n",
       "  <thead>\n",
       "    <tr style=\"text-align: right;\">\n",
       "      <th></th>\n",
       "      <th>y0</th>\n",
       "      <th>y1</th>\n",
       "      <th>y2</th>\n",
       "    </tr>\n",
       "    <tr>\n",
       "      <th>time</th>\n",
       "      <th></th>\n",
       "      <th></th>\n",
       "      <th></th>\n",
       "    </tr>\n",
       "  </thead>\n",
       "  <tbody>\n",
       "    <tr>\n",
       "      <th>2018-11-27 12:16:00</th>\n",
       "      <td>1.0</td>\n",
       "      <td>NaN</td>\n",
       "      <td>NaN</td>\n",
       "    </tr>\n",
       "    <tr>\n",
       "      <th>2018-11-27 12:18:00</th>\n",
       "      <td>NaN</td>\n",
       "      <td>1.0</td>\n",
       "      <td>NaN</td>\n",
       "    </tr>\n",
       "    <tr>\n",
       "      <th>2018-11-27 12:19:00</th>\n",
       "      <td>NaN</td>\n",
       "      <td>NaN</td>\n",
       "      <td>1.0</td>\n",
       "    </tr>\n",
       "    <tr>\n",
       "      <th>2018-11-27 12:37:00</th>\n",
       "      <td>-1.0</td>\n",
       "      <td>NaN</td>\n",
       "      <td>NaN</td>\n",
       "    </tr>\n",
       "    <tr>\n",
       "      <th>2018-11-27 12:39:00</th>\n",
       "      <td>1.0</td>\n",
       "      <td>NaN</td>\n",
       "      <td>NaN</td>\n",
       "    </tr>\n",
       "    <tr>\n",
       "      <th>2018-11-27 12:56:00</th>\n",
       "      <td>-1.0</td>\n",
       "      <td>NaN</td>\n",
       "      <td>NaN</td>\n",
       "    </tr>\n",
       "    <tr>\n",
       "      <th>2018-11-27 13:01:00</th>\n",
       "      <td>NaN</td>\n",
       "      <td>-1.0</td>\n",
       "      <td>NaN</td>\n",
       "    </tr>\n",
       "    <tr>\n",
       "      <th>2018-11-27 13:02:00</th>\n",
       "      <td>NaN</td>\n",
       "      <td>NaN</td>\n",
       "      <td>-1.0</td>\n",
       "    </tr>\n",
       "    <tr>\n",
       "      <th>2018-11-27 14:38:00</th>\n",
       "      <td>1.0</td>\n",
       "      <td>NaN</td>\n",
       "      <td>NaN</td>\n",
       "    </tr>\n",
       "    <tr>\n",
       "      <th>2018-11-27 14:46:00</th>\n",
       "      <td>-1.0</td>\n",
       "      <td>NaN</td>\n",
       "      <td>NaN</td>\n",
       "    </tr>\n",
       "  </tbody>\n",
       "</table>\n",
       "</div>"
      ],
      "text/plain": [
       "                      y0   y1   y2\n",
       "time                              \n",
       "2018-11-27 12:16:00  1.0  NaN  NaN\n",
       "2018-11-27 12:18:00  NaN  1.0  NaN\n",
       "2018-11-27 12:19:00  NaN  NaN  1.0\n",
       "2018-11-27 12:37:00 -1.0  NaN  NaN\n",
       "2018-11-27 12:39:00  1.0  NaN  NaN\n",
       "2018-11-27 12:56:00 -1.0  NaN  NaN\n",
       "2018-11-27 13:01:00  NaN -1.0  NaN\n",
       "2018-11-27 13:02:00  NaN  NaN -1.0\n",
       "2018-11-27 14:38:00  1.0  NaN  NaN\n",
       "2018-11-27 14:46:00 -1.0  NaN  NaN"
      ]
     },
     "execution_count": 36,
     "metadata": {},
     "output_type": "execute_result"
    }
   ],
   "source": [
    "ys.head(10)"
   ]
  },
  {
   "cell_type": "markdown",
   "metadata": {},
   "source": [
    "### Getting only entry points for each band"
   ]
  },
  {
   "cell_type": "code",
   "execution_count": 37,
   "metadata": {},
   "outputs": [],
   "source": [
    "hys = ys[ys > 0].count(axis=0)"
   ]
  },
  {
   "cell_type": "code",
   "execution_count": 38,
   "metadata": {},
   "outputs": [
    {
     "data": {
      "text/plain": [
       "Text(0.5, 0, 'band number')"
      ]
     },
     "execution_count": 38,
     "metadata": {},
     "output_type": "execute_result"
    },
    {
     "data": {
      "image/png": "[encoded data removed]",
      "text/plain": [
       "<Figure size 360x144 with 1 Axes>"
      ]
     },
     "metadata": {
      "needs_background": "light"
     },
     "output_type": "display_data"
    }
   ],
   "source": [
    "plt.figure(figsize=(5,2))\n",
    "plt.bar(hys.index, hys.values)\n",
    "plt.ylabel('frequency')\n",
    "plt.xlabel('band number')"
   ]
  },
  {
   "cell_type": "markdown",
   "metadata": {},
   "source": [
    "### - If it's going up it's going up. \n",
    "### - If it's time to close the position it's to close. \n",
    "\n",
    "### - There is no crossed signals between bands.\n",
    "\n",
    "So we can allways sum them up to see average results. "
   ]
  },
  {
   "cell_type": "code",
   "execution_count": 39,
   "metadata": {
    "scrolled": true
   },
   "outputs": [
    {
     "data": {
      "text/plain": [
       "<matplotlib.axes._subplots.AxesSubplot at 0x7fcb74f74eb8>"
      ]
     },
     "execution_count": 39,
     "metadata": {},
     "output_type": "execute_result"
    },
    {
     "data": {
      "image/png": "[encoded data removed]",
      "text/plain": [
       "<Figure size 432x288 with 1 Axes>"
      ]
     },
     "metadata": {
      "needs_background": "light"
     },
     "output_type": "display_data"
    }
   ],
   "source": [
    "ys.sum(axis=1).hist()"
   ]
  },
  {
   "cell_type": "markdown",
   "metadata": {},
   "source": [
    "### Since a buy signal in any of the bands is an entry point \n",
    "\n",
    "Calculate percentage %  of entries "
   ]
  },
  {
   "cell_type": "code",
   "execution_count": 40,
   "metadata": {},
   "outputs": [],
   "source": [
    "entries = ys[ys > 0]"
   ]
  },
  {
   "cell_type": "code",
   "execution_count": 41,
   "metadata": {},
   "outputs": [],
   "source": [
    "entries.dropna(how='all', inplace=True)"
   ]
  },
  {
   "cell_type": "code",
   "execution_count": 42,
   "metadata": {},
   "outputs": [],
   "source": [
    "percentries = len(entries)/(len(bars)) "
   ]
  },
  {
   "cell_type": "code",
   "execution_count": 43,
   "metadata": {
    "scrolled": true
   },
   "outputs": [
    {
     "name": "stdout",
     "output_type": "stream",
     "text": [
      "percent entries 1.99 %\n"
     ]
    }
   ],
   "source": [
    "print(\"percent entries {:.2f} %\".format(percentries*100))"
   ]
  },
  {
   "cell_type": "markdown",
   "metadata": {},
   "source": [
    "### average per day deals"
   ]
  },
  {
   "cell_type": "code",
   "execution_count": 44,
   "metadata": {},
   "outputs": [
    {
     "name": "stdout",
     "output_type": "stream",
     "text": [
      "percent entries per day 8.4\n"
     ]
    }
   ],
   "source": [
    "print(\"percent entries per day {:.1f}\".format(percentries*60*7))"
   ]
  },
  {
   "cell_type": "markdown",
   "metadata": {},
   "source": [
    "### Now assembly X and Y vectors\n",
    "\n",
    "EACH training vector is a pair:\n",
    "\n",
    "- `X` (of a band-signal + signal features) \n",
    "- `y` (result for this signal 0/1/2) \n",
    "\n",
    "So for example if a signal is for 3 different bands we will have 3 training pairs.  \n",
    "\n",
    "**window*nsignal features X second dimension**"
   ]
  },
  {
   "cell_type": "markdown",
   "metadata": {},
   "source": [
    "### Signal Features for X first\n",
    "\n",
    "altough S is nothing let it be there"
   ]
  },
  {
   "cell_type": "code",
   "execution_count": 45,
   "metadata": {
    "scrolled": true
   },
   "outputs": [
    {
     "data": {
      "text/plain": [
       "Index(['O', 'H', 'L', 'C', 'TV', 'RV', 'OHLC', 'date', 'bandlw0', 'bandup0',\n",
       "       'bandsg0', 'bandlw1', 'bandup1', 'bandsg1', 'bandlw2', 'bandup2',\n",
       "       'bandsg2', 'y0', 'y1', 'y2'],\n",
       "      dtype='object')"
      ]
     },
     "execution_count": 45,
     "metadata": {},
     "output_type": "execute_result"
    }
   ],
   "source": [
    "bars.columns"
   ]
  },
  {
   "cell_type": "code",
   "execution_count": 46,
   "metadata": {},
   "outputs": [],
   "source": [
    "# ## Signal Features\n",
    "bars.RV = np.log(bars.RV+5)\n",
    "bars.TV = np.log(bars.TV+5) # to avoid division by zero/inf etc\n",
    "# tecnical indicators features\n",
    "inc = 0.5\n",
    "for column in bars.columns[:7]: # ignore date/dated\n",
    "    for i in range(nbands):      # 1e-8 to avoid creating nans\n",
    "        ema =  ta.EMA(bars[column].values.astype(np.float64), window*inc)\n",
    "        sfx = str(column)+str(i)  # name suffix\n",
    "        # remove nbands emas\n",
    "        bars['dema'+sfx] = bars[column] - ema\n",
    "        bars.loc[:, 'demav'+sfx] = np.nan\n",
    "        # return of the differences to the ema (know to have good response for prediction)\n",
    "        bars.loc[1:, 'demav'+sfx] = bars['dema'+sfx].values[:-1]/(1e-8+bars['dema'+sfx].values[1:])\n",
    "        macd, sg, ht = ta.MACD(bars[column].values.astype(np.float64),\n",
    "                               int(window*inc*0.5), int(window*0.75*inc), int(0.25*inc*window))\n",
    "        #dow.loc[:, 'macd'+sfx] = macd\n",
    "        bars.loc[:, 'dmacdv'+sfx] = np.nan\n",
    "        bars.loc[1:, 'dmacdv'+sfx] = macd[:-1]/(1e-8+macd[1:])\n",
    "        inc += 0.5\n",
    "# day information signal [0, 1]\n",
    "bars['dated'] = 0\n",
    "for i, vars in enumerate(bars.groupby(bars.date)):\n",
    "    day, group = vars\n",
    "    bars.loc[group.index, 'dated'] = 1 if i%2==0 else 0 # odd or even day change"
   ]
  },
  {
   "cell_type": "code",
   "execution_count": 47,
   "metadata": {},
   "outputs": [
    {
     "data": {
      "text/plain": [
       "Index(['O', 'H', 'L', 'C', 'TV', 'RV', 'OHLC', 'date', 'bandlw0', 'bandup0',\n",
       "       'bandsg0', 'bandlw1', 'bandup1', 'bandsg1', 'bandlw2', 'bandup2',\n",
       "       'bandsg2', 'y0', 'y1', 'y2', 'demaO0', 'demavO0', 'dmacdvO0', 'demaO1',\n",
       "       'demavO1', 'dmacdvO1', 'demaO2', 'demavO2', 'dmacdvO2', 'demaH0',\n",
       "       'demavH0', 'dmacdvH0', 'demaH1', 'demavH1', 'dmacdvH1', 'demaH2',\n",
       "       'demavH2', 'dmacdvH2', 'demaL0', 'demavL0', 'dmacdvL0', 'demaL1',\n",
       "       'demavL1', 'dmacdvL1', 'demaL2', 'demavL2', 'dmacdvL2', 'demaC0',\n",
       "       'demavC0', 'dmacdvC0', 'demaC1', 'demavC1', 'dmacdvC1', 'demaC2',\n",
       "       'demavC2', 'dmacdvC2', 'demaTV0', 'demavTV0', 'dmacdvTV0', 'demaTV1',\n",
       "       'demavTV1', 'dmacdvTV1', 'demaTV2', 'demavTV2', 'dmacdvTV2', 'demaRV0',\n",
       "       'demavRV0', 'dmacdvRV0', 'demaRV1', 'demavRV1', 'dmacdvRV1', 'demaRV2',\n",
       "       'demavRV2', 'dmacdvRV2', 'demaOHLC0', 'demavOHLC0', 'dmacdvOHLC0',\n",
       "       'demaOHLC1', 'demavOHLC1', 'dmacdvOHLC1', 'demaOHLC2', 'demavOHLC2',\n",
       "       'dmacdvOHLC2', 'dated'],\n",
       "      dtype='object')"
      ]
     },
     "execution_count": 47,
     "metadata": {},
     "output_type": "execute_result"
    }
   ],
   "source": [
    "bars.columns"
   ]
  },
  {
   "cell_type": "markdown",
   "metadata": {},
   "source": [
    "### Signal vector \n",
    "\n",
    "original had 8 features \n",
    "\n",
    "now with :\n",
    "\n",
    "* dema \n",
    "* demav \n",
    "* macdv\n",
    "\n",
    "* 3 (indicators) x 3 (bands) x 7 (original features) = 63 features \n",
    "\n",
    "Plus\n",
    "\n",
    "* dated = day signal\n",
    "\n",
    "Plus\n",
    "\n",
    "* 3 band signals\n",
    "\n",
    "Total:\n",
    "\n",
    "* 63+1+3 = 67 signal features"
   ]
  },
  {
   "cell_type": "code",
   "execution_count": 48,
   "metadata": {},
   "outputs": [
    {
     "data": {
      "text/plain": [
       "(84,\n",
       " Index(['O', 'H', 'L', 'C', 'TV', 'RV', 'OHLC', 'date', 'bandlw0', 'bandup0',\n",
       "        'bandsg0', 'bandlw1', 'bandup1', 'bandsg1', 'bandlw2', 'bandup2',\n",
       "        'bandsg2', 'y0', 'y1', 'y2', 'demaO0', 'demavO0', 'dmacdvO0', 'demaO1',\n",
       "        'demavO1', 'dmacdvO1', 'demaO2', 'demavO2', 'dmacdvO2', 'demaH0',\n",
       "        'demavH0', 'dmacdvH0', 'demaH1', 'demavH1', 'dmacdvH1', 'demaH2',\n",
       "        'demavH2', 'dmacdvH2', 'demaL0', 'demavL0', 'dmacdvL0', 'demaL1',\n",
       "        'demavL1', 'dmacdvL1', 'demaL2', 'demavL2', 'dmacdvL2', 'demaC0',\n",
       "        'demavC0', 'dmacdvC0', 'demaC1', 'demavC1', 'dmacdvC1', 'demaC2',\n",
       "        'demavC2', 'dmacdvC2', 'demaTV0', 'demavTV0', 'dmacdvTV0', 'demaTV1',\n",
       "        'demavTV1', 'dmacdvTV1', 'demaTV2', 'demavTV2', 'dmacdvTV2', 'demaRV0',\n",
       "        'demavRV0', 'dmacdvRV0', 'demaRV1', 'demavRV1', 'dmacdvRV1', 'demaRV2',\n",
       "        'demavRV2', 'dmacdvRV2', 'demaOHLC0', 'demavOHLC0', 'dmacdvOHLC0',\n",
       "        'demaOHLC1', 'demavOHLC1', 'dmacdvOHLC1', 'demaOHLC2', 'demavOHLC2',\n",
       "        'dmacdvOHLC2', 'dated'],\n",
       "       dtype='object'))"
      ]
     },
     "execution_count": 48,
     "metadata": {},
     "output_type": "execute_result"
    }
   ],
   "source": [
    "len(bars.columns), bars.columns"
   ]
  },
  {
   "cell_type": "code",
   "execution_count": 49,
   "metadata": {},
   "outputs": [
    {
     "name": "stdout",
     "output_type": "stream",
     "text": [
      "number of feature signals 67\n"
     ]
    }
   ],
   "source": [
    "nindfeatures = 3*nbands*7 # number of indicator features\n",
    "#nbands=nbands\n",
    "nfeatures = nindfeatures+1+nbands #175\n",
    "print('number of feature signals', nfeatures)"
   ]
  },
  {
   "cell_type": "code",
   "execution_count": 50,
   "metadata": {},
   "outputs": [
    {
     "name": "stdout",
     "output_type": "stream",
     "text": [
      "20 83\n"
     ]
    }
   ],
   "source": [
    "# columns corresponding to the indicator features\n",
    "fi=len(bars.columns)-(nbands*7*3+1)# first column corresponding to a indicator feature\n",
    "nind=fi+nindfeatures # last column of the indicator features\n",
    "print(fi, nind)"
   ]
  },
  {
   "cell_type": "markdown",
   "metadata": {},
   "source": [
    "### Take a look on the features\n",
    "Clip by 0.1% and 99.9% percentiles (**ONLY FEATURES**)  \n",
    "\n",
    "**Another note: Dont remove by droppping NANs!**\n",
    "** Quantile Transform interpolates without removing NANs**   \n",
    "Quantile Transform uses the cumulative pdf to do that.  \n",
    "\n",
    "Can see that variations of scale o...."
   ]
  },
  {
   "cell_type": "code",
   "execution_count": 51,
   "metadata": {},
   "outputs": [],
   "source": [
    "barsv = bars.apply(lambda x: x.clip(*x.quantile([0.01, 0.99]).values), axis=0)"
   ]
  },
  {
   "cell_type": "code",
   "execution_count": 52,
   "metadata": {
    "scrolled": true
   },
   "outputs": [
    {
     "data": {
      "image/png": "[encoded data removed]",
      "text/plain": [
       "<Figure size 1080x1080 with 64 Axes>"
      ]
     },
     "metadata": {
      "needs_background": "light"
     },
     "output_type": "display_data"
    }
   ],
   "source": [
    "barsv.iloc[:, fi:nind].hist(figsize=(15,15), bins=100);"
   ]
  },
  {
   "cell_type": "markdown",
   "metadata": {},
   "source": [
    "Avoid removing nan rows due nan cell.  \n",
    "Let robust scaler solve that.  "
   ]
  },
  {
   "cell_type": "code",
   "execution_count": 53,
   "metadata": {
    "scrolled": true
   },
   "outputs": [],
   "source": [
    "bars.iloc[:, fi:nind] = bars.iloc[:, fi:nind].fillna(0) # dont know why quantile Transform\n",
    "# dont work with nans like it is supossed to"
   ]
  },
  {
   "cell_type": "code",
   "execution_count": 54,
   "metadata": {},
   "outputs": [],
   "source": [
    "bars = bars.apply(lambda x: x.clip(*x.quantile([0.001, 0.999]).values), axis=0)"
   ]
  },
  {
   "cell_type": "markdown",
   "metadata": {},
   "source": [
    "### Standardizing Signal Features\n",
    "\n",
    "#### Quantile Transform\n",
    "\n",
    "Note:. NaNs are treated as missing values: disregarded in fit, and maintained in transform. (NOT SURE)"
   ]
  },
  {
   "cell_type": "code",
   "execution_count": 55,
   "metadata": {},
   "outputs": [],
   "source": [
    "ibandsgs = [ bars.columns.get_loc('bandsg'+str(j)) for j in range(nbands) ]\n",
    "# y target class\n",
    "id = bars.columns.get_loc('dated')"
   ]
  },
  {
   "cell_type": "code",
   "execution_count": 56,
   "metadata": {},
   "outputs": [],
   "source": [
    "from sklearn import preprocessing\n",
    "quantile_transformer = preprocessing.QuantileTransformer(\n",
    "    output_distribution='normal', random_state=0)"
   ]
  },
  {
   "cell_type": "code",
   "execution_count": 57,
   "metadata": {},
   "outputs": [],
   "source": [
    "bars.iloc[:, id] = ((bars.iloc[:, id] - bars.iloc[:, id].mean())/\n",
    "                         bars.iloc[:, id].std()) # normalize variance=1 mean=0"
   ]
  },
  {
   "cell_type": "code",
   "execution_count": 58,
   "metadata": {},
   "outputs": [],
   "source": [
    "# more features \n",
    "bars.iloc[:, list(range(fi,nind))] = quantile_transformer.fit_transform(\n",
    "    bars.iloc[:, list(range(fi,nind))].values)"
   ]
  },
  {
   "cell_type": "code",
   "execution_count": 59,
   "metadata": {},
   "outputs": [],
   "source": [
    "# can only have values 0, 1, 2 turn it in normalized floats\n",
    "bars.iloc[:, ibandsgs] = ((bars.iloc[:, ibandsgs] - bars.iloc[:, ibandsgs].mean())/\n",
    "                         bars.iloc[:, ibandsgs].std()) # normalize variance=1 mean=0"
   ]
  },
  {
   "cell_type": "code",
   "execution_count": 60,
   "metadata": {},
   "outputs": [
    {
     "data": {
      "image/png": "[encoded data removed]",
      "text/plain": [
       "<Figure size 1080x1080 with 64 Axes>"
      ]
     },
     "metadata": {
      "needs_background": "light"
     },
     "output_type": "display_data"
    }
   ],
   "source": [
    "bars[bars.columns[fi:nind]].hist(figsize=(15,15), bins=100);"
   ]
  },
  {
   "cell_type": "code",
   "execution_count": 61,
   "metadata": {},
   "outputs": [],
   "source": [
    "# y target class column index\n",
    "iybands = [ bars.columns.get_loc('y'+str(j)) for j in range(nbands)]"
   ]
  },
  {
   "cell_type": "markdown",
   "metadata": {},
   "source": [
    "### Assembly the real feature vector X\n",
    "\n",
    "### Using previous window size signal features before the confirmed class [0, 1, 2]"
   ]
  },
  {
   "cell_type": "code",
   "execution_count": 62,
   "metadata": {},
   "outputs": [
    {
     "data": {
      "text/html": [
       "<div>\n",
       "<style scoped>\n",
       "    .dataframe tbody tr th:only-of-type {\n",
       "        vertical-align: middle;\n",
       "    }\n",
       "\n",
       "    .dataframe tbody tr th {\n",
       "        vertical-align: top;\n",
       "    }\n",
       "\n",
       "    .dataframe thead th {\n",
       "        text-align: right;\n",
       "    }\n",
       "</style>\n",
       "<table border=\"1\" class=\"dataframe\">\n",
       "  <thead>\n",
       "    <tr style=\"text-align: right;\">\n",
       "      <th></th>\n",
       "      <th>y0</th>\n",
       "      <th>y1</th>\n",
       "      <th>y2</th>\n",
       "      <th>bandsg0</th>\n",
       "      <th>bandsg1</th>\n",
       "      <th>bandsg2</th>\n",
       "      <th>demaO0</th>\n",
       "      <th>demavO0</th>\n",
       "      <th>dmacdvO0</th>\n",
       "      <th>demaO1</th>\n",
       "      <th>...</th>\n",
       "      <th>demaOHLC0</th>\n",
       "      <th>demavOHLC0</th>\n",
       "      <th>dmacdvOHLC0</th>\n",
       "      <th>demaOHLC1</th>\n",
       "      <th>demavOHLC1</th>\n",
       "      <th>dmacdvOHLC1</th>\n",
       "      <th>demaOHLC2</th>\n",
       "      <th>demavOHLC2</th>\n",
       "      <th>dmacdvOHLC2</th>\n",
       "      <th>dated</th>\n",
       "    </tr>\n",
       "    <tr>\n",
       "      <th>time</th>\n",
       "      <th></th>\n",
       "      <th></th>\n",
       "      <th></th>\n",
       "      <th></th>\n",
       "      <th></th>\n",
       "      <th></th>\n",
       "      <th></th>\n",
       "      <th></th>\n",
       "      <th></th>\n",
       "      <th></th>\n",
       "      <th></th>\n",
       "      <th></th>\n",
       "      <th></th>\n",
       "      <th></th>\n",
       "      <th></th>\n",
       "      <th></th>\n",
       "      <th></th>\n",
       "      <th></th>\n",
       "      <th></th>\n",
       "      <th></th>\n",
       "      <th></th>\n",
       "    </tr>\n",
       "  </thead>\n",
       "  <tbody>\n",
       "    <tr>\n",
       "      <th>2018-11-27 11:55:00</th>\n",
       "      <td>NaN</td>\n",
       "      <td>NaN</td>\n",
       "      <td>NaN</td>\n",
       "      <td>-0.242351</td>\n",
       "      <td>-0.217985</td>\n",
       "      <td>-0.196239</td>\n",
       "      <td>0.017565</td>\n",
       "      <td>-0.890172</td>\n",
       "      <td>-1.269664</td>\n",
       "      <td>-0.026349</td>\n",
       "      <td>...</td>\n",
       "      <td>0.04518</td>\n",
       "      <td>-1.679303</td>\n",
       "      <td>-1.959536</td>\n",
       "      <td>0.04518</td>\n",
       "      <td>-1.669112</td>\n",
       "      <td>-1.942703</td>\n",
       "      <td>0.04518</td>\n",
       "      <td>-1.659093</td>\n",
       "      <td>-1.926403</td>\n",
       "      <td>0.935951</td>\n",
       "    </tr>\n",
       "    <tr>\n",
       "      <th>2018-11-27 11:56:00</th>\n",
       "      <td>NaN</td>\n",
       "      <td>NaN</td>\n",
       "      <td>NaN</td>\n",
       "      <td>-0.242351</td>\n",
       "      <td>-0.217985</td>\n",
       "      <td>-0.196239</td>\n",
       "      <td>0.017565</td>\n",
       "      <td>-0.890172</td>\n",
       "      <td>-1.269664</td>\n",
       "      <td>-0.026349</td>\n",
       "      <td>...</td>\n",
       "      <td>0.04518</td>\n",
       "      <td>-1.679303</td>\n",
       "      <td>-1.959536</td>\n",
       "      <td>0.04518</td>\n",
       "      <td>-1.669112</td>\n",
       "      <td>-1.942703</td>\n",
       "      <td>0.04518</td>\n",
       "      <td>-1.659093</td>\n",
       "      <td>-1.926403</td>\n",
       "      <td>0.935951</td>\n",
       "    </tr>\n",
       "  </tbody>\n",
       "</table>\n",
       "<p>2 rows × 70 columns</p>\n",
       "</div>"
      ],
      "text/plain": [
       "                     y0  y1  y2   bandsg0   bandsg1   bandsg2    demaO0  \\\n",
       "time                                                                      \n",
       "2018-11-27 11:55:00 NaN NaN NaN -0.242351 -0.217985 -0.196239  0.017565   \n",
       "2018-11-27 11:56:00 NaN NaN NaN -0.242351 -0.217985 -0.196239  0.017565   \n",
       "\n",
       "                      demavO0  dmacdvO0    demaO1    ...     demaOHLC0  \\\n",
       "time                                                 ...                 \n",
       "2018-11-27 11:55:00 -0.890172 -1.269664 -0.026349    ...       0.04518   \n",
       "2018-11-27 11:56:00 -0.890172 -1.269664 -0.026349    ...       0.04518   \n",
       "\n",
       "                     demavOHLC0  dmacdvOHLC0  demaOHLC1  demavOHLC1  \\\n",
       "time                                                                  \n",
       "2018-11-27 11:55:00   -1.679303    -1.959536    0.04518   -1.669112   \n",
       "2018-11-27 11:56:00   -1.679303    -1.959536    0.04518   -1.669112   \n",
       "\n",
       "                     dmacdvOHLC1  demaOHLC2  demavOHLC2  dmacdvOHLC2     dated  \n",
       "time                                                                            \n",
       "2018-11-27 11:55:00    -1.942703    0.04518   -1.659093    -1.926403  0.935951  \n",
       "2018-11-27 11:56:00    -1.942703    0.04518   -1.659093    -1.926403  0.935951  \n",
       "\n",
       "[2 rows x 70 columns]"
      ]
     },
     "execution_count": 62,
     "metadata": {},
     "output_type": "execute_result"
    }
   ],
   "source": [
    "bars.iloc[:, [*iybands, *ibandsgs, *list(range(fi,nind)), id]].head(2)"
   ]
  },
  {
   "cell_type": "code",
   "execution_count": 63,
   "metadata": {
    "scrolled": true
   },
   "outputs": [
    {
     "data": {
      "text/plain": [
       "4970"
      ]
     },
     "execution_count": 63,
     "metadata": {},
     "output_type": "execute_result"
    }
   ],
   "source": [
    "len(bars)"
   ]
  },
  {
   "cell_type": "code",
   "execution_count": 64,
   "metadata": {},
   "outputs": [
    {
     "data": {
      "text/plain": [
       "6.668844223022461"
      ]
     },
     "execution_count": 64,
     "metadata": {},
     "output_type": "execute_result"
    }
   ],
   "source": [
    "(len(bars)*nfeatures*window)/(1024*1024) # MBytes"
   ]
  },
  {
   "cell_type": "code",
   "execution_count": 65,
   "metadata": {},
   "outputs": [],
   "source": [
    "X, y, time = bbands.xyTrainingPairs(bars.iloc[:, [*iybands, *ibandsgs, *list(range(fi,nind)), id]].values, \n",
    "                             window, nfeatures, nbands)\n",
    "time = time.astype(int)\n",
    "y = y.astype(int)"
   ]
  },
  {
   "cell_type": "code",
   "execution_count": 66,
   "metadata": {},
   "outputs": [
    {
     "data": {
      "text/plain": [
       "(435, 435)"
      ]
     },
     "execution_count": 66,
     "metadata": {},
     "output_type": "execute_result"
    }
   ],
   "source": [
    "len(X), len(y)"
   ]
  },
  {
   "cell_type": "markdown",
   "metadata": {},
   "source": [
    "### Sample feature vector X and y\n",
    "\n",
    "### Remember those are signal X and target class  y for only one band each pair "
   ]
  },
  {
   "cell_type": "code",
   "execution_count": 67,
   "metadata": {},
   "outputs": [
    {
     "data": {
      "text/plain": [
       "array([ 2.36476196, -0.21798519, -0.19623901, ..., -1.65909278,\n",
       "       -1.92640315,  0.93595053])"
      ]
     },
     "execution_count": 67,
     "metadata": {},
     "output_type": "execute_result"
    }
   ],
   "source": [
    "X[1]"
   ]
  },
  {
   "cell_type": "code",
   "execution_count": 68,
   "metadata": {},
   "outputs": [
    {
     "data": {
      "text/plain": [
       "1"
      ]
     },
     "execution_count": 68,
     "metadata": {},
     "output_type": "execute_result"
    }
   ],
   "source": [
    "y[1]"
   ]
  },
  {
   "cell_type": "code",
   "execution_count": 69,
   "metadata": {},
   "outputs": [
    {
     "data": {
      "image/png": "[encoded data removed]",
      "text/plain": [
       "<Figure size 432x288 with 1 Axes>"
      ]
     },
     "metadata": {
      "needs_background": "light"
     },
     "output_type": "display_data"
    }
   ],
   "source": [
    "plt.hist(y);"
   ]
  },
  {
   "cell_type": "markdown",
   "metadata": {},
   "source": [
    "There are more exits than entries due the fact that latest data cannot use 1's for training\n",
    "due future. "
   ]
  },
  {
   "cell_type": "code",
   "execution_count": 70,
   "metadata": {
    "scrolled": true
   },
   "outputs": [
    {
     "data": {
      "text/plain": [
       "(90, 99)"
      ]
     },
     "execution_count": 70,
     "metadata": {},
     "output_type": "execute_result"
    }
   ],
   "source": [
    "len(y[y == 1]), len(y[y == 2])"
   ]
  },
  {
   "cell_type": "markdown",
   "metadata": {},
   "source": [
    "### Save vectors \n",
    "\n",
    "It's a pain have to run everything back again"
   ]
  },
  {
   "cell_type": "code",
   "execution_count": 71,
   "metadata": {},
   "outputs": [
    {
     "data": {
      "text/plain": [
       "((435, 1407), (435,), (435,))"
      ]
     },
     "execution_count": 71,
     "metadata": {},
     "output_type": "execute_result"
    }
   ],
   "source": [
    "X.shape, y.shape, time.shape"
   ]
  },
  {
   "cell_type": "code",
   "execution_count": 72,
   "metadata": {},
   "outputs": [
    {
     "data": {
      "text/plain": [
       "4.669532775878906"
      ]
     },
     "execution_count": 72,
     "metadata": {},
     "output_type": "execute_result"
    }
   ],
   "source": [
    "(X.shape[0]*X.shape[1]*8)/(1024*1024) # MB"
   ]
  },
  {
   "cell_type": "markdown",
   "metadata": {},
   "source": [
    "### Waking forward cross-validation\n"
   ]
  },
  {
   "cell_type": "code",
   "execution_count": 73,
   "metadata": {},
   "outputs": [],
   "source": [
    "from sklearn.svm import SVC\n",
    "from sklearn.ensemble import RandomForestClassifier, ExtraTreesClassifier\n",
    "#from sklearn.multiclass import OneVsRestClassifier\n",
    "from sklearn.metrics import classification_report\n",
    "from joblib import Parallel, delayed\n",
    "from sklearn.metrics import average_precision_score, precision_score, recall_score, confusion_matrix\n",
    "from sklearn.metrics import classification_report, f1_score, recall_score\n",
    "from sklearn.model_selection import TimeSeriesSplit\n",
    "from sklearn.model_selection import GridSearchCV\n",
    "#from sklearn.preprocessing import label_binarize\n",
    "from sklearn.model_selection import cross_val_score\n",
    "from sklearn.metrics import make_scorer\n",
    "from algos.nn.torchCV import sKFold\n",
    "from sklearn import metrics"
   ]
  },
  {
   "cell_type": "code",
   "execution_count": 74,
   "metadata": {},
   "outputs": [],
   "source": [
    "window=21"
   ]
  },
  {
   "cell_type": "code",
   "execution_count": 75,
   "metadata": {},
   "outputs": [],
   "source": [
    "nmax=len(X)\n",
    "nmax=4500\n",
    "window=int(window) # number of previous signals to use for traning "
   ]
  },
  {
   "cell_type": "code",
   "execution_count": 76,
   "metadata": {},
   "outputs": [
    {
     "data": {
      "text/plain": [
       "(21, 4500)"
      ]
     },
     "execution_count": 76,
     "metadata": {},
     "output_type": "execute_result"
    }
   ],
   "source": [
    "window, nmax"
   ]
  },
  {
   "cell_type": "code",
   "execution_count": 77,
   "metadata": {},
   "outputs": [],
   "source": [
    "twindow = int(window)*5"
   ]
  },
  {
   "cell_type": "markdown",
   "metadata": {},
   "source": [
    "window any of the previous 21 signals had 3 "
   ]
  },
  {
   "cell_type": "code",
   "execution_count": 78,
   "metadata": {},
   "outputs": [
    {
     "data": {
      "text/plain": [
       "105"
      ]
     },
     "execution_count": 78,
     "metadata": {},
     "output_type": "execute_result"
    }
   ],
   "source": [
    "twindow"
   ]
  },
  {
   "cell_type": "markdown",
   "metadata": {},
   "source": [
    "Time of the signals inside the window for training"
   ]
  },
  {
   "cell_type": "code",
   "execution_count": 79,
   "metadata": {
    "scrolled": true
   },
   "outputs": [
    {
     "data": {
      "text/plain": [
       "array([  21,   23,   24,   42,   44,   61,   66,   67,  163,  171,  202,\n",
       "        209,  212,  215,  216,  242,  243,  302,  331,  361,  364,  365,\n",
       "        376,  406,  407,  455,  471,  481,  486,  487,  513,  518,  520,\n",
       "        529,  540,  542,  553,  564,  570,  584,  586,  712,  717,  732,\n",
       "        741,  760,  774,  804,  813,  826,  829,  831,  832,  854,  864,\n",
       "        880,  882,  891,  920,  921,  946,  947,  960,  965,  989,  990,\n",
       "       1000, 1001, 1007, 1008, 1019, 1032, 1033, 1034, 1110, 1113, 1120,\n",
       "       1122, 1123, 1146, 1147, 1155, 1156, 1158, 1166, 1174, 1180, 1181,\n",
       "       1190, 1211, 1233, 1241, 1266, 1273, 1295, 1296, 1299, 1304, 1327,\n",
       "       1330, 1338, 1339, 1357, 1360, 1412])"
      ]
     },
     "execution_count": 79,
     "metadata": {},
     "output_type": "execute_result"
    }
   ],
   "source": [
    "time[:twindow] # first 75 samples took 387 minutes to assembly"
   ]
  },
  {
   "cell_type": "code",
   "execution_count": 80,
   "metadata": {
    "scrolled": true
   },
   "outputs": [
    {
     "data": {
      "text/plain": [
       "23.533333333333335"
      ]
     },
     "execution_count": 80,
     "metadata": {},
     "output_type": "execute_result"
    }
   ],
   "source": [
    "max(time[:twindow])/(60) # hours of signals"
   ]
  },
  {
   "cell_type": "code",
   "execution_count": 81,
   "metadata": {},
   "outputs": [
    {
     "data": {
      "text/plain": [
       "False"
      ]
     },
     "execution_count": 81,
     "metadata": {},
     "output_type": "execute_result"
    }
   ],
   "source": [
    "np.alltrue(np.isin([0, 1], [1, 2, 3, 4]))"
   ]
  },
  {
   "cell_type": "code",
   "execution_count": 82,
   "metadata": {},
   "outputs": [],
   "source": [
    "cm = confusion_matrix([1, 1, 1, 1, 2, 1], [1, 1, 1, 1, 1, 1])"
   ]
  },
  {
   "cell_type": "code",
   "execution_count": 83,
   "metadata": {},
   "outputs": [
    {
     "data": {
      "text/plain": [
       "array([[5, 0],\n",
       "       [1, 0]])"
      ]
     },
     "execution_count": 83,
     "metadata": {},
     "output_type": "execute_result"
    }
   ],
   "source": [
    "cm"
   ]
  },
  {
   "cell_type": "code",
   "execution_count": 84,
   "metadata": {},
   "outputs": [
    {
     "data": {
      "text/plain": [
       "0"
      ]
     },
     "execution_count": 84,
     "metadata": {},
     "output_type": "execute_result"
    }
   ],
   "source": [
    "sum(cm[:, 1])   "
   ]
  },
  {
   "cell_type": "code",
   "execution_count": 85,
   "metadata": {
    "scrolled": true
   },
   "outputs": [
    {
     "data": {
      "text/plain": [
       "(5, 1)"
      ]
     },
     "execution_count": 85,
     "metadata": {},
     "output_type": "execute_result"
    }
   ],
   "source": [
    "sum(cm[0, :]), sum(cm[1, :])"
   ]
  },
  {
   "cell_type": "code",
   "execution_count": 88,
   "metadata": {},
   "outputs": [],
   "source": [
    "# nique([1, 1, 0, 0, 2, 0]))"
   ]
  },
  {
   "cell_type": "code",
   "execution_count": 89,
   "metadata": {},
   "outputs": [],
   "source": [
    "p0 = None"
   ]
  },
  {
   "cell_type": "code",
   "execution_count": 90,
   "metadata": {},
   "outputs": [
    {
     "data": {
      "text/plain": [
       "2"
      ]
     },
     "execution_count": 90,
     "metadata": {},
     "output_type": "execute_result"
    }
   ],
   "source": [
    "np.count_nonzero([True, False, 1])"
   ]
  },
  {
   "cell_type": "code",
   "execution_count": null,
   "metadata": {},
   "outputs": [],
   "source": [
    "### What I care most is about the precision \n",
    "### of the entries\n",
    "def scoremin1(y_true, y_pred):\n",
    "    \"\"\"\n",
    "    min precision of the three classes\n",
    "    * 0 if one of the classes has no ocurrences \n",
    "    (nor support nor true positive or false positive) \n",
    "    \n",
    "    that due just cross-validation-grid-search \\\\\n",
    "    that requires a (single value)\n",
    "    \n",
    "    Just-works for a model that is trainned with 3 classes!\n",
    "    \n",
    "    \"\"\"\n",
    "    cm = confusion_matrix(y_true, y_pred)\n",
    "    # support is total number of 0 ocurrences, # total number of 1 ocurrences  # total number of 2 ocurrences\n",
    "    if cm.shape[0] < 2: # 'low-info'\n",
    "        return \n",
    "    # precision is true positive / (true positive + false positive)\n",
    "    if cm.shape[0] == 2: # 'good-info'\n",
    "        uniques = np.unique(np.concatenate(y_true, y_pred))        \n",
    "        if np.alltrue(np.isin([0, 1], uniques)):\n",
    "            n0, n1 = sum(cm[0, :]), sum(cm[1, :]) # support \n",
    "            tpfp0, tpfp1 = sum(cm[:, 0]), sum(cm[:, 1])   \n",
    "            # tpf1 == 0 or tpfp0 == 0 # class 1 or 0 not predicted altough on truth vector\n",
    "            # cannot calculate precision for that class  - 'a little less info'\n",
    "            p0 = cm[0,0]/tpfp0 if tpfp0 > 0 else np.nan;\n",
    "            p1 = cm[1,1]/tpfp0 if tpfp1 > 0 else np.nan;\n",
    "        elif np.alltrue(np.isin([0, 2], uniques)):\n",
    "            n0, n2 = sum(cm[0, :]), sum(cm[1, :]) \n",
    "            tpfp0, tpfp2 = sum(cm[:, 0]), sum(cm[:, 1])  \n",
    "            # tpf0 == 0 or tpfp2 == 0 # class 0 or 2 not predicted altough on truth vector\n",
    "            # cannot calculate precision for that class  - 'a little less info' \n",
    "            p0 = cm[0,0]/tpfp0 if tpfp0 > 0 else np.nan;\n",
    "            p2 = cm[1,1]/tpfp0 if tpfp2 > 0 else np.nan;\n",
    "        elif np.alltrue(np.isin([1, 2], uniques)): \n",
    "            n1, n2 = sum(cm[0, :]), sum(cm[1, :]) \n",
    "            tpfp1, tpfp2 = sum(cm[:, 0]), sum(cm[:, 1])   \n",
    "            # tpf1 == 0 or tpfp2 == 0 # class 1 or 2 not predicted altough on truth vector\n",
    "            # cannot calculate precision for that class  - 'a little less info'  \n",
    "            p0 = cm[0,0]/tpfp1 if tpfp1 > 0 else np.nan;\n",
    "            p1 = cm[1,1]/tpfp2 if tpfp2 > 0 else np.nan;                 \n",
    "        if np.count_nonzero([ p0 != np.nan, p1 != np.nan, p2 != np.nan ]) > 1:\n",
    "            # if two of p0, p1, p2 not nan 'good-info' + 'good' \n",
    "            pass;\n",
    "        else:\n",
    "            # if one of p0, p1, p2 not nan 'good-info' + 'ok'  \n",
    "            pass;\n",
    "        \n",
    "    elif cm.shape[0] == 3 # 'nice-info'\n",
    "        n0, n1, n2 = sum(cm[0, :]), sum(cm[1, :]), sum(cm[2, :]) # support  \n",
    "        \n",
    "    if n0 == 0 or n1 == 0 or n2 == 0:  # no ocurrences\n",
    "        return np.nan    \n",
    "    \n",
    "    tpfp0, tpfp1, tpfp2 = sum(cm[:, 0]), sum(cm[:, 1]), sum(cm[:, 2])\n",
    "    if tpfp0 == 0 or tpfp1 == 0 or tpfp2 == 0: # not true or false positives\n",
    "        return np.nan\n",
    "    p0, p1, p2 = cm[0,0]/tpfp0, cm[1,1]/tpfp1, cm[2,2]/tpfp2\n",
    "    return min(p1)"
   ]
  },
  {
   "cell_type": "code",
   "execution_count": null,
   "metadata": {},
   "outputs": [],
   "source": [
    "### What I care most is about the precision \n",
    "### of the entries\n",
    "def scoreModel(y_true, y_pred):\n",
    "    \"\"\"\n",
    "    min precision of the three classes\n",
    "    * 0 if one of the classes has no ocurrences \n",
    "    (nor support nor true positive or false positive) \n",
    "    \n",
    "    that due just cross-validation-grid-search \\\\\n",
    "    that requires a (single value)\n",
    "    \"\"\"\n",
    "    cm = confusion_matrix(y_true, y_pred)\n",
    "    # support is total number of 0 ocurrences, # total number of 1 ocurrences  # total number of 2 ocurrences\n",
    "    if cm.shape[0] < 2:\n",
    "        return 0\n",
    "    if cm.shape[0] == 3 \n",
    "        n0, n1, n2 = sum(cm[0, :]), sum(cm[1, :]), sum(cm[2, :]) # support     \n",
    "    else:\n",
    "        n0, n1, n2 = sum(cm[0, :]), sum(cm[1, :]), sum(cm[2, :]) # support     \n",
    "        \n",
    "    if n0 == 0 or n1 == 0 or n2 == 0:  # no ocurrences\n",
    "        return np.nan    \n",
    "    # precision is true positive / (true positive + false positive)\n",
    "    tpfp0, tpfp1, tpfp2 = sum(cm[:, 0]), sum(cm[:, 1]), sum(cm[:, 2])\n",
    "    if tpfp0 == 0 or tpfp1 == 0 or tpfp2 == 0: # not true or false positives\n",
    "        return np.nan\n",
    "    p0, p1, p2 = cm[0,0]/tpfp0, cm[1,1]/tpfp1, cm[2,2]/tpfp2\n",
    "    return min(p1)"
   ]
  },
  {
   "cell_type": "code",
   "execution_count": 80,
   "metadata": {},
   "outputs": [],
   "source": [
    "def scoremincv(y_true, y_pred):\n",
    "    \"\"\"\n",
    "    min precision of the three classes\n",
    "    * 0 if one of the classes has no ocurrences \n",
    "    (nor support nor true positive or false positive) \n",
    "    \n",
    "    that due just cross-validation-grid-search \\\\\n",
    "    that requires a (single value)\n",
    "    \"\"\"\n",
    "    cm = confusion_matrix(y_true, y_pred)\n",
    "    # support is total number of 0 ocurrences, # total number of 1 ocurrences  # total number of 2 ocurrences\n",
    "    if cm.shape[0] < 3:\n",
    "        return np.nan\n",
    "    n0, n1, n2 = sum(cm[0, :]), sum(cm[1, :]), sum(cm[2, :]) # support     \n",
    "    if n0 == 0 or n1 == 0 or n2 == 0:  # no ocurrences\n",
    "        return np.nan    \n",
    "    # precision is true positive / (true positive + false positive)\n",
    "    tpfp0, tpfp1, tpfp2 = sum(cm[:, 0]), sum(cm[:, 1]), sum(cm[:, 2])\n",
    "    if tpfp0 == 0 or tpfp1 == 0 or tpfp2 == 0: # not true or false positives\n",
    "        return np.nan\n",
    "    p0, p1, p2 = cm[0,0]/tpfp0, cm[1,1]/tpfp1, cm[2,2]/tpfp2\n",
    "    return min(p0, p1, p2)\n",
    "\n",
    "\n",
    "\n",
    "\n",
    "# ### TODO FOR THE FUTURE\n",
    "# ALSO USE THE ROC CURVE FOR MULTICLASS... altough don't know how to do\n",
    "# informadness may be usefull for class 0 and class 2 for class 1 precision is \n",
    "# all that matters. Maybe write something about it.\n",
    "# def score3(ytrue, ypred):\n",
    "#     \"\"\"\n",
    "#     return precision array with value of each class\n",
    "#         [0, 1, 2] sequence of precisions\n",
    "#         * nan if one of the classes has no ocurrences \n",
    "#         (nor support nor true positive or false positive) \n",
    "#         or even not present         \n",
    "    \n",
    "#     # might be present 0    \n",
    "#     # 0 -  -\n",
    "#     # - 1  -\n",
    "#     # - -  2\n",
    "#     # 0 1  -                \n",
    "#     # 0 -  2\n",
    "#     # - 1  2    \n",
    "#     # 0 1  2\n",
    "\n",
    "#     \"\"\"\n",
    "#     cm = confusion_matrix(ytrue, ypred)        \n",
    "    \n",
    "# #     @jit(nopython=True)\n",
    "# #     def \n",
    "    \n",
    "#     ey = np.unique(np.append(ytrue, ypred)) # existent classes present \n",
    "#     # better fill in with fake data so we can use the complete confusion matrix\n",
    "#     ny = len(ey)\n",
    "#     if ny==2:\n",
    "#      # 0, 1 / 0, 2 / 1, 2    \n",
    "        \n",
    "#     elif ny==1:\n",
    "        \n",
    "    \n",
    "#     else:\n",
    "        \n",
    "    \n",
    "    \n",
    "    \n",
    "    \n",
    "#     # support is total number of 0 ocurrences, # total number of 1 ocurrences  # total number of 2 ocurrences\n",
    "#     if cm.shape[0] < 3:\n",
    "#         return np.nan, np.nan, np.nan\n",
    "    \n",
    "#     # support \n",
    "#     n0, n1, n2 = sum(cm[0, :]), sum(cm[1, :]), sum(cm[2, :]) # support         \n",
    "# #     if n0 == 0 or n1 == 0 or n2 == 0:  # no ocurrences\n",
    "# #         return 0 # classifiying as zero is too punitivy nan is better\n",
    "#     # precision is true positive / (true positive + false positive)\n",
    "#     tpfp0, tpfp1, tpfp2 = sum(cm[:, 0]), sum(cm[:, 1]), sum(cm[:, 2])\n",
    "#     tpfp0 = np.nan if tpfp0 == 0 or n0 == 0 else tpfp0 # not true or false positives\n",
    "#     tpfp1 = np.nan if tpfp1 == 0 or n1 == 0 else tpfp1 # not true or false positives\n",
    "#     tpfp2 = np.nan if tpfp2 == 0 or n2 == 0 else tpfp2 # not true or false positives\n",
    "#     p0, p1, p2 = cm[0,0]/tpfp0, cm[1,1]/tpfp1, cm[2,2]/tpfp2\n",
    "#     return p0, p1, p2"
   ]
  },
  {
   "cell_type": "code",
   "execution_count": 81,
   "metadata": {},
   "outputs": [],
   "source": [
    "# my score function only one float as return\n",
    "myscore = make_scorer(scoremin1)"
   ]
  },
  {
   "cell_type": "markdown",
   "metadata": {},
   "source": [
    "Due joblib having problems calling this code in torchCV, could not serialize. Dont know why.."
   ]
  },
  {
   "cell_type": "code",
   "execution_count": 82,
   "metadata": {},
   "outputs": [],
   "source": [
    "def indexSequentialFolds(length, size, verbose=True):\n",
    "    \"\"\"\n",
    "    Given length (maximum array size) and fold size (window size):\n",
    "    Returns\n",
    "     * array dim=2: start and end index of each fold\n",
    "    Total number of folds is the len()\n",
    "    \"\"\"\n",
    "    nfolds = length-size\n",
    "    indexfold = np.zeros((nfolds, 2), dtype=int) # begin and end 2\n",
    "    for i in range(nfolds):\n",
    "        indexfold[i, :] = np.array([i, i+size], dtype=int)\n",
    "    if verbose:\n",
    "        print('number folds', nfolds)\n",
    "    return indexfold\n",
    "\n",
    "class skfold(object):\n",
    "    \"\"\"\n",
    "    Sequential folds suitable for stock prediction\n",
    "    cross-validation 'alike' k-folds sklearn cv-search compatible\n",
    "    \"\"\"\n",
    "    def __init__(self, X, foldsize=None, splits=4, ratio=0.7, kind='default', n=None):\n",
    "        \"\"\"\n",
    "        Create training, test sets indexes based on number of splits.\n",
    "\n",
    "        `X` feature vector\n",
    "        `foldsize` is the window size non-overlaping for X, Y vectors\n",
    "        `splits` if `foldsize` is not specified this is the total number of splits.\n",
    "        default is 4 slices/splits\n",
    "        `ratio` is the percentage of the fold window for due the training set\n",
    "        the complement is the validation and prediction.\n",
    "        \n",
    "        kind: can be one of those\n",
    "            'randn' where n specify number of splits\n",
    "            'lastn' where n specify number of splits\n",
    "             None default using all possible splits\n",
    "\n",
    "        default is ~70% training, ~20% validation \n",
    "        \"\"\"\n",
    "        length = len(X) # max array size\n",
    "        assert splits < length, \"splits must be smaller than X length\"\n",
    "        if splits < 2:\n",
    "            assert splits > 2, \"at least a split in two is expected\"\n",
    "        if foldsize is None: # fold calculated by number of splits or slices\n",
    "            foldsize = length//splits        \n",
    "        ntrain = int(foldsize*ratio)\n",
    "        ntest  = foldsize - ntrain\n",
    "        # calculate split indexes and real number of splits/slices\n",
    "        indexes = indexSequentialFolds(length, foldsize, verbose=False)\n",
    "        self.kind = kind\n",
    "        self.ntrain = ntrain # training set number of samples\n",
    "        self.ntest = ntest # validaton set number of samples\n",
    "        self.split_indexes = indexes # start, end pair index for each fold\n",
    "        # changed due gridsearch cv\n",
    "        self.n = len(indexes)\n",
    "        if self.kind == 'randn':\n",
    "            self.split = self._srandn\n",
    "            self.n_splits  = self.n\n",
    "        elif self.kind == 'lastn':\n",
    "            self.split = self._slastn\n",
    "            self.n_splits  = self.n\n",
    "        else: # default\n",
    "            self.split = self._splits                 \n",
    "\n",
    "    def get_n_splits(self,  X=None, y=None, groups=None):\n",
    "        \"\"\"return number of splits\"\"\"\n",
    "        return self.n_splits\n",
    "    \n",
    "    def _srandn(self, X=None, y=None, groups=None):\n",
    "        \"\"\"\n",
    "        yields n random split groups  indexes\n",
    "        \"\"\"\n",
    "        ntrain, ntest = self.ntrain, self.ntest        \n",
    "        for i in range(self.n_splits):\n",
    "            start, end = self.split_indexes[np.random.randint(self.n)]\n",
    "            sval = start+ntrain\n",
    "            yield list(range(start, sval)), list(range(sval, end))\n",
    "        \n",
    "    def _slastn(self, X=None, y=None, groups=None):\n",
    "        \"\"\"\n",
    "        yields last n split group indexes\n",
    "        \"\"\"\n",
    "        ntrain, ntest = self.ntrain, self.ntest        \n",
    "        for i in range(self.n_splits):\n",
    "            start, end = self.split_indexes[-(1+i)]\n",
    "            sval = start+ntrain\n",
    "            yield list(range(start, sval)), list(range(sval, end))\n",
    "    \n",
    "    def _splits(self, X=None, y=None, groups=None):\n",
    "        \"\"\"\n",
    "        Return training, validation indexes\n",
    "            Xtrain, ytrain, Xscore, yscore\n",
    "        \"\"\"\n",
    "        ntrain, ntest = self.ntrain, self.ntest\n",
    "        for start, end in self.split_indexes:\n",
    "            sval = start+ntrain\n",
    "            yield list(range(start, sval)), list(range(sval, end))"
   ]
  },
  {
   "cell_type": "code",
   "execution_count": 83,
   "metadata": {},
   "outputs": [],
   "source": [
    "nsplits=4  # number of cross validation splits with time-series-split\n",
    "def function(X, y, i):  \n",
    "    \"\"\"i index of prediction on the parent X vector\"\"\"\n",
    "    #scv = TimeSeriesSplit(n_splits=nsplits)\n",
    "    # this here garantes 4 folds \n",
    "    kfold = skfold(X[:-1], foldsize=len(X[:-1])-nsplits, ratio=0.9)\n",
    "    svm = ExtraTreesClassifier(n_estimators=150, verbose=0)\n",
    "    results = [np.nan]*(nsplits*1+1+3+1)    \n",
    "    try:\n",
    "        # if don't have tree-classes for training cannot train model\n",
    "        if len(np.unique(y[:-1])) == 3:\n",
    "            scores = [np.nan]*nsplits\n",
    "            #             scores = []\n",
    "            #             for train, test in kfold.split():\n",
    "            #                 Xt, Xs = X[train], X[test]\n",
    "            #                 yt, ys = y[train], y[test]\n",
    "            #                 svm.fit(Xt, yt)\n",
    "            #                 ypred = svm.predict_proba(Xs)\n",
    "            #                 scores.append(scoremin1(ys, ypred))\n",
    "            svm.fit(X[:-1], y[:-1])\n",
    "            ypred = svm.predict_proba(X[-1:])\n",
    "            results = [i, *scores, y[-1], *ypred[0]]\n",
    "    except Exception as e:\n",
    "        print(e)\n",
    "        raise e       \n",
    "    return results"
   ]
  },
  {
   "cell_type": "markdown",
   "metadata": {},
   "source": [
    "Ok == all zero 100%\n",
    "2 classes == fair 80%"
   ]
  },
  {
   "cell_type": "code",
   "execution_count": 84,
   "metadata": {},
   "outputs": [],
   "source": [
    "# nsplits=10\n",
    "# i = np.random.randint(len(X)-twindow)\n",
    "# print(i, y[i:i+twindow])\n",
    "# svm = ExtraTreesClassifier(n_estimators=80, verbose=0)\n",
    "# kfold = skfold(X[i:i+twindow], foldsize=twindow-nsplits, ratio=0.7, kind='lastn')\n",
    "# print(kfold.ntrain, kfold.ntest, kfold.n_splits)\n",
    "# cross_val_score(svm, X[i:i+twindow], y[i:i+twindow], cv=kfold, scoring=myscore)"
   ]
  },
  {
   "cell_type": "code",
   "execution_count": 85,
   "metadata": {},
   "outputs": [],
   "source": [
    "# results = []\n",
    "# for i in progressbar(np.random.randint(len(X)-twindow, size=nmax)):\n",
    "#     results.append(function(X[i:i+twindow], y[i:i+twindow])) "
   ]
  },
  {
   "cell_type": "code",
   "execution_count": 155,
   "metadata": {},
   "outputs": [],
   "source": [
    "nmax=18500"
   ]
  },
  {
   "cell_type": "code",
   "execution_count": 156,
   "metadata": {
    "scrolled": true
   },
   "outputs": [
    {
     "name": "stderr",
     "output_type": "stream",
     "text": [
      "[Parallel(n_jobs=6)]: Using backend LokyBackend with 6 concurrent workers.\n",
      "[Parallel(n_jobs=6)]: Done  38 tasks      | elapsed:    2.7s\n",
      "[Parallel(n_jobs=6)]: Done 188 tasks      | elapsed:    7.0s\n",
      "[Parallel(n_jobs=6)]: Done 438 tasks      | elapsed:   14.0s\n",
      "[Parallel(n_jobs=6)]: Done 788 tasks      | elapsed:   23.5s\n",
      "[Parallel(n_jobs=6)]: Done 1238 tasks      | elapsed:   35.8s\n",
      "[Parallel(n_jobs=6)]: Done 1788 tasks      | elapsed:   50.8s\n",
      "[Parallel(n_jobs=6)]: Done 2438 tasks      | elapsed:  1.2min\n",
      "[Parallel(n_jobs=6)]: Done 3188 tasks      | elapsed:  1.5min\n",
      "[Parallel(n_jobs=6)]: Done 4038 tasks      | elapsed:  1.9min\n",
      "[Parallel(n_jobs=6)]: Done 4988 tasks      | elapsed:  2.3min\n",
      "[Parallel(n_jobs=6)]: Done 6038 tasks      | elapsed:  2.8min\n",
      "[Parallel(n_jobs=6)]: Done 7188 tasks      | elapsed:  3.3min\n",
      "[Parallel(n_jobs=6)]: Done 8438 tasks      | elapsed:  3.9min\n",
      "[Parallel(n_jobs=6)]: Done 9788 tasks      | elapsed:  4.5min\n",
      "[Parallel(n_jobs=6)]: Done 11238 tasks      | elapsed:  5.2min\n",
      "[Parallel(n_jobs=6)]: Done 12788 tasks      | elapsed:  5.9min\n",
      "[Parallel(n_jobs=6)]: Done 14438 tasks      | elapsed:  6.7min\n",
      "[Parallel(n_jobs=6)]: Done 16188 tasks      | elapsed:  7.5min\n",
      "[Parallel(n_jobs=6)]: Done 18038 tasks      | elapsed:  8.3min\n",
      "[Parallel(n_jobs=6)]: Done 18500 out of 18500 | elapsed:  8.5min finished\n"
     ]
    }
   ],
   "source": [
    "from joblib import Parallel, delayed\n",
    "\n",
    "if __name__ == '__main__':\n",
    "     results = Parallel(n_jobs=6, verbose=1)(\n",
    "         delayed(function)(X[i:i+twindow], y[i:i+twindow], i+twindow-1) \n",
    "         for i in np.random.randint(len(X)-twindow, size=nmax))\n",
    "# if using jit in any of the methods above parallel doesnt work"
   ]
  },
  {
   "cell_type": "markdown",
   "metadata": {},
   "source": [
    "### Max_features set or estimators less than 100 give precision for class 1 less than 50%"
   ]
  },
  {
   "cell_type": "code",
   "execution_count": 157,
   "metadata": {},
   "outputs": [],
   "source": [
    "results = np.array(results)"
   ]
  },
  {
   "cell_type": "code",
   "execution_count": 158,
   "metadata": {},
   "outputs": [
    {
     "data": {
      "text/plain": [
       "(18500, 9)"
      ]
     },
     "execution_count": 158,
     "metadata": {},
     "output_type": "execute_result"
    }
   ],
   "source": [
    "results.shape"
   ]
  },
  {
   "cell_type": "code",
   "execution_count": 159,
   "metadata": {},
   "outputs": [],
   "source": [
    "#np.unique(results)"
   ]
  },
  {
   "cell_type": "code",
   "execution_count": 160,
   "metadata": {},
   "outputs": [],
   "source": [
    "nsplits = 4"
   ]
  },
  {
   "cell_type": "code",
   "execution_count": 161,
   "metadata": {},
   "outputs": [],
   "source": [
    "#names = ['s'+str(j)+str(i) for j in range(nsplits)  for i in range(3) ] + ['ytrue', 'ypred']\n",
    "names = ['i'] + ['s'+str(j) for j in range(nsplits) ] + ['ytrue', 'y0', 'y1', 'y2']"
   ]
  },
  {
   "cell_type": "code",
   "execution_count": 162,
   "metadata": {},
   "outputs": [],
   "source": [
    "#results = pd.DataFrame(results, columns=['mprec', 'precision', 'recall', 'ypred', 'ytrue'])\n",
    "dresults = pd.DataFrame(results, columns=names)"
   ]
  },
  {
   "cell_type": "code",
   "execution_count": 163,
   "metadata": {},
   "outputs": [
    {
     "data": {
      "text/html": [
       "<div>\n",
       "<style scoped>\n",
       "    .dataframe tbody tr th:only-of-type {\n",
       "        vertical-align: middle;\n",
       "    }\n",
       "\n",
       "    .dataframe tbody tr th {\n",
       "        vertical-align: top;\n",
       "    }\n",
       "\n",
       "    .dataframe thead th {\n",
       "        text-align: right;\n",
       "    }\n",
       "</style>\n",
       "<table border=\"1\" class=\"dataframe\">\n",
       "  <thead>\n",
       "    <tr style=\"text-align: right;\">\n",
       "      <th></th>\n",
       "      <th>i</th>\n",
       "      <th>s0</th>\n",
       "      <th>s1</th>\n",
       "      <th>s2</th>\n",
       "      <th>s3</th>\n",
       "      <th>ytrue</th>\n",
       "      <th>y0</th>\n",
       "      <th>y1</th>\n",
       "      <th>y2</th>\n",
       "    </tr>\n",
       "  </thead>\n",
       "  <tbody>\n",
       "    <tr>\n",
       "      <th>0</th>\n",
       "      <td>32621.0</td>\n",
       "      <td>NaN</td>\n",
       "      <td>NaN</td>\n",
       "      <td>NaN</td>\n",
       "      <td>NaN</td>\n",
       "      <td>0.0</td>\n",
       "      <td>0.353333</td>\n",
       "      <td>0.293333</td>\n",
       "      <td>0.353333</td>\n",
       "    </tr>\n",
       "    <tr>\n",
       "      <th>1</th>\n",
       "      <td>18954.0</td>\n",
       "      <td>NaN</td>\n",
       "      <td>NaN</td>\n",
       "      <td>NaN</td>\n",
       "      <td>NaN</td>\n",
       "      <td>2.0</td>\n",
       "      <td>0.246667</td>\n",
       "      <td>0.086667</td>\n",
       "      <td>0.666667</td>\n",
       "    </tr>\n",
       "    <tr>\n",
       "      <th>2</th>\n",
       "      <td>24665.0</td>\n",
       "      <td>NaN</td>\n",
       "      <td>NaN</td>\n",
       "      <td>NaN</td>\n",
       "      <td>NaN</td>\n",
       "      <td>2.0</td>\n",
       "      <td>0.406667</td>\n",
       "      <td>0.093333</td>\n",
       "      <td>0.500000</td>\n",
       "    </tr>\n",
       "    <tr>\n",
       "      <th>3</th>\n",
       "      <td>39748.0</td>\n",
       "      <td>NaN</td>\n",
       "      <td>NaN</td>\n",
       "      <td>NaN</td>\n",
       "      <td>NaN</td>\n",
       "      <td>0.0</td>\n",
       "      <td>0.573333</td>\n",
       "      <td>0.220000</td>\n",
       "      <td>0.206667</td>\n",
       "    </tr>\n",
       "    <tr>\n",
       "      <th>4</th>\n",
       "      <td>14155.0</td>\n",
       "      <td>NaN</td>\n",
       "      <td>NaN</td>\n",
       "      <td>NaN</td>\n",
       "      <td>NaN</td>\n",
       "      <td>1.0</td>\n",
       "      <td>0.400000</td>\n",
       "      <td>0.440000</td>\n",
       "      <td>0.160000</td>\n",
       "    </tr>\n",
       "  </tbody>\n",
       "</table>\n",
       "</div>"
      ],
      "text/plain": [
       "         i  s0  s1  s2  s3  ytrue        y0        y1        y2\n",
       "0  32621.0 NaN NaN NaN NaN    0.0  0.353333  0.293333  0.353333\n",
       "1  18954.0 NaN NaN NaN NaN    2.0  0.246667  0.086667  0.666667\n",
       "2  24665.0 NaN NaN NaN NaN    2.0  0.406667  0.093333  0.500000\n",
       "3  39748.0 NaN NaN NaN NaN    0.0  0.573333  0.220000  0.206667\n",
       "4  14155.0 NaN NaN NaN NaN    1.0  0.400000  0.440000  0.160000"
      ]
     },
     "execution_count": 163,
     "metadata": {},
     "output_type": "execute_result"
    }
   ],
   "source": [
    "dresults.head()"
   ]
  },
  {
   "cell_type": "markdown",
   "metadata": {},
   "source": [
    "Try to quantify information obtained about the model with the cross-validation.  \n",
    "\n",
    "Quantify information obtained by class.  \n",
    "\n",
    "info = sum( non-nan lass) for n in nsplits  "
   ]
  },
  {
   "cell_type": "code",
   "execution_count": 164,
   "metadata": {},
   "outputs": [],
   "source": [
    "dresults.dropna(how='all', inplace=True)"
   ]
  },
  {
   "cell_type": "code",
   "execution_count": 165,
   "metadata": {},
   "outputs": [
    {
     "data": {
      "text/plain": [
       "18500"
      ]
     },
     "execution_count": 165,
     "metadata": {},
     "output_type": "execute_result"
    }
   ],
   "source": [
    "len(results)"
   ]
  },
  {
   "cell_type": "markdown",
   "metadata": {},
   "source": [
    "precision_score?\n",
    "\n",
    "    ``'binary'``:\n",
    "        Only report results for the class specified by ``pos_label``.\n",
    "        This is applicable only if targets (``y_{true,pred}``) are binary.\n",
    "    ``'micro'``:\n",
    "        Calculate metrics globally by counting the total true positives,\n",
    "        false negatives and false positives.\n",
    "    ``'macro'``:\n",
    "        Calculate metrics for each label, and find their unweighted\n",
    "        mean.  This does not take label imbalance into account.\n",
    "    ``'weighted'``:\n",
    "        Calculate metrics for each label, and find their average, weighted\n",
    "        by support (the number of true instances for each label). This\n",
    "        alters 'macro' to account for label imbalance; it can result in an\n",
    "        F-score that is not between precision and recall.\n",
    "    ``'samples'``:\n",
    "        Calculate metrics for each instance, and find their average (only\n",
    "        meaningful for multilabel classification where this differs from\n",
    "        :func:`accuracy_score`)."
   ]
  },
  {
   "cell_type": "code",
   "execution_count": 166,
   "metadata": {},
   "outputs": [],
   "source": [
    "yclass = np.argmax(dresults.values[:, -3:], axis=-1)\n",
    "dresults['prob'] = np.max(dresults.values[:, -3:], axis=-1)\n",
    "dresults['ypred'] = yclass"
   ]
  },
  {
   "cell_type": "code",
   "execution_count": 167,
   "metadata": {},
   "outputs": [
    {
     "data": {
      "text/html": [
       "<div>\n",
       "<style scoped>\n",
       "    .dataframe tbody tr th:only-of-type {\n",
       "        vertical-align: middle;\n",
       "    }\n",
       "\n",
       "    .dataframe tbody tr th {\n",
       "        vertical-align: top;\n",
       "    }\n",
       "\n",
       "    .dataframe thead th {\n",
       "        text-align: right;\n",
       "    }\n",
       "</style>\n",
       "<table border=\"1\" class=\"dataframe\">\n",
       "  <thead>\n",
       "    <tr style=\"text-align: right;\">\n",
       "      <th></th>\n",
       "      <th>i</th>\n",
       "      <th>s0</th>\n",
       "      <th>s1</th>\n",
       "      <th>s2</th>\n",
       "      <th>s3</th>\n",
       "      <th>ytrue</th>\n",
       "      <th>y0</th>\n",
       "      <th>y1</th>\n",
       "      <th>y2</th>\n",
       "      <th>prob</th>\n",
       "      <th>ypred</th>\n",
       "    </tr>\n",
       "  </thead>\n",
       "  <tbody>\n",
       "    <tr>\n",
       "      <th>0</th>\n",
       "      <td>32621.0</td>\n",
       "      <td>NaN</td>\n",
       "      <td>NaN</td>\n",
       "      <td>NaN</td>\n",
       "      <td>NaN</td>\n",
       "      <td>0.0</td>\n",
       "      <td>0.353333</td>\n",
       "      <td>0.293333</td>\n",
       "      <td>0.353333</td>\n",
       "      <td>0.353333</td>\n",
       "      <td>0</td>\n",
       "    </tr>\n",
       "    <tr>\n",
       "      <th>1</th>\n",
       "      <td>18954.0</td>\n",
       "      <td>NaN</td>\n",
       "      <td>NaN</td>\n",
       "      <td>NaN</td>\n",
       "      <td>NaN</td>\n",
       "      <td>2.0</td>\n",
       "      <td>0.246667</td>\n",
       "      <td>0.086667</td>\n",
       "      <td>0.666667</td>\n",
       "      <td>0.666667</td>\n",
       "      <td>2</td>\n",
       "    </tr>\n",
       "    <tr>\n",
       "      <th>2</th>\n",
       "      <td>24665.0</td>\n",
       "      <td>NaN</td>\n",
       "      <td>NaN</td>\n",
       "      <td>NaN</td>\n",
       "      <td>NaN</td>\n",
       "      <td>2.0</td>\n",
       "      <td>0.406667</td>\n",
       "      <td>0.093333</td>\n",
       "      <td>0.500000</td>\n",
       "      <td>0.500000</td>\n",
       "      <td>2</td>\n",
       "    </tr>\n",
       "    <tr>\n",
       "      <th>3</th>\n",
       "      <td>39748.0</td>\n",
       "      <td>NaN</td>\n",
       "      <td>NaN</td>\n",
       "      <td>NaN</td>\n",
       "      <td>NaN</td>\n",
       "      <td>0.0</td>\n",
       "      <td>0.573333</td>\n",
       "      <td>0.220000</td>\n",
       "      <td>0.206667</td>\n",
       "      <td>0.573333</td>\n",
       "      <td>0</td>\n",
       "    </tr>\n",
       "    <tr>\n",
       "      <th>4</th>\n",
       "      <td>14155.0</td>\n",
       "      <td>NaN</td>\n",
       "      <td>NaN</td>\n",
       "      <td>NaN</td>\n",
       "      <td>NaN</td>\n",
       "      <td>1.0</td>\n",
       "      <td>0.400000</td>\n",
       "      <td>0.440000</td>\n",
       "      <td>0.160000</td>\n",
       "      <td>0.440000</td>\n",
       "      <td>1</td>\n",
       "    </tr>\n",
       "  </tbody>\n",
       "</table>\n",
       "</div>"
      ],
      "text/plain": [
       "         i  s0  s1  s2  s3  ytrue        y0        y1        y2      prob  \\\n",
       "0  32621.0 NaN NaN NaN NaN    0.0  0.353333  0.293333  0.353333  0.353333   \n",
       "1  18954.0 NaN NaN NaN NaN    2.0  0.246667  0.086667  0.666667  0.666667   \n",
       "2  24665.0 NaN NaN NaN NaN    2.0  0.406667  0.093333  0.500000  0.500000   \n",
       "3  39748.0 NaN NaN NaN NaN    0.0  0.573333  0.220000  0.206667  0.573333   \n",
       "4  14155.0 NaN NaN NaN NaN    1.0  0.400000  0.440000  0.160000  0.440000   \n",
       "\n",
       "   ypred  \n",
       "0      0  \n",
       "1      2  \n",
       "2      2  \n",
       "3      0  \n",
       "4      1  "
      ]
     },
     "execution_count": 167,
     "metadata": {},
     "output_type": "execute_result"
    }
   ],
   "source": [
    "dresults.head()"
   ]
  },
  {
   "cell_type": "markdown",
   "metadata": {},
   "source": [
    "### Receiver characteritics"
   ]
  },
  {
   "cell_type": "code",
   "execution_count": 168,
   "metadata": {},
   "outputs": [
    {
     "name": "stdout",
     "output_type": "stream",
     "text": [
      "0.7335227181349752\n",
      "0.6902251945926633\n",
      "0.9595975229180581\n"
     ]
    },
    {
     "data": {
      "image/png": "[encoded data removed]",
      "text/plain": [
       "<Figure size 1008x288 with 2 Axes>"
      ]
     },
     "metadata": {
      "needs_background": "light"
     },
     "output_type": "display_data"
    },
    {
     "data": {
      "image/png": "[encoded data removed]",
      "text/plain": [
       "<Figure size 1008x288 with 2 Axes>"
      ]
     },
     "metadata": {
      "needs_background": "light"
     },
     "output_type": "display_data"
    },
    {
     "data": {
      "image/png": "[encoded data removed]",
      "text/plain": [
       "<Figure size 1008x288 with 2 Axes>"
      ]
     },
     "metadata": {
      "needs_background": "light"
     },
     "output_type": "display_data"
    }
   ],
   "source": [
    "def plotroc(ytrue, ytest, classy):\n",
    "    plt.figure(figsize=(14,4))\n",
    "    fpr, tpr, thresholds = metrics.roc_curve(ytrue, ytest)\n",
    "    plt.plot(fpr, tpr, lw=0.5)\n",
    "    plt.scatter(fpr, tpr, c=thresholds, cmap='hot')\n",
    "    plt.colorbar()\n",
    "    plt.xlim([0.0, 1.0])\n",
    "    plt.ylim([0.0, 1.0])\n",
    "    plt.rcParams['font.size'] = 12\n",
    "    plt.title('ROC curve for classifier class : '+classy)\n",
    "    plt.xlabel('False Positive Rate (1 - Specificity)')\n",
    "    plt.ylabel('True Positive Rate (Sensitivity)')\n",
    "    plt.grid(True)\n",
    "\n",
    "classy = dresults.copy()[['ytrue', 'y0']]\n",
    "classy.loc[classy.ytrue == 0, 'ytrue'] = -1 # the 0 trues\n",
    "classy.loc[classy.ytrue != -1, 'ytrue'] = 0 # what is not zero\n",
    "classy.loc[classy.ytrue == -1, 'ytrue'] = 1 # set as one (binary roc)\n",
    "print(metrics.roc_auc_score(classy.ytrue, classy['y0']))\n",
    "plotroc(classy.ytrue, classy['y0'], '0')\n",
    "classy = dresults.copy()[['ytrue', 'y1']]\n",
    "classy.loc[classy.ytrue != 1, 'ytrue'] = 0\n",
    "plotroc(classy.ytrue, classy.y1, '1')\n",
    "print(metrics.roc_auc_score(classy.ytrue, classy['y1']))\n",
    "classy = dresults.copy()[['ytrue', 'y2']]\n",
    "classy.loc[classy.ytrue != 2, 'ytrue'] = 0 # what is not zero\n",
    "classy.loc[classy.ytrue == 2, 'ytrue'] = 1 # set as one (binary roc)\n",
    "plotroc(classy.ytrue, classy.y2, '2')\n",
    "print(metrics.roc_auc_score(classy.ytrue, classy['y2']))"
   ]
  },
  {
   "cell_type": "code",
   "execution_count": 169,
   "metadata": {},
   "outputs": [
    {
     "data": {
      "text/plain": [
       "0.6452751099835081"
      ]
     },
     "execution_count": 169,
     "metadata": {},
     "output_type": "execute_result"
    }
   ],
   "source": [
    "# macro : unweighted mean of each class precision\n",
    "# weighted : weight average using support (ocorrences for each class)\n",
    "precision_score(dresults.ytrue, dresults.ypred, average='macro')"
   ]
  },
  {
   "cell_type": "code",
   "execution_count": 170,
   "metadata": {},
   "outputs": [
    {
     "data": {
      "text/plain": [
       "0.5985447605965479"
      ]
     },
     "execution_count": 170,
     "metadata": {},
     "output_type": "execute_result"
    }
   ],
   "source": [
    "f1_score(dresults.ytrue, dresults.ypred, average='macro')"
   ]
  },
  {
   "cell_type": "code",
   "execution_count": 171,
   "metadata": {
    "scrolled": true
   },
   "outputs": [
    {
     "data": {
      "text/plain": [
       "0.6452751099835081"
      ]
     },
     "execution_count": 171,
     "metadata": {},
     "output_type": "execute_result"
    }
   ],
   "source": [
    "# None precision for each class\n",
    "precision_score(dresults.ytrue, dresults.ypred, average='macro')"
   ]
  },
  {
   "cell_type": "code",
   "execution_count": 172,
   "metadata": {},
   "outputs": [
    {
     "data": {
      "text/plain": [
       "0.5993458040933548"
      ]
     },
     "execution_count": 172,
     "metadata": {},
     "output_type": "execute_result"
    }
   ],
   "source": [
    "recall_score(dresults.ytrue, dresults.ypred, average='macro')"
   ]
  },
  {
   "cell_type": "markdown",
   "metadata": {},
   "source": [
    "### What is the necessary precision for each class\n",
    "\n",
    "1. what is the necessary precision for each class?\n",
    "2. what is the best metric to evaluate the classifier?\n",
    "3. how to analyse 1,2 consider the goal of profit $$$ \n",
    "\n",
    "#### Recall - Wikipedia\n",
    "Suppose a computer program for recognizing dogs in photographs identifies 8 dogs in a picture containing 12 dogs and some cats. Of the 8 identified as dogs, 5 actually are dogs (true positives), while the rest are cats (false positives). The program's precision is 5/8 while its recall is 5/12.  \n",
    "When a search engine returns 30 pages only 20 of which were relevant while failing to return 40 additional relevant pages, its precision is 20/30 = 2/3 while its recall is 20/60 = 1/3. So, in this case, precision is \"how useful the search results are\", and recall is \"how complete the results are\"\n",
    "\n",
    "informadness is better... according people...\n",
    "\n",
    "Precision = quality\n",
    "Recall = quantity\n"
   ]
  },
  {
   "cell_type": "code",
   "execution_count": 173,
   "metadata": {},
   "outputs": [],
   "source": [
    "from sklearn.metrics import confusion_matrix, classification_report"
   ]
  },
  {
   "cell_type": "code",
   "execution_count": 174,
   "metadata": {},
   "outputs": [
    {
     "name": "stdout",
     "output_type": "stream",
     "text": [
      "[[7882  914  512]\n",
      " [3488  776   81]\n",
      " [1012   90 3745]]\n"
     ]
    }
   ],
   "source": [
    "# true class above, predicted class on the rows\n",
    "cm = confusion_matrix(dresults.ytrue, dresults.ypred)\n",
    "print(cm)"
   ]
  },
  {
   "cell_type": "markdown",
   "metadata": {},
   "source": [
    "https://en.wikipedia.org/wiki/Confusion_matrix"
   ]
  },
  {
   "cell_type": "code",
   "execution_count": 175,
   "metadata": {
    "scrolled": false
   },
   "outputs": [
    {
     "name": "stdout",
     "output_type": "stream",
     "text": [
      "              precision    recall  f1-score   support\n",
      "\n",
      "         0.0       0.64      0.85      0.73      9308\n",
      "         1.0       0.44      0.18      0.25      4345\n",
      "         2.0       0.86      0.77      0.82      4847\n",
      "\n",
      "   micro avg       0.67      0.67      0.67     18500\n",
      "   macro avg       0.65      0.60      0.60     18500\n",
      "weighted avg       0.65      0.67      0.64     18500\n",
      "\n"
     ]
    }
   ],
   "source": [
    "print(classification_report(dresults.ytrue, dresults.ypred))"
   ]
  },
  {
   "cell_type": "markdown",
   "metadata": {},
   "source": [
    "#### Trying to clip by model score"
   ]
  },
  {
   "cell_type": "code",
   "execution_count": 176,
   "metadata": {},
   "outputs": [
    {
     "data": {
      "text/html": [
       "<div>\n",
       "<style scoped>\n",
       "    .dataframe tbody tr th:only-of-type {\n",
       "        vertical-align: middle;\n",
       "    }\n",
       "\n",
       "    .dataframe tbody tr th {\n",
       "        vertical-align: top;\n",
       "    }\n",
       "\n",
       "    .dataframe thead th {\n",
       "        text-align: right;\n",
       "    }\n",
       "</style>\n",
       "<table border=\"1\" class=\"dataframe\">\n",
       "  <thead>\n",
       "    <tr style=\"text-align: right;\">\n",
       "      <th></th>\n",
       "      <th>i</th>\n",
       "      <th>s0</th>\n",
       "      <th>s1</th>\n",
       "      <th>s2</th>\n",
       "      <th>s3</th>\n",
       "      <th>ytrue</th>\n",
       "      <th>y0</th>\n",
       "      <th>y1</th>\n",
       "      <th>y2</th>\n",
       "      <th>prob</th>\n",
       "      <th>ypred</th>\n",
       "    </tr>\n",
       "  </thead>\n",
       "  <tbody>\n",
       "    <tr>\n",
       "      <th>0</th>\n",
       "      <td>32621.0</td>\n",
       "      <td>NaN</td>\n",
       "      <td>NaN</td>\n",
       "      <td>NaN</td>\n",
       "      <td>NaN</td>\n",
       "      <td>0.0</td>\n",
       "      <td>0.353333</td>\n",
       "      <td>0.293333</td>\n",
       "      <td>0.353333</td>\n",
       "      <td>0.353333</td>\n",
       "      <td>0</td>\n",
       "    </tr>\n",
       "  </tbody>\n",
       "</table>\n",
       "</div>"
      ],
      "text/plain": [
       "         i  s0  s1  s2  s3  ytrue        y0        y1        y2      prob  \\\n",
       "0  32621.0 NaN NaN NaN NaN    0.0  0.353333  0.293333  0.353333  0.353333   \n",
       "\n",
       "   ypred  \n",
       "0      0  "
      ]
     },
     "execution_count": 176,
     "metadata": {},
     "output_type": "execute_result"
    }
   ],
   "source": [
    "dresults.head(1)"
   ]
  },
  {
   "cell_type": "code",
   "execution_count": 177,
   "metadata": {},
   "outputs": [],
   "source": [
    "dresults['mprec'] = (dresults.s0*dresults.s1*dresults.s2*dresults.s3)**(1./4)"
   ]
  },
  {
   "cell_type": "code",
   "execution_count": 178,
   "metadata": {},
   "outputs": [
    {
     "data": {
      "text/plain": [
       "<matplotlib.axes._subplots.AxesSubplot at 0x25603350278>"
      ]
     },
     "execution_count": 178,
     "metadata": {},
     "output_type": "execute_result"
    },
    {
     "data": {
      "image/png": "[encoded data removed]",
      "text/plain": [
       "<Figure size 360x144 with 1 Axes>"
      ]
     },
     "metadata": {
      "needs_background": "light"
     },
     "output_type": "display_data"
    },
    {
     "data": {
      "image/png": "[encoded data removed]",
      "text/plain": [
       "<Figure size 360x144 with 1 Axes>"
      ]
     },
     "metadata": {
      "needs_background": "light"
     },
     "output_type": "display_data"
    }
   ],
   "source": [
    "plt.figure(figsize=(5,2))\n",
    "dresults.mprec.hist(bins=20)\n",
    "plt.figure(figsize=(5,2))\n",
    "dresults.prob.hist(bins=20)"
   ]
  },
  {
   "cell_type": "code",
   "execution_count": 179,
   "metadata": {},
   "outputs": [],
   "source": [
    "#from sklearn.metrics import log_loss"
   ]
  },
  {
   "cell_type": "code",
   "execution_count": 180,
   "metadata": {},
   "outputs": [
    {
     "data": {
      "text/plain": [
       "array([0., 2., 1.])"
      ]
     },
     "execution_count": 180,
     "metadata": {},
     "output_type": "execute_result"
    }
   ],
   "source": [
    "dresults.ytrue.unique()"
   ]
  },
  {
   "cell_type": "code",
   "execution_count": 181,
   "metadata": {},
   "outputs": [
    {
     "data": {
      "text/plain": [
       "array([0, 2, 1], dtype=int64)"
      ]
     },
     "execution_count": 181,
     "metadata": {},
     "output_type": "execute_result"
    }
   ],
   "source": [
    "dresults.ypred.unique()"
   ]
  },
  {
   "cell_type": "code",
   "execution_count": 182,
   "metadata": {},
   "outputs": [],
   "source": [
    "#log_loss(dresults.ytrue.astype(int), dresults.ypred)"
   ]
  },
  {
   "cell_type": "code",
   "execution_count": 183,
   "metadata": {},
   "outputs": [],
   "source": [
    "#sns.jointplot(results.s1*results.s2*results.s3, results.precision, kind='hex')"
   ]
  },
  {
   "cell_type": "markdown",
   "metadata": {},
   "source": [
    "#### Clipping results by model score works but removes much more samples than by probability estimate"
   ]
  },
  {
   "cell_type": "code",
   "execution_count": 184,
   "metadata": {},
   "outputs": [],
   "source": [
    "#print(classification_report(dresults[dresults.mprec > .6].ytrue, dresults[dresults.mprec > .6].ypred))"
   ]
  },
  {
   "cell_type": "markdown",
   "metadata": {},
   "source": [
    "#### Clipping by the max probility class estimate"
   ]
  },
  {
   "cell_type": "code",
   "execution_count": 185,
   "metadata": {},
   "outputs": [
    {
     "name": "stdout",
     "output_type": "stream",
     "text": [
      "              precision    recall  f1-score   support\n",
      "\n",
      "         0.0       0.70      0.95      0.80      4971\n",
      "         1.0       0.54      0.08      0.13      2013\n",
      "         2.0       0.94      0.92      0.93      2413\n",
      "\n",
      "   micro avg       0.75      0.75      0.75      9397\n",
      "   macro avg       0.72      0.65      0.62      9397\n",
      "weighted avg       0.72      0.75      0.69      9397\n",
      "\n"
     ]
    }
   ],
   "source": [
    "print(classification_report(dresults[dresults.prob > .58].ytrue, dresults[dresults.prob > .58].ypred))"
   ]
  },
  {
   "cell_type": "code",
   "execution_count": 204,
   "metadata": {},
   "outputs": [
    {
     "name": "stdout",
     "output_type": "stream",
     "text": [
      "              precision    recall  f1-score   support\n",
      "\n",
      "         0.0       0.69      0.94      0.79      5815\n",
      "         1.0       0.53      0.09      0.16      2467\n",
      "         2.0       0.93      0.90      0.92      2810\n",
      "\n",
      "   micro avg       0.74      0.74      0.74     11092\n",
      "   macro avg       0.72      0.64      0.62     11092\n",
      "weighted avg       0.71      0.74      0.68     11092\n",
      "\n"
     ]
    }
   ],
   "source": [
    "print(classification_report(dresults[dresults.prob > .55].ytrue, dresults[dresults.prob > .55].ypred))"
   ]
  },
  {
   "cell_type": "code",
   "execution_count": 205,
   "metadata": {},
   "outputs": [
    {
     "name": "stdout",
     "output_type": "stream",
     "text": [
      "              precision    recall  f1-score   support\n",
      "\n",
      "         0.0       0.70      0.95      0.81      4483\n",
      "         1.0       0.52      0.07      0.12      1750\n",
      "         2.0       0.94      0.92      0.93      2173\n",
      "\n",
      "   micro avg       0.76      0.76      0.76      8406\n",
      "   macro avg       0.72      0.65      0.62      8406\n",
      "weighted avg       0.73      0.76      0.70      8406\n",
      "\n"
     ]
    }
   ],
   "source": [
    "print(classification_report(dresults[dresults.prob > .60].ytrue, dresults[dresults.prob > .60].ypred))"
   ]
  },
  {
   "cell_type": "code",
   "execution_count": 206,
   "metadata": {},
   "outputs": [
    {
     "name": "stdout",
     "output_type": "stream",
     "text": [
      "              precision    recall  f1-score   support\n",
      "\n",
      "         0.0       0.75      0.98      0.85      1511\n",
      "         1.0       0.69      0.02      0.04       478\n",
      "         2.0       0.95      0.97      0.96       627\n",
      "\n",
      "   micro avg       0.80      0.80      0.80      2616\n",
      "   macro avg       0.80      0.66      0.62      2616\n",
      "weighted avg       0.79      0.80      0.73      2616\n",
      "\n"
     ]
    }
   ],
   "source": [
    "print(classification_report(dresults[dresults.prob > .75].ytrue, dresults[dresults.prob > .75].ypred))"
   ]
  },
  {
   "cell_type": "code",
   "execution_count": 202,
   "metadata": {},
   "outputs": [
    {
     "name": "stdout",
     "output_type": "stream",
     "text": [
      "              precision    recall  f1-score   support\n",
      "\n",
      "         0.0       0.80      1.00      0.89       120\n",
      "         1.0       0.00      0.00      0.00        29\n",
      "         2.0       1.00      0.94      0.97        16\n",
      "\n",
      "   micro avg       0.82      0.82      0.82       165\n",
      "   macro avg       0.60      0.65      0.62       165\n",
      "weighted avg       0.68      0.82      0.74       165\n",
      "\n"
     ]
    },
    {
     "name": "stderr",
     "output_type": "stream",
     "text": [
      "C:\\Users\\alferreira\\AppData\\Local\\Continuum\\anaconda3\\lib\\site-packages\\sklearn\\metrics\\classification.py:1143: UndefinedMetricWarning: Precision and F-score are ill-defined and being set to 0.0 in labels with no predicted samples.\n",
      "  'precision', 'predicted', average, warn_for)\n",
      "C:\\Users\\alferreira\\AppData\\Local\\Continuum\\anaconda3\\lib\\site-packages\\sklearn\\metrics\\classification.py:1143: UndefinedMetricWarning: Precision and F-score are ill-defined and being set to 0.0 in labels with no predicted samples.\n",
      "  'precision', 'predicted', average, warn_for)\n",
      "C:\\Users\\alferreira\\AppData\\Local\\Continuum\\anaconda3\\lib\\site-packages\\sklearn\\metrics\\classification.py:1143: UndefinedMetricWarning: Precision and F-score are ill-defined and being set to 0.0 in labels with no predicted samples.\n",
      "  'precision', 'predicted', average, warn_for)\n"
     ]
    }
   ],
   "source": [
    "print(classification_report(dresults[dresults.prob > .9].ytrue, dresults[dresults.prob > .9].ypred))"
   ]
  },
  {
   "cell_type": "code",
   "execution_count": 190,
   "metadata": {},
   "outputs": [
    {
     "data": {
      "text/plain": [
       "0.02118918918918919"
      ]
     },
     "execution_count": 190,
     "metadata": {},
     "output_type": "execute_result"
    }
   ],
   "source": [
    "392/len(dresults)"
   ]
  },
  {
   "cell_type": "markdown",
   "metadata": {},
   "source": [
    "### GridSearch of paramsn with c-validation Sequential Folds - Time Series Split 5 folds\n",
    "\n",
    "window*5 with 5 splits"
   ]
  },
  {
   "cell_type": "code",
   "execution_count": 140,
   "metadata": {},
   "outputs": [],
   "source": [
    "param_grid = [\n",
    "  {'n_estimators' : [ 100, 150, 300, 500, 1000]}"
   ]
  },
  {
   "cell_type": "code",
   "execution_count": 141,
   "metadata": {},
   "outputs": [
    {
     "data": {
      "text/plain": [
       "(55682, 1407)"
      ]
     },
     "execution_count": 141,
     "metadata": {},
     "output_type": "execute_result"
    }
   ],
   "source": [
    "X.shape"
   ]
  },
  {
   "cell_type": "code",
   "execution_count": 142,
   "metadata": {},
   "outputs": [],
   "source": [
    "svm = ExtraTreesClassifier()"
   ]
  },
  {
   "cell_type": "code",
   "execution_count": 143,
   "metadata": {},
   "outputs": [],
   "source": [
    "#ys = y[5000:5000+window*5]\n",
    "#yb = label_binarize(ys, classes=[0, 1, 2])"
   ]
  },
  {
   "cell_type": "code",
   "execution_count": 144,
   "metadata": {},
   "outputs": [
    {
     "data": {
      "text/plain": [
       "84"
      ]
     },
     "execution_count": 144,
     "metadata": {},
     "output_type": "execute_result"
    }
   ],
   "source": [
    "twindow"
   ]
  },
  {
   "cell_type": "code",
   "execution_count": 145,
   "metadata": {},
   "outputs": [
    {
     "data": {
      "text/plain": [
       "(10, 75, 9, 'randn')"
      ]
     },
     "execution_count": 145,
     "metadata": {},
     "output_type": "execute_result"
    }
   ],
   "source": [
    "#tscv = TimeSeriesSplit(n_splits=20, max_train_size=twindow//4)\n",
    "tscv = skfold(X, foldsize=twindow, ratio=0.90, kind='randn', n=10)\n",
    "tscv.n_splits, tscv.ntrain, tscv.ntest, tscv.kind"
   ]
  },
  {
   "cell_type": "markdown",
   "metadata": {},
   "source": [
    "#### precision_macro or recall_macro"
   ]
  },
  {
   "cell_type": "code",
   "execution_count": 146,
   "metadata": {},
   "outputs": [],
   "source": [
    "clf = GridSearchCV(svm, param_grid, cv=tscv, n_jobs=32, scoring=, verbose=5) # myscore is breaking the joblib"
   ]
  },
  {
   "cell_type": "code",
   "execution_count": 147,
   "metadata": {
    "scrolled": true
   },
   "outputs": [
    {
     "name": "stdout",
     "output_type": "stream",
     "text": [
      "Fitting 10 folds for each of 192 candidates, totalling 1920 fits\n"
     ]
    },
    {
     "name": "stderr",
     "output_type": "stream",
     "text": [
      "[Parallel(n_jobs=32)]: Done   8 tasks      | elapsed:    9.0s\n",
      "[Parallel(n_jobs=32)]: Done  98 tasks      | elapsed:  1.6min\n",
      "[Parallel(n_jobs=32)]: Done 224 tasks      | elapsed:  3.8min\n",
      "[Parallel(n_jobs=32)]: Done 386 tasks      | elapsed:  6.5min\n",
      "[Parallel(n_jobs=32)]: Done 584 tasks      | elapsed:  9.8min\n",
      "[Parallel(n_jobs=32)]: Done 818 tasks      | elapsed: 13.7min\n",
      "[Parallel(n_jobs=32)]: Done 1088 tasks      | elapsed: 18.3min\n",
      "[Parallel(n_jobs=32)]: Done 1394 tasks      | elapsed: 23.5min\n",
      "[Parallel(n_jobs=32)]: Done 1736 tasks      | elapsed: 29.2min\n",
      "[Parallel(n_jobs=32)]: Done 1920 out of 1920 | elapsed: 32.4min finished\n"
     ]
    },
    {
     "data": {
      "text/plain": [
       "GridSearchCV(cv=<__main__.skfold object at 0x000002439B0EAC50>,\n",
       "       error_score='raise',\n",
       "       estimator=ExtraTreesClassifier(bootstrap=False, class_weight=None, criterion='gini',\n",
       "           max_depth=None, max_features='auto', max_leaf_nodes=None,\n",
       "           min_impurity_decrease=0.0, min_impurity_split=None,\n",
       "           min_samples_leaf=1, min_samples_split=2,\n",
       "           min_weight_fraction_leaf=0.0, n_estimators=10, n_jobs=1,\n",
       "           oob_score=False, random_state=None, verbose=0, warm_start=False),\n",
       "       fit_params=None, iid=True, n_jobs=32,\n",
       "       param_grid=[{'n_estimators': [20, 50, 100, 150], 'min_samples_split': [0.9, 0.5, 0.15], 'max_features': [200, 400, 1000, 1407], 'max_depth': [5, 15, 22, 35]}],\n",
       "       pre_dispatch='2*n_jobs', refit=True, return_train_score='warn',\n",
       "       scoring='precision_macro', verbose=5)"
      ]
     },
     "execution_count": 147,
     "metadata": {},
     "output_type": "execute_result"
    }
   ],
   "source": [
    "clf.fit(X,  y)"
   ]
  },
  {
   "cell_type": "markdown",
   "metadata": {},
   "source": [
    "### Results"
   ]
  },
  {
   "cell_type": "code",
   "execution_count": 148,
   "metadata": {},
   "outputs": [
    {
     "data": {
      "text/plain": [
       "{'max_depth': 15,\n",
       " 'max_features': 400,\n",
       " 'min_samples_split': 0.15,\n",
       " 'n_estimators': 20}"
      ]
     },
     "execution_count": 148,
     "metadata": {},
     "output_type": "execute_result"
    }
   ],
   "source": [
    "clf.best_params_"
   ]
  },
  {
   "cell_type": "code",
   "execution_count": null,
   "metadata": {},
   "outputs": [],
   "source": [
    "clf.best_params_"
   ]
  },
  {
   "cell_type": "code",
   "execution_count": 162,
   "metadata": {},
   "outputs": [],
   "source": [
    "params = pd.DataFrame(clf.cv_results_['params'])\n",
    "params['means'] = clf.cv_results_['mean_test_score']\n",
    "params['stds'] = clf.cv_results_['std_test_score']"
   ]
  },
  {
   "cell_type": "markdown",
   "metadata": {},
   "source": [
    "Looking too random, doesnt seam to be related to param choice. \n",
    "\n",
    "Maybe the metrics is not good. "
   ]
  },
  {
   "cell_type": "code",
   "execution_count": 181,
   "metadata": {},
   "outputs": [],
   "source": [
    "ExtraTreesClassifier?"
   ]
  },
  {
   "cell_type": "code",
   "execution_count": 170,
   "metadata": {},
   "outputs": [
    {
     "data": {
      "text/plain": [
       "192"
      ]
     },
     "execution_count": 170,
     "metadata": {},
     "output_type": "execute_result"
    }
   ],
   "source": [
    "len(params)"
   ]
  },
  {
   "cell_type": "code",
   "execution_count": 189,
   "metadata": {},
   "outputs": [
    {
     "data": {
      "text/plain": [
       "<matplotlib.axes._subplots.AxesSubplot at 0x243d12f5f98>"
      ]
     },
     "execution_count": 189,
     "metadata": {},
     "output_type": "execute_result"
    },
    {
     "data": {
      "image/png": "[encoded data removed]",
      "text/plain": [
       "<Figure size 432x288 with 1 Axes>"
      ]
     },
     "metadata": {},
     "output_type": "display_data"
    }
   ],
   "source": [
    "params.sort_values(by='means', ascending=False)[:30].max_features.hist()"
   ]
  },
  {
   "cell_type": "markdown",
   "metadata": {},
   "source": [
    "This is too random, metric seams not good!"
   ]
  },
  {
   "cell_type": "code",
   "execution_count": 187,
   "metadata": {},
   "outputs": [
    {
     "data": {
      "text/plain": [
       "<matplotlib.axes._subplots.AxesSubplot at 0x243d11c5d30>"
      ]
     },
     "execution_count": 187,
     "metadata": {},
     "output_type": "execute_result"
    },
    {
     "data": {
      "image/png": "[encoded data removed]",
      "text/plain": [
       "<Figure size 432x288 with 1 Axes>"
      ]
     },
     "metadata": {},
     "output_type": "display_data"
    }
   ],
   "source": [
    "params.sort_values(by='means', ascending=False)[:50].max_depth.hist()"
   ]
  },
  {
   "cell_type": "markdown",
   "metadata": {},
   "source": [
    "## Generate predictions for validation on Mt5"
   ]
  },
  {
   "cell_type": "code",
   "execution_count": 177,
   "metadata": {},
   "outputs": [],
   "source": [
    "nsplits=4  # number of cross validation splits with time-series-split\n",
    "def function(X, y, i):  \n",
    "    \"\"\"i index of prediction on the parent X vector\"\"\"\n",
    "    #scv = TimeSeriesSplit(n_splits=nsplits)\n",
    "    # this here garantes 4 folds \n",
    "    kfold = skfold(X[:-1], foldsize=len(X[:-1])-nsplits, ratio=0.9)\n",
    "    svm = ExtraTreesClassifier(n_estimators=70, verbose=0, max_features=300)\n",
    "    results = [np.nan]*(1+1+3)    \n",
    "    try:\n",
    "        # if don't have tree-classes for training cannot train model\n",
    "        if len(np.unique(y[:-1])) == 3:\n",
    "            svm.fit(X[:-1], y[:-1])\n",
    "            ypred = svm.predict_proba(X[-1:])\n",
    "            results = [i, y[-1], *ypred[0]]\n",
    "    except Exception as e:\n",
    "        print(e)\n",
    "        raise e       \n",
    "    return results"
   ]
  },
  {
   "cell_type": "code",
   "execution_count": 180,
   "metadata": {},
   "outputs": [],
   "source": [
    "dowtime = dow.index"
   ]
  },
  {
   "cell_type": "code",
   "execution_count": 183,
   "metadata": {},
   "outputs": [
    {
     "data": {
      "text/plain": [
       "DatetimeIndex(['2013-12-02 10:42:00', '2013-12-02 10:43:00',\n",
       "               '2013-12-02 10:44:00', '2013-12-02 10:45:00',\n",
       "               '2013-12-02 10:46:00', '2013-12-02 10:47:00',\n",
       "               '2013-12-02 10:48:00', '2013-12-02 10:49:00',\n",
       "               '2013-12-02 10:50:00', '2013-12-02 10:51:00',\n",
       "               ...\n",
       "               '2018-12-11 17:45:00', '2018-12-11 17:46:00',\n",
       "               '2018-12-11 17:47:00', '2018-12-11 17:48:00',\n",
       "               '2018-12-11 17:49:00', '2018-12-11 17:50:00',\n",
       "               '2018-12-11 17:51:00', '2018-12-11 17:52:00',\n",
       "               '2018-12-11 17:53:00', '2018-12-11 17:54:00'],\n",
       "              dtype='datetime64[ns]', name='time', length=502264, freq=None)"
      ]
     },
     "execution_count": 183,
     "metadata": {},
     "output_type": "execute_result"
    }
   ],
   "source": [
    "dowtime"
   ]
  },
  {
   "cell_type": "code",
   "execution_count": null,
   "metadata": {},
   "outputs": [],
   "source": [
    "del dowv, dow"
   ]
  },
  {
   "cell_type": "code",
   "execution_count": 185,
   "metadata": {},
   "outputs": [
    {
     "data": {
      "text/plain": [
       "(502264, 55697)"
      ]
     },
     "execution_count": 185,
     "metadata": {},
     "output_type": "execute_result"
    }
   ],
   "source": [
    "len(dowtime), len(X)"
   ]
  },
  {
   "cell_type": "code",
   "execution_count": 187,
   "metadata": {},
   "outputs": [],
   "source": [
    "nmax = len(X)-twindow\n",
    "#nmax = 1500"
   ]
  },
  {
   "cell_type": "code",
   "execution_count": 188,
   "metadata": {},
   "outputs": [
    {
     "name": "stderr",
     "output_type": "stream",
     "text": [
      "[Parallel(n_jobs=6)]: Done  38 tasks      | elapsed:    1.4s\n",
      "[Parallel(n_jobs=6)]: Done 188 tasks      | elapsed:    7.6s\n",
      "[Parallel(n_jobs=6)]: Done 438 tasks      | elapsed:   17.3s\n",
      "[Parallel(n_jobs=6)]: Done 788 tasks      | elapsed:   31.3s\n",
      "[Parallel(n_jobs=6)]: Done 1238 tasks      | elapsed:   49.5s\n",
      "[Parallel(n_jobs=6)]: Done 1788 tasks      | elapsed:  1.2min\n",
      "[Parallel(n_jobs=6)]: Done 2438 tasks      | elapsed:  1.6min\n",
      "[Parallel(n_jobs=6)]: Done 3188 tasks      | elapsed:  2.2min\n",
      "[Parallel(n_jobs=6)]: Done 4038 tasks      | elapsed:  2.7min\n",
      "[Parallel(n_jobs=6)]: Done 4988 tasks      | elapsed:  3.4min\n",
      "[Parallel(n_jobs=6)]: Done 6038 tasks      | elapsed:  4.1min\n",
      "[Parallel(n_jobs=6)]: Done 7188 tasks      | elapsed:  4.8min\n",
      "[Parallel(n_jobs=6)]: Done 8438 tasks      | elapsed:  5.7min\n",
      "[Parallel(n_jobs=6)]: Done 9788 tasks      | elapsed:  6.5min\n",
      "[Parallel(n_jobs=6)]: Done 11238 tasks      | elapsed:  7.5min\n",
      "[Parallel(n_jobs=6)]: Done 12788 tasks      | elapsed:  8.5min\n",
      "[Parallel(n_jobs=6)]: Done 14438 tasks      | elapsed:  9.6min\n",
      "[Parallel(n_jobs=6)]: Done 16188 tasks      | elapsed: 10.7min\n",
      "[Parallel(n_jobs=6)]: Done 18038 tasks      | elapsed: 11.9min\n",
      "[Parallel(n_jobs=6)]: Done 19988 tasks      | elapsed: 13.2min\n",
      "[Parallel(n_jobs=6)]: Done 22038 tasks      | elapsed: 14.5min\n",
      "[Parallel(n_jobs=6)]: Done 24188 tasks      | elapsed: 15.9min\n",
      "[Parallel(n_jobs=6)]: Done 26438 tasks      | elapsed: 17.4min\n",
      "[Parallel(n_jobs=6)]: Done 28788 tasks      | elapsed: 18.9min\n",
      "[Parallel(n_jobs=6)]: Done 31238 tasks      | elapsed: 20.6min\n",
      "[Parallel(n_jobs=6)]: Done 33788 tasks      | elapsed: 22.3min\n",
      "[Parallel(n_jobs=6)]: Done 36438 tasks      | elapsed: 24.0min\n",
      "[Parallel(n_jobs=6)]: Done 39188 tasks      | elapsed: 25.8min\n",
      "[Parallel(n_jobs=6)]: Done 42038 tasks      | elapsed: 27.7min\n",
      "[Parallel(n_jobs=6)]: Done 44988 tasks      | elapsed: 29.6min\n",
      "[Parallel(n_jobs=6)]: Done 48038 tasks      | elapsed: 31.5min\n",
      "[Parallel(n_jobs=6)]: Done 51188 tasks      | elapsed: 33.6min\n",
      "[Parallel(n_jobs=6)]: Done 54438 tasks      | elapsed: 35.7min\n",
      "[Parallel(n_jobs=6)]: Done 55613 out of 55613 | elapsed: 36.5min finished\n"
     ]
    }
   ],
   "source": [
    "from joblib import Parallel, delayed\n",
    "\n",
    "if __name__ == '__main__':\n",
    "     results = Parallel(n_jobs=6, verbose=1)(\n",
    "         delayed(function)(X[i:i+twindow], y[i:i+twindow], i+twindow-1) \n",
    "         for i in range(nmax))\n",
    "# if using jit in any of the methods above parallel doesnt work"
   ]
  },
  {
   "cell_type": "code",
   "execution_count": 189,
   "metadata": {},
   "outputs": [],
   "source": [
    "#names = ['s'+str(j)+str(i) for j in range(nsplits)  for i in range(3) ] + ['ytrue', 'ypred']\n",
    "names = ['i'] + ['ytrue', 'y0', 'y1', 'y2']"
   ]
  },
  {
   "cell_type": "code",
   "execution_count": 190,
   "metadata": {},
   "outputs": [],
   "source": [
    "#results = pd.DataFrame(results, columns=['mprec', 'precision', 'recall', 'ypred', 'ytrue'])\n",
    "dresults = pd.DataFrame(results, columns=names)"
   ]
  },
  {
   "cell_type": "code",
   "execution_count": 191,
   "metadata": {},
   "outputs": [
    {
     "data": {
      "text/html": [
       "<div>\n",
       "<style scoped>\n",
       "    .dataframe tbody tr th:only-of-type {\n",
       "        vertical-align: middle;\n",
       "    }\n",
       "\n",
       "    .dataframe tbody tr th {\n",
       "        vertical-align: top;\n",
       "    }\n",
       "\n",
       "    .dataframe thead th {\n",
       "        text-align: right;\n",
       "    }\n",
       "</style>\n",
       "<table border=\"1\" class=\"dataframe\">\n",
       "  <thead>\n",
       "    <tr style=\"text-align: right;\">\n",
       "      <th></th>\n",
       "      <th>i</th>\n",
       "      <th>ytrue</th>\n",
       "      <th>y0</th>\n",
       "      <th>y1</th>\n",
       "      <th>y2</th>\n",
       "    </tr>\n",
       "  </thead>\n",
       "  <tbody>\n",
       "    <tr>\n",
       "      <th>0</th>\n",
       "      <td>83</td>\n",
       "      <td>1</td>\n",
       "      <td>0.578571</td>\n",
       "      <td>0.421429</td>\n",
       "      <td>0.000000</td>\n",
       "    </tr>\n",
       "    <tr>\n",
       "      <th>1</th>\n",
       "      <td>84</td>\n",
       "      <td>1</td>\n",
       "      <td>0.392857</td>\n",
       "      <td>0.521429</td>\n",
       "      <td>0.085714</td>\n",
       "    </tr>\n",
       "    <tr>\n",
       "      <th>2</th>\n",
       "      <td>85</td>\n",
       "      <td>0</td>\n",
       "      <td>0.000000</td>\n",
       "      <td>1.000000</td>\n",
       "      <td>0.000000</td>\n",
       "    </tr>\n",
       "    <tr>\n",
       "      <th>3</th>\n",
       "      <td>86</td>\n",
       "      <td>2</td>\n",
       "      <td>0.292857</td>\n",
       "      <td>0.050000</td>\n",
       "      <td>0.657143</td>\n",
       "    </tr>\n",
       "    <tr>\n",
       "      <th>4</th>\n",
       "      <td>87</td>\n",
       "      <td>2</td>\n",
       "      <td>0.185714</td>\n",
       "      <td>0.028571</td>\n",
       "      <td>0.785714</td>\n",
       "    </tr>\n",
       "  </tbody>\n",
       "</table>\n",
       "</div>"
      ],
      "text/plain": [
       "    i  ytrue        y0        y1        y2\n",
       "0  83      1  0.578571  0.421429  0.000000\n",
       "1  84      1  0.392857  0.521429  0.085714\n",
       "2  85      0  0.000000  1.000000  0.000000\n",
       "3  86      2  0.292857  0.050000  0.657143\n",
       "4  87      2  0.185714  0.028571  0.785714"
      ]
     },
     "execution_count": 191,
     "metadata": {},
     "output_type": "execute_result"
    }
   ],
   "source": [
    "dresults.head()"
   ]
  },
  {
   "cell_type": "code",
   "execution_count": 192,
   "metadata": {},
   "outputs": [],
   "source": [
    "yclass = np.argmax(dresults.values[:, -3:], axis=-1)\n",
    "dresults['prob'] = np.max(dresults.values[:, -3:], axis=-1)\n",
    "dresults['ypred'] = yclass"
   ]
  },
  {
   "cell_type": "code",
   "execution_count": 240,
   "metadata": {},
   "outputs": [
    {
     "name": "stdout",
     "output_type": "stream",
     "text": [
      "             precision    recall  f1-score   support\n",
      "\n",
      "          0       0.81      0.88      0.84      9191\n",
      "          1       0.69      0.49      0.57      3560\n",
      "          2       0.94      0.97      0.96      5053\n",
      "\n",
      "avg / total       0.82      0.83      0.82     17804\n",
      "\n"
     ]
    }
   ],
   "source": [
    "print(classification_report(dresults[dresults.prob > .80].ytrue, dresults[dresults.prob > .80].ypred))"
   ]
  },
  {
   "cell_type": "code",
   "execution_count": 194,
   "metadata": {},
   "outputs": [],
   "source": [
    "predictions = dresults[dresults.prob > 0.8 ]"
   ]
  },
  {
   "cell_type": "code",
   "execution_count": 195,
   "metadata": {},
   "outputs": [
    {
     "data": {
      "text/plain": [
       "0.3201409742326434"
      ]
     },
     "execution_count": 195,
     "metadata": {},
     "output_type": "execute_result"
    }
   ],
   "source": [
    "len(predictions)/len(dresults)"
   ]
  },
  {
   "cell_type": "code",
   "execution_count": 196,
   "metadata": {},
   "outputs": [
    {
     "name": "stderr",
     "output_type": "stream",
     "text": [
      "/home/andre/anaconda3/lib/python3.6/site-packages/pandas/core/frame.py:3697: SettingWithCopyWarning: \n",
      "A value is trying to be set on a copy of a slice from a DataFrame\n",
      "\n",
      "See the caveats in the documentation: http://pandas.pydata.org/pandas-docs/stable/indexing.html#indexing-view-versus-copy\n",
      "  errors=errors)\n"
     ]
    }
   ],
   "source": [
    "predictions.drop(columns=['ytrue', 'y0', 'y1', 'y2', 'prob'], inplace=True)"
   ]
  },
  {
   "cell_type": "code",
   "execution_count": 197,
   "metadata": {},
   "outputs": [
    {
     "data": {
      "text/plain": [
       "0.434115929004718"
      ]
     },
     "execution_count": 197,
     "metadata": {},
     "output_type": "execute_result"
    }
   ],
   "source": [
    "len(predictions[predictions.ypred > 0 ])/len(predictions)"
   ]
  },
  {
   "cell_type": "code",
   "execution_count": 198,
   "metadata": {},
   "outputs": [],
   "source": [
    "predictions = predictions[predictions.ypred > 0]"
   ]
  },
  {
   "cell_type": "code",
   "execution_count": 200,
   "metadata": {},
   "outputs": [],
   "source": [
    "predictions['time'] = dowtime[ time[ predictions.i ] ]"
   ]
  },
  {
   "cell_type": "code",
   "execution_count": 201,
   "metadata": {},
   "outputs": [],
   "source": [
    "predictions.set_index('time', drop=True, inplace=True)"
   ]
  },
  {
   "cell_type": "code",
   "execution_count": 202,
   "metadata": {},
   "outputs": [],
   "source": [
    "predictions.drop(columns='i', inplace=True)"
   ]
  },
  {
   "cell_type": "code",
   "execution_count": 203,
   "metadata": {},
   "outputs": [
    {
     "data": {
      "text/html": [
       "<div>\n",
       "<style scoped>\n",
       "    .dataframe tbody tr th:only-of-type {\n",
       "        vertical-align: middle;\n",
       "    }\n",
       "\n",
       "    .dataframe tbody tr th {\n",
       "        vertical-align: top;\n",
       "    }\n",
       "\n",
       "    .dataframe thead th {\n",
       "        text-align: right;\n",
       "    }\n",
       "</style>\n",
       "<table border=\"1\" class=\"dataframe\">\n",
       "  <thead>\n",
       "    <tr style=\"text-align: right;\">\n",
       "      <th></th>\n",
       "      <th>ypred</th>\n",
       "    </tr>\n",
       "    <tr>\n",
       "      <th>time</th>\n",
       "      <th></th>\n",
       "    </tr>\n",
       "  </thead>\n",
       "  <tbody>\n",
       "    <tr>\n",
       "      <th>2013-12-04 11:19:00</th>\n",
       "      <td>1</td>\n",
       "    </tr>\n",
       "    <tr>\n",
       "      <th>2013-12-04 11:51:00</th>\n",
       "      <td>2</td>\n",
       "    </tr>\n",
       "    <tr>\n",
       "      <th>2013-12-04 12:36:00</th>\n",
       "      <td>1</td>\n",
       "    </tr>\n",
       "    <tr>\n",
       "      <th>2013-12-04 12:59:00</th>\n",
       "      <td>2</td>\n",
       "    </tr>\n",
       "    <tr>\n",
       "      <th>2013-12-04 13:54:00</th>\n",
       "      <td>1</td>\n",
       "    </tr>\n",
       "  </tbody>\n",
       "</table>\n",
       "</div>"
      ],
      "text/plain": [
       "                     ypred\n",
       "time                      \n",
       "2013-12-04 11:19:00      1\n",
       "2013-12-04 11:51:00      2\n",
       "2013-12-04 12:36:00      1\n",
       "2013-12-04 12:59:00      2\n",
       "2013-12-04 13:54:00      1"
      ]
     },
     "execution_count": 203,
     "metadata": {},
     "output_type": "execute_result"
    }
   ],
   "source": [
    "predictions.head()"
   ]
  },
  {
   "cell_type": "code",
   "execution_count": 206,
   "metadata": {},
   "outputs": [
    {
     "data": {
      "text/plain": [
       "0.13876869490277752"
      ]
     },
     "execution_count": 206,
     "metadata": {},
     "output_type": "execute_result"
    }
   ],
   "source": [
    "len(predictions)/len(time)"
   ]
  },
  {
   "cell_type": "code",
   "execution_count": 208,
   "metadata": {},
   "outputs": [
    {
     "data": {
      "text/plain": [
       "(55697, 502264)"
      ]
     },
     "execution_count": 208,
     "metadata": {},
     "output_type": "execute_result"
    }
   ],
   "source": [
    "len(time), len(dowtime)"
   ]
  },
  {
   "cell_type": "code",
   "execution_count": 210,
   "metadata": {},
   "outputs": [],
   "source": [
    "frequency=len(predictions)/len(dowtime)"
   ]
  },
  {
   "cell_type": "markdown",
   "metadata": {},
   "source": [
    "##### Per day number of orders"
   ]
  },
  {
   "cell_type": "code",
   "execution_count": 211,
   "metadata": {},
   "outputs": [
    {
     "data": {
      "text/plain": [
       "6.463095105362917"
      ]
     },
     "execution_count": 211,
     "metadata": {},
     "output_type": "execute_result"
    }
   ],
   "source": [
    "frequency*7*60"
   ]
  },
  {
   "cell_type": "markdown",
   "metadata": {},
   "source": [
    "### Turn classes in  \n",
    "\n",
    "+1 buy -1 sell "
   ]
  },
  {
   "cell_type": "code",
   "execution_count": 222,
   "metadata": {},
   "outputs": [],
   "source": [
    "predictions[predictions.ypred == 2] = -1"
   ]
  },
  {
   "cell_type": "markdown",
   "metadata": {},
   "source": [
    "Sum up orders at the same moment\n",
    "\n",
    "-negative are sell   \n",
    "+positive are buy  "
   ]
  },
  {
   "cell_type": "code",
   "execution_count": 225,
   "metadata": {},
   "outputs": [],
   "source": [
    "predictions = predictions.groupby(predictions.index).sum()"
   ]
  },
  {
   "cell_type": "code",
   "execution_count": 227,
   "metadata": {},
   "outputs": [
    {
     "data": {
      "text/plain": [
       "6939"
      ]
     },
     "execution_count": 227,
     "metadata": {},
     "output_type": "execute_result"
    }
   ],
   "source": [
    "len(predictions)"
   ]
  },
  {
   "cell_type": "code",
   "execution_count": 233,
   "metadata": {},
   "outputs": [
    {
     "data": {
      "text/plain": [
       "array([ 1, -1,  2, -2, -3])"
      ]
     },
     "execution_count": 233,
     "metadata": {},
     "output_type": "execute_result"
    }
   ],
   "source": [
    "predictions.ypred.unique()"
   ]
  },
  {
   "cell_type": "markdown",
   "metadata": {},
   "source": [
    "Save Predictions for backtesting"
   ]
  },
  {
   "cell_type": "code",
   "execution_count": 234,
   "metadata": {},
   "outputs": [],
   "source": [
    "predictions.to_pickle('Saulos_predictions_all11.pickle')"
   ]
  },
  {
   "cell_type": "code",
   "execution_count": null,
   "metadata": {},
   "outputs": [],
   "source": []
  },
  {
   "cell_type": "code",
   "execution_count": null,
   "metadata": {},
   "outputs": [],
   "source": []
  },
  {
   "cell_type": "code",
   "execution_count": null,
   "metadata": {},
   "outputs": [],
   "source": []
  },
  {
   "cell_type": "code",
   "execution_count": null,
   "metadata": {},
   "outputs": [],
   "source": []
  },
  {
   "cell_type": "code",
   "execution_count": 161,
   "metadata": {},
   "outputs": [
    {
     "ename": "NameError",
     "evalue": "name 'metrics' is not defined",
     "output_type": "error",
     "traceback": [
      "\u001b[0;31m---------------------------------------------------------------------------\u001b[0m",
      "\u001b[0;31mNameError\u001b[0m                                 Traceback (most recent call last)",
      "\u001b[0;32m<ipython-input-161-eaa8b4250572>\u001b[0m in \u001b[0;36m<module>\u001b[0;34m()\u001b[0m\n\u001b[0;32m----> 1\u001b[0;31m \u001b[0mmetrics\u001b[0m\u001b[0;34m[\u001b[0m\u001b[0;34m'probmax'\u001b[0m\u001b[0;34m]\u001b[0m \u001b[0;34m=\u001b[0m \u001b[0mmetrics\u001b[0m\u001b[0;34m.\u001b[0m\u001b[0mapply\u001b[0m\u001b[0;34m(\u001b[0m\u001b[0;32mlambda\u001b[0m \u001b[0mx\u001b[0m\u001b[0;34m:\u001b[0m  \u001b[0mmax\u001b[0m\u001b[0;34m(\u001b[0m\u001b[0mx\u001b[0m\u001b[0;34m.\u001b[0m\u001b[0mpredb0\u001b[0m\u001b[0;34m,\u001b[0m \u001b[0mx\u001b[0m\u001b[0;34m.\u001b[0m\u001b[0mpredb1\u001b[0m\u001b[0;34m)\u001b[0m\u001b[0;34m,\u001b[0m \u001b[0maxis\u001b[0m\u001b[0;34m=\u001b[0m\u001b[0;36m1\u001b[0m\u001b[0;34m)\u001b[0m\u001b[0;34m\u001b[0m\u001b[0m\n\u001b[0m",
      "\u001b[0;31mNameError\u001b[0m: name 'metrics' is not defined"
     ]
    }
   ],
   "source": [
    "metrics['probmax'] = metrics.apply(lambda x:  max(x.predb0, x.predb1), axis=1)"
   ]
  },
  {
   "cell_type": "code",
   "execution_count": 94,
   "metadata": {},
   "outputs": [
    {
     "data": {
      "text/plain": [
       "<seaborn.axisgrid.JointGrid at 0x1a93a923198>"
      ]
     },
     "execution_count": 94,
     "metadata": {},
     "output_type": "execute_result"
    },
    {
     "data": {
      "image/png": "[encoded data removed]",
      "text/plain": [
       "<Figure size 432x432 with 3 Axes>"
      ]
     },
     "metadata": {},
     "output_type": "display_data"
    }
   ],
   "source": [
    "sns.jointplot(metrics.accpred, metrics.probmax, kind='kde')"
   ]
  },
  {
   "cell_type": "markdown",
   "metadata": {},
   "source": [
    "### Jointplot above suggests 0.8 of cut-off"
   ]
  },
  {
   "cell_type": "code",
   "execution_count": 95,
   "metadata": {},
   "outputs": [
    {
     "data": {
      "text/plain": [
       "<matplotlib.axes._subplots.AxesSubplot at 0x1a93a8223c8>"
      ]
     },
     "execution_count": 95,
     "metadata": {},
     "output_type": "execute_result"
    },
    {
     "data": {
      "image/png": "[encoded data removed]",
      "text/plain": [
       "<Figure size 432x288 with 1 Axes>"
      ]
     },
     "metadata": {},
     "output_type": "display_data"
    }
   ],
   "source": [
    "metrics.accpred.hist()"
   ]
  },
  {
   "cell_type": "code",
   "execution_count": 96,
   "metadata": {},
   "outputs": [],
   "source": [
    "import talib as ta"
   ]
  },
  {
   "cell_type": "markdown",
   "metadata": {},
   "source": [
    "### Average Accuracy by day"
   ]
  },
  {
   "cell_type": "code",
   "execution_count": 97,
   "metadata": {
    "scrolled": true
   },
   "outputs": [
    {
     "name": "stdout",
     "output_type": "stream",
     "text": [
      "[0.25   0.2525 0.275  0.375  0.475 ]\n"
     ]
    },
    {
     "data": {
      "image/png": "[encoded data removed]",
      "text/plain": [
       "<Figure size 288x144 with 1 Axes>"
      ]
     },
     "metadata": {},
     "output_type": "display_data"
    }
   ],
   "source": [
    "metrics['davpredac'] = ta.SMA(metrics.accpred.values, 4)\n",
    "plt.figure(figsize=(4,2))\n",
    "plt.hist(metrics.davpredac.dropna());\n",
    "print(np.percentile(metrics.davpredac.dropna().values, (0, 1, 10, 50, 90)))\n",
    "# davpredac_c = ta.SMA(metrics.predac_c.dropna().astype(np.double), 4)\n",
    "# plt.figure(figsize=(4,2))\n",
    "# plt.hist(davpredac_c.dropna());\n",
    "# print(np.percentile(davpredac_c.dropna(), (0, 1, 10, 50, 90)))"
   ]
  },
  {
   "cell_type": "markdown",
   "metadata": {},
   "source": [
    "### Average Accuracy by week"
   ]
  },
  {
   "cell_type": "code",
   "execution_count": null,
   "metadata": {},
   "outputs": [],
   "source": [
    "metrics['wavpredac'] = ta.SMA(metrics.accpred.values, 20)\n",
    "plt.figure(figsize=(4,2))\n",
    "plt.hist(metrics.wavpredac.dropna());\n",
    "print(np.percentile(metrics.wavpredac.dropna().values, (0, 1, 10, 50, 90)))\n",
    "# wavpredac_c = ta.SMA(metrics.predac_c.dropna().astype(np.double), 20)\n",
    "# plt.figure(figsize=(4,2))\n",
    "# plt.hist(wavpredac_c.dropna());\n",
    "# print(np.percentile(wavpredac_c.dropna(), (0, 1, 10, 50, 90)))"
   ]
  },
  {
   "cell_type": "code",
   "execution_count": null,
   "metadata": {},
   "outputs": [],
   "source": [
    "metrics['modelscore'] = np.sqrt(metrics.trainac*metrics.validac)"
   ]
  },
  {
   "cell_type": "code",
   "execution_count": null,
   "metadata": {},
   "outputs": [],
   "source": [
    "sns.jointplot(metrics.modelscore, metrics.wavpredac, kind='kde')"
   ]
  },
  {
   "cell_type": "code",
   "execution_count": null,
   "metadata": {
    "scrolled": true
   },
   "outputs": [],
   "source": [
    "print(np.percentile(metrics.wavpredac[ metrics.modelscore > 0.525 ].dropna(), (0, 1, 10, 50, 90)))"
   ]
  },
  {
   "cell_type": "code",
   "execution_count": null,
   "metadata": {},
   "outputs": [],
   "source": [
    "len(metrics.wavpredac[ metrics.modelscore > 0.78 ].dropna())/len(metrics.wavpredac.dropna())"
   ]
  },
  {
   "cell_type": "code",
   "execution_count": null,
   "metadata": {},
   "outputs": [],
   "source": [
    "metrics[-10:]"
   ]
  },
  {
   "cell_type": "code",
   "execution_count": null,
   "metadata": {},
   "outputs": [],
   "source": [
    "def probability(values):\n",
    "    percentiles = np.percentile(values, [0, 1, 10, 50, 90])\n",
    "    print('percentiles are ', percentiles)\n",
    "    import matplotlib.ticker as plticker\n",
    "    loc = plticker.MultipleLocator(base=1.0) # this locator puts ticks at regular intervals\n",
    "    fig = plt.figure(figsize=(10,4))\n",
    "    ax1 = fig.add_subplot(211);\n",
    "    ax1.hist(values, bins=20, density=True);\n",
    "    #ax1.set_xlim(percentiles[0], 5)\n",
    "    ax1.xaxis.set_major_locator(loc)\n",
    "    ax1.grid()\n",
    "    ax2 = fig.add_subplot(212, sharex=ax1)\n",
    "    ax2.hist(values, bins=20, density=True, cumulative=True);\n",
    "    ax2.xaxis.set_major_locator(loc)\n",
    "    ax2.set_ylabel('cumulative percentage (%)')\n",
    "    ax2.grid()"
   ]
  },
  {
   "cell_type": "code",
   "execution_count": null,
   "metadata": {},
   "outputs": [],
   "source": [
    "probability(metrics.wavpredac[ metrics.modelscore > 0.78 ].dropna());"
   ]
  },
  {
   "cell_type": "code",
   "execution_count": null,
   "metadata": {},
   "outputs": [],
   "source": []
  }
 ],
 "metadata": {
  "kernelspec": {
   "display_name": "Python 3",
   "language": "python",
   "name": "python3"
  },
  "language_info": {
   "codemirror_mode": {
    "name": "ipython",
    "version": 3
   },
   "file_extension": ".py",
   "mimetype": "text/x-python",
   "name": "python",
   "nbconvert_exporter": "python",
   "pygments_lexer": "ipython3",
   "version": "3.6.7"
  }
 },
 "nbformat": 4,
 "nbformat_minor": 2
}
