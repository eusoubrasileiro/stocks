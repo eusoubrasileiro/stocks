{
 "cells": [
  {
   "cell_type": "code",
   "execution_count": 1,
   "metadata": {},
   "outputs": [],
   "source": [
    "%matplotlib inline\n",
    "from matplotlib import pyplot as plt"
   ]
  },
  {
   "cell_type": "code",
   "execution_count": 2,
   "metadata": {},
   "outputs": [],
   "source": [
    "import numpy as np\n",
    "import os\n",
    "import pandas as pd\n",
    "\n",
    "moneybar_dtype = np.dtype([\n",
    "    (\"bid\", np.float64),\n",
    "    (\"ask\", np.float64),\n",
    "    (\"mlast\", np.float64),\n",
    "    (\"msc\", np.int64)\n",
    "])"
   ]
  },
  {
   "cell_type": "code",
   "execution_count": 3,
   "metadata": {},
   "outputs": [
    {
     "name": "stdout",
     "output_type": "stream",
     "text": [
      "D:\\Users\\andre.ferreira\\AppData\\Roaming\\MetaQuotes\\Terminal\\8B052D0699A0083067EBF3A36123603B\\MQL5\\Files\n"
     ]
    }
   ],
   "source": [
    "cd D:\\Users\\andre.ferreira\\AppData\\Roaming\\MetaQuotes\\Terminal\\8B052D0699A0083067EBF3A36123603B\\MQL5\\Files"
   ]
  },
  {
   "cell_type": "code",
   "execution_count": 4,
   "metadata": {},
   "outputs": [
    {
     "name": "stdout",
     "output_type": "stream",
     "text": [
      "[WinError 3] O sistema não pode encontrar o caminho especificado: 'D:\\\\MetaTrader 5\\\\hard_link_AppDataRoamingMetaQuotes_Terminal\\\\8B052D0699A0083067EBF3A36123603B\\\\MQL5\\\\Files'\n",
      "D:\\Users\\andre.ferreira\\AppData\\Roaming\\MetaQuotes\\Terminal\\8B052D0699A0083067EBF3A36123603B\\MQL5\\Files\n"
     ]
    }
   ],
   "source": [
    "cd D:\\MetaTrader 5\\hard_link_AppDataRoamingMetaQuotes_Terminal\\8B052D0699A0083067EBF3A36123603B\\MQL5\\Files"
   ]
  },
  {
   "cell_type": "code",
   "execution_count": 5,
   "metadata": {},
   "outputs": [],
   "source": [
    "data = np.fromfile('WINV19_0.5_mbar.bin', dtype=moneybar_dtype)"
   ]
  },
  {
   "cell_type": "code",
   "execution_count": 6,
   "metadata": {},
   "outputs": [
    {
     "data": {
      "text/plain": [
       "mappingproxy({'bid': (dtype('float64'), 0),\n",
       "              'ask': (dtype('float64'), 8),\n",
       "              'mlast': (dtype('float64'), 16),\n",
       "              'msc': (dtype('int64'), 24)})"
      ]
     },
     "execution_count": 6,
     "metadata": {},
     "output_type": "execute_result"
    }
   ],
   "source": [
    "moneybar_dtype.fields"
   ]
  },
  {
   "cell_type": "code",
   "execution_count": 7,
   "metadata": {},
   "outputs": [],
   "source": [
    "dfdata = pd.DataFrame.from_records(data)"
   ]
  },
  {
   "cell_type": "code",
   "execution_count": 8,
   "metadata": {},
   "outputs": [],
   "source": [
    "#dfdata.msc = dfdata.msc.astype('datetime64[ms]')"
   ]
  },
  {
   "cell_type": "code",
   "execution_count": 9,
   "metadata": {},
   "outputs": [
    {
     "data": {
      "text/html": [
       "<div>\n",
       "<style scoped>\n",
       "    .dataframe tbody tr th:only-of-type {\n",
       "        vertical-align: middle;\n",
       "    }\n",
       "\n",
       "    .dataframe tbody tr th {\n",
       "        vertical-align: top;\n",
       "    }\n",
       "\n",
       "    .dataframe thead th {\n",
       "        text-align: right;\n",
       "    }\n",
       "</style>\n",
       "<table border=\"1\" class=\"dataframe\">\n",
       "  <thead>\n",
       "    <tr style=\"text-align: right;\">\n",
       "      <th></th>\n",
       "      <th>bid</th>\n",
       "      <th>ask</th>\n",
       "      <th>mlast</th>\n",
       "      <th>msc</th>\n",
       "    </tr>\n",
       "  </thead>\n",
       "  <tbody>\n",
       "    <tr>\n",
       "      <th>0</th>\n",
       "      <td>102535.0</td>\n",
       "      <td>102540.0</td>\n",
       "      <td>102540.0</td>\n",
       "      <td>1570205592357</td>\n",
       "    </tr>\n",
       "    <tr>\n",
       "      <th>1</th>\n",
       "      <td>102535.0</td>\n",
       "      <td>102540.0</td>\n",
       "      <td>102540.0</td>\n",
       "      <td>1570205592355</td>\n",
       "    </tr>\n",
       "    <tr>\n",
       "      <th>2</th>\n",
       "      <td>102535.0</td>\n",
       "      <td>102545.0</td>\n",
       "      <td>102540.0</td>\n",
       "      <td>1570205592354</td>\n",
       "    </tr>\n",
       "    <tr>\n",
       "      <th>3</th>\n",
       "      <td>102535.0</td>\n",
       "      <td>102540.0</td>\n",
       "      <td>102540.0</td>\n",
       "      <td>1570205592352</td>\n",
       "    </tr>\n",
       "    <tr>\n",
       "      <th>4</th>\n",
       "      <td>102535.0</td>\n",
       "      <td>102540.0</td>\n",
       "      <td>102540.0</td>\n",
       "      <td>1570205592352</td>\n",
       "    </tr>\n",
       "  </tbody>\n",
       "</table>\n",
       "</div>"
      ],
      "text/plain": [
       "        bid       ask     mlast            msc\n",
       "0  102535.0  102540.0  102540.0  1570205592357\n",
       "1  102535.0  102540.0  102540.0  1570205592355\n",
       "2  102535.0  102545.0  102540.0  1570205592354\n",
       "3  102535.0  102540.0  102540.0  1570205592352\n",
       "4  102535.0  102540.0  102540.0  1570205592352"
      ]
     },
     "execution_count": 9,
     "metadata": {},
     "output_type": "execute_result"
    }
   ],
   "source": [
    "dfdata.head()"
   ]
  },
  {
   "cell_type": "code",
   "execution_count": 10,
   "metadata": {},
   "outputs": [],
   "source": [
    "dfdata.set_index(dfdata.msc, drop=True, inplace=True)"
   ]
  },
  {
   "cell_type": "code",
   "execution_count": 11,
   "metadata": {},
   "outputs": [],
   "source": [
    "dfdata.sort_index(inplace=True)"
   ]
  },
  {
   "cell_type": "code",
   "execution_count": 12,
   "metadata": {},
   "outputs": [],
   "source": [
    "dfdata.drop(columns='msc', inplace=True)"
   ]
  },
  {
   "cell_type": "code",
   "execution_count": 13,
   "metadata": {},
   "outputs": [
    {
     "data": {
      "text/html": [
       "<div>\n",
       "<style scoped>\n",
       "    .dataframe tbody tr th:only-of-type {\n",
       "        vertical-align: middle;\n",
       "    }\n",
       "\n",
       "    .dataframe tbody tr th {\n",
       "        vertical-align: top;\n",
       "    }\n",
       "\n",
       "    .dataframe thead th {\n",
       "        text-align: right;\n",
       "    }\n",
       "</style>\n",
       "<table border=\"1\" class=\"dataframe\">\n",
       "  <thead>\n",
       "    <tr style=\"text-align: right;\">\n",
       "      <th></th>\n",
       "      <th>bid</th>\n",
       "      <th>ask</th>\n",
       "      <th>mlast</th>\n",
       "    </tr>\n",
       "    <tr>\n",
       "      <th>msc</th>\n",
       "      <th></th>\n",
       "      <th></th>\n",
       "      <th></th>\n",
       "    </tr>\n",
       "  </thead>\n",
       "  <tbody>\n",
       "    <tr>\n",
       "      <th>1569321349387</th>\n",
       "      <td>104720.0</td>\n",
       "      <td>104725.0</td>\n",
       "      <td>104725.0</td>\n",
       "    </tr>\n",
       "    <tr>\n",
       "      <th>1569321349387</th>\n",
       "      <td>104720.0</td>\n",
       "      <td>104725.0</td>\n",
       "      <td>104725.0</td>\n",
       "    </tr>\n",
       "    <tr>\n",
       "      <th>1569321349387</th>\n",
       "      <td>104720.0</td>\n",
       "      <td>104725.0</td>\n",
       "      <td>104725.0</td>\n",
       "    </tr>\n",
       "    <tr>\n",
       "      <th>1569321349389</th>\n",
       "      <td>104720.0</td>\n",
       "      <td>104725.0</td>\n",
       "      <td>104725.0</td>\n",
       "    </tr>\n",
       "    <tr>\n",
       "      <th>1569321349389</th>\n",
       "      <td>104720.0</td>\n",
       "      <td>104725.0</td>\n",
       "      <td>104725.0</td>\n",
       "    </tr>\n",
       "  </tbody>\n",
       "</table>\n",
       "</div>"
      ],
      "text/plain": [
       "                    bid       ask     mlast\n",
       "msc                                        \n",
       "1569321349387  104720.0  104725.0  104725.0\n",
       "1569321349387  104720.0  104725.0  104725.0\n",
       "1569321349387  104720.0  104725.0  104725.0\n",
       "1569321349389  104720.0  104725.0  104725.0\n",
       "1569321349389  104720.0  104725.0  104725.0"
      ]
     },
     "execution_count": 13,
     "metadata": {},
     "output_type": "execute_result"
    }
   ],
   "source": [
    "dfdata.head()"
   ]
  },
  {
   "cell_type": "code",
   "execution_count": 14,
   "metadata": {},
   "outputs": [],
   "source": [
    "dfdatadata = dfdata[:200000]"
   ]
  },
  {
   "cell_type": "markdown",
   "metadata": {},
   "source": [
    "### Velocity"
   ]
  },
  {
   "cell_type": "code",
   "execution_count": 15,
   "metadata": {},
   "outputs": [],
   "source": [
    "velocity = dfdata.index[1:]-dfdata.index[:-1]"
   ]
  },
  {
   "cell_type": "code",
   "execution_count": 16,
   "metadata": {},
   "outputs": [],
   "source": [
    "velocity = velocity.to_numpy()"
   ]
  },
  {
   "cell_type": "code",
   "execution_count": 17,
   "metadata": {},
   "outputs": [],
   "source": [
    "velocity[ velocity > 60000*60*4] = 0 # 4 hours"
   ]
  },
  {
   "cell_type": "code",
   "execution_count": 18,
   "metadata": {},
   "outputs": [],
   "source": [
    "velocity += 1"
   ]
  },
  {
   "cell_type": "code",
   "execution_count": 19,
   "metadata": {},
   "outputs": [],
   "source": [
    "velocity = 1/velocity"
   ]
  },
  {
   "cell_type": "code",
   "execution_count": 20,
   "metadata": {
    "scrolled": true
   },
   "outputs": [
    {
     "data": {
      "image/png": "[encoded data removed]",
      "text/plain": [
       "<Figure size 1080x288 with 2 Axes>"
      ]
     },
     "metadata": {
      "needs_background": "light"
     },
     "output_type": "display_data"
    }
   ],
   "source": [
    "fig, axr = plt.subplots(2, sharex=True, figsize=(15,4))\n",
    "axr[0].plot(dfdata.mlast.values[:-1], 'r', lw=0.6)\n",
    "axr[1].plot(velocity, 'k,', lw=0.8)\n",
    "axr[1].set_yscale('log')"
   ]
  },
  {
   "cell_type": "code",
   "execution_count": 21,
   "metadata": {},
   "outputs": [
    {
     "name": "stdout",
     "output_type": "stream",
     "text": [
      "D:\\Users\\andre.ferreira\\Projects\\stocks\\prototypes\n"
     ]
    }
   ],
   "source": [
    "cd D:\\Users\\andre.ferreira\\Projects\\stocks\\prototypes"
   ]
  },
  {
   "cell_type": "markdown",
   "metadata": {},
   "source": [
    "### Fractional Diferences - Preserving Memory in Stationary Time Series\n",
    "\n",
    "Finite diferences coeficientes backward for series can be written with following formula. \n",
    "Where $n$ is the derivative order, $h$ is the discrete increment in $t$ and $k$ is the order of the schema. \n",
    "\n",
    "$$ \\Delta^{n}_{h} f(t) = \\sum_{i=0}^{n} (-1)^{i} \\binom{n}{i} f\\left(t-ih\\right) $$\n",
    "\n",
    "for h=1 considering f(t) as discrete time series and using the notation $ f(t) = X_t $ we can write:\n",
    "\n",
    "\n",
    "$$ \\Delta^{n} X_t = \\sum_{i=0}^{n} (-1)^{i} \\binom{n}{i} X_{t-i} $$\n"
   ]
  },
  {
   "cell_type": "markdown",
   "metadata": {},
   "source": [
    "Considering the case where n=1 first order derivative. \n",
    "\n",
    "$$ \\Delta^{1} X_t = \\sum_{i=0}^{1} (-1)^{i} \\binom{1}{i} X_{t-i} $$\n"
   ]
  },
  {
   "cell_type": "markdown",
   "metadata": {},
   "source": [
    "$$ \\binom{n}{k} = \\frac{n!}{k! (n-k)!} $$"
   ]
  },
  {
   "cell_type": "markdown",
   "metadata": {},
   "source": [
    "$$ i(0) = \\frac{1!}{0!(1-0)!}X_{t-0} = X_t $$\n",
    "$$ i(1) = \\frac{1!}{1(1-1)!}X_{t-1} = -X_{t-1} $$\n",
    "\n",
    "We get equation bellow:\n",
    "$$ \\Delta^{1} X_t = \\sum_{i=0}^{1} (-1)^{i} \\binom{1}{i} X_{t-i} = X_t -X_{t-1} $$                             "
   ]
  },
  {
   "cell_type": "markdown",
   "metadata": {},
   "source": [
    "Using the notation for the lag operator $B$ defined for a time series $X_t$ as \n",
    "$ B X_t = X_{t-1} $.  Also polynomials of this operator are understood as repeated application, e.g. $B^2X_t=X_{t-2}$ . "
   ]
  },
  {
   "cell_type": "markdown",
   "metadata": {},
   "source": [
    "We can write \n",
    "\n",
    "$$ \\Delta^1 X_t = X_t - X_{t-1} = (1-B)^1 X_t $$\n",
    "\n",
    "BUT let's consider for while that we want the half or fractional derivative them we can expand $(1-B)^d$ using Binomial coefficients:"
   ]
  },
  {
   "cell_type": "markdown",
   "metadata": {},
   "source": [
    "![title](frac_differences.png)"
   ]
  },
  {
   "cell_type": "markdown",
   "metadata": {},
   "source": [
    "Those are the coeficients multiplying the time series $X_t$, $X_{t-1}$, $X_{t-2}$ etc. Like   \n",
    "\n",
    "\n",
    "$$ \\sum^{\\infty }_{k=0} \\frac{\\prod^{k-1}_{a=0} (d-a)(-B)^k }{k!} $$\n",
    "\n",
    "\n",
    "$$ 1X_t - dB X_t + \\frac{d(d-1)}{2!}B^2X_t - ... =  X_t - dX_{t-1} + \\frac{d(d-1)}{2!}X_{t-2} - ... $$\n",
    "\n",
    "\n",
    "\n",
    "\n",
    "\n"
   ]
  },
  {
   "cell_type": "markdown",
   "metadata": {},
   "source": [
    "## Better original book pages"
   ]
  },
  {
   "cell_type": "markdown",
   "metadata": {},
   "source": [
    "![title](frac_dif_1.png)"
   ]
  },
  {
   "cell_type": "markdown",
   "metadata": {},
   "source": [
    "![title](frac_dif_2.png)"
   ]
  },
  {
   "cell_type": "markdown",
   "metadata": {},
   "source": [
    "### Filter weights calculation\n",
    "\n",
    "- for k = 0 until we desire. \n",
    "- w0 = 1\n",
    "- as k goes to inf. the weights corresponds to coeficients of more negative samples"
   ]
  },
  {
   "cell_type": "markdown",
   "metadata": {},
   "source": [
    "$$ \\omega_{k} = -\\omega_{k-1}\\frac{d-k+1}{k} $$"
   ]
  },
  {
   "cell_type": "code",
   "execution_count": 38,
   "metadata": {},
   "outputs": [],
   "source": [
    "from numba import jit\n",
    "\n",
    "@jit(nopython=True)\n",
    "def getKernel(d, size):    \n",
    "    w = np.zeros(size)\n",
    "    w[0] = 1.\n",
    "    for k in range(1, size):\n",
    "        w[k]=-w[k-1]/k*(d-k+1)\n",
    "    return w[::-1]"
   ]
  },
  {
   "cell_type": "code",
   "execution_count": 39,
   "metadata": {},
   "outputs": [
    {
     "data": {
      "text/plain": [
       "array([ 1.        , -0.5       , -0.125     , -0.0625    , -0.0390625 ,\n",
       "       -0.02734375, -0.02050781, -0.01611328, -0.01309204, -0.01091003])"
      ]
     },
     "execution_count": 39,
     "metadata": {},
     "output_type": "execute_result"
    }
   ],
   "source": [
    "getWeights(0.5, 10)"
   ]
  },
  {
   "cell_type": "code",
   "execution_count": 40,
   "metadata": {},
   "outputs": [
    {
     "data": {
      "image/png": "[encoded data removed]",
      "text/plain": [
       "<Figure size 432x288 with 1 Axes>"
      ]
     },
     "metadata": {
      "needs_background": "light"
     },
     "output_type": "display_data"
    }
   ],
   "source": [
    "for d in np.linspace(0, 1, 5):\n",
    "    plt.plot(getKernel(d, 5)[::-1], label=str(d))"
   ]
  },
  {
   "cell_type": "code",
   "execution_count": 41,
   "metadata": {},
   "outputs": [],
   "source": [
    "data = dfdata.mlast[:30000].values"
   ]
  },
  {
   "cell_type": "code",
   "execution_count": 42,
   "metadata": {},
   "outputs": [
    {
     "data": {
      "text/plain": [
       "array([104725., 104725., 104725., ..., 104525., 104525., 104525.])"
      ]
     },
     "execution_count": 42,
     "metadata": {},
     "output_type": "execute_result"
    }
   ],
   "source": [
    "data"
   ]
  },
  {
   "cell_type": "code",
   "execution_count": 43,
   "metadata": {},
   "outputs": [],
   "source": [
    "ksize = 512"
   ]
  },
  {
   "cell_type": "code",
   "execution_count": 44,
   "metadata": {},
   "outputs": [],
   "source": [
    "kernel = getKernel(0.45, ksize+1)\n",
    "kernel = np.append(kernel, np.zeros(ksize))"
   ]
  },
  {
   "cell_type": "code",
   "execution_count": 45,
   "metadata": {},
   "outputs": [
    {
     "data": {
      "text/plain": [
       "[<matplotlib.lines.Line2D at 0x29326884da0>]"
      ]
     },
     "execution_count": 45,
     "metadata": {},
     "output_type": "execute_result"
    },
    {
     "data": {
      "image/png": "[encoded data removed]",
      "text/plain": [
       "<Figure size 432x288 with 1 Axes>"
      ]
     },
     "metadata": {
      "needs_background": "light"
     },
     "output_type": "display_data"
    }
   ],
   "source": [
    "plt.plot(kernel)"
   ]
  },
  {
   "cell_type": "code",
   "execution_count": 46,
   "metadata": {},
   "outputs": [
    {
     "data": {
      "text/plain": [
       "0.037346404813915934"
      ]
     },
     "execution_count": 46,
     "metadata": {},
     "output_type": "execute_result"
    }
   ],
   "source": [
    "np.sum(kernel)"
   ]
  },
  {
   "cell_type": "markdown",
   "metadata": {},
   "source": [
    "First valid sample is at index kernel.size.   \n",
    "For the data array that implies the first valid sample at [ksize+1].   \n",
    "ksize samples before are needed to produce the sample at [ksize+1]  "
   ]
  },
  {
   "cell_type": "code",
   "execution_count": 47,
   "metadata": {
    "scrolled": true
   },
   "outputs": [],
   "source": [
    "#%%time\n",
    "#data_filtered = np.convolve(data, kernel[::-1])[kernel.size:corrsize-ksize]"
   ]
  },
  {
   "cell_type": "code",
   "execution_count": 48,
   "metadata": {},
   "outputs": [],
   "source": [
    "from scipy.signal import correlate as fftcorr"
   ]
  },
  {
   "cell_type": "code",
   "execution_count": 49,
   "metadata": {},
   "outputs": [],
   "source": [
    "corrsize = kernel.size + data.size - 1"
   ]
  },
  {
   "cell_type": "code",
   "execution_count": 50,
   "metadata": {},
   "outputs": [
    {
     "name": "stdout",
     "output_type": "stream",
     "text": [
      "Wall time: 4 ms\n"
     ]
    }
   ],
   "source": [
    "%%time\n",
    "data_filter = fftcorr(data, kernel)[kernel.size:corrsize-ksize]"
   ]
  },
  {
   "cell_type": "code",
   "execution_count": 59,
   "metadata": {},
   "outputs": [],
   "source": [
    "#inp = [1, 1, 2, 1, 1]\n",
    "#pat = [1, 2 , 1]\n",
    "#fftcorr(inp, pat)\n",
    "#array([1, 3, 5, 6, 5, 3, 1])\n",
    "#len(data_filtered), len(data_filter)"
   ]
  },
  {
   "cell_type": "code",
   "execution_count": 52,
   "metadata": {
    "scrolled": true
   },
   "outputs": [
    {
     "data": {
      "text/plain": [
       "[<matplotlib.lines.Line2D at 0x29327148358>]"
      ]
     },
     "execution_count": 52,
     "metadata": {},
     "output_type": "execute_result"
    },
    {
     "data": {
      "image/png": "[encoded data removed]",
      "text/plain": [
       "<Figure size 1080x288 with 2 Axes>"
      ]
     },
     "metadata": {
      "needs_background": "light"
     },
     "output_type": "display_data"
    }
   ],
   "source": [
    "fig, axr = plt.subplots(2, sharex=True, figsize=(15,4))\n",
    "axr[0].plot(data, 'r-', lw=0.6)\n",
    "axr[1].plot(np.arange(ksize+1, len(data)), data_filter, 'k-', lw=0.8)"
   ]
  },
  {
   "cell_type": "code",
   "execution_count": 53,
   "metadata": {},
   "outputs": [
    {
     "data": {
      "image/png": "[encoded data removed]",
      "text/plain": [
       "<Figure size 720x288 with 1 Axes>"
      ]
     },
     "metadata": {
      "needs_background": "light"
     },
     "output_type": "display_data"
    }
   ],
   "source": [
    "plt.figure(figsize=(10, 4))\n",
    "plt.hist(data_filter, bins=200);"
   ]
  },
  {
   "cell_type": "markdown",
   "metadata": {},
   "source": [
    "### Augmented Dickey–Fuller test\n",
    "\n",
    "https://www.statsmodels.org/stable/generated/statsmodels.tsa.stattools.adfuller.html\n",
    "\n",
    "- dfuller()[1]:   \n",
    "    - p-value > 0.05: Fail to reject the null hypothesis (H0), the data has a unit root and is non-stationary.  \n",
    "    - p-value <= 0.05: Reject the null hypothesis (H0), the data does not have a unit root and is stationary.  \n",
    "    \n",
    "    \n",
    "- dfuller()[0]:  \n",
    "    - ADF Statistic - compare with critical values if smaller it is stationary \n",
    "    \n",
    " \n",
    "- dfuller()[4]:  \n",
    "    - 1%  - 99% confidence limit for being not stationary\n",
    "    - 5%  - 95% confidence limit for being not stationary\n",
    "    - 10% - 90% confidence limit for being not stationary"
   ]
  },
  {
   "cell_type": "code",
   "execution_count": 54,
   "metadata": {},
   "outputs": [],
   "source": [
    "from statsmodels.tsa.stattools import adfuller"
   ]
  },
  {
   "cell_type": "code",
   "execution_count": 55,
   "metadata": {},
   "outputs": [
    {
     "data": {
      "text/plain": [
       "(-1.0274496322528497,\n",
       " 0.7431215046442408,\n",
       " 32,\n",
       " 29967,\n",
       " {'1%': -3.430568235400205,\n",
       "  '5%': -2.861636454144003,\n",
       "  '10%': -2.566821339598106},\n",
       " 124258.8352267315)"
      ]
     },
     "execution_count": 55,
     "metadata": {},
     "output_type": "execute_result"
    }
   ],
   "source": [
    "adfuller(data)"
   ]
  },
  {
   "cell_type": "markdown",
   "metadata": {},
   "source": [
    "Deleting all memory with integer differatiation"
   ]
  },
  {
   "cell_type": "code",
   "execution_count": 57,
   "metadata": {},
   "outputs": [
    {
     "data": {
      "text/plain": [
       "(-37.43534236795788,\n",
       " 0.0,\n",
       " 31,\n",
       " 29967,\n",
       " {'1%': -3.430568235400205,\n",
       "  '5%': -2.861636454144003,\n",
       "  '10%': -2.566821339598106},\n",
       " 124254.7799686924)"
      ]
     },
     "execution_count": 57,
     "metadata": {},
     "output_type": "execute_result"
    }
   ],
   "source": [
    "adfuller(np.diff(data))"
   ]
  },
  {
   "cell_type": "code",
   "execution_count": 56,
   "metadata": {},
   "outputs": [
    {
     "data": {
      "text/plain": [
       "(-3.497562937597746,\n",
       " 0.008049904019811914,\n",
       " 50,\n",
       " 29436,\n",
       " {'1%': -3.4305721725215985,\n",
       "  '5%': -2.861638194180041,\n",
       "  '10%': -2.56682226577753},\n",
       " 122301.62687082446)"
      ]
     },
     "execution_count": 56,
     "metadata": {},
     "output_type": "execute_result"
    }
   ],
   "source": [
    "adfuller(data_filter)"
   ]
  },
  {
   "cell_type": "code",
   "execution_count": null,
   "metadata": {},
   "outputs": [],
   "source": []
  }
 ],
 "metadata": {
  "kernelspec": {
   "display_name": "Python 3",
   "language": "python",
   "name": "python3"
  },
  "language_info": {
   "codemirror_mode": {
    "name": "ipython",
    "version": 3
   },
   "file_extension": ".py",
   "mimetype": "text/x-python",
   "name": "python",
   "nbconvert_exporter": "python",
   "pygments_lexer": "ipython3",
   "version": "3.7.3"
  }
 },
 "nbformat": 4,
 "nbformat_minor": 2
}
