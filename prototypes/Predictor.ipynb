{
 "cells": [
  {
   "cell_type": "code",
   "execution_count": 1,
   "metadata": {},
   "outputs": [],
   "source": [
    "%matplotlib inline"
   ]
  },
  {
   "cell_type": "code",
   "execution_count": 2,
   "metadata": {},
   "outputs": [],
   "source": [
    "from matplotlib import pyplot as plt\n",
    "import pandas as pd\n",
    "from scipy import stats\n",
    "import glob\n",
    "import datetime\n",
    "import numpy as np\n",
    "import datetime\n",
    "from pathlib import Path\n",
    "import os"
   ]
  },
  {
   "cell_type": "code",
   "execution_count": 3,
   "metadata": {},
   "outputs": [],
   "source": [
    "# due working at home and work windows and linux\n",
    "import platform\n",
    "import os\n",
    "\n",
    "if platform.system() == 'Windows' and platform.release() == '10':\n",
    "    os.chdir(r'L:\\andre\\PycharmProjects\\geonumerics\\ipython_notebooks\\Stocks\\RForex')\n",
    "elif platform.system() == 'Windows' and platform.release() == '7':\n",
    "    os.chdir(r'C:\\Data\\VBShared\\ipython_notebooks\\Stocks\\RForex')\n",
    "elif platform.system() == 'Linux' and platform.node() == 'riossm31012722':\n",
    "    os.chdir('/media/windows/Data/VBShared/ipython_notebooks/Stocks/RForex')\n",
    "elif platform.system() == 'Linux' and platform.node() == 'andre-PredatorG3571':\n",
    "    os.chdir('/home/andre/PycharmProjects/geonumerics/ipython_notebooks/Stocks/RForex')"
   ]
  },
  {
   "cell_type": "code",
   "execution_count": 4,
   "metadata": {},
   "outputs": [],
   "source": [
    "import RF_Forex as rf_forex\n",
    "import RF_Prediction as rf_predictor\n",
    "import Meta5_Ibov_Load as meta5_ibov_load"
   ]
  },
  {
   "cell_type": "code",
   "execution_count": 5,
   "metadata": {},
   "outputs": [
    {
     "data": {
      "text/plain": [
       "<module 'Meta5_Ibov_Load' from '/home/andre/PycharmProjects/geonumerics/ipython_notebooks/Stocks/RForex/Meta5_Ibov_Load.py'>"
      ]
     },
     "execution_count": 5,
     "metadata": {},
     "output_type": "execute_result"
    }
   ],
   "source": [
    "import importlib\n",
    "importlib.reload(rf_predictor)\n",
    "importlib.reload(rf_forex)\n",
    "importlib.reload(meta5_ibov_load)"
   ]
  },
  {
   "cell_type": "code",
   "execution_count": 6,
   "metadata": {},
   "outputs": [
    {
     "name": "stdout",
     "output_type": "stream",
     "text": [
      "master data loaded size (minutes) 228751\n",
      "Symbols lodaded:\n",
      "0    BBDC4\n",
      "1     DOL$\n",
      "2    VALE3\n",
      "3    BBAS3\n",
      "4    PETR4\n",
      "5    ABEV3\n",
      "6    BVMF3\n",
      "7    ITUB4\n",
      "dtype: object\n",
      "data already loaded\n"
     ]
    }
   ],
   "source": [
    "if platform.system() == 'Windows' and platform.release() == '10':\n",
    "    meta5_ibov_load.Set_Data_Path(r'L:\\andre\\PycharmProjects\\geonumerics\\ipython_notebooks\\Stocks\\data',\n",
    "                                 r'L:\\andre\\PycharmProjects\\geonumerics\\ipython_notebooks\\Stocks\\2016_stocks\\2016_2018_M1')\n",
    "elif platform.system() == 'Windows' and platform.release() == '7':\n",
    "    meta5_ibov_load.Set_Data_Path(r'C:\\Data\\VBShared\\ipython_notebooks\\Stocks\\data',\n",
    "                                 r'C:\\Data\\VBShared\\ipython_notebooks\\Stocks\\2016_stocks\\2016_2018_M1')\n",
    "elif platform.system() == 'Linux' and platform.node() == 'riossm31012722':\n",
    "    meta5_ibov_load.Set_Data_Path(r'/media/windows/Data/VBShared/ipython_notebooks/Stocks/data',\n",
    "                                r'/media/windows/Data/VBShared/ipython_notebooks/Stocks/2016_stocks/2016_2018_M1')\n",
    "elif platform.system() == 'Linux' and platform.node() == 'andre-PredatorG3571':\n",
    "    meta5_ibov_load.Set_Data_Path(r'/home/andre/PycharmProjects/geonumerics/ipython_notebooks/Stocks/data',\n",
    "                            r'/home/andre/PycharmProjects/geonumerics/ipython_notebooks/Stocks/2016_stocks/2016_2018_M1')\n",
    "    #os.chdir('/media/windows/Data/VBShared/ipython_notebooks/Stocks/2016_stocks\\2016_2018_M1'')\n",
    "\n",
    "masterdf = meta5_ibov_load.Load_Meta5_Data()"
   ]
  },
  {
   "cell_type": "code",
   "execution_count": 7,
   "metadata": {},
   "outputs": [],
   "source": [
    "targetquote='VALE3'"
   ]
  },
  {
   "cell_type": "code",
   "execution_count": 8,
   "metadata": {},
   "outputs": [],
   "source": [
    "index_file = targetquote+'_full_sIndex_data.pickle'\n",
    "xtrain_file = targetquote+'_full_Xtrain_data.pickle'\n",
    "ytrain_file = targetquote+'_full_ytrain_data.pickle'"
   ]
  },
  {
   "cell_type": "code",
   "execution_count": 9,
   "metadata": {},
   "outputs": [],
   "source": [
    "index_file = os.path.join(meta5_ibov_load.path_data_bundle, index_file)\n",
    "xtrain_file = os.path.join(meta5_ibov_load.path_data_bundle, xtrain_file)\n",
    "ytrain_file = os.path.join(meta5_ibov_load.path_data_bundle, ytrain_file)"
   ]
  },
  {
   "cell_type": "code",
   "execution_count": 10,
   "metadata": {},
   "outputs": [],
   "source": [
    "sIndex = pd.read_pickle(index_file)\n",
    "Xtrain = pd.read_pickle(xtrain_file)\n",
    "ytrain = pd.read_pickle(ytrain_file)"
   ]
  },
  {
   "cell_type": "code",
   "execution_count": 11,
   "metadata": {},
   "outputs": [],
   "source": [
    "# change here if you wish OPTIONS\n",
    "# shift=60\n",
    "nforecast=60\n",
    "nvalidation=nforecast # to validate the model prior prediction\n",
    "ntraining = 8*60 # 8 hours before for training\n",
    "nwindow = nvalidation+nforecast+ntraining \n",
    "estimators = 800"
   ]
  },
  {
   "cell_type": "markdown",
   "metadata": {},
   "source": [
    "### just 22 days of data slice it"
   ]
  },
  {
   "cell_type": "code",
   "execution_count": 12,
   "metadata": {},
   "outputs": [],
   "source": [
    "starti = 0\n",
    "endi = 2000"
   ]
  },
  {
   "cell_type": "code",
   "execution_count": 13,
   "metadata": {},
   "outputs": [],
   "source": [
    "Xtrain = Xtrain.iloc[starti:endi]\n",
    "ytrain = ytrain.iloc[starti:endi]\n",
    "sIndex = sIndex.iloc[starti:endi]"
   ]
  },
  {
   "cell_type": "markdown",
   "metadata": {},
   "source": [
    "## Linux Python Paralel Processing"
   ]
  },
  {
   "cell_type": "code",
   "execution_count": 17,
   "metadata": {},
   "outputs": [],
   "source": [
    "\"\"\"\"Executor of prediction\"\"\"\n",
    "import numpy as np\n",
    "import pandas as pd\n",
    "from sklearn import preprocessing\n",
    "from sklearn.ensemble import RandomForestClassifier, ExtraTreesClassifier\n",
    "from sklearn.model_selection import train_test_split\n",
    "import RF_Prediction as rf_predictor\n",
    "import RF_Forex as rf_forex\n",
    "import scipy\n",
    "import sys\n",
    "\n",
    "\n",
    "def Slide_Predictions_Up_Down(X, y, index, verbose=False):\n",
    "    \"\"\"\n",
    "    Backtesting:\n",
    "    Make predictions of up and downs with a sliding window.    \n",
    "    \"\"\"\n",
    "    size = len(X)\n",
    "    # number of possible predictions with data size : size\n",
    "    # because forecast are allways array of forecasts\n",
    "    # defined by the shift made\n",
    "    nshifts = size-(ntraining+nvalidation+nforecast)     \n",
    "    \n",
    "    if nshifts <= 0:\n",
    "        print('somethings is wrong, array of data too small')\n",
    "        print('minimum size is training+validation+forecast for 1 prediction')\n",
    "        return\n",
    "    \n",
    "    if verbose:\n",
    "        print('maximum number of predictions is: ', nshifts)    \n",
    "    \n",
    "    # sliding window with step of one sample shift   \n",
    "    prediction_book = pd.DataFrame(index=np.arange(nshifts), columns=['tindex', 'buy', 'score', 'prob'])\n",
    "    \n",
    "    for i in rf_predictor.progressbar(range(nshifts)):  \n",
    "        \n",
    "        index_ = index[i:i+nwindow].copy()        \n",
    "        # training samples are the first ones\n",
    "        X_t = X[i:i+ntraining]\n",
    "        y_t = y[i:i+ntraining]        \n",
    "\n",
    "        # control samples for scoring (validation of the model)\n",
    "        # SCORE using the nforecast samples just after the window       \n",
    "        X_s = X[i+ntraining:i+ntraining+nvalidation]\n",
    "        y_s = y[i+ntraining:i+ntraining+nvalidation]\n",
    "\n",
    "        # predict on the last nforecast samples\n",
    "        X_p = X[i+ntraining+nvalidation:i+ntraining+nvalidation+nforecast]\n",
    "\n",
    "        # using all core -1 : 8 cores\n",
    "        clfmodel = ExtraTreesClassifier(n_estimators=estimators, min_samples_split=2,\n",
    "                                        n_jobs=1, bootstrap=True, max_depth=None) \n",
    "        clfmodel.fit(X_t, y_t)    \n",
    "\n",
    "        # test accurary of the model if higher than 90% we can predict\n",
    "        score = clfmodel.score(X_s, y_s)            \n",
    "        \n",
    "        if score < 0.9: # we cannot predict unless the model is 90% accurate\n",
    "            del clfmodel\n",
    "            continue    \n",
    "\n",
    "        proba = clfmodel.predict_proba(X_p)        \n",
    "        prediction = clfmodel.predict(X_p)  \n",
    "        down = abs(prediction.sum()-len(prediction))/len(prediction)\n",
    "        up = abs(1-down)\n",
    "\n",
    "        if up > 0.9 or down > 0.9: # only if certain by 90% that will go up or down\n",
    "            # where will it be bought in time\n",
    "            # allways +5 minutes after prediction\n",
    "            tindex = index_.iloc[-nforecast+5]\n",
    "            buy = up > down\n",
    "            if buy: # buy\n",
    "                buy = 1\n",
    "            else: # sell\n",
    "                buy = -1\n",
    "            prediction_book.iloc[i] = [tindex, buy, score, np.max(np.prod(proba, axis=0)**(1./60.))]\n",
    "            print(prediction_book.iloc[i])\n",
    "            \n",
    "        del clfmodel\n",
    "        \n",
    "    return prediction_book\n",
    "\n",
    "# splitting data to guarantee overlapping multiprocessing\n",
    "# split data in a batch with limits [start:end]\n",
    "def paralel_Slide_Predictions_Up_Down(Xtrain, ytrain, sIndex, start, end, targetquote):    \n",
    "    X = Xtrain[start:end]\n",
    "    y = ytrain[start:end]\n",
    "    index = sIndex[start:end]        \n",
    "    prediction_book = Slide_Predictions_Up_Down(X.copy(), y.copy(), index.copy())    \n",
    "    # save recommended orders from starti to endi\n",
    "    prediction_book.dropna(inplace=True) # due preallocated size there are nan samples\n",
    "    return prediction_book\n",
    "    \n",
    "def paralel_batch_slices(nprocesses, datasize, nwindow):\n",
    "    \"\"\"\n",
    "    create batch slice indexes for paralel processing\n",
    "    should write test function for this\n",
    "    altough it is perfectly working\n",
    "    \"\"\"\n",
    "    batch_size = int(np.floor((datasize-nwindow)/nprocesses))\n",
    "    nmiss = (datasize-nwindow-batch_size*nprocesses) # samples to complete the non integer division\n",
    "    # last batch will have more sample to complete the non integer division\n",
    "    slices = np.array([i*batch_size for i in range(nprocesses)])\n",
    "    # each batch must have the previous sample size of training + forecast window\n",
    "    istarts = slices\n",
    "    iends = slices[1:] + nwindow\n",
    "    iends = np.append(iends, datasize)\n",
    "    # first and last batch have different size of samples\n",
    "    print('batch starts ', istarts)\n",
    "    print('batch ends ', iends)\n",
    "    print('batch sizes ', iends-istarts) \n",
    "    batches = zip(istarts, iends)\n",
    "    return batches"
   ]
  },
  {
   "cell_type": "code",
   "execution_count": 18,
   "metadata": {},
   "outputs": [
    {
     "name": "stdout",
     "output_type": "stream",
     "text": [
      "batch starts  [   0  175  350  525  700  875 1050 1225]\n",
      "batch ends  [ 775  950 1125 1300 1475 1650 1825 2000]\n",
      "batch sizes  [775 775 775 775 775 775 775 775]\n",
      "tindex    2016-01-06 17:50:00....................................................] 1/175\n",
      "buy                        -1\n",
      "score                       1\n",
      "prob                 0.952851\n",
      "Name: 0, dtype: object\n",
      "tindex    2016-01-06 17:51:00....................................................] 2/175\n",
      "buy                        -1\n",
      "score                       1\n",
      "prob                 0.953385\n",
      "Name: 1, dtype: object\n",
      "tindex    2016-01-06 17:52:00....................................................] 3/175\n",
      "buy                        -1\n",
      "score                       1\n",
      "prob                 0.962469\n",
      "Name: 2, dtype: object\n",
      "tindex    2016-01-06 17:53:00....................................................] 4/175\n",
      "buy                        -1\n",
      "score                       1\n",
      "prob                 0.963636\n",
      "Name: 3, dtype: object\n",
      "tindex    2016-01-06 17:54:00....................................................] 5/175\n",
      "buy                        -1\n",
      "score                       1\n",
      "prob                 0.964473\n",
      "Name: 4, dtype: object\n",
      "tindex    2016-01-07 10:08:00....................................................] 6/175\n",
      "buy                        -1\n",
      "score                       1\n",
      "prob                 0.969528\n",
      "Name: 5, dtype: object\n",
      "tindex    2016-01-07 10:09:00....................................................] 8/175\n",
      "buy                        -1\n",
      "score                       1\n",
      "prob                 0.975426\n",
      "Name: 6, dtype: object\n",
      "tindex    2016-01-07 10:10:00....................................................] 9/175\n",
      "buy                        -1\n",
      "score                       1\n",
      "prob                 0.977692\n",
      "Name: 7, dtype: object\n",
      "tindex    2016-01-07 10:11:00....................................................] 10/175\n",
      "buy                        -1\n",
      "score                       1\n",
      "prob                 0.979093\n",
      "Name: 8, dtype: object\n",
      "tindex    2016-01-07 10:12:00....................................................] 11/175\n",
      "buy                        -1\n",
      "score                       1\n",
      "prob                 0.979599\n",
      "Name: 9, dtype: object\n",
      "tindex    2016-01-07 10:13:00....................................................] 12/175\n",
      "buy                        -1\n",
      "score                       1\n",
      "prob                 0.980816\n",
      "Name: 10, dtype: object\n",
      "tindex    2016-01-07 10:14:00....................................................] 13/175\n",
      "buy                        -1\n",
      "score                       1\n",
      "prob                 0.983131\n",
      "Name: 11, dtype: object\n",
      "tindex    2016-01-08 14:18:00....................................................] 13/175\n",
      "buy                        -1\n",
      "score                       1\n",
      "prob                 0.588689\n",
      "Name: 12, dtype: object\n",
      "tindex    2016-01-07 10:15:00....................................................] 15/175\n",
      "buy                        -1\n",
      "score                       1\n",
      "prob                 0.984132\n",
      "Name: 12, dtype: object\n",
      "tindex    2016-01-08 14:19:00....................................................] 14/175\n",
      "buy                        -1\n",
      "score                       1\n",
      "prob                 0.605978\n",
      "Name: 13, dtype: object\n",
      "tindex    2016-01-07 10:17:00....................................................] 15/175\n",
      "buy                        -1\n",
      "score                       1\n",
      "prob                 0.979773\n",
      "Name: 13, dtype: object\n",
      "tindex    2016-01-08 14:20:00....................................................] 15/175\n",
      "buy                        -1\n",
      "score                       1\n",
      "prob                 0.647759\n",
      "Name: 14, dtype: object\n",
      "tindex    2016-01-07 10:18:00....................................................] 16/175\n",
      "buy                        -1\n",
      "score                       1\n",
      "prob                 0.975001\n",
      "Name: 14, dtype: object\n",
      "tindex    2016-01-08 14:21:00....................................................] 16/175\n",
      "buy                        -1\n",
      "score                       1\n",
      "prob                 0.646479\n",
      "Name: 15, dtype: object\n",
      "tindex    2016-01-07 10:19:00....................................................] 17/175\n",
      "buy                        -1\n",
      "score                       1\n",
      "prob                 0.984218\n",
      "Name: 15, dtype: object\n",
      "tindex    2016-01-08 14:22:00....................................................] 16/175\n",
      "buy                        -1\n",
      "score                       1\n",
      "prob                 0.664071\n",
      "Name: 16, dtype: object\n",
      "tindex    2016-01-07 10:20:00....................................................] 19/175\n",
      "buy                        -1\n",
      "score                       1\n",
      "prob                  0.98407\n",
      "Name: 16, dtype: object\n",
      "tindex    2016-01-08 14:23:00....................................................] 17/175\n",
      "buy                        -1\n",
      "score                       1\n",
      "prob                 0.679542\n",
      "Name: 17, dtype: object\n",
      "tindex    2016-01-07 10:21:00....................................................] 19/175\n",
      "buy                        -1\n",
      "score                       1\n",
      "prob                 0.977666\n",
      "Name: 17, dtype: object\n",
      "tindex    2016-01-06 15:12:00....................................................] 20/175\n",
      "buy                        -1\n",
      "score                       1\n",
      "prob                 0.569133\n",
      "Name: 17, dtype: object\n",
      "tindex    2016-01-08 14:24:00....................................................] 18/175\n",
      "buy                        -1\n",
      "score                       1\n",
      "prob                 0.667762\n",
      "Name: 18, dtype: object\n",
      "tindex    2016-01-07 10:22:00....................................................] 21/175\n",
      "buy                        -1\n",
      "score                       1\n",
      "prob                 0.975737\n",
      "Name: 18, dtype: object\n",
      "tindex    2016-01-06 15:13:00....................................................] 19/175\n",
      "buy                        -1\n",
      "score                       1\n",
      "prob                 0.577005\n",
      "Name: 18, dtype: object\n",
      "tindex    2016-01-08 14:25:00....................................................] 19/175\n",
      "buy                        -1\n",
      "score                       1\n",
      "prob                 0.689887\n",
      "Name: 19, dtype: object\n",
      "tindex    2016-01-07 10:23:00....................................................] 21/175\n",
      "buy                        -1\n",
      "score                       1\n",
      "prob                 0.969874\n",
      "Name: 19, dtype: object\n",
      "tindex    2016-01-06 15:14:00....................................................] 20/175\n",
      "buy                        -1\n",
      "score                       1\n",
      "prob                 0.598558\n",
      "Name: 19, dtype: object[##########......................................................................] 23/175\n",
      "tindex    2016-01-08 14:26:00\n",
      "buy                        -1\n",
      "score                       1\n",
      "prob                 0.659529\n",
      "Name: 20, dtype: object\n",
      "tindex    2016-01-07 10:24:00....................................................] 23/175\n",
      "buy                        -1\n",
      "score                       1\n",
      "prob                 0.975268\n",
      "Name: 20, dtype: object\n",
      "tindex    2016-01-06 15:15:00....................................................] 24/175\n",
      "buy                        -1\n",
      "score                       1\n",
      "prob                 0.615035\n",
      "Name: 20, dtype: objecttindex    2016-01-08 14:27:00\n",
      "buy                        -1\n",
      "score                       1\n",
      "prob                 0.689033\n",
      "Name: 21, dtype: object\n",
      "[#########.......................................................................] 21/175\n",
      "tindex    2016-01-07 10:25:00....................................................] 24/175\n",
      "buy                        -1\n",
      "score                       1\n",
      "prob                 0.966289\n",
      "Name: 21, dtype: object\n",
      "tindex    2016-01-08 14:28:00....................................................] 26/175\n",
      "buy                        -1\n",
      "score                       1\n",
      "prob                 0.683022\n",
      "Name: 22, dtype: object\n",
      "tindex    2016-01-06 15:16:00....................................................] 23/175\n",
      "buy                        -1\n",
      "score                       1\n",
      "prob                 0.616202\n",
      "Name: 21, dtype: object\n",
      "tindex    2016-01-07 10:26:00....................................................] 24/175\n",
      "buy                        -1\n",
      "score                       1\n",
      "prob                 0.969683\n",
      "Name: 22, dtype: object\n"
     ]
    },
    {
     "name": "stdout",
     "output_type": "stream",
     "text": [
      "tindex    2016-01-08 14:29:00....................................................] 27/175\n",
      "buy                        -1\n",
      "score                       1\n",
      "prob                 0.690322\n",
      "Name: 23, dtype: object\n",
      "tindex    2016-01-06 15:17:00....................................................] 24/175\n",
      "buy                        -1\n",
      "score                       1\n",
      "prob                 0.623989\n",
      "Name: 22, dtype: object\n",
      "tindex    2016-01-07 10:27:00....................................................] 25/175\n",
      "buy                        -1\n",
      "score                       1\n",
      "prob                 0.955531\n",
      "Name: 23, dtype: object\n",
      "tindex    2016-01-08 14:30:00....................................................] 27/175\n",
      "buy                        -1\n",
      "score                       1\n",
      "prob                 0.700912\n",
      "Name: 24, dtype: object[###########.....................................................................] 26/175\n",
      "tindex    2016-01-06 15:18:00....................................................] 25/175\n",
      "buy                        -1\n",
      "score                       1\n",
      "prob                  0.62311\n",
      "Name: 23, dtype: object\n",
      "tindex    2016-01-07 10:28:00....................................................] 26/175\n",
      "buy                        -1\n",
      "score                       1\n",
      "prob                 0.952429\n",
      "Name: 24, dtype: object\n",
      "tindex    2016-01-08 14:31:00....................................................] 27/175\n",
      "buy                        -1\n",
      "score                       1\n",
      "prob                 0.688826\n",
      "Name: 25, dtype: object\n",
      "tindex    2016-01-06 15:19:00....................................................] 26/175\n",
      "buy                        -1\n",
      "score                       1\n",
      "prob                 0.611575\n",
      "Name: 24, dtype: object\n",
      "tindex    2016-01-07 10:29:00....................................................] 27/175\n",
      "buy                        -1\n",
      "score                       1\n",
      "prob                 0.948346\n",
      "Name: 25, dtype: object\n",
      "tindex    2016-01-08 14:32:00....................................................] 28/175\n",
      "buy                        -1\n",
      "score                       1\n",
      "prob                 0.710974\n",
      "Name: 26, dtype: object\n",
      "tindex    2016-01-06 15:20:00....................................................] 31/175\n",
      "buy                        -1\n",
      "score                       1\n",
      "prob                 0.608052\n",
      "Name: 25, dtype: object\n",
      "tindex    2016-01-07 10:30:00....................................................] 26/175\n",
      "buy                        -1\n",
      "score                       1\n",
      "prob                  0.95525\n",
      "Name: 26, dtype: object\n",
      "tindex    2016-01-08 14:33:00....................................................] 29/175\n",
      "buy                        -1\n",
      "score                       1\n",
      "prob                 0.710194\n",
      "Name: 27, dtype: object\n",
      "tindex    2016-01-07 10:31:00....................................................] 29/175\n",
      "buy                        -1\n",
      "score                       1\n",
      "prob                 0.949349\n",
      "Name: 27, dtype: object\n",
      "tindex    2016-01-06 15:21:00\n",
      "buy                        -1\n",
      "score                       1\n",
      "prob                 0.612854\n",
      "Name: 26, dtype: object[############....................................................................] 28/175\n",
      "tindex    2016-01-08 14:34:00....................................................] 33/175\n",
      "buy                        -1\n",
      "score                       1\n",
      "prob                 0.699551\n",
      "Name: 28, dtype: object\n",
      "tindex    2016-01-07 10:32:00....................................................] 30/175\n",
      "buy                        -1\n",
      "score                       1\n",
      "prob                 0.946465\n",
      "Name: 28, dtype: object\n",
      "tindex    2016-01-06 15:22:00....................................................] 29/175\n",
      "buy                        -1\n",
      "score                       1\n",
      "prob                 0.621088\n",
      "Name: 27, dtype: object\n",
      "tindex    2016-01-08 14:35:00....................................................] 31/175\n",
      "buy                        -1\n",
      "score                       1\n",
      "prob                 0.714064\n",
      "Name: 29, dtype: object\n",
      "tindex    2016-01-07 10:33:00....................................................] 30/175\n",
      "buy                        -1\n",
      "score                       1\n",
      "prob                 0.947438\n",
      "Name: 29, dtype: object\n",
      "tindex    2016-01-06 15:23:00....................................................] 33/175\n",
      "buy                        -1\n",
      "score                       1\n",
      "prob                 0.644139\n",
      "Name: 28, dtype: object\n",
      "tindex    2016-01-07 10:34:00....................................................] 32/175\n",
      "buy                        -1\n",
      "score                       1\n",
      "prob                 0.940124\n",
      "Name: 30, dtype: object\n",
      "tindex    2016-01-08 14:36:00\n",
      "buy                        -1\n",
      "score                       1\n",
      "prob                 0.716823\n",
      "Name: 30, dtype: object\n",
      "tindex    2016-01-06 15:24:00....................................................] 34/175\n",
      "buy                        -1\n",
      "score                       1\n",
      "prob                 0.653179\n",
      "Name: 29, dtype: object\n",
      "tindex    2016-01-07 10:35:00....................................................] 33/175\n",
      "buy                        -1\n",
      "score                       1\n",
      "prob                 0.944983\n",
      "Name: 31, dtype: object\n",
      "tindex    2016-01-08 14:37:00....................................................] 35/175\n",
      "buy                        -1\n",
      "score                       1\n",
      "prob                 0.706485\n",
      "Name: 31, dtype: object\n",
      "tindex    2016-01-06 15:25:00....................................................] 32/175\n",
      "buy                        -1\n",
      "score                       1\n",
      "prob                 0.619999\n",
      "Name: 30, dtype: object\n",
      "tindex    2016-01-07 10:36:00....................................................] 36/175\n",
      "buy                        -1\n",
      "score                       1\n",
      "prob                 0.943012\n",
      "Name: 32, dtype: object\n",
      "tindex    2016-01-08 14:38:00....................................................] 36/175\n",
      "buy                        -1\n",
      "score                       1\n",
      "prob                 0.716045\n",
      "Name: 32, dtype: object\n",
      "tindex    2016-01-06 15:26:00....................................................] 33/175\n",
      "buy                        -1\n",
      "score                       1\n",
      "prob                 0.637526\n",
      "Name: 31, dtype: object\n",
      "tindex    2016-01-07 10:37:00....................................................] 37/175\n",
      "buy                        -1\n",
      "score                       1\n",
      "prob                 0.937479\n",
      "Name: 33, dtype: object\n",
      "tindex    2016-01-08 14:39:00....................................................] 34/175\n",
      "buy                        -1\n",
      "score                       1\n",
      "prob                  0.71143\n",
      "Name: 33, dtype: object\n",
      "tindex    2016-01-06 15:27:00....................................................] 34/175\n",
      "buy                        -1\n",
      "score                       1\n",
      "prob                 0.632798\n",
      "Name: 32, dtype: object\n",
      "tindex    2016-01-07 10:39:00....................................................] 38/175\n",
      "buy                        -1\n",
      "score                       1\n",
      "prob                 0.931189\n",
      "Name: 34, dtype: object\n",
      "tindex    2016-01-08 14:40:00....................................................] 35/175\n",
      "buy                        -1\n",
      "score                       1\n",
      "prob                 0.729558\n",
      "Name: 34, dtype: object\n",
      "tindex    2016-01-06 15:28:00....................................................] 40/175\n",
      "buy                        -1\n",
      "score                       1\n",
      "prob                 0.650563\n",
      "Name: 33, dtype: object\n",
      "tindex    2016-01-07 10:40:00....................................................] 39/175\n",
      "buy                        -1\n",
      "score                       1\n",
      "prob                 0.932444\n",
      "Name: 35, dtype: object\n",
      "tindex    2016-01-08 14:41:00....................................................] 41/175\n",
      "buy                        -1\n",
      "score                       1\n",
      "prob                 0.713454\n",
      "Name: 35, dtype: object\n",
      "tindex    2016-01-06 15:29:00....................................................] 36/175\n",
      "buy                        -1\n",
      "score                       1\n",
      "prob                 0.647453\n",
      "Name: 34, dtype: object\n",
      "tindex    2016-01-07 10:41:00....................................................] 40/175\n",
      "buy                        -1\n",
      "score                       1\n",
      "prob                 0.934759\n"
     ]
    },
    {
     "name": "stdout",
     "output_type": "stream",
     "text": [
      "Name: 36, dtype: object\n",
      "tindex    2016-01-08 14:42:00....................................................] 42/175\n",
      "buy                        -1\n",
      "score                       1\n",
      "prob                 0.712081\n",
      "Name: 36, dtype: object\n",
      "tindex    2016-01-06 15:30:00....................................................] 39/175\n",
      "buy                        -1\n",
      "score                       1\n",
      "prob                 0.641025\n",
      "Name: 35, dtype: object\n",
      "tindex    2016-01-07 10:42:00....................................................] 43/175\n",
      "buy                        -1\n",
      "score                       1\n",
      "prob                 0.920929\n",
      "Name: 37, dtype: object\n",
      "tindex    2016-01-08 14:43:00....................................................] 38/175\n",
      "buy                        -1\n",
      "score                       1\n",
      "prob                 0.719022\n",
      "Name: 37, dtype: object\n",
      "tindex    2016-01-06 15:31:00....................................................] 40/175\n",
      "buy                        -1\n",
      "score                       1\n",
      "prob                  0.61683\n",
      "Name: 36, dtype: object\n",
      "tindex    2016-01-07 10:43:00....................................................] 44/175\n",
      "buy                        -1\n",
      "score                       1\n",
      "prob                 0.928069\n",
      "Name: 38, dtype: object\n",
      "tindex    2016-01-08 14:44:00....................................................] 41/175\n",
      "buy                        -1\n",
      "score                       1\n",
      "prob                 0.721476\n",
      "Name: 38, dtype: object\n",
      "tindex    2016-01-06 15:32:00....................................................] 43/175\n",
      "buy                        -1\n",
      "score                       1\n",
      "prob                  0.63561\n",
      "Name: 37, dtype: object\n",
      "tindex    2016-01-07 10:44:00....................................................] 45/175\n",
      "buy                        -1\n",
      "score                       1\n",
      "prob                 0.927925\n",
      "Name: 39, dtype: object\n",
      "tindex    2016-01-08 14:45:00....................................................] 42/175\n",
      "buy                        -1\n",
      "score                       1\n",
      "prob                 0.725719\n",
      "Name: 39, dtype: object\n",
      "tindex    2016-01-06 15:33:00....................................................] 46/175\n",
      "buy                        -1\n",
      "score                       1\n",
      "prob                 0.673253\n",
      "Name: 38, dtype: object\n",
      "tindex    2016-01-07 10:45:00....................................................] 44/175\n",
      "buy                        -1\n",
      "score                       1\n",
      "prob                 0.919521\n",
      "Name: 40, dtype: object\n",
      "tindex    2016-01-08 14:46:00....................................................] 47/175\n",
      "buy                        -1\n",
      "score                       1\n",
      "prob                 0.716146\n",
      "Name: 40, dtype: object\n",
      "tindex    2016-01-06 15:34:00....................................................] 41/175\n",
      "buy                        -1\n",
      "score                       1\n",
      "prob                 0.643838\n",
      "Name: 39, dtype: object\n",
      "tindex    2016-01-07 10:46:00....................................................] 45/175\n",
      "buy                        -1\n",
      "score                       1\n",
      "prob                 0.922213\n",
      "Name: 41, dtype: object\n",
      "tindex    2016-01-08 14:47:00....................................................] 44/175\n",
      "buy                        -1\n",
      "score                       1\n",
      "prob                 0.694959\n",
      "Name: 41, dtype: object\n",
      "[###################.............................................................] 42/175\r"
     ]
    },
    {
     "ename": "KeyboardInterrupt",
     "evalue": "",
     "output_type": "error",
     "traceback": [
      "\u001b[0;31m---------------------------------------------------------------------------\u001b[0m",
      "\u001b[0;31mKeyboardInterrupt\u001b[0m                         Traceback (most recent call last)",
      "\u001b[0;32m<timed exec>\u001b[0m in \u001b[0;36m<module>\u001b[0;34m()\u001b[0m\n",
      "\u001b[0;32m~/anaconda3/envs/tensorflow/lib/python3.6/site-packages/joblib/parallel.py\u001b[0m in \u001b[0;36m__call__\u001b[0;34m(self, iterable)\u001b[0m\n\u001b[1;32m    787\u001b[0m                 \u001b[0;31m# consumption.\u001b[0m\u001b[0;34m\u001b[0m\u001b[0;34m\u001b[0m\u001b[0m\n\u001b[1;32m    788\u001b[0m                 \u001b[0mself\u001b[0m\u001b[0;34m.\u001b[0m\u001b[0m_iterating\u001b[0m \u001b[0;34m=\u001b[0m \u001b[0;32mFalse\u001b[0m\u001b[0;34m\u001b[0m\u001b[0m\n\u001b[0;32m--> 789\u001b[0;31m             \u001b[0mself\u001b[0m\u001b[0;34m.\u001b[0m\u001b[0mretrieve\u001b[0m\u001b[0;34m(\u001b[0m\u001b[0;34m)\u001b[0m\u001b[0;34m\u001b[0m\u001b[0m\n\u001b[0m\u001b[1;32m    790\u001b[0m             \u001b[0;31m# Make sure that we get a last message telling us we are done\u001b[0m\u001b[0;34m\u001b[0m\u001b[0;34m\u001b[0m\u001b[0m\n\u001b[1;32m    791\u001b[0m             \u001b[0melapsed_time\u001b[0m \u001b[0;34m=\u001b[0m \u001b[0mtime\u001b[0m\u001b[0;34m.\u001b[0m\u001b[0mtime\u001b[0m\u001b[0;34m(\u001b[0m\u001b[0;34m)\u001b[0m \u001b[0;34m-\u001b[0m \u001b[0mself\u001b[0m\u001b[0;34m.\u001b[0m\u001b[0m_start_time\u001b[0m\u001b[0;34m\u001b[0m\u001b[0m\n",
      "\u001b[0;32m~/anaconda3/envs/tensorflow/lib/python3.6/site-packages/joblib/parallel.py\u001b[0m in \u001b[0;36mretrieve\u001b[0;34m(self)\u001b[0m\n\u001b[1;32m    697\u001b[0m             \u001b[0;32mtry\u001b[0m\u001b[0;34m:\u001b[0m\u001b[0;34m\u001b[0m\u001b[0m\n\u001b[1;32m    698\u001b[0m                 \u001b[0;32mif\u001b[0m \u001b[0mgetattr\u001b[0m\u001b[0;34m(\u001b[0m\u001b[0mself\u001b[0m\u001b[0;34m.\u001b[0m\u001b[0m_backend\u001b[0m\u001b[0;34m,\u001b[0m \u001b[0;34m'supports_timeout'\u001b[0m\u001b[0;34m,\u001b[0m \u001b[0;32mFalse\u001b[0m\u001b[0;34m)\u001b[0m\u001b[0;34m:\u001b[0m\u001b[0;34m\u001b[0m\u001b[0m\n\u001b[0;32m--> 699\u001b[0;31m                     \u001b[0mself\u001b[0m\u001b[0;34m.\u001b[0m\u001b[0m_output\u001b[0m\u001b[0;34m.\u001b[0m\u001b[0mextend\u001b[0m\u001b[0;34m(\u001b[0m\u001b[0mjob\u001b[0m\u001b[0;34m.\u001b[0m\u001b[0mget\u001b[0m\u001b[0;34m(\u001b[0m\u001b[0mtimeout\u001b[0m\u001b[0;34m=\u001b[0m\u001b[0mself\u001b[0m\u001b[0;34m.\u001b[0m\u001b[0mtimeout\u001b[0m\u001b[0;34m)\u001b[0m\u001b[0;34m)\u001b[0m\u001b[0;34m\u001b[0m\u001b[0m\n\u001b[0m\u001b[1;32m    700\u001b[0m                 \u001b[0;32melse\u001b[0m\u001b[0;34m:\u001b[0m\u001b[0;34m\u001b[0m\u001b[0m\n\u001b[1;32m    701\u001b[0m                     \u001b[0mself\u001b[0m\u001b[0;34m.\u001b[0m\u001b[0m_output\u001b[0m\u001b[0;34m.\u001b[0m\u001b[0mextend\u001b[0m\u001b[0;34m(\u001b[0m\u001b[0mjob\u001b[0m\u001b[0;34m.\u001b[0m\u001b[0mget\u001b[0m\u001b[0;34m(\u001b[0m\u001b[0;34m)\u001b[0m\u001b[0;34m)\u001b[0m\u001b[0;34m\u001b[0m\u001b[0m\n",
      "\u001b[0;32m~/anaconda3/envs/tensorflow/lib/python3.6/multiprocessing/pool.py\u001b[0m in \u001b[0;36mget\u001b[0;34m(self, timeout)\u001b[0m\n\u001b[1;32m    636\u001b[0m \u001b[0;34m\u001b[0m\u001b[0m\n\u001b[1;32m    637\u001b[0m     \u001b[0;32mdef\u001b[0m \u001b[0mget\u001b[0m\u001b[0;34m(\u001b[0m\u001b[0mself\u001b[0m\u001b[0;34m,\u001b[0m \u001b[0mtimeout\u001b[0m\u001b[0;34m=\u001b[0m\u001b[0;32mNone\u001b[0m\u001b[0;34m)\u001b[0m\u001b[0;34m:\u001b[0m\u001b[0;34m\u001b[0m\u001b[0m\n\u001b[0;32m--> 638\u001b[0;31m         \u001b[0mself\u001b[0m\u001b[0;34m.\u001b[0m\u001b[0mwait\u001b[0m\u001b[0;34m(\u001b[0m\u001b[0mtimeout\u001b[0m\u001b[0;34m)\u001b[0m\u001b[0;34m\u001b[0m\u001b[0m\n\u001b[0m\u001b[1;32m    639\u001b[0m         \u001b[0;32mif\u001b[0m \u001b[0;32mnot\u001b[0m \u001b[0mself\u001b[0m\u001b[0;34m.\u001b[0m\u001b[0mready\u001b[0m\u001b[0;34m(\u001b[0m\u001b[0;34m)\u001b[0m\u001b[0;34m:\u001b[0m\u001b[0;34m\u001b[0m\u001b[0m\n\u001b[1;32m    640\u001b[0m             \u001b[0;32mraise\u001b[0m \u001b[0mTimeoutError\u001b[0m\u001b[0;34m\u001b[0m\u001b[0m\n",
      "\u001b[0;32m~/anaconda3/envs/tensorflow/lib/python3.6/multiprocessing/pool.py\u001b[0m in \u001b[0;36mwait\u001b[0;34m(self, timeout)\u001b[0m\n\u001b[1;32m    633\u001b[0m \u001b[0;34m\u001b[0m\u001b[0m\n\u001b[1;32m    634\u001b[0m     \u001b[0;32mdef\u001b[0m \u001b[0mwait\u001b[0m\u001b[0;34m(\u001b[0m\u001b[0mself\u001b[0m\u001b[0;34m,\u001b[0m \u001b[0mtimeout\u001b[0m\u001b[0;34m=\u001b[0m\u001b[0;32mNone\u001b[0m\u001b[0;34m)\u001b[0m\u001b[0;34m:\u001b[0m\u001b[0;34m\u001b[0m\u001b[0m\n\u001b[0;32m--> 635\u001b[0;31m         \u001b[0mself\u001b[0m\u001b[0;34m.\u001b[0m\u001b[0m_event\u001b[0m\u001b[0;34m.\u001b[0m\u001b[0mwait\u001b[0m\u001b[0;34m(\u001b[0m\u001b[0mtimeout\u001b[0m\u001b[0;34m)\u001b[0m\u001b[0;34m\u001b[0m\u001b[0m\n\u001b[0m\u001b[1;32m    636\u001b[0m \u001b[0;34m\u001b[0m\u001b[0m\n\u001b[1;32m    637\u001b[0m     \u001b[0;32mdef\u001b[0m \u001b[0mget\u001b[0m\u001b[0;34m(\u001b[0m\u001b[0mself\u001b[0m\u001b[0;34m,\u001b[0m \u001b[0mtimeout\u001b[0m\u001b[0;34m=\u001b[0m\u001b[0;32mNone\u001b[0m\u001b[0;34m)\u001b[0m\u001b[0;34m:\u001b[0m\u001b[0;34m\u001b[0m\u001b[0m\n",
      "\u001b[0;32m~/anaconda3/envs/tensorflow/lib/python3.6/threading.py\u001b[0m in \u001b[0;36mwait\u001b[0;34m(self, timeout)\u001b[0m\n\u001b[1;32m    549\u001b[0m             \u001b[0msignaled\u001b[0m \u001b[0;34m=\u001b[0m \u001b[0mself\u001b[0m\u001b[0;34m.\u001b[0m\u001b[0m_flag\u001b[0m\u001b[0;34m\u001b[0m\u001b[0m\n\u001b[1;32m    550\u001b[0m             \u001b[0;32mif\u001b[0m \u001b[0;32mnot\u001b[0m \u001b[0msignaled\u001b[0m\u001b[0;34m:\u001b[0m\u001b[0;34m\u001b[0m\u001b[0m\n\u001b[0;32m--> 551\u001b[0;31m                 \u001b[0msignaled\u001b[0m \u001b[0;34m=\u001b[0m \u001b[0mself\u001b[0m\u001b[0;34m.\u001b[0m\u001b[0m_cond\u001b[0m\u001b[0;34m.\u001b[0m\u001b[0mwait\u001b[0m\u001b[0;34m(\u001b[0m\u001b[0mtimeout\u001b[0m\u001b[0;34m)\u001b[0m\u001b[0;34m\u001b[0m\u001b[0m\n\u001b[0m\u001b[1;32m    552\u001b[0m             \u001b[0;32mreturn\u001b[0m \u001b[0msignaled\u001b[0m\u001b[0;34m\u001b[0m\u001b[0m\n\u001b[1;32m    553\u001b[0m \u001b[0;34m\u001b[0m\u001b[0m\n",
      "\u001b[0;32m~/anaconda3/envs/tensorflow/lib/python3.6/threading.py\u001b[0m in \u001b[0;36mwait\u001b[0;34m(self, timeout)\u001b[0m\n\u001b[1;32m    293\u001b[0m         \u001b[0;32mtry\u001b[0m\u001b[0;34m:\u001b[0m    \u001b[0;31m# restore state no matter what (e.g., KeyboardInterrupt)\u001b[0m\u001b[0;34m\u001b[0m\u001b[0m\n\u001b[1;32m    294\u001b[0m             \u001b[0;32mif\u001b[0m \u001b[0mtimeout\u001b[0m \u001b[0;32mis\u001b[0m \u001b[0;32mNone\u001b[0m\u001b[0;34m:\u001b[0m\u001b[0;34m\u001b[0m\u001b[0m\n\u001b[0;32m--> 295\u001b[0;31m                 \u001b[0mwaiter\u001b[0m\u001b[0;34m.\u001b[0m\u001b[0macquire\u001b[0m\u001b[0;34m(\u001b[0m\u001b[0;34m)\u001b[0m\u001b[0;34m\u001b[0m\u001b[0m\n\u001b[0m\u001b[1;32m    296\u001b[0m                 \u001b[0mgotit\u001b[0m \u001b[0;34m=\u001b[0m \u001b[0;32mTrue\u001b[0m\u001b[0;34m\u001b[0m\u001b[0m\n\u001b[1;32m    297\u001b[0m             \u001b[0;32melse\u001b[0m\u001b[0;34m:\u001b[0m\u001b[0;34m\u001b[0m\u001b[0m\n",
      "\u001b[0;31mKeyboardInterrupt\u001b[0m: "
     ]
    }
   ],
   "source": [
    "%%time\n",
    "\n",
    "from joblib import Parallel, delayed\n",
    "import multiprocessing\n",
    "\n",
    "nprocesses = 8\n",
    "num_cores = nprocesses\n",
    "batches = paralel_batch_slices(nprocesses, len(Xtrain), nwindow)\n",
    "\n",
    "results = Parallel(n_jobs=num_cores)(\n",
    "    delayed(paralel_Slide_Predictions_Up_Down)(Xtrain, ytrain, sIndex, start, end, targetquote)\n",
    "    for start, end in batches)"
   ]
  },
  {
   "cell_type": "code",
   "execution_count": null,
   "metadata": {},
   "outputs": [],
   "source": []
  },
  {
   "cell_type": "code",
   "execution_count": 55,
   "metadata": {},
   "outputs": [],
   "source": [
    "pd = results[0]\n",
    "for result in results[1:]:\n",
    "    pd = pd.append(result)\n",
    "pd.reset_index(drop=True, inplace=True)"
   ]
  },
  {
   "cell_type": "markdown",
   "metadata": {},
   "source": [
    "### just quality control split worked for multiprocessing"
   ]
  },
  {
   "cell_type": "code",
   "execution_count": 58,
   "metadata": {},
   "outputs": [
    {
     "data": {
      "text/plain": [
       "[<matplotlib.lines.Line2D at 0x7f7e844b3198>]"
      ]
     },
     "execution_count": 58,
     "metadata": {},
     "output_type": "execute_result"
    },
    {
     "data": {
      "image/png": "[encoded data removed]",
      "text/plain": [
       "<Figure size 432x288 with 1 Axes>"
      ]
     },
     "metadata": {},
     "output_type": "display_data"
    },
    {
     "data": {
      "image/png": "[encoded data removed]",
      "text/plain": [
       "<Figure size 576x576 with 1 Axes>"
      ]
     },
     "metadata": {},
     "output_type": "display_data"
    }
   ],
   "source": [
    "ix = pd.loc[ pd.tindex.sort_values().index ].index.values\n",
    "plt.plot(np.diff(ix))\n",
    "plt.figure(figsize=(8,8))\n",
    "plt.plot(pd.loc[ pd.tindex.sort_values().index ].index, '.')"
   ]
  },
  {
   "cell_type": "code",
   "execution_count": 59,
   "metadata": {},
   "outputs": [
    {
     "name": "stdout",
     "output_type": "stream",
     "text": [
      "[Errno 2] No such file or directory: '/media/windows/Data/VBShared/ipython_notebooks/Stocks/data'\n",
      "/home/andre/PycharmProjects/geonumerics/ipython_notebooks/Stocks\n"
     ]
    }
   ],
   "source": [
    "cd /media/windows/Data/VBShared/ipython_notebooks/Stocks/data"
   ]
  },
  {
   "cell_type": "code",
   "execution_count": 60,
   "metadata": {},
   "outputs": [],
   "source": [
    "pd.to_pickle(targetquote+'_0_'+str(endi)+'_prob_prediction.pickle')"
   ]
  },
  {
   "cell_type": "code",
   "execution_count": 23,
   "metadata": {},
   "outputs": [],
   "source": [
    "pd.to_pickle(targetquote+'_0_'+str(endi)+'_prediction.pickle')"
   ]
  },
  {
   "cell_type": "code",
   "execution_count": null,
   "metadata": {},
   "outputs": [],
   "source": []
  },
  {
   "cell_type": "code",
   "execution_count": null,
   "metadata": {
    "collapsed": true
   },
   "outputs": [],
   "source": [
    "scores = cross_val_score(clf, X_testFold, y_testFold, verbose=True)\n",
    "scores.mean()"
   ]
  },
  {
   "cell_type": "code",
   "execution_count": 24,
   "metadata": {
    "collapsed": true
   },
   "outputs": [],
   "source": [
    "from sklearn.model_selection import cross_val_score"
   ]
  },
  {
   "cell_type": "code",
   "execution_count": 25,
   "metadata": {},
   "outputs": [
    {
     "name": "stderr",
     "output_type": "stream",
     "text": [
      "[Parallel(n_jobs=-1)]: Done  34 tasks      | elapsed:    0.0s\n",
      "[Parallel(n_jobs=-1)]: Done 184 tasks      | elapsed:    0.1s\n",
      "[Parallel(n_jobs=-1)]: Done 434 tasks      | elapsed:    0.2s\n",
      "[Parallel(n_jobs=-1)]: Done 784 tasks      | elapsed:    0.3s\n",
      "[Parallel(n_jobs=-1)]: Done 800 out of 800 | elapsed:    0.3s finished\n",
      "[Parallel(n_jobs=8)]: Done  34 tasks      | elapsed:    0.0s\n",
      "[Parallel(n_jobs=8)]: Done 184 tasks      | elapsed:    0.0s\n",
      "[Parallel(n_jobs=8)]: Done 434 tasks      | elapsed:    0.1s\n",
      "[Parallel(n_jobs=8)]: Done 784 tasks      | elapsed:    0.1s\n",
      "[Parallel(n_jobs=8)]: Done 800 out of 800 | elapsed:    0.1s finished\n",
      "[Parallel(n_jobs=-1)]: Done  34 tasks      | elapsed:    0.0s\n",
      "[Parallel(n_jobs=-1)]: Done 184 tasks      | elapsed:    0.1s\n",
      "[Parallel(n_jobs=-1)]: Done 434 tasks      | elapsed:    0.2s\n",
      "[Parallel(n_jobs=-1)]: Done 784 tasks      | elapsed:    0.4s\n",
      "[Parallel(n_jobs=-1)]: Done 800 out of 800 | elapsed:    0.4s finished\n",
      "[Parallel(n_jobs=8)]: Done  34 tasks      | elapsed:    0.0s\n",
      "[Parallel(n_jobs=8)]: Done 184 tasks      | elapsed:    0.0s\n",
      "[Parallel(n_jobs=8)]: Done 434 tasks      | elapsed:    0.0s\n",
      "[Parallel(n_jobs=8)]: Done 784 tasks      | elapsed:    0.1s\n",
      "[Parallel(n_jobs=8)]: Done 800 out of 800 | elapsed:    0.1s finished\n",
      "[Parallel(n_jobs=-1)]: Done  34 tasks      | elapsed:    0.0s\n",
      "[Parallel(n_jobs=-1)]: Done 184 tasks      | elapsed:    0.1s\n",
      "[Parallel(n_jobs=-1)]: Done 434 tasks      | elapsed:    0.2s\n",
      "[Parallel(n_jobs=-1)]: Done 784 tasks      | elapsed:    0.3s\n",
      "[Parallel(n_jobs=-1)]: Done 800 out of 800 | elapsed:    0.4s finished\n",
      "[Parallel(n_jobs=8)]: Done  34 tasks      | elapsed:    0.0s\n",
      "[Parallel(n_jobs=8)]: Done 184 tasks      | elapsed:    0.0s\n",
      "[Parallel(n_jobs=8)]: Done 434 tasks      | elapsed:    0.0s\n",
      "[Parallel(n_jobs=8)]: Done 784 tasks      | elapsed:    0.1s\n",
      "[Parallel(n_jobs=8)]: Done 800 out of 800 | elapsed:    0.1s finished\n"
     ]
    },
    {
     "data": {
      "text/plain": [
       "array([ 0.31055901,  0.88125   ,  0.81761006])"
      ]
     },
     "execution_count": 25,
     "metadata": {},
     "output_type": "execute_result"
    }
   ],
   "source": [
    "clfmodel = ExtraTreesClassifier(n_estimators=estimators, n_jobs=-1, bootstrap=True, verbose=True, max_depth=None, min_samples_split=2) \n",
    "scores = cross_val_score(clfmodel, X_trainFolds, y_trainFolds)\n",
    "scores "
   ]
  },
  {
   "cell_type": "code",
   "execution_count": 59,
   "metadata": {},
   "outputs": [
    {
     "name": "stderr",
     "output_type": "stream",
     "text": [
      "[Parallel(n_jobs=-1)]: Done  36 tasks      | elapsed:    0.0s\n",
      "[Parallel(n_jobs=-1)]: Done 186 tasks      | elapsed:    0.0s\n",
      "[Parallel(n_jobs=-1)]: Done 436 tasks      | elapsed:    0.1s\n",
      "[Parallel(n_jobs=-1)]: Done 786 tasks      | elapsed:    0.2s\n",
      "[Parallel(n_jobs=-1)]: Done 800 out of 800 | elapsed:    0.2s finished\n",
      "[Parallel(n_jobs=7)]: Done  36 tasks      | elapsed:    0.0s\n",
      "[Parallel(n_jobs=7)]: Done 186 tasks      | elapsed:    0.0s\n",
      "[Parallel(n_jobs=7)]: Done 436 tasks      | elapsed:    0.0s\n",
      "[Parallel(n_jobs=7)]: Done 786 tasks      | elapsed:    0.0s\n",
      "[Parallel(n_jobs=7)]: Done 800 out of 800 | elapsed:    0.0s finished\n",
      "[Parallel(n_jobs=-1)]: Done  36 tasks      | elapsed:    0.0s\n",
      "[Parallel(n_jobs=-1)]: Done 186 tasks      | elapsed:    0.0s\n",
      "[Parallel(n_jobs=-1)]: Done 436 tasks      | elapsed:    0.1s\n",
      "[Parallel(n_jobs=-1)]: Done 786 tasks      | elapsed:    0.3s\n",
      "[Parallel(n_jobs=-1)]: Done 800 out of 800 | elapsed:    0.3s finished\n",
      "[Parallel(n_jobs=7)]: Done  36 tasks      | elapsed:    0.0s\n",
      "[Parallel(n_jobs=7)]: Done 186 tasks      | elapsed:    0.0s\n",
      "[Parallel(n_jobs=7)]: Done 436 tasks      | elapsed:    0.0s\n",
      "[Parallel(n_jobs=7)]: Done 786 tasks      | elapsed:    0.0s\n",
      "[Parallel(n_jobs=7)]: Done 800 out of 800 | elapsed:    0.0s finished\n",
      "[Parallel(n_jobs=-1)]: Done  36 tasks      | elapsed:    0.0s\n",
      "[Parallel(n_jobs=-1)]: Done 186 tasks      | elapsed:    0.0s\n",
      "[Parallel(n_jobs=-1)]: Done 436 tasks      | elapsed:    0.1s\n",
      "[Parallel(n_jobs=-1)]: Done 786 tasks      | elapsed:    0.3s\n",
      "[Parallel(n_jobs=-1)]: Done 800 out of 800 | elapsed:    0.3s finished\n",
      "[Parallel(n_jobs=7)]: Done  36 tasks      | elapsed:    0.0s\n",
      "[Parallel(n_jobs=7)]: Done 186 tasks      | elapsed:    0.0s\n",
      "[Parallel(n_jobs=7)]: Done 436 tasks      | elapsed:    0.0s\n",
      "[Parallel(n_jobs=7)]: Done 786 tasks      | elapsed:    0.0s\n",
      "[Parallel(n_jobs=7)]: Done 800 out of 800 | elapsed:    0.0s finished\n"
     ]
    },
    {
     "data": {
      "text/plain": [
       "0.67291666666666661"
      ]
     },
     "execution_count": 59,
     "metadata": {},
     "output_type": "execute_result"
    }
   ],
   "source": [
    "clfmodel = ExtraTreesClassifier(n_estimators=estimators, n_jobs=-1, bootstrap=True, verbose=True) \n",
    "\n",
    "scores = cross_val_score(clfmodel, X_trainFolds, y_trainFolds)\n",
    "scores.mean()    "
   ]
  },
  {
   "cell_type": "code",
   "execution_count": 16,
   "metadata": {
    "collapsed": true
   },
   "outputs": [],
   "source": [
    "from sklearn.model_selection import cross_val_score\n",
    "from sklearn.datasets import make_blobs\n",
    "from sklearn.ensemble import RandomForestClassifier\n",
    "from sklearn.ensemble import ExtraTreesClassifier\n",
    "from sklearn.tree import DecisionTreeClassifier"
   ]
  },
  {
   "cell_type": "code",
   "execution_count": 56,
   "metadata": {},
   "outputs": [
    {
     "data": {
      "text/plain": [
       "0.64166666666666672"
      ]
     },
     "execution_count": 56,
     "metadata": {},
     "output_type": "execute_result"
    }
   ],
   "source": [
    "clf = DecisionTreeClassifier(max_depth=None, min_samples_split=2, random_state=0)\n",
    "scores = cross_val_score(clf, X_trainFolds, y_trainFolds)\n",
    "scores.mean()         "
   ]
  },
  {
   "cell_type": "code",
   "execution_count": 57,
   "metadata": {},
   "outputs": [
    {
     "data": {
      "text/plain": [
       "0.71041666666666659"
      ]
     },
     "execution_count": 57,
     "metadata": {},
     "output_type": "execute_result"
    }
   ],
   "source": [
    "clf = RandomForestClassifier(n_estimators=10, max_depth=None, min_samples_split=2, random_state=0)\n",
    "scores = cross_val_score(clf, X_trainFolds, y_trainFolds)\n",
    "scores.mean()"
   ]
  },
  {
   "cell_type": "code",
   "execution_count": 58,
   "metadata": {},
   "outputs": [
    {
     "data": {
      "text/plain": [
       "0.67083333333333339"
      ]
     },
     "execution_count": 58,
     "metadata": {},
     "output_type": "execute_result"
    }
   ],
   "source": [
    "clf = ExtraTreesClassifier(n_estimators=10, max_depth=None, min_samples_split=2, random_state=0)\n",
    "scores = cross_val_score(clf, X_trainFolds, y_trainFolds)\n",
    "scores.mean()"
   ]
  },
  {
   "cell_type": "code",
   "execution_count": 28,
   "metadata": {},
   "outputs": [
    {
     "data": {
      "text/plain": [
       "363"
      ]
     },
     "execution_count": 28,
     "metadata": {},
     "output_type": "execute_result"
    }
   ],
   "source": [
    "clfmodel.n_features_"
   ]
  },
  {
   "cell_type": "code",
   "execution_count": null,
   "metadata": {
    "collapsed": true
   },
   "outputs": [],
   "source": [
    "clfmodel.fit(X_trainFolds, y_trainFolds)"
   ]
  },
  {
   "cell_type": "code",
   "execution_count": 39,
   "metadata": {
    "collapsed": true
   },
   "outputs": [],
   "source": [
    "import pandas as pd\n",
    "import numpy as np"
   ]
  },
  {
   "cell_type": "code",
   "execution_count": 46,
   "metadata": {
    "collapsed": true
   },
   "outputs": [],
   "source": [
    "features_relevance = pd.DataFrame(np.array([X_trainFolds.columns.values, clfmodel.feature_importances_]).T,\n",
    "                                 columns=['features', 'relavance'])"
   ]
  },
  {
   "cell_type": "code",
   "execution_count": 51,
   "metadata": {
    "collapsed": true
   },
   "outputs": [],
   "source": [
    "features_relevance.set_index('features', drop=True, inplace=True)"
   ]
  },
  {
   "cell_type": "code",
   "execution_count": 53,
   "metadata": {},
   "outputs": [
    {
     "data": {
      "text/plain": [
       "features\n",
       "dema_3VALE3_C    0.00103713\n",
       "dema_3ITUB4_H    0.00120644\n",
       "dema_2ITUB4_C    0.00123619\n",
       "rsi_3ITUB4_C     0.00124542\n",
       "dema_5BVMF3_C    0.00128143\n",
       "Name: relavance, dtype: object"
      ]
     },
     "execution_count": 53,
     "metadata": {},
     "output_type": "execute_result"
    }
   ],
   "source": [
    "features_relevance.relavance.sort_values().head()"
   ]
  },
  {
   "cell_type": "code",
   "execution_count": null,
   "metadata": {
    "collapsed": true
   },
   "outputs": [],
   "source": [
    "from sklearn.preprocessing import StandardScaler  \n",
    "scaler = StandardScaler()  \n",
    "# Don't cheat - fit only on training data\n",
    "scaler.fit(X_trainFolds)  \n",
    "X_train = scaler.transform(X_trainFolds)  \n",
    "# apply same transformation to test data\n",
    "X_test = scaler.transform(X_test)  "
   ]
  },
  {
   "cell_type": "code",
   "execution_count": 54,
   "metadata": {},
   "outputs": [
    {
     "data": {
      "text/plain": [
       "MLPClassifier(activation='relu', alpha=1e-05, batch_size='auto', beta_1=0.9,\n",
       "       beta_2=0.999, early_stopping=False, epsilon=1e-08,\n",
       "       hidden_layer_sizes=(5, 2), learning_rate='constant',\n",
       "       learning_rate_init=0.001, max_iter=200, momentum=0.9,\n",
       "       nesterovs_momentum=True, power_t=0.5, random_state=1, shuffle=True,\n",
       "       solver='lbfgs', tol=0.0001, validation_fraction=0.1, verbose=False,\n",
       "       warm_start=False)"
      ]
     },
     "execution_count": 54,
     "metadata": {},
     "output_type": "execute_result"
    }
   ],
   "source": [
    "from sklearn.neural_network import MLPClassifier\n",
    "X = [[0., 0.], [1., 1.]]\n",
    "y = [0, 1]\n",
    "clf = MLPClassifier(solver='lbfgs', alpha=1e-5,\n",
    "                    hidden_layer_sizes=(5, 2), random_state=1)\n",
    "clf.fit(X_trainFolds, X_testFold)                         \n"
   ]
  },
  {
   "cell_type": "code",
   "execution_count": 65,
   "metadata": {},
   "outputs": [
    {
     "name": "stderr",
     "output_type": "stream",
     "text": [
      "[Parallel(n_jobs=1)]: Done   3 out of   3 | elapsed:    0.0s finished\n"
     ]
    },
    {
     "data": {
      "text/plain": [
       "0.4595238095238095"
      ]
     },
     "execution_count": 65,
     "metadata": {},
     "output_type": "execute_result"
    }
   ],
   "source": [
    "scores = cross_val_score(clf, X_testFold, y_testFold, verbose=True)\n",
    "scores.mean()"
   ]
  },
  {
   "cell_type": "code",
   "execution_count": null,
   "metadata": {
    "collapsed": true
   },
   "outputs": [],
   "source": []
  }
 ],
 "metadata": {
  "kernelspec": {
   "display_name": "Python 3",
   "language": "python",
   "name": "python3"
  },
  "language_info": {
   "codemirror_mode": {
    "name": "ipython",
    "version": 3
   },
   "file_extension": ".py",
   "mimetype": "text/x-python",
   "name": "python",
   "nbconvert_exporter": "python",
   "pygments_lexer": "ipython3",
   "version": "3.6.4"
  }
 },
 "nbformat": 4,
 "nbformat_minor": 2
}
