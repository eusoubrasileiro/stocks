{
 "cells": [
  {
   "cell_type": "markdown",
   "metadata": {},
   "source": [
    "#### Using Dow Jones century data until December 2018\n",
    "\n",
    "https://stooq.com/q/?s=%5edji - more historical data since 1896 \n",
    "\n",
    "https://finance.yahoo.com/quote/%5EDJI/history?period1=475815600&period2=1545271200&interval=1d&filter=history&frequency=1d - less historical data since 1985 but more clean\n",
    "\n",
    "#### Create my Candle Pattern predictor for next day movement."
   ]
  },
  {
   "cell_type": "code",
   "execution_count": 2,
   "metadata": {},
   "outputs": [],
   "source": [
    "%matplotlib inline"
   ]
  },
  {
   "cell_type": "code",
   "execution_count": 3,
   "metadata": {},
   "outputs": [
    {
     "data": {
      "text/plain": [
       "'/home/andre/Projects/stocks/prototypes'"
      ]
     },
     "execution_count": 3,
     "metadata": {},
     "output_type": "execute_result"
    }
   ],
   "source": [
    "pwd"
   ]
  },
  {
   "cell_type": "code",
   "execution_count": 4,
   "metadata": {},
   "outputs": [
    {
     "name": "stdout",
     "output_type": "stream",
     "text": [
      "/home/andre/Projects/stocks\n"
     ]
    }
   ],
   "source": [
    "cd .."
   ]
  },
  {
   "cell_type": "code",
   "execution_count": 5,
   "metadata": {},
   "outputs": [],
   "source": [
    "from matplotlib import pyplot as plt\n",
    "import os\n",
    "import sys\n",
    "import pandas as pd\n",
    "import numpy as np\n",
    "import struct\n",
    "import datetime\n",
    "import calendar\n",
    "import time\n",
    "import argparse\n",
    "import seaborn as sns\n",
    "from algos.util import progressbar\n",
    "from algos import prepareData, meta5Ibov\n",
    "from algos.nn import torchNN, torchCV, torchUtil\n",
    "import torch as th\n",
    "import scipy"
   ]
  },
  {
   "cell_type": "markdown",
   "metadata": {},
   "source": [
    "### Load Dow Jones 1 Century Data"
   ]
  },
  {
   "cell_type": "code",
   "execution_count": 6,
   "metadata": {},
   "outputs": [
    {
     "name": "stdout",
     "output_type": "stream",
     "text": [
      "/home/andre/Projects/stocks/data\n"
     ]
    }
   ],
   "source": [
    "cd data"
   ]
  },
  {
   "cell_type": "code",
   "execution_count": 7,
   "metadata": {},
   "outputs": [
    {
     "data": {
      "text/plain": [
       "'/home/andre/Projects/stocks/data'"
      ]
     },
     "execution_count": 7,
     "metadata": {},
     "output_type": "execute_result"
    }
   ],
   "source": [
    "pwd"
   ]
  },
  {
   "cell_type": "markdown",
   "metadata": {},
   "source": [
    "### Devido ao desdobramento de ações, divisão de ações melhor usar o Ibovespa"
   ]
  },
  {
   "cell_type": "code",
   "execution_count": 8,
   "metadata": {},
   "outputs": [],
   "source": [
    "# dow = pd.read_csv('WIN@_H2_2013_2018.csv', delimiter='\\t',\n",
    "#                  na_values=['null', '0'], \n",
    "#                 names=['Date', 'Time', 'Open', 'High', 'Low', 'Close', 'TickVol', 'Volume', 'Spread'],\n",
    "#                 header=0)\n",
    "\n",
    "dow = pd.read_csv('dow_jones_1985_2018_daily.csv', delimiter=',',\n",
    "                 na_values=['null', '0'])"
   ]
  },
  {
   "cell_type": "code",
   "execution_count": 9,
   "metadata": {},
   "outputs": [
    {
     "data": {
      "text/html": [
       "<div>\n",
       "<style scoped>\n",
       "    .dataframe tbody tr th:only-of-type {\n",
       "        vertical-align: middle;\n",
       "    }\n",
       "\n",
       "    .dataframe tbody tr th {\n",
       "        vertical-align: top;\n",
       "    }\n",
       "\n",
       "    .dataframe thead th {\n",
       "        text-align: right;\n",
       "    }\n",
       "</style>\n",
       "<table border=\"1\" class=\"dataframe\">\n",
       "  <thead>\n",
       "    <tr style=\"text-align: right;\">\n",
       "      <th></th>\n",
       "      <th>Date</th>\n",
       "      <th>Open</th>\n",
       "      <th>High</th>\n",
       "      <th>Low</th>\n",
       "      <th>Close</th>\n",
       "      <th>Adj Close</th>\n",
       "      <th>Volume</th>\n",
       "    </tr>\n",
       "  </thead>\n",
       "  <tbody>\n",
       "    <tr>\n",
       "      <th>8573</th>\n",
       "      <td>2019-02-04</td>\n",
       "      <td>25062.119141</td>\n",
       "      <td>25239.910156</td>\n",
       "      <td>24977.669922</td>\n",
       "      <td>25239.369141</td>\n",
       "      <td>25239.369141</td>\n",
       "      <td>298540000</td>\n",
       "    </tr>\n",
       "    <tr>\n",
       "      <th>8574</th>\n",
       "      <td>2019-02-05</td>\n",
       "      <td>25287.929688</td>\n",
       "      <td>25427.320313</td>\n",
       "      <td>25287.650391</td>\n",
       "      <td>25411.519531</td>\n",
       "      <td>25411.519531</td>\n",
       "      <td>310650000</td>\n",
       "    </tr>\n",
       "    <tr>\n",
       "      <th>8575</th>\n",
       "      <td>2019-02-06</td>\n",
       "      <td>25371.570313</td>\n",
       "      <td>25439.039063</td>\n",
       "      <td>25312.060547</td>\n",
       "      <td>25390.300781</td>\n",
       "      <td>25390.300781</td>\n",
       "      <td>247590000</td>\n",
       "    </tr>\n",
       "    <tr>\n",
       "      <th>8576</th>\n",
       "      <td>2019-02-07</td>\n",
       "      <td>25265.810547</td>\n",
       "      <td>25314.259766</td>\n",
       "      <td>25000.519531</td>\n",
       "      <td>25169.529297</td>\n",
       "      <td>25169.529297</td>\n",
       "      <td>295460000</td>\n",
       "    </tr>\n",
       "    <tr>\n",
       "      <th>8577</th>\n",
       "      <td>2019-02-08</td>\n",
       "      <td>25042.359375</td>\n",
       "      <td>25106.390625</td>\n",
       "      <td>24883.039063</td>\n",
       "      <td>25106.330078</td>\n",
       "      <td>25106.330078</td>\n",
       "      <td>248210000</td>\n",
       "    </tr>\n",
       "  </tbody>\n",
       "</table>\n",
       "</div>"
      ],
      "text/plain": [
       "            Date          Open          High           Low         Close  \\\n",
       "8573  2019-02-04  25062.119141  25239.910156  24977.669922  25239.369141   \n",
       "8574  2019-02-05  25287.929688  25427.320313  25287.650391  25411.519531   \n",
       "8575  2019-02-06  25371.570313  25439.039063  25312.060547  25390.300781   \n",
       "8576  2019-02-07  25265.810547  25314.259766  25000.519531  25169.529297   \n",
       "8577  2019-02-08  25042.359375  25106.390625  24883.039063  25106.330078   \n",
       "\n",
       "         Adj Close     Volume  \n",
       "8573  25239.369141  298540000  \n",
       "8574  25411.519531  310650000  \n",
       "8575  25390.300781  247590000  \n",
       "8576  25169.529297  295460000  \n",
       "8577  25106.330078  248210000  "
      ]
     },
     "execution_count": 9,
     "metadata": {},
     "output_type": "execute_result"
    }
   ],
   "source": [
    "dow.tail()"
   ]
  },
  {
   "cell_type": "code",
   "execution_count": 10,
   "metadata": {},
   "outputs": [],
   "source": [
    "#for yahooo finance data\n",
    "dow['Close'] = dow['Adj Close']  \n",
    "dow.drop(['Adj Close'] , axis=1, inplace=True) # Close is better than Adjusted Close\n",
    "# # 1/3%"
   ]
  },
  {
   "cell_type": "code",
   "execution_count": 11,
   "metadata": {},
   "outputs": [
    {
     "data": {
      "text/plain": [
       "0"
      ]
     },
     "execution_count": 11,
     "metadata": {},
     "output_type": "execute_result"
    }
   ],
   "source": [
    "dow.isnull().sum().sum() # total number of cells with nans "
   ]
  },
  {
   "cell_type": "code",
   "execution_count": 12,
   "metadata": {},
   "outputs": [],
   "source": [
    "dow.dropna(inplace=True)"
   ]
  },
  {
   "cell_type": "markdown",
   "metadata": {},
   "source": [
    "Convert to datetime Date"
   ]
  },
  {
   "cell_type": "code",
   "execution_count": 13,
   "metadata": {},
   "outputs": [],
   "source": [
    "dow.Date = pd.to_datetime(dow.Date)"
   ]
  },
  {
   "cell_type": "code",
   "execution_count": 14,
   "metadata": {},
   "outputs": [],
   "source": [
    "dow.set_index(dow.Date, drop=True, inplace=True);"
   ]
  },
  {
   "cell_type": "code",
   "execution_count": 15,
   "metadata": {},
   "outputs": [],
   "source": [
    "dow.index = dow.index.date # remove useless time part of index"
   ]
  },
  {
   "cell_type": "code",
   "execution_count": 16,
   "metadata": {},
   "outputs": [],
   "source": [
    "dow.drop(['Date'], axis=1, inplace=True)"
   ]
  },
  {
   "cell_type": "code",
   "execution_count": 17,
   "metadata": {},
   "outputs": [
    {
     "data": {
      "text/html": [
       "<div>\n",
       "<style scoped>\n",
       "    .dataframe tbody tr th:only-of-type {\n",
       "        vertical-align: middle;\n",
       "    }\n",
       "\n",
       "    .dataframe tbody tr th {\n",
       "        vertical-align: top;\n",
       "    }\n",
       "\n",
       "    .dataframe thead th {\n",
       "        text-align: right;\n",
       "    }\n",
       "</style>\n",
       "<table border=\"1\" class=\"dataframe\">\n",
       "  <thead>\n",
       "    <tr style=\"text-align: right;\">\n",
       "      <th></th>\n",
       "      <th>Open</th>\n",
       "      <th>High</th>\n",
       "      <th>Low</th>\n",
       "      <th>Close</th>\n",
       "      <th>Volume</th>\n",
       "    </tr>\n",
       "  </thead>\n",
       "  <tbody>\n",
       "    <tr>\n",
       "      <th>1985-01-29</th>\n",
       "      <td>1277.719971</td>\n",
       "      <td>1295.489990</td>\n",
       "      <td>1266.890015</td>\n",
       "      <td>1292.619995</td>\n",
       "      <td>13560000</td>\n",
       "    </tr>\n",
       "    <tr>\n",
       "      <th>1985-01-30</th>\n",
       "      <td>1297.369995</td>\n",
       "      <td>1305.099976</td>\n",
       "      <td>1278.930054</td>\n",
       "      <td>1287.880005</td>\n",
       "      <td>16820000</td>\n",
       "    </tr>\n",
       "  </tbody>\n",
       "</table>\n",
       "</div>"
      ],
      "text/plain": [
       "                   Open         High          Low        Close    Volume\n",
       "1985-01-29  1277.719971  1295.489990  1266.890015  1292.619995  13560000\n",
       "1985-01-30  1297.369995  1305.099976  1278.930054  1287.880005  16820000"
      ]
     },
     "execution_count": 17,
     "metadata": {},
     "output_type": "execute_result"
    }
   ],
   "source": [
    "dow.head(2)"
   ]
  },
  {
   "cell_type": "markdown",
   "metadata": {},
   "source": [
    "### **Let's create the up/down class for each day compared with the previous**"
   ]
  },
  {
   "cell_type": "code",
   "execution_count": 18,
   "metadata": {},
   "outputs": [],
   "source": [
    "dow['updown'] = np.nan"
   ]
  },
  {
   "cell_type": "code",
   "execution_count": 19,
   "metadata": {},
   "outputs": [
    {
     "data": {
      "text/html": [
       "<div>\n",
       "<style scoped>\n",
       "    .dataframe tbody tr th:only-of-type {\n",
       "        vertical-align: middle;\n",
       "    }\n",
       "\n",
       "    .dataframe tbody tr th {\n",
       "        vertical-align: top;\n",
       "    }\n",
       "\n",
       "    .dataframe thead th {\n",
       "        text-align: right;\n",
       "    }\n",
       "</style>\n",
       "<table border=\"1\" class=\"dataframe\">\n",
       "  <thead>\n",
       "    <tr style=\"text-align: right;\">\n",
       "      <th></th>\n",
       "      <th>Open</th>\n",
       "      <th>High</th>\n",
       "      <th>Low</th>\n",
       "      <th>Close</th>\n",
       "      <th>Volume</th>\n",
       "      <th>updown</th>\n",
       "    </tr>\n",
       "  </thead>\n",
       "  <tbody>\n",
       "    <tr>\n",
       "      <th>1985-01-29</th>\n",
       "      <td>1277.719971</td>\n",
       "      <td>1295.489990</td>\n",
       "      <td>1266.890015</td>\n",
       "      <td>1292.619995</td>\n",
       "      <td>13560000</td>\n",
       "      <td>NaN</td>\n",
       "    </tr>\n",
       "    <tr>\n",
       "      <th>1985-01-30</th>\n",
       "      <td>1297.369995</td>\n",
       "      <td>1305.099976</td>\n",
       "      <td>1278.930054</td>\n",
       "      <td>1287.880005</td>\n",
       "      <td>16820000</td>\n",
       "      <td>NaN</td>\n",
       "    </tr>\n",
       "  </tbody>\n",
       "</table>\n",
       "</div>"
      ],
      "text/plain": [
       "                   Open         High          Low        Close    Volume  \\\n",
       "1985-01-29  1277.719971  1295.489990  1266.890015  1292.619995  13560000   \n",
       "1985-01-30  1297.369995  1305.099976  1278.930054  1287.880005  16820000   \n",
       "\n",
       "            updown  \n",
       "1985-01-29     NaN  \n",
       "1985-01-30     NaN  "
      ]
     },
     "execution_count": 19,
     "metadata": {},
     "output_type": "execute_result"
    }
   ],
   "source": [
    "dow.head(2)"
   ]
  },
  {
   "cell_type": "markdown",
   "metadata": {},
   "source": [
    "We are pushing the days were there were no movement to the down. "
   ]
  },
  {
   "cell_type": "code",
   "execution_count": 20,
   "metadata": {},
   "outputs": [
    {
     "data": {
      "text/plain": [
       "array([False, False, False, ..., False, False, False])"
      ]
     },
     "execution_count": 20,
     "metadata": {},
     "output_type": "execute_result"
    }
   ],
   "source": [
    "dow.Close.values[1:] > dow.Close.values[:-1] "
   ]
  },
  {
   "cell_type": "code",
   "execution_count": 21,
   "metadata": {},
   "outputs": [],
   "source": [
    "# candles on close\n",
    "dow.updown.values[1:] = dow.Close.values[1:] > dow.Close.values[:-1] \n",
    "dow.updown = dow.updown.map(lambda x: 1 if x else 0)"
   ]
  },
  {
   "cell_type": "code",
   "execution_count": 22,
   "metadata": {},
   "outputs": [],
   "source": [
    "dow.updown.values[0] = -1 # first day has no info"
   ]
  },
  {
   "cell_type": "code",
   "execution_count": 23,
   "metadata": {},
   "outputs": [
    {
     "data": {
      "text/html": [
       "<div>\n",
       "<style scoped>\n",
       "    .dataframe tbody tr th:only-of-type {\n",
       "        vertical-align: middle;\n",
       "    }\n",
       "\n",
       "    .dataframe tbody tr th {\n",
       "        vertical-align: top;\n",
       "    }\n",
       "\n",
       "    .dataframe thead th {\n",
       "        text-align: right;\n",
       "    }\n",
       "</style>\n",
       "<table border=\"1\" class=\"dataframe\">\n",
       "  <thead>\n",
       "    <tr style=\"text-align: right;\">\n",
       "      <th></th>\n",
       "      <th>Open</th>\n",
       "      <th>High</th>\n",
       "      <th>Low</th>\n",
       "      <th>Close</th>\n",
       "      <th>Volume</th>\n",
       "      <th>updown</th>\n",
       "    </tr>\n",
       "  </thead>\n",
       "  <tbody>\n",
       "    <tr>\n",
       "      <th>1985-01-29</th>\n",
       "      <td>1277.719971</td>\n",
       "      <td>1295.489990</td>\n",
       "      <td>1266.890015</td>\n",
       "      <td>1292.619995</td>\n",
       "      <td>13560000</td>\n",
       "      <td>-1</td>\n",
       "    </tr>\n",
       "    <tr>\n",
       "      <th>1985-01-30</th>\n",
       "      <td>1297.369995</td>\n",
       "      <td>1305.099976</td>\n",
       "      <td>1278.930054</td>\n",
       "      <td>1287.880005</td>\n",
       "      <td>16820000</td>\n",
       "      <td>0</td>\n",
       "    </tr>\n",
       "    <tr>\n",
       "      <th>1985-01-31</th>\n",
       "      <td>1283.239990</td>\n",
       "      <td>1293.400024</td>\n",
       "      <td>1272.640015</td>\n",
       "      <td>1286.770020</td>\n",
       "      <td>14070000</td>\n",
       "      <td>0</td>\n",
       "    </tr>\n",
       "    <tr>\n",
       "      <th>1985-02-01</th>\n",
       "      <td>1276.939941</td>\n",
       "      <td>1286.109985</td>\n",
       "      <td>1269.770020</td>\n",
       "      <td>1277.719971</td>\n",
       "      <td>10980000</td>\n",
       "      <td>0</td>\n",
       "    </tr>\n",
       "    <tr>\n",
       "      <th>1985-02-04</th>\n",
       "      <td>1272.079956</td>\n",
       "      <td>1294.939941</td>\n",
       "      <td>1268.989990</td>\n",
       "      <td>1290.079956</td>\n",
       "      <td>11630000</td>\n",
       "      <td>1</td>\n",
       "    </tr>\n",
       "  </tbody>\n",
       "</table>\n",
       "</div>"
      ],
      "text/plain": [
       "                   Open         High          Low        Close    Volume  \\\n",
       "1985-01-29  1277.719971  1295.489990  1266.890015  1292.619995  13560000   \n",
       "1985-01-30  1297.369995  1305.099976  1278.930054  1287.880005  16820000   \n",
       "1985-01-31  1283.239990  1293.400024  1272.640015  1286.770020  14070000   \n",
       "1985-02-01  1276.939941  1286.109985  1269.770020  1277.719971  10980000   \n",
       "1985-02-04  1272.079956  1294.939941  1268.989990  1290.079956  11630000   \n",
       "\n",
       "            updown  \n",
       "1985-01-29      -1  \n",
       "1985-01-30       0  \n",
       "1985-01-31       0  \n",
       "1985-02-01       0  \n",
       "1985-02-04       1  "
      ]
     },
     "execution_count": 23,
     "metadata": {},
     "output_type": "execute_result"
    }
   ],
   "source": [
    "dow.head()"
   ]
  },
  {
   "cell_type": "code",
   "execution_count": 24,
   "metadata": {
    "scrolled": true
   },
   "outputs": [
    {
     "data": {
      "text/html": [
       "<div>\n",
       "<style scoped>\n",
       "    .dataframe tbody tr th:only-of-type {\n",
       "        vertical-align: middle;\n",
       "    }\n",
       "\n",
       "    .dataframe tbody tr th {\n",
       "        vertical-align: top;\n",
       "    }\n",
       "\n",
       "    .dataframe thead th {\n",
       "        text-align: right;\n",
       "    }\n",
       "</style>\n",
       "<table border=\"1\" class=\"dataframe\">\n",
       "  <thead>\n",
       "    <tr style=\"text-align: right;\">\n",
       "      <th></th>\n",
       "      <th>Open</th>\n",
       "      <th>High</th>\n",
       "      <th>Low</th>\n",
       "      <th>Close</th>\n",
       "      <th>Volume</th>\n",
       "      <th>updown</th>\n",
       "    </tr>\n",
       "  </thead>\n",
       "  <tbody>\n",
       "    <tr>\n",
       "      <th>2019-02-04</th>\n",
       "      <td>25062.119141</td>\n",
       "      <td>25239.910156</td>\n",
       "      <td>24977.669922</td>\n",
       "      <td>25239.369141</td>\n",
       "      <td>298540000</td>\n",
       "      <td>1</td>\n",
       "    </tr>\n",
       "    <tr>\n",
       "      <th>2019-02-05</th>\n",
       "      <td>25287.929688</td>\n",
       "      <td>25427.320313</td>\n",
       "      <td>25287.650391</td>\n",
       "      <td>25411.519531</td>\n",
       "      <td>310650000</td>\n",
       "      <td>1</td>\n",
       "    </tr>\n",
       "    <tr>\n",
       "      <th>2019-02-06</th>\n",
       "      <td>25371.570313</td>\n",
       "      <td>25439.039063</td>\n",
       "      <td>25312.060547</td>\n",
       "      <td>25390.300781</td>\n",
       "      <td>247590000</td>\n",
       "      <td>0</td>\n",
       "    </tr>\n",
       "    <tr>\n",
       "      <th>2019-02-07</th>\n",
       "      <td>25265.810547</td>\n",
       "      <td>25314.259766</td>\n",
       "      <td>25000.519531</td>\n",
       "      <td>25169.529297</td>\n",
       "      <td>295460000</td>\n",
       "      <td>0</td>\n",
       "    </tr>\n",
       "    <tr>\n",
       "      <th>2019-02-08</th>\n",
       "      <td>25042.359375</td>\n",
       "      <td>25106.390625</td>\n",
       "      <td>24883.039063</td>\n",
       "      <td>25106.330078</td>\n",
       "      <td>248210000</td>\n",
       "      <td>0</td>\n",
       "    </tr>\n",
       "  </tbody>\n",
       "</table>\n",
       "</div>"
      ],
      "text/plain": [
       "                    Open          High           Low         Close     Volume  \\\n",
       "2019-02-04  25062.119141  25239.910156  24977.669922  25239.369141  298540000   \n",
       "2019-02-05  25287.929688  25427.320313  25287.650391  25411.519531  310650000   \n",
       "2019-02-06  25371.570313  25439.039063  25312.060547  25390.300781  247590000   \n",
       "2019-02-07  25265.810547  25314.259766  25000.519531  25169.529297  295460000   \n",
       "2019-02-08  25042.359375  25106.390625  24883.039063  25106.330078  248210000   \n",
       "\n",
       "            updown  \n",
       "2019-02-04       1  \n",
       "2019-02-05       1  \n",
       "2019-02-06       0  \n",
       "2019-02-07       0  \n",
       "2019-02-08       0  "
      ]
     },
     "execution_count": 24,
     "metadata": {},
     "output_type": "execute_result"
    }
   ],
   "source": [
    "dow.tail()"
   ]
  },
  {
   "cell_type": "code",
   "execution_count": 25,
   "metadata": {},
   "outputs": [],
   "source": [
    "#dow.Close.resample('D') # maybe use this someday"
   ]
  },
  {
   "cell_type": "markdown",
   "metadata": {},
   "source": [
    "### Lets take a look on that data"
   ]
  },
  {
   "cell_type": "code",
   "execution_count": 26,
   "metadata": {},
   "outputs": [
    {
     "data": {
      "text/plain": [
       "[<matplotlib.lines.Line2D at 0x7f40f6497b70>]"
      ]
     },
     "execution_count": 26,
     "metadata": {},
     "output_type": "execute_result"
    },
    {
     "data": {
      "image/png": "[encoded data removed]",
      "text/plain": [
       "<Figure size 1080x144 with 1 Axes>"
      ]
     },
     "metadata": {
      "needs_background": "light"
     },
     "output_type": "display_data"
    },
    {
     "data": {
      "image/png": "[encoded data removed]",
      "text/plain": [
       "<Figure size 1080x144 with 1 Axes>"
      ]
     },
     "metadata": {
      "needs_background": "light"
     },
     "output_type": "display_data"
    }
   ],
   "source": [
    "plt.figure(figsize=(15,2))\n",
    "plt.plot(dow.Close) # dow.index.map(lambda x: x.year)\n",
    "plt.figure(figsize=(15,2))\n",
    "plt.plot(dow.Volume) # dow.index.map(lambda x: x.year)"
   ]
  },
  {
   "cell_type": "code",
   "execution_count": 27,
   "metadata": {},
   "outputs": [
    {
     "data": {
      "text/plain": [
       "1985-01-29    13560000\n",
       "1985-01-30    16820000\n",
       "1985-01-31    14070000\n",
       "1985-02-01    10980000\n",
       "1985-02-04    11630000\n",
       "Name: Volume, dtype: int64"
      ]
     },
     "execution_count": 27,
     "metadata": {},
     "output_type": "execute_result"
    }
   ],
   "source": [
    "dow.Volume.head()"
   ]
  },
  {
   "cell_type": "markdown",
   "metadata": {},
   "source": [
    "#### Since the data is `exponentially` increasing lets see if we can detrend it.\n",
    "Lets first use a simple log function"
   ]
  },
  {
   "cell_type": "code",
   "execution_count": 28,
   "metadata": {},
   "outputs": [
    {
     "data": {
      "text/plain": [
       "[<matplotlib.lines.Line2D at 0x7f40f6470588>]"
      ]
     },
     "execution_count": 28,
     "metadata": {},
     "output_type": "execute_result"
    },
    {
     "data": {
      "image/png": "[encoded data removed]",
      "text/plain": [
       "<Figure size 1080x144 with 1 Axes>"
      ]
     },
     "metadata": {
      "needs_background": "light"
     },
     "output_type": "display_data"
    },
    {
     "data": {
      "image/png": "[encoded data removed]",
      "text/plain": [
       "<Figure size 1080x144 with 1 Axes>"
      ]
     },
     "metadata": {
      "needs_background": "light"
     },
     "output_type": "display_data"
    }
   ],
   "source": [
    "plt.figure(figsize=(15,2))\n",
    "plt.plot(np.log(dow.Close)) # dow.index.map(lambda x: x.year)\n",
    "plt.figure(figsize=(15,2))\n",
    "plt.plot(np.log(dow.Volume)) # dow.index.map(lambda x: x.year)"
   ]
  },
  {
   "cell_type": "code",
   "execution_count": 29,
   "metadata": {},
   "outputs": [],
   "source": [
    "for column in dow.columns[:-1]: # all less the up/down class\n",
    "    dow.loc[:, column] = np.log(dow.loc[:, column].values)"
   ]
  },
  {
   "cell_type": "markdown",
   "metadata": {},
   "source": [
    "For simplicity a linear detrend to solve the rest.  First try did not pose nice results.  \n",
    "Use it just for viewing. \n",
    "\n",
    "But since we are trying to analyse a specific time-scale 5/6 days all other variations are noise to us. So let's try to remove a moving average of three weeks (3*5=15 days). Need to figure out a better.  "
   ]
  },
  {
   "cell_type": "code",
   "execution_count": 30,
   "metadata": {},
   "outputs": [],
   "source": [
    "from scipy.signal import detrend\n",
    "dowv = dow.copy()\n",
    "dowv.iloc[:,:5] =  detrend(dowv.values[:,:5], axis=0)"
   ]
  },
  {
   "cell_type": "code",
   "execution_count": 31,
   "metadata": {},
   "outputs": [
    {
     "data": {
      "text/plain": [
       "Text(0.5, 1.0, 'Just for viewing data')"
      ]
     },
     "execution_count": 31,
     "metadata": {},
     "output_type": "execute_result"
    },
    {
     "data": {
      "image/png": "[encoded data removed]",
      "text/plain": [
       "<Figure size 1008x144 with 1 Axes>"
      ]
     },
     "metadata": {
      "needs_background": "light"
     },
     "output_type": "display_data"
    }
   ],
   "source": [
    "plt.figure(figsize=(14,2))\n",
    "plt.plot(dowv.Close)\n",
    "plt.title('Just for viewing data')"
   ]
  },
  {
   "cell_type": "code",
   "execution_count": 32,
   "metadata": {},
   "outputs": [],
   "source": [
    "import talib as ta"
   ]
  },
  {
   "cell_type": "code",
   "execution_count": 33,
   "metadata": {},
   "outputs": [],
   "source": [
    "# this will need to change to a EMA or SMA due future data dependence\n",
    "for col in range(5):\n",
    "    #trend = np.convolve(dow.iloc[:, col], np.ones((15,))/15, mode='valid') \n",
    "    trend = ta.SMA(dow.iloc[:, col].values.astype(np.double), 2)\n",
    "    #dow.iloc[7:-7, col] -= trend # to fit at the center -7 + 7 samples are border\n",
    "    dow.iloc[:, col] -= trend # to fit at the center -7 + 7 samples are border\n",
    "# dow.drop(dow.index[:7], inplace=True) # due border effect\n",
    "# dow.drop(dow.index[-7:], inplace=True)\n",
    "dow.dropna(inplace=True) # drop first nan value"
   ]
  },
  {
   "cell_type": "code",
   "execution_count": 34,
   "metadata": {},
   "outputs": [],
   "source": [
    "dowv = dowv.loc[dow.index] # update the viewing "
   ]
  },
  {
   "cell_type": "code",
   "execution_count": 35,
   "metadata": {},
   "outputs": [
    {
     "data": {
      "text/plain": [
       "[<matplotlib.lines.Line2D at 0x7f40f4688ac8>]"
      ]
     },
     "execution_count": 35,
     "metadata": {},
     "output_type": "execute_result"
    },
    {
     "data": {
      "image/png": "[encoded data removed]",
      "text/plain": [
       "<Figure size 1080x144 with 1 Axes>"
      ]
     },
     "metadata": {
      "needs_background": "light"
     },
     "output_type": "display_data"
    },
    {
     "data": {
      "image/png": "[encoded data removed]",
      "text/plain": [
       "<Figure size 1080x144 with 1 Axes>"
      ]
     },
     "metadata": {
      "needs_background": "light"
     },
     "output_type": "display_data"
    }
   ],
   "source": [
    "plt.figure(figsize=(15,2))\n",
    "plt.plot(dow.Close) # dow.index.map(lambda x: x.year)\n",
    "plt.figure(figsize=(15,2))\n",
    "plt.plot(dow.Volume) # dow.index.map(lambda x: x.year)"
   ]
  },
  {
   "cell_type": "markdown",
   "metadata": {},
   "source": [
    "For while, let inflation be!   \n",
    "Will just calculate pattern of candles.   "
   ]
  },
  {
   "cell_type": "code",
   "execution_count": 36,
   "metadata": {},
   "outputs": [],
   "source": [
    "prices = np.random.rand(50)\n",
    "prices = ta.SMA(prices, 3)"
   ]
  },
  {
   "cell_type": "code",
   "execution_count": 37,
   "metadata": {},
   "outputs": [
    {
     "name": "stderr",
     "output_type": "stream",
     "text": [
      "No handles with labels found to put in legend.\n",
      "No handles with labels found to put in legend.\n"
     ]
    },
    {
     "data": {
      "text/plain": [
       "<matplotlib.legend.Legend at 0x7f40f45dc4e0>"
      ]
     },
     "execution_count": 37,
     "metadata": {},
     "output_type": "execute_result"
    },
    {
     "data": {
      "image/png": "[encoded data removed]",
      "text/plain": [
       "<Figure size 1224x360 with 2 Axes>"
      ]
     },
     "metadata": {
      "needs_background": "light"
     },
     "output_type": "display_data"
    }
   ],
   "source": [
    "f, axr = plt.subplots(2, sharex=True, figsize=(17,5))\n",
    "f.subplots_adjust(hspace=0)\n",
    "axr[0].plot(prices, '.r')\n",
    "axr[0].plot(ta.SMA(prices,2), '-r')\n",
    "axr[0].set_xticks(np.arange(0, 50))\n",
    "axr[0].grid(which='both')\n",
    "axr[0].legend()\n",
    "axr[1].plot(prices-ta.SMA(prices, 2), '.g')\n",
    "axr[1].plot(prices-ta.SMA(prices, 2), '-g')\n",
    "axr[1].grid()\n",
    "axr[1].legend()"
   ]
  },
  {
   "cell_type": "markdown",
   "metadata": {},
   "source": [
    "### **Let's create the another class based  on the difference to the SMA**\n",
    "\n",
    "1. The difference to the SMA of today is BIGGER than the previous day 1\n",
    "0. The difference to the SMA of today is SMALLER than the previous day 0\n",
    "\n",
    "\n",
    "    | SMA  | Close |  diff  |\n",
    "    |------|-------|--------|\n",
    "    |  -   |   8   |    -   |\n",
    "    | 7.5  |   7   |  -0.5  |\n",
    "    | 5.5  |   4   |  -0.5  |   -> diff = diff[-1] -> 0 # decresing at same speed\n",
    "    | 3.0  |   2   |  -1.0  |   -> diff < diff[-1] -> 0\n",
    "    | 2.5  |   3   |   0.5  |   -> diff > diff[-1] -> 1\n",
    "    | 3.5  |   4   |   0.5  |   -> diff = diff[-1] -> 0 # increasing at same speed \n",
    "    | 5.0  |   6   |   1.0  |   -> diff > diff[-1] -> 1 # increasing faster\n",
    "    | 6.0  |   6   |   0.0  |   -> diff < diff[-1] -> 0 # nothing happened\n",
    "    \n",
    "    \n",
    "### Somehow this trains much faster and easier\n",
    "\n",
    "this favors classification of UP movements that are more trustworthy\n",
    "\n",
    "to favor classification of DOWN movements should reverse the class"
   ]
  },
  {
   "cell_type": "markdown",
   "metadata": {},
   "source": [
    "- **If it was going up on the prevous SMA 2 days and the residuous prediction is for going up. Certainly it will only go up!**\n",
    "- **If it was going down on the previous SMA 2 days and the residous prediction is for decreasing. Certainly it will go down!**"
   ]
  },
  {
   "cell_type": "code",
   "execution_count": 38,
   "metadata": {},
   "outputs": [],
   "source": [
    "dow['sup'] = np.nan"
   ]
  },
  {
   "cell_type": "markdown",
   "metadata": {},
   "source": [
    "We are pushing the days were there were no movement to the down. "
   ]
  },
  {
   "cell_type": "code",
   "execution_count": 39,
   "metadata": {},
   "outputs": [
    {
     "name": "stderr",
     "output_type": "stream",
     "text": [
      "/home/andre/anaconda3/lib/python3.6/site-packages/pandas/core/indexing.py:189: SettingWithCopyWarning: \n",
      "A value is trying to be set on a copy of a slice from a DataFrame\n",
      "\n",
      "See the caveats in the documentation: http://pandas.pydata.org/pandas-docs/stable/indexing.html#indexing-view-versus-copy\n",
      "  self._setitem_with_indexer(indexer, value)\n"
     ]
    }
   ],
   "source": [
    "# candles on close\n",
    "dow.sup.iloc[1:] = dow.Close.values[1:] > dow.Close.values[:-1] \n",
    "dow.sup.values[:] = dow.sup.map(lambda x: 1 if x else 0)"
   ]
  },
  {
   "cell_type": "code",
   "execution_count": 40,
   "metadata": {},
   "outputs": [],
   "source": [
    "dow.sup.values[0] = 0 # first day has no info - but lets not contaminated the mean"
   ]
  },
  {
   "cell_type": "code",
   "execution_count": 41,
   "metadata": {},
   "outputs": [],
   "source": [
    "dowv['sup'] = dow.sup.copy()"
   ]
  },
  {
   "cell_type": "markdown",
   "metadata": {},
   "source": [
    "### Lets Standardize data before creating the training Vector or Feature Vector X\n",
    "\n",
    "From the histograms we can see there is no class in-balance at first look. "
   ]
  },
  {
   "cell_type": "code",
   "execution_count": 42,
   "metadata": {},
   "outputs": [
    {
     "data": {
      "image/png": "[encoded data removed]",
      "text/plain": [
       "<Figure size 1080x720 with 6 Axes>"
      ]
     },
     "metadata": {
      "needs_background": "light"
     },
     "output_type": "display_data"
    }
   ],
   "source": [
    "dow.iloc[:, :5].hist(bins=100, figsize=(15,10));"
   ]
  },
  {
   "cell_type": "code",
   "execution_count": 43,
   "metadata": {},
   "outputs": [
    {
     "data": {
      "text/html": [
       "<div>\n",
       "<style scoped>\n",
       "    .dataframe tbody tr th:only-of-type {\n",
       "        vertical-align: middle;\n",
       "    }\n",
       "\n",
       "    .dataframe tbody tr th {\n",
       "        vertical-align: top;\n",
       "    }\n",
       "\n",
       "    .dataframe thead th {\n",
       "        text-align: right;\n",
       "    }\n",
       "</style>\n",
       "<table border=\"1\" class=\"dataframe\">\n",
       "  <thead>\n",
       "    <tr style=\"text-align: right;\">\n",
       "      <th></th>\n",
       "      <th>Open</th>\n",
       "      <th>High</th>\n",
       "      <th>Low</th>\n",
       "      <th>Close</th>\n",
       "      <th>Volume</th>\n",
       "      <th>updown</th>\n",
       "      <th>sup</th>\n",
       "    </tr>\n",
       "  </thead>\n",
       "  <tbody>\n",
       "    <tr>\n",
       "      <th>1985-01-30</th>\n",
       "      <td>0.007631</td>\n",
       "      <td>0.003695</td>\n",
       "      <td>0.004729</td>\n",
       "      <td>-0.001837</td>\n",
       "      <td>0.107722</td>\n",
       "      <td>0</td>\n",
       "      <td>0</td>\n",
       "    </tr>\n",
       "  </tbody>\n",
       "</table>\n",
       "</div>"
      ],
      "text/plain": [
       "                Open      High       Low     Close    Volume  updown sup\n",
       "1985-01-30  0.007631  0.003695  0.004729 -0.001837  0.107722       0   0"
      ]
     },
     "execution_count": 43,
     "metadata": {},
     "output_type": "execute_result"
    }
   ],
   "source": [
    "dow.head(1)"
   ]
  },
  {
   "cell_type": "code",
   "execution_count": 44,
   "metadata": {},
   "outputs": [],
   "source": [
    "newcolumns=dow.columns[:-2].tolist()\n",
    "newcolumns.extend(['sup', 'updown'])\n",
    "dow = dow.reindex(columns=newcolumns)\n",
    "dowv = dowv.reindex(columns=newcolumns)"
   ]
  },
  {
   "cell_type": "code",
   "execution_count": 45,
   "metadata": {},
   "outputs": [
    {
     "data": {
      "text/html": [
       "<div>\n",
       "<style scoped>\n",
       "    .dataframe tbody tr th:only-of-type {\n",
       "        vertical-align: middle;\n",
       "    }\n",
       "\n",
       "    .dataframe tbody tr th {\n",
       "        vertical-align: top;\n",
       "    }\n",
       "\n",
       "    .dataframe thead th {\n",
       "        text-align: right;\n",
       "    }\n",
       "</style>\n",
       "<table border=\"1\" class=\"dataframe\">\n",
       "  <thead>\n",
       "    <tr style=\"text-align: right;\">\n",
       "      <th></th>\n",
       "      <th>Open</th>\n",
       "      <th>High</th>\n",
       "      <th>Low</th>\n",
       "      <th>Close</th>\n",
       "      <th>Volume</th>\n",
       "      <th>sup</th>\n",
       "      <th>updown</th>\n",
       "    </tr>\n",
       "  </thead>\n",
       "  <tbody>\n",
       "    <tr>\n",
       "      <th>1985-01-30</th>\n",
       "      <td>0.007631</td>\n",
       "      <td>0.003695</td>\n",
       "      <td>0.004729</td>\n",
       "      <td>-0.001837</td>\n",
       "      <td>0.107722</td>\n",
       "      <td>0</td>\n",
       "      <td>0</td>\n",
       "    </tr>\n",
       "  </tbody>\n",
       "</table>\n",
       "</div>"
      ],
      "text/plain": [
       "                Open      High       Low     Close    Volume sup  updown\n",
       "1985-01-30  0.007631  0.003695  0.004729 -0.001837  0.107722   0       0"
      ]
     },
     "execution_count": 45,
     "metadata": {},
     "output_type": "execute_result"
    }
   ],
   "source": [
    "dow.head(1)"
   ]
  },
  {
   "cell_type": "code",
   "execution_count": 46,
   "metadata": {},
   "outputs": [],
   "source": [
    "from sklearn import preprocessing\n",
    "from sklearn.preprocessing import RobustScaler"
   ]
  },
  {
   "cell_type": "code",
   "execution_count": 47,
   "metadata": {},
   "outputs": [],
   "source": [
    "quantile_transformer = preprocessing.QuantileTransformer(\n",
    "    output_distribution='normal', random_state=0)\n",
    "\n",
    "X_trans = quantile_transformer.fit_transform(dow.values[:,:-2])"
   ]
  },
  {
   "cell_type": "code",
   "execution_count": 48,
   "metadata": {},
   "outputs": [
    {
     "data": {
      "text/plain": [
       "(8577, 5)"
      ]
     },
     "execution_count": 48,
     "metadata": {},
     "output_type": "execute_result"
    }
   ],
   "source": [
    "X_trans.shape"
   ]
  },
  {
   "cell_type": "code",
   "execution_count": 49,
   "metadata": {},
   "outputs": [
    {
     "data": {
      "image/png": "[encoded data removed]",
      "text/plain": [
       "<Figure size 288x144 with 1 Axes>"
      ]
     },
     "metadata": {
      "needs_background": "light"
     },
     "output_type": "display_data"
    }
   ],
   "source": [
    "plt.figure(figsize=(4,2))\n",
    "plt.hist(X_trans[:,4], bins=100);"
   ]
  },
  {
   "cell_type": "code",
   "execution_count": 50,
   "metadata": {},
   "outputs": [
    {
     "data": {
      "text/plain": [
       "(0.00010038168269586452, 1.0037408525824172)"
      ]
     },
     "execution_count": 50,
     "metadata": {},
     "output_type": "execute_result"
    }
   ],
   "source": [
    "np.mean(X_trans[:,4]), np.std(X_trans[:,4])"
   ]
  },
  {
   "cell_type": "code",
   "execution_count": 51,
   "metadata": {},
   "outputs": [
    {
     "data": {
      "text/plain": [
       "(8577, 5)"
      ]
     },
     "execution_count": 51,
     "metadata": {},
     "output_type": "execute_result"
    }
   ],
   "source": [
    "X_trans.shape"
   ]
  },
  {
   "cell_type": "code",
   "execution_count": 52,
   "metadata": {},
   "outputs": [],
   "source": [
    "#X = np.zeros((X_trans.shape[0], 5))\n",
    "X = np.array(X_trans)\n",
    "#X[:, 5] = dow.values[:,-2]\n",
    "#X[:, 5] = (X[:, 5] - X[:, 5].mean())/X[:, 5].std() # normalize variance=1 mean=0"
   ]
  },
  {
   "cell_type": "code",
   "execution_count": 53,
   "metadata": {},
   "outputs": [
    {
     "data": {
      "text/plain": [
       "array([ 1.97628532e-04,  1.28896014e-04, -3.35729885e-05,  1.67641834e-04,\n",
       "        1.00381683e-04])"
      ]
     },
     "execution_count": 53,
     "metadata": {},
     "output_type": "execute_result"
    }
   ],
   "source": [
    "np.mean(X, axis=0)"
   ]
  },
  {
   "cell_type": "code",
   "execution_count": 54,
   "metadata": {
    "scrolled": true
   },
   "outputs": [
    {
     "data": {
      "text/plain": [
       "array([1.00108639, 1.00096912, 1.00064504, 1.00093068, 1.00374085])"
      ]
     },
     "execution_count": 54,
     "metadata": {},
     "output_type": "execute_result"
    }
   ],
   "source": [
    "np.std(X, axis=0)"
   ]
  },
  {
   "cell_type": "markdown",
   "metadata": {},
   "source": [
    "### Lets make the feature vector X\n",
    "\n",
    "\n",
    "We will shift forward 5 days so we can use the last ones to predict the next.  \n",
    "So we can use previous days information to train to predict next one.  \n",
    "\n",
    "We will train like this:\n",
    "\n",
    "[-5, -4, -3, -2, -1] -> [0]  \n",
    "[-4, -3, -2, -1,  0] -> [1]  \n",
    "[-3, -2, -1,  0,  1] -> [2]  \n",
    "        ...              \n",
    " \n",
    "but each day O, H, L, C, V will be a row so:\n",
    "\n",
    "[-5, -4, -3, -2, -1] -> [0]\n",
    "is  \n",
    "\n",
    "[O[-5], H[-5], L[-5], C[-5], V[-5], O[-4], H[-4], L[-4], C[-4], V[-4] ... O[-1], H[-1], L[-1], C[-1], V[-1]] -> [0]\n",
    "\n",
    "Meaning training or feature vector will have 5*5 = 25 dimension. "
   ]
  },
  {
   "cell_type": "code",
   "execution_count": 55,
   "metadata": {},
   "outputs": [],
   "source": [
    "data = X # we don't use the training class"
   ]
  },
  {
   "cell_type": "code",
   "execution_count": 56,
   "metadata": {},
   "outputs": [],
   "source": [
    "pdays=22 # previous hours ~ 5 days on H2 time-frame"
   ]
  },
  {
   "cell_type": "markdown",
   "metadata": {},
   "source": [
    "[1, 3, 4, 5, 6, 3]\n",
    "\n",
    "[1, 3, 4]  \n",
    "[3, 4, 5]  \n",
    "[4, 5, 6]  \n",
    "[5, 6, 3]  "
   ]
  },
  {
   "cell_type": "code",
   "execution_count": 57,
   "metadata": {},
   "outputs": [
    {
     "data": {
      "text/plain": [
       "(8577, 5)"
      ]
     },
     "execution_count": 57,
     "metadata": {},
     "output_type": "execute_result"
    }
   ],
   "source": [
    "data.shape"
   ]
  },
  {
   "cell_type": "code",
   "execution_count": 58,
   "metadata": {},
   "outputs": [],
   "source": [
    "X = np.zeros((len(X)-pdays+1, pdays*5))\n",
    "# maybe using np.tile with np.repeat is faster but dont know how\n",
    "for i in range(len(X)-pdays+1):\n",
    "    X[i,:] = data[i:i+pdays].flatten()"
   ]
  },
  {
   "cell_type": "code",
   "execution_count": 59,
   "metadata": {},
   "outputs": [
    {
     "data": {
      "text/plain": [
       "8556"
      ]
     },
     "execution_count": 59,
     "metadata": {},
     "output_type": "execute_result"
    }
   ],
   "source": [
    "len(X)"
   ]
  },
  {
   "cell_type": "markdown",
   "metadata": {},
   "source": [
    "### Lets make the class vector or target vector Y"
   ]
  },
  {
   "cell_type": "code",
   "execution_count": 60,
   "metadata": {},
   "outputs": [
    {
     "data": {
      "text/html": [
       "<div>\n",
       "<style scoped>\n",
       "    .dataframe tbody tr th:only-of-type {\n",
       "        vertical-align: middle;\n",
       "    }\n",
       "\n",
       "    .dataframe tbody tr th {\n",
       "        vertical-align: top;\n",
       "    }\n",
       "\n",
       "    .dataframe thead th {\n",
       "        text-align: right;\n",
       "    }\n",
       "</style>\n",
       "<table border=\"1\" class=\"dataframe\">\n",
       "  <thead>\n",
       "    <tr style=\"text-align: right;\">\n",
       "      <th></th>\n",
       "      <th>Open</th>\n",
       "      <th>High</th>\n",
       "      <th>Low</th>\n",
       "      <th>Close</th>\n",
       "      <th>Volume</th>\n",
       "      <th>sup</th>\n",
       "      <th>updown</th>\n",
       "    </tr>\n",
       "  </thead>\n",
       "  <tbody>\n",
       "    <tr>\n",
       "      <th>1985-01-30</th>\n",
       "      <td>0.007631</td>\n",
       "      <td>0.003695</td>\n",
       "      <td>0.004729</td>\n",
       "      <td>-0.001837</td>\n",
       "      <td>0.107722</td>\n",
       "      <td>0</td>\n",
       "      <td>0</td>\n",
       "    </tr>\n",
       "    <tr>\n",
       "      <th>1985-01-31</th>\n",
       "      <td>-0.005476</td>\n",
       "      <td>-0.004503</td>\n",
       "      <td>-0.002465</td>\n",
       "      <td>-0.000431</td>\n",
       "      <td>-0.089262</td>\n",
       "      <td>1</td>\n",
       "      <td>0</td>\n",
       "    </tr>\n",
       "    <tr>\n",
       "      <th>1985-02-01</th>\n",
       "      <td>-0.002461</td>\n",
       "      <td>-0.002826</td>\n",
       "      <td>-0.001129</td>\n",
       "      <td>-0.003529</td>\n",
       "      <td>-0.123985</td>\n",
       "      <td>0</td>\n",
       "      <td>0</td>\n",
       "    </tr>\n",
       "  </tbody>\n",
       "</table>\n",
       "</div>"
      ],
      "text/plain": [
       "                Open      High       Low     Close    Volume sup  updown\n",
       "1985-01-30  0.007631  0.003695  0.004729 -0.001837  0.107722   0       0\n",
       "1985-01-31 -0.005476 -0.004503 -0.002465 -0.000431 -0.089262   1       0\n",
       "1985-02-01 -0.002461 -0.002826 -0.001129 -0.003529 -0.123985   0       0"
      ]
     },
     "execution_count": 60,
     "metadata": {},
     "output_type": "execute_result"
    }
   ],
   "source": [
    "dow.head(3)"
   ]
  },
  {
   "cell_type": "code",
   "execution_count": 61,
   "metadata": {},
   "outputs": [],
   "source": [
    "dow.sup = dow.sup.values.astype(int)"
   ]
  },
  {
   "cell_type": "code",
   "execution_count": 62,
   "metadata": {},
   "outputs": [],
   "source": [
    "dow = dow[pdays:] # the first days dont have class for training so we dont need them\n",
    "dowv = dowv[pdays:] # same for plotting\n",
    "Y = dow.sup #dow.updown\n",
    "Y = Y.values"
   ]
  },
  {
   "cell_type": "code",
   "execution_count": 63,
   "metadata": {},
   "outputs": [],
   "source": [
    "Xfuture = X[-1] # last day/hour is prediction of future\n",
    "X = X[:-1] # this is training data"
   ]
  },
  {
   "cell_type": "code",
   "execution_count": 64,
   "metadata": {},
   "outputs": [
    {
     "data": {
      "text/html": [
       "<div>\n",
       "<style scoped>\n",
       "    .dataframe tbody tr th:only-of-type {\n",
       "        vertical-align: middle;\n",
       "    }\n",
       "\n",
       "    .dataframe tbody tr th {\n",
       "        vertical-align: top;\n",
       "    }\n",
       "\n",
       "    .dataframe thead th {\n",
       "        text-align: right;\n",
       "    }\n",
       "</style>\n",
       "<table border=\"1\" class=\"dataframe\">\n",
       "  <thead>\n",
       "    <tr style=\"text-align: right;\">\n",
       "      <th></th>\n",
       "      <th>Open</th>\n",
       "      <th>High</th>\n",
       "      <th>Low</th>\n",
       "      <th>Close</th>\n",
       "      <th>Volume</th>\n",
       "      <th>sup</th>\n",
       "      <th>updown</th>\n",
       "    </tr>\n",
       "  </thead>\n",
       "  <tbody>\n",
       "    <tr>\n",
       "      <th>1985-03-04</th>\n",
       "      <td>-0.452959</td>\n",
       "      <td>-0.458278</td>\n",
       "      <td>-0.457080</td>\n",
       "      <td>-0.461537</td>\n",
       "      <td>-0.352117</td>\n",
       "      <td>0</td>\n",
       "      <td>0</td>\n",
       "    </tr>\n",
       "    <tr>\n",
       "      <th>1985-03-05</th>\n",
       "      <td>-0.460847</td>\n",
       "      <td>-0.462054</td>\n",
       "      <td>-0.459016</td>\n",
       "      <td>-0.460037</td>\n",
       "      <td>-0.529654</td>\n",
       "      <td>1</td>\n",
       "      <td>1</td>\n",
       "    </tr>\n",
       "    <tr>\n",
       "      <th>1985-03-06</th>\n",
       "      <td>-0.459774</td>\n",
       "      <td>-0.464731</td>\n",
       "      <td>-0.463632</td>\n",
       "      <td>-0.469261</td>\n",
       "      <td>-0.441600</td>\n",
       "      <td>0</td>\n",
       "      <td>0</td>\n",
       "    </tr>\n",
       "  </tbody>\n",
       "</table>\n",
       "</div>"
      ],
      "text/plain": [
       "                Open      High       Low     Close    Volume sup  updown\n",
       "1985-03-04 -0.452959 -0.458278 -0.457080 -0.461537 -0.352117   0       0\n",
       "1985-03-05 -0.460847 -0.462054 -0.459016 -0.460037 -0.529654   1       1\n",
       "1985-03-06 -0.459774 -0.464731 -0.463632 -0.469261 -0.441600   0       0"
      ]
     },
     "execution_count": 64,
     "metadata": {},
     "output_type": "execute_result"
    }
   ],
   "source": [
    "dowv.head(3)"
   ]
  },
  {
   "cell_type": "code",
   "execution_count": 65,
   "metadata": {},
   "outputs": [
    {
     "data": {
      "text/plain": [
       "(8555, 8555)"
      ]
     },
     "execution_count": 65,
     "metadata": {},
     "output_type": "execute_result"
    }
   ],
   "source": [
    "len(X), len(Y)"
   ]
  },
  {
   "cell_type": "code",
   "execution_count": 66,
   "metadata": {},
   "outputs": [
    {
     "data": {
      "text/plain": [
       "(array([0, 1]), array([0, 1]))"
      ]
     },
     "execution_count": 66,
     "metadata": {},
     "output_type": "execute_result"
    }
   ],
   "source": [
    "dow.sup.unique(),  dow.updown.unique()"
   ]
  },
  {
   "cell_type": "code",
   "execution_count": 67,
   "metadata": {},
   "outputs": [],
   "source": [
    "import sklearn"
   ]
  },
  {
   "cell_type": "code",
   "execution_count": 68,
   "metadata": {},
   "outputs": [
    {
     "name": "stdout",
     "output_type": "stream",
     "text": [
      "             precision    recall  f1-score   support\n",
      "\n",
      "          0       0.72      0.80      0.76      3996\n",
      "          1       0.81      0.73      0.77      4559\n",
      "\n",
      "avg / total       0.77      0.76      0.76      8555\n",
      "\n"
     ]
    }
   ],
   "source": [
    "print(sklearn.metrics.classification_report(dow.updown, dow.sup))"
   ]
  },
  {
   "cell_type": "code",
   "execution_count": 69,
   "metadata": {
    "scrolled": true
   },
   "outputs": [
    {
     "name": "stderr",
     "output_type": "stream",
     "text": [
      "/home/andre/anaconda3/lib/python3.6/site-packages/scipy/stats/stats.py:1713: FutureWarning: Using a non-tuple sequence for multidimensional indexing is deprecated; use `arr[tuple(seq)]` instead of `arr[seq]`. In the future this will be interpreted as an array index, `arr[np.array(seq)]`, which will result either in an error or a different result.\n",
      "  return np.add.reduce(sorted[indexer] * weights, axis=axis) / sumval\n"
     ]
    },
    {
     "data": {
      "text/plain": [
       "<seaborn.axisgrid.JointGrid at 0x7f40e257e6a0>"
      ]
     },
     "execution_count": 69,
     "metadata": {},
     "output_type": "execute_result"
    },
    {
     "data": {
      "image/png": "[encoded data removed]",
      "text/plain": [
       "<Figure size 432x432 with 3 Axes>"
      ]
     },
     "metadata": {
      "needs_background": "light"
     },
     "output_type": "display_data"
    }
   ],
   "source": [
    "sns.jointplot(dow.updown, dow.sup, kind='kde')"
   ]
  },
  {
   "cell_type": "markdown",
   "metadata": {},
   "source": [
    "#### Remember!\n",
    "\n",
    "dowv has same number of row than X, Y vectors, indexes are syncronized"
   ]
  },
  {
   "cell_type": "markdown",
   "metadata": {},
   "source": [
    "### Lets prepare the engine Torch"
   ]
  },
  {
   "cell_type": "code",
   "execution_count": 70,
   "metadata": {},
   "outputs": [],
   "source": [
    "import importlib"
   ]
  },
  {
   "cell_type": "code",
   "execution_count": 71,
   "metadata": {},
   "outputs": [
    {
     "data": {
      "text/plain": [
       "(<module 'algos.nn.torchNN' from '/home/andre/Projects/stocks/algos/nn/torchNN.py'>,\n",
       " <module 'algos.nn.torchCV' from '/home/andre/Projects/stocks/algos/nn/torchCV.py'>,\n",
       " <module 'algos.nn.torchUtil' from '/home/andre/Projects/stocks/algos/nn/torchUtil.py'>)"
      ]
     },
     "execution_count": 71,
     "metadata": {},
     "output_type": "execute_result"
    }
   ],
   "source": [
    "importlib.reload(torchNN), importlib.reload(torchCV), importlib.reload(torchUtil)"
   ]
  },
  {
   "cell_type": "code",
   "execution_count": 72,
   "metadata": {},
   "outputs": [],
   "source": [
    "device = torchNN.getDevice()"
   ]
  },
  {
   "cell_type": "code",
   "execution_count": 73,
   "metadata": {},
   "outputs": [
    {
     "data": {
      "text/plain": [
       "device(type='cuda')"
      ]
     },
     "execution_count": 73,
     "metadata": {},
     "output_type": "execute_result"
    }
   ],
   "source": [
    "device"
   ]
  },
  {
   "cell_type": "code",
   "execution_count": 74,
   "metadata": {},
   "outputs": [],
   "source": [
    "torchNN.setSeed(device, 25640) # reproducible"
   ]
  },
  {
   "cell_type": "markdown",
   "metadata": {},
   "source": [
    "Train in ~ **2 month** and test on the subsequent **0.1 months**\n",
    "\n",
    "training/valiation ratio of 90%"
   ]
  },
  {
   "cell_type": "code",
   "execution_count": 75,
   "metadata": {},
   "outputs": [],
   "source": [
    "X, Y = torchUtil.binaryTensors(X, Y, device=device)"
   ]
  },
  {
   "cell_type": "code",
   "execution_count": 76,
   "metadata": {},
   "outputs": [
    {
     "name": "stdout",
     "output_type": "stream",
     "text": [
      "number of folds  3275  H2 of training  4751  H2 of validation  528  H2 of prediction  1\n"
     ]
    }
   ],
   "source": [
    "ntrain= 22*12*5*4\n",
    "kfold = torchCV.sKFold(X, foldsize=ntrain, ratio=0.9)\n",
    "nsplits = kfold.GetnSplits()\n",
    "ntrain, ntest, npred = kfold.ntrain, kfold.ntest, kfold.npred\n",
    "print('number of folds ', nsplits, \n",
    "      ' H2 of training ', ntrain, \n",
    "      ' H2 of validation ', ntest,\n",
    "      ' H2 of prediction ', npred)"
   ]
  },
  {
   "cell_type": "markdown",
   "metadata": {},
   "source": [
    "Get a random begin on data of those n years"
   ]
  },
  {
   "cell_type": "markdown",
   "metadata": {},
   "source": [
    "Locally normalize mean = 0 and variance to 1  \n",
    "Specially for this 25 type of data/training, this should not be done here. "
   ]
  },
  {
   "cell_type": "code",
   "execution_count": 77,
   "metadata": {},
   "outputs": [],
   "source": [
    "#Xfold = (Xfold - Xfold.mean())/Xfold.std() # normalize variance=1 mean=0"
   ]
  },
  {
   "cell_type": "code",
   "execution_count": 78,
   "metadata": {},
   "outputs": [],
   "source": [
    "# tensors\n",
    "for start, sval, spred, end in kfold.SplitsLastn(1):\n",
    "    Xt, yt = X[start:sval], Y[start:sval]\n",
    "    Xs, ys = X[sval:spred], Y[sval:spred]\n",
    "    # use :end on slicing to avoid using unsqueze\n",
    "    Xp, yp = X[spred:end], Y[spred:end] # only ONE sample"
   ]
  },
  {
   "cell_type": "code",
   "execution_count": 79,
   "metadata": {},
   "outputs": [
    {
     "data": {
      "text/plain": [
       "(3274, 8025, 8553, 8554)"
      ]
     },
     "execution_count": 79,
     "metadata": {},
     "output_type": "execute_result"
    }
   ],
   "source": [
    "start, sval, spred, end"
   ]
  },
  {
   "cell_type": "code",
   "execution_count": 80,
   "metadata": {},
   "outputs": [
    {
     "data": {
      "text/plain": [
       "tensor([0], device='cuda:0')"
      ]
     },
     "execution_count": 80,
     "metadata": {},
     "output_type": "execute_result"
    }
   ],
   "source": [
    "yp"
   ]
  },
  {
   "cell_type": "code",
   "execution_count": 81,
   "metadata": {
    "scrolled": true
   },
   "outputs": [
    {
     "name": "stdout",
     "output_type": "stream",
     "text": [
      "unbalanced class percentage training ~: % -2.2\n",
      "unbalanced class percentage validation~: % -2.7\n"
     ]
    }
   ],
   "source": [
    "print('unbalanced class percentage training ~: % {:.1f}'.format(100*((th.sum(yt).item()/(len(yt))-0.5))))\n",
    "print('unbalanced class percentage validation~: % {:.1f}'.format(100*((th.sum(ys).item()/len(ys))-0.5)))"
   ]
  },
  {
   "cell_type": "code",
   "execution_count": 84,
   "metadata": {},
   "outputs": [],
   "source": [
    "classifier = torchNN.BinaryNN(input_dim=X.shape[1], nneurons=[256, 256, 128, 32],\n",
    "                              dropout=0.55, learn=8e-3, patience=100, device=device)"
   ]
  },
  {
   "cell_type": "code",
   "execution_count": 85,
   "metadata": {
    "scrolled": false
   },
   "outputs": [
    {
     "name": "stdout",
     "output_type": "stream",
     "text": [
      "iteration : 18     train loss: 0.6877983 valid acc: 0.5265152 valid loss :0.6885294 learn r.: 0.0010000\n",
      "iteration : 37     train loss: 0.6698688 valid acc: 0.5265152 valid loss :0.6739526 learn r.: 0.0009900\n",
      "iteration : 56     train loss: 0.6214813 valid acc: 0.7121212 valid loss :0.6349139 learn r.: 0.0009801\n",
      "iteration : 75     train loss: 0.5607595 valid acc: 0.7291667 valid loss :0.5828850 learn r.: 0.0009703\n",
      "iteration : 94     train loss: 0.5494856 valid acc: 0.7234848 valid loss :0.5762445 learn r.: 0.0009606\n",
      "iteration : 113    train loss: 0.5418546 valid acc: 0.7272727 valid loss :0.5738308 learn r.: 0.0009510\n",
      "iteration : 132    train loss: 0.5396906 valid acc: 0.7196970 valid loss :0.5771824 learn r.: 0.0009415\n",
      "iteration : 151    train loss: 0.5365341 valid acc: 0.7159091 valid loss :0.5767767 learn r.: 0.0009321\n",
      "iteration : 170    train loss: 0.5322000 valid acc: 0.7272727 valid loss :0.5744137 learn r.: 0.0009227\n",
      "iteration : 189    train loss: 0.5302958 valid acc: 0.7348485 valid loss :0.5722111 learn r.: 0.0009135\n",
      "iteration : 208    train loss: 0.5278080 valid acc: 0.7310606 valid loss :0.5672868 learn r.: 0.0009044\n",
      "iteration : 227    train loss: 0.5256720 valid acc: 0.7424242 valid loss :0.5625488 learn r.: 0.0008953\n",
      "iteration : 246    train loss: 0.5235563 valid acc: 0.7329545 valid loss :0.5662060 learn r.: 0.0008864\n",
      "iteration : 265    train loss: 0.5230005 valid acc: 0.7329545 valid loss :0.5705180 learn r.: 0.0008775\n",
      "iteration : 284    train loss: 0.5214283 valid acc: 0.7272727 valid loss :0.5751048 learn r.: 0.0008687\n",
      "iteration : 303    train loss: 0.5191810 valid acc: 0.7310606 valid loss :0.5665392 learn r.: 0.0008601\n",
      "[################################################################################] 304/304\n",
      "final : train acc. 0.777731 val acc.0.742424\n"
     ]
    }
   ],
   "source": [
    "classifier.fit(Xt, yt, Xs, ys, epochs=8, batch=128, iscore=0.5, gma=0.99, learn=1e-3, verbose=True);"
   ]
  },
  {
   "cell_type": "code",
   "execution_count": 113,
   "metadata": {},
   "outputs": [
    {
     "name": "stdout",
     "output_type": "stream",
     "text": [
      "[################################################################################] 5/5\n",
      "[################################################################################] 5/5\n"
     ]
    }
   ],
   "source": [
    "for i in range(2):\n",
    "    classifier.fineTune(Xs, ys, batch=128)"
   ]
  },
  {
   "cell_type": "code",
   "execution_count": 114,
   "metadata": {
    "scrolled": true
   },
   "outputs": [
    {
     "data": {
      "text/html": [
       "<div>\n",
       "<style scoped>\n",
       "    .dataframe tbody tr th:only-of-type {\n",
       "        vertical-align: middle;\n",
       "    }\n",
       "\n",
       "    .dataframe tbody tr th {\n",
       "        vertical-align: top;\n",
       "    }\n",
       "\n",
       "    .dataframe thead th {\n",
       "        text-align: right;\n",
       "    }\n",
       "</style>\n",
       "<table border=\"1\" class=\"dataframe\">\n",
       "  <thead>\n",
       "    <tr style=\"text-align: right;\">\n",
       "      <th></th>\n",
       "      <th>Open</th>\n",
       "      <th>High</th>\n",
       "      <th>Low</th>\n",
       "      <th>Close</th>\n",
       "      <th>Volume</th>\n",
       "      <th>sup</th>\n",
       "      <th>updown</th>\n",
       "    </tr>\n",
       "  </thead>\n",
       "  <tbody>\n",
       "    <tr>\n",
       "      <th>2019-02-07</th>\n",
       "      <td>-0.031643</td>\n",
       "      <td>-0.034670</td>\n",
       "      <td>-0.036917</td>\n",
       "      <td>-0.035616</td>\n",
       "      <td>-0.267275</td>\n",
       "      <td>0</td>\n",
       "      <td>0</td>\n",
       "    </tr>\n",
       "    <tr>\n",
       "      <th>2019-02-08</th>\n",
       "      <td>-0.040824</td>\n",
       "      <td>-0.043212</td>\n",
       "      <td>-0.041926</td>\n",
       "      <td>-0.038428</td>\n",
       "      <td>-0.441898</td>\n",
       "      <td>1</td>\n",
       "      <td>0</td>\n",
       "    </tr>\n",
       "  </tbody>\n",
       "</table>\n",
       "</div>"
      ],
      "text/plain": [
       "                Open      High       Low     Close    Volume sup  updown\n",
       "2019-02-07 -0.031643 -0.034670 -0.036917 -0.035616 -0.267275   0       0\n",
       "2019-02-08 -0.040824 -0.043212 -0.041926 -0.038428 -0.441898   1       0"
      ]
     },
     "execution_count": 114,
     "metadata": {},
     "output_type": "execute_result"
    }
   ],
   "source": [
    "dowv.tail(2)"
   ]
  },
  {
   "cell_type": "code",
   "execution_count": 115,
   "metadata": {
    "scrolled": true
   },
   "outputs": [
    {
     "data": {
      "text/plain": [
       "<matplotlib.legend.Legend at 0x7f53273986a0>"
      ]
     },
     "execution_count": 115,
     "metadata": {},
     "output_type": "execute_result"
    },
    {
     "data": {
      "image/png": "[encoded data removed]",
      "text/plain": [
       "<Figure size 1080x144 with 1 Axes>"
      ]
     },
     "metadata": {
      "needs_background": "light"
     },
     "output_type": "display_data"
    }
   ],
   "source": [
    "plt.figure(figsize=(15,2))\n",
    "plt.plot(dowv.iloc[start:end].Close, 'k-', lw=1, label='window')\n",
    "plt.plot(dowv.iloc[start:sval].Close, 'g--', label='training', lw=1)\n",
    "plt.plot(dowv.iloc[sval:end].Close, 'r-.', label='validation', lw=1)\n",
    "plt.legend()"
   ]
  },
  {
   "cell_type": "code",
   "execution_count": 116,
   "metadata": {},
   "outputs": [
    {
     "data": {
      "text/plain": [
       "torch.Size([51, 3])"
      ]
     },
     "execution_count": 116,
     "metadata": {},
     "output_type": "execute_result"
    }
   ],
   "source": [
    "classifier.prog.shape"
   ]
  },
  {
   "cell_type": "markdown",
   "metadata": {},
   "source": [
    "Using a cut-off on model probability if not certain why should I trust?!  \n",
    "Try to correct the cases where there is no up or down, just laterall variation or anything else with not that certainty\n",
    "\n",
    "0.7 or 70% at least"
   ]
  },
  {
   "cell_type": "code",
   "execution_count": 117,
   "metadata": {},
   "outputs": [
    {
     "data": {
      "text/plain": [
       "0.7746212184429169"
      ]
     },
     "execution_count": 117,
     "metadata": {},
     "output_type": "execute_result"
    }
   ],
   "source": [
    "classifier.score(Xs, ys)"
   ]
  },
  {
   "cell_type": "code",
   "execution_count": 118,
   "metadata": {},
   "outputs": [],
   "source": [
    "params = {'cutoff':0.51}"
   ]
  },
  {
   "cell_type": "code",
   "execution_count": 119,
   "metadata": {},
   "outputs": [
    {
     "name": "stdout",
     "output_type": "stream",
     "text": [
      "data above probability cutoff: 1.00\n"
     ]
    },
    {
     "data": {
      "text/plain": [
       "0.7756654024124146"
      ]
     },
     "execution_count": 119,
     "metadata": {},
     "output_type": "execute_result"
    }
   ],
   "source": [
    "classifier.score(Xs, ys, **params)"
   ]
  },
  {
   "cell_type": "markdown",
   "metadata": {},
   "source": [
    "To think about...\n",
    "\n",
    "That above indicates that validation must have a weight.   \n",
    "Those samples that are more recent should receive a higher 'weight' somehow.\n",
    "\n",
    "We cannot train too much on a validation set that is too far behind on time. \n",
    "\n",
    "Also there are breaking points when the market totally loose correlation from the past.  \n",
    "For example above near end november."
   ]
  },
  {
   "cell_type": "markdown",
   "metadata": {},
   "source": [
    "### Best 54.4% on validation\n",
    "\n",
    "- `gamma`  should not be too low (~0.9) otherwise we have overfitting on training set \n",
    "- a low `gamma` value makes it go to a local minima that is the validation minima"
   ]
  },
  {
   "cell_type": "code",
   "execution_count": 120,
   "metadata": {},
   "outputs": [
    {
     "data": {
      "image/png": "[encoded data removed]",
      "text/plain": [
       "<Figure size 1080x360 with 3 Axes>"
      ]
     },
     "metadata": {
      "needs_background": "light"
     },
     "output_type": "display_data"
    }
   ],
   "source": [
    "classifier.viewResults()"
   ]
  },
  {
   "cell_type": "markdown",
   "metadata": {},
   "source": [
    "###  Results\n",
    "\n",
    "Let's see latest forecasts."
   ]
  },
  {
   "cell_type": "code",
   "execution_count": 122,
   "metadata": {
    "scrolled": true
   },
   "outputs": [
    {
     "data": {
      "text/html": [
       "<div>\n",
       "<style scoped>\n",
       "    .dataframe tbody tr th:only-of-type {\n",
       "        vertical-align: middle;\n",
       "    }\n",
       "\n",
       "    .dataframe tbody tr th {\n",
       "        vertical-align: top;\n",
       "    }\n",
       "\n",
       "    .dataframe thead th {\n",
       "        text-align: right;\n",
       "    }\n",
       "</style>\n",
       "<table border=\"1\" class=\"dataframe\">\n",
       "  <thead>\n",
       "    <tr style=\"text-align: right;\">\n",
       "      <th></th>\n",
       "      <th>Open</th>\n",
       "      <th>High</th>\n",
       "      <th>Low</th>\n",
       "      <th>Close</th>\n",
       "      <th>Volume</th>\n",
       "      <th>sup</th>\n",
       "      <th>updown</th>\n",
       "    </tr>\n",
       "  </thead>\n",
       "  <tbody>\n",
       "    <tr>\n",
       "      <th>2019-02-06</th>\n",
       "      <td>-0.027168</td>\n",
       "      <td>-0.029455</td>\n",
       "      <td>-0.024235</td>\n",
       "      <td>-0.026585</td>\n",
       "      <td>-0.443669</td>\n",
       "      <td>0</td>\n",
       "      <td>0</td>\n",
       "    </tr>\n",
       "    <tr>\n",
       "      <th>2019-02-07</th>\n",
       "      <td>-0.031643</td>\n",
       "      <td>-0.034670</td>\n",
       "      <td>-0.036917</td>\n",
       "      <td>-0.035616</td>\n",
       "      <td>-0.267275</td>\n",
       "      <td>0</td>\n",
       "      <td>0</td>\n",
       "    </tr>\n",
       "    <tr>\n",
       "      <th>2019-02-08</th>\n",
       "      <td>-0.040824</td>\n",
       "      <td>-0.043212</td>\n",
       "      <td>-0.041926</td>\n",
       "      <td>-0.038428</td>\n",
       "      <td>-0.441898</td>\n",
       "      <td>1</td>\n",
       "      <td>0</td>\n",
       "    </tr>\n",
       "  </tbody>\n",
       "</table>\n",
       "</div>"
      ],
      "text/plain": [
       "                Open      High       Low     Close    Volume sup  updown\n",
       "2019-02-06 -0.027168 -0.029455 -0.024235 -0.026585 -0.443669   0       0\n",
       "2019-02-07 -0.031643 -0.034670 -0.036917 -0.035616 -0.267275   0       0\n",
       "2019-02-08 -0.040824 -0.043212 -0.041926 -0.038428 -0.441898   1       0"
      ]
     },
     "execution_count": 122,
     "metadata": {},
     "output_type": "execute_result"
    }
   ],
   "source": [
    "dowv.tail(3)"
   ]
  },
  {
   "cell_type": "markdown",
   "metadata": {},
   "source": [
    "### last 22 days / 22 * 2H hours"
   ]
  },
  {
   "cell_type": "code",
   "execution_count": 123,
   "metadata": {},
   "outputs": [],
   "source": [
    "pdays=22\n",
    "cutoff=0.4"
   ]
  },
  {
   "cell_type": "code",
   "execution_count": 124,
   "metadata": {
    "scrolled": true
   },
   "outputs": [
    {
     "name": "stdout",
     "output_type": "stream",
     "text": [
      "data above probability cutoff: 1.00\n"
     ]
    },
    {
     "data": {
      "text/plain": [
       "0.5"
      ]
     },
     "execution_count": 124,
     "metadata": {},
     "output_type": "execute_result"
    }
   ],
   "source": [
    "classifier.score(Xs[-pdays:], ys[-pdays:], cutoff)"
   ]
  },
  {
   "cell_type": "markdown",
   "metadata": {},
   "source": [
    "### last 10 days / 10 * 2H hours"
   ]
  },
  {
   "cell_type": "code",
   "execution_count": 125,
   "metadata": {},
   "outputs": [],
   "source": [
    "pdays=10\n",
    "cutoff=0.5"
   ]
  },
  {
   "cell_type": "code",
   "execution_count": 126,
   "metadata": {
    "scrolled": true
   },
   "outputs": [
    {
     "name": "stdout",
     "output_type": "stream",
     "text": [
      "data above probability cutoff: 1.00\n"
     ]
    },
    {
     "data": {
      "text/plain": [
       "0.5"
      ]
     },
     "execution_count": 126,
     "metadata": {},
     "output_type": "execute_result"
    }
   ],
   "source": [
    "classifier.score(Xs[-pdays:], ys[-pdays:], cutoff)"
   ]
  },
  {
   "cell_type": "markdown",
   "metadata": {},
   "source": [
    "## Today"
   ]
  },
  {
   "cell_type": "code",
   "execution_count": 127,
   "metadata": {},
   "outputs": [
    {
     "data": {
      "text/plain": [
       "(tensor([[0.5381, 0.4619]], device='cuda:0'), tensor([0], device='cuda:0'))"
      ]
     },
     "execution_count": 127,
     "metadata": {},
     "output_type": "execute_result"
    }
   ],
   "source": [
    "classifier.predict(th.tensor(Xfuture, dtype=th.float, device=device).unsqueeze(dim=0))"
   ]
  },
  {
   "cell_type": "markdown",
   "metadata": {},
   "source": [
    "### Cross validation Sequential Folds "
   ]
  },
  {
   "cell_type": "code",
   "execution_count": 128,
   "metadata": {},
   "outputs": [
    {
     "data": {
      "text/plain": [
       "<module 'algos.nn.torchCV' from '/home/andre/Projects/stocks/algos/nn/torchCV.py'>"
      ]
     },
     "execution_count": 128,
     "metadata": {},
     "output_type": "execute_result"
    }
   ],
   "source": [
    "importlib.reload(torchCV)"
   ]
  },
  {
   "cell_type": "code",
   "execution_count": 129,
   "metadata": {},
   "outputs": [],
   "source": [
    "# stand-by dont need this now, better use probabilyties before and test\n",
    "# to find the best cut-off\n",
    "# accuracy_clip = lambda m, x, y : torchCV.accuracy(m, x, y, cutoff=0.65)"
   ]
  },
  {
   "cell_type": "code",
   "execution_count": 130,
   "metadata": {},
   "outputs": [],
   "source": [
    "classifier = torchNN.BinaryNN(input_dim=X.shape[1], nneurons=[256, 256, 256, 32],\n",
    "                              dropout=0.55, learn=1e-3, patience=10, device=device)\n",
    "params = {'epochs':9, 'batch':128, 'iscore':0.5, 'gma':0.92, 'verbose':False}"
   ]
  },
  {
   "cell_type": "markdown",
   "metadata": {},
   "source": [
    "#### Run 100 cross-validations on the last n folds\n",
    "\n",
    "- save predictions as well its probabilities\n",
    "- pass params using dictionary for 'fit' method"
   ]
  },
  {
   "cell_type": "code",
   "execution_count": 131,
   "metadata": {},
   "outputs": [
    {
     "data": {
      "text/plain": [
       "4751"
      ]
     },
     "execution_count": 131,
     "metadata": {},
     "output_type": "execute_result"
    }
   ],
   "source": [
    "ntrain"
   ]
  },
  {
   "cell_type": "code",
   "execution_count": 132,
   "metadata": {},
   "outputs": [
    {
     "data": {
      "text/plain": [
       "128"
      ]
     },
     "execution_count": 132,
     "metadata": {},
     "output_type": "execute_result"
    }
   ],
   "source": [
    "params['batch']"
   ]
  },
  {
   "cell_type": "code",
   "execution_count": 133,
   "metadata": {},
   "outputs": [
    {
     "name": "stdout",
     "output_type": "stream",
     "text": [
      "[################################################################################] 324/324\n",
      "[################################################################################] 2/2\n",
      "[################################################################################] 2/2\n",
      "[################################################################################] 324/324\n",
      "[################################################################################] 2/2\n",
      "[################################################################################] 2/2\n",
      "early stopped: no progress on validation########################################.] 323/324\n",
      "[################################################################################] 2/2\n",
      "[################################################################################] 2/2\n",
      "[################################################################################] 324/324\n",
      "[################################################################################] 2/2\n",
      "[################################################################################] 2/2\n",
      "[################################################################################] 324/324\n",
      "[################################################################################] 2/2\n",
      "[################################################################################] 2/2\n",
      "[################################################################################] 324/324\n",
      "[################################################################################] 2/2\n",
      "[################################################################################] 2/2\n",
      "[################################################################################] 324/324\n",
      "[################################################################################] 2/2\n",
      "[################################################################################] 2/2\n",
      "[################################################################################] 324/324\n",
      "[################################################################################] 2/2\n",
      "[################################################################################] 2/2\n",
      "[################################################################################] 324/324\n",
      "[################################################################################] 2/2\n",
      "[################################################################################] 2/2\n",
      "[################################################################################] 324/324\n",
      "[################################################################################] 2/2\n",
      "[################################################################################] 2/2\n",
      "[################################################################################] 324/324\n",
      "[################################################################################] 2/2\n",
      "[################################################################################] 2/2\n",
      "[################################################################################] 324/324\n",
      "[################################################################################] 2/2\n",
      "[################################################################################] 2/2\n",
      "[################################################################################] 324/324\n",
      "[################################################################################] 2/2\n",
      "[################################################################################] 2/2\n",
      "[################################################################################] 324/324\n",
      "[################################################################################] 2/2\n",
      "[################################################################################] 2/2\n",
      "[################################################################################] 324/324\n",
      "[################################################################################] 2/2\n",
      "[################################################################################] 2/2\n",
      "[################################################################################] 324/324\n",
      "[################################################################################] 2/2\n",
      "[################################################################################] 2/2\n",
      "[################################################################################] 324/324\n",
      "[################################################################################] 2/2\n",
      "[################################################################################] 2/2\n",
      "[################################################################################] 324/324\n",
      "[################################################################################] 2/2\n",
      "[################################################################################] 2/2\n",
      "[################################################################################] 324/324\n",
      "[################################################################################] 2/2\n",
      "[################################################################################] 2/2\n",
      "[################################################################################] 324/324\n",
      "[################################################################################] 2/2\n",
      "[################################################################################] 2/2\n",
      "[################################################################################] 324/324\n",
      "[################################################################################] 2/2\n",
      "[################################################################################] 2/2\n",
      "[################################################################################] 324/324\n",
      "[################################################################################] 2/2\n",
      "[################################################################################] 2/2\n",
      "[################################################################################] 324/324\n",
      "[################################################################################] 2/2\n",
      "[################################################################################] 2/2\n",
      "[################################################################################] 324/324\n",
      "[################################################################################] 2/2\n",
      "[################################################################################] 2/2\n",
      "[################################################################################] 324/324\n",
      "[################################################################################] 2/2\n",
      "[################################################################################] 2/2\n",
      "[################################################################################] 324/324\n",
      "[################################################################################] 2/2\n",
      "[################################################################################] 2/2\n",
      "[################################################################################] 324/324\n",
      "[################################################################################] 2/2\n",
      "[################################################################################] 2/2\n",
      "[################################################################################] 324/324\n",
      "[################################################################################] 2/2\n",
      "[################################################################################] 2/2\n",
      "[################################################################################] 324/324\n",
      "[################################################################################] 2/2\n",
      "[################################################################################] 2/2\n",
      "[################################################################################] 324/324\n",
      "[################################################################################] 2/2\n",
      "[################################################################################] 2/2\n",
      "[################################################################################] 324/324\n",
      "[################################################################################] 2/2\n",
      "[################################################################################] 2/2\n",
      "[################################################################################] 324/324\n",
      "[################################################################################] 2/2\n",
      "[################################################################################] 2/2\n",
      "[################################################################################] 324/324\n",
      "[################################################################################] 2/2\n",
      "[################################################################################] 2/2\n",
      "early stopped: no progress on validation########################################.] 323/324\n",
      "[################################################################################] 2/2\n",
      "[################################################################################] 2/2\n",
      "[################################################################################] 324/324\n",
      "[################################################################################] 2/2\n",
      "[################################################################################] 2/2\n",
      "[################################################################################] 324/324\n",
      "[################################################################################] 2/2\n",
      "[################################################################################] 2/2\n",
      "[################################################################################] 324/324\n",
      "[################################################################################] 2/2\n",
      "[################################################################################] 2/2\n",
      "[################################################################################] 324/324\n",
      "[################################################################################] 2/2\n",
      "[################################################################################] 2/2\n",
      "[################################################################################] 324/324\n",
      "[################################################################################] 2/2\n",
      "[################################################################################] 2/2\n",
      "[################################################################################] 324/324\n",
      "[################################################################################] 2/2\n",
      "[################################################################################] 2/2\n",
      "[################################################################################] 324/324\n",
      "[################################################################################] 2/2\n",
      "[################################################################################] 2/2\n",
      "[################################################################################] 324/324\n",
      "[################################################################################] 2/2\n",
      "[################################################################################] 2/2\n",
      "[################################################################################] 324/324\n",
      "[################################################################################] 2/2\n",
      "[################################################################################] 2/2\n",
      "[################################################################################] 324/324\n",
      "[################################################################################] 2/2\n",
      "[################################################################################] 2/2\n",
      "[################################################################################] 324/324\n",
      "[################################################################################] 2/2\n",
      "[################################################################################] 2/2\n",
      "[################################################################################] 324/324\n",
      "[################################################################################] 2/2\n",
      "[################################################################################] 2/2\n",
      "[################################################################################] 324/324\n",
      "[################################################################################] 2/2\n",
      "[################################################################################] 2/2\n",
      "[################################################################################] 324/324\n",
      "[################################################################################] 2/2\n",
      "[################################################################################] 2/2\n",
      "[################################################################################] 324/324\n",
      "[################################################################################] 2/2\n",
      "[################################################################################] 2/2\n",
      "early stopped: no progress on validation########################################.] 323/324\n",
      "[################################################################################] 2/2\n",
      "[################################################################################] 2/2\n",
      "[################################################################################] 324/324\n",
      "[################################################################################] 2/2\n",
      "[################################################################################] 2/2\n",
      "[################################################################################] 324/324\n",
      "[################################################################################] 2/2\n",
      "[################################################################################] 2/2\n",
      "[################################################################################] 324/324\n",
      "[################################################################################] 2/2\n",
      "[################################################################################] 2/2\n",
      "[################################################################################] 324/324\n",
      "[################################################################################] 2/2\n",
      "[################################################################################] 2/2\n",
      "[################################################################################] 324/324\n",
      "[################################################################################] 2/2\n",
      "[################################################################################] 2/2\n",
      "[################################################################################] 324/324\n",
      "[################################################################################] 2/2\n",
      "[################################################################################] 2/2\n",
      "[################################################################################] 324/324\n",
      "[################################################################################] 2/2\n",
      "[################################################################################] 2/2\n",
      "[################################################################################] 324/324\n",
      "[################################################################################] 2/2\n",
      "[################################################################################] 2/2\n",
      "[################################################################################] 324/324\n",
      "[################################################################################] 2/2\n",
      "[################################################################################] 2/2\n",
      "[################################################################################] 324/324\n",
      "[################################################################################] 2/2\n",
      "[################################################################################] 2/2\n",
      "[################################################################################] 324/324\n",
      "[################################################################################] 2/2\n",
      "[################################################################################] 2/2\n",
      "[################################################################################] 324/324\n"
     ]
    },
    {
     "name": "stdout",
     "output_type": "stream",
     "text": [
      "[################################################################################] 2/2\n",
      "[################################################################################] 2/2\n",
      "[################################################################################] 324/324\n",
      "[################################################################################] 2/2\n",
      "[################################################################################] 2/2\n",
      "[################################################################################] 324/324\n",
      "[################################################################################] 2/2\n",
      "[################################################################################] 2/2\n",
      "[################################################################################] 324/324\n",
      "[################################################################################] 2/2\n",
      "[################################################################################] 2/2\n",
      "[################################################################################] 324/324\n",
      "[################################################################################] 2/2\n",
      "[################################################################################] 2/2\n",
      "[################################################################################] 324/324\n",
      "[################################################################################] 2/2\n",
      "[################################################################################] 2/2\n",
      "[################################################################################] 324/324\n",
      "[################################################################################] 2/2\n",
      "[################################################################################] 2/2\n",
      "[################################################################################] 324/324\n",
      "[################################################################################] 2/2\n",
      "[################################################################################] 2/2\n",
      "[################################################################################] 324/324\n",
      "[################################################################################] 2/2\n",
      "[################################################################################] 2/2\n",
      "[################################################################################] 324/324\n",
      "[################################################################################] 2/2\n",
      "[################################################################################] 2/2\n",
      "[################################################################################] 324/324\n",
      "[################################################################################] 2/2\n",
      "[################################################################################] 2/2\n",
      "[################################################################################] 324/324\n",
      "[################################################################################] 2/2\n",
      "[################################################################################] 2/2\n",
      "[################################################################################] 324/324\n",
      "[################################################################################] 2/2\n",
      "[################################################################################] 2/2\n",
      "[################################################################################] 324/324\n",
      "[################################################################################] 2/2\n",
      "[################################################################################] 2/2\n",
      "[################################################################################] 324/324\n",
      "[################################################################################] 2/2\n",
      "[################################################################################] 2/2\n",
      "[################################################################################] 324/324\n",
      "[################################################################################] 2/2\n",
      "[################################################################################] 2/2\n",
      "[################################################################################] 324/324\n",
      "[################################################################################] 2/2\n",
      "[################################################################################] 2/2\n",
      "[################################################################################] 324/324\n",
      "[################################################################################] 2/2\n",
      "[################################################################################] 2/2\n",
      "[################################################################################] 324/324\n",
      "[################################################################################] 2/2\n",
      "[################################################################################] 2/2\n",
      "[################################################################################] 324/324\n",
      "[################################################################################] 2/2\n",
      "[################################################################################] 2/2\n",
      "[################################################################################] 324/324\n",
      "[################################################################################] 2/2\n",
      "[################################################################################] 2/2\n",
      "[################################################################################] 324/324\n",
      "[################################################################################] 2/2\n",
      "[################################################################################] 2/2\n",
      "[################################################################################] 324/324\n",
      "[################################################################################] 2/2\n",
      "[################################################################################] 2/2\n",
      "[################################################################################] 324/324\n",
      "[################################################################################] 2/2\n",
      "[################################################################################] 2/2\n",
      "[################################################################################] 324/324\n",
      "[################################################################################] 2/2\n",
      "[################################################################################] 2/2\n",
      "[################################################################################] 324/324\n",
      "[################################################################################] 2/2\n",
      "[################################################################################] 2/2\n",
      "[################################################################################] 324/324\n",
      "[################################################################################] 2/2\n",
      "[################################################################################] 2/2\n",
      "[################################################################################] 324/324\n",
      "[################################################################################] 2/2\n",
      "[################################################################################] 2/2\n",
      "[################################################################################] 324/324\n",
      "[################################################################################] 2/2\n",
      "[################################################################################] 2/2\n",
      "[################################################################################] 324/324\n",
      "[################################################################################] 2/2\n",
      "[################################################################################] 2/2\n",
      "[################################################################################] 324/324\n",
      "[################################################################################] 2/2\n",
      "[################################################################################] 2/2\n",
      "[################################################################################] 324/324\n",
      "[################################################################################] 2/2\n",
      "[################################################################################] 2/2\n",
      "[################################################################################] 324/324\n",
      "[################################################################################] 2/2\n",
      "[################################################################################] 2/2\n",
      "[################################################################################] 324/324\n",
      "[################################################################################] 2/2\n",
      "[################################################################################] 2/2\n",
      "[################################################################################] 324/324\n",
      "[################################################################################] 2/2\n",
      "[################################################################################] 2/2\n",
      "[################################################################################] 324/324\n",
      "[################################################################################] 2/2\n",
      "[################################################################################] 2/2\n",
      "[################################################################################] 324/324\n",
      "[################################################################################] 2/2\n",
      "[################################################################################] 2/2\n",
      "[################################################################################] 324/324\n",
      "[################################################################################] 2/2\n",
      "[################################################################################] 2/2\n",
      "[################################################################################] 324/324\n",
      "[################################################################################] 2/2\n",
      "[################################################################################] 2/2\n"
     ]
    }
   ],
   "source": [
    "# torchCV.sCrossValidate(X, Y, classifier, foldsize=ntrain, cv=3, \n",
    "#                        fit_params=params, scores=[accuracy_clip], predict=True)\n",
    "results = torchCV.sCrossValidate(X, Y, classifier, ratio=0.97, foldsize=ntrain, cv=100, fine=2,\n",
    "                       fit_params=params, predict=True)"
   ]
  },
  {
   "cell_type": "code",
   "execution_count": 134,
   "metadata": {},
   "outputs": [
    {
     "data": {
      "text/plain": [
       "100"
      ]
     },
     "execution_count": 134,
     "metadata": {},
     "output_type": "execute_result"
    }
   ],
   "source": [
    "len(results)"
   ]
  },
  {
   "cell_type": "code",
   "execution_count": 135,
   "metadata": {},
   "outputs": [],
   "source": [
    "metrics = pd.DataFrame(results, columns=['idx', 'trainac', 'validac', 'accpred', 'predb0', 'predb1', 'y' ])"
   ]
  },
  {
   "cell_type": "markdown",
   "metadata": {},
   "source": [
    "### Need to run cross-validation again \n",
    "\n"
   ]
  },
  {
   "cell_type": "code",
   "execution_count": 136,
   "metadata": {},
   "outputs": [
    {
     "data": {
      "text/html": [
       "<div>\n",
       "<style scoped>\n",
       "    .dataframe tbody tr th:only-of-type {\n",
       "        vertical-align: middle;\n",
       "    }\n",
       "\n",
       "    .dataframe tbody tr th {\n",
       "        vertical-align: top;\n",
       "    }\n",
       "\n",
       "    .dataframe thead th {\n",
       "        text-align: right;\n",
       "    }\n",
       "</style>\n",
       "<table border=\"1\" class=\"dataframe\">\n",
       "  <thead>\n",
       "    <tr style=\"text-align: right;\">\n",
       "      <th></th>\n",
       "      <th>idx</th>\n",
       "      <th>trainac</th>\n",
       "      <th>validac</th>\n",
       "      <th>accpred</th>\n",
       "      <th>predb0</th>\n",
       "      <th>predb1</th>\n",
       "      <th>y</th>\n",
       "    </tr>\n",
       "  </thead>\n",
       "  <tbody>\n",
       "    <tr>\n",
       "      <th>0</th>\n",
       "      <td>8553.0</td>\n",
       "      <td>0.773822</td>\n",
       "      <td>0.727273</td>\n",
       "      <td>1.0</td>\n",
       "      <td>0.515152</td>\n",
       "      <td>0.484848</td>\n",
       "      <td>0.0</td>\n",
       "    </tr>\n",
       "    <tr>\n",
       "      <th>1</th>\n",
       "      <td>8552.0</td>\n",
       "      <td>0.785110</td>\n",
       "      <td>0.727273</td>\n",
       "      <td>0.0</td>\n",
       "      <td>0.494419</td>\n",
       "      <td>0.505581</td>\n",
       "      <td>0.0</td>\n",
       "    </tr>\n",
       "    <tr>\n",
       "      <th>2</th>\n",
       "      <td>8551.0</td>\n",
       "      <td>0.764923</td>\n",
       "      <td>0.734266</td>\n",
       "      <td>0.0</td>\n",
       "      <td>0.433459</td>\n",
       "      <td>0.566541</td>\n",
       "      <td>0.0</td>\n",
       "    </tr>\n",
       "    <tr>\n",
       "      <th>3</th>\n",
       "      <td>8550.0</td>\n",
       "      <td>0.772954</td>\n",
       "      <td>0.727273</td>\n",
       "      <td>0.0</td>\n",
       "      <td>0.679305</td>\n",
       "      <td>0.320695</td>\n",
       "      <td>1.0</td>\n",
       "    </tr>\n",
       "    <tr>\n",
       "      <th>4</th>\n",
       "      <td>8549.0</td>\n",
       "      <td>0.782505</td>\n",
       "      <td>0.713287</td>\n",
       "      <td>0.0</td>\n",
       "      <td>0.578751</td>\n",
       "      <td>0.421249</td>\n",
       "      <td>1.0</td>\n",
       "    </tr>\n",
       "  </tbody>\n",
       "</table>\n",
       "</div>"
      ],
      "text/plain": [
       "      idx   trainac   validac  accpred    predb0    predb1    y\n",
       "0  8553.0  0.773822  0.727273      1.0  0.515152  0.484848  0.0\n",
       "1  8552.0  0.785110  0.727273      0.0  0.494419  0.505581  0.0\n",
       "2  8551.0  0.764923  0.734266      0.0  0.433459  0.566541  0.0\n",
       "3  8550.0  0.772954  0.727273      0.0  0.679305  0.320695  1.0\n",
       "4  8549.0  0.782505  0.713287      0.0  0.578751  0.421249  1.0"
      ]
     },
     "execution_count": 136,
     "metadata": {},
     "output_type": "execute_result"
    }
   ],
   "source": [
    "metrics.head()"
   ]
  },
  {
   "cell_type": "code",
   "execution_count": 137,
   "metadata": {},
   "outputs": [],
   "source": [
    "metrics.idx = metrics.idx.values.astype(int)\n",
    "metrics.y = metrics.y.values.astype(int)"
   ]
  },
  {
   "cell_type": "markdown",
   "metadata": {},
   "source": [
    "#### What is the best cut-off\n",
    "\n",
    "Better do interactvly cutting and calculating the percentage... of data  \n",
    "should also vary at the same time the model score to see where is the best  \n",
    "balance between data-percentage and accuracy. "
   ]
  },
  {
   "cell_type": "code",
   "execution_count": 138,
   "metadata": {},
   "outputs": [],
   "source": [
    "metrics['probmax'] = metrics.apply(lambda x:  max(x.predb0, x.predb1), axis=1)"
   ]
  },
  {
   "cell_type": "code",
   "execution_count": 139,
   "metadata": {},
   "outputs": [
    {
     "name": "stderr",
     "output_type": "stream",
     "text": [
      "/home/andre/anaconda3/lib/python3.6/site-packages/scipy/stats/stats.py:1713: FutureWarning: Using a non-tuple sequence for multidimensional indexing is deprecated; use `arr[tuple(seq)]` instead of `arr[seq]`. In the future this will be interpreted as an array index, `arr[np.array(seq)]`, which will result either in an error or a different result.\n",
      "  return np.add.reduce(sorted[indexer] * weights, axis=axis) / sumval\n"
     ]
    },
    {
     "data": {
      "text/plain": [
       "<seaborn.axisgrid.JointGrid at 0x7f53201ba2e8>"
      ]
     },
     "execution_count": 139,
     "metadata": {},
     "output_type": "execute_result"
    },
    {
     "data": {
      "image/png": "[encoded data removed]",
      "text/plain": [
       "<Figure size 432x432 with 3 Axes>"
      ]
     },
     "metadata": {
      "needs_background": "light"
     },
     "output_type": "display_data"
    }
   ],
   "source": [
    "sns.jointplot(metrics.accpred, metrics.probmax, kind='kde')"
   ]
  },
  {
   "cell_type": "markdown",
   "metadata": {},
   "source": [
    "### Jointplot above suggests 0.8 of cut-off"
   ]
  },
  {
   "cell_type": "code",
   "execution_count": 140,
   "metadata": {},
   "outputs": [
    {
     "data": {
      "text/plain": [
       "<matplotlib.axes._subplots.AxesSubplot at 0x7f53200ce390>"
      ]
     },
     "execution_count": 140,
     "metadata": {},
     "output_type": "execute_result"
    },
    {
     "data": {
      "image/png": "[encoded data removed]",
      "text/plain": [
       "<Figure size 432x288 with 1 Axes>"
      ]
     },
     "metadata": {
      "needs_background": "light"
     },
     "output_type": "display_data"
    }
   ],
   "source": [
    "metrics.accpred.hist()"
   ]
  },
  {
   "cell_type": "code",
   "execution_count": 141,
   "metadata": {},
   "outputs": [
    {
     "data": {
      "text/plain": [
       "0.68"
      ]
     },
     "execution_count": 141,
     "metadata": {},
     "output_type": "execute_result"
    }
   ],
   "source": [
    "np.mean(metrics.accpred)"
   ]
  },
  {
   "cell_type": "code",
   "execution_count": 142,
   "metadata": {},
   "outputs": [],
   "source": [
    "import talib as ta"
   ]
  },
  {
   "cell_type": "markdown",
   "metadata": {},
   "source": [
    "### Average Accuracy by day"
   ]
  },
  {
   "cell_type": "code",
   "execution_count": 245,
   "metadata": {
    "scrolled": true
   },
   "outputs": [
    {
     "name": "stdout",
     "output_type": "stream",
     "text": [
      "[0.   0.25 0.5  0.75 1.  ]\n"
     ]
    },
    {
     "data": {
      "image/png": "[encoded data removed]",
      "text/plain": [
       "<Figure size 288x144 with 1 Axes>"
      ]
     },
     "metadata": {
      "needs_background": "light"
     },
     "output_type": "display_data"
    }
   ],
   "source": [
    "metrics['davpredac'] = ta.SMA(metrics.accpred.values, 4)\n",
    "plt.figure(figsize=(4,2))\n",
    "plt.hist(metrics.davpredac.dropna());\n",
    "print(np.percentile(metrics.davpredac.dropna().values, (0, 1, 10, 50, 90)))\n",
    "# davpredac_c = ta.SMA(metrics.predac_c.dropna().astype(np.double), 4)\n",
    "# plt.figure(figsize=(4,2))\n",
    "# plt.hist(davpredac_c.dropna());\n",
    "# print(np.percentile(davpredac_c.dropna(), (0, 1, 10, 50, 90)))"
   ]
  },
  {
   "cell_type": "markdown",
   "metadata": {},
   "source": [
    "### Average Accuracy by week"
   ]
  },
  {
   "cell_type": "code",
   "execution_count": 246,
   "metadata": {},
   "outputs": [
    {
     "name": "stdout",
     "output_type": "stream",
     "text": [
      "[0.5  0.55 0.6  0.75 0.85]\n"
     ]
    },
    {
     "data": {
      "image/png": "[encoded data removed]",
      "text/plain": [
       "<Figure size 288x144 with 1 Axes>"
      ]
     },
     "metadata": {
      "needs_background": "light"
     },
     "output_type": "display_data"
    }
   ],
   "source": [
    "metrics['wavpredac'] = ta.SMA(metrics.accpred.values, 20)\n",
    "plt.figure(figsize=(4,2))\n",
    "plt.hist(metrics.wavpredac.dropna());\n",
    "print(np.percentile(metrics.wavpredac.dropna().values, (0, 1, 10, 50, 90)))\n",
    "# wavpredac_c = ta.SMA(metrics.predac_c.dropna().astype(np.double), 20)\n",
    "# plt.figure(figsize=(4,2))\n",
    "# plt.hist(wavpredac_c.dropna());\n",
    "# print(np.percentile(wavpredac_c.dropna(), (0, 1, 10, 50, 90)))"
   ]
  },
  {
   "cell_type": "code",
   "execution_count": 247,
   "metadata": {},
   "outputs": [],
   "source": [
    "metrics['modelscore'] = np.sqrt(metrics.trainac*metrics.validac)"
   ]
  },
  {
   "cell_type": "code",
   "execution_count": 248,
   "metadata": {},
   "outputs": [
    {
     "name": "stderr",
     "output_type": "stream",
     "text": [
      "/home/andre/anaconda3/lib/python3.6/site-packages/scipy/stats/stats.py:1713: FutureWarning: Using a non-tuple sequence for multidimensional indexing is deprecated; use `arr[tuple(seq)]` instead of `arr[seq]`. In the future this will be interpreted as an array index, `arr[np.array(seq)]`, which will result either in an error or a different result.\n",
      "  return np.add.reduce(sorted[indexer] * weights, axis=axis) / sumval\n"
     ]
    },
    {
     "data": {
      "text/plain": [
       "<seaborn.axisgrid.JointGrid at 0x7fd4957ff080>"
      ]
     },
     "execution_count": 248,
     "metadata": {},
     "output_type": "execute_result"
    },
    {
     "data": {
      "image/png": "[encoded data removed]",
      "text/plain": [
       "<Figure size 432x432 with 3 Axes>"
      ]
     },
     "metadata": {
      "needs_background": "light"
     },
     "output_type": "display_data"
    }
   ],
   "source": [
    "sns.jointplot(metrics.modelscore, metrics.wavpredac, kind='kde')"
   ]
  },
  {
   "cell_type": "code",
   "execution_count": 249,
   "metadata": {
    "scrolled": true
   },
   "outputs": [
    {
     "name": "stdout",
     "output_type": "stream",
     "text": [
      "[0.5  0.55 0.6  0.75 0.85]\n"
     ]
    }
   ],
   "source": [
    "print(np.percentile(metrics.wavpredac[ metrics.modelscore > 0.525 ].dropna(), (0, 1, 10, 50, 90)))"
   ]
  },
  {
   "cell_type": "code",
   "execution_count": 250,
   "metadata": {},
   "outputs": [
    {
     "data": {
      "text/plain": [
       "0.1120162932790224"
      ]
     },
     "execution_count": 250,
     "metadata": {},
     "output_type": "execute_result"
    }
   ],
   "source": [
    "len(metrics.wavpredac[ metrics.modelscore > 0.78 ].dropna())/len(metrics.wavpredac.dropna())"
   ]
  },
  {
   "cell_type": "code",
   "execution_count": 251,
   "metadata": {},
   "outputs": [
    {
     "data": {
      "text/html": [
       "<div>\n",
       "<style scoped>\n",
       "    .dataframe tbody tr th:only-of-type {\n",
       "        vertical-align: middle;\n",
       "    }\n",
       "\n",
       "    .dataframe tbody tr th {\n",
       "        vertical-align: top;\n",
       "    }\n",
       "\n",
       "    .dataframe thead th {\n",
       "        text-align: right;\n",
       "    }\n",
       "</style>\n",
       "<table border=\"1\" class=\"dataframe\">\n",
       "  <thead>\n",
       "    <tr style=\"text-align: right;\">\n",
       "      <th></th>\n",
       "      <th>idx</th>\n",
       "      <th>trainac</th>\n",
       "      <th>validac</th>\n",
       "      <th>accpred</th>\n",
       "      <th>predb0</th>\n",
       "      <th>predb1</th>\n",
       "      <th>y</th>\n",
       "      <th>probmax</th>\n",
       "      <th>davpredac</th>\n",
       "      <th>wavpredac</th>\n",
       "      <th>modelscore</th>\n",
       "    </tr>\n",
       "  </thead>\n",
       "  <tbody>\n",
       "    <tr>\n",
       "      <th>991</th>\n",
       "      <td>7562</td>\n",
       "      <td>0.765140</td>\n",
       "      <td>0.748252</td>\n",
       "      <td>1.0</td>\n",
       "      <td>0.975076</td>\n",
       "      <td>0.024924</td>\n",
       "      <td>0</td>\n",
       "      <td>0.975076</td>\n",
       "      <td>0.75</td>\n",
       "      <td>0.80</td>\n",
       "      <td>0.756649</td>\n",
       "    </tr>\n",
       "    <tr>\n",
       "      <th>992</th>\n",
       "      <td>7561</td>\n",
       "      <td>0.775342</td>\n",
       "      <td>0.790210</td>\n",
       "      <td>1.0</td>\n",
       "      <td>0.016072</td>\n",
       "      <td>0.983928</td>\n",
       "      <td>1</td>\n",
       "      <td>0.983928</td>\n",
       "      <td>0.75</td>\n",
       "      <td>0.85</td>\n",
       "      <td>0.782741</td>\n",
       "    </tr>\n",
       "    <tr>\n",
       "      <th>993</th>\n",
       "      <td>7560</td>\n",
       "      <td>0.778381</td>\n",
       "      <td>0.797203</td>\n",
       "      <td>0.0</td>\n",
       "      <td>0.133723</td>\n",
       "      <td>0.866277</td>\n",
       "      <td>0</td>\n",
       "      <td>0.866277</td>\n",
       "      <td>0.50</td>\n",
       "      <td>0.80</td>\n",
       "      <td>0.787736</td>\n",
       "    </tr>\n",
       "    <tr>\n",
       "      <th>994</th>\n",
       "      <td>7559</td>\n",
       "      <td>0.779466</td>\n",
       "      <td>0.783217</td>\n",
       "      <td>1.0</td>\n",
       "      <td>0.908716</td>\n",
       "      <td>0.091284</td>\n",
       "      <td>0</td>\n",
       "      <td>0.908716</td>\n",
       "      <td>0.75</td>\n",
       "      <td>0.80</td>\n",
       "      <td>0.781339</td>\n",
       "    </tr>\n",
       "    <tr>\n",
       "      <th>995</th>\n",
       "      <td>7558</td>\n",
       "      <td>0.769264</td>\n",
       "      <td>0.790210</td>\n",
       "      <td>1.0</td>\n",
       "      <td>0.997378</td>\n",
       "      <td>0.002622</td>\n",
       "      <td>0</td>\n",
       "      <td>0.997378</td>\n",
       "      <td>0.75</td>\n",
       "      <td>0.85</td>\n",
       "      <td>0.779667</td>\n",
       "    </tr>\n",
       "    <tr>\n",
       "      <th>996</th>\n",
       "      <td>7557</td>\n",
       "      <td>0.780551</td>\n",
       "      <td>0.769231</td>\n",
       "      <td>1.0</td>\n",
       "      <td>0.059932</td>\n",
       "      <td>0.940068</td>\n",
       "      <td>1</td>\n",
       "      <td>0.940068</td>\n",
       "      <td>0.75</td>\n",
       "      <td>0.90</td>\n",
       "      <td>0.774870</td>\n",
       "    </tr>\n",
       "    <tr>\n",
       "      <th>997</th>\n",
       "      <td>7556</td>\n",
       "      <td>0.778815</td>\n",
       "      <td>0.776224</td>\n",
       "      <td>1.0</td>\n",
       "      <td>0.986574</td>\n",
       "      <td>0.013426</td>\n",
       "      <td>0</td>\n",
       "      <td>0.986574</td>\n",
       "      <td>1.00</td>\n",
       "      <td>0.90</td>\n",
       "      <td>0.777518</td>\n",
       "    </tr>\n",
       "    <tr>\n",
       "      <th>998</th>\n",
       "      <td>7555</td>\n",
       "      <td>0.778815</td>\n",
       "      <td>0.797203</td>\n",
       "      <td>1.0</td>\n",
       "      <td>0.037894</td>\n",
       "      <td>0.962106</td>\n",
       "      <td>1</td>\n",
       "      <td>0.962106</td>\n",
       "      <td>1.00</td>\n",
       "      <td>0.90</td>\n",
       "      <td>0.787955</td>\n",
       "    </tr>\n",
       "    <tr>\n",
       "      <th>999</th>\n",
       "      <td>7554</td>\n",
       "      <td>0.779683</td>\n",
       "      <td>0.790210</td>\n",
       "      <td>0.0</td>\n",
       "      <td>0.226118</td>\n",
       "      <td>0.773882</td>\n",
       "      <td>0</td>\n",
       "      <td>0.773882</td>\n",
       "      <td>0.75</td>\n",
       "      <td>0.85</td>\n",
       "      <td>0.784929</td>\n",
       "    </tr>\n",
       "    <tr>\n",
       "      <th>1000</th>\n",
       "      <td>7553</td>\n",
       "      <td>0.785110</td>\n",
       "      <td>0.797203</td>\n",
       "      <td>1.0</td>\n",
       "      <td>0.977114</td>\n",
       "      <td>0.022886</td>\n",
       "      <td>0</td>\n",
       "      <td>0.977114</td>\n",
       "      <td>0.75</td>\n",
       "      <td>0.85</td>\n",
       "      <td>0.791133</td>\n",
       "    </tr>\n",
       "  </tbody>\n",
       "</table>\n",
       "</div>"
      ],
      "text/plain": [
       "       idx   trainac   validac  accpred    predb0    predb1  y   probmax  \\\n",
       "991   7562  0.765140  0.748252      1.0  0.975076  0.024924  0  0.975076   \n",
       "992   7561  0.775342  0.790210      1.0  0.016072  0.983928  1  0.983928   \n",
       "993   7560  0.778381  0.797203      0.0  0.133723  0.866277  0  0.866277   \n",
       "994   7559  0.779466  0.783217      1.0  0.908716  0.091284  0  0.908716   \n",
       "995   7558  0.769264  0.790210      1.0  0.997378  0.002622  0  0.997378   \n",
       "996   7557  0.780551  0.769231      1.0  0.059932  0.940068  1  0.940068   \n",
       "997   7556  0.778815  0.776224      1.0  0.986574  0.013426  0  0.986574   \n",
       "998   7555  0.778815  0.797203      1.0  0.037894  0.962106  1  0.962106   \n",
       "999   7554  0.779683  0.790210      0.0  0.226118  0.773882  0  0.773882   \n",
       "1000  7553  0.785110  0.797203      1.0  0.977114  0.022886  0  0.977114   \n",
       "\n",
       "      davpredac  wavpredac  modelscore  \n",
       "991        0.75       0.80    0.756649  \n",
       "992        0.75       0.85    0.782741  \n",
       "993        0.50       0.80    0.787736  \n",
       "994        0.75       0.80    0.781339  \n",
       "995        0.75       0.85    0.779667  \n",
       "996        0.75       0.90    0.774870  \n",
       "997        1.00       0.90    0.777518  \n",
       "998        1.00       0.90    0.787955  \n",
       "999        0.75       0.85    0.784929  \n",
       "1000       0.75       0.85    0.791133  "
      ]
     },
     "execution_count": 251,
     "metadata": {},
     "output_type": "execute_result"
    }
   ],
   "source": [
    "metrics[-10:]"
   ]
  },
  {
   "cell_type": "code",
   "execution_count": 252,
   "metadata": {},
   "outputs": [
    {
     "data": {
      "text/plain": [
       "1001"
      ]
     },
     "execution_count": 252,
     "metadata": {},
     "output_type": "execute_result"
    }
   ],
   "source": [
    "len(results)"
   ]
  },
  {
   "cell_type": "code",
   "execution_count": 253,
   "metadata": {},
   "outputs": [],
   "source": [
    "def probability(values):\n",
    "    percentiles = np.percentile(values, [0, 1, 10, 50, 90])\n",
    "    print('percentiles are ', percentiles)\n",
    "    import matplotlib.ticker as plticker\n",
    "    loc = plticker.MultipleLocator(base=1.0) # this locator puts ticks at regular intervals\n",
    "    fig = plt.figure(figsize=(10,4))\n",
    "    ax1 = fig.add_subplot(211);\n",
    "    ax1.hist(values, bins=20, density=True);\n",
    "    #ax1.set_xlim(percentiles[0], 5)\n",
    "    ax1.xaxis.set_major_locator(loc)\n",
    "    ax1.grid()\n",
    "    ax2 = fig.add_subplot(212, sharex=ax1)\n",
    "    ax2.hist(values, bins=20, density=True, cumulative=True);\n",
    "    ax2.xaxis.set_major_locator(loc)\n",
    "    ax2.set_ylabel('cumulative percentage (%)')\n",
    "    ax2.grid()"
   ]
  },
  {
   "cell_type": "code",
   "execution_count": 254,
   "metadata": {},
   "outputs": [
    {
     "name": "stdout",
     "output_type": "stream",
     "text": [
      "percentiles are  [0.55 0.55 0.6  0.75 0.85]\n"
     ]
    },
    {
     "data": {
      "image/png": "[encoded data removed]",
      "text/plain": [
       "<Figure size 720x288 with 2 Axes>"
      ]
     },
     "metadata": {
      "needs_background": "light"
     },
     "output_type": "display_data"
    }
   ],
   "source": [
    "probability(metrics.wavpredac[ metrics.probmax > 0.95 ].dropna());"
   ]
  },
  {
   "cell_type": "code",
   "execution_count": 256,
   "metadata": {},
   "outputs": [
    {
     "data": {
      "text/plain": [
       "0.5444555444555444"
      ]
     },
     "execution_count": 256,
     "metadata": {},
     "output_type": "execute_result"
    }
   ],
   "source": [
    "len(metrics.wavpredac[ metrics.probmax > 0.95 ].dropna())/1001"
   ]
  },
  {
   "cell_type": "code",
   "execution_count": null,
   "metadata": {},
   "outputs": [],
   "source": []
  }
 ],
 "metadata": {
  "kernelspec": {
   "display_name": "Python 3",
   "language": "python",
   "name": "python3"
  },
  "language_info": {
   "codemirror_mode": {
    "name": "ipython",
    "version": 3
   },
   "file_extension": ".py",
   "mimetype": "text/x-python",
   "name": "python",
   "nbconvert_exporter": "python",
   "pygments_lexer": "ipython3",
   "version": "3.6.8"
  }
 },
 "nbformat": 4,
 "nbformat_minor": 2
}
