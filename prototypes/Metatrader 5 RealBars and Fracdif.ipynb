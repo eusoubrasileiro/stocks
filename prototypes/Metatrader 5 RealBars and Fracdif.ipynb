{
 "cells": [
  {
   "cell_type": "code",
   "execution_count": 1,
   "metadata": {},
   "outputs": [],
   "source": [
    "%matplotlib inline\n",
    "from matplotlib import pyplot as plt"
   ]
  },
  {
   "cell_type": "code",
   "execution_count": 2,
   "metadata": {},
   "outputs": [],
   "source": [
    "import numpy as np\n",
    "import os\n",
    "import pandas as pd\n",
    "\n",
    "moneybar_dtype = np.dtype([\n",
    "    (\"bid\", np.float64),\n",
    "    (\"ask\", np.float64),\n",
    "    (\"mlast\", np.float64),\n",
    "    (\"msc\", np.int64)\n",
    "])"
   ]
  },
  {
   "cell_type": "code",
   "execution_count": 3,
   "metadata": {},
   "outputs": [
    {
     "name": "stdout",
     "output_type": "stream",
     "text": [
      "D:\\Users\\andre.ferreira\\AppData\\Roaming\\MetaQuotes\\Terminal\\8B052D0699A0083067EBF3A36123603B\\MQL5\\Files\n"
     ]
    }
   ],
   "source": [
    "cd D:\\Users\\andre.ferreira\\AppData\\Roaming\\MetaQuotes\\Terminal\\8B052D0699A0083067EBF3A36123603B\\MQL5\\Files"
   ]
  },
  {
   "cell_type": "code",
   "execution_count": 4,
   "metadata": {},
   "outputs": [
    {
     "name": "stdout",
     "output_type": "stream",
     "text": [
      "[WinError 3] O sistema não pode encontrar o caminho especificado: 'D:\\\\MetaTrader 5\\\\hard_link_AppDataRoamingMetaQuotes_Terminal\\\\8B052D0699A0083067EBF3A36123603B\\\\MQL5\\\\Files'\n",
      "D:\\Users\\andre.ferreira\\AppData\\Roaming\\MetaQuotes\\Terminal\\8B052D0699A0083067EBF3A36123603B\\MQL5\\Files\n"
     ]
    }
   ],
   "source": [
    "cd D:\\MetaTrader 5\\hard_link_AppDataRoamingMetaQuotes_Terminal\\8B052D0699A0083067EBF3A36123603B\\MQL5\\Files"
   ]
  },
  {
   "cell_type": "code",
   "execution_count": 5,
   "metadata": {},
   "outputs": [],
   "source": [
    "data = np.fromfile('WINV19_0.5_mbar.bin', dtype=moneybar_dtype)"
   ]
  },
  {
   "cell_type": "code",
   "execution_count": 6,
   "metadata": {},
   "outputs": [
    {
     "data": {
      "text/plain": [
       "mappingproxy({'bid': (dtype('float64'), 0),\n",
       "              'ask': (dtype('float64'), 8),\n",
       "              'mlast': (dtype('float64'), 16),\n",
       "              'msc': (dtype('int64'), 24)})"
      ]
     },
     "execution_count": 6,
     "metadata": {},
     "output_type": "execute_result"
    }
   ],
   "source": [
    "moneybar_dtype.fields"
   ]
  },
  {
   "cell_type": "code",
   "execution_count": 7,
   "metadata": {},
   "outputs": [],
   "source": [
    "dfdata = pd.DataFrame.from_records(data)"
   ]
  },
  {
   "cell_type": "code",
   "execution_count": 8,
   "metadata": {},
   "outputs": [],
   "source": [
    "#dfdata.msc = dfdata.msc.astype('datetime64[ms]')"
   ]
  },
  {
   "cell_type": "code",
   "execution_count": 9,
   "metadata": {},
   "outputs": [
    {
     "data": {
      "text/html": [
       "<div>\n",
       "<style scoped>\n",
       "    .dataframe tbody tr th:only-of-type {\n",
       "        vertical-align: middle;\n",
       "    }\n",
       "\n",
       "    .dataframe tbody tr th {\n",
       "        vertical-align: top;\n",
       "    }\n",
       "\n",
       "    .dataframe thead th {\n",
       "        text-align: right;\n",
       "    }\n",
       "</style>\n",
       "<table border=\"1\" class=\"dataframe\">\n",
       "  <thead>\n",
       "    <tr style=\"text-align: right;\">\n",
       "      <th></th>\n",
       "      <th>bid</th>\n",
       "      <th>ask</th>\n",
       "      <th>mlast</th>\n",
       "      <th>msc</th>\n",
       "    </tr>\n",
       "  </thead>\n",
       "  <tbody>\n",
       "    <tr>\n",
       "      <th>0</th>\n",
       "      <td>102535.0</td>\n",
       "      <td>102540.0</td>\n",
       "      <td>102540.0</td>\n",
       "      <td>1570205592357</td>\n",
       "    </tr>\n",
       "    <tr>\n",
       "      <th>1</th>\n",
       "      <td>102535.0</td>\n",
       "      <td>102540.0</td>\n",
       "      <td>102540.0</td>\n",
       "      <td>1570205592355</td>\n",
       "    </tr>\n",
       "    <tr>\n",
       "      <th>2</th>\n",
       "      <td>102535.0</td>\n",
       "      <td>102545.0</td>\n",
       "      <td>102540.0</td>\n",
       "      <td>1570205592354</td>\n",
       "    </tr>\n",
       "    <tr>\n",
       "      <th>3</th>\n",
       "      <td>102535.0</td>\n",
       "      <td>102540.0</td>\n",
       "      <td>102540.0</td>\n",
       "      <td>1570205592352</td>\n",
       "    </tr>\n",
       "    <tr>\n",
       "      <th>4</th>\n",
       "      <td>102535.0</td>\n",
       "      <td>102540.0</td>\n",
       "      <td>102540.0</td>\n",
       "      <td>1570205592352</td>\n",
       "    </tr>\n",
       "  </tbody>\n",
       "</table>\n",
       "</div>"
      ],
      "text/plain": [
       "        bid       ask     mlast            msc\n",
       "0  102535.0  102540.0  102540.0  1570205592357\n",
       "1  102535.0  102540.0  102540.0  1570205592355\n",
       "2  102535.0  102545.0  102540.0  1570205592354\n",
       "3  102535.0  102540.0  102540.0  1570205592352\n",
       "4  102535.0  102540.0  102540.0  1570205592352"
      ]
     },
     "execution_count": 9,
     "metadata": {},
     "output_type": "execute_result"
    }
   ],
   "source": [
    "dfdata.head()"
   ]
  },
  {
   "cell_type": "code",
   "execution_count": 10,
   "metadata": {},
   "outputs": [],
   "source": [
    "dfdata.set_index(dfdata.msc, drop=True, inplace=True)"
   ]
  },
  {
   "cell_type": "code",
   "execution_count": 11,
   "metadata": {},
   "outputs": [],
   "source": [
    "dfdata.sort_index(inplace=True)"
   ]
  },
  {
   "cell_type": "code",
   "execution_count": 12,
   "metadata": {},
   "outputs": [],
   "source": [
    "dfdata.drop(columns='msc', inplace=True)"
   ]
  },
  {
   "cell_type": "code",
   "execution_count": 13,
   "metadata": {},
   "outputs": [
    {
     "data": {
      "text/html": [
       "<div>\n",
       "<style scoped>\n",
       "    .dataframe tbody tr th:only-of-type {\n",
       "        vertical-align: middle;\n",
       "    }\n",
       "\n",
       "    .dataframe tbody tr th {\n",
       "        vertical-align: top;\n",
       "    }\n",
       "\n",
       "    .dataframe thead th {\n",
       "        text-align: right;\n",
       "    }\n",
       "</style>\n",
       "<table border=\"1\" class=\"dataframe\">\n",
       "  <thead>\n",
       "    <tr style=\"text-align: right;\">\n",
       "      <th></th>\n",
       "      <th>bid</th>\n",
       "      <th>ask</th>\n",
       "      <th>mlast</th>\n",
       "    </tr>\n",
       "    <tr>\n",
       "      <th>msc</th>\n",
       "      <th></th>\n",
       "      <th></th>\n",
       "      <th></th>\n",
       "    </tr>\n",
       "  </thead>\n",
       "  <tbody>\n",
       "    <tr>\n",
       "      <th>1569321349387</th>\n",
       "      <td>104720.0</td>\n",
       "      <td>104725.0</td>\n",
       "      <td>104725.0</td>\n",
       "    </tr>\n",
       "    <tr>\n",
       "      <th>1569321349387</th>\n",
       "      <td>104720.0</td>\n",
       "      <td>104725.0</td>\n",
       "      <td>104725.0</td>\n",
       "    </tr>\n",
       "    <tr>\n",
       "      <th>1569321349387</th>\n",
       "      <td>104720.0</td>\n",
       "      <td>104725.0</td>\n",
       "      <td>104725.0</td>\n",
       "    </tr>\n",
       "    <tr>\n",
       "      <th>1569321349389</th>\n",
       "      <td>104720.0</td>\n",
       "      <td>104725.0</td>\n",
       "      <td>104725.0</td>\n",
       "    </tr>\n",
       "    <tr>\n",
       "      <th>1569321349389</th>\n",
       "      <td>104720.0</td>\n",
       "      <td>104725.0</td>\n",
       "      <td>104725.0</td>\n",
       "    </tr>\n",
       "  </tbody>\n",
       "</table>\n",
       "</div>"
      ],
      "text/plain": [
       "                    bid       ask     mlast\n",
       "msc                                        \n",
       "1569321349387  104720.0  104725.0  104725.0\n",
       "1569321349387  104720.0  104725.0  104725.0\n",
       "1569321349387  104720.0  104725.0  104725.0\n",
       "1569321349389  104720.0  104725.0  104725.0\n",
       "1569321349389  104720.0  104725.0  104725.0"
      ]
     },
     "execution_count": 13,
     "metadata": {},
     "output_type": "execute_result"
    }
   ],
   "source": [
    "dfdata.head()"
   ]
  },
  {
   "cell_type": "code",
   "execution_count": 14,
   "metadata": {},
   "outputs": [],
   "source": [
    "dfdatadata = dfdata[:200000]"
   ]
  },
  {
   "cell_type": "markdown",
   "metadata": {},
   "source": [
    "### Velocity"
   ]
  },
  {
   "cell_type": "code",
   "execution_count": 15,
   "metadata": {},
   "outputs": [],
   "source": [
    "velocity = dfdata.index[1:]-dfdata.index[:-1]"
   ]
  },
  {
   "cell_type": "code",
   "execution_count": 16,
   "metadata": {},
   "outputs": [],
   "source": [
    "velocity = velocity.to_numpy()"
   ]
  },
  {
   "cell_type": "code",
   "execution_count": 17,
   "metadata": {},
   "outputs": [],
   "source": [
    "velocity[ velocity > 60000*60*4] = 0 # 4 hours"
   ]
  },
  {
   "cell_type": "code",
   "execution_count": 18,
   "metadata": {},
   "outputs": [],
   "source": [
    "velocity += 1"
   ]
  },
  {
   "cell_type": "code",
   "execution_count": 19,
   "metadata": {},
   "outputs": [],
   "source": [
    "velocity = 1/velocity"
   ]
  },
  {
   "cell_type": "code",
   "execution_count": 20,
   "metadata": {
    "scrolled": true
   },
   "outputs": [
    {
     "data": {
      "image/png": "[encoded data removed]",
      "text/plain": [
       "<Figure size 1080x288 with 2 Axes>"
      ]
     },
     "metadata": {
      "needs_background": "light"
     },
     "output_type": "display_data"
    }
   ],
   "source": [
    "fig, axr = plt.subplots(2, sharex=True, figsize=(15,4))\n",
    "axr[0].plot(dfdata.mlast.values[:-1], 'r', lw=0.6)\n",
    "axr[1].plot(velocity, 'k,', lw=0.8)\n",
    "axr[1].set_yscale('log')"
   ]
  },
  {
   "cell_type": "code",
   "execution_count": 21,
   "metadata": {},
   "outputs": [
    {
     "name": "stdout",
     "output_type": "stream",
     "text": [
      "D:\\Users\\andre.ferreira\\Projects\\stocks\\prototypes\n"
     ]
    }
   ],
   "source": [
    "cd D:\\Users\\andre.ferreira\\Projects\\stocks\\prototypes"
   ]
  },
  {
   "cell_type": "markdown",
   "metadata": {},
   "source": [
    "### Fractional Diferences - Preserving Memory in Stationary Time Series\n",
    "\n",
    "### First order derivative Fractional\n",
    "\n",
    "Finite diferences coeficientes backward for series can be written with following formula. \n",
    "Where $n$ is the derivative order, $h$ is the discrete increment in $t$ and $k$ is the order of the schema. \n",
    "\n",
    "$$ \\Delta^{n}_{h} f(t) = \\sum_{i=0}^{n} (-1)^{i} \\binom{n}{i} f\\left(t-ih\\right) $$\n",
    "\n",
    "for h=1 considering f(t) as discrete time series and using the notation $ f(t) = X_t $ we can write:\n",
    "\n",
    "\n",
    "$$ \\Delta^{n} X_t = \\sum_{i=0}^{n} (-1)^{i} \\binom{n}{i} X_{t-i} $$\n"
   ]
  },
  {
   "cell_type": "markdown",
   "metadata": {},
   "source": [
    "Considering the case where n=1 first order derivative. \n",
    "\n",
    "$$ \\Delta^{1} X_t = \\sum_{i=0}^{1} (-1)^{i} \\binom{1}{i} X_{t-i} $$\n"
   ]
  },
  {
   "cell_type": "markdown",
   "metadata": {},
   "source": [
    "$$ \\binom{n}{k} = \\frac{n!}{k! (n-k)!} $$"
   ]
  },
  {
   "cell_type": "markdown",
   "metadata": {},
   "source": [
    "$$ i(0) = \\frac{1!}{0!(1-0)!}X_{t-0} = X_t $$\n",
    "$$ i(1) = \\frac{1!}{1(1-1)!}X_{t-1} = -X_{t-1} $$\n",
    "\n",
    "We get equation bellow:\n",
    "$$ \\Delta^{1} X_t = \\sum_{i=0}^{1} (-1)^{i} \\binom{1}{i} X_{t-i} = X_t -X_{t-1} $$                             "
   ]
  },
  {
   "cell_type": "markdown",
   "metadata": {},
   "source": [
    "Using the notation for the lag operator $B$ defined for a time series $X_t$ as \n",
    "$ B X_t = X_{t-1} $.  Also polynomials of this operator are understood as repeated application, e.g. $B^2X_t=X_{t-2}$ . "
   ]
  },
  {
   "cell_type": "markdown",
   "metadata": {},
   "source": [
    "We can write \n",
    "\n",
    "$$ \\Delta^1 X_t = X_t - X_{t-1} = (1-B)^1 X_t $$\n",
    "\n",
    "BUT let's consider for while that we want the half or fractional derivative them we can expand $(1-B)^d$ using Binomial coefficients:"
   ]
  },
  {
   "cell_type": "markdown",
   "metadata": {},
   "source": [
    "![title](frac_differences.png)"
   ]
  },
  {
   "cell_type": "markdown",
   "metadata": {},
   "source": [
    "Those are the coeficients multiplying the time series $X_t$, $X_{t-1}$, $X_{t-2}$ etc. Like   \n",
    "\n",
    "\n",
    "$$ \\sum^{\\infty }_{k=0} \\frac{\\prod^{k-1}_{a=0} (d-a)(-B)^k }{k!} $$\n",
    "\n",
    "\n",
    "$$ 1X_t - dB X_t + \\frac{d(d-1)}{2!}B^2X_t - ... =  X_t - dX_{t-1} + \\frac{d(d-1)}{2!}X_{t-2} - ... $$\n",
    "\n",
    "\n",
    "\n",
    "\n",
    "\n"
   ]
  },
  {
   "cell_type": "markdown",
   "metadata": {},
   "source": [
    "## Better original book pages"
   ]
  },
  {
   "cell_type": "markdown",
   "metadata": {},
   "source": [
    "![title](frac_dif_1.png)"
   ]
  },
  {
   "cell_type": "markdown",
   "metadata": {},
   "source": [
    "![title](frac_dif_2.png)"
   ]
  },
  {
   "cell_type": "markdown",
   "metadata": {},
   "source": [
    "### Filter weights calculation\n",
    "\n",
    "- for k = 0 until we desire. \n",
    "- w0 = 1\n",
    "- as k goes to inf. the weights corresponds to coeficients of more negative samples"
   ]
  },
  {
   "cell_type": "markdown",
   "metadata": {},
   "source": [
    "$$ \\omega_{k} = -\\omega_{k-1}\\frac{d-k+1}{k} $$"
   ]
  },
  {
   "cell_type": "code",
   "execution_count": 22,
   "metadata": {},
   "outputs": [],
   "source": [
    "from numba import jit\n",
    "\n",
    "@jit(nopython=True)\n",
    "def getWeights(d, size):    \n",
    "    w = np.zeros(size)\n",
    "    w[0] = 1.\n",
    "    for k in range(1, size):\n",
    "        w[k]=-w[k-1]/k*(d-k+1)\n",
    "    return w[::-1]"
   ]
  },
  {
   "cell_type": "code",
   "execution_count": 23,
   "metadata": {},
   "outputs": [
    {
     "data": {
      "text/plain": [
       "array([-0.01091003, -0.01309204, -0.01611328, -0.02050781, -0.02734375,\n",
       "       -0.0390625 , -0.0625    , -0.125     , -0.5       ,  1.        ])"
      ]
     },
     "execution_count": 23,
     "metadata": {},
     "output_type": "execute_result"
    }
   ],
   "source": [
    "getWeights(0.5, 10)"
   ]
  },
  {
   "cell_type": "code",
   "execution_count": 24,
   "metadata": {},
   "outputs": [
    {
     "data": {
      "image/png": "[encoded data removed]",
      "text/plain": [
       "<Figure size 432x288 with 1 Axes>"
      ]
     },
     "metadata": {
      "needs_background": "light"
     },
     "output_type": "display_data"
    }
   ],
   "source": [
    "for d in np.linspace(0, 1, 5):\n",
    "    plt.plot(getWeights(d, 5)[::-1], label=str(d))"
   ]
  },
  {
   "cell_type": "markdown",
   "metadata": {},
   "source": [
    "### Testing Frac-Diff with 30k money bars\n",
    "\n",
    "- The bigger the filter size better the stationarity achieved\n",
    "- The bigger the fractional (closer to 1) better the stationarity achieved\n",
    "    - but we want it to be smaller as possible to preserve as much memory as possible\n",
    "- Tested differente fractional values and filter sizes\n",
    "- On production better be conservative using a bigger fractional value and bigger filter size\n",
    "    - Like 0.60 and ksize=512 "
   ]
  },
  {
   "cell_type": "code",
   "execution_count": 67,
   "metadata": {},
   "outputs": [],
   "source": [
    "data = dfdata.mlast[:30000].values"
   ]
  },
  {
   "cell_type": "code",
   "execution_count": 68,
   "metadata": {},
   "outputs": [],
   "source": [
    "ksize = 512"
   ]
  },
  {
   "cell_type": "markdown",
   "metadata": {},
   "source": [
    "Generic function to get filter kernel based on desired kernel size\n",
    " - considering only cross-correlation dont need to append zero\n",
    " - if you think about a filter kernel you need to append zeros and make a convolution"
   ]
  },
  {
   "cell_type": "code",
   "execution_count": 69,
   "metadata": {},
   "outputs": [],
   "source": [
    "def getKernel(ksize, d=0.45):    \n",
    "    kernel = getWeights(d, ksize)\n",
    "    return kernel"
   ]
  },
  {
   "cell_type": "code",
   "execution_count": 70,
   "metadata": {},
   "outputs": [],
   "source": [
    "kernel = getKernel(ksize, d=0.56)"
   ]
  },
  {
   "cell_type": "code",
   "execution_count": 72,
   "metadata": {},
   "outputs": [
    {
     "data": {
      "text/plain": [
       "[<matplotlib.lines.Line2D at 0x154a07cdb00>]"
      ]
     },
     "execution_count": 72,
     "metadata": {},
     "output_type": "execute_result"
    },
    {
     "data": {
      "image/png": "[encoded data removed]",
      "text/plain": [
       "<Figure size 432x288 with 1 Axes>"
      ]
     },
     "metadata": {
      "needs_background": "light"
     },
     "output_type": "display_data"
    }
   ],
   "source": [
    "plt.plot(kernel)"
   ]
  },
  {
   "cell_type": "code",
   "execution_count": 73,
   "metadata": {},
   "outputs": [
    {
     "data": {
      "text/plain": [
       "0.015111031233626414"
      ]
     },
     "execution_count": 73,
     "metadata": {},
     "output_type": "execute_result"
    }
   ],
   "source": [
    "np.sum(kernel)"
   ]
  },
  {
   "cell_type": "markdown",
   "metadata": {},
   "source": [
    "For the data array the first valid sample at [kernel.size-1]  \n",
    "ksize-1 samples before are needed to produce the sample at 0 \n",
    "\n",
    "- Getting only the valid samples is what we want!\n",
    " - [kernel.size-1:corrsize-kernel.size+1] \n",
    " - is the same as mode='valid'"
   ]
  },
  {
   "cell_type": "code",
   "execution_count": 74,
   "metadata": {},
   "outputs": [],
   "source": [
    "from scipy.signal import correlate as fftcorr"
   ]
  },
  {
   "cell_type": "code",
   "execution_count": 75,
   "metadata": {},
   "outputs": [],
   "source": [
    "corrsize = kernel.size + data.size - 1"
   ]
  },
  {
   "cell_type": "code",
   "execution_count": 76,
   "metadata": {},
   "outputs": [
    {
     "data": {
      "text/plain": [
       "(30000, 512, 29489, 29489)"
      ]
     },
     "execution_count": 76,
     "metadata": {},
     "output_type": "execute_result"
    }
   ],
   "source": [
    "len(data), ksize, len(data)-ksize+1, corrsize-(ksize-1)*2"
   ]
  },
  {
   "cell_type": "code",
   "execution_count": 86,
   "metadata": {},
   "outputs": [
    {
     "name": "stdout",
     "output_type": "stream",
     "text": [
      "Wall time: 3 ms\n"
     ]
    }
   ],
   "source": [
    "%%time\n",
    "data_filter = fftcorr(data, kernel)[kernel.size-1:corrsize-kernel.size+1]\n",
    "# data_filter = fftcorr(data, kernel, mode='valid')\n",
    "# much faster above due fft convolve default used\n",
    "#%%time\n",
    "#data_filtered = np.convolve(data, kernel[::-1])[kernel.size:corrsize-ksize]"
   ]
  },
  {
   "cell_type": "markdown",
   "metadata": {},
   "source": [
    "### Mql5 fft correlation adaptation \n",
    "- the negative lags are in the end \n",
    "\n",
    "eg. \n",
    "\n",
    "    in = [1, 1, 2, 1, 1]  # m size 5\n",
    "    ksize = 3\n",
    "    filter = [1, 2, 1]  # n size 3\n",
    "    corrsize = 7 # m+n-1\n",
    "    expected output = [1, 3, 5, 6, 5, 3, 1]\n",
    "         mql output = [5, 6, 5, 3, 1, 1, 3]\n",
    "    \n",
    "**We want is only the region with full overlapping with the coeficients of the filter that are nonzero.**\n",
    "\n",
    "So the clipped output is for python:\n",
    " - [5, 6, 5] \n",
    " - ksize-1 until full overlap with filter\n",
    " - corrsize-ksize+1 in the end\n",
    " - [ksize-1, corrsize-ksize+1] [close to the right and, open to the left < corrsize-ksize+1]\n",
    " \n",
    "For mql5, starts with full overlapping\n",
    " - [0, corrsize-(ksize-1)*2] [close to the right and, open to the left < corrsize-(ksize-1)*2]"
   ]
  },
  {
   "cell_type": "code",
   "execution_count": 78,
   "metadata": {},
   "outputs": [],
   "source": [
    "#inp = [1, 1, 2, 1, 1]\n",
    "#pat = [1, 2, 1]\n",
    "#fftcorr(inp, pat, mode='full')\n",
    "#fftcorr(inp, pat, mode='valid')"
   ]
  },
  {
   "cell_type": "code",
   "execution_count": 79,
   "metadata": {
    "scrolled": true
   },
   "outputs": [
    {
     "data": {
      "text/plain": [
       "[<matplotlib.lines.Line2D at 0x154a0144780>]"
      ]
     },
     "execution_count": 79,
     "metadata": {},
     "output_type": "execute_result"
    },
    {
     "data": {
      "image/png": "[encoded data removed]",
      "text/plain": [
       "<Figure size 1080x288 with 2 Axes>"
      ]
     },
     "metadata": {
      "needs_background": "light"
     },
     "output_type": "display_data"
    }
   ],
   "source": [
    "fig, axr = plt.subplots(2, sharex=True, figsize=(15,4))\n",
    "axr[0].plot(data, 'r-', lw=0.6)\n",
    "axr[1].plot(np.arange(kernel.size-1, len(data)), data_filter, 'k-', lw=0.8)"
   ]
  },
  {
   "cell_type": "code",
   "execution_count": 80,
   "metadata": {},
   "outputs": [
    {
     "data": {
      "image/png": "[encoded data removed]",
      "text/plain": [
       "<Figure size 720x288 with 1 Axes>"
      ]
     },
     "metadata": {
      "needs_background": "light"
     },
     "output_type": "display_data"
    }
   ],
   "source": [
    "plt.figure(figsize=(10, 4))\n",
    "plt.hist(data_filter, bins=200);"
   ]
  },
  {
   "cell_type": "markdown",
   "metadata": {},
   "source": [
    "### Augmented Dickey–Fuller test\n",
    "\n",
    "https://www.statsmodels.org/stable/generated/statsmodels.tsa.stattools.adfuller.html\n",
    "\n",
    "- dfuller()[1]:   \n",
    "    - p-value > 0.05: Fail to reject the null hypothesis (H0), the data has a unit root and is non-stationary.  \n",
    "    - p-value <= 0.05: Reject the null hypothesis (H0), the data does not have a unit root and is stationary.  \n",
    "    \n",
    "    \n",
    "- dfuller()[0]:  \n",
    "    - ADF Statistic - compare with critical values if smaller it is stationary \n",
    "    \n",
    " \n",
    "- dfuller()[4]:  \n",
    "    - 1%  - 99% confidence limit for being not stationary\n",
    "    - 5%  - 95% confidence limit for being not stationary\n",
    "    - 10% - 90% confidence limit for being not stationary"
   ]
  },
  {
   "cell_type": "code",
   "execution_count": 81,
   "metadata": {},
   "outputs": [],
   "source": [
    "from statsmodels.tsa.stattools import adfuller"
   ]
  },
  {
   "cell_type": "code",
   "execution_count": 82,
   "metadata": {},
   "outputs": [
    {
     "data": {
      "text/plain": [
       "(-6.00407374551551,\n",
       " 1.631246925286447e-07,\n",
       " 50,\n",
       " 29438,\n",
       " {'1%': -3.4305721574260146,\n",
       "  '5%': -2.8616381875084556,\n",
       "  '10%': -2.5668222622264043},\n",
       " 122379.96921056064)"
      ]
     },
     "execution_count": 82,
     "metadata": {},
     "output_type": "execute_result"
    }
   ],
   "source": [
    "adfuller(data_filter)"
   ]
  },
  {
   "cell_type": "code",
   "execution_count": 83,
   "metadata": {},
   "outputs": [
    {
     "data": {
      "text/plain": [
       "(-1.0274496322528497,\n",
       " 0.7431215046442408,\n",
       " 32,\n",
       " 29967,\n",
       " {'1%': -3.430568235400205,\n",
       "  '5%': -2.861636454144003,\n",
       "  '10%': -2.566821339598106},\n",
       " 124258.8352267315)"
      ]
     },
     "execution_count": 83,
     "metadata": {},
     "output_type": "execute_result"
    }
   ],
   "source": [
    "adfuller(data)"
   ]
  },
  {
   "cell_type": "markdown",
   "metadata": {},
   "source": [
    "Deleting all memory with 1 integer differatiation"
   ]
  },
  {
   "cell_type": "code",
   "execution_count": 84,
   "metadata": {},
   "outputs": [
    {
     "data": {
      "text/plain": [
       "(-37.43534236795788,\n",
       " 0.0,\n",
       " 31,\n",
       " 29967,\n",
       " {'1%': -3.430568235400205,\n",
       "  '5%': -2.861636454144003,\n",
       "  '10%': -2.566821339598106},\n",
       " 124254.7799686924)"
      ]
     },
     "execution_count": 84,
     "metadata": {},
     "output_type": "execute_result"
    }
   ],
   "source": [
    "adfuller(np.diff(data))"
   ]
  },
  {
   "cell_type": "code",
   "execution_count": null,
   "metadata": {},
   "outputs": [],
   "source": []
  }
 ],
 "metadata": {
  "kernelspec": {
   "display_name": "Python 3",
   "language": "python",
   "name": "python3"
  },
  "language_info": {
   "codemirror_mode": {
    "name": "ipython",
    "version": 3
   },
   "file_extension": ".py",
   "mimetype": "text/x-python",
   "name": "python",
   "nbconvert_exporter": "python",
   "pygments_lexer": "ipython3",
   "version": "3.7.3"
  }
 },
 "nbformat": 4,
 "nbformat_minor": 2
}
