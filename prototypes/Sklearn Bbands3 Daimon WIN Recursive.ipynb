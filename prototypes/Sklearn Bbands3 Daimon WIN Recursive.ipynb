{
 "cells": [
  {
   "cell_type": "markdown",
   "metadata": {},
   "source": [
    "#### Using WIN M1 Metatrader 5 data\n",
    "\n",
    "Implementing Saulo's arbitrage algo\n",
    "\n",
    "The idea is to train a guided system that learns and ajusts itself with its owns errors.  \n",
    "That's the idea of a kalman's filter.   \n",
    "The base for the first decision is the Bollinger Bands Algo.  \n",
    "That's the most powerfull algo, based on the regression toward the mean law!"
   ]
  },
  {
   "cell_type": "code",
   "execution_count": 1,
   "metadata": {},
   "outputs": [],
   "source": [
    "%matplotlib inline "
   ]
  },
  {
   "cell_type": "code",
   "execution_count": 2,
   "metadata": {},
   "outputs": [
    {
     "data": {
      "text/plain": [
       "'C:\\\\Users\\\\alferreira\\\\Documents\\\\stocks\\\\prototypes'"
      ]
     },
     "execution_count": 2,
     "metadata": {},
     "output_type": "execute_result"
    }
   ],
   "source": [
    "pwd"
   ]
  },
  {
   "cell_type": "code",
   "execution_count": 3,
   "metadata": {},
   "outputs": [
    {
     "name": "stdout",
     "output_type": "stream",
     "text": [
      "C:\\Users\\alferreira\\Documents\\stocks\n"
     ]
    }
   ],
   "source": [
    "cd .."
   ]
  },
  {
   "cell_type": "code",
   "execution_count": 4,
   "metadata": {},
   "outputs": [],
   "source": [
    "from matplotlib import pyplot as plt\n",
    "import os\n",
    "import sys\n",
    "import pandas as pd\n",
    "import numpy as np\n",
    "import struct\n",
    "import datetime\n",
    "import calendar\n",
    "import time\n",
    "import argparse\n",
    "import seaborn as sns\n",
    "from algos import meta5Ibov\n",
    "from algos.util import progressbar\n",
    "from algos import meta5Ibov, bbands3, bbands2\n",
    "import importlib\n",
    "from matplotlib import pyplot as plt\n",
    "from sklearn.ensemble import ExtraTreesClassifier\n",
    "from sklearn import svm\n",
    "import scipy\n",
    "import talib as ta\n",
    "from numba import jit\n",
    "import importlib"
   ]
  },
  {
   "cell_type": "code",
   "execution_count": 22,
   "metadata": {
    "scrolled": true
   },
   "outputs": [
    {
     "data": {
      "text/plain": [
       "<module 'algos.bbands2' from 'C:\\\\Users\\\\alferreira\\\\Documents\\\\stocks\\\\algos\\\\bbands2.py'>"
      ]
     },
     "execution_count": 22,
     "metadata": {},
     "output_type": "execute_result"
    }
   ],
   "source": [
    "importlib.reload(bbands3)\n",
    "importlib.reload(bbands2)"
   ]
  },
  {
   "cell_type": "code",
   "execution_count": 6,
   "metadata": {},
   "outputs": [
    {
     "name": "stdout",
     "output_type": "stream",
     "text": [
      "C:\\Users\\alferreira\\Documents\\stocks\\data\n"
     ]
    }
   ],
   "source": [
    "cd data"
   ]
  },
  {
   "cell_type": "code",
   "execution_count": 7,
   "metadata": {},
   "outputs": [
    {
     "name": "stderr",
     "output_type": "stream",
     "text": [
      "Master data loaded size (minutes):  509471\n",
      "symbols loaded:\n",
      "['ABEV3' 'B3SA3' 'BBAS3' 'BBDC4' 'DOL$' 'ITUB4' 'PETR4' 'VALE3' 'WIN@']\n"
     ]
    }
   ],
   "source": [
    "meta5Ibov.setDataPath(r'C:\\\\Users\\\\alferreira\\\\Documents\\\\stocks\\\\data', \n",
    "                     r'C:\\\\Users\\\\alferreira\\\\Documents\\\\stocks\\\\data')\n",
    "# meta5Ibov.setDataPath(r'/home/andre/Projects/stocks/data', \n",
    "#                         r'/home/andre/Projects/stocks/data')\n"
   ]
  },
  {
   "cell_type": "markdown",
   "metadata": {},
   "source": [
    "#### Using WIN M1 Metatrader 5 data\n",
    "\n",
    "Implementing Saulo's arbitrage algo\n",
    "\n",
    "The idea is to train a guided system that learns and ajusts itself with its owns errors.  \n",
    "That's the idea of a kalman's filter.   \n",
    "The base for the first decision is the Bollinger Bands Algo.  \n",
    "That's the most powerfull algo, based on the regression toward the mean law!"
   ]
  },
  {
   "cell_type": "markdown",
   "metadata": {},
   "source": [
    "### all day data"
   ]
  },
  {
   "cell_type": "code",
   "execution_count": 8,
   "metadata": {},
   "outputs": [
    {
     "data": {
      "text/plain": [
       "0    ABEV3\n",
       "1    B3SA3\n",
       "2    BBAS3\n",
       "3    BBDC4\n",
       "4     DOL$\n",
       "5    ITUB4\n",
       "6    PETR4\n",
       "7    VALE3\n",
       "8     WIN@\n",
       "dtype: object"
      ]
     },
     "execution_count": 8,
     "metadata": {},
     "output_type": "execute_result"
    }
   ],
   "source": [
    "meta5Ibov.symbols"
   ]
  },
  {
   "cell_type": "code",
   "execution_count": 10,
   "metadata": {},
   "outputs": [
    {
     "name": "stderr",
     "output_type": "stream",
     "text": [
      "Using previous loaded data!\n"
     ]
    }
   ],
   "source": [
    "loaded = meta5Ibov.loadMeta5Data(suffix='M1.mt5bin', verbose=False)\n",
    "barsread = meta5Ibov.getSymbol('WIN@')"
   ]
  },
  {
   "cell_type": "code",
   "execution_count": 11,
   "metadata": {},
   "outputs": [
    {
     "data": {
      "text/plain": [
       "509471"
      ]
     },
     "execution_count": 11,
     "metadata": {},
     "output_type": "execute_result"
    }
   ],
   "source": [
    "len(barsread)"
   ]
  },
  {
   "cell_type": "markdown",
   "metadata": {},
   "source": [
    "He used 50 training samples (or signals)  \n",
    "Window of 180 and batchn of 180  "
   ]
  },
  {
   "cell_type": "code",
   "execution_count": 13,
   "metadata": {},
   "outputs": [],
   "source": [
    "nbands=6\n",
    "window=21\n",
    "batchn=32 # previous samples of signals to store \n",
    "twindow=42"
   ]
  },
  {
   "cell_type": "markdown",
   "metadata": {},
   "source": [
    "### Those things dont change  during day operation\n",
    "\n",
    "removed normalization over raw bollinger band signals"
   ]
  },
  {
   "cell_type": "code",
   "execution_count": 55,
   "metadata": {
    "scrolled": true
   },
   "outputs": [],
   "source": [
    "bars = bbands2.rawSignals(barsread, window, nbands, inc=0.5, save=False)\n",
    "bars = bbands2.dayFeatures(bars)\n",
    "#isgfeatures, bars = bbands3.standardizeFeatures(bars, nbands)"
   ]
  },
  {
   "cell_type": "code",
   "execution_count": 56,
   "metadata": {},
   "outputs": [],
   "source": [
    "del bars['S']"
   ]
  },
  {
   "cell_type": "code",
   "execution_count": 57,
   "metadata": {
    "scrolled": true
   },
   "outputs": [
    {
     "data": {
      "text/html": [
       "<div>\n",
       "<style scoped>\n",
       "    .dataframe tbody tr th:only-of-type {\n",
       "        vertical-align: middle;\n",
       "    }\n",
       "\n",
       "    .dataframe tbody tr th {\n",
       "        vertical-align: top;\n",
       "    }\n",
       "\n",
       "    .dataframe thead th {\n",
       "        text-align: right;\n",
       "    }\n",
       "</style>\n",
       "<table border=\"1\" class=\"dataframe\">\n",
       "  <thead>\n",
       "    <tr style=\"text-align: right;\">\n",
       "      <th></th>\n",
       "      <th>O</th>\n",
       "      <th>H</th>\n",
       "      <th>L</th>\n",
       "      <th>C</th>\n",
       "      <th>TV</th>\n",
       "      <th>RV</th>\n",
       "      <th>OHLC</th>\n",
       "      <th>bandsg0</th>\n",
       "      <th>bandsg1</th>\n",
       "      <th>bandsg2</th>\n",
       "      <th>bandsg3</th>\n",
       "      <th>bandsg4</th>\n",
       "      <th>bandsg5</th>\n",
       "      <th>date</th>\n",
       "      <th>dated</th>\n",
       "    </tr>\n",
       "    <tr>\n",
       "      <th>time</th>\n",
       "      <th></th>\n",
       "      <th></th>\n",
       "      <th></th>\n",
       "      <th></th>\n",
       "      <th></th>\n",
       "      <th></th>\n",
       "      <th></th>\n",
       "      <th></th>\n",
       "      <th></th>\n",
       "      <th></th>\n",
       "      <th></th>\n",
       "      <th></th>\n",
       "      <th></th>\n",
       "      <th></th>\n",
       "      <th></th>\n",
       "    </tr>\n",
       "  </thead>\n",
       "  <tbody>\n",
       "    <tr>\n",
       "      <th>2014-01-02 10:06:00</th>\n",
       "      <td>80088.0</td>\n",
       "      <td>80118.0</td>\n",
       "      <td>80049.0</td>\n",
       "      <td>80088.0</td>\n",
       "      <td>1690</td>\n",
       "      <td>481</td>\n",
       "      <td>80085.75</td>\n",
       "      <td>0</td>\n",
       "      <td>0</td>\n",
       "      <td>0</td>\n",
       "      <td>0</td>\n",
       "      <td>0</td>\n",
       "      <td>0</td>\n",
       "      <td>16072</td>\n",
       "      <td>1</td>\n",
       "    </tr>\n",
       "    <tr>\n",
       "      <th>2014-01-02 10:07:00</th>\n",
       "      <td>80080.0</td>\n",
       "      <td>80080.0</td>\n",
       "      <td>80034.0</td>\n",
       "      <td>80049.0</td>\n",
       "      <td>670</td>\n",
       "      <td>184</td>\n",
       "      <td>80060.75</td>\n",
       "      <td>0</td>\n",
       "      <td>0</td>\n",
       "      <td>0</td>\n",
       "      <td>0</td>\n",
       "      <td>0</td>\n",
       "      <td>0</td>\n",
       "      <td>16072</td>\n",
       "      <td>1</td>\n",
       "    </tr>\n",
       "  </tbody>\n",
       "</table>\n",
       "</div>"
      ],
      "text/plain": [
       "                           O        H        L        C    TV   RV      OHLC  \\\n",
       "time                                                                           \n",
       "2014-01-02 10:06:00  80088.0  80118.0  80049.0  80088.0  1690  481  80085.75   \n",
       "2014-01-02 10:07:00  80080.0  80080.0  80034.0  80049.0   670  184  80060.75   \n",
       "\n",
       "                     bandsg0  bandsg1  bandsg2  bandsg3  bandsg4  bandsg5  \\\n",
       "time                                                                        \n",
       "2014-01-02 10:06:00        0        0        0        0        0        0   \n",
       "2014-01-02 10:07:00        0        0        0        0        0        0   \n",
       "\n",
       "                      date  dated  \n",
       "time                               \n",
       "2014-01-02 10:06:00  16072      1  \n",
       "2014-01-02 10:07:00  16072      1  "
      ]
     },
     "execution_count": 57,
     "metadata": {},
     "output_type": "execute_result"
    }
   ],
   "source": [
    "bars.head(2)"
   ]
  },
  {
   "cell_type": "code",
   "execution_count": 58,
   "metadata": {},
   "outputs": [
    {
     "data": {
      "text/plain": [
       "0.0251888723793896"
      ]
     },
     "execution_count": 58,
     "metadata": {},
     "output_type": "execute_result"
    }
   ],
   "source": [
    "len( bars[ bars.bandsg1 == 1 ])/len(bars)"
   ]
  },
  {
   "cell_type": "code",
   "execution_count": 59,
   "metadata": {},
   "outputs": [
    {
     "data": {
      "text/plain": [
       "0.03202537534030396"
      ]
     },
     "execution_count": 59,
     "metadata": {},
     "output_type": "execute_result"
    }
   ],
   "source": [
    "len( bars[ bars.bandsg0 == 1 ])/len(bars)"
   ]
  },
  {
   "cell_type": "code",
   "execution_count": 60,
   "metadata": {},
   "outputs": [
    {
     "data": {
      "text/plain": [
       "Index(['O', 'H', 'L', 'C', 'TV', 'RV', 'OHLC', 'bandsg0', 'bandsg1', 'bandsg2',\n",
       "       'bandsg3', 'bandsg4', 'bandsg5', 'date', 'dated'],\n",
       "      dtype='object')"
      ]
     },
     "execution_count": 60,
     "metadata": {},
     "output_type": "execute_result"
    }
   ],
   "source": [
    "bars.columns"
   ]
  },
  {
   "cell_type": "code",
   "execution_count": 61,
   "metadata": {
    "scrolled": true
   },
   "outputs": [
    {
     "data": {
      "text/plain": [
       "[<matplotlib.lines.Line2D at 0x22f0279a898>]"
      ]
     },
     "execution_count": 61,
     "metadata": {},
     "output_type": "execute_result"
    },
    {
     "data": {
      "image/png": "[encoded data removed]",
      "text/plain": [
       "<Figure size 720x216 with 1 Axes>"
      ]
     },
     "metadata": {
      "needs_background": "light"
     },
     "output_type": "display_data"
    }
   ],
   "source": [
    "plt.figure(figsize=(10,3))\n",
    "plt.plot(bars.OHLC[1180:2240])"
   ]
  },
  {
   "cell_type": "code",
   "execution_count": 62,
   "metadata": {},
   "outputs": [
    {
     "data": {
      "text/plain": [
       "[<matplotlib.lines.Line2D at 0x22f00ac2e48>]"
      ]
     },
     "execution_count": 62,
     "metadata": {},
     "output_type": "execute_result"
    },
    {
     "data": {
      "image/png": "[encoded data removed]",
      "text/plain": [
       "<Figure size 720x216 with 1 Axes>"
      ]
     },
     "metadata": {
      "needs_background": "light"
     },
     "output_type": "display_data"
    }
   ],
   "source": [
    "plt.figure(figsize=(10,3))\n",
    "plt.plot(bars.OHLC[1180:2240].values)"
   ]
  },
  {
   "cell_type": "code",
   "execution_count": 63,
   "metadata": {},
   "outputs": [],
   "source": [
    "bars = bars[1180:] # starting in a monday"
   ]
  },
  {
   "cell_type": "markdown",
   "metadata": {},
   "source": [
    "Create truth target class before daily operations start"
   ]
  },
  {
   "cell_type": "code",
   "execution_count": 66,
   "metadata": {},
   "outputs": [],
   "source": [
    "truthbars = bbands3.targetFromSignals(bars, window, nbands) \n",
    "iys = ['y'+str(i) for i in range(nbands)]\n",
    "# the truth vector is in here\n",
    "ytrue = bbands3.sumdPred(truthbars[iys])\n",
    "del truthbars"
   ]
  },
  {
   "cell_type": "code",
   "execution_count": 67,
   "metadata": {},
   "outputs": [],
   "source": [
    "# create bands signals that will filled initially only for initial training piece \n",
    "# cannot delete future signals they will only be overwriten\n",
    "# for j in range(nbands): # for each band traverse it\n",
    "#     bars.loc[:, 'bandsg'+str(i)] = 0 # signal for all bands\n",
    "# y target classes will be created based on then so no need to worry about the target class"
   ]
  },
  {
   "cell_type": "markdown",
   "metadata": {},
   "source": [
    "### Initial training stage for first model"
   ]
  },
  {
   "cell_type": "code",
   "execution_count": 68,
   "metadata": {},
   "outputs": [],
   "source": [
    "barscg = bars.copy() # the band signals will be modified"
   ]
  },
  {
   "cell_type": "code",
   "execution_count": 69,
   "metadata": {},
   "outputs": [],
   "source": [
    "#barscg = barscg[445000:]"
   ]
  },
  {
   "cell_type": "code",
   "execution_count": 70,
   "metadata": {},
   "outputs": [],
   "source": [
    "def trainModel(obars, window, nbands, batchn, verbose=False):\n",
    "    # the truth vector is in here for the training set \n",
    "    bars = bbands3.TargetFromSignals(obars, window, nbands) \n",
    "    X, y, itime = bbands2.getTrainingVectors(bars, window, nbands, batchn)     \n",
    "    trees = None # in case cannot create new model\n",
    "    if verbose:\n",
    "        print(\"trainig vectors: {:<5d}\".format(len(X)))        \n",
    "    if len(np.unique(y)) < 3:\n",
    "        print('warning not enough classes')        \n",
    "        print(np.unique(y))\n",
    "    else:\n",
    "        #trees = svm.SVC(kernel='rbf', random_state=0)\n",
    "        trees = ExtraTreesClassifier(n_estimators=70, verbose=0)\n",
    "        trees.fit(X, y)\n",
    "    return trees, bars"
   ]
  },
  {
   "cell_type": "code",
   "execution_count": 71,
   "metadata": {},
   "outputs": [],
   "source": [
    "# %%time\n",
    "# ys = bars.iloc[:, iyband].values\n",
    "# iXy = np.argwhere(~np.isnan(ys))\n",
    "# y = np.zeros(iXy.shape[0])\n",
    "# y = ys[iXy[:, 0], iXy[:, 1]]"
   ]
  },
  {
   "cell_type": "markdown",
   "metadata": {},
   "source": [
    "The first target classes were filled  \n",
    "X, y vectors can be assembly anytime from this initial part  \n",
    "of the bars data-frame  "
   ]
  },
  {
   "cell_type": "markdown",
   "metadata": {},
   "source": [
    " 529/60 # 8++ hours to get the firs 50 training samples"
   ]
  },
  {
   "cell_type": "code",
   "execution_count": 72,
   "metadata": {},
   "outputs": [],
   "source": [
    "nbg = 700"
   ]
  },
  {
   "cell_type": "code",
   "execution_count": 73,
   "metadata": {
    "scrolled": true
   },
   "outputs": [
    {
     "data": {
      "text/html": [
       "<div>\n",
       "<style scoped>\n",
       "    .dataframe tbody tr th:only-of-type {\n",
       "        vertical-align: middle;\n",
       "    }\n",
       "\n",
       "    .dataframe tbody tr th {\n",
       "        vertical-align: top;\n",
       "    }\n",
       "\n",
       "    .dataframe thead th {\n",
       "        text-align: right;\n",
       "    }\n",
       "</style>\n",
       "<table border=\"1\" class=\"dataframe\">\n",
       "  <thead>\n",
       "    <tr style=\"text-align: right;\">\n",
       "      <th></th>\n",
       "      <th>O</th>\n",
       "      <th>H</th>\n",
       "      <th>L</th>\n",
       "      <th>C</th>\n",
       "      <th>TV</th>\n",
       "      <th>RV</th>\n",
       "      <th>OHLC</th>\n",
       "      <th>bandsg0</th>\n",
       "      <th>bandsg1</th>\n",
       "      <th>bandsg2</th>\n",
       "      <th>bandsg3</th>\n",
       "      <th>bandsg4</th>\n",
       "      <th>bandsg5</th>\n",
       "      <th>date</th>\n",
       "      <th>dated</th>\n",
       "    </tr>\n",
       "    <tr>\n",
       "      <th>time</th>\n",
       "      <th></th>\n",
       "      <th></th>\n",
       "      <th></th>\n",
       "      <th></th>\n",
       "      <th></th>\n",
       "      <th></th>\n",
       "      <th></th>\n",
       "      <th></th>\n",
       "      <th></th>\n",
       "      <th></th>\n",
       "      <th></th>\n",
       "      <th></th>\n",
       "      <th></th>\n",
       "      <th></th>\n",
       "      <th></th>\n",
       "    </tr>\n",
       "  </thead>\n",
       "  <tbody>\n",
       "    <tr>\n",
       "      <th>2014-01-07 10:12:00</th>\n",
       "      <td>79108.0</td>\n",
       "      <td>79108.0</td>\n",
       "      <td>78923.0</td>\n",
       "      <td>78938.0</td>\n",
       "      <td>7160</td>\n",
       "      <td>1978</td>\n",
       "      <td>79019.25</td>\n",
       "      <td>0</td>\n",
       "      <td>0</td>\n",
       "      <td>0</td>\n",
       "      <td>0</td>\n",
       "      <td>0</td>\n",
       "      <td>0</td>\n",
       "      <td>16077</td>\n",
       "      <td>0</td>\n",
       "    </tr>\n",
       "    <tr>\n",
       "      <th>2014-01-07 10:13:00</th>\n",
       "      <td>78923.0</td>\n",
       "      <td>78977.0</td>\n",
       "      <td>78915.0</td>\n",
       "      <td>78977.0</td>\n",
       "      <td>2150</td>\n",
       "      <td>530</td>\n",
       "      <td>78948.00</td>\n",
       "      <td>0</td>\n",
       "      <td>0</td>\n",
       "      <td>0</td>\n",
       "      <td>0</td>\n",
       "      <td>0</td>\n",
       "      <td>0</td>\n",
       "      <td>16077</td>\n",
       "      <td>0</td>\n",
       "    </tr>\n",
       "    <tr>\n",
       "      <th>2014-01-07 10:14:00</th>\n",
       "      <td>78969.0</td>\n",
       "      <td>79023.0</td>\n",
       "      <td>78969.0</td>\n",
       "      <td>79008.0</td>\n",
       "      <td>880</td>\n",
       "      <td>230</td>\n",
       "      <td>78992.25</td>\n",
       "      <td>1</td>\n",
       "      <td>1</td>\n",
       "      <td>0</td>\n",
       "      <td>0</td>\n",
       "      <td>1</td>\n",
       "      <td>0</td>\n",
       "      <td>16077</td>\n",
       "      <td>0</td>\n",
       "    </tr>\n",
       "    <tr>\n",
       "      <th>2014-01-07 10:16:00</th>\n",
       "      <td>79069.0</td>\n",
       "      <td>79100.0</td>\n",
       "      <td>79062.0</td>\n",
       "      <td>79085.0</td>\n",
       "      <td>660</td>\n",
       "      <td>182</td>\n",
       "      <td>79079.00</td>\n",
       "      <td>2</td>\n",
       "      <td>2</td>\n",
       "      <td>1</td>\n",
       "      <td>1</td>\n",
       "      <td>0</td>\n",
       "      <td>2</td>\n",
       "      <td>16077</td>\n",
       "      <td>0</td>\n",
       "    </tr>\n",
       "    <tr>\n",
       "      <th>2014-01-07 10:17:00</th>\n",
       "      <td>79085.0</td>\n",
       "      <td>79092.0</td>\n",
       "      <td>79069.0</td>\n",
       "      <td>79085.0</td>\n",
       "      <td>340</td>\n",
       "      <td>95</td>\n",
       "      <td>79082.75</td>\n",
       "      <td>0</td>\n",
       "      <td>0</td>\n",
       "      <td>2</td>\n",
       "      <td>0</td>\n",
       "      <td>2</td>\n",
       "      <td>0</td>\n",
       "      <td>16077</td>\n",
       "      <td>0</td>\n",
       "    </tr>\n",
       "  </tbody>\n",
       "</table>\n",
       "</div>"
      ],
      "text/plain": [
       "                           O        H        L        C    TV    RV      OHLC  \\\n",
       "time                                                                            \n",
       "2014-01-07 10:12:00  79108.0  79108.0  78923.0  78938.0  7160  1978  79019.25   \n",
       "2014-01-07 10:13:00  78923.0  78977.0  78915.0  78977.0  2150   530  78948.00   \n",
       "2014-01-07 10:14:00  78969.0  79023.0  78969.0  79008.0   880   230  78992.25   \n",
       "2014-01-07 10:16:00  79069.0  79100.0  79062.0  79085.0   660   182  79079.00   \n",
       "2014-01-07 10:17:00  79085.0  79092.0  79069.0  79085.0   340    95  79082.75   \n",
       "\n",
       "                     bandsg0  bandsg1  bandsg2  bandsg3  bandsg4  bandsg5  \\\n",
       "time                                                                        \n",
       "2014-01-07 10:12:00        0        0        0        0        0        0   \n",
       "2014-01-07 10:13:00        0        0        0        0        0        0   \n",
       "2014-01-07 10:14:00        1        1        0        0        1        0   \n",
       "2014-01-07 10:16:00        2        2        1        1        0        2   \n",
       "2014-01-07 10:17:00        0        0        2        0        2        0   \n",
       "\n",
       "                      date  dated  \n",
       "time                               \n",
       "2014-01-07 10:12:00  16077      0  \n",
       "2014-01-07 10:13:00  16077      0  \n",
       "2014-01-07 10:14:00  16077      0  \n",
       "2014-01-07 10:16:00  16077      0  \n",
       "2014-01-07 10:17:00  16077      0  "
      ]
     },
     "execution_count": 73,
     "metadata": {},
     "output_type": "execute_result"
    }
   ],
   "source": [
    "bars.head()"
   ]
  },
  {
   "cell_type": "code",
   "execution_count": 74,
   "metadata": {},
   "outputs": [],
   "source": [
    "# y target class column index\n",
    "#iybands = np.array([ bars.columns.get_loc('y'+str(j)) for j in range(nbands)], dtype=int)\n",
    "isgfeatures = np.arange(len(bars.columns), dtype=int)\n",
    "#isgfeatures = np.delete(isgfeatures, iybands) # everything less y's"
   ]
  },
  {
   "cell_type": "markdown",
   "metadata": {},
   "source": [
    "### every new 50 signals train a new model using all training samples"
   ]
  },
  {
   "cell_type": "code",
   "execution_count": 75,
   "metadata": {},
   "outputs": [],
   "source": [
    "ibandsgs = [ bars.columns.get_loc('bandsg'+str(j)) for j in range(nbands) ]"
   ]
  },
  {
   "cell_type": "code",
   "execution_count": 76,
   "metadata": {},
   "outputs": [],
   "source": [
    "i = nbg"
   ]
  },
  {
   "cell_type": "code",
   "execution_count": 77,
   "metadata": {},
   "outputs": [
    {
     "name": "stdout",
     "output_type": "stream",
     "text": [
      "trainig vectors: 111  \n"
     ]
    }
   ],
   "source": [
    "model, barstrain = trainModel(barscg[i-nbg:i], window, nbands, batchn, True)\n",
    "barscg[i-nbg:i] = barstrain[:]"
   ]
  },
  {
   "cell_type": "code",
   "execution_count": 78,
   "metadata": {},
   "outputs": [],
   "source": [
    "def runday(bars, nbg=700): # day is 7*60 minutes\n",
    "    ibandsgs = [ bars.columns.get_loc('bandsg'+str(j)) for j in range(nbands) ]\n",
    "    ypred = []\n",
    "    newmodel = []\n",
    "    barscg = bars.copy()\n",
    "    i = nbg\n",
    "    # first training \n",
    "    model, barstrain = trainModel(barscg[i-nbg:i], window, nbands, batchn, True)\n",
    "    barscg[i-nbg:i] = barstrain[:]\n",
    "    for i in range((nbg, nbg+7*60)):\n",
    "        if i%(30*7*3)==0: # lets forget older samples for a new model\n",
    "            # have to use bars because the previous model was putting everything to zero\n",
    "            model, barstrain = trainModel(bars[i-nbg:i], window, nbands, batchn, False)\n",
    "            barscg[i-nbg:i] = barstrain[:]\n",
    "            newmodel.append(i)\n",
    "        signal = barscg.iloc[i, ibandsgs].values # get signal\n",
    "        if np.sum(signal) == 0: # neeed to save which bands will get the y by the model prediction\n",
    "            continue\n",
    "        # put in the model the new signal and get the output\n",
    "        Xnew = barscg.iloc[-batchn+i+1:i+1, isgfeatures].values.flatten()\n",
    "        ynew = model.predict(Xnew.reshape(1,-1))   \n",
    "        yprob = model.predict_proba(Xnew.reshape(1,-1))   \n",
    "        ynew = ynew[0]\n",
    "        ypred.append([i, ynew, *yprob])\n",
    "        #print(signal, ynew[0])\n",
    "        signal = signal/max(signal)    \n",
    "        # save for each band the predicted  signal\n",
    "        barscg.iloc[i, ibandsgs] = signal*ynew # OVERWRITE THE ORIGINAL SIGNAL BY THE PREDICTION\n",
    "        if i%25 == 0: # new 25 training samples time to train again\n",
    "            nmodel, barstrain = trainModel(barscg.iloc[i-2*nbg:i+1], window, nbands, batchn, False)\n",
    "            if nmodel is not None: # maybe cannot train not enough classes\n",
    "                model = nmodel  # maybe should create a plain new model but let it be\n",
    "            barscg.iloc[i-2*nbg:i+1] = barstrain \n",
    "    return ypred, newmodel"
   ]
  },
  {
   "cell_type": "code",
   "execution_count": 79,
   "metadata": {},
   "outputs": [
    {
     "name": "stdout",
     "output_type": "stream",
     "text": [
      "warning not enough classes.......................................................] 50/19300\n",
      "[]\n",
      "warning not enough classes.......................................................] 75/19300\n",
      "[]\n",
      "warning not enough classes.......................................................] 300/19300\n",
      "[]\n",
      "warning not enough classes.......................................................] 450/19300\n",
      "[]\n",
      "warning not enough classes.......................................................] 500/19300\n",
      "[]\n",
      "warning not enough classes.......................................................] 525/19300\n",
      "[]\n",
      "warning not enough classes.......................................................] 675/19300\n",
      "[]\n",
      "[################################################################################] 19300/19300\n"
     ]
    }
   ],
   "source": [
    "ypred = []\n",
    "newmodel = []\n",
    "for i in progressbar(range(nbg, 20000)): # for each minute    \n",
    "    if i%(30*7*3)==0: # lets forget older samples for a new model\n",
    "        # have to use bars because the previous model was putting everything to zero\n",
    "        model, barstrain = trainModel(bars[i-nbg:i], window, nbands, batchn, False)\n",
    "        barscg[i-nbg:i] = barstrain[:]\n",
    "        newmodel.append(i)\n",
    "    signal = barscg.iloc[i, ibandsgs].values # get signal\n",
    "    if np.sum(signal) == 0: # neeed to save which bands will get the y by the model prediction\n",
    "        continue\n",
    "    # put in the model the new signal and get the output\n",
    "    Xnew = barscg.iloc[-batchn+i+1:i+1, isgfeatures].values.flatten()\n",
    "    ynew = model.predict(Xnew.reshape(1,-1))   \n",
    "    yprob = model.predict_proba(Xnew.reshape(1,-1))   \n",
    "    ynew = ynew[0]\n",
    "    ypred.append([i, ynew, *yprob])\n",
    "    #print(signal, ynew[0])\n",
    "    signal = signal/max(signal)    \n",
    "    # save for each band the predicted  signal\n",
    "    barscg.iloc[i, ibandsgs] = signal*ynew # OVERWRITE THE ORIGINAL SIGNAL BY THE PREDICTION\n",
    "    if i%25 == 0: # new 25 training samples time to train again\n",
    "        nmodel, barstrain = trainModel(barscg.iloc[i-2*nbg:i+1], window, nbands, batchn, False)\n",
    "        if nmodel is not None: # maybe cannot train not enough classes\n",
    "            model = nmodel  # maybe should create a plain new model but let it be\n",
    "        barscg.iloc[i-2*nbg:i+1] = barstrain "
   ]
  },
  {
   "cell_type": "code",
   "execution_count": 80,
   "metadata": {},
   "outputs": [
    {
     "data": {
      "text/plain": [
       "[<matplotlib.lines.Line2D at 0x22f03a8a978>]"
      ]
     },
     "execution_count": 80,
     "metadata": {},
     "output_type": "execute_result"
    },
    {
     "data": {
      "image/png": "[encoded data removed]",
      "text/plain": [
       "<Figure size 432x288 with 1 Axes>"
      ]
     },
     "metadata": {
      "needs_background": "light"
     },
     "output_type": "display_data"
    }
   ],
   "source": [
    "plt.plot(barscg.iloc[nbg:i].OHLC.values)"
   ]
  },
  {
   "cell_type": "code",
   "execution_count": 81,
   "metadata": {},
   "outputs": [],
   "source": [
    "assert np.any(barscg.iloc[nbg:i+1, ibandsgs].values != bars.iloc[nbg:i+1, ibandsgs].values)"
   ]
  },
  {
   "cell_type": "code",
   "execution_count": 82,
   "metadata": {},
   "outputs": [],
   "source": [
    "results = []\n",
    "for row in ypred:\n",
    "    a, b, probs = row\n",
    "    prob0, prob1, prob2 = probs\n",
    "    results.append([a, b, prob0, prob1, prob2])"
   ]
  },
  {
   "cell_type": "code",
   "execution_count": 83,
   "metadata": {},
   "outputs": [],
   "source": [
    "df = pd.DataFrame(results, columns=['idx', 'ypred', 'prob0', 'prob1', 'prob2'])"
   ]
  },
  {
   "cell_type": "code",
   "execution_count": 84,
   "metadata": {},
   "outputs": [
    {
     "data": {
      "text/html": [
       "<div>\n",
       "<style scoped>\n",
       "    .dataframe tbody tr th:only-of-type {\n",
       "        vertical-align: middle;\n",
       "    }\n",
       "\n",
       "    .dataframe tbody tr th {\n",
       "        vertical-align: top;\n",
       "    }\n",
       "\n",
       "    .dataframe thead th {\n",
       "        text-align: right;\n",
       "    }\n",
       "</style>\n",
       "<table border=\"1\" class=\"dataframe\">\n",
       "  <thead>\n",
       "    <tr style=\"text-align: right;\">\n",
       "      <th></th>\n",
       "      <th>idx</th>\n",
       "      <th>ypred</th>\n",
       "      <th>prob0</th>\n",
       "      <th>prob1</th>\n",
       "      <th>prob2</th>\n",
       "    </tr>\n",
       "  </thead>\n",
       "  <tbody>\n",
       "    <tr>\n",
       "      <th>0</th>\n",
       "      <td>706</td>\n",
       "      <td>2</td>\n",
       "      <td>0.428571</td>\n",
       "      <td>0.128571</td>\n",
       "      <td>0.442857</td>\n",
       "    </tr>\n",
       "    <tr>\n",
       "      <th>1</th>\n",
       "      <td>707</td>\n",
       "      <td>2</td>\n",
       "      <td>0.371429</td>\n",
       "      <td>0.114286</td>\n",
       "      <td>0.514286</td>\n",
       "    </tr>\n",
       "    <tr>\n",
       "      <th>2</th>\n",
       "      <td>717</td>\n",
       "      <td>2</td>\n",
       "      <td>0.428571</td>\n",
       "      <td>0.128571</td>\n",
       "      <td>0.442857</td>\n",
       "    </tr>\n",
       "    <tr>\n",
       "      <th>3</th>\n",
       "      <td>718</td>\n",
       "      <td>0</td>\n",
       "      <td>0.442857</td>\n",
       "      <td>0.171429</td>\n",
       "      <td>0.385714</td>\n",
       "    </tr>\n",
       "    <tr>\n",
       "      <th>4</th>\n",
       "      <td>719</td>\n",
       "      <td>0</td>\n",
       "      <td>0.485714</td>\n",
       "      <td>0.142857</td>\n",
       "      <td>0.371429</td>\n",
       "    </tr>\n",
       "  </tbody>\n",
       "</table>\n",
       "</div>"
      ],
      "text/plain": [
       "   idx  ypred     prob0     prob1     prob2\n",
       "0  706      2  0.428571  0.128571  0.442857\n",
       "1  707      2  0.371429  0.114286  0.514286\n",
       "2  717      2  0.428571  0.128571  0.442857\n",
       "3  718      0  0.442857  0.171429  0.385714\n",
       "4  719      0  0.485714  0.142857  0.371429"
      ]
     },
     "execution_count": 84,
     "metadata": {},
     "output_type": "execute_result"
    }
   ],
   "source": [
    "df.head()"
   ]
  },
  {
   "cell_type": "code",
   "execution_count": 85,
   "metadata": {},
   "outputs": [
    {
     "name": "stderr",
     "output_type": "stream",
     "text": [
      "C:\\Users\\alferreira\\AppData\\Local\\Continuum\\anaconda3\\lib\\site-packages\\pandas\\core\\indexing.py:189: SettingWithCopyWarning: \n",
      "A value is trying to be set on a copy of a slice from a DataFrame\n",
      "\n",
      "See the caveats in the documentation: http://pandas.pydata.org/pandas-docs/stable/indexing.html#indexing-view-versus-copy\n",
      "  self._setitem_with_indexer(indexer, value)\n"
     ]
    },
    {
     "data": {
      "image/png": "[encoded data removed]",
      "text/plain": [
       "<Figure size 432x288 with 1 Axes>"
      ]
     },
     "metadata": {
      "needs_background": "light"
     },
     "output_type": "display_data"
    }
   ],
   "source": [
    "df.ypred.loc[ df.ypred == 2] = -1\n",
    "plt.hist(df.ypred);"
   ]
  },
  {
   "cell_type": "code",
   "execution_count": 86,
   "metadata": {},
   "outputs": [],
   "source": [
    "ys = ytrue.copy()\n",
    "ys = ys[df.idx]"
   ]
  },
  {
   "cell_type": "code",
   "execution_count": 87,
   "metadata": {},
   "outputs": [
    {
     "data": {
      "image/png": "[encoded data removed]",
      "text/plain": [
       "<Figure size 432x288 with 1 Axes>"
      ]
     },
     "metadata": {
      "needs_background": "light"
     },
     "output_type": "display_data"
    }
   ],
   "source": [
    "plt.hist(ys);"
   ]
  },
  {
   "cell_type": "code",
   "execution_count": 88,
   "metadata": {},
   "outputs": [],
   "source": [
    "from sklearn import metrics"
   ]
  },
  {
   "cell_type": "code",
   "execution_count": 89,
   "metadata": {},
   "outputs": [
    {
     "name": "stdout",
     "output_type": "stream",
     "text": [
      "              precision    recall  f1-score   support\n",
      "\n",
      "        -1.0       0.21      0.24      0.22       707\n",
      "         0.0       0.72      0.81      0.76      3248\n",
      "         1.0       0.25      0.03      0.05       597\n",
      "\n",
      "   micro avg       0.62      0.62      0.62      4552\n",
      "   macro avg       0.39      0.36      0.35      4552\n",
      "weighted avg       0.58      0.62      0.59      4552\n",
      "\n"
     ]
    }
   ],
   "source": [
    "print(metrics.classification_report(ys, df.ypred))"
   ]
  },
  {
   "cell_type": "code",
   "execution_count": 90,
   "metadata": {
    "scrolled": true
   },
   "outputs": [
    {
     "data": {
      "text/plain": [
       "(4552, 4552)"
      ]
     },
     "execution_count": 90,
     "metadata": {},
     "output_type": "execute_result"
    }
   ],
   "source": [
    "len(ys), len(df.ypred)"
   ]
  },
  {
   "cell_type": "code",
   "execution_count": 91,
   "metadata": {
    "scrolled": false
   },
   "outputs": [
    {
     "name": "stdout",
     "output_type": "stream",
     "text": [
      "              precision    recall  f1-score   support\n",
      "\n",
      "        -1.0       0.20      0.24      0.22       592\n",
      "         0.0       0.72      0.81      0.76      2756\n",
      "         1.0       0.21      0.03      0.05       504\n",
      "\n",
      "   micro avg       0.62      0.62      0.62      3852\n",
      "   macro avg       0.38      0.36      0.34      3852\n",
      "weighted avg       0.58      0.62      0.59      3852\n",
      "\n"
     ]
    }
   ],
   "source": [
    "print(metrics.classification_report(ys[nbg:], df.ypred[nbg:]))"
   ]
  },
  {
   "cell_type": "markdown",
   "metadata": {},
   "source": [
    "### Only class1 predictions"
   ]
  },
  {
   "cell_type": "code",
   "execution_count": 92,
   "metadata": {},
   "outputs": [],
   "source": [
    "idx1 = np.argwhere(df.ypred.values == 1)\n",
    "idx1 = idx1.flatten()\n",
    "yp1 = df.ypred[idx1]\n",
    "ys1 = ys[idx1]"
   ]
  },
  {
   "cell_type": "code",
   "execution_count": 93,
   "metadata": {},
   "outputs": [],
   "source": [
    "ys1[ys1 != 1] = 0"
   ]
  },
  {
   "cell_type": "code",
   "execution_count": 94,
   "metadata": {},
   "outputs": [
    {
     "data": {
      "text/plain": [
       "(array([0., 1.]), array([1], dtype=int64))"
      ]
     },
     "execution_count": 94,
     "metadata": {},
     "output_type": "execute_result"
    }
   ],
   "source": [
    "np.unique(ys1), np.unique(yp1)"
   ]
  },
  {
   "cell_type": "code",
   "execution_count": 95,
   "metadata": {},
   "outputs": [],
   "source": [
    "acc = (ys1.values-yp1.values)+1"
   ]
  },
  {
   "cell_type": "code",
   "execution_count": 96,
   "metadata": {},
   "outputs": [],
   "source": [
    "#acc = acc.flatten()"
   ]
  },
  {
   "cell_type": "code",
   "execution_count": 97,
   "metadata": {},
   "outputs": [
    {
     "data": {
      "text/plain": [
       "(72, 72, 72)"
      ]
     },
     "execution_count": 97,
     "metadata": {},
     "output_type": "execute_result"
    }
   ],
   "source": [
    "len(ys1), len(yp1), len(acc)"
   ]
  },
  {
   "cell_type": "code",
   "execution_count": 98,
   "metadata": {},
   "outputs": [
    {
     "data": {
      "text/plain": [
       "<matplotlib.colorbar.Colorbar at 0x22f024fa828>"
      ]
     },
     "execution_count": 98,
     "metadata": {},
     "output_type": "execute_result"
    },
    {
     "data": {
      "image/png": "[encoded data removed]",
      "text/plain": [
       "<Figure size 1440x288 with 2 Axes>"
      ]
     },
     "metadata": {
      "needs_background": "light"
     },
     "output_type": "display_data"
    }
   ],
   "source": [
    "plt.figure(figsize=(20,4))\n",
    "plt.scatter(df.iloc[idx1].idx, acc, c=df.iloc[idx1].prob1.values, cmap='rainbow')\n",
    "plt.plot(df.iloc[idx1].idx, acc, 'k-', lw=0.3)\n",
    "plt.plot(df.iloc[idx1].idx, ta.EMA(acc.flatten(), 3))\n",
    "plt.plot(df.iloc[idx1].idx, ta.EMA(acc.flatten(), 6))\n",
    "plt.plot(newmodel, 0.5*np.ones(len(newmodel)), '.')\n",
    "#plt.xlim(30000, 50000)\n",
    "plt.colorbar()"
   ]
  },
  {
   "cell_type": "markdown",
   "metadata": {},
   "source": [
    "#### Analysing entries by pattern of correct predictions \n",
    "\n",
    "what if 3 correct entries gives an entry point "
   ]
  },
  {
   "cell_type": "code",
   "execution_count": 99,
   "metadata": {},
   "outputs": [
    {
     "data": {
      "text/plain": [
       "array([0.51, 0.51, 0.36, 0.36, 0.41, 0.44, 0.47, 0.47, 0.43, 0.44, 0.43,\n",
       "       0.37, 0.4 , 0.46, 0.46, 0.54, 0.44, 0.39, 0.44, 0.39, 0.44, 0.37,\n",
       "       0.49, 0.43, 0.41, 0.41, 0.37, 0.49, 0.39, 0.4 , 0.46, 0.49, 0.47,\n",
       "       0.59, 0.5 , 0.64, 0.53, 0.61, 0.54, 0.61, 0.37, 0.43, 0.49, 0.36,\n",
       "       0.39, 0.4 , 0.41, 0.53, 0.59, 0.44, 0.37, 0.37, 0.46, 0.41, 0.54,\n",
       "       0.4 , 0.41, 0.36, 0.5 , 0.54, 0.4 , 0.4 , 0.36, 0.36, 0.49, 0.43,\n",
       "       0.43, 0.41, 0.34, 0.36, 0.37, 0.37])"
      ]
     },
     "execution_count": 99,
     "metadata": {},
     "output_type": "execute_result"
    }
   ],
   "source": [
    "np.round(df.iloc[idx1].prob1.values[:100], 2)"
   ]
  },
  {
   "cell_type": "code",
   "execution_count": 100,
   "metadata": {},
   "outputs": [],
   "source": [
    "import seaborn as sns"
   ]
  },
  {
   "cell_type": "code",
   "execution_count": 101,
   "metadata": {},
   "outputs": [
    {
     "data": {
      "text/plain": [
       "(72, 72)"
      ]
     },
     "execution_count": 101,
     "metadata": {},
     "output_type": "execute_result"
    }
   ],
   "source": [
    "len(acc), len(df.iloc[idx1].prob1.values)"
   ]
  },
  {
   "cell_type": "code",
   "execution_count": 102,
   "metadata": {},
   "outputs": [
    {
     "name": "stderr",
     "output_type": "stream",
     "text": [
      "C:\\Users\\alferreira\\AppData\\Local\\Continuum\\anaconda3\\lib\\site-packages\\scipy\\stats\\stats.py:1713: FutureWarning: Using a non-tuple sequence for multidimensional indexing is deprecated; use `arr[tuple(seq)]` instead of `arr[seq]`. In the future this will be interpreted as an array index, `arr[np.array(seq)]`, which will result either in an error or a different result.\n",
      "  return np.add.reduce(sorted[indexer] * weights, axis=axis) / sumval\n"
     ]
    },
    {
     "data": {
      "text/plain": [
       "<seaborn.axisgrid.JointGrid at 0x22f01fe83c8>"
      ]
     },
     "execution_count": 102,
     "metadata": {},
     "output_type": "execute_result"
    },
    {
     "data": {
      "image/png": "[encoded data removed]",
      "text/plain": [
       "<Figure size 432x432 with 3 Axes>"
      ]
     },
     "metadata": {
      "needs_background": "light"
     },
     "output_type": "display_data"
    }
   ],
   "source": [
    "sns.jointplot(acc, df.iloc[idx1].prob1.values, kind='hex')"
   ]
  },
  {
   "cell_type": "code",
   "execution_count": 103,
   "metadata": {},
   "outputs": [
    {
     "data": {
      "text/plain": [
       "array([1., 0., 1., 0., 0., 1., 0., 1., 0., 0., 1., 0., 0., 1., 0., 0., 1.,\n",
       "       0., 0., 1., 1., 0., 0., 1., 0., 0., 0., 0., 0., 0., 1., 0., 0., 0.,\n",
       "       0., 0., 0., 0., 0., 0., 0., 0., 0., 0., 0., 0., 0., 0., 0., 1., 0.,\n",
       "       0., 1., 0., 0., 1., 0., 0., 0., 0., 0., 0., 0., 1., 0., 0., 0., 1.,\n",
       "       1., 0., 1., 0.])"
      ]
     },
     "execution_count": 103,
     "metadata": {},
     "output_type": "execute_result"
    }
   ],
   "source": [
    "acc[:100]"
   ]
  },
  {
   "cell_type": "code",
   "execution_count": 104,
   "metadata": {},
   "outputs": [
    {
     "data": {
      "text/plain": [
       "array([1., 0., 1., 0., 0., 1., 0., 1., 0., 0., 1., 0., 0., 1., 0., 0., 1.,\n",
       "       0., 0., 1., 1., 0., 0., 1., 0., 0., 0., 0., 0., 0., 1., 0., 0., 0.,\n",
       "       0., 0., 0., 0., 0., 0., 0., 0., 0., 0., 0., 0., 0., 0., 0., 1., 0.,\n",
       "       0., 1., 0., 0., 1., 0., 0., 0., 0., 0., 0., 0., 1., 0., 0., 0., 1.,\n",
       "       1., 0., 1., 0.])"
      ]
     },
     "execution_count": 104,
     "metadata": {},
     "output_type": "execute_result"
    }
   ],
   "source": [
    "np.convolve(acc[:100], [1], mode='same')"
   ]
  },
  {
   "cell_type": "code",
   "execution_count": 195,
   "metadata": {},
   "outputs": [],
   "source": [
    "ones = np.convolve(acc, [1, 1], mode='same')"
   ]
  },
  {
   "cell_type": "code",
   "execution_count": 184,
   "metadata": {},
   "outputs": [
    {
     "data": {
      "text/plain": [
       "[<matplotlib.lines.Line2D at 0x17db79ef4a8>]"
      ]
     },
     "execution_count": 184,
     "metadata": {},
     "output_type": "execute_result"
    },
    {
     "data": {
      "image/png": "[encoded data removed]",
      "text/plain": [
       "<Figure size 432x288 with 1 Axes>"
      ]
     },
     "metadata": {
      "needs_background": "light"
     },
     "output_type": "display_data"
    }
   ],
   "source": [
    "plt.plot(np.clip(ones, 2, 4))"
   ]
  },
  {
   "cell_type": "code",
   "execution_count": 191,
   "metadata": {},
   "outputs": [],
   "source": [
    "def cmpcorrecpred(a, b, code=2):\n",
    "    if a == b and a == code:\n",
    "        return True\n",
    "    return False\n",
    "\n",
    "def cmpfalsepred(a, b):\n",
    "    if b == 2 and a != 1:\n",
    "        return True\n",
    "    return False\n",
    "\n",
    "ncorrects = list(map(cmpcorrecpred, ones[1:], ones[:]))\n",
    "nwrongs = list(map(cmpfalsepred, ones[1:], ones[:]))"
   ]
  },
  {
   "cell_type": "markdown",
   "metadata": {},
   "source": [
    "#### Number of correct predictions"
   ]
  },
  {
   "cell_type": "code",
   "execution_count": 192,
   "metadata": {},
   "outputs": [
    {
     "data": {
      "text/plain": [
       "114"
      ]
     },
     "execution_count": 192,
     "metadata": {},
     "output_type": "execute_result"
    }
   ],
   "source": [
    "np.count_nonzero(ncorrects)"
   ]
  },
  {
   "cell_type": "code",
   "execution_count": 193,
   "metadata": {},
   "outputs": [
    {
     "data": {
      "text/plain": [
       "150"
      ]
     },
     "execution_count": 193,
     "metadata": {},
     "output_type": "execute_result"
    }
   ],
   "source": [
    "np.count_nonzero(nwrongs)"
   ]
  },
  {
   "cell_type": "code",
   "execution_count": 194,
   "metadata": {},
   "outputs": [
    {
     "data": {
      "text/plain": [
       "0.4318181818181818"
      ]
     },
     "execution_count": 194,
     "metadata": {},
     "output_type": "execute_result"
    }
   ],
   "source": [
    "114/(114+150)"
   ]
  },
  {
   "cell_type": "code",
   "execution_count": 190,
   "metadata": {},
   "outputs": [
    {
     "data": {
      "text/plain": [
       "0.42105263157894735"
      ]
     },
     "execution_count": 190,
     "metadata": {},
     "output_type": "execute_result"
    }
   ],
   "source": [
    "48/(48+66)"
   ]
  },
  {
   "cell_type": "code",
   "execution_count": 204,
   "metadata": {},
   "outputs": [
    {
     "data": {
      "text/plain": [
       "[<matplotlib.lines.Line2D at 0x7f6288bdb128>]"
      ]
     },
     "execution_count": 204,
     "metadata": {},
     "output_type": "execute_result"
    },
    {
     "data": {
      "image/png": "[encoded data removed]",
      "text/plain": [
       "<Figure size 1440x288 with 1 Axes>"
      ]
     },
     "metadata": {
      "needs_background": "light"
     },
     "output_type": "display_data"
    }
   ],
   "source": [
    "plt.figure(figsize=(20,4))\n",
    "plt.plot(idx[idx1], acc, '.')\n",
    "plt.plot(idx[idx1], acc, 'k-', lw=0.3)\n",
    "plt.plot(idx[idx1], ta.EMA(acc.flatten(), 3))\n",
    "plt.plot(idx[idx1], ta.EMA(acc.flatten(), 6))\n",
    "plt.plot(newmodel, 0.5*np.ones(len(newmodel)), '.')\n",
    "#plt.xlim(30000, 50000)"
   ]
  },
  {
   "cell_type": "code",
   "execution_count": 201,
   "metadata": {},
   "outputs": [
    {
     "data": {
      "text/plain": [
       "array([1., 0., 0., 0., 0., 0., 0., 0., 0., 1., 1., 1., 0., 0., 0., 0., 0.,\n",
       "       0., 0., 0., 0., 0., 1., 0., 0., 1., 0., 0., 0., 1., 1., 0., 0., 0.,\n",
       "       0., 0., 0., 0., 0., 0., 0., 0., 0., 0., 0., 0., 0., 0., 1., 0., 1.,\n",
       "       1., 1., 0., 0., 0., 0., 0., 0., 0., 1., 0., 0., 0., 0., 0., 0., 0.,\n",
       "       0., 0., 0., 1., 0., 0., 1., 1., 1., 0., 0., 1., 1., 1., 1., 1., 1.,\n",
       "       0., 0., 1., 0., 1., 1., 0., 0., 0., 1., 0., 0., 0., 0., 0., 0., 0.,\n",
       "       0., 0., 0., 0., 0., 0., 0., 0., 0., 0., 0., 0., 0., 0., 1., 0., 0.,\n",
       "       0., 0., 1., 1., 0., 1., 1., 1., 0., 0., 0., 0., 0., 0., 0., 0., 0.,\n",
       "       0., 0., 0., 0., 1., 0., 0., 0., 0., 0., 0., 1., 0., 0., 0., 1., 0.,\n",
       "       0., 0., 0., 0., 0., 1., 0., 0., 0., 0., 1., 0., 0., 0., 0., 0., 0.,\n",
       "       0., 0., 0., 0., 0., 0., 0., 0., 1., 1., 0., 0., 0., 0., 0., 0., 0.,\n",
       "       0., 0., 0., 0., 0., 0., 0., 0., 1., 1., 0., 0., 0., 0., 0., 0., 0.,\n",
       "       0., 0., 0., 0., 0., 0., 0., 0., 0., 0., 0., 0., 0., 0., 0., 1., 1.,\n",
       "       0., 1., 1., 0., 0., 0., 0., 0., 0., 1., 1., 1., 0., 0., 0., 0., 1.,\n",
       "       0., 0., 0., 1., 1., 0., 0., 0., 0., 0., 0., 0., 1., 0., 0., 0., 0.,\n",
       "       1., 0., 0., 0., 0., 1., 1., 0., 0., 0., 0., 0., 0., 1., 0., 0., 0.,\n",
       "       0., 0., 0., 0., 0., 0., 0., 1., 1., 1., 1., 0., 0., 0., 1., 1., 0.,\n",
       "       0., 0., 0., 1., 0., 0., 0., 0., 0., 0., 0., 1., 0., 0., 0., 0., 0.,\n",
       "       0., 1., 1., 1., 0., 0., 0., 0., 0., 1., 0., 1., 0., 0., 0., 0., 0.,\n",
       "       0., 0., 1., 1., 1., 1., 0., 1., 0., 0., 0., 1., 1., 0., 0., 0., 0.,\n",
       "       0., 0., 0., 0., 0., 0., 0., 1., 1., 0., 0., 0., 0., 0., 0., 0., 0.,\n",
       "       0., 0., 0., 0., 0., 0., 0., 0., 0., 0., 0., 0., 0., 0., 0., 0., 0.,\n",
       "       0., 1., 0., 1., 0., 1., 1., 0., 0., 0., 0., 0., 0., 0., 0., 0., 0.,\n",
       "       0., 0., 0., 0., 1., 1., 0., 0., 0., 1., 0., 1., 0., 1., 0., 1., 0.,\n",
       "       0., 0., 0., 0., 0., 0., 0., 0., 0., 0., 0., 0., 0., 0., 0., 0., 0.,\n",
       "       0., 0., 0., 0., 0., 0., 0., 0., 1., 0., 0., 0., 1., 0., 1., 1., 0.,\n",
       "       0., 0., 0., 0., 0., 0., 0., 0., 0., 1., 1., 0., 0., 0., 0., 0., 1.,\n",
       "       0., 0., 1., 0., 0., 0., 1., 0., 1., 0., 0., 0., 0., 0., 0., 0., 0.,\n",
       "       0., 0., 0., 0., 0., 0., 0., 1., 1., 1., 0., 0., 0., 0., 0., 0., 0.,\n",
       "       0., 0., 0., 0., 0., 0., 1., 1., 0., 0., 0., 0., 0., 0., 0., 0., 0.,\n",
       "       1., 1., 0., 0., 0., 0., 0., 0., 0., 0., 0., 0., 0., 0., 1., 1., 0.,\n",
       "       0., 0., 0., 0., 0., 0., 0., 0., 0., 0., 0., 1., 0., 0., 0., 0., 0.,\n",
       "       0., 0., 0., 1., 0., 0., 0., 0., 0., 0., 0., 0., 1., 1., 1., 1., 0.,\n",
       "       0., 1., 0., 0., 0., 0., 0., 0., 1., 0., 0., 0., 0., 0., 1., 0., 0.,\n",
       "       0., 0., 0., 0., 0., 0., 1., 0., 0., 0., 0., 0., 0., 0., 1., 0., 0.,\n",
       "       0., 0., 0., 0., 1., 0., 0., 0., 0., 0., 0., 0., 0., 0., 0., 0., 0.,\n",
       "       0., 0., 0., 0., 1., 1., 1., 1., 0., 0., 0., 1., 1., 0., 0., 1., 0.,\n",
       "       0., 0., 0., 1., 1., 0., 0., 0., 0., 0., 0., 0., 0., 0., 0., 0., 0.,\n",
       "       0., 0., 0., 0., 0., 0., 0., 0., 0., 0., 0., 1., 1., 1., 1., 1., 1.,\n",
       "       0., 0., 1., 1., 1., 0., 0., 1., 1., 0., 0., 0., 1., 0., 0., 0., 1.,\n",
       "       1., 0., 1.])"
      ]
     },
     "execution_count": 201,
     "metadata": {},
     "output_type": "execute_result"
    }
   ],
   "source": [
    "acc"
   ]
  },
  {
   "cell_type": "code",
   "execution_count": 199,
   "metadata": {},
   "outputs": [
    {
     "name": "stdout",
     "output_type": "stream",
     "text": [
      "             precision    recall  f1-score   support\n",
      "\n",
      "       -1.0       0.20      0.32      0.25      2092\n",
      "        0.0       0.69      0.70      0.70      8833\n",
      "        1.0       0.21      0.07      0.11      1997\n",
      "\n",
      "avg / total       0.54      0.54      0.53     12922\n",
      "\n"
     ]
    }
   ],
   "source": [
    "print(metrics.classification_report(ys, ypred))"
   ]
  },
  {
   "cell_type": "code",
   "execution_count": null,
   "metadata": {},
   "outputs": [],
   "source": []
  },
  {
   "cell_type": "code",
   "execution_count": null,
   "metadata": {},
   "outputs": [],
   "source": []
  }
 ],
 "metadata": {
  "kernelspec": {
   "display_name": "Python 3",
   "language": "python",
   "name": "python3"
  },
  "language_info": {
   "codemirror_mode": {
    "name": "ipython",
    "version": 3
   },
   "file_extension": ".py",
   "mimetype": "text/x-python",
   "name": "python",
   "nbconvert_exporter": "python",
   "pygments_lexer": "ipython3",
   "version": "3.6.7"
  }
 },
 "nbformat": 4,
 "nbformat_minor": 2
}
