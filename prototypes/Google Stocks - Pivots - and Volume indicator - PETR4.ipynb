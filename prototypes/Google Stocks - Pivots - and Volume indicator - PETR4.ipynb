{
 "cells": [
  {
   "cell_type": "code",
   "execution_count": 1,
   "metadata": {
    "scrolled": true
   },
   "outputs": [
    {
     "name": "stdout",
     "output_type": "stream",
     "text": [
      "/home/andre/PycharmProjects\n"
     ]
    }
   ],
   "source": [
    "cd /home/andre/PycharmProjects/"
   ]
  },
  {
   "cell_type": "code",
   "execution_count": 2,
   "metadata": {},
   "outputs": [],
   "source": [
    "from googlefinance.client import get_price_data, get_prices_data, get_prices_time_data"
   ]
  },
  {
   "cell_type": "code",
   "execution_count": 3,
   "metadata": {},
   "outputs": [],
   "source": [
    "# Interval size in seconds \n",
    "day=\"86400\" # (\"86400\" = 1 day intervals)\n",
    "min=\"60\"\n",
    "min30=\"1800\"\n",
    "min15=\"900\"\n",
    "h1=\"3600\"\n",
    "h4=\"7200\""
   ]
  },
  {
   "cell_type": "markdown",
   "metadata": {},
   "source": [
    "### Source of DATA real time delayed\n",
    "\n",
    "https://finance.google.com/finance?q=BVMF%3APETR4&ei=6uVxWoHlCJa6eqmevKgP"
   ]
  },
  {
   "cell_type": "code",
   "execution_count": 4,
   "metadata": {},
   "outputs": [
    {
     "name": "stdout",
     "output_type": "stream",
     "text": [
      "                      Open   High    Low  Close  Volume\n",
      "2017-02-01 10:30:00  21.24  21.30  21.01  21.10   13300\n",
      "2017-02-01 11:00:00  21.18  21.27  20.97  21.27   41500\n",
      "2017-02-01 11:30:00  21.27  21.63  21.27  21.51   61200\n",
      "2017-02-01 12:00:00  21.50  21.55  21.33  21.35   57000\n",
      "2017-02-01 12:30:00  21.36  21.37  21.09  21.10   58100\n",
      "2017-02-01 13:00:00  21.13  21.24  21.05  21.20   66000\n",
      "2017-02-01 13:30:00  21.16  21.16  20.94  21.01   71900\n",
      "2017-02-01 14:00:00  21.00  21.01  20.82  20.95  121700\n",
      "2017-02-01 14:30:00  20.92  20.96  20.83  20.88   70500\n",
      "2017-02-01 15:00:00  20.88  20.89  20.79  20.80  109900\n",
      "2017-02-01 15:30:00  20.80  20.90  20.79  20.82   72400\n",
      "2017-02-01 16:00:00  20.81  20.91  20.79  20.82   67900\n",
      "2017-02-01 16:30:00  20.83  20.85  20.79  20.80   78400\n",
      "2017-02-02 10:00:00  20.99  20.99  20.99  20.99     200\n",
      "2017-02-02 10:30:00  20.98  21.27  20.87  21.24   23000\n",
      "2017-02-02 11:00:00  21.23  21.29  21.01  21.09   49100\n",
      "2017-02-02 11:30:00  21.07  21.28  21.05  21.28   75600\n",
      "2017-02-02 12:00:00  21.28  21.61  21.28  21.60   81100\n",
      "2017-02-02 12:30:00  21.60  21.62  21.36  21.49   84400\n",
      "2017-02-02 13:00:00  21.51  21.68  21.49  21.64  112000\n",
      "2017-02-02 13:30:00  21.63  21.64  21.57  21.59   49600\n",
      "2017-02-02 14:00:00  21.58  21.61  21.41  21.49   58700\n",
      "2017-02-02 14:30:00  21.47  21.58  21.42  21.54   65700\n",
      "2017-02-02 15:00:00  21.54  21.65  21.50  21.53  127600\n",
      "2017-02-02 15:30:00  21.53  21.58  21.45  21.54  122700\n",
      "2017-02-02 16:00:00  21.51  21.57  21.50  21.55   99400\n",
      "2017-02-02 16:30:00  21.52  21.60  21.50  21.54   93000\n",
      "2017-02-03 10:30:00  21.33  21.48  21.32  21.36    9800\n",
      "2017-02-03 11:00:00  21.39  21.42  21.22  21.32   27600\n",
      "2017-02-03 11:30:00  21.32  21.39  21.26  21.27   20800\n",
      "...                    ...    ...    ...    ...     ...\n",
      "2018-01-29 15:00:00  19.99  20.17  19.95  20.16   52800\n",
      "2018-01-29 15:30:00  20.16  20.19  20.11  20.11   37100\n",
      "2018-01-29 16:00:00  20.11  20.18  20.10  20.12   49900\n",
      "2018-01-29 16:30:00  20.13  20.14  20.00  20.04   52000\n",
      "2018-01-30 10:30:00  20.19  20.19  19.96  20.15   36800\n",
      "2018-01-30 11:00:00  20.15  20.31  20.13  20.23   75900\n",
      "2018-01-30 11:30:00  20.22  20.22  19.97  20.07  128900\n",
      "2018-01-30 12:00:00  20.06  20.08  19.81  20.07  151100\n",
      "2018-01-30 12:30:00  20.07  20.18  20.06  20.15   89300\n",
      "2018-01-30 13:00:00  20.15  20.20  19.97  20.02  115500\n",
      "2018-01-30 13:30:00  20.01  20.02  19.77  19.80  204800\n",
      "2018-01-30 14:00:00  19.80  20.00  19.79  19.95  136700\n",
      "2018-01-30 14:30:00  19.96  19.98  19.80  19.80  107100\n",
      "2018-01-30 15:00:00  19.81  19.83  19.61  19.72  201800\n",
      "2018-01-30 15:30:00  19.72  19.85  19.70  19.70   86500\n",
      "2018-01-30 16:00:00  19.71  19.77  19.67  19.76   96400\n",
      "2018-01-30 16:30:00  19.75  19.77  19.65  19.67  118700\n",
      "2018-01-31 10:30:00  20.20  20.64  20.20  20.58  266300\n",
      "2018-01-31 11:00:00  20.54  20.77  20.52  20.74  280900\n",
      "2018-01-31 11:30:00  20.74  20.74  20.64  20.74  109300\n",
      "2018-01-31 12:00:00  20.72  20.88  20.67  20.79  174700\n",
      "2018-01-31 12:30:00  20.79  20.85  20.70  20.76  112700\n",
      "2018-01-31 13:00:00  20.79  20.85  20.70  20.75  120600\n",
      "2018-01-31 13:30:00  20.75  20.78  20.68  20.71  111400\n",
      "2018-01-31 14:00:00  20.72  20.73  20.56  20.59  111000\n",
      "2018-01-31 14:30:00  20.59  20.64  20.37  20.41   90100\n",
      "2018-01-31 15:00:00  20.41  20.47  20.27  20.46  161800\n",
      "2018-01-31 15:30:00  20.46  20.56  20.44  20.48  101200\n",
      "2018-01-31 16:00:00  20.48  20.52  20.39  20.46  102800\n",
      "2018-01-31 16:30:00  20.45  20.70  20.44  20.65  184700\n",
      "\n",
      "[3237 rows x 5 columns]\n"
     ]
    }
   ],
   "source": [
    "# Dow Jones\n",
    "param = {\n",
    "\t'q': \"ELET3\", # Stock symbol (ex: \"AAPL\")\n",
    "\t'i': min30, # Interval size in seconds \n",
    "\t'x': \"BVMF\", # Stock exchange symbol on which stock is traded (ex: \"NASD\")\n",
    "\t'p': \"1Y\" # Period (Ex: \"1Y\" = 1 year)\n",
    "}\n",
    "# get price data (return pandas dataframe)\n",
    "df = get_price_data(param)\n",
    "print(df)"
   ]
  },
  {
   "cell_type": "markdown",
   "metadata": {},
   "source": [
    "### Convert Volume to Millions of Reais"
   ]
  },
  {
   "cell_type": "code",
   "execution_count": 5,
   "metadata": {},
   "outputs": [],
   "source": [
    "%matplotlib qt5"
   ]
  },
  {
   "cell_type": "code",
   "execution_count": 6,
   "metadata": {},
   "outputs": [],
   "source": [
    "df.Volume *= 10**-6\n",
    "from datetime import date\n",
    "import matplotlib.pyplot as plt \n",
    "import matplotlib.ticker as ticker\n",
    "import numpy as np"
   ]
  },
  {
   "cell_type": "code",
   "execution_count": 8,
   "metadata": {},
   "outputs": [],
   "source": [
    "fig = plt.figure(figsize=(19,10))\n",
    "ax1 = plt.subplot(211);\n",
    "xi = list(range(df.index.size))# x indexes to overwright aver\n",
    "plt.plot(xi, df.Close,'-.', ms=0.5, c='b');\n",
    "plt.plot(xi, df.Close,'d', c='k', alpha=0.7);\n",
    "plt.setp(ax1.get_xticklabels(), visible=False);\n",
    "plt.ylabel('Price R$');\n",
    "plt.ylim(16.5, 20.5)\n",
    "plt.grid()\n",
    "\n",
    "# share x only\n",
    "ax2 = plt.subplot(212, sharex=ax1);\n",
    "ax2.bar(xi, df.Volume, width=0.3)\n",
    "# make these tick labels invisible\n",
    "plt.ylabel('Volume MM R$');\n",
    "# overwright the x axis completely\n",
    "plt.xticks(xi[::50], df.index[::50]);\n",
    "plt.setp(ax2.get_xticklabels(), fontsize=10);\n",
    "plt.xlim(3000, 3200)\n",
    "plt.show()\n",
    "plt.grid()"
   ]
  },
  {
   "cell_type": "markdown",
   "metadata": {},
   "source": [
    "###  LAST DAY VIEW"
   ]
  },
  {
   "cell_type": "code",
   "execution_count": 11,
   "metadata": {
    "scrolled": true
   },
   "outputs": [],
   "source": [
    "# PETR4\n",
    "param = {\n",
    "\t'q': \"PETR4\", # Stock symbol (ex: \"AAPL\")\n",
    "\t'i': min, # Interval size in seconds \n",
    "\t'x': \"BVMF\", # Stock exchange symbol on which stock is traded (ex: \"NASD\")\n",
    "\t'p': \"1D\" # Period (Ex: \"1Y\" = 1 year)\n",
    "}\n",
    "# get price data (return pandas dataframe)\n",
    "df = get_price_data(param)"
   ]
  },
  {
   "cell_type": "code",
   "execution_count": 12,
   "metadata": {},
   "outputs": [
    {
     "name": "stdout",
     "output_type": "stream",
     "text": [
      "406\n"
     ]
    },
    {
     "data": {
      "text/html": [
       "<div>\n",
       "<style scoped>\n",
       "    .dataframe tbody tr th:only-of-type {\n",
       "        vertical-align: middle;\n",
       "    }\n",
       "\n",
       "    .dataframe tbody tr th {\n",
       "        vertical-align: top;\n",
       "    }\n",
       "\n",
       "    .dataframe thead th {\n",
       "        text-align: right;\n",
       "    }\n",
       "</style>\n",
       "<table border=\"1\" class=\"dataframe\">\n",
       "  <thead>\n",
       "    <tr style=\"text-align: right;\">\n",
       "      <th></th>\n",
       "      <th>Open</th>\n",
       "      <th>High</th>\n",
       "      <th>Low</th>\n",
       "      <th>Close</th>\n",
       "      <th>Volume</th>\n",
       "    </tr>\n",
       "  </thead>\n",
       "  <tbody>\n",
       "    <tr>\n",
       "      <th>2018-01-31 16:52:00</th>\n",
       "      <td>19.84</td>\n",
       "      <td>19.85</td>\n",
       "      <td>19.84</td>\n",
       "      <td>19.85</td>\n",
       "      <td>38900</td>\n",
       "    </tr>\n",
       "    <tr>\n",
       "      <th>2018-01-31 16:53:00</th>\n",
       "      <td>19.84</td>\n",
       "      <td>19.85</td>\n",
       "      <td>19.84</td>\n",
       "      <td>19.85</td>\n",
       "      <td>120000</td>\n",
       "    </tr>\n",
       "    <tr>\n",
       "      <th>2018-01-31 16:54:00</th>\n",
       "      <td>19.85</td>\n",
       "      <td>19.86</td>\n",
       "      <td>19.84</td>\n",
       "      <td>19.86</td>\n",
       "      <td>40300</td>\n",
       "    </tr>\n",
       "    <tr>\n",
       "      <th>2018-01-31 16:55:00</th>\n",
       "      <td>19.85</td>\n",
       "      <td>19.87</td>\n",
       "      <td>19.85</td>\n",
       "      <td>19.86</td>\n",
       "      <td>160700</td>\n",
       "    </tr>\n",
       "    <tr>\n",
       "      <th>2018-01-31 16:56:00</th>\n",
       "      <td>19.86</td>\n",
       "      <td>19.86</td>\n",
       "      <td>19.84</td>\n",
       "      <td>19.86</td>\n",
       "      <td>57800</td>\n",
       "    </tr>\n",
       "  </tbody>\n",
       "</table>\n",
       "</div>"
      ],
      "text/plain": [
       "                      Open   High    Low  Close  Volume\n",
       "2018-01-31 16:52:00  19.84  19.85  19.84  19.85   38900\n",
       "2018-01-31 16:53:00  19.84  19.85  19.84  19.85  120000\n",
       "2018-01-31 16:54:00  19.85  19.86  19.84  19.86   40300\n",
       "2018-01-31 16:55:00  19.85  19.87  19.85  19.86  160700\n",
       "2018-01-31 16:56:00  19.86  19.86  19.84  19.86   57800"
      ]
     },
     "execution_count": 12,
     "metadata": {},
     "output_type": "execute_result"
    }
   ],
   "source": [
    "print(df.index.size)\n",
    "df.tail()"
   ]
  },
  {
   "cell_type": "markdown",
   "metadata": {},
   "source": [
    "### Convert Volume to Millions of Reais"
   ]
  },
  {
   "cell_type": "code",
   "execution_count": 13,
   "metadata": {},
   "outputs": [],
   "source": [
    "df.Volume *= 10**-6\n",
    "from datetime import date\n",
    "import matplotlib.pyplot as plt \n",
    "import matplotlib.ticker as ticker\n",
    "import numpy as np"
   ]
  },
  {
   "cell_type": "code",
   "execution_count": 14,
   "metadata": {},
   "outputs": [],
   "source": [
    "fig = plt.figure(figsize=(19,10))\n",
    "ax1 = plt.subplot(211);\n",
    "xi = list(range(df.index.size))# x indexes to overwright aver\n",
    "plt.plot(xi, df.Close,'-.', ms=0.3, c='b');\n",
    "plt.plot(xi, df.Close,'d', c='k', alpha=0.7);\n",
    "plt.setp(ax1.get_xticklabels(), visible=False);\n",
    "plt.ylabel('Price R$');\n",
    "#plt.ylim(19.60, 19.95)\n",
    "\n",
    "# share x only\n",
    "ax2 = plt.subplot(212, sharex=ax1);\n",
    "ax2.bar(xi, df.Volume, width=0.3)\n",
    "# make these tick labels invisible\n",
    "plt.ylabel('Volume MM R$');\n",
    "# overwright the x axis completely\n",
    "plt.xticks(xi[::500], df.index[::500]);\n",
    "plt.setp(ax2.get_xticklabels(), fontsize=10);\n",
    "#plt.xlim(450, 600)\n",
    "#plt.ylim(0, 1.5)"
   ]
  },
  {
   "cell_type": "markdown",
   "metadata": {},
   "source": [
    "### Calculate Volume at price Histogram considering all data"
   ]
  },
  {
   "cell_type": "code",
   "execution_count": 15,
   "metadata": {},
   "outputs": [
    {
     "data": {
      "text/plain": [
       "<matplotlib.axes._subplots.AxesSubplot at 0x7ffb6adcac18>"
      ]
     },
     "execution_count": 15,
     "metadata": {},
     "output_type": "execute_result"
    }
   ],
   "source": [
    "plt.figure(figsize=(10,4))\n",
    "vdf = df.set_index(df.Close)\n",
    "vdf.Close.hist(bins=50)"
   ]
  },
  {
   "cell_type": "code",
   "execution_count": 16,
   "metadata": {
    "scrolled": true
   },
   "outputs": [
    {
     "data": {
      "text/html": [
       "<div>\n",
       "<style scoped>\n",
       "    .dataframe tbody tr th:only-of-type {\n",
       "        vertical-align: middle;\n",
       "    }\n",
       "\n",
       "    .dataframe tbody tr th {\n",
       "        vertical-align: top;\n",
       "    }\n",
       "\n",
       "    .dataframe thead th {\n",
       "        text-align: right;\n",
       "    }\n",
       "</style>\n",
       "<table border=\"1\" class=\"dataframe\">\n",
       "  <thead>\n",
       "    <tr style=\"text-align: right;\">\n",
       "      <th></th>\n",
       "      <th>Open</th>\n",
       "      <th>High</th>\n",
       "      <th>Low</th>\n",
       "      <th>Volume</th>\n",
       "    </tr>\n",
       "    <tr>\n",
       "      <th>Close</th>\n",
       "      <th></th>\n",
       "      <th></th>\n",
       "      <th></th>\n",
       "      <th></th>\n",
       "    </tr>\n",
       "  </thead>\n",
       "  <tbody>\n",
       "    <tr>\n",
       "      <th>19.69</th>\n",
       "      <td>19.70</td>\n",
       "      <td>19.71</td>\n",
       "      <td>19.68</td>\n",
       "      <td>0.1641</td>\n",
       "    </tr>\n",
       "    <tr>\n",
       "      <th>19.71</th>\n",
       "      <td>78.81</td>\n",
       "      <td>78.86</td>\n",
       "      <td>78.77</td>\n",
       "      <td>0.4268</td>\n",
       "    </tr>\n",
       "    <tr>\n",
       "      <th>19.72</th>\n",
       "      <td>39.50</td>\n",
       "      <td>39.51</td>\n",
       "      <td>39.40</td>\n",
       "      <td>0.3695</td>\n",
       "    </tr>\n",
       "    <tr>\n",
       "      <th>19.73</th>\n",
       "      <td>39.45</td>\n",
       "      <td>39.48</td>\n",
       "      <td>39.43</td>\n",
       "      <td>0.2875</td>\n",
       "    </tr>\n",
       "    <tr>\n",
       "      <th>19.74</th>\n",
       "      <td>98.74</td>\n",
       "      <td>98.77</td>\n",
       "      <td>98.65</td>\n",
       "      <td>0.5447</td>\n",
       "    </tr>\n",
       "  </tbody>\n",
       "</table>\n",
       "</div>"
      ],
      "text/plain": [
       "        Open   High    Low  Volume\n",
       "Close                             \n",
       "19.69  19.70  19.71  19.68  0.1641\n",
       "19.71  78.81  78.86  78.77  0.4268\n",
       "19.72  39.50  39.51  39.40  0.3695\n",
       "19.73  39.45  39.48  39.43  0.2875\n",
       "19.74  98.74  98.77  98.65  0.5447"
      ]
     },
     "execution_count": 16,
     "metadata": {},
     "output_type": "execute_result"
    }
   ],
   "source": [
    "vdfby = df.groupby('Close').sum()\n",
    "vdfby.head()"
   ]
  },
  {
   "cell_type": "code",
   "execution_count": 18,
   "metadata": {},
   "outputs": [],
   "source": [
    "plt.figure(figsize=(10,5))\n",
    "plt.bar(vdfby.index, vdfby.Volume, width=0.005)\n",
    "plt.ylabel('Volume MM R$')\n",
    "plt.xlabel('Price in R$')\n",
    "plt.title('Volume at @ price')\n",
    "plt.xlim(19.75,19.95)\n",
    "plt.grid()"
   ]
  },
  {
   "cell_type": "markdown",
   "metadata": {},
   "source": [
    "###  LAST MONTH VIEW"
   ]
  },
  {
   "cell_type": "code",
   "execution_count": 17,
   "metadata": {
    "scrolled": true
   },
   "outputs": [],
   "source": [
    "# PETR4\n",
    "param = {\n",
    "\t'q': \"PETR4\", # Stock symbol (ex: \"AAPL\")\n",
    "\t'i': min, # Interval size in seconds \n",
    "\t'x': \"BVMF\", # Stock exchange symbol on which stock is traded (ex: \"NASD\")\n",
    "\t'p': \"1M\" # Period (Ex: \"1Y\" = 1 year)\n",
    "}\n",
    "# get price data (return pandas dataframe)\n",
    "df = get_price_data(param)"
   ]
  },
  {
   "cell_type": "code",
   "execution_count": 18,
   "metadata": {},
   "outputs": [
    {
     "name": "stdout",
     "output_type": "stream",
     "text": [
      "5742\n"
     ]
    },
    {
     "data": {
      "text/html": [
       "<div>\n",
       "<style scoped>\n",
       "    .dataframe tbody tr th:only-of-type {\n",
       "        vertical-align: middle;\n",
       "    }\n",
       "\n",
       "    .dataframe tbody tr th {\n",
       "        vertical-align: top;\n",
       "    }\n",
       "\n",
       "    .dataframe thead th {\n",
       "        text-align: right;\n",
       "    }\n",
       "</style>\n",
       "<table border=\"1\" class=\"dataframe\">\n",
       "  <thead>\n",
       "    <tr style=\"text-align: right;\">\n",
       "      <th></th>\n",
       "      <th>Open</th>\n",
       "      <th>High</th>\n",
       "      <th>Low</th>\n",
       "      <th>Close</th>\n",
       "      <th>Volume</th>\n",
       "    </tr>\n",
       "  </thead>\n",
       "  <tbody>\n",
       "    <tr>\n",
       "      <th>2018-01-11 10:06:00</th>\n",
       "      <td>16.88</td>\n",
       "      <td>16.91</td>\n",
       "      <td>16.88</td>\n",
       "      <td>16.89</td>\n",
       "      <td>235100</td>\n",
       "    </tr>\n",
       "    <tr>\n",
       "      <th>2018-01-11 10:07:00</th>\n",
       "      <td>16.90</td>\n",
       "      <td>16.91</td>\n",
       "      <td>16.89</td>\n",
       "      <td>16.90</td>\n",
       "      <td>65200</td>\n",
       "    </tr>\n",
       "    <tr>\n",
       "      <th>2018-01-11 10:08:00</th>\n",
       "      <td>16.90</td>\n",
       "      <td>16.91</td>\n",
       "      <td>16.89</td>\n",
       "      <td>16.89</td>\n",
       "      <td>104600</td>\n",
       "    </tr>\n",
       "    <tr>\n",
       "      <th>2018-01-11 10:09:00</th>\n",
       "      <td>16.90</td>\n",
       "      <td>16.91</td>\n",
       "      <td>16.89</td>\n",
       "      <td>16.91</td>\n",
       "      <td>110600</td>\n",
       "    </tr>\n",
       "    <tr>\n",
       "      <th>2018-01-11 10:10:00</th>\n",
       "      <td>16.91</td>\n",
       "      <td>16.92</td>\n",
       "      <td>16.90</td>\n",
       "      <td>16.91</td>\n",
       "      <td>76700</td>\n",
       "    </tr>\n",
       "  </tbody>\n",
       "</table>\n",
       "</div>"
      ],
      "text/plain": [
       "                      Open   High    Low  Close  Volume\n",
       "2018-01-11 10:06:00  16.88  16.91  16.88  16.89  235100\n",
       "2018-01-11 10:07:00  16.90  16.91  16.89  16.90   65200\n",
       "2018-01-11 10:08:00  16.90  16.91  16.89  16.89  104600\n",
       "2018-01-11 10:09:00  16.90  16.91  16.89  16.91  110600\n",
       "2018-01-11 10:10:00  16.91  16.92  16.90  16.91   76700"
      ]
     },
     "execution_count": 18,
     "metadata": {},
     "output_type": "execute_result"
    }
   ],
   "source": [
    "print(df.index.size)\n",
    "df.head()"
   ]
  },
  {
   "cell_type": "code",
   "execution_count": 19,
   "metadata": {},
   "outputs": [
    {
     "data": {
      "text/html": [
       "<div>\n",
       "<style scoped>\n",
       "    .dataframe tbody tr th:only-of-type {\n",
       "        vertical-align: middle;\n",
       "    }\n",
       "\n",
       "    .dataframe tbody tr th {\n",
       "        vertical-align: top;\n",
       "    }\n",
       "\n",
       "    .dataframe thead th {\n",
       "        text-align: right;\n",
       "    }\n",
       "</style>\n",
       "<table border=\"1\" class=\"dataframe\">\n",
       "  <thead>\n",
       "    <tr style=\"text-align: right;\">\n",
       "      <th></th>\n",
       "      <th>Open</th>\n",
       "      <th>High</th>\n",
       "      <th>Low</th>\n",
       "      <th>Close</th>\n",
       "      <th>Volume</th>\n",
       "    </tr>\n",
       "  </thead>\n",
       "  <tbody>\n",
       "    <tr>\n",
       "      <th>2018-01-31 16:52:00</th>\n",
       "      <td>19.84</td>\n",
       "      <td>19.85</td>\n",
       "      <td>19.84</td>\n",
       "      <td>19.85</td>\n",
       "      <td>38900</td>\n",
       "    </tr>\n",
       "    <tr>\n",
       "      <th>2018-01-31 16:53:00</th>\n",
       "      <td>19.84</td>\n",
       "      <td>19.85</td>\n",
       "      <td>19.84</td>\n",
       "      <td>19.85</td>\n",
       "      <td>120000</td>\n",
       "    </tr>\n",
       "    <tr>\n",
       "      <th>2018-01-31 16:54:00</th>\n",
       "      <td>19.85</td>\n",
       "      <td>19.86</td>\n",
       "      <td>19.84</td>\n",
       "      <td>19.86</td>\n",
       "      <td>40300</td>\n",
       "    </tr>\n",
       "    <tr>\n",
       "      <th>2018-01-31 16:55:00</th>\n",
       "      <td>19.85</td>\n",
       "      <td>19.87</td>\n",
       "      <td>19.85</td>\n",
       "      <td>19.86</td>\n",
       "      <td>160700</td>\n",
       "    </tr>\n",
       "    <tr>\n",
       "      <th>2018-01-31 16:56:00</th>\n",
       "      <td>19.86</td>\n",
       "      <td>19.86</td>\n",
       "      <td>19.84</td>\n",
       "      <td>19.86</td>\n",
       "      <td>57800</td>\n",
       "    </tr>\n",
       "  </tbody>\n",
       "</table>\n",
       "</div>"
      ],
      "text/plain": [
       "                      Open   High    Low  Close  Volume\n",
       "2018-01-31 16:52:00  19.84  19.85  19.84  19.85   38900\n",
       "2018-01-31 16:53:00  19.84  19.85  19.84  19.85  120000\n",
       "2018-01-31 16:54:00  19.85  19.86  19.84  19.86   40300\n",
       "2018-01-31 16:55:00  19.85  19.87  19.85  19.86  160700\n",
       "2018-01-31 16:56:00  19.86  19.86  19.84  19.86   57800"
      ]
     },
     "execution_count": 19,
     "metadata": {},
     "output_type": "execute_result"
    }
   ],
   "source": [
    "df.tail()"
   ]
  },
  {
   "cell_type": "markdown",
   "metadata": {},
   "source": [
    "### Convert Volume to Millions of Reais"
   ]
  },
  {
   "cell_type": "code",
   "execution_count": 20,
   "metadata": {},
   "outputs": [],
   "source": [
    "df.Volume *= 10**-6\n",
    "from datetime import date\n",
    "import matplotlib.pyplot as plt \n",
    "import matplotlib.ticker as ticker\n",
    "import numpy as np"
   ]
  },
  {
   "cell_type": "code",
   "execution_count": 21,
   "metadata": {},
   "outputs": [
    {
     "data": {
      "image/png": "[encoded data removed]",
      "text/plain": [
       "<matplotlib.figure.Figure at 0x7f18dd092550>"
      ]
     },
     "metadata": {},
     "output_type": "display_data"
    }
   ],
   "source": [
    "fig = plt.figure(figsize=(19,10))\n",
    "ax1 = plt.subplot(211);\n",
    "xi = list(range(df.index.size))# x indexes to overwright aver\n",
    "plt.plot(xi, df.Close,'-.', ms=0.3, c='b');\n",
    "plt.plot(xi, df.Close,'d', c='k', alpha=0.7);\n",
    "plt.setp(ax1.get_xticklabels(), visible=False);\n",
    "plt.ylabel('Price R$');\n",
    "plt.ylim(19.00, 19.95)\n",
    "plt.grid()\n",
    "\n",
    "# share x only\n",
    "ax2 = plt.subplot(212, sharex=ax1);\n",
    "ax2.bar(xi, df.Volume, width=0.3)\n",
    "# make these tick labels invisible\n",
    "plt.ylabel('Volume MM R$');\n",
    "# overwright the x axis completely\n",
    "plt.xticks(xi[::100], df.index[::100]);\n",
    "plt.setp(ax2.get_xticklabels(), fontsize=10);\n",
    "plt.xlim(5250, 6000)\n",
    "plt.ylim(0, 1.0)\n",
    "plt.grid()"
   ]
  },
  {
   "cell_type": "markdown",
   "metadata": {},
   "source": [
    "### Calculate Volume at price Histogram considering all data"
   ]
  },
  {
   "cell_type": "code",
   "execution_count": 22,
   "metadata": {},
   "outputs": [
    {
     "data": {
      "text/plain": [
       "<matplotlib.axes._subplots.AxesSubplot at 0x7f18d3129048>"
      ]
     },
     "execution_count": 22,
     "metadata": {},
     "output_type": "execute_result"
    },
    {
     "data": {
      "image/png": "[encoded data removed]",
      "text/plain": [
       "<matplotlib.figure.Figure at 0x7f18d3483128>"
      ]
     },
     "metadata": {},
     "output_type": "display_data"
    }
   ],
   "source": [
    "plt.figure(figsize=(10,4))\n",
    "vdf = df.set_index(df.Close)\n",
    "vdf.Close.hist(bins=50)"
   ]
  },
  {
   "cell_type": "code",
   "execution_count": 23,
   "metadata": {
    "scrolled": true
   },
   "outputs": [
    {
     "data": {
      "text/html": [
       "<div>\n",
       "<style scoped>\n",
       "    .dataframe tbody tr th:only-of-type {\n",
       "        vertical-align: middle;\n",
       "    }\n",
       "\n",
       "    .dataframe tbody tr th {\n",
       "        vertical-align: top;\n",
       "    }\n",
       "\n",
       "    .dataframe thead th {\n",
       "        text-align: right;\n",
       "    }\n",
       "</style>\n",
       "<table border=\"1\" class=\"dataframe\">\n",
       "  <thead>\n",
       "    <tr style=\"text-align: right;\">\n",
       "      <th></th>\n",
       "      <th>Open</th>\n",
       "      <th>High</th>\n",
       "      <th>Low</th>\n",
       "      <th>Volume</th>\n",
       "    </tr>\n",
       "    <tr>\n",
       "      <th>Close</th>\n",
       "      <th></th>\n",
       "      <th></th>\n",
       "      <th></th>\n",
       "      <th></th>\n",
       "    </tr>\n",
       "  </thead>\n",
       "  <tbody>\n",
       "    <tr>\n",
       "      <th>16.85</th>\n",
       "      <td>16.86</td>\n",
       "      <td>16.86</td>\n",
       "      <td>16.85</td>\n",
       "      <td>0.0685</td>\n",
       "    </tr>\n",
       "    <tr>\n",
       "      <th>16.86</th>\n",
       "      <td>16.88</td>\n",
       "      <td>16.89</td>\n",
       "      <td>16.86</td>\n",
       "      <td>0.1878</td>\n",
       "    </tr>\n",
       "    <tr>\n",
       "      <th>16.87</th>\n",
       "      <td>50.59</td>\n",
       "      <td>50.62</td>\n",
       "      <td>50.56</td>\n",
       "      <td>0.1706</td>\n",
       "    </tr>\n",
       "    <tr>\n",
       "      <th>16.88</th>\n",
       "      <td>219.53</td>\n",
       "      <td>219.63</td>\n",
       "      <td>219.43</td>\n",
       "      <td>0.9381</td>\n",
       "    </tr>\n",
       "    <tr>\n",
       "      <th>16.89</th>\n",
       "      <td>827.83</td>\n",
       "      <td>828.10</td>\n",
       "      <td>827.45</td>\n",
       "      <td>1.9001</td>\n",
       "    </tr>\n",
       "  </tbody>\n",
       "</table>\n",
       "</div>"
      ],
      "text/plain": [
       "         Open    High     Low  Volume\n",
       "Close                                \n",
       "16.85   16.86   16.86   16.85  0.0685\n",
       "16.86   16.88   16.89   16.86  0.1878\n",
       "16.87   50.59   50.62   50.56  0.1706\n",
       "16.88  219.53  219.63  219.43  0.9381\n",
       "16.89  827.83  828.10  827.45  1.9001"
      ]
     },
     "execution_count": 23,
     "metadata": {},
     "output_type": "execute_result"
    }
   ],
   "source": [
    "vdfby = df.groupby('Close').sum()\n",
    "vdfby.head()"
   ]
  },
  {
   "cell_type": "code",
   "execution_count": 25,
   "metadata": {},
   "outputs": [
    {
     "data": {
      "text/plain": [
       "(19.0, 20)"
      ]
     },
     "execution_count": 25,
     "metadata": {},
     "output_type": "execute_result"
    },
    {
     "data": {
      "image/png": "[encoded data removed]",
      "text/plain": [
       "<matplotlib.figure.Figure at 0x7f18d0071278>"
      ]
     },
     "metadata": {},
     "output_type": "display_data"
    }
   ],
   "source": [
    "plt.figure(figsize=(15,5))\n",
    "plt.bar(vdfby.index, vdfby.Volume, width=0.007)\n",
    "plt.ylabel('Volume MM R$')\n",
    "plt.xlabel('Price in R$')\n",
    "plt.title('Volume at @ price')\n",
    "plt.grid(which='both')\n",
    "plt.xlim(19.0,20)"
   ]
  },
  {
   "cell_type": "code",
   "execution_count": null,
   "metadata": {},
   "outputs": [],
   "source": []
  }
 ],
 "metadata": {
  "kernelspec": {
   "display_name": "Python 3",
   "language": "python",
   "name": "python3"
  },
  "language_info": {
   "codemirror_mode": {
    "name": "ipython",
    "version": 3
   },
   "file_extension": ".py",
   "mimetype": "text/x-python",
   "name": "python",
   "nbconvert_exporter": "python",
   "pygments_lexer": "ipython3",
   "version": "3.6.4"
  }
 },
 "nbformat": 4,
 "nbformat_minor": 2
}
