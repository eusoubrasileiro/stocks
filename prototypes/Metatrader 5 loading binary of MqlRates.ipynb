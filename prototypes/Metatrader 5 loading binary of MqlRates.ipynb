{
 "cells": [
  {
   "cell_type": "markdown",
   "metadata": {},
   "source": [
    "MQL5 MqlRates struct all data comes as a an array of that"
   ]
  },
  {
   "cell_type": "raw",
   "metadata": {},
   "source": [
    "struct MqlRates \n",
    "  { \n",
    "   datetime time;         // Hora inicial do período 8 bytes\n",
    "   double   open;         // Preço de abertura \n",
    "   double   high;         // O preço mais alto do período \n",
    "   double   low;          // O preço mais baixo do período \n",
    "   double   close;        // Preço de fechamento \n",
    "   long     tick_volume;  // Volume de Tick \n",
    "   int      spread;       // Spread \n",
    "   long     real_volume;  // Volume de negociação \n",
    "  };"
   ]
  },
  {
   "cell_type": "code",
   "execution_count": 1,
   "metadata": {},
   "outputs": [],
   "source": [
    "import numpy as np\n",
    "import os\n",
    "\n",
    "dtype = np.dtype([\n",
    "    (\"time\", np.int64),\n",
    "    (\"O\", np.float64),\n",
    "    (\"H\", np.float64),\n",
    "    (\"L\", np.float64),\n",
    "    (\"C\", np.float64),\n",
    "    (\"TV\", np.int64),\n",
    "    (\"S\", np.int32),\n",
    "    (\"RV\", np.int64)\n",
    "])"
   ]
  },
  {
   "cell_type": "code",
   "execution_count": 2,
   "metadata": {},
   "outputs": [
    {
     "name": "stdout",
     "output_type": "stream",
     "text": [
      "/home/andre/.wine/drive_c/Program Files/MetaTrader 5/MQL5/Files\n"
     ]
    }
   ],
   "source": [
    "cd /home/andre/.wine/drive_c/Program Files/MetaTrader 5/MQL5/Files"
   ]
  },
  {
   "cell_type": "code",
   "execution_count": 3,
   "metadata": {},
   "outputs": [],
   "source": [
    "data = np.fromfile('PETR495data.bin', dtype=dtype)"
   ]
  },
  {
   "cell_type": "code",
   "execution_count": 4,
   "metadata": {},
   "outputs": [],
   "source": [
    "import pandas as pd\n",
    "import datetime"
   ]
  },
  {
   "cell_type": "code",
   "execution_count": 5,
   "metadata": {},
   "outputs": [],
   "source": [
    "### first and last data just 64 mb of data entire PETR4"
   ]
  },
  {
   "cell_type": "code",
   "execution_count": 6,
   "metadata": {},
   "outputs": [
    {
     "data": {
      "text/plain": [
       "datetime.datetime(2018, 6, 13, 17, 59)"
      ]
     },
     "execution_count": 6,
     "metadata": {},
     "output_type": "execute_result"
    }
   ],
   "source": [
    "datetime.datetime.utcfromtimestamp(data[-1][0])"
   ]
  },
  {
   "cell_type": "code",
   "execution_count": 7,
   "metadata": {},
   "outputs": [
    {
     "data": {
      "text/plain": [
       "datetime.datetime(2008, 5, 23, 10, 5)"
      ]
     },
     "execution_count": 7,
     "metadata": {},
     "output_type": "execute_result"
    }
   ],
   "source": [
    "datetime.datetime.utcfromtimestamp(data[0][0])"
   ]
  },
  {
   "cell_type": "code",
   "execution_count": 8,
   "metadata": {},
   "outputs": [],
   "source": [
    "df = pd.DataFrame(data)"
   ]
  },
  {
   "cell_type": "code",
   "execution_count": 9,
   "metadata": {},
   "outputs": [],
   "source": [
    "df.time = df.time.apply(lambda x: datetime.datetime.utcfromtimestamp(x))"
   ]
  },
  {
   "cell_type": "code",
   "execution_count": 11,
   "metadata": {},
   "outputs": [
    {
     "data": {
      "text/html": [
       "<div>\n",
       "<style scoped>\n",
       "    .dataframe tbody tr th:only-of-type {\n",
       "        vertical-align: middle;\n",
       "    }\n",
       "\n",
       "    .dataframe tbody tr th {\n",
       "        vertical-align: top;\n",
       "    }\n",
       "\n",
       "    .dataframe thead th {\n",
       "        text-align: right;\n",
       "    }\n",
       "</style>\n",
       "<table border=\"1\" class=\"dataframe\">\n",
       "  <thead>\n",
       "    <tr style=\"text-align: right;\">\n",
       "      <th></th>\n",
       "      <th>O</th>\n",
       "      <th>H</th>\n",
       "      <th>L</th>\n",
       "      <th>C</th>\n",
       "      <th>TV</th>\n",
       "      <th>S</th>\n",
       "      <th>RV</th>\n",
       "    </tr>\n",
       "    <tr>\n",
       "      <th>time</th>\n",
       "      <th></th>\n",
       "      <th></th>\n",
       "      <th></th>\n",
       "      <th></th>\n",
       "      <th></th>\n",
       "      <th></th>\n",
       "      <th></th>\n",
       "    </tr>\n",
       "  </thead>\n",
       "  <tbody>\n",
       "    <tr>\n",
       "      <th>2008-05-23 10:05:00</th>\n",
       "      <td>39.07</td>\n",
       "      <td>39.07</td>\n",
       "      <td>39.07</td>\n",
       "      <td>39.07</td>\n",
       "      <td>815</td>\n",
       "      <td>1</td>\n",
       "      <td>754300</td>\n",
       "    </tr>\n",
       "    <tr>\n",
       "      <th>2008-05-23 10:06:00</th>\n",
       "      <td>39.22</td>\n",
       "      <td>39.22</td>\n",
       "      <td>39.06</td>\n",
       "      <td>39.21</td>\n",
       "      <td>186</td>\n",
       "      <td>1</td>\n",
       "      <td>164800</td>\n",
       "    </tr>\n",
       "    <tr>\n",
       "      <th>2008-05-23 10:07:00</th>\n",
       "      <td>39.22</td>\n",
       "      <td>39.22</td>\n",
       "      <td>39.11</td>\n",
       "      <td>39.14</td>\n",
       "      <td>137</td>\n",
       "      <td>1</td>\n",
       "      <td>146000</td>\n",
       "    </tr>\n",
       "    <tr>\n",
       "      <th>2008-05-23 10:08:00</th>\n",
       "      <td>39.14</td>\n",
       "      <td>39.17</td>\n",
       "      <td>38.83</td>\n",
       "      <td>38.91</td>\n",
       "      <td>321</td>\n",
       "      <td>1</td>\n",
       "      <td>264500</td>\n",
       "    </tr>\n",
       "    <tr>\n",
       "      <th>2008-05-23 10:09:00</th>\n",
       "      <td>38.91</td>\n",
       "      <td>38.95</td>\n",
       "      <td>38.83</td>\n",
       "      <td>38.94</td>\n",
       "      <td>142</td>\n",
       "      <td>1</td>\n",
       "      <td>148700</td>\n",
       "    </tr>\n",
       "  </tbody>\n",
       "</table>\n",
       "</div>"
      ],
      "text/plain": [
       "                         O      H      L      C   TV  S      RV\n",
       "time                                                           \n",
       "2008-05-23 10:05:00  39.07  39.07  39.07  39.07  815  1  754300\n",
       "2008-05-23 10:06:00  39.22  39.22  39.06  39.21  186  1  164800\n",
       "2008-05-23 10:07:00  39.22  39.22  39.11  39.14  137  1  146000\n",
       "2008-05-23 10:08:00  39.14  39.17  38.83  38.91  321  1  264500\n",
       "2008-05-23 10:09:00  38.91  38.95  38.83  38.94  142  1  148700"
      ]
     },
     "execution_count": 11,
     "metadata": {},
     "output_type": "execute_result"
    }
   ],
   "source": [
    "df.set_index('time').head()"
   ]
  },
  {
   "cell_type": "code",
   "execution_count": 5,
   "metadata": {},
   "outputs": [
    {
     "name": "stdout",
     "output_type": "stream",
     "text": [
      "/home/andre/PycharmProjects/gitstocks/stocks\n"
     ]
    }
   ],
   "source": [
    "cd /home/andre/PycharmProjects/gitstocks/stocks"
   ]
  },
  {
   "cell_type": "code",
   "execution_count": 42,
   "metadata": {},
   "outputs": [],
   "source": [
    "from Tools import Meta5_Ibov_Load "
   ]
  },
  {
   "cell_type": "code",
   "execution_count": 43,
   "metadata": {},
   "outputs": [
    {
     "data": {
      "text/plain": [
       "<module 'Tools.Meta5_Ibov_Load' from '/home/andre/PycharmProjects/gitstocks/stocks/Tools/Meta5_Ibov_Load.py'>"
      ]
     },
     "execution_count": 43,
     "metadata": {},
     "output_type": "execute_result"
    }
   ],
   "source": [
    "import importlib\n",
    "importlib.reload(Meta5_Ibov_Load)"
   ]
  },
  {
   "cell_type": "code",
   "execution_count": 44,
   "metadata": {},
   "outputs": [
    {
     "name": "stdout",
     "output_type": "stream",
     "text": [
      "master data loaded size (minutes) 507080\n",
      "Symbols lodaded:\n",
      "0    PETR4\n",
      "1    BBDC4\n",
      "2    BBAS3\n",
      "3    ABEV3\n",
      "4    ITUB4\n",
      "5    VALE3\n",
      "6     DOL$\n",
      "dtype: object\n"
     ]
    }
   ],
   "source": [
    "Meta5_Ibov_Load.Set_Data_Path('/home/andre/PycharmProjects/gitstocks/stocks/data', \n",
    "                              '/home/andre/.wine/drive_c/Program Files/MetaTrader 5/MQL5/Files')"
   ]
  },
  {
   "cell_type": "code",
   "execution_count": 46,
   "metadata": {},
   "outputs": [],
   "source": [
    "##507080/(60*7*365)"
   ]
  },
  {
   "cell_type": "code",
   "execution_count": 47,
   "metadata": {},
   "outputs": [],
   "source": [
    "#Meta5_Ibov_Load.Load_Meta5_Data()"
   ]
  },
  {
   "cell_type": "code",
   "execution_count": 48,
   "metadata": {},
   "outputs": [],
   "source": [
    "df = Meta5_Ibov_Load.masterdf"
   ]
  },
  {
   "cell_type": "code",
   "execution_count": 49,
   "metadata": {},
   "outputs": [
    {
     "name": "stdout",
     "output_type": "stream",
     "text": [
      "percentage of missing minute data  2.90%\n"
     ]
    }
   ],
   "source": [
    "Meta5_Ibov_Load.Report_Missing(df)"
   ]
  },
  {
   "cell_type": "code",
   "execution_count": 50,
   "metadata": {},
   "outputs": [
    {
     "data": {
      "text/html": [
       "<div>\n",
       "<style scoped>\n",
       "    .dataframe tbody tr th:only-of-type {\n",
       "        vertical-align: middle;\n",
       "    }\n",
       "\n",
       "    .dataframe tbody tr th {\n",
       "        vertical-align: top;\n",
       "    }\n",
       "\n",
       "    .dataframe thead th {\n",
       "        text-align: right;\n",
       "    }\n",
       "</style>\n",
       "<table border=\"1\" class=\"dataframe\">\n",
       "  <thead>\n",
       "    <tr style=\"text-align: right;\">\n",
       "      <th></th>\n",
       "      <th>O</th>\n",
       "      <th>H</th>\n",
       "      <th>L</th>\n",
       "      <th>C</th>\n",
       "      <th>TV</th>\n",
       "      <th>RV</th>\n",
       "      <th>O</th>\n",
       "      <th>H</th>\n",
       "      <th>L</th>\n",
       "      <th>C</th>\n",
       "      <th>...</th>\n",
       "      <th>L</th>\n",
       "      <th>C</th>\n",
       "      <th>TV</th>\n",
       "      <th>RV</th>\n",
       "      <th>O</th>\n",
       "      <th>H</th>\n",
       "      <th>L</th>\n",
       "      <th>C</th>\n",
       "      <th>TV</th>\n",
       "      <th>RV</th>\n",
       "    </tr>\n",
       "    <tr>\n",
       "      <th>time</th>\n",
       "      <th></th>\n",
       "      <th></th>\n",
       "      <th></th>\n",
       "      <th></th>\n",
       "      <th></th>\n",
       "      <th></th>\n",
       "      <th></th>\n",
       "      <th></th>\n",
       "      <th></th>\n",
       "      <th></th>\n",
       "      <th></th>\n",
       "      <th></th>\n",
       "      <th></th>\n",
       "      <th></th>\n",
       "      <th></th>\n",
       "      <th></th>\n",
       "      <th></th>\n",
       "      <th></th>\n",
       "      <th></th>\n",
       "      <th></th>\n",
       "      <th></th>\n",
       "    </tr>\n",
       "  </thead>\n",
       "  <tbody>\n",
       "    <tr>\n",
       "      <th>2018-06-14 17:47:00</th>\n",
       "      <td>15.07</td>\n",
       "      <td>15.08</td>\n",
       "      <td>15.06</td>\n",
       "      <td>15.08</td>\n",
       "      <td>8</td>\n",
       "      <td>11700</td>\n",
       "      <td>25.38</td>\n",
       "      <td>25.38</td>\n",
       "      <td>25.35</td>\n",
       "      <td>25.35</td>\n",
       "      <td>...</td>\n",
       "      <td>51.64</td>\n",
       "      <td>51.64</td>\n",
       "      <td>2</td>\n",
       "      <td>1700</td>\n",
       "      <td>3810.0</td>\n",
       "      <td>3810.5</td>\n",
       "      <td>3809.5</td>\n",
       "      <td>3810.5</td>\n",
       "      <td>12</td>\n",
       "      <td>110</td>\n",
       "    </tr>\n",
       "  </tbody>\n",
       "</table>\n",
       "<p>1 rows × 42 columns</p>\n",
       "</div>"
      ],
      "text/plain": [
       "                         O      H      L      C  TV     RV      O      H  \\\n",
       "time                                                                       \n",
       "2018-06-14 17:47:00  15.07  15.08  15.06  15.08   8  11700  25.38  25.38   \n",
       "\n",
       "                         L      C ...       L      C  TV    RV       O  \\\n",
       "time                              ...                                    \n",
       "2018-06-14 17:47:00  25.35  25.35 ...   51.64  51.64   2  1700  3810.0   \n",
       "\n",
       "                          H       L       C  TV   RV  \n",
       "time                                                  \n",
       "2018-06-14 17:47:00  3810.5  3809.5  3810.5  12  110  \n",
       "\n",
       "[1 rows x 42 columns]"
      ]
     },
     "execution_count": 50,
     "metadata": {},
     "output_type": "execute_result"
    }
   ],
   "source": [
    "df.tail(1)"
   ]
  },
  {
   "cell_type": "code",
   "execution_count": 51,
   "metadata": {},
   "outputs": [
    {
     "data": {
      "text/html": [
       "<div>\n",
       "<style scoped>\n",
       "    .dataframe tbody tr th:only-of-type {\n",
       "        vertical-align: middle;\n",
       "    }\n",
       "\n",
       "    .dataframe tbody tr th {\n",
       "        vertical-align: top;\n",
       "    }\n",
       "\n",
       "    .dataframe thead th {\n",
       "        text-align: right;\n",
       "    }\n",
       "</style>\n",
       "<table border=\"1\" class=\"dataframe\">\n",
       "  <thead>\n",
       "    <tr style=\"text-align: right;\">\n",
       "      <th></th>\n",
       "      <th>O</th>\n",
       "      <th>H</th>\n",
       "      <th>L</th>\n",
       "      <th>C</th>\n",
       "      <th>TV</th>\n",
       "      <th>RV</th>\n",
       "      <th>O</th>\n",
       "      <th>H</th>\n",
       "      <th>L</th>\n",
       "      <th>C</th>\n",
       "      <th>...</th>\n",
       "      <th>L</th>\n",
       "      <th>C</th>\n",
       "      <th>TV</th>\n",
       "      <th>RV</th>\n",
       "      <th>O</th>\n",
       "      <th>H</th>\n",
       "      <th>L</th>\n",
       "      <th>C</th>\n",
       "      <th>TV</th>\n",
       "      <th>RV</th>\n",
       "    </tr>\n",
       "    <tr>\n",
       "      <th>time</th>\n",
       "      <th></th>\n",
       "      <th></th>\n",
       "      <th></th>\n",
       "      <th></th>\n",
       "      <th></th>\n",
       "      <th></th>\n",
       "      <th></th>\n",
       "      <th></th>\n",
       "      <th></th>\n",
       "      <th></th>\n",
       "      <th></th>\n",
       "      <th></th>\n",
       "      <th></th>\n",
       "      <th></th>\n",
       "      <th></th>\n",
       "      <th></th>\n",
       "      <th></th>\n",
       "      <th></th>\n",
       "      <th></th>\n",
       "      <th></th>\n",
       "      <th></th>\n",
       "    </tr>\n",
       "  </thead>\n",
       "  <tbody>\n",
       "    <tr>\n",
       "      <th>2013-05-31 10:07:00</th>\n",
       "      <td>18.74</td>\n",
       "      <td>18.77</td>\n",
       "      <td>18.74</td>\n",
       "      <td>18.77</td>\n",
       "      <td>53</td>\n",
       "      <td>105300</td>\n",
       "      <td>17.17</td>\n",
       "      <td>17.17</td>\n",
       "      <td>17.16</td>\n",
       "      <td>17.16</td>\n",
       "      <td>...</td>\n",
       "      <td>26.08</td>\n",
       "      <td>26.1</td>\n",
       "      <td>33</td>\n",
       "      <td>8800</td>\n",
       "      <td>3261.267</td>\n",
       "      <td>3262.029</td>\n",
       "      <td>3260.506</td>\n",
       "      <td>3260.506</td>\n",
       "      <td>920</td>\n",
       "      <td>1155</td>\n",
       "    </tr>\n",
       "  </tbody>\n",
       "</table>\n",
       "<p>1 rows × 42 columns</p>\n",
       "</div>"
      ],
      "text/plain": [
       "                         O      H      L      C  TV      RV      O      H  \\\n",
       "time                                                                        \n",
       "2013-05-31 10:07:00  18.74  18.77  18.74  18.77  53  105300  17.17  17.17   \n",
       "\n",
       "                         L      C  ...       L     C  TV    RV         O  \\\n",
       "time                               ...                                     \n",
       "2013-05-31 10:07:00  17.16  17.16  ...   26.08  26.1  33  8800  3261.267   \n",
       "\n",
       "                            H         L         C   TV    RV  \n",
       "time                                                          \n",
       "2013-05-31 10:07:00  3262.029  3260.506  3260.506  920  1155  \n",
       "\n",
       "[1 rows x 42 columns]"
      ]
     },
     "execution_count": 51,
     "metadata": {},
     "output_type": "execute_result"
    }
   ],
   "source": [
    "df.head(1)"
   ]
  },
  {
   "cell_type": "code",
   "execution_count": 52,
   "metadata": {},
   "outputs": [],
   "source": [
    "from matplotlib import pyplot as plt"
   ]
  },
  {
   "cell_type": "code",
   "execution_count": 53,
   "metadata": {},
   "outputs": [],
   "source": [
    "%matplotlib inline\n",
    "df = Meta5_Ibov_Load.FixedColumnNames()"
   ]
  },
  {
   "cell_type": "code",
   "execution_count": 54,
   "metadata": {},
   "outputs": [
    {
     "data": {
      "text/plain": [
       "<matplotlib.axes._subplots.AxesSubplot at 0x7f61b40a3e48>"
      ]
     },
     "execution_count": 54,
     "metadata": {},
     "output_type": "execute_result"
    },
    {
     "data": {
      "image/png": "[encoded data removed]",
      "text/plain": [
       "<Figure size 1080x216 with 1 Axes>"
      ]
     },
     "metadata": {},
     "output_type": "display_data"
    }
   ],
   "source": [
    "plt.figure(figsize=(15,3))\n",
    "df.PETR4_C.plot()"
   ]
  },
  {
   "cell_type": "code",
   "execution_count": null,
   "metadata": {},
   "outputs": [],
   "source": []
  }
 ],
 "metadata": {
  "kernelspec": {
   "display_name": "Python 3",
   "language": "python",
   "name": "python3"
  },
  "language_info": {
   "codemirror_mode": {
    "name": "ipython",
    "version": 3
   },
   "file_extension": ".py",
   "mimetype": "text/x-python",
   "name": "python",
   "nbconvert_exporter": "python",
   "pygments_lexer": "ipython3",
   "version": "3.6.5"
  }
 },
 "nbformat": 4,
 "nbformat_minor": 2
}
