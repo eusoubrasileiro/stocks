{
 "cells": [
  {
   "cell_type": "markdown",
   "metadata": {},
   "source": [
    "#### Using WIN M1 Metatrader 5 data\n",
    "\n",
    "Implementing Saulo's arbitrage algo\n",
    "\n",
    "The idea is to train a guided system that learns and ajusts itself with its owns errors.  \n",
    "That's the idea of a kalman's filter.   \n",
    "The base for the first decision is the Bollinger Bands Algo.  \n",
    "That's the most powerfull algo, based on the regression toward the mean law!"
   ]
  },
  {
   "cell_type": "code",
   "execution_count": 1,
   "metadata": {},
   "outputs": [],
   "source": [
    "%matplotlib inline "
   ]
  },
  {
   "cell_type": "code",
   "execution_count": 2,
   "metadata": {},
   "outputs": [
    {
     "data": {
      "text/plain": [
       "'D:\\\\Users\\\\andre.ferreira\\\\Projects\\\\stocks\\\\prototypes'"
      ]
     },
     "execution_count": 2,
     "metadata": {},
     "output_type": "execute_result"
    }
   ],
   "source": [
    "pwd"
   ]
  },
  {
   "cell_type": "code",
   "execution_count": 3,
   "metadata": {},
   "outputs": [
    {
     "name": "stdout",
     "output_type": "stream",
     "text": [
      "D:\\Users\\andre.ferreira\\Projects\\stocks\n"
     ]
    }
   ],
   "source": [
    "cd .."
   ]
  },
  {
   "cell_type": "code",
   "execution_count": 4,
   "metadata": {},
   "outputs": [],
   "source": [
    "from matplotlib import pyplot as plt\n",
    "import os\n",
    "import sys\n",
    "import platform\n",
    "import pandas as pd\n",
    "import numpy as np\n",
    "import struct\n",
    "import datetime\n",
    "import calendar\n",
    "import time\n",
    "import argparse\n",
    "import seaborn as sns\n",
    "from algos import meta5Ibov\n",
    "from algos.util import progressbar\n",
    "from algos.meanreversion import meanrev, view\n",
    "\n",
    "import scipy\n",
    "import talib as ta\n",
    "from numba import jit\n",
    "import importlib"
   ]
  },
  {
   "cell_type": "code",
   "execution_count": 5,
   "metadata": {},
   "outputs": [
    {
     "data": {
      "text/plain": [
       "<module 'algos.meanreversion.meanrev' from 'D:\\\\Users\\\\andre.ferreira\\\\Projects\\\\stocks\\\\algos\\\\meanreversion\\\\meanrev.py'>"
      ]
     },
     "execution_count": 5,
     "metadata": {},
     "output_type": "execute_result"
    }
   ],
   "source": [
    "importlib.reload(meanrev)"
   ]
  },
  {
   "cell_type": "code",
   "execution_count": null,
   "metadata": {},
   "outputs": [],
   "source": [
    "cd data"
   ]
  },
  {
   "cell_type": "code",
   "execution_count": null,
   "metadata": {},
   "outputs": [],
   "source": [
    "if platform.uname()[1] == 'andre-predator': \n",
    "    meta5Ibov.setDataPath('C:\\\\Users\\\\andre\\\\Projects\\\\stocks\\\\data', \n",
    "                        'C:\\\\Users\\\\andre\\\\Projects\\\\stocks\\\\data')\n",
    "else:\n",
    "    meta5Ibov.setDataPath('D:\\\\Users\\\\andre.ferreira\\\\Projects\\\\stocks\\\\data', \n",
    "                        'D:\\\\Users\\\\andre.ferreira\\\\Projects\\\\stocks\\\\data')\n"
   ]
  },
  {
   "cell_type": "markdown",
   "metadata": {},
   "source": [
    "#### Using M1 Data but could be M15 data etc.\n",
    "\n",
    "Saulo used 10 seconds interval"
   ]
  },
  {
   "cell_type": "code",
   "execution_count": null,
   "metadata": {},
   "outputs": [],
   "source": [
    "#meta5Ibov.loadMeta5Data(preload=False);\n",
    "meta5Ibov.loadMeta5Data();\n",
    "bars = meta5Ibov.getSymbol('WIN@')"
   ]
  },
  {
   "cell_type": "markdown",
   "metadata": {},
   "source": [
    "Not enough memory on local machine"
   ]
  },
  {
   "cell_type": "code",
   "execution_count": null,
   "metadata": {},
   "outputs": [],
   "source": [
    "bars = bars[-9000:]"
   ]
  },
  {
   "cell_type": "code",
   "execution_count": null,
   "metadata": {},
   "outputs": [],
   "source": [
    "window=21\n",
    "nbands=3\n",
    "amount=1.\n",
    "targetprofit=15.\n",
    "stoploss=100.\n",
    "batchn=60 # number of previous samples or indicators to help find a pattern"
   ]
  },
  {
   "cell_type": "code",
   "execution_count": null,
   "metadata": {},
   "outputs": [],
   "source": [
    "tbars = meanrev.rawSignals(bars, window, nbands)"
   ]
  },
  {
   "cell_type": "code",
   "execution_count": null,
   "metadata": {},
   "outputs": [],
   "source": [
    "tbars.columns"
   ]
  },
  {
   "cell_type": "code",
   "execution_count": null,
   "metadata": {},
   "outputs": [],
   "source": [
    "signal = meanrev.lastSignal(tbars, nbands)"
   ]
  },
  {
   "cell_type": "code",
   "execution_count": null,
   "metadata": {},
   "outputs": [],
   "source": [
    "#if np.all(signal == 0): # no signal in any band no training\n",
    "#  return signal, None, None, None"
   ]
  },
  {
   "cell_type": "code",
   "execution_count": null,
   "metadata": {},
   "outputs": [],
   "source": [
    "tbars = meanrev.barsFeatured(tbars, window, nbands)"
   ]
  },
  {
   "cell_type": "code",
   "execution_count": null,
   "metadata": {},
   "outputs": [],
   "source": [
    "tbars.columns"
   ]
  },
  {
   "cell_type": "code",
   "execution_count": null,
   "metadata": {},
   "outputs": [],
   "source": [
    "tbars = meanrev.targetFromSignals(tbars, nbands,\n",
    "        amount, targetprofit, stoploss) # needs day identifier integer"
   ]
  },
  {
   "cell_type": "code",
   "execution_count": null,
   "metadata": {},
   "outputs": [],
   "source": [
    "tbars.columns"
   ]
  },
  {
   "cell_type": "code",
   "execution_count": null,
   "metadata": {},
   "outputs": [],
   "source": [
    "isgfeatures = meanrev.getIndexFeatures(tbars, nbands); # signal features standardized"
   ]
  },
  {
   "cell_type": "code",
   "execution_count": null,
   "metadata": {},
   "outputs": [],
   "source": [
    "isgfeatures[-1], tbars.columns[isgfeatures[-1]]"
   ]
  },
  {
   "cell_type": "code",
   "execution_count": null,
   "metadata": {},
   "outputs": [],
   "source": [
    "nbands, batchn"
   ]
  },
  {
   "cell_type": "code",
   "execution_count": null,
   "metadata": {},
   "outputs": [],
   "source": [
    "X, y, time = meanrev.getTrainingVectors(tbars, isgfeatures, nbands, batchn)"
   ]
  },
  {
   "cell_type": "code",
   "execution_count": null,
   "metadata": {},
   "outputs": [],
   "source": [
    "Xforecast = meanrev.getForecastVector(tbars, isgfeatures, nbands, batchn)"
   ]
  },
  {
   "cell_type": "code",
   "execution_count": null,
   "metadata": {},
   "outputs": [],
   "source": [
    "X.shape, y.shape"
   ]
  },
  {
   "cell_type": "code",
   "execution_count": null,
   "metadata": {},
   "outputs": [],
   "source": [
    "Xforecast.shape"
   ]
  },
  {
   "cell_type": "code",
   "execution_count": null,
   "metadata": {},
   "outputs": [],
   "source": [
    "plt.hist(y);"
   ]
  },
  {
   "cell_type": "code",
   "execution_count": null,
   "metadata": {},
   "outputs": [],
   "source": [
    "view.viewBands(tbars, nbands=nbands, lastn=-5000, str_bandsg='y')"
   ]
  },
  {
   "cell_type": "code",
   "execution_count": null,
   "metadata": {},
   "outputs": [],
   "source": [
    "tbars.columns"
   ]
  },
  {
   "cell_type": "code",
   "execution_count": null,
   "metadata": {},
   "outputs": [],
   "source": [
    "def getTrainingForecastVectors(obars, window=21, nbands=3,\n",
    "        amount=1, targetprofit=15., stoploss=45., batchn=180):\n",
    "    \"\"\"\n",
    "    return Xpredict, Xtrain, ytrain\n",
    "\n",
    "    if Xpredict has signal all zero return None\n",
    "    \"\"\"\n",
    "    bars = meanrev.rawSignals(obars, window, nbands)\n",
    "    signal = meanrev.lastSignal(bars, nbands)\n",
    "    if np.all(signal == 0): # no signal in any band no training\n",
    "        return signal, None, None, None\n",
    "    bars = meanrev.barsFeatured(bars, window, nbands)\n",
    "    bars = meanrev.targetFromSignals(bars, nbands,\n",
    "            amount, targetprofit, stoploss) # needs day identifier integer\n",
    "    isgfeatures = meanrev.getIndexFeatures(bars, nbands); # signal features standardized\n",
    "    X, y, time = meanrev.getTrainingVectors(bars, isgfeatures, nbands, batchn)\n",
    "    Xforecast = meanrev.getForecastVector(bars, isgfeatures, nbands, batchn)\n",
    "\n",
    "    return signal, Xforecast, X, y"
   ]
  },
  {
   "cell_type": "code",
   "execution_count": null,
   "metadata": {},
   "outputs": [],
   "source": [
    "%%time\n",
    "signal, Xforecast, X, y = getTrainingForecastVectors(bars, window, nbands, amount, targetprofit, stoploss, batchn)\n",
    "#%%timeit 2.79 s ± 10.4 ms per loop (mean ± std. dev. of 7 runs, 1 loop each)"
   ]
  },
  {
   "cell_type": "code",
   "execution_count": null,
   "metadata": {},
   "outputs": [],
   "source": [
    "Xforecast.shape"
   ]
  },
  {
   "cell_type": "code",
   "execution_count": null,
   "metadata": {
    "scrolled": true
   },
   "outputs": [],
   "source": [
    "X.shape, y.shape"
   ]
  },
  {
   "cell_type": "markdown",
   "metadata": {},
   "source": [
    "### Debugging Meta5"
   ]
  },
  {
   "cell_type": "code",
   "execution_count": 6,
   "metadata": {},
   "outputs": [
    {
     "name": "stdout",
     "output_type": "stream",
     "text": [
      "D:\\MetaTrader 5\n"
     ]
    }
   ],
   "source": [
    "cd \"D:\\\\MetaTrader 5\""
   ]
  },
  {
   "cell_type": "code",
   "execution_count": null,
   "metadata": {},
   "outputs": [],
   "source": [
    "X = np.fromfile('X.npy', dtype=np.float64)\n",
    "y = np.fromfile('y.npy', dtype=np.int)"
   ]
  },
  {
   "cell_type": "code",
   "execution_count": null,
   "metadata": {},
   "outputs": [],
   "source": [
    "X[ X > 10**300]"
   ]
  },
  {
   "cell_type": "code",
   "execution_count": null,
   "metadata": {},
   "outputs": [],
   "source": [
    "np.argwhere(X > 10**300)[-10:]"
   ]
  },
  {
   "cell_type": "code",
   "execution_count": 7,
   "metadata": {},
   "outputs": [
    {
     "data": {
      "text/plain": [
       "1.7976931348623157e+308"
      ]
     },
     "execution_count": 7,
     "metadata": {},
     "output_type": "execute_result"
    }
   ],
   "source": [
    "#EMPTY_VALUE FROM MT5\n",
    "np.finfo('d').max "
   ]
  },
  {
   "cell_type": "code",
   "execution_count": null,
   "metadata": {},
   "outputs": [],
   "source": [
    "X[74969]"
   ]
  },
  {
   "cell_type": "code",
   "execution_count": null,
   "metadata": {},
   "outputs": [],
   "source": [
    "y"
   ]
  },
  {
   "cell_type": "code",
   "execution_count": null,
   "metadata": {},
   "outputs": [],
   "source": [
    "# b'' empty bytes string\n",
    "X = X.reshape(-1, 1260)"
   ]
  },
  {
   "cell_type": "code",
   "execution_count": null,
   "metadata": {},
   "outputs": [],
   "source": []
  },
  {
   "cell_type": "code",
   "execution_count": null,
   "metadata": {},
   "outputs": [],
   "source": []
  }
 ],
 "metadata": {
  "kernelspec": {
   "display_name": "Python 3",
   "language": "python",
   "name": "python3"
  },
  "language_info": {
   "codemirror_mode": {
    "name": "ipython",
    "version": 3
   },
   "file_extension": ".py",
   "mimetype": "text/x-python",
   "name": "python",
   "nbconvert_exporter": "python",
   "pygments_lexer": "ipython3",
   "version": "3.7.3"
  }
 },
 "nbformat": 4,
 "nbformat_minor": 2
}
