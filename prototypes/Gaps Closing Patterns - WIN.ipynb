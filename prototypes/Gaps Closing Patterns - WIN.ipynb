{
 "cells": [
  {
   "cell_type": "markdown",
   "metadata": {},
   "source": [
    "#### Using WIN@ (proportional adjust on maturity) of historical data of future contracts of b3 (Bovespa) Mini-índice\n",
    "\n",
    "Tested with WIN@N (without adjust on maturity) and WIN@D (adjust by differences on maturity) where adjust of contracts are different the results are pretty similar. \n",
    "\n",
    "Downloaded as .csv using Metatrader 5 because binary bars downloaded did not include pre and after market data"
   ]
  },
  {
   "cell_type": "code",
   "execution_count": 1,
   "metadata": {},
   "outputs": [],
   "source": [
    "%matplotlib inline"
   ]
  },
  {
   "cell_type": "code",
   "execution_count": 2,
   "metadata": {
    "scrolled": true
   },
   "outputs": [
    {
     "data": {
      "text/plain": [
       "'D:\\\\Users\\\\andre.ferreira\\\\Documents\\\\stocks\\\\prototypes'"
      ]
     },
     "execution_count": 2,
     "metadata": {},
     "output_type": "execute_result"
    }
   ],
   "source": [
    "pwd"
   ]
  },
  {
   "cell_type": "code",
   "execution_count": 3,
   "metadata": {},
   "outputs": [
    {
     "name": "stdout",
     "output_type": "stream",
     "text": [
      "D:\\Users\\andre.ferreira\\Documents\\stocks\n"
     ]
    }
   ],
   "source": [
    "cd .."
   ]
  },
  {
   "cell_type": "code",
   "execution_count": 4,
   "metadata": {},
   "outputs": [],
   "source": [
    "%matplotlib inline"
   ]
  },
  {
   "cell_type": "code",
   "execution_count": 5,
   "metadata": {},
   "outputs": [],
   "source": [
    "from matplotlib import pyplot as plt\n",
    "import os\n",
    "import sys\n",
    "import pandas as pd\n",
    "import numpy as np\n",
    "import struct\n",
    "import datetime\n",
    "import calendar\n",
    "import time\n",
    "import argparse\n",
    "import seaborn as sns\n",
    "from algos.util import progressbar\n",
    "from algos import meta5Ibov\n",
    "from algos.nn import torchNN, torchCV, torchUtil\n",
    "import torch as th\n",
    "import scipy\n",
    "import talib as ta"
   ]
  },
  {
   "cell_type": "code",
   "execution_count": 6,
   "metadata": {},
   "outputs": [
    {
     "name": "stdout",
     "output_type": "stream",
     "text": [
      "D:\\Users\\andre.ferreira\\Documents\\stocks\\data\n"
     ]
    }
   ],
   "source": [
    "cd data"
   ]
  },
  {
   "cell_type": "code",
   "execution_count": 7,
   "metadata": {},
   "outputs": [
    {
     "data": {
      "text/plain": [
       "'D:\\\\Users\\\\andre.ferreira\\\\Documents\\\\stocks\\\\data'"
      ]
     },
     "execution_count": 7,
     "metadata": {},
     "output_type": "execute_result"
    }
   ],
   "source": [
    "pwd"
   ]
  },
  {
   "cell_type": "code",
   "execution_count": 8,
   "metadata": {},
   "outputs": [],
   "source": [
    "win = pd.read_csv('WIN@_M5_201406130900_201906131750.csv', delimiter='\\t',\n",
    "                 na_values=['null', '0'], \n",
    "                names=['Date', 'Time', 'Open', 'High', 'Low', 'Close', 'TickVol', 'Volume', 'Spread'],\n",
    "                header=0)"
   ]
  },
  {
   "cell_type": "code",
   "execution_count": 9,
   "metadata": {},
   "outputs": [
    {
     "data": {
      "text/html": [
       "<div>\n",
       "<style scoped>\n",
       "    .dataframe tbody tr th:only-of-type {\n",
       "        vertical-align: middle;\n",
       "    }\n",
       "\n",
       "    .dataframe tbody tr th {\n",
       "        vertical-align: top;\n",
       "    }\n",
       "\n",
       "    .dataframe thead th {\n",
       "        text-align: right;\n",
       "    }\n",
       "</style>\n",
       "<table border=\"1\" class=\"dataframe\">\n",
       "  <thead>\n",
       "    <tr style=\"text-align: right;\">\n",
       "      <th></th>\n",
       "      <th>Date</th>\n",
       "      <th>Time</th>\n",
       "      <th>Open</th>\n",
       "      <th>High</th>\n",
       "      <th>Low</th>\n",
       "      <th>Close</th>\n",
       "      <th>TickVol</th>\n",
       "      <th>Volume</th>\n",
       "      <th>Spread</th>\n",
       "    </tr>\n",
       "  </thead>\n",
       "  <tbody>\n",
       "    <tr>\n",
       "      <th>132840</th>\n",
       "      <td>2019.06.13</td>\n",
       "      <td>17:30:00</td>\n",
       "      <td>99675</td>\n",
       "      <td>99780</td>\n",
       "      <td>99675</td>\n",
       "      <td>99770</td>\n",
       "      <td>5697.0</td>\n",
       "      <td>25545</td>\n",
       "      <td>1</td>\n",
       "    </tr>\n",
       "    <tr>\n",
       "      <th>132841</th>\n",
       "      <td>2019.06.13</td>\n",
       "      <td>17:35:00</td>\n",
       "      <td>99765</td>\n",
       "      <td>99770</td>\n",
       "      <td>99685</td>\n",
       "      <td>99715</td>\n",
       "      <td>3514.0</td>\n",
       "      <td>13713</td>\n",
       "      <td>1</td>\n",
       "    </tr>\n",
       "    <tr>\n",
       "      <th>132842</th>\n",
       "      <td>2019.06.13</td>\n",
       "      <td>17:40:00</td>\n",
       "      <td>99710</td>\n",
       "      <td>99890</td>\n",
       "      <td>99705</td>\n",
       "      <td>99765</td>\n",
       "      <td>9243.0</td>\n",
       "      <td>32111</td>\n",
       "      <td>1</td>\n",
       "    </tr>\n",
       "    <tr>\n",
       "      <th>132843</th>\n",
       "      <td>2019.06.13</td>\n",
       "      <td>17:45:00</td>\n",
       "      <td>99760</td>\n",
       "      <td>99855</td>\n",
       "      <td>99725</td>\n",
       "      <td>99790</td>\n",
       "      <td>5038.0</td>\n",
       "      <td>18911</td>\n",
       "      <td>1</td>\n",
       "    </tr>\n",
       "    <tr>\n",
       "      <th>132844</th>\n",
       "      <td>2019.06.13</td>\n",
       "      <td>17:50:00</td>\n",
       "      <td>99795</td>\n",
       "      <td>100015</td>\n",
       "      <td>99735</td>\n",
       "      <td>100015</td>\n",
       "      <td>3155.0</td>\n",
       "      <td>17204</td>\n",
       "      <td>1</td>\n",
       "    </tr>\n",
       "  </tbody>\n",
       "</table>\n",
       "</div>"
      ],
      "text/plain": [
       "              Date      Time   Open    High    Low   Close  TickVol  Volume  \\\n",
       "132840  2019.06.13  17:30:00  99675   99780  99675   99770   5697.0   25545   \n",
       "132841  2019.06.13  17:35:00  99765   99770  99685   99715   3514.0   13713   \n",
       "132842  2019.06.13  17:40:00  99710   99890  99705   99765   9243.0   32111   \n",
       "132843  2019.06.13  17:45:00  99760   99855  99725   99790   5038.0   18911   \n",
       "132844  2019.06.13  17:50:00  99795  100015  99735  100015   3155.0   17204   \n",
       "\n",
       "        Spread  \n",
       "132840       1  \n",
       "132841       1  \n",
       "132842       1  \n",
       "132843       1  \n",
       "132844       1  "
      ]
     },
     "execution_count": 9,
     "metadata": {},
     "output_type": "execute_result"
    }
   ],
   "source": [
    "win.tail()"
   ]
  },
  {
   "cell_type": "code",
   "execution_count": 10,
   "metadata": {},
   "outputs": [],
   "source": [
    "#win = win[94000:] # since 2018"
   ]
  },
  {
   "cell_type": "code",
   "execution_count": 11,
   "metadata": {},
   "outputs": [],
   "source": [
    "# for yahooo finance data\n",
    "#dow['Close'] = dow['Adj Close']  \n",
    "win.drop(['TickVol', 'Spread'], axis=1, inplace=True) # Close is better than Adjusted Close\n",
    "# 1/3%"
   ]
  },
  {
   "cell_type": "code",
   "execution_count": 12,
   "metadata": {},
   "outputs": [
    {
     "data": {
      "text/plain": [
       "0"
      ]
     },
     "execution_count": 12,
     "metadata": {},
     "output_type": "execute_result"
    }
   ],
   "source": [
    "win.isnull().sum().sum() # total number of cells with nans "
   ]
  },
  {
   "cell_type": "code",
   "execution_count": 13,
   "metadata": {},
   "outputs": [],
   "source": [
    "win.dropna(inplace=True)"
   ]
  },
  {
   "cell_type": "markdown",
   "metadata": {},
   "source": [
    "Convert to datetime Date"
   ]
  },
  {
   "cell_type": "code",
   "execution_count": 14,
   "metadata": {},
   "outputs": [],
   "source": [
    "win.Date = pd.to_datetime(win.Date+' '+win.Time)"
   ]
  },
  {
   "cell_type": "code",
   "execution_count": 15,
   "metadata": {},
   "outputs": [
    {
     "data": {
      "text/html": [
       "<div>\n",
       "<style scoped>\n",
       "    .dataframe tbody tr th:only-of-type {\n",
       "        vertical-align: middle;\n",
       "    }\n",
       "\n",
       "    .dataframe tbody tr th {\n",
       "        vertical-align: top;\n",
       "    }\n",
       "\n",
       "    .dataframe thead th {\n",
       "        text-align: right;\n",
       "    }\n",
       "</style>\n",
       "<table border=\"1\" class=\"dataframe\">\n",
       "  <thead>\n",
       "    <tr style=\"text-align: right;\">\n",
       "      <th></th>\n",
       "      <th>Date</th>\n",
       "      <th>Time</th>\n",
       "      <th>Open</th>\n",
       "      <th>High</th>\n",
       "      <th>Low</th>\n",
       "      <th>Close</th>\n",
       "      <th>Volume</th>\n",
       "    </tr>\n",
       "  </thead>\n",
       "  <tbody>\n",
       "    <tr>\n",
       "      <th>0</th>\n",
       "      <td>2014-06-13 09:00:00</td>\n",
       "      <td>09:00:00</td>\n",
       "      <td>84737</td>\n",
       "      <td>84891</td>\n",
       "      <td>84590</td>\n",
       "      <td>84628</td>\n",
       "      <td>1983</td>\n",
       "    </tr>\n",
       "    <tr>\n",
       "      <th>1</th>\n",
       "      <td>2014-06-13 09:05:00</td>\n",
       "      <td>09:05:00</td>\n",
       "      <td>84636</td>\n",
       "      <td>84690</td>\n",
       "      <td>84582</td>\n",
       "      <td>84667</td>\n",
       "      <td>1276</td>\n",
       "    </tr>\n",
       "  </tbody>\n",
       "</table>\n",
       "</div>"
      ],
      "text/plain": [
       "                 Date      Time   Open   High    Low  Close  Volume\n",
       "0 2014-06-13 09:00:00  09:00:00  84737  84891  84590  84628    1983\n",
       "1 2014-06-13 09:05:00  09:05:00  84636  84690  84582  84667    1276"
      ]
     },
     "execution_count": 15,
     "metadata": {},
     "output_type": "execute_result"
    }
   ],
   "source": [
    "win.head(2)"
   ]
  },
  {
   "cell_type": "code",
   "execution_count": 16,
   "metadata": {},
   "outputs": [],
   "source": [
    "win.set_index(win.Date, drop=True, inplace=True);"
   ]
  },
  {
   "cell_type": "code",
   "execution_count": 17,
   "metadata": {},
   "outputs": [],
   "source": [
    "win.drop(['Date', 'Time'], axis=1, inplace=True)"
   ]
  },
  {
   "cell_type": "code",
   "execution_count": 18,
   "metadata": {},
   "outputs": [],
   "source": [
    "win['time'] = win.index.map(lambda x: x.time())\n",
    "win['date'] = win.index.map(lambda x: x.date())"
   ]
  },
  {
   "cell_type": "code",
   "execution_count": 19,
   "metadata": {},
   "outputs": [],
   "source": [
    "win['hour'] = win.time.apply(lambda x: x.hour)\n",
    "win['minute'] = win.time.apply(lambda x: x.minute)\n",
    "win['wday'] = win.date.apply(lambda x: x.weekday()) # week day where Monday is 0 and Sunday is 6\n",
    "# friday is 4"
   ]
  },
  {
   "cell_type": "code",
   "execution_count": 20,
   "metadata": {},
   "outputs": [
    {
     "data": {
      "text/html": [
       "<div>\n",
       "<style scoped>\n",
       "    .dataframe tbody tr th:only-of-type {\n",
       "        vertical-align: middle;\n",
       "    }\n",
       "\n",
       "    .dataframe tbody tr th {\n",
       "        vertical-align: top;\n",
       "    }\n",
       "\n",
       "    .dataframe thead th {\n",
       "        text-align: right;\n",
       "    }\n",
       "</style>\n",
       "<table border=\"1\" class=\"dataframe\">\n",
       "  <thead>\n",
       "    <tr style=\"text-align: right;\">\n",
       "      <th></th>\n",
       "      <th>Open</th>\n",
       "      <th>High</th>\n",
       "      <th>Low</th>\n",
       "      <th>Close</th>\n",
       "      <th>Volume</th>\n",
       "      <th>time</th>\n",
       "      <th>date</th>\n",
       "      <th>hour</th>\n",
       "      <th>minute</th>\n",
       "      <th>wday</th>\n",
       "    </tr>\n",
       "    <tr>\n",
       "      <th>Date</th>\n",
       "      <th></th>\n",
       "      <th></th>\n",
       "      <th></th>\n",
       "      <th></th>\n",
       "      <th></th>\n",
       "      <th></th>\n",
       "      <th></th>\n",
       "      <th></th>\n",
       "      <th></th>\n",
       "      <th></th>\n",
       "    </tr>\n",
       "  </thead>\n",
       "  <tbody>\n",
       "    <tr>\n",
       "      <th>2014-06-13 09:00:00</th>\n",
       "      <td>84737</td>\n",
       "      <td>84891</td>\n",
       "      <td>84590</td>\n",
       "      <td>84628</td>\n",
       "      <td>1983</td>\n",
       "      <td>09:00:00</td>\n",
       "      <td>2014-06-13</td>\n",
       "      <td>9</td>\n",
       "      <td>0</td>\n",
       "      <td>4</td>\n",
       "    </tr>\n",
       "    <tr>\n",
       "      <th>2014-06-13 09:05:00</th>\n",
       "      <td>84636</td>\n",
       "      <td>84690</td>\n",
       "      <td>84582</td>\n",
       "      <td>84667</td>\n",
       "      <td>1276</td>\n",
       "      <td>09:05:00</td>\n",
       "      <td>2014-06-13</td>\n",
       "      <td>9</td>\n",
       "      <td>5</td>\n",
       "      <td>4</td>\n",
       "    </tr>\n",
       "    <tr>\n",
       "      <th>2014-06-13 09:10:00</th>\n",
       "      <td>84667</td>\n",
       "      <td>84760</td>\n",
       "      <td>84651</td>\n",
       "      <td>84690</td>\n",
       "      <td>1019</td>\n",
       "      <td>09:10:00</td>\n",
       "      <td>2014-06-13</td>\n",
       "      <td>9</td>\n",
       "      <td>10</td>\n",
       "      <td>4</td>\n",
       "    </tr>\n",
       "    <tr>\n",
       "      <th>2014-06-13 09:15:00</th>\n",
       "      <td>84675</td>\n",
       "      <td>84706</td>\n",
       "      <td>84659</td>\n",
       "      <td>84675</td>\n",
       "      <td>328</td>\n",
       "      <td>09:15:00</td>\n",
       "      <td>2014-06-13</td>\n",
       "      <td>9</td>\n",
       "      <td>15</td>\n",
       "      <td>4</td>\n",
       "    </tr>\n",
       "    <tr>\n",
       "      <th>2014-06-13 09:20:00</th>\n",
       "      <td>84675</td>\n",
       "      <td>84706</td>\n",
       "      <td>84667</td>\n",
       "      <td>84675</td>\n",
       "      <td>297</td>\n",
       "      <td>09:20:00</td>\n",
       "      <td>2014-06-13</td>\n",
       "      <td>9</td>\n",
       "      <td>20</td>\n",
       "      <td>4</td>\n",
       "    </tr>\n",
       "  </tbody>\n",
       "</table>\n",
       "</div>"
      ],
      "text/plain": [
       "                      Open   High    Low  Close  Volume      time        date  \\\n",
       "Date                                                                            \n",
       "2014-06-13 09:00:00  84737  84891  84590  84628    1983  09:00:00  2014-06-13   \n",
       "2014-06-13 09:05:00  84636  84690  84582  84667    1276  09:05:00  2014-06-13   \n",
       "2014-06-13 09:10:00  84667  84760  84651  84690    1019  09:10:00  2014-06-13   \n",
       "2014-06-13 09:15:00  84675  84706  84659  84675     328  09:15:00  2014-06-13   \n",
       "2014-06-13 09:20:00  84675  84706  84667  84675     297  09:20:00  2014-06-13   \n",
       "\n",
       "                     hour  minute  wday  \n",
       "Date                                     \n",
       "2014-06-13 09:00:00     9       0     4  \n",
       "2014-06-13 09:05:00     9       5     4  \n",
       "2014-06-13 09:10:00     9      10     4  \n",
       "2014-06-13 09:15:00     9      15     4  \n",
       "2014-06-13 09:20:00     9      20     4  "
      ]
     },
     "execution_count": 20,
     "metadata": {},
     "output_type": "execute_result"
    }
   ],
   "source": [
    "win.head()"
   ]
  },
  {
   "cell_type": "markdown",
   "metadata": {},
   "source": [
    " ### Total number of days"
   ]
  },
  {
   "cell_type": "code",
   "execution_count": 21,
   "metadata": {},
   "outputs": [
    {
     "data": {
      "text/plain": [
       "1236"
      ]
     },
     "execution_count": 21,
     "metadata": {},
     "output_type": "execute_result"
    }
   ],
   "source": [
    "len(win.groupby(win.date)) # days"
   ]
  },
  {
   "cell_type": "markdown",
   "metadata": {},
   "source": [
    "### We can see the data  market hours were correct from summer time\n",
    "\n",
    " - ignoring some outliers\n",
    " - pre-market is from 9:00 to 10:00 \n",
    " - after-market is from 17:00 to 18:00/18:15    "
   ]
  },
  {
   "cell_type": "code",
   "execution_count": 22,
   "metadata": {},
   "outputs": [
    {
     "name": "stderr",
     "output_type": "stream",
     "text": [
      "D:\\Users\\andre.ferreira\\AppData\\Local\\Continuum\\anaconda3\\lib\\site-packages\\pandas\\plotting\\_converter.py:129: FutureWarning: Using an implicitly registered datetime converter for a matplotlib plotting method. The converter was registered by pandas on import. Future versions of pandas will require you to explicitly register matplotlib converters.\n",
      "\n",
      "To register the converters:\n",
      "\t>>> from pandas.plotting import register_matplotlib_converters\n",
      "\t>>> register_matplotlib_converters()\n",
      "  warnings.warn(msg, FutureWarning)\n"
     ]
    },
    {
     "data": {
      "image/png": "[encoded data removed]",
      "text/plain": [
       "<Figure size 1008x576 with 4 Axes>"
      ]
     },
     "metadata": {
      "needs_background": "light"
     },
     "output_type": "display_data"
    }
   ],
   "source": [
    "fig, (ax1, ax2, ax3, ax4) = plt.subplots(nrows=4, figsize=(14,8))\n",
    "\n",
    "ax1.plot(win.groupby(win.date).time.agg(['min']).applymap(lambda x: x.hour))\n",
    "ax1.set_ylabel('hour')\n",
    "ax1.set_title('pre market hour')\n",
    "\n",
    "ax2.plot(win.groupby(win.date).time.agg(['min']).applymap(lambda x: x.minute))\n",
    "ax2.set_ylabel('minute')\n",
    "\n",
    "\n",
    "ax3.plot(win.groupby(win.date).time.agg(['max']).applymap(lambda x: x.hour))\n",
    "ax3.set_ylabel('hour')\n",
    "ax3.set_title('after market hour')\n",
    "\n",
    "ax4.plot(win.groupby(win.date).time.agg(['max']).applymap(lambda x: x.minute))\n",
    "ax4.set_ylabel('minute')\n",
    "\n",
    "plt.subplots_adjust(hspace=0.5)"
   ]
  },
  {
   "cell_type": "markdown",
   "metadata": {},
   "source": [
    "### First let's look of days of gaps\n",
    "\n",
    " - everyday has a gap"
   ]
  },
  {
   "cell_type": "code",
   "execution_count": 23,
   "metadata": {},
   "outputs": [],
   "source": [
    "windays = win.groupby(win.date)"
   ]
  },
  {
   "cell_type": "code",
   "execution_count": 24,
   "metadata": {},
   "outputs": [
    {
     "data": {
      "text/html": [
       "<div>\n",
       "<style scoped>\n",
       "    .dataframe tbody tr th:only-of-type {\n",
       "        vertical-align: middle;\n",
       "    }\n",
       "\n",
       "    .dataframe tbody tr th {\n",
       "        vertical-align: top;\n",
       "    }\n",
       "\n",
       "    .dataframe thead th {\n",
       "        text-align: right;\n",
       "    }\n",
       "</style>\n",
       "<table border=\"1\" class=\"dataframe\">\n",
       "  <thead>\n",
       "    <tr style=\"text-align: right;\">\n",
       "      <th></th>\n",
       "      <th>last</th>\n",
       "    </tr>\n",
       "    <tr>\n",
       "      <th>date</th>\n",
       "      <th></th>\n",
       "    </tr>\n",
       "  </thead>\n",
       "  <tbody>\n",
       "    <tr>\n",
       "      <th>2014-06-13</th>\n",
       "      <td>84953</td>\n",
       "    </tr>\n",
       "    <tr>\n",
       "      <th>2014-06-16</th>\n",
       "      <td>84706</td>\n",
       "    </tr>\n",
       "    <tr>\n",
       "      <th>2014-06-17</th>\n",
       "      <td>83832</td>\n",
       "    </tr>\n",
       "  </tbody>\n",
       "</table>\n",
       "</div>"
      ],
      "text/plain": [
       "             last\n",
       "date             \n",
       "2014-06-13  84953\n",
       "2014-06-16  84706\n",
       "2014-06-17  83832"
      ]
     },
     "execution_count": 24,
     "metadata": {},
     "output_type": "execute_result"
    }
   ],
   "source": [
    "windays['Close'].agg(['last']).head(3)\n",
    "#windays['Open'].agg(['first']).head(3)"
   ]
  },
  {
   "cell_type": "markdown",
   "metadata": {},
   "source": [
    "- Everyday that was not preceeded by its correct week day doesnt have a valid gap or \n",
    "- was a holiday \n",
    "\n",
    "Since they are few and we have the holidays we  \n",
    "we will just ignore any incorrect gap"
   ]
  },
  {
   "cell_type": "code",
   "execution_count": 25,
   "metadata": {
    "scrolled": true
   },
   "outputs": [],
   "source": [
    "weekfails = np.diff(windays.wday.agg('first'))"
   ]
  },
  {
   "cell_type": "code",
   "execution_count": 26,
   "metadata": {},
   "outputs": [
    {
     "data": {
      "text/plain": [
       "array([ 2,  2,  2,  3,  3, -2, -3,  2, -3,  2,  2, -3, -3, -3, -3, -2, -2,\n",
       "       -3, -2, -3,  2,  2,  2,  2,  2,  2, -3,  2, -2, -3, -3, -3,  2,  2,\n",
       "        2,  2,  2, -3, -3, -2,  2, -2, -3,  2,  2, -3, -3, -3, -3,  2,  2,\n",
       "       -2, -2, -3, -2, -3,  2], dtype=int64)"
      ]
     },
     "execution_count": 26,
     "metadata": {},
     "output_type": "execute_result"
    }
   ],
   "source": [
    "weekfails[ (weekfails != -4) & (weekfails != 1) ]"
   ]
  },
  {
   "cell_type": "code",
   "execution_count": 27,
   "metadata": {},
   "outputs": [
    {
     "data": {
      "text/plain": [
       "57"
      ]
     },
     "execution_count": 27,
     "metadata": {},
     "output_type": "execute_result"
    }
   ],
   "source": [
    "np.count_nonzero(weekfails[ (weekfails != -4) & (weekfails != 1) ])"
   ]
  },
  {
   "cell_type": "code",
   "execution_count": 28,
   "metadata": {},
   "outputs": [
    {
     "data": {
      "text/plain": [
       "0.046153846153846156"
      ]
     },
     "execution_count": 28,
     "metadata": {},
     "output_type": "execute_result"
    }
   ],
   "source": [
    "np.count_nonzero(weekfails[ (weekfails != -4) & (weekfails != 1) ])/len(weekfails)"
   ]
  },
  {
   "cell_type": "markdown",
   "metadata": {},
   "source": [
    "Invalid gaps will certainly be smaller than 4% due holidays"
   ]
  },
  {
   "cell_type": "code",
   "execution_count": 29,
   "metadata": {},
   "outputs": [
    {
     "data": {
      "text/plain": [
       "[<matplotlib.lines.Line2D at 0x2b2e18d52b0>]"
      ]
     },
     "execution_count": 29,
     "metadata": {},
     "output_type": "execute_result"
    },
    {
     "data": {
      "image/png": "[encoded data removed]",
      "text/plain": [
       "<Figure size 1080x144 with 1 Axes>"
      ]
     },
     "metadata": {
      "needs_background": "light"
     },
     "output_type": "display_data"
    }
   ],
   "source": [
    "plt.figure(figsize=(15,2))\n",
    "plt.plot(weekfails)"
   ]
  },
  {
   "cell_type": "markdown",
   "metadata": {},
   "source": [
    "- Everyday where data started after 9:00 cannot have a valida gap\n",
    "- Everyday where the day before did not end after 17 hours cannot have a valid gap"
   ]
  },
  {
   "cell_type": "code",
   "execution_count": 30,
   "metadata": {},
   "outputs": [],
   "source": [
    "hourfails = windays.hour.agg('first').values"
   ]
  },
  {
   "cell_type": "code",
   "execution_count": 31,
   "metadata": {},
   "outputs": [
    {
     "data": {
      "text/plain": [
       "array([14, 10, 10, 13, 13, 13, 13], dtype=int64)"
      ]
     },
     "execution_count": 31,
     "metadata": {},
     "output_type": "execute_result"
    }
   ],
   "source": [
    "hourfails[hourfails != 9]"
   ]
  },
  {
   "cell_type": "code",
   "execution_count": 32,
   "metadata": {},
   "outputs": [],
   "source": [
    "hourfails = windays.hour.agg('last').values"
   ]
  },
  {
   "cell_type": "code",
   "execution_count": 33,
   "metadata": {},
   "outputs": [
    {
     "data": {
      "text/plain": [
       "array([14, 16, 15, 15], dtype=int64)"
      ]
     },
     "execution_count": 33,
     "metadata": {},
     "output_type": "execute_result"
    }
   ],
   "source": [
    "hourfails[hourfails < 17]"
   ]
  },
  {
   "cell_type": "markdown",
   "metadata": {},
   "source": [
    "- We will ignore for now they seam few"
   ]
  },
  {
   "cell_type": "code",
   "execution_count": 34,
   "metadata": {},
   "outputs": [],
   "source": [
    "# tomorrow day - today's close\n",
    "# dont have gap on first day that's why [:1] / [:-1]\n",
    "pclose = windays['Close'].agg(['last']).values[:-1] # previous close\n",
    "dayopen = windays['Open'].agg(['first']).values[1:]  \n",
    "gaps = dayopen-pclose"
   ]
  },
  {
   "cell_type": "code",
   "execution_count": 35,
   "metadata": {
    "scrolled": true
   },
   "outputs": [
    {
     "data": {
      "image/png": "[encoded data removed]",
      "text/plain": [
       "<Figure size 720x288 with 1 Axes>"
      ]
     },
     "metadata": {
      "needs_background": "light"
     },
     "output_type": "display_data"
    },
    {
     "data": {
      "image/png": "[encoded data removed]",
      "text/plain": [
       "<Figure size 720x288 with 1 Axes>"
      ]
     },
     "metadata": {
      "needs_background": "light"
     },
     "output_type": "display_data"
    }
   ],
   "source": [
    "plt.figure(figsize=(10,4))\n",
    "plt.plot(gaps, lw=0.8)\n",
    "plt.figure(figsize=(10,4))\n",
    "plt.hist(abs(gaps), bins=100);"
   ]
  },
  {
   "cell_type": "code",
   "execution_count": 36,
   "metadata": {},
   "outputs": [
    {
     "data": {
      "text/plain": [
       "0.5020242914979757"
      ]
     },
     "execution_count": 36,
     "metadata": {},
     "output_type": "execute_result"
    }
   ],
   "source": [
    "len(gaps[gaps > 0])/len(gaps)"
   ]
  },
  {
   "cell_type": "code",
   "execution_count": 37,
   "metadata": {},
   "outputs": [
    {
     "data": {
      "text/plain": [
       "array([773.])"
      ]
     },
     "execution_count": 37,
     "metadata": {},
     "output_type": "execute_result"
    }
   ],
   "source": [
    "np.percentile(abs(gaps), [90])"
   ]
  },
  {
   "cell_type": "code",
   "execution_count": 38,
   "metadata": {
    "scrolled": true
   },
   "outputs": [
    {
     "data": {
      "text/plain": [
       "array([56.])"
      ]
     },
     "execution_count": 38,
     "metadata": {},
     "output_type": "execute_result"
    }
   ],
   "source": [
    "np.percentile(abs(gaps), [10])"
   ]
  },
  {
   "cell_type": "markdown",
   "metadata": {},
   "source": [
    " ### Some conclusions\n",
    " \n",
    " - 90% of day gaps are smaller than ~700 points\n",
    " - 90% of days have gaps bigger than ~56 points\n",
    " - 50.2% up gaps and 49.8% of down gaps fairly even"
   ]
  },
  {
   "cell_type": "markdown",
   "metadata": {},
   "source": [
    "## How many gaps close ?\n",
    "\n",
    " - Considering even aftermarket hour (query 'hour >= 17')"
   ]
  },
  {
   "cell_type": "code",
   "execution_count": 39,
   "metadata": {},
   "outputs": [
    {
     "data": {
      "text/plain": [
       "array([[ 98132,  99394],\n",
       "       [ 97718,  98849],\n",
       "       [ 98637, 100050],\n",
       "       [ 98810, 100290],\n",
       "       [ 99465, 100420]], dtype=int64)"
      ]
     },
     "execution_count": 39,
     "metadata": {},
     "output_type": "execute_result"
    }
   ],
   "source": [
    "daymin = windays['High', 'Low'].agg(['min', 'max']).min(axis=1)[1:] # first day cannot have gap\n",
    "daymax = windays['High', 'Low'].agg(['min', 'max']).max(axis=1)[1:]\n",
    "dayshl = np.stack((daymin, daymax), axis=-1)\n",
    "dayshl[-5:]"
   ]
  },
  {
   "cell_type": "markdown",
   "metadata": {},
   "source": [
    "Variation in points H and L after dayning"
   ]
  },
  {
   "cell_type": "code",
   "execution_count": 40,
   "metadata": {},
   "outputs": [],
   "source": [
    "varhl = dayshl-dayopen"
   ]
  },
  {
   "cell_type": "code",
   "execution_count": 41,
   "metadata": {},
   "outputs": [
    {
     "data": {
      "text/plain": [
       "array([[-187, 1075],\n",
       "       [-702,  429],\n",
       "       [   0, 1413],\n",
       "       [-790,  690],\n",
       "       [-485,  470]], dtype=int64)"
      ]
     },
     "execution_count": 41,
     "metadata": {},
     "output_type": "execute_result"
    }
   ],
   "source": [
    "varhl[-5:]"
   ]
  },
  {
   "cell_type": "code",
   "execution_count": 42,
   "metadata": {},
   "outputs": [
    {
     "data": {
      "text/plain": [
       "array([[ 510],\n",
       "       [-525],\n",
       "       [ 495],\n",
       "       [-450],\n",
       "       [ 460]], dtype=int64)"
      ]
     },
     "execution_count": 42,
     "metadata": {},
     "output_type": "execute_result"
    }
   ],
   "source": [
    "gaps[-5:]"
   ]
  },
  {
   "cell_type": "code",
   "execution_count": 43,
   "metadata": {
    "scrolled": true
   },
   "outputs": [
    {
     "data": {
      "text/plain": [
       "array([0, 1, 0, ..., 0, 1, 0], dtype=int64)"
      ]
     },
     "execution_count": 43,
     "metadata": {},
     "output_type": "execute_result"
    }
   ],
   "source": [
    "gapsign = np.sign(gaps).ravel()\n",
    "select = gapsign-1\n",
    "select[select < 0] = 1\n",
    "select = select.ravel()\n",
    "select"
   ]
  },
  {
   "cell_type": "markdown",
   "metadata": {},
   "source": [
    "Difference between the gap value in points due to an up or down to the corresponding low and high of the day."
   ]
  },
  {
   "cell_type": "code",
   "execution_count": 44,
   "metadata": {},
   "outputs": [
    {
     "data": {
      "text/plain": [
       "array([323, -96, 495, 240, -25], dtype=int64)"
      ]
     },
     "execution_count": 44,
     "metadata": {},
     "output_type": "execute_result"
    }
   ],
   "source": [
    "gapdif = gaps.ravel() + varhl[np.arange(len(varhl)), select]\n",
    "gapdif[-5:]"
   ]
  },
  {
   "cell_type": "markdown",
   "metadata": {},
   "source": [
    "Gap sign\n",
    "\n",
    " - 1 means up gap \n",
    " - -1 means down gap"
   ]
  },
  {
   "cell_type": "code",
   "execution_count": 45,
   "metadata": {},
   "outputs": [
    {
     "data": {
      "text/plain": [
       "array([ 1, -1,  1, -1,  1], dtype=int64)"
      ]
     },
     "execution_count": 45,
     "metadata": {},
     "output_type": "execute_result"
    }
   ],
   "source": [
    "gapsign[-5:]"
   ]
  },
  {
   "cell_type": "markdown",
   "metadata": {},
   "source": [
    "Gap results \n",
    "\n",
    "  * bigger >= 0 means the gap was closed and even went further that many points\n",
    "  * smaller < 0 means the gap was not closed and that many points were the distance missing to close"
   ]
  },
  {
   "cell_type": "code",
   "execution_count": 46,
   "metadata": {},
   "outputs": [],
   "source": [
    "gapresult = gapdif*gapsign*-1"
   ]
  },
  {
   "cell_type": "code",
   "execution_count": 47,
   "metadata": {},
   "outputs": [
    {
     "data": {
      "text/plain": [
       "array([-323,  -96, -495,  240,   25], dtype=int64)"
      ]
     },
     "execution_count": 47,
     "metadata": {},
     "output_type": "execute_result"
    }
   ],
   "source": [
    "gapresult[-5:]"
   ]
  },
  {
   "cell_type": "code",
   "execution_count": 48,
   "metadata": {},
   "outputs": [
    {
     "data": {
      "image/png": "[encoded data removed]",
      "text/plain": [
       "<Figure size 432x288 with 1 Axes>"
      ]
     },
     "metadata": {
      "needs_background": "light"
     },
     "output_type": "display_data"
    }
   ],
   "source": [
    "plt.hist(gapresult, bins=100);"
   ]
  },
  {
   "cell_type": "code",
   "execution_count": 49,
   "metadata": {},
   "outputs": [
    {
     "data": {
      "text/plain": [
       "0.6987854251012146"
      ]
     },
     "execution_count": 49,
     "metadata": {},
     "output_type": "execute_result"
    }
   ],
   "source": [
    "len(gapresult[gapresult >=0 ])/len(gapresult)"
   ]
  },
  {
   "cell_type": "code",
   "execution_count": 50,
   "metadata": {},
   "outputs": [
    {
     "data": {
      "text/plain": [
       "0.9024390243902439"
      ]
     },
     "execution_count": 50,
     "metadata": {},
     "output_type": "execute_result"
    }
   ],
   "source": [
    "iselected = np.argwhere( (abs(gaps.ravel()) < 230) )\n",
    "selectedgapresult = gapresult[iselected]\n",
    "len(selectedgapresult[selectedgapresult >=0 ])/len(selectedgapresult)"
   ]
  },
  {
   "cell_type": "code",
   "execution_count": 51,
   "metadata": {
    "scrolled": true
   },
   "outputs": [
    {
     "data": {
      "text/plain": [
       "0.9230769230769231"
      ]
     },
     "execution_count": 51,
     "metadata": {},
     "output_type": "execute_result"
    }
   ],
   "source": [
    "iselected = np.argwhere( abs(gaps.ravel()) > 2400)\n",
    "selectedgapresult = gapresult[iselected]\n",
    "1.-(len(selectedgapresult[selectedgapresult >= 0 ])/len(selectedgapresult))"
   ]
  },
  {
   "cell_type": "code",
   "execution_count": 52,
   "metadata": {},
   "outputs": [
    {
     "data": {
      "text/plain": [
       "0.7692307692307693"
      ]
     },
     "execution_count": 52,
     "metadata": {},
     "output_type": "execute_result"
    }
   ],
   "source": [
    "len(gapresult[gapresult >= -100 ])/len(gapresult)"
   ]
  },
  {
   "cell_type": "markdown",
   "metadata": {},
   "source": [
    "## Some conclusions\n",
    " \n",
    " - roughly 70% of gaps close\n",
    " - gaps with less than 230 points 90% times close!!\n",
    " - gaps with more than 2500 points 90% times never close!!"
   ]
  },
  {
   "cell_type": "markdown",
   "metadata": {},
   "source": [
    "## A classifier with Random Forest\n",
    "\n",
    "Gap will close or not? \n",
    "\n",
    "### Better accuracy than 70%?"
   ]
  },
  {
   "cell_type": "markdown",
   "metadata": {},
   "source": [
    "- day before above or bellow the moving average of 21D on Close\n",
    "- day before above or bellow the moving average of 200D on Close\n",
    "- day before after-market O-H-L-C\n",
    "- gap-day day price\n",
    "- gap size and signal\n",
    "- future use vwap "
   ]
  },
  {
   "cell_type": "code",
   "execution_count": 53,
   "metadata": {},
   "outputs": [],
   "source": [
    "dfgaps = pd.DataFrame()"
   ]
  },
  {
   "cell_type": "code",
   "execution_count": 54,
   "metadata": {},
   "outputs": [],
   "source": [
    "pdaymin = windays['High', 'Low'].agg(['min', 'max']).min(axis=1)[:-1] # previous day high and low\n",
    "pdaymax = windays['High', 'Low'].agg(['min', 'max']).max(axis=1)[:-1]\n",
    "#pdayshl = np.stack((daymin, daymax), axis=-1)"
   ]
  },
  {
   "cell_type": "code",
   "execution_count": 55,
   "metadata": {},
   "outputs": [],
   "source": [
    "dfgaps['gap'] = gaps.flatten()\n",
    "dfgaps['result'] = gapresult\n",
    "dfgaps['sign'] = gapsign\n",
    "dfgaps['date'] = windays.date.first().values[1:]\n",
    "dfgaps['wday'] = windays.wday.first().values[1:] # day of the gap\n",
    "dfgaps['wdayp'] = windays.wday.first().values[:-1] # day before the gap\n",
    "dfgaps.loc[:, 'phdif'] = pdaymax.values.flatten()-dayopen.flatten()\n",
    "dfgaps.loc[:, 'pldif'] = pdaymin.values.flatten()-dayopen.flatten()\n",
    "dfgaps['phdif'] = dfgaps['phdif']*dfgaps['sign']*-1 # difference of open to high of previous day gap sign corrected\n",
    "dfgaps['pldif'] = dfgaps['pldif']*dfgaps['sign']*-1 # difference of open to low of previous day gap sign corrected\n",
    "dfgaps['dayopen'] = dayopen"
   ]
  },
  {
   "cell_type": "code",
   "execution_count": 56,
   "metadata": {},
   "outputs": [
    {
     "data": {
      "text/html": [
       "<div>\n",
       "<style scoped>\n",
       "    .dataframe tbody tr th:only-of-type {\n",
       "        vertical-align: middle;\n",
       "    }\n",
       "\n",
       "    .dataframe tbody tr th {\n",
       "        vertical-align: top;\n",
       "    }\n",
       "\n",
       "    .dataframe thead th {\n",
       "        text-align: right;\n",
       "    }\n",
       "</style>\n",
       "<table border=\"1\" class=\"dataframe\">\n",
       "  <thead>\n",
       "    <tr style=\"text-align: right;\">\n",
       "      <th></th>\n",
       "      <th>gap</th>\n",
       "      <th>result</th>\n",
       "      <th>sign</th>\n",
       "      <th>date</th>\n",
       "      <th>wday</th>\n",
       "      <th>wdayp</th>\n",
       "      <th>phdif</th>\n",
       "      <th>pldif</th>\n",
       "      <th>dayopen</th>\n",
       "    </tr>\n",
       "  </thead>\n",
       "  <tbody>\n",
       "    <tr>\n",
       "      <th>0</th>\n",
       "      <td>302</td>\n",
       "      <td>657</td>\n",
       "      <td>1</td>\n",
       "      <td>2014-06-16</td>\n",
       "      <td>0</td>\n",
       "      <td>4</td>\n",
       "      <td>-30</td>\n",
       "      <td>727</td>\n",
       "      <td>85255</td>\n",
       "    </tr>\n",
       "    <tr>\n",
       "      <th>1</th>\n",
       "      <td>-47</td>\n",
       "      <td>247</td>\n",
       "      <td>-1</td>\n",
       "      <td>2014-06-17</td>\n",
       "      <td>1</td>\n",
       "      <td>0</td>\n",
       "      <td>650</td>\n",
       "      <td>-363</td>\n",
       "      <td>84659</td>\n",
       "    </tr>\n",
       "    <tr>\n",
       "      <th>2</th>\n",
       "      <td>145</td>\n",
       "      <td>282</td>\n",
       "      <td>1</td>\n",
       "      <td>2014-06-18</td>\n",
       "      <td>2</td>\n",
       "      <td>1</td>\n",
       "      <td>-976</td>\n",
       "      <td>277</td>\n",
       "      <td>83977</td>\n",
       "    </tr>\n",
       "    <tr>\n",
       "      <th>3</th>\n",
       "      <td>-541</td>\n",
       "      <td>-442</td>\n",
       "      <td>-1</td>\n",
       "      <td>2014-06-20</td>\n",
       "      <td>4</td>\n",
       "      <td>2</td>\n",
       "      <td>541</td>\n",
       "      <td>-1356</td>\n",
       "      <td>84906</td>\n",
       "    </tr>\n",
       "  </tbody>\n",
       "</table>\n",
       "</div>"
      ],
      "text/plain": [
       "   gap  result  sign        date  wday  wdayp  phdif  pldif  dayopen\n",
       "0  302     657     1  2014-06-16     0      4    -30    727    85255\n",
       "1  -47     247    -1  2014-06-17     1      0    650   -363    84659\n",
       "2  145     282     1  2014-06-18     2      1   -976    277    83977\n",
       "3 -541    -442    -1  2014-06-20     4      2    541  -1356    84906"
      ]
     },
     "execution_count": 56,
     "metadata": {},
     "output_type": "execute_result"
    }
   ],
   "source": [
    "dfgaps.head(4)"
   ]
  },
  {
   "cell_type": "code",
   "execution_count": 57,
   "metadata": {},
   "outputs": [
    {
     "data": {
      "text/plain": [
       "'D:\\\\Users\\\\andre.ferreira\\\\Documents\\\\stocks\\\\data'"
      ]
     },
     "execution_count": 57,
     "metadata": {},
     "output_type": "execute_result"
    }
   ],
   "source": [
    "pwd"
   ]
  },
  {
   "cell_type": "markdown",
   "metadata": {},
   "source": [
    "Should replace this by mt5 ibov daily "
   ]
  },
  {
   "cell_type": "code",
   "execution_count": 58,
   "metadata": {},
   "outputs": [],
   "source": [
    "ibv = pd.read_csv('bovespa_1993_daily.csv', delimiter=',',\n",
    "                 na_values=['null', '0'])\n",
    "ibv.drop(['Adj Close'] , axis=1, inplace=True) # Close is better than Adjusted Close"
   ]
  },
  {
   "cell_type": "code",
   "execution_count": 59,
   "metadata": {},
   "outputs": [],
   "source": [
    "ibv.isnull().sum().sum() # total number of cells with nans in the beggining\n",
    "ibv.dropna(inplace=True)"
   ]
  },
  {
   "cell_type": "code",
   "execution_count": 60,
   "metadata": {},
   "outputs": [
    {
     "data": {
      "text/html": [
       "<div>\n",
       "<style scoped>\n",
       "    .dataframe tbody tr th:only-of-type {\n",
       "        vertical-align: middle;\n",
       "    }\n",
       "\n",
       "    .dataframe tbody tr th {\n",
       "        vertical-align: top;\n",
       "    }\n",
       "\n",
       "    .dataframe thead th {\n",
       "        text-align: right;\n",
       "    }\n",
       "</style>\n",
       "<table border=\"1\" class=\"dataframe\">\n",
       "  <thead>\n",
       "    <tr style=\"text-align: right;\">\n",
       "      <th></th>\n",
       "      <th>Date</th>\n",
       "      <th>Open</th>\n",
       "      <th>High</th>\n",
       "      <th>Low</th>\n",
       "      <th>Close</th>\n",
       "      <th>Volume</th>\n",
       "    </tr>\n",
       "  </thead>\n",
       "  <tbody>\n",
       "    <tr>\n",
       "      <th>2395</th>\n",
       "      <td>2002-07-02</td>\n",
       "      <td>10891.0</td>\n",
       "      <td>10908.0</td>\n",
       "      <td>10711.0</td>\n",
       "      <td>10846.0</td>\n",
       "      <td>18.400544</td>\n",
       "    </tr>\n",
       "  </tbody>\n",
       "</table>\n",
       "</div>"
      ],
      "text/plain": [
       "            Date     Open     High      Low    Close     Volume\n",
       "2395  2002-07-02  10891.0  10908.0  10711.0  10846.0  18.400544"
      ]
     },
     "execution_count": 60,
     "metadata": {},
     "output_type": "execute_result"
    }
   ],
   "source": [
    "ibv.Volume = np.log(ibv.Volume+100) # correction for volume\n",
    "ibv.head(1)"
   ]
  },
  {
   "cell_type": "code",
   "execution_count": 61,
   "metadata": {},
   "outputs": [],
   "source": [
    "ibv.Date = pd.to_datetime(ibv.Date)\n",
    "ibv.set_index(ibv.Date, drop=True, inplace=True);\n",
    "ibv.index = ibv.index.date # remove useless time part of index\n",
    "ibv.drop(['Date'], axis=1, inplace=True)\n",
    "ibv['MA21DC'] = ta.MA(ibv.Close, 21) # month trend\n",
    "ibv['MA200DC'] = ta.MA(ibv.Close, 200) # yearly trend\n",
    "ibv['MA5DVL'] = ta.MA(ibv.Volume, 5) # average volume last week\n",
    "ibv['MA21DVL'] = ta.MA(ibv.Volume, 21) # average volume last week\n",
    "ibv['STD5DHL'] = ta.STDDEV(ibv.High-ibv.Low, 5) # average volatility on H-L  last week\n",
    "ibv['STD21DHL'] = ta.STDDEV(ibv.High-ibv.Low, 21) # average volatility on H-L last month\n",
    "ibv.dropna(inplace=True) # nans from MAs"
   ]
  },
  {
   "cell_type": "code",
   "execution_count": 62,
   "metadata": {},
   "outputs": [
    {
     "data": {
      "text/plain": [
       "[<matplotlib.lines.Line2D at 0x2b2e2c0bbe0>]"
      ]
     },
     "execution_count": 62,
     "metadata": {},
     "output_type": "execute_result"
    },
    {
     "data": {
      "image/png": "[encoded data removed]",
      "text/plain": [
       "<Figure size 1080x216 with 1 Axes>"
      ]
     },
     "metadata": {
      "needs_background": "light"
     },
     "output_type": "display_data"
    }
   ],
   "source": [
    "plt.figure(figsize=(15,3))\n",
    "plt.plot(ibv.index, ibv.Close)\n",
    "plt.plot(ibv.index, ibv['MA21DC']) # 21D MA\n",
    "plt.plot(ibv.index, ibv['MA200DC']) #200D MA"
   ]
  },
  {
   "cell_type": "code",
   "execution_count": 63,
   "metadata": {},
   "outputs": [],
   "source": [
    "ibv[\"up200\"] = 0\n",
    "ibv.loc[ibv.Close > ibv.MA200DC, \"up200\"] = 1 \n",
    "ibv[\"up21\"] = 0\n",
    "ibv.loc[ibv.Close > ibv.MA21DC, \"up21\"] = 1 \n",
    "ibv['upvl5d'] = 0\n",
    "ibv.loc[ibv.Volume > ibv.MA5DVL, \"upvl5d\"] = 1 \n",
    "ibv['upvl21d'] = 0\n",
    "ibv.loc[ibv.Volume > ibv.MA5DVL, \"upvl21d\"] = 1 \n",
    "ibv['upstd5dhl'] = 0\n",
    "ibv.loc[(ibv.High-ibv.Low) > ibv.STD5DHL, \"upstd5dhl\"] = 1 \n",
    "ibv['upstd21dhl'] = 0\n",
    "ibv.loc[(ibv.High-ibv.Low) > ibv.STD21DHL, \"upstd21dhl\"] = 1 \n",
    "ibv['ibvclose'] = ibv.Close[:-1] # previous day index close"
   ]
  },
  {
   "cell_type": "code",
   "execution_count": 64,
   "metadata": {},
   "outputs": [
    {
     "data": {
      "text/html": [
       "<div>\n",
       "<style scoped>\n",
       "    .dataframe tbody tr th:only-of-type {\n",
       "        vertical-align: middle;\n",
       "    }\n",
       "\n",
       "    .dataframe tbody tr th {\n",
       "        vertical-align: top;\n",
       "    }\n",
       "\n",
       "    .dataframe thead th {\n",
       "        text-align: right;\n",
       "    }\n",
       "</style>\n",
       "<table border=\"1\" class=\"dataframe\">\n",
       "  <thead>\n",
       "    <tr style=\"text-align: right;\">\n",
       "      <th></th>\n",
       "      <th>Open</th>\n",
       "      <th>High</th>\n",
       "      <th>Low</th>\n",
       "      <th>Close</th>\n",
       "      <th>Volume</th>\n",
       "      <th>MA21DC</th>\n",
       "      <th>MA200DC</th>\n",
       "      <th>MA5DVL</th>\n",
       "      <th>MA21DVL</th>\n",
       "      <th>STD5DHL</th>\n",
       "      <th>STD21DHL</th>\n",
       "      <th>up200</th>\n",
       "      <th>up21</th>\n",
       "      <th>upvl5d</th>\n",
       "      <th>upvl21d</th>\n",
       "      <th>upstd5dhl</th>\n",
       "      <th>upstd21dhl</th>\n",
       "      <th>ibvclose</th>\n",
       "    </tr>\n",
       "  </thead>\n",
       "  <tbody>\n",
       "    <tr>\n",
       "      <th>2007-06-29</th>\n",
       "      <td>54150.0</td>\n",
       "      <td>54783.0</td>\n",
       "      <td>53958.0</td>\n",
       "      <td>54392.0</td>\n",
       "      <td>18.262811</td>\n",
       "      <td>53579.904762</td>\n",
       "      <td>44070.940</td>\n",
       "      <td>18.227992</td>\n",
       "      <td>18.410183</td>\n",
       "      <td>202.353552</td>\n",
       "      <td>303.209484</td>\n",
       "      <td>1</td>\n",
       "      <td>1</td>\n",
       "      <td>1</td>\n",
       "      <td>1</td>\n",
       "      <td>1</td>\n",
       "      <td>1</td>\n",
       "      <td>54392.0</td>\n",
       "    </tr>\n",
       "    <tr>\n",
       "      <th>2007-07-02</th>\n",
       "      <td>54396.0</td>\n",
       "      <td>55386.0</td>\n",
       "      <td>54396.0</td>\n",
       "      <td>55371.0</td>\n",
       "      <td>18.023539</td>\n",
       "      <td>53727.666667</td>\n",
       "      <td>44293.565</td>\n",
       "      <td>18.181750</td>\n",
       "      <td>18.380582</td>\n",
       "      <td>200.125361</td>\n",
       "      <td>302.719915</td>\n",
       "      <td>1</td>\n",
       "      <td>1</td>\n",
       "      <td>0</td>\n",
       "      <td>0</td>\n",
       "      <td>1</td>\n",
       "      <td>1</td>\n",
       "      <td>55371.0</td>\n",
       "    </tr>\n",
       "  </tbody>\n",
       "</table>\n",
       "</div>"
      ],
      "text/plain": [
       "               Open     High      Low    Close     Volume        MA21DC  \\\n",
       "2007-06-29  54150.0  54783.0  53958.0  54392.0  18.262811  53579.904762   \n",
       "2007-07-02  54396.0  55386.0  54396.0  55371.0  18.023539  53727.666667   \n",
       "\n",
       "              MA200DC     MA5DVL    MA21DVL     STD5DHL    STD21DHL  up200  \\\n",
       "2007-06-29  44070.940  18.227992  18.410183  202.353552  303.209484      1   \n",
       "2007-07-02  44293.565  18.181750  18.380582  200.125361  302.719915      1   \n",
       "\n",
       "            up21  upvl5d  upvl21d  upstd5dhl  upstd21dhl  ibvclose  \n",
       "2007-06-29     1       1        1          1           1   54392.0  \n",
       "2007-07-02     1       0        0          1           1   55371.0  "
      ]
     },
     "execution_count": 64,
     "metadata": {},
     "output_type": "execute_result"
    }
   ],
   "source": [
    "ibv.head(2)"
   ]
  },
  {
   "cell_type": "code",
   "execution_count": 65,
   "metadata": {},
   "outputs": [],
   "source": [
    "dfgaps = dfgaps.join(ibv[['ibvclose', 'up200', 'up21', 'upvl5d', 'upvl21d', 'upstd5dhl', 'upstd21dhl']], on='date')"
   ]
  },
  {
   "cell_type": "code",
   "execution_count": 66,
   "metadata": {},
   "outputs": [],
   "source": [
    "dfgaps.isnull().sum().sum() # just to make sure all days got it\n",
    "dfgaps.dropna(inplace=True)"
   ]
  },
  {
   "cell_type": "code",
   "execution_count": 67,
   "metadata": {},
   "outputs": [],
   "source": [
    "from scipy.signal import detrend"
   ]
  },
  {
   "cell_type": "code",
   "execution_count": 68,
   "metadata": {},
   "outputs": [
    {
     "data": {
      "text/plain": [
       "[<matplotlib.lines.Line2D at 0x2b2e2dafba8>]"
      ]
     },
     "execution_count": 68,
     "metadata": {},
     "output_type": "execute_result"
    },
    {
     "data": {
      "image/png": "[encoded data removed]",
      "text/plain": [
       "<Figure size 576x216 with 1 Axes>"
      ]
     },
     "metadata": {
      "needs_background": "light"
     },
     "output_type": "display_data"
    }
   ],
   "source": [
    "plt.figure(figsize=(8,3))\n",
    "plt.plot(detrend(dfgaps.dayopen - dfgaps.ibvclose))"
   ]
  },
  {
   "cell_type": "code",
   "execution_count": 69,
   "metadata": {},
   "outputs": [
    {
     "data": {
      "text/plain": [
       "[<matplotlib.lines.Line2D at 0x2b2e2e4eac8>]"
      ]
     },
     "execution_count": 69,
     "metadata": {},
     "output_type": "execute_result"
    },
    {
     "data": {
      "image/png": "[encoded data removed]",
      "text/plain": [
       "<Figure size 576x216 with 1 Axes>"
      ]
     },
     "metadata": {
      "needs_background": "light"
     },
     "output_type": "display_data"
    },
    {
     "data": {
      "image/png": "[encoded data removed]",
      "text/plain": [
       "<Figure size 576x216 with 1 Axes>"
      ]
     },
     "metadata": {
      "needs_background": "light"
     },
     "output_type": "display_data"
    }
   ],
   "source": [
    "plt.figure(figsize=(8,3))\n",
    "plt.plot(dfgaps.date, dfgaps.ibvclose)\n",
    "plt.figure(figsize=(8,3))\n",
    "plt.plot(dfgaps.ibvclose.values)"
   ]
  },
  {
   "cell_type": "code",
   "execution_count": 70,
   "metadata": {},
   "outputs": [],
   "source": [
    "dfgaps['gapibv'] = detrend(dfgaps.dayopen - dfgaps.ibvclose) # gap related to ibov index close"
   ]
  },
  {
   "cell_type": "code",
   "execution_count": 71,
   "metadata": {},
   "outputs": [
    {
     "data": {
      "text/html": [
       "<div>\n",
       "<style scoped>\n",
       "    .dataframe tbody tr th:only-of-type {\n",
       "        vertical-align: middle;\n",
       "    }\n",
       "\n",
       "    .dataframe tbody tr th {\n",
       "        vertical-align: top;\n",
       "    }\n",
       "\n",
       "    .dataframe thead th {\n",
       "        text-align: right;\n",
       "    }\n",
       "</style>\n",
       "<table border=\"1\" class=\"dataframe\">\n",
       "  <thead>\n",
       "    <tr style=\"text-align: right;\">\n",
       "      <th></th>\n",
       "      <th>gap</th>\n",
       "      <th>result</th>\n",
       "      <th>sign</th>\n",
       "      <th>date</th>\n",
       "      <th>wday</th>\n",
       "      <th>wdayp</th>\n",
       "      <th>phdif</th>\n",
       "      <th>pldif</th>\n",
       "      <th>dayopen</th>\n",
       "      <th>ibvclose</th>\n",
       "      <th>up200</th>\n",
       "      <th>up21</th>\n",
       "      <th>upvl5d</th>\n",
       "      <th>upvl21d</th>\n",
       "      <th>upstd5dhl</th>\n",
       "      <th>upstd21dhl</th>\n",
       "      <th>gapibv</th>\n",
       "    </tr>\n",
       "  </thead>\n",
       "  <tbody>\n",
       "    <tr>\n",
       "      <th>0</th>\n",
       "      <td>302</td>\n",
       "      <td>657</td>\n",
       "      <td>1</td>\n",
       "      <td>2014-06-16</td>\n",
       "      <td>0</td>\n",
       "      <td>4</td>\n",
       "      <td>-30</td>\n",
       "      <td>727</td>\n",
       "      <td>85255</td>\n",
       "      <td>54630.0</td>\n",
       "      <td>1.0</td>\n",
       "      <td>1.0</td>\n",
       "      <td>0.0</td>\n",
       "      <td>0.0</td>\n",
       "      <td>1.0</td>\n",
       "      <td>1.0</td>\n",
       "      <td>4177.761019</td>\n",
       "    </tr>\n",
       "    <tr>\n",
       "      <th>1</th>\n",
       "      <td>-47</td>\n",
       "      <td>247</td>\n",
       "      <td>-1</td>\n",
       "      <td>2014-06-17</td>\n",
       "      <td>1</td>\n",
       "      <td>0</td>\n",
       "      <td>650</td>\n",
       "      <td>-363</td>\n",
       "      <td>84659</td>\n",
       "      <td>54300.0</td>\n",
       "      <td>1.0</td>\n",
       "      <td>1.0</td>\n",
       "      <td>0.0</td>\n",
       "      <td>0.0</td>\n",
       "      <td>1.0</td>\n",
       "      <td>1.0</td>\n",
       "      <td>3933.967332</td>\n",
       "    </tr>\n",
       "  </tbody>\n",
       "</table>\n",
       "</div>"
      ],
      "text/plain": [
       "   gap  result  sign        date  wday  wdayp  phdif  pldif  dayopen  \\\n",
       "0  302     657     1  2014-06-16     0      4    -30    727    85255   \n",
       "1  -47     247    -1  2014-06-17     1      0    650   -363    84659   \n",
       "\n",
       "   ibvclose  up200  up21  upvl5d  upvl21d  upstd5dhl  upstd21dhl       gapibv  \n",
       "0   54630.0    1.0   1.0     0.0      0.0        1.0         1.0  4177.761019  \n",
       "1   54300.0    1.0   1.0     0.0      0.0        1.0         1.0  3933.967332  "
      ]
     },
     "execution_count": 71,
     "metadata": {},
     "output_type": "execute_result"
    }
   ],
   "source": [
    "dfgaps.head(2)"
   ]
  },
  {
   "cell_type": "markdown",
   "metadata": {},
   "source": [
    "### Target Class \n",
    "\n",
    "#### Did it close or not?"
   ]
  },
  {
   "cell_type": "code",
   "execution_count": 72,
   "metadata": {},
   "outputs": [],
   "source": [
    "dfgaps['gapr'] = 0\n",
    "dfgaps.loc[ dfgaps.result > 0,  'gapr'] = 1"
   ]
  },
  {
   "cell_type": "code",
   "execution_count": 73,
   "metadata": {},
   "outputs": [
    {
     "data": {
      "text/html": [
       "<div>\n",
       "<style scoped>\n",
       "    .dataframe tbody tr th:only-of-type {\n",
       "        vertical-align: middle;\n",
       "    }\n",
       "\n",
       "    .dataframe tbody tr th {\n",
       "        vertical-align: top;\n",
       "    }\n",
       "\n",
       "    .dataframe thead th {\n",
       "        text-align: right;\n",
       "    }\n",
       "</style>\n",
       "<table border=\"1\" class=\"dataframe\">\n",
       "  <thead>\n",
       "    <tr style=\"text-align: right;\">\n",
       "      <th></th>\n",
       "      <th>gap</th>\n",
       "      <th>sign</th>\n",
       "      <th>wday</th>\n",
       "      <th>wdayp</th>\n",
       "      <th>phdif</th>\n",
       "      <th>pldif</th>\n",
       "      <th>up200</th>\n",
       "      <th>up21</th>\n",
       "      <th>upvl5d</th>\n",
       "      <th>upvl21d</th>\n",
       "      <th>upstd5dhl</th>\n",
       "      <th>upstd21dhl</th>\n",
       "      <th>gapibv</th>\n",
       "    </tr>\n",
       "  </thead>\n",
       "  <tbody>\n",
       "    <tr>\n",
       "      <th>0</th>\n",
       "      <td>302</td>\n",
       "      <td>1</td>\n",
       "      <td>0</td>\n",
       "      <td>4</td>\n",
       "      <td>-30</td>\n",
       "      <td>727</td>\n",
       "      <td>1.0</td>\n",
       "      <td>1.0</td>\n",
       "      <td>0.0</td>\n",
       "      <td>0.0</td>\n",
       "      <td>1.0</td>\n",
       "      <td>1.0</td>\n",
       "      <td>4177.761019</td>\n",
       "    </tr>\n",
       "    <tr>\n",
       "      <th>1</th>\n",
       "      <td>-47</td>\n",
       "      <td>-1</td>\n",
       "      <td>1</td>\n",
       "      <td>0</td>\n",
       "      <td>650</td>\n",
       "      <td>-363</td>\n",
       "      <td>1.0</td>\n",
       "      <td>1.0</td>\n",
       "      <td>0.0</td>\n",
       "      <td>0.0</td>\n",
       "      <td>1.0</td>\n",
       "      <td>1.0</td>\n",
       "      <td>3933.967332</td>\n",
       "    </tr>\n",
       "    <tr>\n",
       "      <th>2</th>\n",
       "      <td>145</td>\n",
       "      <td>1</td>\n",
       "      <td>2</td>\n",
       "      <td>1</td>\n",
       "      <td>-976</td>\n",
       "      <td>277</td>\n",
       "      <td>1.0</td>\n",
       "      <td>1.0</td>\n",
       "      <td>1.0</td>\n",
       "      <td>1.0</td>\n",
       "      <td>1.0</td>\n",
       "      <td>1.0</td>\n",
       "      <td>2372.173645</td>\n",
       "    </tr>\n",
       "    <tr>\n",
       "      <th>3</th>\n",
       "      <td>-541</td>\n",
       "      <td>-1</td>\n",
       "      <td>4</td>\n",
       "      <td>2</td>\n",
       "      <td>541</td>\n",
       "      <td>-1356</td>\n",
       "      <td>1.0</td>\n",
       "      <td>1.0</td>\n",
       "      <td>0.0</td>\n",
       "      <td>0.0</td>\n",
       "      <td>1.0</td>\n",
       "      <td>1.0</td>\n",
       "      <td>3887.379958</td>\n",
       "    </tr>\n",
       "  </tbody>\n",
       "</table>\n",
       "</div>"
      ],
      "text/plain": [
       "   gap  sign  wday  wdayp  phdif  pldif  up200  up21  upvl5d  upvl21d  \\\n",
       "0  302     1     0      4    -30    727    1.0   1.0     0.0      0.0   \n",
       "1  -47    -1     1      0    650   -363    1.0   1.0     0.0      0.0   \n",
       "2  145     1     2      1   -976    277    1.0   1.0     1.0      1.0   \n",
       "3 -541    -1     4      2    541  -1356    1.0   1.0     0.0      0.0   \n",
       "\n",
       "   upstd5dhl  upstd21dhl       gapibv  \n",
       "0        1.0         1.0  4177.761019  \n",
       "1        1.0         1.0  3933.967332  \n",
       "2        1.0         1.0  2372.173645  \n",
       "3        1.0         1.0  3887.379958  "
      ]
     },
     "execution_count": 73,
     "metadata": {},
     "output_type": "execute_result"
    }
   ],
   "source": [
    "dfgaps.drop(columns=['result', 'date', 'gapr', 'dayopen', 'ibvclose']).head(4)"
   ]
  },
  {
   "cell_type": "code",
   "execution_count": 74,
   "metadata": {},
   "outputs": [],
   "source": [
    "X = dfgaps.drop(columns=['result', 'date', 'gapr', 'dayopen', 'ibvclose'])\n",
    "y = dfgaps.gapr"
   ]
  },
  {
   "cell_type": "code",
   "execution_count": 75,
   "metadata": {},
   "outputs": [
    {
     "data": {
      "text/plain": [
       "1221"
      ]
     },
     "execution_count": 75,
     "metadata": {},
     "output_type": "execute_result"
    }
   ],
   "source": [
    "len(X)"
   ]
  },
  {
   "cell_type": "code",
   "execution_count": 76,
   "metadata": {},
   "outputs": [],
   "source": [
    "ixtrain = int(0.7*len(X))\n",
    "#ixtest = len(X) - ixtrain"
   ]
  },
  {
   "cell_type": "code",
   "execution_count": 77,
   "metadata": {},
   "outputs": [],
   "source": [
    "from sklearn.ensemble import ExtraTreesClassifier as rfc"
   ]
  },
  {
   "cell_type": "code",
   "execution_count": 78,
   "metadata": {},
   "outputs": [
    {
     "data": {
      "text/plain": [
       "ExtraTreesClassifier(bootstrap=False, class_weight=None, criterion='gini',\n",
       "           max_depth=None, max_features='auto', max_leaf_nodes=None,\n",
       "           min_impurity_decrease=0.0, min_impurity_split=None,\n",
       "           min_samples_leaf=1, min_samples_split=2,\n",
       "           min_weight_fraction_leaf=0.0, n_estimators=80, n_jobs=None,\n",
       "           oob_score=False, random_state=None, verbose=0, warm_start=False)"
      ]
     },
     "execution_count": 78,
     "metadata": {},
     "output_type": "execute_result"
    }
   ],
   "source": [
    "classifier = rfc(n_estimators=80) # less estimator better less over-fitting\n",
    "classifier.fit(X[:ixtrain], y[:ixtrain])"
   ]
  },
  {
   "cell_type": "code",
   "execution_count": 79,
   "metadata": {},
   "outputs": [
    {
     "data": {
      "text/plain": [
       "array([[0.    , 1.    ],\n",
       "       [0.2125, 0.7875],\n",
       "       [0.2125, 0.7875]])"
      ]
     },
     "execution_count": 79,
     "metadata": {},
     "output_type": "execute_result"
    }
   ],
   "source": [
    "classifier.predict_proba(X[ixtrain:])[:3]"
   ]
  },
  {
   "cell_type": "code",
   "execution_count": 80,
   "metadata": {},
   "outputs": [
    {
     "data": {
      "text/plain": [
       "858    1\n",
       "859    1\n",
       "860    0\n",
       "Name: gapr, dtype: int64"
      ]
     },
     "execution_count": 80,
     "metadata": {},
     "output_type": "execute_result"
    }
   ],
   "source": [
    "y[ixtrain:][:3]"
   ]
  },
  {
   "cell_type": "code",
   "execution_count": 81,
   "metadata": {},
   "outputs": [
    {
     "data": {
      "text/plain": [
       "0.7329700272479565"
      ]
     },
     "execution_count": 81,
     "metadata": {},
     "output_type": "execute_result"
    }
   ],
   "source": [
    "classifier.score(X[ixtrain:], y[ixtrain:])"
   ]
  },
  {
   "cell_type": "code",
   "execution_count": 82,
   "metadata": {
    "scrolled": true
   },
   "outputs": [],
   "source": [
    "dfeatures = pd.DataFrame({'importance' : classifier.feature_importances_, \n",
    "              'feature' : \n",
    "              dfgaps.drop(columns=['result', 'date', 'gapr', 'dayopen', 'ibvclose']).columns.values.astype(str)})"
   ]
  },
  {
   "cell_type": "code",
   "execution_count": 83,
   "metadata": {},
   "outputs": [
    {
     "data": {
      "text/html": [
       "<div>\n",
       "<style scoped>\n",
       "    .dataframe tbody tr th:only-of-type {\n",
       "        vertical-align: middle;\n",
       "    }\n",
       "\n",
       "    .dataframe tbody tr th {\n",
       "        vertical-align: top;\n",
       "    }\n",
       "\n",
       "    .dataframe thead th {\n",
       "        text-align: right;\n",
       "    }\n",
       "</style>\n",
       "<table border=\"1\" class=\"dataframe\">\n",
       "  <thead>\n",
       "    <tr style=\"text-align: right;\">\n",
       "      <th></th>\n",
       "      <th>importance</th>\n",
       "      <th>feature</th>\n",
       "    </tr>\n",
       "  </thead>\n",
       "  <tbody>\n",
       "    <tr>\n",
       "      <th>0</th>\n",
       "      <td>0.234380</td>\n",
       "      <td>gap</td>\n",
       "    </tr>\n",
       "    <tr>\n",
       "      <th>12</th>\n",
       "      <td>0.179966</td>\n",
       "      <td>gapibv</td>\n",
       "    </tr>\n",
       "    <tr>\n",
       "      <th>5</th>\n",
       "      <td>0.160709</td>\n",
       "      <td>pldif</td>\n",
       "    </tr>\n",
       "    <tr>\n",
       "      <th>4</th>\n",
       "      <td>0.154543</td>\n",
       "      <td>phdif</td>\n",
       "    </tr>\n",
       "    <tr>\n",
       "      <th>1</th>\n",
       "      <td>0.055343</td>\n",
       "      <td>sign</td>\n",
       "    </tr>\n",
       "    <tr>\n",
       "      <th>3</th>\n",
       "      <td>0.053616</td>\n",
       "      <td>wdayp</td>\n",
       "    </tr>\n",
       "    <tr>\n",
       "      <th>2</th>\n",
       "      <td>0.053131</td>\n",
       "      <td>wday</td>\n",
       "    </tr>\n",
       "    <tr>\n",
       "      <th>7</th>\n",
       "      <td>0.042459</td>\n",
       "      <td>up21</td>\n",
       "    </tr>\n",
       "    <tr>\n",
       "      <th>6</th>\n",
       "      <td>0.028424</td>\n",
       "      <td>up200</td>\n",
       "    </tr>\n",
       "    <tr>\n",
       "      <th>8</th>\n",
       "      <td>0.012156</td>\n",
       "      <td>upvl5d</td>\n",
       "    </tr>\n",
       "    <tr>\n",
       "      <th>9</th>\n",
       "      <td>0.010455</td>\n",
       "      <td>upvl21d</td>\n",
       "    </tr>\n",
       "    <tr>\n",
       "      <th>11</th>\n",
       "      <td>0.008970</td>\n",
       "      <td>upstd21dhl</td>\n",
       "    </tr>\n",
       "    <tr>\n",
       "      <th>10</th>\n",
       "      <td>0.005846</td>\n",
       "      <td>upstd5dhl</td>\n",
       "    </tr>\n",
       "  </tbody>\n",
       "</table>\n",
       "</div>"
      ],
      "text/plain": [
       "    importance     feature\n",
       "0     0.234380         gap\n",
       "12    0.179966      gapibv\n",
       "5     0.160709       pldif\n",
       "4     0.154543       phdif\n",
       "1     0.055343        sign\n",
       "3     0.053616       wdayp\n",
       "2     0.053131        wday\n",
       "7     0.042459        up21\n",
       "6     0.028424       up200\n",
       "8     0.012156      upvl5d\n",
       "9     0.010455     upvl21d\n",
       "11    0.008970  upstd21dhl\n",
       "10    0.005846   upstd5dhl"
      ]
     },
     "execution_count": 83,
     "metadata": {},
     "output_type": "execute_result"
    }
   ],
   "source": [
    "dfeatures.sort_values(by='importance', ascending=False)"
   ]
  },
  {
   "cell_type": "markdown",
   "metadata": {},
   "source": [
    "####  Features importances for a gap close or not\n",
    "\n",
    "1. the size of the gap \n",
    "2.  - difference in points of the future contract openning and the ibov index close\n",
    "    - difference in points of the future contract openning and the previous day High\n",
    "    - difference in points of the future contract openning and the previous day Low     \n",
    "5. previous day week day position (e. g. monday, tuesday etc.)\n",
    "6. day week day position (e. g. monday, tuesday etc.)\n",
    "\n",
    "\n",
    "if the gap sign matters ?? the rest of the table above are useless??"
   ]
  },
  {
   "cell_type": "markdown",
   "metadata": {},
   "source": [
    "## Conclusion \n",
    "### There is no free-lunch\n",
    "\n",
    "A little  better than simple say roughly 70% of gaps close"
   ]
  },
  {
   "cell_type": "code",
   "execution_count": 84,
   "metadata": {},
   "outputs": [],
   "source": [
    "# What if we choose only the ones smaller than < 200 points of gap. \n",
    "# dfgaps = dfgaps[np.abs(dfgaps.gap) < 230]\n",
    "# doesnt matter"
   ]
  },
  {
   "cell_type": "code",
   "execution_count": null,
   "metadata": {},
   "outputs": [],
   "source": []
  }
 ],
 "metadata": {
  "kernelspec": {
   "display_name": "Python 3",
   "language": "python",
   "name": "python3"
  },
  "language_info": {
   "codemirror_mode": {
    "name": "ipython",
    "version": 3
   },
   "file_extension": ".py",
   "mimetype": "text/x-python",
   "name": "python",
   "nbconvert_exporter": "python",
   "pygments_lexer": "ipython3",
   "version": "3.7.3"
  }
 },
 "nbformat": 4,
 "nbformat_minor": 2
}
