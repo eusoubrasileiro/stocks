{
 "cells": [
  {
   "cell_type": "markdown",
   "metadata": {},
   "source": [
    "#### Using WIN M1 Metatrader 5 data\n",
    "\n",
    "Implementing Saulo's arbitrage algo\n",
    "\n",
    "The idea is to train a guided system that learns and ajusts itself with its owns errors.  \n",
    "That's the idea of a kalman's filter.   \n",
    "The base for the first decision is the Bollinger Bands Algo.  \n",
    "That's the most powerfull algo, based on the regression toward the mean law!"
   ]
  },
  {
   "cell_type": "code",
   "execution_count": 1,
   "metadata": {},
   "outputs": [],
   "source": [
    "%matplotlib inline "
   ]
  },
  {
   "cell_type": "code",
   "execution_count": 2,
   "metadata": {
    "scrolled": true
   },
   "outputs": [
    {
     "name": "stdout",
     "output_type": "stream",
     "text": [
      "[WinError 2] O sistema não pode encontrar o arquivo especificado: 'stocks'\n",
      "C:\\Users\\alferreira\\Documents\\stocks\\prototypes\n"
     ]
    }
   ],
   "source": [
    "cd stocks"
   ]
  },
  {
   "cell_type": "code",
   "execution_count": 3,
   "metadata": {},
   "outputs": [
    {
     "name": "stdout",
     "output_type": "stream",
     "text": [
      "C:\\Users\\alferreira\\Documents\\stocks\n"
     ]
    }
   ],
   "source": [
    "cd .."
   ]
  },
  {
   "cell_type": "code",
   "execution_count": 4,
   "metadata": {},
   "outputs": [],
   "source": [
    "from matplotlib import pyplot as plt\n",
    "import os\n",
    "import sys\n",
    "import pandas as pd\n",
    "import numpy as np\n",
    "import struct\n",
    "import datetime\n",
    "import calendar\n",
    "import time\n",
    "import argparse\n",
    "import seaborn as sns\n",
    "from algos import meta5Ibov\n",
    "from algos.util import progressbar\n",
    "from algos import meta5Ibov, bbands3, bbands2\n",
    "import importlib\n",
    "\n",
    "#import torch as th\n",
    "import scipy\n",
    "import talib as ta\n",
    "from numba import jit"
   ]
  },
  {
   "cell_type": "code",
   "execution_count": 5,
   "metadata": {
    "scrolled": false
   },
   "outputs": [
    {
     "data": {
      "text/plain": [
       "<module 'algos.bbands2' from 'C:\\\\Users\\\\alferreira\\\\Documents\\\\stocks\\\\algos\\\\bbands2.py'>"
      ]
     },
     "execution_count": 5,
     "metadata": {},
     "output_type": "execute_result"
    }
   ],
   "source": [
    "importlib.reload(bbands3)\n",
    "importlib.reload(bbands2)"
   ]
  },
  {
   "cell_type": "code",
   "execution_count": 6,
   "metadata": {},
   "outputs": [
    {
     "name": "stdout",
     "output_type": "stream",
     "text": [
      "C:\\Users\\alferreira\\Documents\\stocks\\data\n"
     ]
    }
   ],
   "source": [
    "cd data"
   ]
  },
  {
   "cell_type": "code",
   "execution_count": 7,
   "metadata": {},
   "outputs": [
    {
     "data": {
      "text/plain": [
       "'C:\\\\Users\\\\alferreira\\\\Documents\\\\stocks\\\\data'"
      ]
     },
     "execution_count": 7,
     "metadata": {},
     "output_type": "execute_result"
    }
   ],
   "source": [
    "pwd"
   ]
  },
  {
   "cell_type": "code",
   "execution_count": 8,
   "metadata": {},
   "outputs": [
    {
     "name": "stderr",
     "output_type": "stream",
     "text": [
      "Master data loaded size (minutes):  509471\n",
      "symbols loaded:\n",
      "['ABEV3' 'B3SA3' 'BBAS3' 'BBDC4' 'DOL$' 'ITUB4' 'PETR4' 'VALE3' 'WIN@']\n"
     ]
    }
   ],
   "source": [
    "meta5Ibov.setDataPath(r'C:\\\\Users\\\\alferreira\\\\Documents\\\\stocks\\\\data', \n",
    "                      r'C:\\\\Users\\\\alferreira\\\\Documents\\\\stocks\\\\data')\n",
    "# meta5Ibov.setDataPath(r'/home/andre/Projects/stocks/data', \n",
    "#                         r'/home/andre/Projects/stocks/data')"
   ]
  },
  {
   "cell_type": "code",
   "execution_count": 9,
   "metadata": {},
   "outputs": [],
   "source": [
    "from scipy.stats import entropy as stat_entropy\n",
    "\n",
    "def entropy(labels, base=3): # base 3 because of 3 classes\n",
    "    value,counts = np.unique(labels, return_counts=True)\n",
    "    return stat_entropy(counts, base=base)"
   ]
  },
  {
   "cell_type": "markdown",
   "metadata": {},
   "source": [
    "## Real back-testing using normalized data for the previsou 5k minutes"
   ]
  },
  {
   "cell_type": "code",
   "execution_count": 10,
   "metadata": {},
   "outputs": [
    {
     "name": "stdout",
     "output_type": "stream",
     "text": [
      "C:\\Users\\alferreira\\Documents\\stocks\n"
     ]
    }
   ],
   "source": [
    "cd .."
   ]
  },
  {
   "cell_type": "code",
   "execution_count": 11,
   "metadata": {},
   "outputs": [],
   "source": [
    "from sklearn import metrics"
   ]
  },
  {
   "cell_type": "code",
   "execution_count": 12,
   "metadata": {},
   "outputs": [],
   "source": [
    "from matplotlib import pyplot as plt\n",
    "import os\n",
    "import sys\n",
    "import pandas as pd\n",
    "import numpy as np\n",
    "import struct\n",
    "import datetime\n",
    "import calendar\n",
    "import time\n",
    "import argparse\n",
    "import seaborn as sns\n",
    "from algos import meta5Ibov\n",
    "from algos.util import progressbar\n",
    "from algos import meta5Ibov, bbands3, bbands2\n",
    "from sklearn.ensemble import ExtraTreesClassifier\n",
    "import scipy\n",
    "import talib as ta\n",
    "from numba import jit\n",
    "\n",
    "\n",
    "def predictProb(X, y, Xp):\n",
    "    \"\"\"dont predict if training vectors dont have 3 classes\"\"\"\n",
    "    ypred = None\n",
    "    try:\n",
    "        trees = ExtraTreesClassifier(n_estimators=100, verbose=0)\n",
    "        if len(np.unique(y)) == 3:\n",
    "            trees.fit(X, y)\n",
    "            ypred = trees.predict_proba(Xp)                                  \n",
    "    except Exception as e:\n",
    "        print(e, file=sys.stderr)   \n",
    "    return ypred, trees \n",
    "\n",
    "def predictY(X, y, Xp):\n",
    "    \"\"\"dont predict if training vectors dont have 3 classes\"\"\"\n",
    "    ypred = None\n",
    "    try:\n",
    "        trees = ExtraTreesClassifier(n_estimators=100, verbose=0)\n",
    "        if len(np.unique(y)) == 3:\n",
    "            trees.fit(X, y)\n",
    "            ypred = trees.predict(Xp)\n",
    "    except Exception as e:\n",
    "        print(e, file=sys.stderr)   \n",
    "    return ypred\n",
    "\n",
    "def getTrainVectors(obars, window, nbands, batchn):\n",
    "    # create target classes for the first piece of data\n",
    "    bars = bbands3.barsTargetFromSignals(obars, window, nbands)   \n",
    "    # standardize this slice of data\n",
    "    isgfeatures, bars = bbands3.standardizeFeatures(bars, nbands)  \n",
    "    # training vectors\n",
    "    X, y, time = bbands3.getTrainingVectors(bars, isgfeatures, window, nbands, batchn)    \n",
    "    return X, y, time\n",
    "\n",
    "def crosScore(obars, window, nbands, batchn, twindow, Xscore, yscore, wscore):\n",
    "    \"\"\"validation or score is made on `length` wscore\"\"\"\n",
    "    size = len(obars)\n",
    "    # make 1 predictions for cross-validation\n",
    "    X, y, idxtime = getTrainVectors(obars, window, nbands, batchn)\n",
    "    ypred = predictY(X[-twindow:size-wscore], y[-twindow:size-wscore], Xscore)    \n",
    "    # unfortunantly cannot analyse performance without real data\n",
    "    if ( not np.isin(1, yscore) ) or (ypred is None): \n",
    "        return np.nan    \n",
    "    ypred[ ypred == 2] = -1\n",
    "    print(idxtime[-twindow:size-wscore], y[-twindow:size-wscore])    \n",
    "    print(yscore, ypred)    \n",
    "    cm = metrics.confusion_matrix(yscore, ypred) # score is precision of class 1\n",
    "    if cm.shape[0] < 3:\n",
    "        return np.nan\n",
    "    score = cm[2, 2]/sum(cm[:, 2]) # tp/(tp+fp)\n",
    "    return score\n",
    "\n",
    "# training window latest data he used 80 latest signals\n",
    "def predictMinute(obars, window, nbands, batchn, twindow, itime):\n",
    "    ypred = [np.nan]*3 # prediction probabilites for each class\n",
    "    features = [np.nan]*5 # feature to help divide between good and bad predictions\n",
    "    \n",
    "    signal = bbands3.lastSignal(obars, nbands)\n",
    "    meta5time = pd.Timestamp(obars.index.values[-1])    \n",
    "       \n",
    "    if np.all(signal==0): # no entry point\n",
    "        signal =  sumdPred(signal)\n",
    "        return (*features, meta5time, itime, *[1, 0, 0], signal[0])        \n",
    "    signal =  sumdPred(signal)\n",
    "    \n",
    "    # the truth vector is in here for the training set \n",
    "    bars = bbands3.barsTargetFromSignals(obars, window, nbands) \n",
    "    # standardize this slice of data\n",
    "    # isgfeatures, bars = bbands3.standardizeFeatures(bars, nbands)\n",
    "    \n",
    "    X, y, time = bbands2.getTrainingVectors(bars, window, nbands, batchn)    \n",
    "    Xp = bbands2.getForecastVector(bars, window, nbands, batchn)\n",
    "    \n",
    "    # cross validate using last twindow sam\n",
    "    # the twindow might seam big but the ideal is to get \n",
    "    # an average  number of the model precision\n",
    "#     wscore = 3\n",
    "#     iys = ['y'+str(i) for i in range(nbands)] \n",
    "#     yscore = sumdPred(bars[iys])[-wscore:]\n",
    "#     Xscore = X[-wscore:]\n",
    "#     assert len(Xscore) == len(yscore)\n",
    "    #score = crosScore(obars, window,nbands, batchn, twindow, Xscore, yscore, wscore)\n",
    "    \n",
    "    # now predict indeed\n",
    "    predy, tmodel = predictProb(X[-twindow:], y[-twindow:], Xp.reshape(1, -1))\n",
    "    \n",
    "    if not predy is None:        \n",
    "        ypred = predy[0] # just one prediction    \n",
    "        # model score allways 1 over training data set, need something else\n",
    "        m_score = tmodel.score(X[-2*twindow:], y[-2*twindow:]) # harsh but what we have\n",
    "        feature_importances = tmodel.feature_importances_\n",
    "        nusefull = len((feature_importances[feature_importances > 0.01]))\n",
    "\n",
    "        indicator, n_nodes_ptr = tmodel.decision_path(Xp.reshape(1, -1))\n",
    "        # which nodes are reached by this sample Xp\n",
    "        # a # Return a node indicator matrix where non zero elements \n",
    "        # indicates that the samples goes through the nodes.\n",
    "        # print(a.shape)  changes every fit\n",
    "        \n",
    "        # feature to help divide between good and bad predictions\n",
    "        features = [entropy(y[-twindow:]), \n",
    "                    entropy(np.clip(feature_importances, 0.01, 1.), base=None), \n",
    "                    nusefull, \n",
    "                    indicator.shape[1],\n",
    "                    m_score] \n",
    "    return (*features, meta5time, itime, *ypred, signal[0])"
   ]
  },
  {
   "cell_type": "code",
   "execution_count": 18,
   "metadata": {},
   "outputs": [
    {
     "data": {
      "text/plain": [
       "0    ABEV3\n",
       "1    B3SA3\n",
       "2    BBAS3\n",
       "3    BBDC4\n",
       "4     DOL$\n",
       "5    ITUB4\n",
       "6    PETR4\n",
       "7    VALE3\n",
       "8     WIN@\n",
       "dtype: object"
      ]
     },
     "execution_count": 18,
     "metadata": {},
     "output_type": "execute_result"
    }
   ],
   "source": [
    "meta5Ibov.symbols"
   ]
  },
  {
   "cell_type": "code",
   "execution_count": 219,
   "metadata": {},
   "outputs": [],
   "source": [
    "loaded = meta5Ibov.loadMeta5Data(suffix='M1.mt5bin',\n",
    "            cleandays=False, preload=False, verbose=False)\n",
    "barsread = meta5Ibov.getSymbol('ITUB4')"
   ]
  },
  {
   "cell_type": "code",
   "execution_count": 220,
   "metadata": {},
   "outputs": [],
   "source": [
    "#barsread = barsread[-20000:]"
   ]
  },
  {
   "cell_type": "markdown",
   "metadata": {},
   "source": [
    "He used 80 training samples (or signals)  \n",
    "Window of 180 and batchn of 180  \n",
    "\n",
    "Considering the 16/21 window\n",
    "I think 8 signals are enough for training as long as we have 3 classes. \n",
    "Trying to recall the times I traded using Bollinger Bands. \n",
    "But should check time between signals.\n",
    "\n",
    "- The fact that you are training with few data may create fit over patterns that are not justified. You are overfitting too locally\n"
   ]
  },
  {
   "cell_type": "code",
   "execution_count": 221,
   "metadata": {},
   "outputs": [],
   "source": [
    "nbands=6\n",
    "window=16\n",
    "batchn=8 # previous samples of signals to store \n",
    "twindow=16"
   ]
  },
  {
   "cell_type": "code",
   "execution_count": 222,
   "metadata": {},
   "outputs": [],
   "source": [
    "### 180 batch size, window 180 "
   ]
  },
  {
   "cell_type": "code",
   "execution_count": 223,
   "metadata": {},
   "outputs": [],
   "source": [
    "bars = bbands3.barsRawSignals(barsread, window, nbands)\n",
    "bars = bbands2.dayFeatures(bars)"
   ]
  },
  {
   "cell_type": "code",
   "execution_count": 37,
   "metadata": {},
   "outputs": [
    {
     "data": {
      "text/html": [
       "<div>\n",
       "<style scoped>\n",
       "    .dataframe tbody tr th:only-of-type {\n",
       "        vertical-align: middle;\n",
       "    }\n",
       "\n",
       "    .dataframe tbody tr th {\n",
       "        vertical-align: top;\n",
       "    }\n",
       "\n",
       "    .dataframe thead th {\n",
       "        text-align: right;\n",
       "    }\n",
       "</style>\n",
       "<table border=\"1\" class=\"dataframe\">\n",
       "  <thead>\n",
       "    <tr style=\"text-align: right;\">\n",
       "      <th></th>\n",
       "      <th>O</th>\n",
       "      <th>H</th>\n",
       "      <th>L</th>\n",
       "      <th>C</th>\n",
       "      <th>TV</th>\n",
       "      <th>S</th>\n",
       "      <th>RV</th>\n",
       "      <th>OHLC</th>\n",
       "      <th>bandlw0</th>\n",
       "      <th>bandup0</th>\n",
       "      <th>...</th>\n",
       "      <th>bandup3</th>\n",
       "      <th>bandsg3</th>\n",
       "      <th>bandlw4</th>\n",
       "      <th>bandup4</th>\n",
       "      <th>bandsg4</th>\n",
       "      <th>bandlw5</th>\n",
       "      <th>bandup5</th>\n",
       "      <th>bandsg5</th>\n",
       "      <th>date</th>\n",
       "      <th>dated</th>\n",
       "    </tr>\n",
       "    <tr>\n",
       "      <th>time</th>\n",
       "      <th></th>\n",
       "      <th></th>\n",
       "      <th></th>\n",
       "      <th></th>\n",
       "      <th></th>\n",
       "      <th></th>\n",
       "      <th></th>\n",
       "      <th></th>\n",
       "      <th></th>\n",
       "      <th></th>\n",
       "      <th></th>\n",
       "      <th></th>\n",
       "      <th></th>\n",
       "      <th></th>\n",
       "      <th></th>\n",
       "      <th></th>\n",
       "      <th></th>\n",
       "      <th></th>\n",
       "      <th></th>\n",
       "      <th></th>\n",
       "      <th></th>\n",
       "    </tr>\n",
       "  </thead>\n",
       "  <tbody>\n",
       "    <tr>\n",
       "      <th>2014-01-02 10:57:00</th>\n",
       "      <td>79100.0</td>\n",
       "      <td>79154.0</td>\n",
       "      <td>79100.0</td>\n",
       "      <td>79146.0</td>\n",
       "      <td>950</td>\n",
       "      <td>1</td>\n",
       "      <td>246</td>\n",
       "      <td>79125.00</td>\n",
       "      <td>79012.986156</td>\n",
       "      <td>79434.201344</td>\n",
       "      <td>...</td>\n",
       "      <td>79672.238142</td>\n",
       "      <td>0</td>\n",
       "      <td>79166.051129</td>\n",
       "      <td>79728.548871</td>\n",
       "      <td>0</td>\n",
       "      <td>79070.943499</td>\n",
       "      <td>79987.681501</td>\n",
       "      <td>0</td>\n",
       "      <td>16072</td>\n",
       "      <td>1</td>\n",
       "    </tr>\n",
       "    <tr>\n",
       "      <th>2014-01-02 10:58:00</th>\n",
       "      <td>79146.0</td>\n",
       "      <td>79193.0</td>\n",
       "      <td>79131.0</td>\n",
       "      <td>79193.0</td>\n",
       "      <td>1000</td>\n",
       "      <td>1</td>\n",
       "      <td>249</td>\n",
       "      <td>79165.75</td>\n",
       "      <td>79014.161928</td>\n",
       "      <td>79384.275572</td>\n",
       "      <td>...</td>\n",
       "      <td>79670.162239</td>\n",
       "      <td>1</td>\n",
       "      <td>79156.074571</td>\n",
       "      <td>79708.825429</td>\n",
       "      <td>1</td>\n",
       "      <td>79069.866816</td>\n",
       "      <td>79950.424850</td>\n",
       "      <td>0</td>\n",
       "      <td>16072</td>\n",
       "      <td>1</td>\n",
       "    </tr>\n",
       "  </tbody>\n",
       "</table>\n",
       "<p>2 rows × 28 columns</p>\n",
       "</div>"
      ],
      "text/plain": [
       "                           O        H        L        C    TV  S   RV  \\\n",
       "time                                                                    \n",
       "2014-01-02 10:57:00  79100.0  79154.0  79100.0  79146.0   950  1  246   \n",
       "2014-01-02 10:58:00  79146.0  79193.0  79131.0  79193.0  1000  1  249   \n",
       "\n",
       "                         OHLC       bandlw0       bandup0  ...    \\\n",
       "time                                                       ...     \n",
       "2014-01-02 10:57:00  79125.00  79012.986156  79434.201344  ...     \n",
       "2014-01-02 10:58:00  79165.75  79014.161928  79384.275572  ...     \n",
       "\n",
       "                          bandup3  bandsg3       bandlw4       bandup4  \\\n",
       "time                                                                     \n",
       "2014-01-02 10:57:00  79672.238142        0  79166.051129  79728.548871   \n",
       "2014-01-02 10:58:00  79670.162239        1  79156.074571  79708.825429   \n",
       "\n",
       "                     bandsg4       bandlw5       bandup5  bandsg5   date  \\\n",
       "time                                                                       \n",
       "2014-01-02 10:57:00        0  79070.943499  79987.681501        0  16072   \n",
       "2014-01-02 10:58:00        1  79069.866816  79950.424850        0  16072   \n",
       "\n",
       "                     dated  \n",
       "time                        \n",
       "2014-01-02 10:57:00      1  \n",
       "2014-01-02 10:58:00      1  \n",
       "\n",
       "[2 rows x 28 columns]"
      ]
     },
     "execution_count": 37,
     "metadata": {},
     "output_type": "execute_result"
    }
   ],
   "source": [
    "bars.head(2)"
   ]
  },
  {
   "cell_type": "code",
   "execution_count": 38,
   "metadata": {},
   "outputs": [
    {
     "data": {
      "text/plain": [
       "Index(['O', 'H', 'L', 'C', 'TV', 'S', 'RV', 'OHLC', 'bandlw0', 'bandup0',\n",
       "       'bandsg0', 'bandlw1', 'bandup1', 'bandsg1', 'bandlw2', 'bandup2',\n",
       "       'bandsg2', 'bandlw3', 'bandup3', 'bandsg3', 'bandlw4', 'bandup4',\n",
       "       'bandsg4', 'bandlw5', 'bandup5', 'bandsg5', 'date', 'dated'],\n",
       "      dtype='object')"
      ]
     },
     "execution_count": 38,
     "metadata": {},
     "output_type": "execute_result"
    }
   ],
   "source": [
    "bars.columns"
   ]
  },
  {
   "cell_type": "code",
   "execution_count": 39,
   "metadata": {},
   "outputs": [
    {
     "data": {
      "image/png": "[encoded data removed]",
      "text/plain": [
       "<Figure size 1080x504 with 2 Axes>"
      ]
     },
     "metadata": {
      "needs_background": "light"
     },
     "output_type": "display_data"
    }
   ],
   "source": [
    "bbands3.viewBands(bars, nbands=nbands, lastn=-160)"
   ]
  },
  {
   "cell_type": "code",
   "execution_count": 40,
   "metadata": {},
   "outputs": [],
   "source": [
    "# the truth vector is in here\n",
    "truthbars = bbands3.barsTargetFromSignals(bars, window, nbands) "
   ]
  },
  {
   "cell_type": "code",
   "execution_count": 41,
   "metadata": {},
   "outputs": [
    {
     "data": {
      "text/plain": [
       "Index(['O', 'H', 'L', 'C', 'TV', 'S', 'RV', 'OHLC', 'bandlw0', 'bandup0',\n",
       "       'bandsg0', 'bandlw1', 'bandup1', 'bandsg1', 'bandlw2', 'bandup2',\n",
       "       'bandsg2', 'bandlw3', 'bandup3', 'bandsg3', 'bandlw4', 'bandup4',\n",
       "       'bandsg4', 'bandlw5', 'bandup5', 'bandsg5', 'date', 'dated', 'y0', 'y1',\n",
       "       'y2', 'y3', 'y4', 'y5'],\n",
       "      dtype='object')"
      ]
     },
     "execution_count": 41,
     "metadata": {},
     "output_type": "execute_result"
    }
   ],
   "source": [
    "truthbars.columns"
   ]
  },
  {
   "cell_type": "code",
   "execution_count": 45,
   "metadata": {},
   "outputs": [],
   "source": [
    "nmax = len(bars)"
   ]
  },
  {
   "cell_type": "code",
   "execution_count": 46,
   "metadata": {},
   "outputs": [
    {
     "data": {
      "text/plain": [
       "509424"
      ]
     },
     "execution_count": 46,
     "metadata": {},
     "output_type": "execute_result"
    }
   ],
   "source": [
    "nmax"
   ]
  },
  {
   "cell_type": "code",
   "execution_count": 47,
   "metadata": {},
   "outputs": [],
   "source": [
    "nsamples = 40000\n",
    "datawindow = window*10 # 160 minutes okay I guess"
   ]
  },
  {
   "cell_type": "code",
   "execution_count": 48,
   "metadata": {},
   "outputs": [
    {
     "data": {
      "text/plain": [
       "160"
      ]
     },
     "execution_count": 48,
     "metadata": {},
     "output_type": "execute_result"
    }
   ],
   "source": [
    "datawindow"
   ]
  },
  {
   "cell_type": "code",
   "execution_count": 106,
   "metadata": {},
   "outputs": [],
   "source": [
    "i = np.random.randint(datawindow, nmax)"
   ]
  },
  {
   "cell_type": "code",
   "execution_count": 107,
   "metadata": {
    "scrolled": false
   },
   "outputs": [
    {
     "data": {
      "text/plain": [
       "(0.9755307720176264,\n",
       " 0.8772745944503839,\n",
       " 31,\n",
       " 1370,\n",
       " 1.0,\n",
       " Timestamp('2015-07-29 16:33:00'),\n",
       " 151352,\n",
       " 0.19,\n",
       " 0.18,\n",
       " 0.63,\n",
       " -1)"
      ]
     },
     "execution_count": 107,
     "metadata": {},
     "output_type": "execute_result"
    }
   ],
   "source": [
    "predictMinute(bars[i-datawindow:i].copy(), window, nbands, batchn, twindow, i-1)"
   ]
  },
  {
   "cell_type": "code",
   "execution_count": 74,
   "metadata": {
    "scrolled": true
   },
   "outputs": [
    {
     "name": "stderr",
     "output_type": "stream",
     "text": [
      "[Parallel(n_jobs=36)]: Using backend LokyBackend with 36 concurrent workers.\n",
      "[Parallel(n_jobs=36)]: Done  90 tasks      | elapsed:    4.9s\n",
      "[Parallel(n_jobs=36)]: Done 216 tasks      | elapsed:    6.0s\n",
      "[Parallel(n_jobs=36)]: Done 378 tasks      | elapsed:    7.2s\n",
      "[Parallel(n_jobs=36)]: Done 576 tasks      | elapsed:    8.6s\n",
      "[Parallel(n_jobs=36)]: Done 810 tasks      | elapsed:   10.4s\n",
      "[Parallel(n_jobs=36)]: Done 1080 tasks      | elapsed:   12.4s\n",
      "[Parallel(n_jobs=36)]: Done 1386 tasks      | elapsed:   14.6s\n",
      "[Parallel(n_jobs=36)]: Done 1728 tasks      | elapsed:   17.2s\n",
      "[Parallel(n_jobs=36)]: Done 2106 tasks      | elapsed:   20.1s\n",
      "[Parallel(n_jobs=36)]: Done 2520 tasks      | elapsed:   23.1s\n",
      "[Parallel(n_jobs=36)]: Done 2970 tasks      | elapsed:   26.3s\n",
      "[Parallel(n_jobs=36)]: Done 3456 tasks      | elapsed:   29.9s\n",
      "[Parallel(n_jobs=36)]: Done 3978 tasks      | elapsed:   33.8s\n",
      "[Parallel(n_jobs=36)]: Done 4536 tasks      | elapsed:   37.9s\n",
      "[Parallel(n_jobs=36)]: Done 5130 tasks      | elapsed:   42.4s\n",
      "[Parallel(n_jobs=36)]: Done 5760 tasks      | elapsed:   47.3s\n",
      "[Parallel(n_jobs=36)]: Done 6426 tasks      | elapsed:   52.2s\n",
      "[Parallel(n_jobs=36)]: Done 7128 tasks      | elapsed:   57.5s\n",
      "[Parallel(n_jobs=36)]: Done 7866 tasks      | elapsed:  1.1min\n",
      "[Parallel(n_jobs=36)]: Done 8640 tasks      | elapsed:  1.2min\n",
      "[Parallel(n_jobs=36)]: Done 9450 tasks      | elapsed:  1.3min\n",
      "[Parallel(n_jobs=36)]: Done 10296 tasks      | elapsed:  1.4min\n",
      "[Parallel(n_jobs=36)]: Done 11178 tasks      | elapsed:  1.5min\n",
      "[Parallel(n_jobs=36)]: Done 12096 tasks      | elapsed:  1.6min\n",
      "[Parallel(n_jobs=36)]: Done 13050 tasks      | elapsed:  1.7min\n",
      "[Parallel(n_jobs=36)]: Done 14040 tasks      | elapsed:  1.8min\n",
      "[Parallel(n_jobs=36)]: Done 15066 tasks      | elapsed:  2.0min\n",
      "[Parallel(n_jobs=36)]: Done 16128 tasks      | elapsed:  2.1min\n",
      "[Parallel(n_jobs=36)]: Done 17226 tasks      | elapsed:  2.2min\n",
      "[Parallel(n_jobs=36)]: Done 18360 tasks      | elapsed:  2.4min\n",
      "[Parallel(n_jobs=36)]: Done 19530 tasks      | elapsed:  2.5min\n",
      "[Parallel(n_jobs=36)]: Done 20736 tasks      | elapsed:  2.7min\n",
      "[Parallel(n_jobs=36)]: Done 21978 tasks      | elapsed:  2.8min\n",
      "[Parallel(n_jobs=36)]: Done 23256 tasks      | elapsed:  3.0min\n",
      "[Parallel(n_jobs=36)]: Done 24570 tasks      | elapsed:  3.1min\n",
      "[Parallel(n_jobs=36)]: Done 25920 tasks      | elapsed:  3.3min\n",
      "[Parallel(n_jobs=36)]: Done 27306 tasks      | elapsed:  3.5min\n",
      "[Parallel(n_jobs=36)]: Done 28728 tasks      | elapsed:  3.7min\n",
      "[Parallel(n_jobs=36)]: Done 30186 tasks      | elapsed:  3.8min\n",
      "[Parallel(n_jobs=36)]: Done 31680 tasks      | elapsed:  4.0min\n",
      "[Parallel(n_jobs=36)]: Done 33210 tasks      | elapsed:  4.2min\n",
      "[Parallel(n_jobs=36)]: Done 34776 tasks      | elapsed:  4.4min\n",
      "[Parallel(n_jobs=36)]: Done 36378 tasks      | elapsed:  4.6min\n",
      "[Parallel(n_jobs=36)]: Done 38016 tasks      | elapsed:  4.8min\n",
      "[Parallel(n_jobs=36)]: Done 39690 tasks      | elapsed:  5.0min\n"
     ]
    },
    {
     "name": "stdout",
     "output_type": "stream",
     "text": [
      "Wall time: 5min 3s\n"
     ]
    },
    {
     "name": "stderr",
     "output_type": "stream",
     "text": [
      "[Parallel(n_jobs=36)]: Done 40000 out of 40000 | elapsed:  5.1min finished\n"
     ]
    }
   ],
   "source": [
    "%%time\n",
    "import joblib\n",
    "\n",
    "if __name__ == '__main__': # using backend=\"multiprocessing\" solves the serialization problem on Linux\n",
    "    results = joblib.Parallel(n_jobs=36, verbose=5)(\n",
    "    joblib.delayed(predictMinute)(bars[i-datawindow:i].copy(), window, nbands, batchn, twindow, i-1)\n",
    "    for i in np.random.randint(datawindow, nmax, nsamples))"
   ]
  },
  {
   "cell_type": "markdown",
   "metadata": {},
   "source": [
    "#### Random Search of params \n",
    "\n",
    "What best gives precision on class 1\n",
    "\n",
    " - `tsignals` are crossing signals **ajdusted** for correct class (hold or buy or sell) number of training vectors\n",
    " - `bbwindow` size of second bb window. Others are multiples e. g. \n",
    "     [ 21, 21x0.5=10, 21x1.5=31, 21x2=42 etc ]\n",
    " - `nsamples` number of simulations to get that precision\n",
    " - `entries` number of 1 class per minute in %\n",
    " - `mtprec` metatrader 5 precision using predictions with this configuration\n",
    " - `support` number of samples classified as 1 for that clip-probabilities cut-off\n",
    "\n",
    "\n",
    " | batchn | nbands | bbwindow | tsignals |   g.prec.  | clip-pb.  |  nsamples  |  entries  |  mtprec |  symbol  | support |\n",
    " | ------ | ------ | -------- | -------  | ---------- | --------- | ---------- | --------- | ------- | -------- | ------- | \n",
    " |   8    |    6   |    16    |    16    |     24%    |     -     |  40k-all   |     -     |    -    |  PETR4   |   103   |\n",
    " |   8    |    6   |    16    |    16    |     25%    |   tree    |  40k-all   |     -     |    -    |  PETR4   |    95   |\n",
    " |   8    |    6   |    16    |    16    |     25%    |   tree    |   40k-all  |     -     |    -    |   WIN@   |   141   |\n",
    " |   8    |    6   |    16    |    16    |     36%    |   .53     |   10k-all  |     -     |    -    |   WIN@   |         |\n",
    " |   8    |    6   |    16    |     8    |     37%    |   .52     |   10k-all  |     -     |    -    |   WIN@   |    3    |\n",
    " |   8    |    6   |    16    |     8    |    25%     |     -     |  80k-all   |    -      |    -    |  ITUB4   |    -    | \n",
    " |   8    |    6   |    16    |     8    |    23%     |     -     |  30k-all   |    -      |    -    |  ITUB4   |    -    | \n",
    " |   8    |    6   |    16    |     8    |    26%     |     -     |    all     |    -      |    -    |  ITUB4   |  5244   |\n",
    " |   8    |    6   |    16    |     8    |    49%     |   tree    |    all     |   0.03%   |    -    |  ITUB4   |   181   |\n",
    " \n",
    " - cannot test with few less samples than 30k. Even that might give an uncertainty of ~3%\n",
    " - cannot evaluate with few samples as support\n",
    " \n",
    " - global precision average means almost nothing since it certainly is diluted with all wrong predictions. \n",
    " - cross validation is a must! long delayed!!"
   ]
  },
  {
   "cell_type": "code",
   "execution_count": 44,
   "metadata": {},
   "outputs": [],
   "source": [
    "i = np.random.randint(datawindow, nmax)"
   ]
  },
  {
   "cell_type": "code",
   "execution_count": 26,
   "metadata": {},
   "outputs": [
    {
     "name": "stdout",
     "output_type": "stream",
     "text": [
      " "
     ]
    }
   ],
   "source": [
    "%prun predictMinute(bars[i-datawindow:i].copy(), window, nbands, batchn, twindow, i-1)"
   ]
  },
  {
   "cell_type": "code",
   "execution_count": 27,
   "metadata": {},
   "outputs": [
    {
     "name": "stdout",
     "output_type": "stream",
     "text": [
      "1.56 ms ± 151 µs per loop (mean ± std. dev. of 7 runs, 1000 loops each)\n"
     ]
    }
   ],
   "source": [
    "%%timeit\n",
    "predictMinute(bars[i-datawindow:i].copy(), window, nbands, batchn, twindow, i-1)"
   ]
  },
  {
   "cell_type": "code",
   "execution_count": null,
   "metadata": {
    "scrolled": true
   },
   "outputs": [],
   "source": [
    "%%time\n",
    "results = []\n",
    "for i in progressbar(np.random.randint(datawindow, nmax, nsamples)):\n",
    "    results.append(predictMinute(bars[i-datawindow:i].copy(), window, nbands, batchn, twindow, i-1))"
   ]
  },
  {
   "cell_type": "markdown",
   "metadata": {},
   "source": [
    "#### Once features are created by  `barsFeatured` no row is deleted. \n",
    "Then we can get the ytrue for any prediction if you know the index.  \n",
    "Each band y class that had a signal will have a classification for this signal.  "
   ]
  },
  {
   "cell_type": "code",
   "execution_count": 86,
   "metadata": {},
   "outputs": [],
   "source": [
    "# cd data/"
   ]
  },
  {
   "cell_type": "code",
   "execution_count": 677,
   "metadata": {},
   "outputs": [],
   "source": [
    "##predics = pd.read_pickle('all_predictions_p80_70estimators_maxfeatures_300.pickle')"
   ]
  },
  {
   "cell_type": "code",
   "execution_count": 108,
   "metadata": {},
   "outputs": [],
   "source": [
    "predics = pd.DataFrame(results, columns=['entrty', 'entrfeat', 'nfeat_1pc','decisionn','mscore', \n",
    "                                         'time', 'itime', 'y0', 'y1', 'y2', 'signal'])\n",
    "predics.set_index('time', drop=True, inplace=True)\n",
    "predics.dropna(inplace=True)"
   ]
  },
  {
   "cell_type": "code",
   "execution_count": 109,
   "metadata": {},
   "outputs": [
    {
     "data": {
      "text/html": [
       "<div>\n",
       "<style scoped>\n",
       "    .dataframe tbody tr th:only-of-type {\n",
       "        vertical-align: middle;\n",
       "    }\n",
       "\n",
       "    .dataframe tbody tr th {\n",
       "        vertical-align: top;\n",
       "    }\n",
       "\n",
       "    .dataframe thead th {\n",
       "        text-align: right;\n",
       "    }\n",
       "</style>\n",
       "<table border=\"1\" class=\"dataframe\">\n",
       "  <thead>\n",
       "    <tr style=\"text-align: right;\">\n",
       "      <th></th>\n",
       "      <th>entrty</th>\n",
       "      <th>entrfeat</th>\n",
       "      <th>nfeat_1pc</th>\n",
       "      <th>decisionn</th>\n",
       "      <th>mscore</th>\n",
       "      <th>itime</th>\n",
       "      <th>y0</th>\n",
       "      <th>y1</th>\n",
       "      <th>y2</th>\n",
       "      <th>signal</th>\n",
       "    </tr>\n",
       "    <tr>\n",
       "      <th>time</th>\n",
       "      <th></th>\n",
       "      <th></th>\n",
       "      <th></th>\n",
       "      <th></th>\n",
       "      <th></th>\n",
       "      <th></th>\n",
       "      <th></th>\n",
       "      <th></th>\n",
       "      <th></th>\n",
       "      <th></th>\n",
       "    </tr>\n",
       "  </thead>\n",
       "  <tbody>\n",
       "    <tr>\n",
       "      <th>2018-03-23 10:26:00</th>\n",
       "      <td>0.669592</td>\n",
       "      <td>0.976544</td>\n",
       "      <td>35.0</td>\n",
       "      <td>1030.0</td>\n",
       "      <td>1.000000</td>\n",
       "      <td>425185</td>\n",
       "      <td>0.03</td>\n",
       "      <td>0.10</td>\n",
       "      <td>0.87</td>\n",
       "      <td>1</td>\n",
       "    </tr>\n",
       "    <tr>\n",
       "      <th>2017-06-19 11:58:00</th>\n",
       "      <td>0.946395</td>\n",
       "      <td>0.613408</td>\n",
       "      <td>23.0</td>\n",
       "      <td>750.0</td>\n",
       "      <td>1.000000</td>\n",
       "      <td>344306</td>\n",
       "      <td>0.00</td>\n",
       "      <td>0.08</td>\n",
       "      <td>0.92</td>\n",
       "      <td>0</td>\n",
       "    </tr>\n",
       "    <tr>\n",
       "      <th>2018-06-15 15:04:00</th>\n",
       "      <td>0.975531</td>\n",
       "      <td>0.821312</td>\n",
       "      <td>29.0</td>\n",
       "      <td>1542.0</td>\n",
       "      <td>0.750000</td>\n",
       "      <td>448408</td>\n",
       "      <td>0.05</td>\n",
       "      <td>0.17</td>\n",
       "      <td>0.78</td>\n",
       "      <td>0</td>\n",
       "    </tr>\n",
       "    <tr>\n",
       "      <th>2017-10-11 14:15:00</th>\n",
       "      <td>0.932020</td>\n",
       "      <td>0.821312</td>\n",
       "      <td>29.0</td>\n",
       "      <td>1264.0</td>\n",
       "      <td>1.000000</td>\n",
       "      <td>376856</td>\n",
       "      <td>0.03</td>\n",
       "      <td>0.12</td>\n",
       "      <td>0.85</td>\n",
       "      <td>0</td>\n",
       "    </tr>\n",
       "    <tr>\n",
       "      <th>2018-02-20 10:18:00</th>\n",
       "      <td>0.975531</td>\n",
       "      <td>0.849305</td>\n",
       "      <td>30.0</td>\n",
       "      <td>1100.0</td>\n",
       "      <td>0.863636</td>\n",
       "      <td>415045</td>\n",
       "      <td>0.43</td>\n",
       "      <td>0.35</td>\n",
       "      <td>0.22</td>\n",
       "      <td>3</td>\n",
       "    </tr>\n",
       "  </tbody>\n",
       "</table>\n",
       "</div>"
      ],
      "text/plain": [
       "                       entrty  entrfeat  nfeat_1pc  decisionn    mscore  \\\n",
       "time                                                                      \n",
       "2018-03-23 10:26:00  0.669592  0.976544       35.0     1030.0  1.000000   \n",
       "2017-06-19 11:58:00  0.946395  0.613408       23.0      750.0  1.000000   \n",
       "2018-06-15 15:04:00  0.975531  0.821312       29.0     1542.0  0.750000   \n",
       "2017-10-11 14:15:00  0.932020  0.821312       29.0     1264.0  1.000000   \n",
       "2018-02-20 10:18:00  0.975531  0.849305       30.0     1100.0  0.863636   \n",
       "\n",
       "                      itime    y0    y1    y2  signal  \n",
       "time                                                   \n",
       "2018-03-23 10:26:00  425185  0.03  0.10  0.87       1  \n",
       "2017-06-19 11:58:00  344306  0.00  0.08  0.92       0  \n",
       "2018-06-15 15:04:00  448408  0.05  0.17  0.78       0  \n",
       "2017-10-11 14:15:00  376856  0.03  0.12  0.85       0  \n",
       "2018-02-20 10:18:00  415045  0.43  0.35  0.22       3  "
      ]
     },
     "execution_count": 109,
     "metadata": {},
     "output_type": "execute_result"
    }
   ],
   "source": [
    "predics.head()"
   ]
  },
  {
   "cell_type": "code",
   "execution_count": 110,
   "metadata": {},
   "outputs": [],
   "source": [
    "#predics = predics[:4000]"
   ]
  },
  {
   "cell_type": "code",
   "execution_count": 113,
   "metadata": {},
   "outputs": [],
   "source": [
    "ypred = sumyProb(predics[['y0', 'y1', 'y2']].values)\n",
    "yprob = np.max(predics[['y0', 'y1', 'y2']].values, axis=-1)"
   ]
  },
  {
   "cell_type": "code",
   "execution_count": 114,
   "metadata": {},
   "outputs": [],
   "source": [
    "predics['yprob'] = yprob\n",
    "predics['ypred'] = ypred"
   ]
  },
  {
   "cell_type": "code",
   "execution_count": 115,
   "metadata": {},
   "outputs": [],
   "source": [
    "#plt.hist(predics.score);"
   ]
  },
  {
   "cell_type": "code",
   "execution_count": 116,
   "metadata": {},
   "outputs": [],
   "source": [
    "#predics = predics[predics.score > 0.02]"
   ]
  },
  {
   "cell_type": "code",
   "execution_count": 117,
   "metadata": {},
   "outputs": [
    {
     "data": {
      "text/html": [
       "<div>\n",
       "<style scoped>\n",
       "    .dataframe tbody tr th:only-of-type {\n",
       "        vertical-align: middle;\n",
       "    }\n",
       "\n",
       "    .dataframe tbody tr th {\n",
       "        vertical-align: top;\n",
       "    }\n",
       "\n",
       "    .dataframe thead th {\n",
       "        text-align: right;\n",
       "    }\n",
       "</style>\n",
       "<table border=\"1\" class=\"dataframe\">\n",
       "  <thead>\n",
       "    <tr style=\"text-align: right;\">\n",
       "      <th></th>\n",
       "      <th>entrty</th>\n",
       "      <th>entrfeat</th>\n",
       "      <th>nfeat_1pc</th>\n",
       "      <th>decisionn</th>\n",
       "      <th>mscore</th>\n",
       "      <th>itime</th>\n",
       "      <th>y0</th>\n",
       "      <th>y1</th>\n",
       "      <th>y2</th>\n",
       "      <th>signal</th>\n",
       "      <th>yprob</th>\n",
       "      <th>ypred</th>\n",
       "    </tr>\n",
       "    <tr>\n",
       "      <th>time</th>\n",
       "      <th></th>\n",
       "      <th></th>\n",
       "      <th></th>\n",
       "      <th></th>\n",
       "      <th></th>\n",
       "      <th></th>\n",
       "      <th></th>\n",
       "      <th></th>\n",
       "      <th></th>\n",
       "      <th></th>\n",
       "      <th></th>\n",
       "      <th></th>\n",
       "    </tr>\n",
       "  </thead>\n",
       "  <tbody>\n",
       "    <tr>\n",
       "      <th>2018-03-23 10:26:00</th>\n",
       "      <td>0.669592</td>\n",
       "      <td>0.976544</td>\n",
       "      <td>35.0</td>\n",
       "      <td>1030.0</td>\n",
       "      <td>1.000000</td>\n",
       "      <td>425185</td>\n",
       "      <td>0.03</td>\n",
       "      <td>0.10</td>\n",
       "      <td>0.87</td>\n",
       "      <td>1</td>\n",
       "      <td>0.87</td>\n",
       "      <td>-1</td>\n",
       "    </tr>\n",
       "    <tr>\n",
       "      <th>2017-06-19 11:58:00</th>\n",
       "      <td>0.946395</td>\n",
       "      <td>0.613408</td>\n",
       "      <td>23.0</td>\n",
       "      <td>750.0</td>\n",
       "      <td>1.000000</td>\n",
       "      <td>344306</td>\n",
       "      <td>0.00</td>\n",
       "      <td>0.08</td>\n",
       "      <td>0.92</td>\n",
       "      <td>0</td>\n",
       "      <td>0.92</td>\n",
       "      <td>-1</td>\n",
       "    </tr>\n",
       "    <tr>\n",
       "      <th>2018-06-15 15:04:00</th>\n",
       "      <td>0.975531</td>\n",
       "      <td>0.821312</td>\n",
       "      <td>29.0</td>\n",
       "      <td>1542.0</td>\n",
       "      <td>0.750000</td>\n",
       "      <td>448408</td>\n",
       "      <td>0.05</td>\n",
       "      <td>0.17</td>\n",
       "      <td>0.78</td>\n",
       "      <td>0</td>\n",
       "      <td>0.78</td>\n",
       "      <td>-1</td>\n",
       "    </tr>\n",
       "    <tr>\n",
       "      <th>2017-10-11 14:15:00</th>\n",
       "      <td>0.932020</td>\n",
       "      <td>0.821312</td>\n",
       "      <td>29.0</td>\n",
       "      <td>1264.0</td>\n",
       "      <td>1.000000</td>\n",
       "      <td>376856</td>\n",
       "      <td>0.03</td>\n",
       "      <td>0.12</td>\n",
       "      <td>0.85</td>\n",
       "      <td>0</td>\n",
       "      <td>0.85</td>\n",
       "      <td>-1</td>\n",
       "    </tr>\n",
       "    <tr>\n",
       "      <th>2018-02-20 10:18:00</th>\n",
       "      <td>0.975531</td>\n",
       "      <td>0.849305</td>\n",
       "      <td>30.0</td>\n",
       "      <td>1100.0</td>\n",
       "      <td>0.863636</td>\n",
       "      <td>415045</td>\n",
       "      <td>0.43</td>\n",
       "      <td>0.35</td>\n",
       "      <td>0.22</td>\n",
       "      <td>3</td>\n",
       "      <td>0.43</td>\n",
       "      <td>0</td>\n",
       "    </tr>\n",
       "  </tbody>\n",
       "</table>\n",
       "</div>"
      ],
      "text/plain": [
       "                       entrty  entrfeat  nfeat_1pc  decisionn    mscore  \\\n",
       "time                                                                      \n",
       "2018-03-23 10:26:00  0.669592  0.976544       35.0     1030.0  1.000000   \n",
       "2017-06-19 11:58:00  0.946395  0.613408       23.0      750.0  1.000000   \n",
       "2018-06-15 15:04:00  0.975531  0.821312       29.0     1542.0  0.750000   \n",
       "2017-10-11 14:15:00  0.932020  0.821312       29.0     1264.0  1.000000   \n",
       "2018-02-20 10:18:00  0.975531  0.849305       30.0     1100.0  0.863636   \n",
       "\n",
       "                      itime    y0    y1    y2  signal  yprob  ypred  \n",
       "time                                                                 \n",
       "2018-03-23 10:26:00  425185  0.03  0.10  0.87       1   0.87     -1  \n",
       "2017-06-19 11:58:00  344306  0.00  0.08  0.92       0   0.92     -1  \n",
       "2018-06-15 15:04:00  448408  0.05  0.17  0.78       0   0.78     -1  \n",
       "2017-10-11 14:15:00  376856  0.03  0.12  0.85       0   0.85     -1  \n",
       "2018-02-20 10:18:00  415045  0.43  0.35  0.22       3   0.43      0  "
      ]
     },
     "execution_count": 117,
     "metadata": {},
     "output_type": "execute_result"
    }
   ],
   "source": [
    "predics.head()"
   ]
  },
  {
   "cell_type": "code",
   "execution_count": 118,
   "metadata": {},
   "outputs": [
    {
     "data": {
      "text/plain": [
       "40000"
      ]
     },
     "execution_count": 118,
     "metadata": {},
     "output_type": "execute_result"
    }
   ],
   "source": [
    "len(results)"
   ]
  },
  {
   "cell_type": "code",
   "execution_count": 119,
   "metadata": {},
   "outputs": [
    {
     "data": {
      "text/plain": [
       "6661"
      ]
     },
     "execution_count": 119,
     "metadata": {},
     "output_type": "execute_result"
    }
   ],
   "source": [
    "len(predics.dropna())"
   ]
  },
  {
   "cell_type": "code",
   "execution_count": 120,
   "metadata": {},
   "outputs": [],
   "source": [
    "ypred = predics.ypred.copy()"
   ]
  },
  {
   "cell_type": "code",
   "execution_count": 121,
   "metadata": {},
   "outputs": [],
   "source": [
    "percentries = len(ypred[ypred > 0])/(len(predics))"
   ]
  },
  {
   "cell_type": "code",
   "execution_count": 122,
   "metadata": {},
   "outputs": [
    {
     "data": {
      "text/plain": [
       "0.08557273682630236"
      ]
     },
     "execution_count": 122,
     "metadata": {},
     "output_type": "execute_result"
    }
   ],
   "source": [
    "# per day entries\n",
    "percentries"
   ]
  },
  {
   "cell_type": "code",
   "execution_count": 123,
   "metadata": {},
   "outputs": [
    {
     "data": {
      "text/plain": [
       "35.94054946704699"
      ]
     },
     "execution_count": 123,
     "metadata": {},
     "output_type": "execute_result"
    }
   ],
   "source": [
    "percentries*60*7"
   ]
  },
  {
   "cell_type": "code",
   "execution_count": 124,
   "metadata": {},
   "outputs": [
    {
     "data": {
      "text/plain": [
       "<matplotlib.axes._subplots.AxesSubplot at 0x26281955160>"
      ]
     },
     "execution_count": 124,
     "metadata": {},
     "output_type": "execute_result"
    },
    {
     "data": {
      "image/png": "[encoded data removed]",
      "text/plain": [
       "<Figure size 432x288 with 1 Axes>"
      ]
     },
     "metadata": {
      "needs_background": "light"
     },
     "output_type": "display_data"
    }
   ],
   "source": [
    "ypred.hist()"
   ]
  },
  {
   "cell_type": "code",
   "execution_count": 196,
   "metadata": {},
   "outputs": [],
   "source": [
    "predics_clip = predics.copy()"
   ]
  },
  {
   "cell_type": "code",
   "execution_count": 182,
   "metadata": {},
   "outputs": [],
   "source": [
    "predics_clip = predics.query(\"yprob > 0.5 and entrty > 0.8 and entrty < 0.95\") # yprob > 0.51 and"
   ]
  },
  {
   "cell_type": "code",
   "execution_count": 197,
   "metadata": {
    "scrolled": true
   },
   "outputs": [
    {
     "data": {
      "text/plain": [
       "<Figure size 432x288 with 0 Axes>"
      ]
     },
     "metadata": {},
     "output_type": "display_data"
    },
    {
     "data": {
      "image/png": "[encoded data removed]",
      "text/plain": [
       "<Figure size 720x720 with 12 Axes>"
      ]
     },
     "metadata": {
      "needs_background": "light"
     },
     "output_type": "display_data"
    }
   ],
   "source": [
    "plt.figure()\n",
    "predics_clip.hist(figsize=(10,10));"
   ]
  },
  {
   "cell_type": "code",
   "execution_count": 198,
   "metadata": {},
   "outputs": [],
   "source": [
    "predics_clip = predics_clip[ predics_clip.ypred > 0 ]"
   ]
  },
  {
   "cell_type": "code",
   "execution_count": 199,
   "metadata": {},
   "outputs": [
    {
     "data": {
      "text/plain": [
       "array([0, 1, 2, 3, 4, 5], dtype=int64)"
      ]
     },
     "execution_count": 199,
     "metadata": {},
     "output_type": "execute_result"
    }
   ],
   "source": [
    "np.unique(predics_clip.signal)"
   ]
  },
  {
   "cell_type": "code",
   "execution_count": 200,
   "metadata": {},
   "outputs": [],
   "source": [
    "#predics_clip = predics_clip.query(\"entrty > 0.75 and entrty < 0.9\") # yprob > 0.51 and"
   ]
  },
  {
   "cell_type": "code",
   "execution_count": 201,
   "metadata": {},
   "outputs": [],
   "source": [
    "iys = ['y'+str(i) for i in range(nbands)]\n",
    "# the truth vector is in here\n",
    "ys = sumdPred(truthbars[iys])\n",
    "ys = ys.iloc[predics_clip.itime] # summarized prediction"
   ]
  },
  {
   "cell_type": "code",
   "execution_count": 202,
   "metadata": {},
   "outputs": [
    {
     "data": {
      "text/plain": [
       "array([1], dtype=int64)"
      ]
     },
     "execution_count": 202,
     "metadata": {},
     "output_type": "execute_result"
    }
   ],
   "source": [
    "predics_clip.ypred.unique()"
   ]
  },
  {
   "cell_type": "code",
   "execution_count": 203,
   "metadata": {},
   "outputs": [
    {
     "data": {
      "text/plain": [
       "(array([1., 0.]), 570)"
      ]
     },
     "execution_count": 203,
     "metadata": {},
     "output_type": "execute_result"
    }
   ],
   "source": [
    "ys.unique(), len(ys)"
   ]
  },
  {
   "cell_type": "code",
   "execution_count": 204,
   "metadata": {
    "scrolled": true
   },
   "outputs": [
    {
     "name": "stdout",
     "output_type": "stream",
     "text": [
      "              precision    recall  f1-score   support\n",
      "\n",
      "         0.0       0.00      0.00      0.00       429\n",
      "         1.0       0.25      1.00      0.40       141\n",
      "\n",
      "   micro avg       0.25      0.25      0.25       570\n",
      "   macro avg       0.12      0.50      0.20       570\n",
      "weighted avg       0.06      0.25      0.10       570\n",
      "\n"
     ]
    },
    {
     "name": "stderr",
     "output_type": "stream",
     "text": [
      "C:\\Users\\alferreira\\AppData\\Local\\Continuum\\anaconda3\\lib\\site-packages\\sklearn\\metrics\\classification.py:1143: UndefinedMetricWarning: Precision and F-score are ill-defined and being set to 0.0 in labels with no predicted samples.\n",
      "  'precision', 'predicted', average, warn_for)\n",
      "C:\\Users\\alferreira\\AppData\\Local\\Continuum\\anaconda3\\lib\\site-packages\\sklearn\\metrics\\classification.py:1143: UndefinedMetricWarning: Precision and F-score are ill-defined and being set to 0.0 in labels with no predicted samples.\n",
      "  'precision', 'predicted', average, warn_for)\n",
      "C:\\Users\\alferreira\\AppData\\Local\\Continuum\\anaconda3\\lib\\site-packages\\sklearn\\metrics\\classification.py:1143: UndefinedMetricWarning: Precision and F-score are ill-defined and being set to 0.0 in labels with no predicted samples.\n",
      "  'precision', 'predicted', average, warn_for)\n"
     ]
    }
   ],
   "source": [
    "print(metrics.classification_report(ys, predics_clip.ypred))"
   ]
  },
  {
   "cell_type": "code",
   "execution_count": 205,
   "metadata": {},
   "outputs": [
    {
     "data": {
      "text/plain": [
       "570"
      ]
     },
     "execution_count": 205,
     "metadata": {},
     "output_type": "execute_result"
    }
   ],
   "source": [
    "len(predics_clip[ predics_clip.ypred > 0 ] )"
   ]
  },
  {
   "cell_type": "code",
   "execution_count": 206,
   "metadata": {
    "scrolled": true
   },
   "outputs": [
    {
     "data": {
      "text/plain": [
       "1.425"
      ]
     },
     "execution_count": 206,
     "metadata": {},
     "output_type": "execute_result"
    }
   ],
   "source": [
    "100*len(predics_clip[ predics_clip.ypred > 0 ] )/nsamples"
   ]
  },
  {
   "cell_type": "markdown",
   "metadata": {},
   "source": [
    "Turning in One vs All "
   ]
  },
  {
   "cell_type": "code",
   "execution_count": 207,
   "metadata": {},
   "outputs": [],
   "source": [
    "ys[ ys == -1 ] = 0"
   ]
  },
  {
   "cell_type": "markdown",
   "metadata": {},
   "source": [
    "Fitting over predictions said where 1"
   ]
  },
  {
   "cell_type": "code",
   "execution_count": 208,
   "metadata": {},
   "outputs": [
    {
     "data": {
      "text/plain": [
       "(570, 570)"
      ]
     },
     "execution_count": 208,
     "metadata": {},
     "output_type": "execute_result"
    }
   ],
   "source": [
    "len(ys), len(predics_clip)"
   ]
  },
  {
   "cell_type": "code",
   "execution_count": 209,
   "metadata": {},
   "outputs": [],
   "source": [
    "trees = ExtraTreesClassifier(n_estimators=10)"
   ]
  },
  {
   "cell_type": "code",
   "execution_count": 210,
   "metadata": {
    "scrolled": true
   },
   "outputs": [
    {
     "data": {
      "text/plain": [
       "ExtraTreesClassifier(bootstrap=False, class_weight=None, criterion='gini',\n",
       "           max_depth=None, max_features='auto', max_leaf_nodes=None,\n",
       "           min_impurity_decrease=0.0, min_impurity_split=None,\n",
       "           min_samples_leaf=1, min_samples_split=2,\n",
       "           min_weight_fraction_leaf=0.0, n_estimators=10, n_jobs=None,\n",
       "           oob_score=False, random_state=None, verbose=0, warm_start=False)"
      ]
     },
     "execution_count": 210,
     "metadata": {},
     "output_type": "execute_result"
    }
   ],
   "source": [
    "trees.fit(predics_clip.iloc[:150, :-1], ys[:150])"
   ]
  },
  {
   "cell_type": "code",
   "execution_count": 211,
   "metadata": {},
   "outputs": [
    {
     "data": {
      "text/plain": [
       "Index(['entrty', 'entrfeat', 'nfeat_1pc', 'decisionn', 'mscore', 'itime', 'y0',\n",
       "       'y1', 'y2', 'signal', 'yprob', 'ypred'],\n",
       "      dtype='object')"
      ]
     },
     "execution_count": 211,
     "metadata": {},
     "output_type": "execute_result"
    }
   ],
   "source": [
    "predics.columns"
   ]
  },
  {
   "cell_type": "code",
   "execution_count": 212,
   "metadata": {
    "scrolled": true
   },
   "outputs": [
    {
     "data": {
      "text/plain": [
       "array([0.09513321, 0.08037071, 0.07978324, 0.09666922, 0.06306039,\n",
       "       0.08486962, 0.10918631, 0.07792241, 0.12263595, 0.08524419,\n",
       "       0.10512475])"
      ]
     },
     "execution_count": 212,
     "metadata": {},
     "output_type": "execute_result"
    }
   ],
   "source": [
    "trees.feature_importances_"
   ]
  },
  {
   "cell_type": "code",
   "execution_count": 213,
   "metadata": {},
   "outputs": [
    {
     "data": {
      "text/plain": [
       "0.6857142857142857"
      ]
     },
     "execution_count": 213,
     "metadata": {},
     "output_type": "execute_result"
    }
   ],
   "source": [
    "trees.score(predics_clip.iloc[150:, :-1], ys[150:])"
   ]
  },
  {
   "cell_type": "code",
   "execution_count": 214,
   "metadata": {},
   "outputs": [],
   "source": [
    "ypred = trees.predict(predics_clip.iloc[150:, :-1])"
   ]
  },
  {
   "cell_type": "code",
   "execution_count": 215,
   "metadata": {},
   "outputs": [],
   "source": [
    "ys = ys[150:]"
   ]
  },
  {
   "cell_type": "code",
   "execution_count": 216,
   "metadata": {},
   "outputs": [
    {
     "data": {
      "image/png": "[encoded data removed]",
      "text/plain": [
       "<Figure size 432x288 with 1 Axes>"
      ]
     },
     "metadata": {
      "needs_background": "light"
     },
     "output_type": "display_data"
    }
   ],
   "source": [
    "plt.hist(ys);"
   ]
  },
  {
   "cell_type": "code",
   "execution_count": 217,
   "metadata": {},
   "outputs": [
    {
     "data": {
      "text/plain": [
       "(420, 420)"
      ]
     },
     "execution_count": 217,
     "metadata": {},
     "output_type": "execute_result"
    }
   ],
   "source": [
    "len(ys), len(ypred)"
   ]
  },
  {
   "cell_type": "code",
   "execution_count": 218,
   "metadata": {
    "scrolled": true
   },
   "outputs": [
    {
     "name": "stdout",
     "output_type": "stream",
     "text": [
      "              precision    recall  f1-score   support\n",
      "\n",
      "         0.0       0.75      0.88      0.81       318\n",
      "         1.0       0.16      0.07      0.10       102\n",
      "\n",
      "   micro avg       0.69      0.69      0.69       420\n",
      "   macro avg       0.45      0.48      0.45       420\n",
      "weighted avg       0.60      0.69      0.64       420\n",
      "\n"
     ]
    }
   ],
   "source": [
    "print(metrics.classification_report(ys, ypred))"
   ]
  },
  {
   "cell_type": "code",
   "execution_count": 160,
   "metadata": {},
   "outputs": [
    {
     "data": {
      "text/plain": [
       "22"
      ]
     },
     "execution_count": 160,
     "metadata": {},
     "output_type": "execute_result"
    }
   ],
   "source": [
    "len(ypred[ypred > 0])"
   ]
  },
  {
   "cell_type": "code",
   "execution_count": 161,
   "metadata": {},
   "outputs": [
    {
     "data": {
      "text/plain": [
       "0.004321453265447231"
      ]
     },
     "execution_count": 161,
     "metadata": {},
     "output_type": "execute_result"
    }
   ],
   "source": [
    "100*len(ypred[ypred > 0])/nmax"
   ]
  },
  {
   "cell_type": "code",
   "execution_count": 167,
   "metadata": {},
   "outputs": [],
   "source": [
    "dresults = predics_clip.copy()\n",
    "dresults['ytrue'] = np.nan"
   ]
  },
  {
   "cell_type": "code",
   "execution_count": 168,
   "metadata": {},
   "outputs": [
    {
     "data": {
      "text/plain": [
       "(271, 421)"
      ]
     },
     "execution_count": 168,
     "metadata": {},
     "output_type": "execute_result"
    }
   ],
   "source": [
    "len(ys), len(dresults)"
   ]
  },
  {
   "cell_type": "markdown",
   "metadata": {},
   "source": [
    "### Precision One vs All \n",
    "\n",
    "This precision is diferrente from the one above. \n"
   ]
  },
  {
   "cell_type": "code",
   "execution_count": 113,
   "metadata": {
    "scrolled": true
   },
   "outputs": [
    {
     "data": {
      "image/png": "[encoded data removed]",
      "text/plain": [
       "<Figure size 720x288 with 2 Axes>"
      ]
     },
     "metadata": {
      "needs_background": "light"
     },
     "output_type": "display_data"
    },
    {
     "data": {
      "image/png": "[encoded data removed]",
      "text/plain": [
       "<Figure size 720x288 with 2 Axes>"
      ]
     },
     "metadata": {
      "needs_background": "light"
     },
     "output_type": "display_data"
    },
    {
     "data": {
      "image/png": "[encoded data removed]",
      "text/plain": [
       "<Figure size 720x288 with 2 Axes>"
      ]
     },
     "metadata": {
      "needs_background": "light"
     },
     "output_type": "display_data"
    }
   ],
   "source": [
    "def plotroc(ytrue, ytest, classy):\n",
    "    plt.figure(figsize=(10,4))\n",
    "    prec, recall, thresholds = metrics.precision_recall_curve(ytrue, ytest)\n",
    "    plt.plot(prec[:-1], recall[:-1], lw=0.5)\n",
    "    plt.scatter(prec[:-1], recall[:-1], c=thresholds[::-1], cmap='rainbow')\n",
    "    plt.colorbar()\n",
    "    plt.rcParams['font.size'] = 10\n",
    "    plt.title('classifier class : '+classy)\n",
    "    plt.xlabel('recall')\n",
    "    plt.ylabel('precision')\n",
    "    plt.grid(True)\n",
    "    #print(thresholds)\n",
    "\n",
    "classy = dresults.copy()[['ytrue', 'y0']]\n",
    "classy.loc[classy.ytrue == 0, 'ytrue'] = -999 # the 0 trues\n",
    "classy.loc[classy.ytrue != -999, 'ytrue'] = 0 # what is not zero\n",
    "classy.loc[classy.ytrue == -999, 'ytrue'] = 1 # set as one (binary roc)\n",
    "#print(metrics.roc_auc_score(classy.ytrue, classy['y0']))\n",
    "plotroc(classy.ytrue, classy['y0'], '0')\n",
    "classy = dresults.copy()[['ytrue', 'y1']]\n",
    "classy.loc[classy.ytrue != 1, 'ytrue'] = 0\n",
    "plotroc(classy.ytrue, classy.y1, '1')\n",
    "#print(metrics.roc_auc_score(classy.ytrue, classy['y1']))\n",
    "classy = dresults.copy()[['ytrue', 'y2']]\n",
    "classy.loc[classy.ytrue != -1, 'ytrue'] = 0 # what is not zero\n",
    "classy.loc[classy.ytrue == -1, 'ytrue'] = 1 # set as one (binary roc)\n",
    "plotroc(classy.ytrue, classy.y2, '2')\n",
    "#print(metrics.roc_auc_score(classy.ytrue, classy['y2']))"
   ]
  },
  {
   "cell_type": "code",
   "execution_count": null,
   "metadata": {},
   "outputs": [],
   "source": []
  },
  {
   "cell_type": "code",
   "execution_count": null,
   "metadata": {},
   "outputs": [],
   "source": []
  },
  {
   "cell_type": "code",
   "execution_count": null,
   "metadata": {},
   "outputs": [],
   "source": []
  },
  {
   "cell_type": "code",
   "execution_count": null,
   "metadata": {},
   "outputs": [],
   "source": []
  },
  {
   "cell_type": "code",
   "execution_count": null,
   "metadata": {},
   "outputs": [],
   "source": [
    "predics = predics[ predics.ypred != 0 ] "
   ]
  },
  {
   "cell_type": "code",
   "execution_count": null,
   "metadata": {
    "scrolled": true
   },
   "outputs": [],
   "source": [
    "predics.ypred.hist()"
   ]
  },
  {
   "cell_type": "code",
   "execution_count": null,
   "metadata": {},
   "outputs": [],
   "source": [
    "predics.head()"
   ]
  },
  {
   "cell_type": "code",
   "execution_count": null,
   "metadata": {},
   "outputs": [],
   "source": [
    "pwd"
   ]
  },
  {
   "cell_type": "code",
   "execution_count": null,
   "metadata": {},
   "outputs": [],
   "source": [
    "predics.to_pickle('last_year_daemon.pickle')"
   ]
  },
  {
   "cell_type": "code",
   "execution_count": null,
   "metadata": {},
   "outputs": [],
   "source": [
    "import numpy as np"
   ]
  },
  {
   "cell_type": "code",
   "execution_count": null,
   "metadata": {},
   "outputs": [],
   "source": [
    "np.ceil(94231/5.0)*5.0"
   ]
  },
  {
   "cell_type": "code",
   "execution_count": null,
   "metadata": {},
   "outputs": [],
   "source": []
  }
 ],
 "metadata": {
  "kernelspec": {
   "display_name": "Python 3",
   "language": "python",
   "name": "python3"
  },
  "language_info": {
   "codemirror_mode": {
    "name": "ipython",
    "version": 3
   },
   "file_extension": ".py",
   "mimetype": "text/x-python",
   "name": "python",
   "nbconvert_exporter": "python",
   "pygments_lexer": "ipython3",
   "version": "3.7.1"
  }
 },
 "nbformat": 4,
 "nbformat_minor": 2
}
