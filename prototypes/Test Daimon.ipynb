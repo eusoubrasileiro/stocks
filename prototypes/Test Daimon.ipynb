{
 "cells": [
  {
   "cell_type": "code",
   "execution_count": 1,
   "metadata": {
    "scrolled": true
   },
   "outputs": [
    {
     "name": "stdout",
     "output_type": "stream",
     "text": [
      "/home/andre/Projects/stocks\n"
     ]
    }
   ],
   "source": [
    "cd /home/andre/Projects/stocks/"
   ]
  },
  {
   "cell_type": "code",
   "execution_count": 2,
   "metadata": {},
   "outputs": [],
   "source": [
    "import os\n",
    "import sys\n",
    "import pandas as pd\n",
    "import numpy as np\n",
    "import struct\n",
    "import datetime\n",
    "import calendar\n",
    "import time\n",
    "import argparse\n",
    "from Tools.util import progressbar\n",
    "from Tools import prepareData, torchNN\n",
    "from Tools import meta5Ibov"
   ]
  },
  {
   "cell_type": "code",
   "execution_count": 3,
   "metadata": {},
   "outputs": [
    {
     "name": "stderr",
     "output_type": "stream",
     "text": [
      "Symbols loaded:\n",
      "['PETR4' 'BBDC4' 'VALE3' 'DOL$' 'ITUB4' 'WIN@' 'B3SA3' 'BBAS3' 'ABEV3']\n",
      "percent missing:  0.02973624520526797\n"
     ]
    }
   ],
   "source": [
    "# Working Path for Expert Advisor Metatrader 5\n",
    "# Use same path that can be read by the expert advisor\n",
    "datapath = '/home/andre/Projects/stocks/data'\n",
    "os.chdir(datapath)\n",
    "# statistical mean and variance from 2013+2018 used to make data\n",
    "# with variance < 1 and mean close to 0, that is how it works!\n",
    "stocks_stats = pd.read_csv('stocks_stats_2018.csv', index_col=0)\n",
    "# selected columns by backtesting best performance accuracy\n",
    "with open('collumns_selected.txt', 'r') as f: # txt column names divided by spaces\n",
    "    columns = f.read()\n",
    "selected_columns = columns.split(' ')[:-1]\n",
    "#datapath = '/home/andre/.wine/drive_c/Program Files/Rico MetaTrader 5/MQL5/Files'\n",
    "meta5Ibov.setDataPath(datapath, datapath, verbose=False)\n",
    "# don't want masterdf to be reused\n",
    "masterdf = meta5Ibov.loadMeta5Data(suffix='M1.mt5bin',\n",
    "            cleandays=True, preload=False, verbose=True)\n",
    "masterdf = meta5Ibov.simpleColumnNames()"
   ]
  },
  {
   "cell_type": "code",
   "execution_count": 4,
   "metadata": {},
   "outputs": [
    {
     "data": {
      "text/plain": [
       "505242"
      ]
     },
     "execution_count": 4,
     "metadata": {},
     "output_type": "execute_result"
    }
   ],
   "source": [
    "len(masterdf)"
   ]
  },
  {
   "cell_type": "code",
   "execution_count": 5,
   "metadata": {},
   "outputs": [],
   "source": [
    "device = torchNN.getDevice()"
   ]
  },
  {
   "cell_type": "code",
   "execution_count": 6,
   "metadata": {},
   "outputs": [
    {
     "data": {
      "text/plain": [
       "<torch._C.Generator at 0x7efc8b505430>"
      ]
     },
     "execution_count": 6,
     "metadata": {},
     "output_type": "execute_result"
    }
   ],
   "source": [
    "import torch as th\n",
    "import random\n",
    "seed=10\n",
    "np.random.seed(seed)\n",
    "if str(device) == 'cuda':\n",
    "    th.backends.cudnn.deterministic = True\n",
    "random.seed(seed) # pytorch rely on random for weights\n",
    "th.manual_seed(seed)"
   ]
  },
  {
   "cell_type": "code",
   "execution_count": 7,
   "metadata": {},
   "outputs": [
    {
     "name": "stdout",
     "output_type": "stream",
     "text": [
      "2887 2640\n"
     ]
    }
   ],
   "source": [
    "nwasted = 120+120+7  # number of lost samples due (shift + EMA's + unknown)\n",
    "ntraining = 5*8*60 # 8 hours before for training\n",
    "nscore = 120 # validation samples\n",
    "nforecast = 120 # forecasting/prediction samples\n",
    "nneed = ntraining+nscore+nforecast+nwasted # need number of samples\n",
    "npredict = nscore + nforecast + ntraining # samples for predicting one direction\n",
    "print(nneed, npredict)"
   ]
  },
  {
   "cell_type": "code",
   "execution_count": 8,
   "metadata": {},
   "outputs": [],
   "source": [
    "start=320000\n",
    "end=320003"
   ]
  },
  {
   "cell_type": "code",
   "execution_count": 9,
   "metadata": {},
   "outputs": [
    {
     "name": "stdout",
     "output_type": "stream",
     "text": [
      "2016-10-11 13:16:00..............................................................] 0/3\n",
      "iteration :      0 l training: 0.73 l validation: 0.59 Err trainging :0.90  Err validation ; 0.275\n",
      "iteration :      6 l training: 0.47 l validation: 0.59 Err trainging :0.16  Err validation ; 0.275\n",
      "iteration :     12 l training: 0.50 l validation: 0.59 Err trainging :0.18  Err validation ; 0.275\n",
      "iteration :     18 l training: 0.37 l validation: 0.59 Err trainging :0.06  Err validation ; 0.275\n",
      "iteration :     24 l training: 0.56 l validation: 0.59 Err trainging :0.24  Err validation ; 0.275\n",
      " errort :  0.90234375  errorv:  0.2750000059604645  buy  0\n",
      "2016-10-20 16:04:00\n",
      "2016-10-11 13:17:00########......................................................] 1/3\n",
      "iteration :      0 l training: 0.70 l validation: 0.59 Err trainging :0.66  Err validation ; 0.275\n",
      "iteration :      6 l training: 0.32 l validation: 0.59 Err trainging :0.01  Err validation ; 0.275\n",
      "iteration :     12 l training: 0.55 l validation: 0.59 Err trainging :0.24  Err validation ; 0.275\n",
      "iteration :     18 l training: 0.50 l validation: 0.59 Err trainging :0.18  Err validation ; 0.275\n",
      "iteration :     24 l training: 0.66 l validation: 0.59 Err trainging :0.35  Err validation ; 0.275\n",
      " errort :  0.65625  errorv:  0.2750000059604645  buy  0\n",
      "2016-10-20 16:05:00\n",
      "2016-10-11 13:18:00###################################...........................] 2/3\n",
      "iteration :      0 l training: 0.71 l validation: 0.59 Err trainging :0.90  Err validation ; 0.275\n",
      "iteration :      6 l training: 0.45 l validation: 0.59 Err trainging :0.13  Err validation ; 0.275\n",
      "iteration :     12 l training: 0.47 l validation: 0.59 Err trainging :0.16  Err validation ; 0.275\n",
      "iteration :     18 l training: 0.31 l validation: 0.59 Err trainging :0.00  Err validation ; 0.275\n",
      "iteration :     24 l training: 0.38 l validation: 0.59 Err trainging :0.07  Err validation ; 0.275\n",
      " errort :  0.8984375  errorv:  0.2750000059604645  buy  0\n",
      "2016-10-20 16:06:00\n",
      "[################################################################################] 3/3\n"
     ]
    }
   ],
   "source": [
    "prediction_book = np.zeros((3, 3))    \n",
    "for i in progressbar(range(start, end)):\n",
    "    X = masterdf[i-nneed:i]\n",
    "    # effective missing data\n",
    "    percmiss = meta5Ibov.calculateMissing(X)\n",
    "    X, y, Xp = prepareData.GetTrainingPredictionVectors(\n",
    "        X.copy(), targetsymbol='PETR4_C', verbose=False,\n",
    "        selected=selected_columns, stats=stocks_stats)\n",
    "    print(X.index[0])\n",
    "    # classifier training and use\n",
    "    buy = torchNN.TrainPredictDecide(X, y, Xp, verbose=True)\n",
    "    print(Xp.index[-1])\n",
    "#     device = torchNN.getDevice() # get cpu or cuda    \n",
    "    if buy != 0:    \n",
    "        prediction_book[j, 0] = i-1 # prediction time\n",
    "        prediction_book[j, 1] = buy\n",
    "        prediction_book[j, 2] = percmiss\n",
    "        j = j + 1"
   ]
  },
  {
   "cell_type": "code",
   "execution_count": 14,
   "metadata": {},
   "outputs": [],
   "source": [
    "prediction_book =prediction_book[:j]"
   ]
  },
  {
   "cell_type": "code",
   "execution_count": 15,
   "metadata": {},
   "outputs": [],
   "source": [
    "dfprediction_book = pd.DataFrame(prediction_book, columns=['time', 'direction', 'percmiss'])"
   ]
  },
  {
   "cell_type": "code",
   "execution_count": 16,
   "metadata": {},
   "outputs": [],
   "source": [
    "dfprediction_book[\"time\"]= masterdf.iloc[dfprediction_book.time.values.astype(np.int32)].index"
   ]
  },
  {
   "cell_type": "code",
   "execution_count": 17,
   "metadata": {},
   "outputs": [
    {
     "data": {
      "text/plain": [
       "<matplotlib.axes._subplots.AxesSubplot at 0x7f563a16c320>"
      ]
     },
     "execution_count": 17,
     "metadata": {},
     "output_type": "execute_result"
    },
    {
     "data": {
      "image/png": "[encoded data removed]",
      "text/plain": [
       "<Figure size 432x288 with 1 Axes>"
      ]
     },
     "metadata": {},
     "output_type": "display_data"
    }
   ],
   "source": [
    "dfprediction_book.percmiss.hist(bins=40) "
   ]
  },
  {
   "cell_type": "code",
   "execution_count": 18,
   "metadata": {},
   "outputs": [],
   "source": [
    "dfprediction_book.to_pickle('daimon_backtesting_3_months_prediction_book.pickle')"
   ]
  },
  {
   "cell_type": "code",
   "execution_count": 19,
   "metadata": {},
   "outputs": [
    {
     "data": {
      "text/plain": [
       "'/home/andre/.wine/drive_c/Program Files/Rico MetaTrader 5/MQL5/Files'"
      ]
     },
     "execution_count": 19,
     "metadata": {},
     "output_type": "execute_result"
    }
   ],
   "source": [
    "pwd"
   ]
  },
  {
   "cell_type": "code",
   "execution_count": null,
   "metadata": {},
   "outputs": [],
   "source": []
  }
 ],
 "metadata": {
  "kernelspec": {
   "display_name": "Python 3",
   "language": "python",
   "name": "python3"
  },
  "language_info": {
   "codemirror_mode": {
    "name": "ipython",
    "version": 3
   },
   "file_extension": ".py",
   "mimetype": "text/x-python",
   "name": "python",
   "nbconvert_exporter": "python",
   "pygments_lexer": "ipython3",
   "version": "3.6.5"
  }
 },
 "nbformat": 4,
 "nbformat_minor": 2
}
