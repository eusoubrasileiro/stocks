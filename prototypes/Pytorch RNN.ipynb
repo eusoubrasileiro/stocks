{
 "cells": [
  {
   "cell_type": "markdown",
   "metadata": {},
   "source": [
    "## Recurrent Neural Network RNN\n",
    "\n",
    "LSTM/GRU"
   ]
  },
  {
   "cell_type": "code",
   "execution_count": 1,
   "metadata": {},
   "outputs": [],
   "source": [
    "%matplotlib inline"
   ]
  },
  {
   "cell_type": "code",
   "execution_count": 2,
   "metadata": {},
   "outputs": [],
   "source": [
    "from matplotlib import pyplot as plt\n",
    "import pandas as pd\n",
    "from scipy import stats\n",
    "import glob\n",
    "import datetime\n",
    "import numpy as np\n",
    "import datetime\n",
    "from pathlib import Path\n",
    "import os\n",
    "import talib as ta"
   ]
  },
  {
   "cell_type": "code",
   "execution_count": 3,
   "metadata": {},
   "outputs": [],
   "source": [
    "# due working at home and work windows and linux\n",
    "import platform\n",
    "import os\n",
    "\n",
    "if platform.system() == 'Windows' and platform.release() == '10':\n",
    "    os.chdir(r'L:\\andre\\PycharmProjects\\geonumerics\\ipython_notebooks\\Stocks')\n",
    "elif platform.system() == 'Windows' and platform.release() == '7':\n",
    "    os.chdir(r'C:\\Data\\VBShared\\ipython_notebooks\\Stocks')\n",
    "elif platform.system() == 'Linux' and platform.node() == 'riossm31012722':\n",
    "    os.chdir('/media/windows/Data/VBShared/ipython_notebooks/Stocks')\n",
    "elif platform.system() == 'Linux' and platform.node() == 'andre-PredatorG3571':\n",
    "    os.chdir('/home/andre/PycharmProjects/gitstocks/stocks')"
   ]
  },
  {
   "cell_type": "code",
   "execution_count": 6,
   "metadata": {},
   "outputs": [
    {
     "name": "stdout",
     "output_type": "stream",
     "text": [
      "[Errno 2] No such file or directory: 'C:UsersalferreiraDownloadsstocks'\n",
      "/home/andre/PycharmProjects/gitstocks/stocks\n"
     ]
    }
   ],
   "source": [
    "cd C:\\Users\\alferreira\\Downloads\\stocks"
   ]
  },
  {
   "cell_type": "code",
   "execution_count": 4,
   "metadata": {},
   "outputs": [],
   "source": [
    "from Tools import Meta5_Ibov_Load as meta5_ibov_load"
   ]
  },
  {
   "cell_type": "code",
   "execution_count": 5,
   "metadata": {},
   "outputs": [
    {
     "data": {
      "text/plain": [
       "<module 'Tools.Meta5_Ibov_Load' from '/home/andre/PycharmProjects/gitstocks/stocks/Tools/Meta5_Ibov_Load.py'>"
      ]
     },
     "execution_count": 5,
     "metadata": {},
     "output_type": "execute_result"
    }
   ],
   "source": [
    "import importlib\n",
    "importlib.reload(meta5_ibov_load)"
   ]
  },
  {
   "cell_type": "markdown",
   "metadata": {},
   "source": [
    "### Set data bundle path and csv data path \n",
    "\n",
    "#### And Load *.csv files  if  needed"
   ]
  },
  {
   "cell_type": "code",
   "execution_count": 6,
   "metadata": {},
   "outputs": [
    {
     "name": "stdout",
     "output_type": "stream",
     "text": [
      "master data loaded size (minutes) 507080\n",
      "Symbols lodaded:\n",
      "0    PETR4\n",
      "1    BBDC4\n",
      "2    BBAS3\n",
      "3    ABEV3\n",
      "4    ITUB4\n",
      "5    VALE3\n",
      "6     DOL$\n",
      "dtype: object\n"
     ]
    }
   ],
   "source": [
    "if platform.system() == 'Windows' and platform.release() == '10':\n",
    "    meta5_ibov_load.Set_Data_Path(r'L:\\andre\\PycharmProjects\\geonumerics\\ipython_notebooks\\Stocks\\data',\n",
    "                                 r'L:\\andre\\PycharmProjects\\geonumerics\\ipython_notebooks\\Stocks\\2016_stocks\\2016_2018_M1')\n",
    "elif platform.system() == 'Windows' and platform.release() == '7':\n",
    "    meta5_ibov_load.Set_Data_Path(r'C:\\Data\\VBShared\\ipython_notebooks\\Stocks\\data',\n",
    "                                 r'C:\\Data\\VBShared\\ipython_notebooks\\Stocks\\data')\n",
    "elif platform.system() == 'Linux' and platform.node() == 'riossm31012722':\n",
    "    meta5_ibov_load.Set_Data_Path(r'/media/windows/Data/VBShared/ipython_notebooks/Stocks/data',\n",
    "                                r'/media/windows/Data/VBShared/ipython_notebooks/Stocks/2016_stocks/2016_2018_M1')\n",
    "elif platform.system() == 'Linux' and platform.node() == 'andre-PredatorG3571':\n",
    "    meta5_ibov_load.Set_Data_Path(r'/home/andre/PycharmProjects/gitstocks/stocks/data',\n",
    "                            r'/home/andre/PycharmProjects/gitstocks/stocks/data')\n",
    "    #os.chdir('/media/windows/Data/VBShared/ipython_notebooks/Stocks/2016_stocks\\2016_2018_M1'')"
   ]
  },
  {
   "cell_type": "code",
   "execution_count": 10,
   "metadata": {},
   "outputs": [
    {
     "name": "stdout",
     "output_type": "stream",
     "text": [
      "must load metatrader 5 *.mt5bin files\n"
     ]
    }
   ],
   "source": [
    "meta5_ibov_load.Set_Data_Path(r'C:\\Users\\alferreira\\Downloads\\stocks\\data',\n",
    "                            r'C:\\Users\\alferreira\\Downloads\\stocks\\data')"
   ]
  },
  {
   "cell_type": "code",
   "execution_count": 7,
   "metadata": {},
   "outputs": [
    {
     "name": "stdout",
     "output_type": "stream",
     "text": [
      "Data already loaded\n"
     ]
    }
   ],
   "source": [
    "masterdf = meta5_ibov_load.Load_Meta5_Data()"
   ]
  },
  {
   "cell_type": "markdown",
   "metadata": {},
   "source": [
    "### Prepare data for training and classification\n",
    "and Save Data Prepared"
   ]
  },
  {
   "cell_type": "code",
   "execution_count": 70,
   "metadata": {},
   "outputs": [],
   "source": [
    "df = meta5_ibov_load.FixedColumnNames()"
   ]
  },
  {
   "cell_type": "code",
   "execution_count": 71,
   "metadata": {},
   "outputs": [],
   "source": [
    "import os"
   ]
  },
  {
   "cell_type": "code",
   "execution_count": 10,
   "metadata": {},
   "outputs": [],
   "source": [
    "os.chdir(meta5_ibov_load.path_bin_data)"
   ]
  },
  {
   "cell_type": "markdown",
   "metadata": {},
   "source": [
    "### Almost ready data, just missing standard scaler"
   ]
  },
  {
   "cell_type": "code",
   "execution_count": 81,
   "metadata": {},
   "outputs": [],
   "source": [
    "X = pd.read_pickle('X_train_corr_clean.pickle')"
   ]
  },
  {
   "cell_type": "code",
   "execution_count": 82,
   "metadata": {},
   "outputs": [
    {
     "data": {
      "text/html": [
       "<div>\n",
       "<style scoped>\n",
       "    .dataframe tbody tr th:only-of-type {\n",
       "        vertical-align: middle;\n",
       "    }\n",
       "\n",
       "    .dataframe tbody tr th {\n",
       "        vertical-align: top;\n",
       "    }\n",
       "\n",
       "    .dataframe thead th {\n",
       "        text-align: right;\n",
       "    }\n",
       "</style>\n",
       "<table border=\"1\" class=\"dataframe\">\n",
       "  <thead>\n",
       "    <tr style=\"text-align: right;\">\n",
       "      <th></th>\n",
       "      <th>PETR4_O</th>\n",
       "      <th>PETR4_T</th>\n",
       "      <th>PETR4_R</th>\n",
       "      <th>BBDC4_O</th>\n",
       "      <th>BBDC4_T</th>\n",
       "      <th>BBDC4_R</th>\n",
       "      <th>BBAS3_T</th>\n",
       "      <th>BBAS3_R</th>\n",
       "      <th>ABEV3_O</th>\n",
       "      <th>ABEV3_T</th>\n",
       "      <th>...</th>\n",
       "      <th>rsi_2weekday</th>\n",
       "      <th>ema_2minute</th>\n",
       "      <th>macdminute</th>\n",
       "      <th>macd_meanminute</th>\n",
       "      <th>PETR4_C_PETR4_T</th>\n",
       "      <th>PETR4_T_PETR4_R</th>\n",
       "      <th>BBAS3_R_ABEV3_O</th>\n",
       "      <th>ABEV3_C_ABEV3_T</th>\n",
       "      <th>DOL$_R_hour</th>\n",
       "      <th>hour_weekday</th>\n",
       "    </tr>\n",
       "    <tr>\n",
       "      <th>time</th>\n",
       "      <th></th>\n",
       "      <th></th>\n",
       "      <th></th>\n",
       "      <th></th>\n",
       "      <th></th>\n",
       "      <th></th>\n",
       "      <th></th>\n",
       "      <th></th>\n",
       "      <th></th>\n",
       "      <th></th>\n",
       "      <th></th>\n",
       "      <th></th>\n",
       "      <th></th>\n",
       "      <th></th>\n",
       "      <th></th>\n",
       "      <th></th>\n",
       "      <th></th>\n",
       "      <th></th>\n",
       "      <th></th>\n",
       "      <th></th>\n",
       "      <th></th>\n",
       "    </tr>\n",
       "  </thead>\n",
       "  <tbody>\n",
       "    <tr>\n",
       "      <th>2015-01-26 15:24:00</th>\n",
       "      <td>9.89</td>\n",
       "      <td>6.0</td>\n",
       "      <td>6.0</td>\n",
       "      <td>19.44</td>\n",
       "      <td>6.0</td>\n",
       "      <td>4.0</td>\n",
       "      <td>4.0</td>\n",
       "      <td>3.0</td>\n",
       "      <td>15.67</td>\n",
       "      <td>5.0</td>\n",
       "      <td>...</td>\n",
       "      <td>0.0</td>\n",
       "      <td>27.687319</td>\n",
       "      <td>-1.26999</td>\n",
       "      <td>-0.39363</td>\n",
       "      <td>15.88</td>\n",
       "      <td>12.0</td>\n",
       "      <td>18.67</td>\n",
       "      <td>20.67</td>\n",
       "      <td>20.0</td>\n",
       "      <td>15.0</td>\n",
       "    </tr>\n",
       "  </tbody>\n",
       "</table>\n",
       "<p>1 rows × 120 columns</p>\n",
       "</div>"
      ],
      "text/plain": [
       "                     PETR4_O  PETR4_T  PETR4_R  BBDC4_O  BBDC4_T  BBDC4_R  \\\n",
       "time                                                                        \n",
       "2015-01-26 15:24:00     9.89      6.0      6.0    19.44      6.0      4.0   \n",
       "\n",
       "                     BBAS3_T  BBAS3_R  ABEV3_O  ABEV3_T      ...       \\\n",
       "time                                                         ...        \n",
       "2015-01-26 15:24:00      4.0      3.0    15.67      5.0      ...        \n",
       "\n",
       "                     rsi_2weekday  ema_2minute  macdminute  macd_meanminute  \\\n",
       "time                                                                          \n",
       "2015-01-26 15:24:00           0.0    27.687319    -1.26999         -0.39363   \n",
       "\n",
       "                     PETR4_C_PETR4_T  PETR4_T_PETR4_R  BBAS3_R_ABEV3_O  \\\n",
       "time                                                                     \n",
       "2015-01-26 15:24:00            15.88             12.0            18.67   \n",
       "\n",
       "                     ABEV3_C_ABEV3_T  DOL$_R_hour  hour_weekday  \n",
       "time                                                             \n",
       "2015-01-26 15:24:00            20.67         20.0          15.0  \n",
       "\n",
       "[1 rows x 120 columns]"
      ]
     },
     "execution_count": 82,
     "metadata": {},
     "output_type": "execute_result"
    }
   ],
   "source": [
    "X.head(1)"
   ]
  },
  {
   "cell_type": "code",
   "execution_count": 83,
   "metadata": {},
   "outputs": [],
   "source": [
    "#X = pd.read_pickle('PETR4_xtrain.pickle')\n",
    "#y = pd.read_pickle('PETR4_ytrain.pickle')"
   ]
  },
  {
   "cell_type": "code",
   "execution_count": 84,
   "metadata": {},
   "outputs": [],
   "source": [
    "%matplotlib inline"
   ]
  },
  {
   "cell_type": "code",
   "execution_count": 85,
   "metadata": {},
   "outputs": [],
   "source": [
    "span=60\n",
    "X['y'] = np.nan\n",
    "sma = ta.SMA(X.PETR4_O.values, span)\n",
    "X['sma'] = sma\n",
    "X.sma = X.sma.shift(-span)\n",
    "X.loc[X.sma > X.PETR4_O, 'y'] = 1\n",
    "X.loc[X.sma < X.PETR4_O, 'y'] = 0"
   ]
  },
  {
   "cell_type": "code",
   "execution_count": 86,
   "metadata": {},
   "outputs": [
    {
     "data": {
      "text/plain": [
       "[<matplotlib.lines.Line2D at 0x7f513ca02438>]"
      ]
     },
     "execution_count": 86,
     "metadata": {},
     "output_type": "execute_result"
    },
    {
     "data": {
      "image/png": "[encoded data removed]",
      "text/plain": [
       "<Figure size 1080x288 with 2 Axes>"
      ]
     },
     "metadata": {},
     "output_type": "display_data"
    },
    {
     "data": {
      "text/plain": [
       "<Figure size 720x216 with 0 Axes>"
      ]
     },
     "metadata": {},
     "output_type": "display_data"
    }
   ],
   "source": [
    "f, axr = plt.subplots(2, sharex=True, figsize=(15,4))\n",
    "f.subplots_adjust(hspace=0)\n",
    "#axr[0].plot(X[target_quote].values)\n",
    "axr[0].plot(X[-200:].PETR4_O.values)\n",
    "#axr[0].plot(df.loc[index_window, 'PETR4'].values[:-60])\n",
    "plt.figure(figsize=(10,3))\n",
    "axr[1].plot(X[-200:].y.values)"
   ]
  },
  {
   "cell_type": "code",
   "execution_count": 87,
   "metadata": {},
   "outputs": [],
   "source": [
    "X = X.dropna() # drop the last 60 minutes (can be used only for prediction on real time)\n",
    "y = X.y\n",
    "#y[X.index]\n",
    "#y = X.y\n",
    "y.unique()\n",
    "X.drop(['y','sma'], axis=1, inplace=True)"
   ]
  },
  {
   "cell_type": "markdown",
   "metadata": {},
   "source": [
    "#### Target price"
   ]
  },
  {
   "cell_type": "code",
   "execution_count": 88,
   "metadata": {},
   "outputs": [],
   "source": [
    "tprice = X.PETR4_O.values"
   ]
  },
  {
   "cell_type": "code",
   "execution_count": 89,
   "metadata": {},
   "outputs": [],
   "source": [
    "from sklearn.preprocessing import StandardScaler\n",
    "from sklearn import preprocessing\n",
    "\n",
    "scaler = StandardScaler()\n",
    "scaler.fit(X)\n",
    "##    X[c] = preprocessing.scale(X[c]) # unit variance \n",
    "#X[c] = (X[c] - X[c].mean())/X[c].std() # zscore normalization\n",
    "X[:] = scaler.transform(X)   "
   ]
  },
  {
   "cell_type": "code",
   "execution_count": 90,
   "metadata": {},
   "outputs": [
    {
     "data": {
      "text/html": [
       "<div>\n",
       "<style scoped>\n",
       "    .dataframe tbody tr th:only-of-type {\n",
       "        vertical-align: middle;\n",
       "    }\n",
       "\n",
       "    .dataframe tbody tr th {\n",
       "        vertical-align: top;\n",
       "    }\n",
       "\n",
       "    .dataframe thead th {\n",
       "        text-align: right;\n",
       "    }\n",
       "</style>\n",
       "<table border=\"1\" class=\"dataframe\">\n",
       "  <thead>\n",
       "    <tr style=\"text-align: right;\">\n",
       "      <th></th>\n",
       "      <th>PETR4_O</th>\n",
       "      <th>PETR4_T</th>\n",
       "      <th>PETR4_R</th>\n",
       "      <th>BBDC4_O</th>\n",
       "      <th>BBDC4_T</th>\n",
       "      <th>BBDC4_R</th>\n",
       "      <th>BBAS3_T</th>\n",
       "      <th>BBAS3_R</th>\n",
       "      <th>ABEV3_O</th>\n",
       "      <th>ABEV3_T</th>\n",
       "      <th>...</th>\n",
       "      <th>rsi_2weekday</th>\n",
       "      <th>ema_2minute</th>\n",
       "      <th>macdminute</th>\n",
       "      <th>macd_meanminute</th>\n",
       "      <th>PETR4_C_PETR4_T</th>\n",
       "      <th>PETR4_T_PETR4_R</th>\n",
       "      <th>BBAS3_R_ABEV3_O</th>\n",
       "      <th>ABEV3_C_ABEV3_T</th>\n",
       "      <th>DOL$_R_hour</th>\n",
       "      <th>hour_weekday</th>\n",
       "    </tr>\n",
       "    <tr>\n",
       "      <th>time</th>\n",
       "      <th></th>\n",
       "      <th></th>\n",
       "      <th></th>\n",
       "      <th></th>\n",
       "      <th></th>\n",
       "      <th></th>\n",
       "      <th></th>\n",
       "      <th></th>\n",
       "      <th></th>\n",
       "      <th></th>\n",
       "      <th></th>\n",
       "      <th></th>\n",
       "      <th></th>\n",
       "      <th></th>\n",
       "      <th></th>\n",
       "      <th></th>\n",
       "      <th></th>\n",
       "      <th></th>\n",
       "      <th></th>\n",
       "      <th></th>\n",
       "      <th></th>\n",
       "    </tr>\n",
       "  </thead>\n",
       "  <tbody>\n",
       "    <tr>\n",
       "      <th>2015-01-26 15:24:00</th>\n",
       "      <td>-0.702122</td>\n",
       "      <td>0.77031</td>\n",
       "      <td>0.904312</td>\n",
       "      <td>-0.619666</td>\n",
       "      <td>0.340592</td>\n",
       "      <td>-0.136597</td>\n",
       "      <td>-1.130629</td>\n",
       "      <td>-1.216436</td>\n",
       "      <td>-1.47603</td>\n",
       "      <td>-0.323644</td>\n",
       "      <td>...</td>\n",
       "      <td>-1.962708</td>\n",
       "      <td>-0.92462</td>\n",
       "      <td>-0.232673</td>\n",
       "      <td>-0.192895</td>\n",
       "      <td>-0.41916</td>\n",
       "      <td>0.882454</td>\n",
       "      <td>-1.866617</td>\n",
       "      <td>-1.365993</td>\n",
       "      <td>0.649381</td>\n",
       "      <td>-0.083816</td>\n",
       "    </tr>\n",
       "  </tbody>\n",
       "</table>\n",
       "<p>1 rows × 120 columns</p>\n",
       "</div>"
      ],
      "text/plain": [
       "                      PETR4_O  PETR4_T   PETR4_R   BBDC4_O   BBDC4_T  \\\n",
       "time                                                                   \n",
       "2015-01-26 15:24:00 -0.702122  0.77031  0.904312 -0.619666  0.340592   \n",
       "\n",
       "                      BBDC4_R   BBAS3_T   BBAS3_R  ABEV3_O   ABEV3_T  \\\n",
       "time                                                                   \n",
       "2015-01-26 15:24:00 -0.136597 -1.130629 -1.216436 -1.47603 -0.323644   \n",
       "\n",
       "                         ...       rsi_2weekday  ema_2minute  macdminute  \\\n",
       "time                     ...                                               \n",
       "2015-01-26 15:24:00      ...          -1.962708     -0.92462   -0.232673   \n",
       "\n",
       "                     macd_meanminute  PETR4_C_PETR4_T  PETR4_T_PETR4_R  \\\n",
       "time                                                                     \n",
       "2015-01-26 15:24:00        -0.192895         -0.41916         0.882454   \n",
       "\n",
       "                     BBAS3_R_ABEV3_O  ABEV3_C_ABEV3_T  DOL$_R_hour  \\\n",
       "time                                                                 \n",
       "2015-01-26 15:24:00        -1.866617        -1.365993     0.649381   \n",
       "\n",
       "                     hour_weekday  \n",
       "time                               \n",
       "2015-01-26 15:24:00     -0.083816  \n",
       "\n",
       "[1 rows x 120 columns]"
      ]
     },
     "execution_count": 90,
     "metadata": {},
     "output_type": "execute_result"
    }
   ],
   "source": [
    "X.head(1)"
   ]
  },
  {
   "cell_type": "code",
   "execution_count": 91,
   "metadata": {},
   "outputs": [
    {
     "data": {
      "text/plain": [
       "array([0., 1.])"
      ]
     },
     "execution_count": 91,
     "metadata": {},
     "output_type": "execute_result"
    }
   ],
   "source": [
    "y.unique()"
   ]
  },
  {
   "cell_type": "markdown",
   "metadata": {},
   "source": [
    "### turn in a discrete serie so we can feed on an RNN"
   ]
  },
  {
   "cell_type": "code",
   "execution_count": 92,
   "metadata": {},
   "outputs": [],
   "source": [
    "Xor = X\n",
    "yor = y"
   ]
  },
  {
   "cell_type": "code",
   "execution_count": 93,
   "metadata": {},
   "outputs": [],
   "source": [
    "X = X[10000:90000]\n",
    "y = y[10000:90000]"
   ]
  },
  {
   "cell_type": "code",
   "execution_count": 94,
   "metadata": {},
   "outputs": [],
   "source": [
    "amin, amax = tprice.min(), tprice.max()\n",
    "bins = .08 # 8 cents"
   ]
  },
  {
   "cell_type": "code",
   "execution_count": 95,
   "metadata": {},
   "outputs": [],
   "source": [
    "tprice = pd.cut(tprice, np.arange(amin-bins, amax+bins, bins))\n",
    "tprice = tprice.codes\n",
    "tprice = tprice.astype(float)"
   ]
  },
  {
   "cell_type": "code",
   "execution_count": 96,
   "metadata": {},
   "outputs": [
    {
     "data": {
      "text/plain": [
       "[<matplotlib.lines.Line2D at 0x7f513c9830b8>]"
      ]
     },
     "execution_count": 96,
     "metadata": {},
     "output_type": "execute_result"
    },
    {
     "data": {
      "image/png": "[encoded data removed]",
      "text/plain": [
       "<Figure size 432x288 with 1 Axes>"
      ]
     },
     "metadata": {},
     "output_type": "display_data"
    }
   ],
   "source": [
    "plt.plot(tprice[:1600]) # 10 hours"
   ]
  },
  {
   "cell_type": "code",
   "execution_count": 97,
   "metadata": {},
   "outputs": [],
   "source": [
    "nclasses = len(np.unique(cprice))"
   ]
  },
  {
   "cell_type": "code",
   "execution_count": 98,
   "metadata": {},
   "outputs": [
    {
     "data": {
      "text/plain": [
       "107"
      ]
     },
     "execution_count": 98,
     "metadata": {},
     "output_type": "execute_result"
    }
   ],
   "source": [
    "nclasses"
   ]
  },
  {
   "cell_type": "markdown",
   "metadata": {},
   "source": [
    "### One hot or Embedding? Start with embedding\n",
    "\n",
    "Lets start with embeding since I can choose the dimension to be smaller than that of OneHot\n",
    "\n",
    "Embedding is a hash of your class with statistical properties"
   ]
  },
  {
   "cell_type": "markdown",
   "metadata": {},
   "source": [
    "## Simple sequential classifier one LSTM layer\n",
    "### from many to many example at here \n",
    "\n",
    "https://pytorch.org/tutorials/beginner/nlp/sequence_models_tutorial.html\n",
    "\n",
    "to: many to one\n",
    "\n",
    "avoiding the break the example :S heehehe"
   ]
  },
  {
   "cell_type": "code",
   "execution_count": 99,
   "metadata": {},
   "outputs": [],
   "source": [
    "from torch import nn\n",
    "import torch as th"
   ]
  },
  {
   "cell_type": "code",
   "execution_count": 100,
   "metadata": {},
   "outputs": [],
   "source": [
    "device = th.device(\"cuda\" if th.cuda.is_available() else \"cpu\")"
   ]
  },
  {
   "cell_type": "code",
   "execution_count": 125,
   "metadata": {},
   "outputs": [],
   "source": [
    "class LSTMBinary(nn.Module):\n",
    "    def __init__(self, embedding_dim, hidden_dim, nlayers=1, out_size=2, batch=1):\n",
    "        \"\"\"\n",
    "        num_xclasses : number of discrete (bucketized) classes representing the original float price values\n",
    "        embedding_dim : dimension of the hash that represents each value (embedding)\n",
    "        hidden_dim : hidden state size (keeps the relationship between the sequence values)\n",
    "        nlayers : number of stacked LSTM layers\n",
    "        out_size : dimension of output class \n",
    "        \"\"\"\n",
    "        super(LSTMBinary, self).__init__()\n",
    "        self.hidden_dim = hidden_dim\n",
    "        self.batch = batch\n",
    "        self.nlayers = nlayers\n",
    "        #self.embeddings = nn.Embedding(num_xclasses, embedding_dim)\n",
    "        \n",
    "        # The LSTM takes embeddings as inputs, and outputs hidden states\n",
    "        # with dimensionality hidden_dim.\n",
    "        self.lstm = nn.LSTM(embedding_dim, hidden_dim, self.nlayers) # nlayers = 2 stacked\n",
    "        # The linear layer that maps from hidden state space to output class space\n",
    "        #self.intermed = th.rand() # attention layer ?\n",
    "        #self.relu = nn.Softmax()\n",
    "        self.hidden2out = nn.Linear(hidden_dim, out_size)\n",
    "        self.hidden = self.init_hidden()\n",
    "        self.fout = nn.Softmax(dim=1)\n",
    "\n",
    "\n",
    "    def init_hidden(self):\n",
    "        # Before we've done anything, we dont have any hidden state.\n",
    "        # Refer to the Pytorch documentation to see exactly\n",
    "        # why they have this dimensionality.\n",
    "        # The axes semantics are (num_layers, minibatch_size, hidden_dim)\n",
    "        return (th.zeros(self.nlayers, self.batch, self.hidden_dim).to(device),\n",
    "                th.zeros(self.nlayers, self.batch, self.hidden_dim).to(device))\n",
    "\n",
    "    def forward(self, sequence):\n",
    "        #embeds = self.embeddings(sequence)\n",
    "        # let's work directly with data prices no bucketize\n",
    "        \n",
    "        #print(embeds.shape)\n",
    "        lstm_out, self.hidden = self.lstm(\n",
    "            sequence.view(60, self.batch, -1), self.hidden)\n",
    "        # output is \n",
    "        # (60, self.batch, hidden_dim)      \n",
    "        # making matrix multiplication by 'attention weights'\n",
    "        # not wasting \n",
    "        \n",
    "        # just the last output of the sequence (60 length)\n",
    "        # is what that matters for me (context vector)\n",
    "        # print(lstm_out.shape)\n",
    "        # entry is\n",
    "        # (self.batch, hidden_dim)\n",
    "        #print(lstm_out[0].shape)\n",
    "        #print(lstm_out[0])        \n",
    "        map_space = self.hidden2out(lstm_out[-1, :, :])\n",
    "        # out is\n",
    "        # (self.batch, 2 - outsize)\n",
    "        class_scores = self.fout(map_space)\n",
    "        return class_scores"
   ]
  },
  {
   "cell_type": "markdown",
   "metadata": {},
   "source": [
    "### Input vector and labels are\n",
    "\n",
    "1. X = cprice (bucketized stock prices) \n",
    "2. y = y.values"
   ]
  },
  {
   "cell_type": "code",
   "execution_count": 112,
   "metadata": {},
   "outputs": [
    {
     "data": {
      "text/plain": [
       "(80000, 120)"
      ]
     },
     "execution_count": 112,
     "metadata": {},
     "output_type": "execute_result"
    }
   ],
   "source": [
    "X.shape"
   ]
  },
  {
   "cell_type": "code",
   "execution_count": null,
   "metadata": {},
   "outputs": [],
   "source": [
    "#X['cprice'] = cprice"
   ]
  },
  {
   "cell_type": "code",
   "execution_count": 40,
   "metadata": {},
   "outputs": [],
   "source": [
    "#aX = cprice\n",
    "#y = y.values"
   ]
  },
  {
   "cell_type": "code",
   "execution_count": 105,
   "metadata": {},
   "outputs": [],
   "source": [
    "X = X.values"
   ]
  },
  {
   "cell_type": "code",
   "execution_count": 106,
   "metadata": {},
   "outputs": [
    {
     "data": {
      "text/plain": [
       "(80000, 120)"
      ]
     },
     "execution_count": 106,
     "metadata": {},
     "output_type": "execute_result"
    }
   ],
   "source": [
    "X.shape"
   ]
  },
  {
   "cell_type": "code",
   "execution_count": 107,
   "metadata": {},
   "outputs": [],
   "source": [
    "y = y.values"
   ]
  },
  {
   "cell_type": "code",
   "execution_count": 108,
   "metadata": {},
   "outputs": [
    {
     "data": {
      "text/plain": [
       "(80000,)"
      ]
     },
     "execution_count": 108,
     "metadata": {},
     "output_type": "execute_result"
    }
   ],
   "source": [
    "y.shape"
   ]
  },
  {
   "cell_type": "markdown",
   "metadata": {},
   "source": [
    "#### Select a random sample pair\n",
    "\n",
    "Every last 60 minutes price values from now corresponds to one class value.  \n",
    "The current class value that corresponds to the average behavior on the next 60 minutes."
   ]
  },
  {
   "cell_type": "code",
   "execution_count": 118,
   "metadata": {},
   "outputs": [],
   "source": [
    "import random\n",
    "def randomSample(X, y):\n",
    "    i = random.randint(60, len(X) - 1)    \n",
    "    return th.tensor(X[i-59:i+1], dtype=th.long).to(device), th.tensor(y[i], dtype=th.long).to(device) \n",
    "\n",
    "def randomBatch(X, y, batch_size=12):\n",
    "    i = random.randint(60, len(X) - 1 - batch_size)    \n",
    "    X_batches = th.tensor([ X[i-59:i+1] for i in range(i, i+batch_size)], dtype=th.float)\n",
    "    y_batches = th.tensor(y[i:i+batch_size], dtype=th.long) \n",
    "    return X_batches.to(device), y_batches.to(device)"
   ]
  },
  {
   "cell_type": "code",
   "execution_count": 119,
   "metadata": {},
   "outputs": [],
   "source": [
    "X_t, y_t = randomBatch(X, y, batch_size=64)"
   ]
  },
  {
   "cell_type": "code",
   "execution_count": 120,
   "metadata": {},
   "outputs": [
    {
     "data": {
      "text/plain": [
       "torch.Size([64, 60, 120])"
      ]
     },
     "execution_count": 120,
     "metadata": {},
     "output_type": "execute_result"
    }
   ],
   "source": [
    "X_t.shape"
   ]
  },
  {
   "cell_type": "code",
   "execution_count": 110,
   "metadata": {},
   "outputs": [
    {
     "name": "stdout",
     "output_type": "stream",
     "text": [
      "7118962\n"
     ]
    }
   ],
   "source": [
    "#nclass = len(np.unique(X))\n",
    "#print(nclass)"
   ]
  },
  {
   "cell_type": "code",
   "execution_count": 126,
   "metadata": {},
   "outputs": [],
   "source": [
    "#embedding_dim=3 there are no embeddings anymore\n",
    "hidden_dim=256"
   ]
  },
  {
   "cell_type": "code",
   "execution_count": 127,
   "metadata": {},
   "outputs": [],
   "source": [
    "# change here if you wish OPTIONS\n",
    "# shift=60\n",
    "nforecast=60\n",
    "nvalidation=nforecast # to validate the model prior prediction\n",
    "ntraining = 5*8*60 # 8 hours before for training\n",
    "nwindow = nvalidation+nforecast+ntraining \n",
    "batch_size=64"
   ]
  },
  {
   "cell_type": "code",
   "execution_count": null,
   "metadata": {},
   "outputs": [
    {
     "name": "stdout",
     "output_type": "stream",
     "text": [
      "iteration :      0 l training: 0.71\n",
      "iteration :    100 l training: 0.56\n",
      "iteration :    200 l training: 1.00\n",
      "iteration :    300 l training: 0.85\n"
     ]
    }
   ],
   "source": [
    "model = LSTMBinary(120, hidden_dim, batch=batch_size)\n",
    "model = model.to(device)\n",
    "loss_function = nn.CrossEntropyLoss()\n",
    "optimizer = th.optim.Adagrad(model.parameters(), lr=0.01)\n",
    "\n",
    "# See what the scores are before training\n",
    "# Note that element i,j of the output is the score for tag j for word i.\n",
    "# Here we don't need to train, so the code is wrapped in torch.no_grad()\n",
    "#with torch.no_grad():\n",
    "#    inputs = prepare_sequence(training_data[0][0], word_to_ix)\n",
    "#    tag_scores = model(inputs)\n",
    "#    print(tag_scores)\n",
    "\n",
    "losses = []\n",
    "\n",
    "# X_test = th.tensor(X[endi:endi+nvalidation])\n",
    "# y_test = th.tensor(y[endi:endi+nvalidation])\n",
    "# X_test = X_test.to(device)\n",
    "# y_test = y_test.to(device)\n",
    "\n",
    "maxepochs=1000\n",
    "for epoch in range(maxepochs):  \n",
    "    X_t, y_t = randomBatch(X[:ntraining], y[:ntraining], batch_size=batch_size)\n",
    "    \n",
    "    #for sentence, tags in training_data:\n",
    "    # Step 1. Remember that Pytorch accumulates gradients.\n",
    "    # We need to clear them out before each instance\n",
    "    model.zero_grad()\n",
    "\n",
    "    # Also, we need to clear out the hidden state of the LSTM,\n",
    "    # detaching it from its history on the last instance.\n",
    "    model.hidden = model.init_hidden()\n",
    "\n",
    "    # Step 2. Get our inputs ready for the network, that is, turn them into\n",
    "    # Tensors of word indices.\n",
    "    #sentence_in = prepare_sequence(sentence, word_to_ix)\n",
    "    #targets = prepare_sequence(tags, tag_to_ix)\n",
    "\n",
    "    # Step 3. Run our forward pass.\n",
    "    ypred = model(X_t)\n",
    "\n",
    "    # Step 4. Compute the loss, gradients, and update the parameters by\n",
    "    #  calling optimizer.step()\n",
    "    loss = loss_function(ypred, y_t)\n",
    "    loss.backward()\n",
    "    optimizer.step()    \n",
    "    losses.append(loss.item())\n",
    "    \n",
    "    \n",
    "#     ######################\n",
    "#     # Model Evaluation\n",
    "#     ######################\n",
    "#     model.eval()\n",
    " \n",
    "#     # calculate percentage accuracy\n",
    "#     # on validation set\n",
    "#     y_pred = model(X_test) \n",
    "#     lossv = criterion(y_pred, y_test)\n",
    "#     y_pred = th.argmax(y_pred, 1)\n",
    "#     error_validation = th.nn.functional.mse_loss(\n",
    "#         y_pred.float(), y_test.float())\n",
    "#     ### error on validation set next 60 samples / minutes\n",
    "\n",
    "#     loss_validation = lossv.item()\n",
    "#     loss_training = lossy.item()\n",
    "#     vloss.append(loss_validation)\n",
    "#     yloss.append(loss_training)\n",
    "   \n",
    "#     model.train()\n",
    "\n",
    "#     if lossv < best_lossv: # now loss for validation is smaller\n",
    "#         # lets save this network\n",
    "#         best_lossv = lossv\n",
    "#         best_lossy = lossy\n",
    "#         best_model = model.state_dict() # save the actual weights\n",
    "#         # to restore the weighst you use \n",
    "#         #model.load_state_dict(best_model\n",
    "    \n",
    "    \n",
    "    if epoch%int(maxepochs/10) == 0: \n",
    "        # with the absolute value of the training set\n",
    "        print(\"iteration : {:6d} l training: {:.2f}\".format(\n",
    "              epoch, loss))\n",
    "        #print(epoch, loss.item())"
   ]
  },
  {
   "cell_type": "code",
   "execution_count": null,
   "metadata": {},
   "outputs": [],
   "source": [
    "sample = X_t.view(60, batch_size, -1)\n",
    "sample.shape\n",
    "plt.figure(figsize=(15,3))\n",
    "plt.plot(losses, ',-', lw=0.3)"
   ]
  },
  {
   "cell_type": "code",
   "execution_count": 130,
   "metadata": {},
   "outputs": [
    {
     "data": {
      "text/plain": [
       "tensor([ 0,  0,  0,  0,  0,  0,  0,  0,  0,  0,  0,  0,  0,  0,\n",
       "         0,  0,  0,  0,  0,  0,  0,  0,  0,  0,  0,  0,  0,  0,\n",
       "         0,  0,  0,  0,  0,  0,  0,  0,  0,  0,  0,  0,  0,  0,\n",
       "         0,  0,  0,  0,  0,  0,  0,  0,  0,  0,  0,  0,  0,  0,\n",
       "         0,  0,  0,  0,  0,  0,  0,  0], device='cuda:0')"
      ]
     },
     "execution_count": 130,
     "metadata": {},
     "output_type": "execute_result"
    }
   ],
   "source": [
    "th.argmax(ypred, dim=1)"
   ]
  },
  {
   "cell_type": "code",
   "execution_count": 131,
   "metadata": {},
   "outputs": [
    {
     "data": {
      "text/plain": [
       "tensor([ 0,  0,  0,  0,  0,  0,  0,  0,  0,  0,  0,  0,  0,  0,\n",
       "         0,  0,  0,  0,  0,  0,  0,  0,  0,  0,  0,  0,  0,  0,\n",
       "         0,  0,  0,  0,  0,  0,  0,  0,  0,  0,  0,  0,  0,  1,\n",
       "         1,  1,  1,  0,  0,  0,  0,  1,  1,  1,  0,  0,  0,  0,\n",
       "         0,  0,  0,  0,  0,  0,  0,  0], device='cuda:0')"
      ]
     },
     "execution_count": 131,
     "metadata": {},
     "output_type": "execute_result"
    }
   ],
   "source": [
    "y_t"
   ]
  },
  {
   "cell_type": "markdown",
   "metadata": {},
   "source": [
    "## Encoder-Decoder Atettion RNN\n",
    "\n",
    "It is not exactly an attention RNN but has some of it features"
   ]
  },
  {
   "cell_type": "markdown",
   "metadata": {},
   "source": [
    "#### encoder receives 1 input\n",
    "1. An input that is (60, batch_size, 1)  price values bucketized (integers turned in floats)\n",
    "    * I will use the class floats directly as input (no embedding for now)"
   ]
  },
  {
   "cell_type": "code",
   "execution_count": 132,
   "metadata": {},
   "outputs": [
    {
     "data": {
      "text/plain": [
       "device(type='cuda')"
      ]
     },
     "execution_count": 132,
     "metadata": {},
     "output_type": "execute_result"
    }
   ],
   "source": [
    "device"
   ]
  },
  {
   "cell_type": "code",
   "execution_count": 211,
   "metadata": {},
   "outputs": [],
   "source": [
    "class EncoderRNN(nn.Module):\n",
    "    def __init__(self, input_dim, hidden_dim, nlayers=1, batch=1):\n",
    "        \"\"\"\n",
    "        num_xclasses : number of discrete (bucketized) classes representing the original float price values\n",
    "        embedding_dim : dimension of the hash that represents each value (embedding)\n",
    "        hidden_dim : hidden state size (keeps the relationship between the sequence values)\n",
    "        nlayers : number of stacked LSTM layers\n",
    "        out_size : dimension of output class \n",
    "        \"\"\"\n",
    "        super(EncoderRNN, self).__init__()\n",
    "        self.input_dim = input_dim\n",
    "        self.hidden_dim = hidden_dim\n",
    "        self.batch = batch\n",
    "        self.nlayers = nlayers\n",
    "        self.out = nn.GRU(input_dim, hidden_dim, self.nlayers) # nlayers = 2 stacked\n",
    "        self.hidden = self.init_hidden()\n",
    "\n",
    "    def init_hidden(self, batch_size=None):\n",
    "        batch_size = self.batch if batch_size == None else batch_size\n",
    "        return th.zeros(self.nlayers, batch_size, self.hidden_dim).to(device)\n",
    "    \n",
    "    def forward(self, input):    \n",
    "        ## input is (60, self.batch, input_dim)        \n",
    "        gru_out, self.hidden = self.out(\n",
    "            input.view(60, input.size(0), self.input_dim), self.hidden)\n",
    "        return gru_out, self.hidden\n",
    "        # output is \n",
    "        # (60, self.batch, hidden_dim)      \n",
    "        # making matrix multiplication by 'attention weights'\n",
    "        # not wasting \n",
    "        \n",
    "#         # just the last output of the sequence (60 length)\n",
    "#         # is what that matters for me (context vector)\n",
    "#         # print(lstm_out.shape)\n",
    "#         # entry is\n",
    "#         # (self.batch, hidden_dim)\n",
    "#         map_space = self.hidden2out(lstm_out[-1, :, :])\n",
    "#         # out is\n",
    "#         # (self.batch, 2 - outsize)\n",
    "#         class_scores = self.fout(map_space)\n",
    "#         return class_scores"
   ]
  },
  {
   "cell_type": "markdown",
   "metadata": {},
   "source": [
    "#### The decoder receives 3 inputs\n",
    "\n",
    "1. An additional input that is (60, batch_size, 1)  \n",
    "    * the previous 60 target class values  \n",
    "2. The last hidden state from the encoder is (1, batch_size, encoder_hidden_size)  \n",
    "3. The output's from the encoder is (60, batch_size, encoder_hidden_size)  "
   ]
  },
  {
   "cell_type": "code",
   "execution_count": 212,
   "metadata": {},
   "outputs": [],
   "source": [
    "# tutorial example is for single word per time (not a sequence) and no batches\n",
    "# i am modifying it to use a sequence as input and also batches\n",
    "class AttnDecoderRNN(nn.Module):\n",
    "    def __init__(self, ehidden_size, batch_size=64, input_size=60, output_size=2):\n",
    "        super(AttnDecoderRNN, self).__init__()\n",
    "        self.ehidden_size = ehidden_size\n",
    "        self.batch_size = batch_size\n",
    "        \n",
    "        # turn the input in the the same size as the encoder hidden size\n",
    "        self.tnorm = nn.Linear(input_size, self.ehidden_size) \n",
    "        self.dropout = nn.Dropout(0.1)\n",
    "        # cat between input (norm) + encoder hidden\n",
    "        self.softmax1 = nn.Softmax(dim=1)\n",
    "        # will combine the encoder hidden with the input to make the attention weights\n",
    "        self.attn = nn.Linear(self.ehidden_size * 2, 60)        \n",
    "        self.relu = nn.ReLU()\n",
    "        # reduce dimensionality to out_size\n",
    "        self.gout = nn.Linear(self.ehidden_size, output_size)\n",
    "        self.softmax2 = nn.Softmax(dim=1)\n",
    "#         self.dropout = nn.Dropout(0.1)\n",
    "#         self.gru = nn.GRU(self.hidden_size, self.hidden_size)\n",
    "#         self.out = nn.Linear(self.hidden_size, self.output_size)\n",
    "\n",
    "    def forward(self, input, e_hidden, e_out):\n",
    "        # input is (batch_size, 60)\n",
    "        # turn in the ehidden_size size\n",
    "        tnorm = self.tnorm(input.view(1, input.size(0), -1)) \n",
    "        tnorm = self.dropout(tnorm) # per example\n",
    "        #print(tnorm.shape)\n",
    "        #input_size = 60 # the input dimension is 60 that is y_t values        \n",
    "        #print(tnormout.shape)\n",
    "        #print(ehidden.shape)\n",
    "        mixhidden = th.cat((tnorm[0], ehidden[0]), 1)\n",
    "        #print(mixhidden.shape)\n",
    "        # turn attweights in weights of probabilities in each batch, summing 1.\n",
    "        attn_weights = self.softmax1(mixhidden) \n",
    "        #print(attn_weights.shape)\n",
    "        attn_weights = self.attn(attn_weights)        \n",
    "        # att weights applied on temporal outputs of encoder\n",
    "        attn_applied = th.bmm(attn_weights.view(input.size(0), 1, 60), \n",
    "                              eout.view(input.size(0), 60, self.ehidden_size))\n",
    "        attn_applied = self.relu(attn_applied.squeeze(1))\n",
    "        \n",
    "        # missing this part still the performance is awesomeee!!!!\n",
    "        # with 400 iterations\n",
    "        #output = torch.cat((embedded[0], attn_applied[0]), 1)\n",
    "        #output = self.attn_combine(output).unsqueeze(0)\n",
    "        \n",
    "        #print(attn_applied.shape)        \n",
    "        output = self.softmax2(self.gout(attn_applied))\n",
    "        return output\n",
    "\n",
    "#     def initHidden(self):\n",
    "#         return th.zeros(1, 1, self.hidden_size, device=device)"
   ]
  },
  {
   "cell_type": "code",
   "execution_count": 213,
   "metadata": {},
   "outputs": [],
   "source": [
    "hidden_dim=256"
   ]
  },
  {
   "cell_type": "code",
   "execution_count": 214,
   "metadata": {},
   "outputs": [],
   "source": [
    "# change here if you wish OPTIONS\n",
    "# shift=60\n",
    "nforecast=60\n",
    "nvalidation=nforecast # to validate the model prior prediction\n",
    "ntraining = 5*8*60 # 8 hours before for training\n",
    "nwindow = nvalidation+nforecast+ntraining \n",
    "batch_size=32"
   ]
  },
  {
   "cell_type": "markdown",
   "metadata": {},
   "source": [
    "### Need to change here. \n",
    "\n",
    "Change the additional input to be the price of the last 60 minutes  \n",
    "and the input be the N endogenous series"
   ]
  },
  {
   "cell_type": "code",
   "execution_count": 215,
   "metadata": {},
   "outputs": [
    {
     "data": {
      "text/plain": [
       "(80000, 120)"
      ]
     },
     "execution_count": 215,
     "metadata": {},
     "output_type": "execute_result"
    }
   ],
   "source": [
    "X.shape"
   ]
  },
  {
   "cell_type": "code",
   "execution_count": 216,
   "metadata": {},
   "outputs": [],
   "source": [
    "def EncoderDecoderRandomBatch(X, y, batch_size=12):\n",
    "    i = random.randint(60, len(X) - 1 - batch_size)    \n",
    "    Xe_batches = th.tensor([ X[i-59:i+1] for i in range(i, i+batch_size)], dtype=th.float) # input encoder    \n",
    "    # teach forcing? additional input is the last 60 minutes of the targe PETR4 action\n",
    "    # input for decoder previous 60 targets\n",
    "    yd_batches = th.tensor([ X[i-60:i, 0] for i in range(i, i+batch_size)], dtype=th.float) \n",
    "    y_batches = th.tensor(y[i:i+batch_size], dtype=th.long)  # target class\n",
    "    return Xe_batches.to(device), yd_batches.to(device), y_batches.to(device)"
   ]
  },
  {
   "cell_type": "code",
   "execution_count": 217,
   "metadata": {},
   "outputs": [],
   "source": [
    "def TestSample(X, y, i, batch_size=12):\n",
    "    Xe_batches = th.tensor([ X[i-59:i+1] for i in range(i, i+batch_size)], dtype=th.float) # input encoder    \n",
    "    # teach forcing? additional input is the last 60 minutes of the targe PETR4 action\n",
    "    # input for decoder previous 60 targets\n",
    "    yd_batches = th.tensor([ X[i-60:i, 0] for i in range(i, i+batch_size)], dtype=th.float) \n",
    "    y_batches = th.tensor(y[i:i+batch_size], dtype=th.long)  # target class\n",
    "    return Xe_batches.to(device), yd_batches.to(device), y_batches.to(device)"
   ]
  },
  {
   "cell_type": "code",
   "execution_count": 218,
   "metadata": {},
   "outputs": [
    {
     "name": "stdout",
     "output_type": "stream",
     "text": [
      "iteration :      0 l training: 0.71 l validation: 0.66\n",
      "iteration :     50 l training: 0.57 l validation: 0.85\n",
      "iteration :    100 l training: 0.44 l validation: 1.02\n",
      "iteration :    150 l training: 0.67 l validation: 1.06\n",
      "iteration :    200 l training: 0.38 l validation: 1.06\n",
      "iteration :    250 l training: 0.31 l validation: 0.64\n",
      "iteration :    300 l training: 0.32 l validation: 0.75\n",
      "iteration :    350 l training: 0.35 l validation: 0.69\n",
      "iteration :    400 l training: 0.80 l validation: 0.68\n",
      "iteration :    450 l training: 0.31 l validation: 0.68\n",
      "CPU times: user 9.67 s, sys: 413 ms, total: 10.1 s\n",
      "Wall time: 10.1 s\n"
     ]
    }
   ],
   "source": [
    "%%time\n",
    "hidden_dim=256\n",
    "encoder = EncoderRNN(input_dim=120, hidden_dim=hidden_dim, batch=batch_size)\n",
    "encoder = encoder.to(device)\n",
    "decoder = AttnDecoderRNN(hidden_dim, batch_size=batch_size)\n",
    "decoder = decoder.to(device)\n",
    "loss_function = nn.CrossEntropyLoss()\n",
    "eoptimizer = th.optim.Adagrad(encoder.parameters(), lr=0.007)\n",
    "doptimizer = th.optim.Adagrad(decoder.parameters(), lr=0.008)\n",
    "\n",
    "yloss = [] # loss in training data set\n",
    "vloss = [] # loss in the validation data set\n",
    "best_lossv = 1000\n",
    "best_model = None\n",
    "best_lossy = 1000\n",
    "\n",
    "begin=15\n",
    "starti = begin\n",
    "endi = begin+ntraining\n",
    "\n",
    "# 60 samples for validation 59 after the last samples\n",
    "Xe_v, yd_v, y_v = TestSample(X, y, endi+61, 60)\n",
    "\n",
    "maxepochs=500\n",
    "for epoch in range(maxepochs):  \n",
    "    Xe_t, yd_t, y_t = EncoderDecoderRandomBatch(X[starti:endi], y[starti:endi], batch_size=batch_size)\n",
    "\n",
    "    encoder.zero_grad()\n",
    "    decoder.zero_grad()\n",
    "    \n",
    "    encoder.hidden = encoder.init_hidden()    \n",
    "    # all the outputs + the last hidden state\n",
    "    eout, ehidden = encoder(Xe_t.float()) \n",
    "    ypred = decoder(yd_t.float(), ehidden, eout)\n",
    "    lossy = loss_function(ypred, y_t)\n",
    "\n",
    "    lossy.backward()    \n",
    "    eoptimizer.step()    \n",
    "    doptimizer.step()    \n",
    "    \n",
    "    yloss.append(lossy.item())   \n",
    "    \n",
    "    encoder.eval()\n",
    "    decoder.eval()\n",
    "    \n",
    "    # the validation batch is of 60 samples\n",
    "    encoder.hidden = encoder.init_hidden(batch_size=60)    \n",
    "    # all the outputs + the last hidden state\n",
    "    eout, ehidden = encoder(Xe_v.float()) \n",
    "    ypred = decoder(yd_v.float(), ehidden, eout)\n",
    "    lossv = loss_function(ypred, y_v)\n",
    "    \n",
    "    vloss.append(lossv.item())\n",
    "    \n",
    "    encoder.train()\n",
    "    decoder.train()\n",
    "    \n",
    "    if epoch%int(maxepochs/10) == 0: \n",
    "        \n",
    "        # with the absolute value of the training set\n",
    "        print(\"iteration : {:6d} l training: {:.2f} l validation: {:.2f}\".format(\n",
    "              epoch, lossy, lossv))\n",
    "        #print(epoch, loss.item())"
   ]
  },
  {
   "cell_type": "code",
   "execution_count": 219,
   "metadata": {
    "scrolled": true
   },
   "outputs": [
    {
     "data": {
      "text/plain": [
       "2415"
      ]
     },
     "execution_count": 219,
     "metadata": {},
     "output_type": "execute_result"
    }
   ],
   "source": [
    "endi"
   ]
  },
  {
   "cell_type": "code",
   "execution_count": 220,
   "metadata": {},
   "outputs": [
    {
     "data": {
      "text/plain": [
       "2475"
      ]
     },
     "execution_count": 220,
     "metadata": {},
     "output_type": "execute_result"
    }
   ],
   "source": [
    "endi+60"
   ]
  },
  {
   "cell_type": "code",
   "execution_count": 221,
   "metadata": {},
   "outputs": [
    {
     "data": {
      "text/plain": [
       "[<matplotlib.lines.Line2D at 0x7f4f6d80d4a8>]"
      ]
     },
     "execution_count": 221,
     "metadata": {},
     "output_type": "execute_result"
    },
    {
     "data": {
      "image/png": "[encoded data removed]",
      "text/plain": [
       "<Figure size 1080x216 with 1 Axes>"
      ]
     },
     "metadata": {},
     "output_type": "display_data"
    },
    {
     "data": {
      "image/png": "[encoded data removed]",
      "text/plain": [
       "<Figure size 1080x216 with 1 Axes>"
      ]
     },
     "metadata": {},
     "output_type": "display_data"
    }
   ],
   "source": [
    "plt.figure(figsize=(15,3))\n",
    "plt.plot(y[endi-200:endi+122])\n",
    "plt.figure(figsize=(15,3))\n",
    "plt.plot(X[endi-200:endi+122, 0])"
   ]
  },
  {
   "cell_type": "code",
   "execution_count": 222,
   "metadata": {},
   "outputs": [
    {
     "data": {
      "text/plain": [
       "[<matplotlib.lines.Line2D at 0x7f4f6d865b70>]"
      ]
     },
     "execution_count": 222,
     "metadata": {},
     "output_type": "execute_result"
    },
    {
     "data": {
      "image/png": "[encoded data removed]",
      "text/plain": [
       "<Figure size 1080x216 with 1 Axes>"
      ]
     },
     "metadata": {},
     "output_type": "display_data"
    }
   ],
   "source": [
    "plt.figure(figsize=(15,3))\n",
    "plt.plot(th.argmax(ypred, dim=1).to(\"cpu\").data.numpy(), '-b.', lw=.6)\n",
    "plt.plot(y_v.to(\"cpu\").data.numpy(), '-r.', markersize=0.5, lw=1.5)\n",
    "#plt.xlim(0, 200"
   ]
  },
  {
   "cell_type": "code",
   "execution_count": 223,
   "metadata": {},
   "outputs": [
    {
     "data": {
      "text/plain": [
       "[<matplotlib.lines.Line2D at 0x7f51310064a8>]"
      ]
     },
     "execution_count": 223,
     "metadata": {},
     "output_type": "execute_result"
    },
    {
     "data": {
      "image/png": "[encoded data removed]",
      "text/plain": [
       "<Figure size 1080x216 with 1 Axes>"
      ]
     },
     "metadata": {},
     "output_type": "display_data"
    }
   ],
   "source": [
    "#sample = X_t.view(60, batch_size, -1)\n",
    "#sample.shape\n",
    "plt.figure(figsize=(15,3))\n",
    "plt.plot(vloss, ',-', lw=0.3)\n",
    "plt.plot(yloss, ',-', lw=0.3)"
   ]
  },
  {
   "cell_type": "code",
   "execution_count": 224,
   "metadata": {},
   "outputs": [
    {
     "data": {
      "text/plain": [
       "tensor([ 0,  0,  0,  0,  0,  0,  0,  0,  0,  0,  0,  0,  0,  0,\n",
       "         0,  0,  0,  0,  0,  0,  0,  0,  0,  0,  0,  0,  0,  0,\n",
       "         0,  0,  0,  0,  0,  0,  0,  0,  0,  0,  0,  0,  0,  0,\n",
       "         0,  1,  1,  1,  1,  1,  1,  1,  1,  1,  1,  1,  1,  1,\n",
       "         1,  1,  1,  1], device='cuda:0')"
      ]
     },
     "execution_count": 224,
     "metadata": {},
     "output_type": "execute_result"
    }
   ],
   "source": [
    "th.argmax(ypred, dim=1)"
   ]
  },
  {
   "cell_type": "code",
   "execution_count": 225,
   "metadata": {},
   "outputs": [
    {
     "data": {
      "text/plain": [
       "tensor([ 0,  0,  0,  0,  0,  0,  0,  0,  0,  0,  0,  0,  0,  0,\n",
       "         0,  0,  1,  1,  1,  1,  1,  1,  1,  1,  1,  1,  1,  1,\n",
       "         1,  1,  1,  1,  1,  1,  1,  1,  1,  1,  1,  1,  1,  1,\n",
       "         1,  1,  1,  1,  1,  1,  1,  1,  1,  1,  1,  1,  1,  1,\n",
       "         1,  1,  1,  1], device='cuda:0')"
      ]
     },
     "execution_count": 225,
     "metadata": {},
     "output_type": "execute_result"
    }
   ],
   "source": [
    "y_v"
   ]
  },
  {
   "cell_type": "code",
   "execution_count": null,
   "metadata": {
    "collapsed": true
   },
   "outputs": [],
   "source": []
  }
 ],
 "metadata": {
  "anaconda-cloud": {},
  "kernelspec": {
   "display_name": "Python 3",
   "language": "python",
   "name": "python3"
  },
  "language_info": {
   "codemirror_mode": {
    "name": "ipython",
    "version": 3
   },
   "file_extension": ".py",
   "mimetype": "text/x-python",
   "name": "python",
   "nbconvert_exporter": "python",
   "pygments_lexer": "ipython3",
   "version": "3.6.5"
  }
 },
 "nbformat": 4,
 "nbformat_minor": 1
}
