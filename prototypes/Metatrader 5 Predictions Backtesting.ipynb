{
 "cells": [
  {
   "cell_type": "code",
   "execution_count": 45,
   "metadata": {},
   "outputs": [
    {
     "name": "stdout",
     "output_type": "stream",
     "text": [
      "/home/andre/Projects/stocks/data\n"
     ]
    }
   ],
   "source": [
    "cd /home/andre/Projects/stocks/data"
   ]
  },
  {
   "cell_type": "code",
   "execution_count": 46,
   "metadata": {},
   "outputs": [],
   "source": [
    "import pandas as pd\n",
    "import numpy as np\n",
    "import datetime\n",
    "import calendar\n",
    "import time\n",
    "import struct"
   ]
  },
  {
   "cell_type": "code",
   "execution_count": 47,
   "metadata": {},
   "outputs": [],
   "source": [
    "predictions = pd.read_pickle('4k_daemon.pickle')"
   ]
  },
  {
   "cell_type": "code",
   "execution_count": 48,
   "metadata": {},
   "outputs": [
    {
     "data": {
      "text/html": [
       "<div>\n",
       "<style scoped>\n",
       "    .dataframe tbody tr th:only-of-type {\n",
       "        vertical-align: middle;\n",
       "    }\n",
       "\n",
       "    .dataframe tbody tr th {\n",
       "        vertical-align: top;\n",
       "    }\n",
       "\n",
       "    .dataframe thead th {\n",
       "        text-align: right;\n",
       "    }\n",
       "</style>\n",
       "<table border=\"1\" class=\"dataframe\">\n",
       "  <thead>\n",
       "    <tr style=\"text-align: right;\">\n",
       "      <th></th>\n",
       "      <th>ypred</th>\n",
       "    </tr>\n",
       "    <tr>\n",
       "      <th>indx</th>\n",
       "      <th></th>\n",
       "    </tr>\n",
       "  </thead>\n",
       "  <tbody>\n",
       "    <tr>\n",
       "      <th>2013-12-16 12:29:00</th>\n",
       "      <td>-1</td>\n",
       "    </tr>\n",
       "    <tr>\n",
       "      <th>2013-12-16 12:32:00</th>\n",
       "      <td>-1</td>\n",
       "    </tr>\n",
       "    <tr>\n",
       "      <th>2013-12-16 12:37:00</th>\n",
       "      <td>-1</td>\n",
       "    </tr>\n",
       "    <tr>\n",
       "      <th>2013-12-16 12:38:00</th>\n",
       "      <td>-1</td>\n",
       "    </tr>\n",
       "    <tr>\n",
       "      <th>2013-12-16 13:01:00</th>\n",
       "      <td>-1</td>\n",
       "    </tr>\n",
       "  </tbody>\n",
       "</table>\n",
       "</div>"
      ],
      "text/plain": [
       "                     ypred\n",
       "indx                      \n",
       "2013-12-16 12:29:00     -1\n",
       "2013-12-16 12:32:00     -1\n",
       "2013-12-16 12:37:00     -1\n",
       "2013-12-16 12:38:00     -1\n",
       "2013-12-16 13:01:00     -1"
      ]
     },
     "execution_count": 48,
     "metadata": {},
     "output_type": "execute_result"
    }
   ],
   "source": [
    "predictions.head()"
   ]
  },
  {
   "cell_type": "code",
   "execution_count": 49,
   "metadata": {},
   "outputs": [
    {
     "data": {
      "text/plain": [
       "array([[<matplotlib.axes._subplots.AxesSubplot object at 0x7f3f1f762438>]],\n",
       "      dtype=object)"
      ]
     },
     "execution_count": 49,
     "metadata": {},
     "output_type": "execute_result"
    },
    {
     "data": {
      "image/png": "[encoded data removed]",
      "text/plain": [
       "<Figure size 432x288 with 1 Axes>"
      ]
     },
     "metadata": {
      "needs_background": "light"
     },
     "output_type": "display_data"
    }
   ],
   "source": [
    "predictions.hist()"
   ]
  },
  {
   "cell_type": "code",
   "execution_count": 50,
   "metadata": {},
   "outputs": [],
   "source": [
    "%matplotlib inline"
   ]
  },
  {
   "cell_type": "code",
   "execution_count": 51,
   "metadata": {},
   "outputs": [],
   "source": [
    "# predictions.hist()"
   ]
  },
  {
   "cell_type": "markdown",
   "metadata": {},
   "source": [
    "**Create a predictions file with  {date, direction} array**"
   ]
  },
  {
   "cell_type": "code",
   "execution_count": 52,
   "metadata": {},
   "outputs": [],
   "source": [
    "# create long datetime\n",
    "predictions['datetime'] = list(map(lambda x: calendar.timegm(x.timetuple()), predictions.index))\n",
    "predictions.datetime = predictions.datetime.astype(np.int64)\n",
    "predictions.ypred = predictions.ypred.astype(np.int32)"
   ]
  },
  {
   "cell_type": "code",
   "execution_count": 53,
   "metadata": {},
   "outputs": [
    {
     "data": {
      "text/html": [
       "<div>\n",
       "<style scoped>\n",
       "    .dataframe tbody tr th:only-of-type {\n",
       "        vertical-align: middle;\n",
       "    }\n",
       "\n",
       "    .dataframe tbody tr th {\n",
       "        vertical-align: top;\n",
       "    }\n",
       "\n",
       "    .dataframe thead th {\n",
       "        text-align: right;\n",
       "    }\n",
       "</style>\n",
       "<table border=\"1\" class=\"dataframe\">\n",
       "  <thead>\n",
       "    <tr style=\"text-align: right;\">\n",
       "      <th></th>\n",
       "      <th>ypred</th>\n",
       "      <th>datetime</th>\n",
       "    </tr>\n",
       "    <tr>\n",
       "      <th>indx</th>\n",
       "      <th></th>\n",
       "      <th></th>\n",
       "    </tr>\n",
       "  </thead>\n",
       "  <tbody>\n",
       "    <tr>\n",
       "      <th>2013-12-16 12:29:00</th>\n",
       "      <td>-1</td>\n",
       "      <td>1387196940</td>\n",
       "    </tr>\n",
       "    <tr>\n",
       "      <th>2013-12-16 12:32:00</th>\n",
       "      <td>-1</td>\n",
       "      <td>1387197120</td>\n",
       "    </tr>\n",
       "    <tr>\n",
       "      <th>2013-12-16 12:37:00</th>\n",
       "      <td>-1</td>\n",
       "      <td>1387197420</td>\n",
       "    </tr>\n",
       "    <tr>\n",
       "      <th>2013-12-16 12:38:00</th>\n",
       "      <td>-1</td>\n",
       "      <td>1387197480</td>\n",
       "    </tr>\n",
       "    <tr>\n",
       "      <th>2013-12-16 13:01:00</th>\n",
       "      <td>-1</td>\n",
       "      <td>1387198860</td>\n",
       "    </tr>\n",
       "  </tbody>\n",
       "</table>\n",
       "</div>"
      ],
      "text/plain": [
       "                     ypred    datetime\n",
       "indx                                  \n",
       "2013-12-16 12:29:00     -1  1387196940\n",
       "2013-12-16 12:32:00     -1  1387197120\n",
       "2013-12-16 12:37:00     -1  1387197420\n",
       "2013-12-16 12:38:00     -1  1387197480\n",
       "2013-12-16 13:01:00     -1  1387198860"
      ]
     },
     "execution_count": 53,
     "metadata": {},
     "output_type": "execute_result"
    }
   ],
   "source": [
    "predictions[:5]"
   ]
  },
  {
   "cell_type": "code",
   "execution_count": 54,
   "metadata": {},
   "outputs": [
    {
     "data": {
      "text/html": [
       "<div>\n",
       "<style scoped>\n",
       "    .dataframe tbody tr th:only-of-type {\n",
       "        vertical-align: middle;\n",
       "    }\n",
       "\n",
       "    .dataframe tbody tr th {\n",
       "        vertical-align: top;\n",
       "    }\n",
       "\n",
       "    .dataframe thead th {\n",
       "        text-align: right;\n",
       "    }\n",
       "</style>\n",
       "<table border=\"1\" class=\"dataframe\">\n",
       "  <thead>\n",
       "    <tr style=\"text-align: right;\">\n",
       "      <th></th>\n",
       "      <th>ypred</th>\n",
       "      <th>datetime</th>\n",
       "    </tr>\n",
       "    <tr>\n",
       "      <th>indx</th>\n",
       "      <th></th>\n",
       "      <th></th>\n",
       "    </tr>\n",
       "  </thead>\n",
       "  <tbody>\n",
       "    <tr>\n",
       "      <th>2014-01-02 12:23:00</th>\n",
       "      <td>-1</td>\n",
       "      <td>1388665380</td>\n",
       "    </tr>\n",
       "    <tr>\n",
       "      <th>2014-01-02 12:33:00</th>\n",
       "      <td>-3</td>\n",
       "      <td>1388665980</td>\n",
       "    </tr>\n",
       "    <tr>\n",
       "      <th>2014-01-02 12:41:00</th>\n",
       "      <td>1</td>\n",
       "      <td>1388666460</td>\n",
       "    </tr>\n",
       "    <tr>\n",
       "      <th>2014-01-02 13:44:00</th>\n",
       "      <td>-2</td>\n",
       "      <td>1388670240</td>\n",
       "    </tr>\n",
       "    <tr>\n",
       "      <th>2014-01-02 14:53:00</th>\n",
       "      <td>1</td>\n",
       "      <td>1388674380</td>\n",
       "    </tr>\n",
       "  </tbody>\n",
       "</table>\n",
       "</div>"
      ],
      "text/plain": [
       "                     ypred    datetime\n",
       "indx                                  \n",
       "2014-01-02 12:23:00     -1  1388665380\n",
       "2014-01-02 12:33:00     -3  1388665980\n",
       "2014-01-02 12:41:00      1  1388666460\n",
       "2014-01-02 13:44:00     -2  1388670240\n",
       "2014-01-02 14:53:00      1  1388674380"
      ]
     },
     "execution_count": 54,
     "metadata": {},
     "output_type": "execute_result"
    }
   ],
   "source": [
    "predictions.tail()"
   ]
  },
  {
   "cell_type": "code",
   "execution_count": 55,
   "metadata": {},
   "outputs": [
    {
     "data": {
      "text/plain": [
       "62"
      ]
     },
     "execution_count": 55,
     "metadata": {},
     "output_type": "execute_result"
    }
   ],
   "source": [
    "len(predictions)"
   ]
  },
  {
   "cell_type": "code",
   "execution_count": 57,
   "metadata": {
    "scrolled": true
   },
   "outputs": [
    {
     "name": "stdout",
     "output_type": "stream",
     "text": [
      "/home/andre/.wine/drive_c/users/andre/Application Data/MetaQuotes/Terminal/Common/Files\n"
     ]
    }
   ],
   "source": [
    "cd /home/andre/.wine/drive_c/users/andre/Application Data/MetaQuotes/Terminal/Common/Files"
   ]
  },
  {
   "cell_type": "code",
   "execution_count": 58,
   "metadata": {},
   "outputs": [],
   "source": [
    "# Writing a prediction for mql5 read\n",
    "# https://docs.python.org/2/library/struct.html\n",
    "with open('test_predictions.bin','wb') as f:\n",
    "    # struct of long and int 8+4 = 12 bytes\n",
    "    for i in range(len(predictions)):\n",
    "        dbytes = struct.pack('<Qi', predictions.datetime.iloc[i], predictions.ypred.iloc[i])\n",
    "        f.write(dbytes)"
   ]
  },
  {
   "cell_type": "code",
   "execution_count": 59,
   "metadata": {},
   "outputs": [
    {
     "data": {
      "text/plain": [
       "62"
      ]
     },
     "execution_count": 59,
     "metadata": {},
     "output_type": "execute_result"
    }
   ],
   "source": [
    "len(predictions)"
   ]
  },
  {
   "cell_type": "code",
   "execution_count": null,
   "metadata": {},
   "outputs": [],
   "source": []
  }
 ],
 "metadata": {
  "kernelspec": {
   "display_name": "Python 3",
   "language": "python",
   "name": "python3"
  },
  "language_info": {
   "codemirror_mode": {
    "name": "ipython",
    "version": 3
   },
   "file_extension": ".py",
   "mimetype": "text/x-python",
   "name": "python",
   "nbconvert_exporter": "python",
   "pygments_lexer": "ipython3",
   "version": "3.6.7"
  }
 },
 "nbformat": 4,
 "nbformat_minor": 2
}
