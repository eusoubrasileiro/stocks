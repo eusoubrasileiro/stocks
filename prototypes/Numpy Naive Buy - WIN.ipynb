{
 "cells": [
  {
   "cell_type": "code",
   "execution_count": 1,
   "metadata": {},
   "outputs": [],
   "source": [
    "%matplotlib inline "
   ]
  },
  {
   "cell_type": "code",
   "execution_count": 2,
   "metadata": {},
   "outputs": [
    {
     "data": {
      "text/plain": [
       "'/home/andre/Projects/stocks/prototypes'"
      ]
     },
     "execution_count": 2,
     "metadata": {},
     "output_type": "execute_result"
    }
   ],
   "source": [
    "pwd"
   ]
  },
  {
   "cell_type": "code",
   "execution_count": 3,
   "metadata": {},
   "outputs": [
    {
     "name": "stdout",
     "output_type": "stream",
     "text": [
      "/home/andre/Projects/stocks\n"
     ]
    }
   ],
   "source": [
    "cd .."
   ]
  },
  {
   "cell_type": "code",
   "execution_count": 4,
   "metadata": {},
   "outputs": [
    {
     "name": "stderr",
     "output_type": "stream",
     "text": [
      "/home/andre/anaconda3/lib/python3.6/site-packages/sklearn/ensemble/weight_boosting.py:29: DeprecationWarning: numpy.core.umath_tests is an internal NumPy module and should not be imported. It will be removed in a future NumPy release.\n",
      "  from numpy.core.umath_tests import inner1d\n"
     ]
    }
   ],
   "source": [
    "from matplotlib import pyplot as plt\n",
    "import os\n",
    "import sys\n",
    "import pandas as pd\n",
    "import numpy as np\n",
    "import struct\n",
    "import datetime\n",
    "import calendar\n",
    "import time\n",
    "import argparse\n",
    "import seaborn as sns\n",
    "from algos import meta5Ibov\n",
    "from algos.util import progressbar\n",
    "from algos import meta5Ibov, bbands3, bbands2\n",
    "import importlib\n",
    "from matplotlib import pyplot as plt\n",
    "from sklearn.ensemble import ExtraTreesClassifier\n",
    "from sklearn import svm\n",
    "import scipy\n",
    "import talib as ta\n",
    "from numba import jit\n",
    "import importlib"
   ]
  },
  {
   "cell_type": "code",
   "execution_count": 5,
   "metadata": {},
   "outputs": [
    {
     "name": "stdout",
     "output_type": "stream",
     "text": [
      "/home/andre/Projects/stocks/data\n"
     ]
    }
   ],
   "source": [
    "cd data"
   ]
  },
  {
   "cell_type": "code",
   "execution_count": 6,
   "metadata": {},
   "outputs": [
    {
     "name": "stderr",
     "output_type": "stream",
     "text": [
      "Master data loaded size (minutes):  509471\n",
      "symbols loaded:\n",
      "['BBAS3' 'DOL$' 'VALE3' 'ABEV3' 'ITUB4' 'B3SA3' 'BBDC4' 'PETR4' 'WIN@']\n"
     ]
    }
   ],
   "source": [
    "# meta5Ibov.setDataPath(r'C:\\\\Users\\\\alferreira\\\\Documents\\\\stocks\\\\data', \n",
    "#                      r'C:\\\\Users\\\\alferreira\\\\Documents\\\\stocks\\\\data')\n",
    "meta5Ibov.setDataPath(r'/home/andre/Projects/stocks/data', \n",
    "                        r'/home/andre/Projects/stocks/data')\n"
   ]
  },
  {
   "cell_type": "code",
   "execution_count": 7,
   "metadata": {},
   "outputs": [
    {
     "data": {
      "text/plain": [
       "0    BBAS3\n",
       "1     DOL$\n",
       "2    VALE3\n",
       "3    ABEV3\n",
       "4    ITUB4\n",
       "5    B3SA3\n",
       "6    BBDC4\n",
       "7    PETR4\n",
       "8     WIN@\n",
       "dtype: object"
      ]
     },
     "execution_count": 7,
     "metadata": {},
     "output_type": "execute_result"
    }
   ],
   "source": [
    "meta5Ibov.symbols"
   ]
  },
  {
   "cell_type": "code",
   "execution_count": 8,
   "metadata": {},
   "outputs": [
    {
     "name": "stderr",
     "output_type": "stream",
     "text": [
      "Using previous loaded data!\n"
     ]
    }
   ],
   "source": [
    "loaded = meta5Ibov.loadMeta5Data(suffix='M1.mt5bin', verbose=False)\n",
    "bars = meta5Ibov.getSymbol('WIN@')"
   ]
  },
  {
   "cell_type": "code",
   "execution_count": 9,
   "metadata": {},
   "outputs": [
    {
     "data": {
      "text/html": [
       "<div>\n",
       "<style scoped>\n",
       "    .dataframe tbody tr th:only-of-type {\n",
       "        vertical-align: middle;\n",
       "    }\n",
       "\n",
       "    .dataframe tbody tr th {\n",
       "        vertical-align: top;\n",
       "    }\n",
       "\n",
       "    .dataframe thead th {\n",
       "        text-align: right;\n",
       "    }\n",
       "</style>\n",
       "<table border=\"1\" class=\"dataframe\">\n",
       "  <thead>\n",
       "    <tr style=\"text-align: right;\">\n",
       "      <th></th>\n",
       "      <th>O</th>\n",
       "      <th>H</th>\n",
       "      <th>L</th>\n",
       "      <th>C</th>\n",
       "      <th>TV</th>\n",
       "      <th>S</th>\n",
       "      <th>RV</th>\n",
       "    </tr>\n",
       "    <tr>\n",
       "      <th>time</th>\n",
       "      <th></th>\n",
       "      <th></th>\n",
       "      <th></th>\n",
       "      <th></th>\n",
       "      <th></th>\n",
       "      <th></th>\n",
       "      <th></th>\n",
       "    </tr>\n",
       "  </thead>\n",
       "  <tbody>\n",
       "    <tr>\n",
       "      <th>2014-01-02 10:06:00</th>\n",
       "      <td>80088.0</td>\n",
       "      <td>80118.0</td>\n",
       "      <td>80049.0</td>\n",
       "      <td>80088.0</td>\n",
       "      <td>1690</td>\n",
       "      <td>1</td>\n",
       "      <td>481</td>\n",
       "    </tr>\n",
       "    <tr>\n",
       "      <th>2014-01-02 10:07:00</th>\n",
       "      <td>80080.0</td>\n",
       "      <td>80080.0</td>\n",
       "      <td>80034.0</td>\n",
       "      <td>80049.0</td>\n",
       "      <td>670</td>\n",
       "      <td>1</td>\n",
       "      <td>184</td>\n",
       "    </tr>\n",
       "    <tr>\n",
       "      <th>2014-01-02 10:08:00</th>\n",
       "      <td>80041.0</td>\n",
       "      <td>80057.0</td>\n",
       "      <td>80010.0</td>\n",
       "      <td>80049.0</td>\n",
       "      <td>690</td>\n",
       "      <td>1</td>\n",
       "      <td>139</td>\n",
       "    </tr>\n",
       "    <tr>\n",
       "      <th>2014-01-02 10:09:00</th>\n",
       "      <td>80049.0</td>\n",
       "      <td>80049.0</td>\n",
       "      <td>80018.0</td>\n",
       "      <td>80026.0</td>\n",
       "      <td>210</td>\n",
       "      <td>1</td>\n",
       "      <td>43</td>\n",
       "    </tr>\n",
       "    <tr>\n",
       "      <th>2014-01-02 10:10:00</th>\n",
       "      <td>80034.0</td>\n",
       "      <td>80041.0</td>\n",
       "      <td>79632.0</td>\n",
       "      <td>79725.0</td>\n",
       "      <td>4740</td>\n",
       "      <td>1</td>\n",
       "      <td>1638</td>\n",
       "    </tr>\n",
       "  </tbody>\n",
       "</table>\n",
       "</div>"
      ],
      "text/plain": [
       "                           O        H        L        C    TV  S    RV\n",
       "time                                                                  \n",
       "2014-01-02 10:06:00  80088.0  80118.0  80049.0  80088.0  1690  1   481\n",
       "2014-01-02 10:07:00  80080.0  80080.0  80034.0  80049.0   670  1   184\n",
       "2014-01-02 10:08:00  80041.0  80057.0  80010.0  80049.0   690  1   139\n",
       "2014-01-02 10:09:00  80049.0  80049.0  80018.0  80026.0   210  1    43\n",
       "2014-01-02 10:10:00  80034.0  80041.0  79632.0  79725.0  4740  1  1638"
      ]
     },
     "execution_count": 9,
     "metadata": {},
     "output_type": "execute_result"
    }
   ],
   "source": [
    "bars.head()"
   ]
  },
  {
   "cell_type": "code",
   "execution_count": 10,
   "metadata": {},
   "outputs": [
    {
     "data": {
      "text/plain": [
       "(509471, 7)"
      ]
     },
     "execution_count": 10,
     "metadata": {},
     "output_type": "execute_result"
    }
   ],
   "source": [
    "bars.shape"
   ]
  },
  {
   "cell_type": "code",
   "execution_count": 11,
   "metadata": {},
   "outputs": [
    {
     "data": {
      "text/plain": [
       "array([2, 0, 1])"
      ]
     },
     "execution_count": 11,
     "metadata": {},
     "output_type": "execute_result"
    }
   ],
   "source": [
    "np.diff([1, 3, 3, 4])"
   ]
  },
  {
   "cell_type": "code",
   "execution_count": 12,
   "metadata": {
    "scrolled": true
   },
   "outputs": [],
   "source": [
    "bars.loc[:, 'emaH'] = ta.EMA(bars.H.values, 3)\n",
    "bars.loc[:, 'emaL'] = ta.EMA(bars.L.values, 3)\n",
    "bars.loc[1:, 'dH1'] = np.diff(bars.emaH)\n",
    "#bars.loc[2:, 'dH2'] = np.diff(bars.emaH, 2)\n",
    "bars.loc[1:, 'dL1'] = np.diff(bars.emaL)\n",
    "#bars.loc[2:, 'dL2'] = np.diff(bars.emaL, 2)\n",
    "bars.loc[:, 'stdH'] = ta.STDDEV(bars.H.values, 3)\n",
    "bars.loc[:, 'stdL'] = ta.STDDEV(bars.L.values, 3)"
   ]
  },
  {
   "cell_type": "code",
   "execution_count": 13,
   "metadata": {},
   "outputs": [
    {
     "data": {
      "text/html": [
       "<div>\n",
       "<style scoped>\n",
       "    .dataframe tbody tr th:only-of-type {\n",
       "        vertical-align: middle;\n",
       "    }\n",
       "\n",
       "    .dataframe tbody tr th {\n",
       "        vertical-align: top;\n",
       "    }\n",
       "\n",
       "    .dataframe thead th {\n",
       "        text-align: right;\n",
       "    }\n",
       "</style>\n",
       "<table border=\"1\" class=\"dataframe\">\n",
       "  <thead>\n",
       "    <tr style=\"text-align: right;\">\n",
       "      <th></th>\n",
       "      <th>O</th>\n",
       "      <th>H</th>\n",
       "      <th>L</th>\n",
       "      <th>C</th>\n",
       "      <th>TV</th>\n",
       "      <th>S</th>\n",
       "      <th>RV</th>\n",
       "      <th>emaH</th>\n",
       "      <th>emaL</th>\n",
       "      <th>dH1</th>\n",
       "      <th>dL1</th>\n",
       "      <th>stdH</th>\n",
       "      <th>stdL</th>\n",
       "    </tr>\n",
       "    <tr>\n",
       "      <th>time</th>\n",
       "      <th></th>\n",
       "      <th></th>\n",
       "      <th></th>\n",
       "      <th></th>\n",
       "      <th></th>\n",
       "      <th></th>\n",
       "      <th></th>\n",
       "      <th></th>\n",
       "      <th></th>\n",
       "      <th></th>\n",
       "      <th></th>\n",
       "      <th></th>\n",
       "      <th></th>\n",
       "    </tr>\n",
       "  </thead>\n",
       "  <tbody>\n",
       "    <tr>\n",
       "      <th>2019-01-17 12:35:00</th>\n",
       "      <td>94780.0</td>\n",
       "      <td>94820.0</td>\n",
       "      <td>94770.0</td>\n",
       "      <td>94770.0</td>\n",
       "      <td>5053</td>\n",
       "      <td>0</td>\n",
       "      <td>19618</td>\n",
       "      <td>94785.134383</td>\n",
       "      <td>94721.922212</td>\n",
       "      <td>34.865617</td>\n",
       "      <td>48.077788</td>\n",
       "      <td>28.963579</td>\n",
       "      <td>62.494444</td>\n",
       "    </tr>\n",
       "    <tr>\n",
       "      <th>2019-01-17 12:36:00</th>\n",
       "      <td>94770.0</td>\n",
       "      <td>94800.0</td>\n",
       "      <td>94745.0</td>\n",
       "      <td>94775.0</td>\n",
       "      <td>4103</td>\n",
       "      <td>0</td>\n",
       "      <td>15457</td>\n",
       "      <td>94792.567192</td>\n",
       "      <td>94733.461106</td>\n",
       "      <td>7.432808</td>\n",
       "      <td>11.538894</td>\n",
       "      <td>10.801234</td>\n",
       "      <td>13.123346</td>\n",
       "    </tr>\n",
       "    <tr>\n",
       "      <th>2019-01-17 12:37:00</th>\n",
       "      <td>94775.0</td>\n",
       "      <td>94895.0</td>\n",
       "      <td>94775.0</td>\n",
       "      <td>94880.0</td>\n",
       "      <td>7812</td>\n",
       "      <td>0</td>\n",
       "      <td>26542</td>\n",
       "      <td>94843.783596</td>\n",
       "      <td>94754.230553</td>\n",
       "      <td>51.216404</td>\n",
       "      <td>20.769447</td>\n",
       "      <td>40.892814</td>\n",
       "      <td>13.123346</td>\n",
       "    </tr>\n",
       "    <tr>\n",
       "      <th>2019-01-17 12:38:00</th>\n",
       "      <td>94880.0</td>\n",
       "      <td>94970.0</td>\n",
       "      <td>94875.0</td>\n",
       "      <td>94920.0</td>\n",
       "      <td>6784</td>\n",
       "      <td>0</td>\n",
       "      <td>24178</td>\n",
       "      <td>94906.891798</td>\n",
       "      <td>94814.615277</td>\n",
       "      <td>63.108202</td>\n",
       "      <td>60.384723</td>\n",
       "      <td>69.562123</td>\n",
       "      <td>55.577773</td>\n",
       "    </tr>\n",
       "    <tr>\n",
       "      <th>2019-01-17 12:39:00</th>\n",
       "      <td>94920.0</td>\n",
       "      <td>94930.0</td>\n",
       "      <td>94840.0</td>\n",
       "      <td>94865.0</td>\n",
       "      <td>5692</td>\n",
       "      <td>0</td>\n",
       "      <td>20118</td>\n",
       "      <td>94918.445899</td>\n",
       "      <td>94827.307638</td>\n",
       "      <td>11.554101</td>\n",
       "      <td>12.692362</td>\n",
       "      <td>30.641294</td>\n",
       "      <td>41.432676</td>\n",
       "    </tr>\n",
       "  </tbody>\n",
       "</table>\n",
       "</div>"
      ],
      "text/plain": [
       "                           O        H        L        C    TV  S     RV  \\\n",
       "time                                                                      \n",
       "2019-01-17 12:35:00  94780.0  94820.0  94770.0  94770.0  5053  0  19618   \n",
       "2019-01-17 12:36:00  94770.0  94800.0  94745.0  94775.0  4103  0  15457   \n",
       "2019-01-17 12:37:00  94775.0  94895.0  94775.0  94880.0  7812  0  26542   \n",
       "2019-01-17 12:38:00  94880.0  94970.0  94875.0  94920.0  6784  0  24178   \n",
       "2019-01-17 12:39:00  94920.0  94930.0  94840.0  94865.0  5692  0  20118   \n",
       "\n",
       "                             emaH          emaL        dH1        dL1  \\\n",
       "time                                                                    \n",
       "2019-01-17 12:35:00  94785.134383  94721.922212  34.865617  48.077788   \n",
       "2019-01-17 12:36:00  94792.567192  94733.461106   7.432808  11.538894   \n",
       "2019-01-17 12:37:00  94843.783596  94754.230553  51.216404  20.769447   \n",
       "2019-01-17 12:38:00  94906.891798  94814.615277  63.108202  60.384723   \n",
       "2019-01-17 12:39:00  94918.445899  94827.307638  11.554101  12.692362   \n",
       "\n",
       "                          stdH       stdL  \n",
       "time                                       \n",
       "2019-01-17 12:35:00  28.963579  62.494444  \n",
       "2019-01-17 12:36:00  10.801234  13.123346  \n",
       "2019-01-17 12:37:00  40.892814  13.123346  \n",
       "2019-01-17 12:38:00  69.562123  55.577773  \n",
       "2019-01-17 12:39:00  30.641294  41.432676  "
      ]
     },
     "execution_count": 13,
     "metadata": {},
     "output_type": "execute_result"
    }
   ],
   "source": [
    "bars[-320:-200].head()"
   ]
  },
  {
   "cell_type": "code",
   "execution_count": 14,
   "metadata": {},
   "outputs": [
    {
     "data": {
      "text/plain": [
       "[<matplotlib.lines.Line2D at 0x7fd9bf345390>,\n",
       " <matplotlib.lines.Line2D at 0x7fd9bf2a6f28>]"
      ]
     },
     "execution_count": 14,
     "metadata": {},
     "output_type": "execute_result"
    },
    {
     "data": {
      "image/png": "[encoded data removed]",
      "text/plain": [
       "<Figure size 1296x216 with 1 Axes>"
      ]
     },
     "metadata": {
      "needs_background": "light"
     },
     "output_type": "display_data"
    }
   ],
   "source": [
    "fig = plt.figure(figsize=(18,3))\n",
    "plt.plot(bars[['emaH', 'emaL']][-350:-200], lw=0.6)\n",
    "plt.plot(bars[['emaH', 'emaL']][-350:-200],'.')"
   ]
  },
  {
   "cell_type": "markdown",
   "metadata": {},
   "source": [
    "### This standardization is not needed is just for viewing better"
   ]
  },
  {
   "cell_type": "code",
   "execution_count": 15,
   "metadata": {},
   "outputs": [],
   "source": [
    "barv = bars.copy()\n",
    "barv.loc[:, ['dH1','dL1', 'stdH', 'stdL']] = \\\n",
    "    barv.loc[:, ['dH1', 'dL1', 'stdH', 'stdL']].apply(\n",
    "    lambda x: x.clip(*x.quantile([0.001, 0.999]).values), axis=0)"
   ]
  },
  {
   "cell_type": "code",
   "execution_count": 16,
   "metadata": {},
   "outputs": [
    {
     "name": "stderr",
     "output_type": "stream",
     "text": [
      "/home/andre/anaconda3/lib/python3.6/site-packages/numpy/lib/histograms.py:754: RuntimeWarning: invalid value encountered in greater_equal\n",
      "  keep = (tmp_a >= first_edge)\n",
      "/home/andre/anaconda3/lib/python3.6/site-packages/numpy/lib/histograms.py:755: RuntimeWarning: invalid value encountered in less_equal\n",
      "  keep &= (tmp_a <= last_edge)\n"
     ]
    },
    {
     "data": {
      "image/png": "[encoded data removed]",
      "text/plain": [
       "<Figure size 936x216 with 1 Axes>"
      ]
     },
     "metadata": {
      "needs_background": "light"
     },
     "output_type": "display_data"
    }
   ],
   "source": [
    "plt.figure(figsize=(13,3))\n",
    "plt.hist(barv.dL1, bins=80);"
   ]
  },
  {
   "cell_type": "markdown",
   "metadata": {},
   "source": [
    "### Dumb tentatives\n",
    "\n",
    "#### A. \n",
    "\n",
    "1. If last 6 minutes H is increasing and positive first derivative\n",
    "2. If last 6 minutes L is increasing and positive first derivative\n",
    "3. If stdev H and L is well behaved on the last 6 minutes. Not smaller than 3*5 points.\n",
    "\n",
    "  **than we buy and sell 2 minutes latter**\n",
    "\n",
    "Less than 10 entries in 5 years. \n",
    "\n",
    "Lets change a bit\n",
    "\n",
    "#### B.\n",
    "\n",
    "1. If last 5 minutes ema H 3 is increasing and positive first derivative\n",
    "2. If last 5 minutes ema L 3 is increasing and positive first derivative\n",
    "3. If stdev H and L is well behaved on the last 5 minutes. Not smaller than 3*5 points.\n",
    "4. If stdev H and L is well behaved on the last 5 minutes. Not bigger than 18*5 points.\n",
    "\n",
    "  **than we buy and sell 2 minutes latter**\n",
    "\n",
    "Ok average 2 entries per day on 5 years."
   ]
  },
  {
   "cell_type": "code",
   "execution_count": 17,
   "metadata": {},
   "outputs": [],
   "source": [
    "# def buy(dH1,\n",
    "#bars.query('dH1 > 0 and dL1 > 0')"
   ]
  },
  {
   "cell_type": "code",
   "execution_count": 18,
   "metadata": {},
   "outputs": [],
   "source": [
    "bars.fillna(0, inplace=True)"
   ]
  },
  {
   "cell_type": "code",
   "execution_count": 19,
   "metadata": {},
   "outputs": [],
   "source": [
    "a12 = np.logical_and(bars.dL1.values > 0, bars.dH1.values > 0)\n",
    "a3 = np.logical_and(bars.stdH.values > 15, bars.stdL.values > 15)\n",
    "a4 = np.logical_and(bars.stdH.values < 90, bars.stdL.values < 90)\n",
    "a3 =  np.logical_and(a3, a4)\n",
    "af = np.logical_and(a12, a3)*1"
   ]
  },
  {
   "cell_type": "code",
   "execution_count": 20,
   "metadata": {},
   "outputs": [],
   "source": [
    "nrepeat = 5"
   ]
  },
  {
   "cell_type": "code",
   "execution_count": 21,
   "metadata": {},
   "outputs": [],
   "source": [
    "af = np.convolve(af, [1]*nrepeat, mode='same') # identifying 6 minutes of pattern"
   ]
  },
  {
   "cell_type": "markdown",
   "metadata": {},
   "source": [
    "Everytime we get a 6 we have an entry"
   ]
  },
  {
   "cell_type": "code",
   "execution_count": 22,
   "metadata": {},
   "outputs": [
    {
     "data": {
      "text/plain": [
       "array([[   452],\n",
       "       [   704],\n",
       "       [   714],\n",
       "       ...,\n",
       "       [509189],\n",
       "       [509190],\n",
       "       [509191]])"
      ]
     },
     "execution_count": 22,
     "metadata": {},
     "output_type": "execute_result"
    }
   ],
   "source": [
    "np.argwhere(af==nrepeat)"
   ]
  },
  {
   "cell_type": "markdown",
   "metadata": {},
   "source": [
    "Number of average entries per day"
   ]
  },
  {
   "cell_type": "code",
   "execution_count": 23,
   "metadata": {},
   "outputs": [
    {
     "data": {
      "text/plain": [
       "2.300857163606957"
      ]
     },
     "execution_count": 23,
     "metadata": {},
     "output_type": "execute_result"
    }
   ],
   "source": [
    "60*7*len(np.argwhere(af==nrepeat))/len(bars)"
   ]
  },
  {
   "cell_type": "code",
   "execution_count": 24,
   "metadata": {},
   "outputs": [
    {
     "data": {
      "text/plain": [
       "array([0, 0, 0, 0, 0, 1, 1, 1, 1, 1, 0, 1, 1, 1, 1, 1, 0, 0, 0, 0, 1, 2,\n",
       "       2, 2, 3, 3, 2, 2, 3, 3, 3, 3, 3, 3, 2, 1, 1, 1, 0, 0, 0, 0, 0, 0,\n",
       "       0, 0, 1, 1, 1, 2, 3, 2, 3, 3, 2, 1, 1, 0, 0, 0, 0, 1, 2, 2, 2, 3,\n",
       "       2, 1, 1, 1, 0, 1, 1, 1, 1, 1, 0, 0, 0, 0, 0, 0, 0, 0, 0, 1, 1, 1,\n",
       "       2, 3, 2, 2, 2, 1, 0, 0, 0, 0, 0, 0])"
      ]
     },
     "execution_count": 24,
     "metadata": {},
     "output_type": "execute_result"
    }
   ],
   "source": [
    "af[:100]"
   ]
  },
  {
   "cell_type": "markdown",
   "metadata": {},
   "source": [
    "Checking profitability \n",
    "\n",
    ". on worst case scenario buy on high sell on low will definitally not make profit. \n"
   ]
  },
  {
   "cell_type": "code",
   "execution_count": 25,
   "metadata": {},
   "outputs": [],
   "source": [
    "entries = np.argwhere(af==nrepeat).flatten()"
   ]
  },
  {
   "cell_type": "code",
   "execution_count": 26,
   "metadata": {},
   "outputs": [
    {
     "data": {
      "text/plain": [
       "array([   452,    704,    714, ..., 509189, 509190, 509191])"
      ]
     },
     "execution_count": 26,
     "metadata": {},
     "output_type": "execute_result"
    }
   ],
   "source": [
    "entries "
   ]
  },
  {
   "cell_type": "markdown",
   "metadata": {},
   "source": [
    "- It is critical that the entry is on the `Open Price` or very close to it\n",
    "otherwise the accuracy decrease drastically.  "
   ]
  },
  {
   "cell_type": "code",
   "execution_count": 40,
   "metadata": {},
   "outputs": [
    {
     "data": {
      "text/html": [
       "<div>\n",
       "<style scoped>\n",
       "    .dataframe tbody tr th:only-of-type {\n",
       "        vertical-align: middle;\n",
       "    }\n",
       "\n",
       "    .dataframe tbody tr th {\n",
       "        vertical-align: top;\n",
       "    }\n",
       "\n",
       "    .dataframe thead th {\n",
       "        text-align: right;\n",
       "    }\n",
       "</style>\n",
       "<table border=\"1\" class=\"dataframe\">\n",
       "  <thead>\n",
       "    <tr style=\"text-align: right;\">\n",
       "      <th></th>\n",
       "      <th>O</th>\n",
       "      <th>H</th>\n",
       "      <th>L</th>\n",
       "      <th>C</th>\n",
       "      <th>TV</th>\n",
       "      <th>S</th>\n",
       "      <th>RV</th>\n",
       "      <th>emaH</th>\n",
       "      <th>emaL</th>\n",
       "      <th>dH1</th>\n",
       "      <th>dL1</th>\n",
       "      <th>stdH</th>\n",
       "      <th>stdL</th>\n",
       "    </tr>\n",
       "    <tr>\n",
       "      <th>time</th>\n",
       "      <th></th>\n",
       "      <th></th>\n",
       "      <th></th>\n",
       "      <th></th>\n",
       "      <th></th>\n",
       "      <th></th>\n",
       "      <th></th>\n",
       "      <th></th>\n",
       "      <th></th>\n",
       "      <th></th>\n",
       "      <th></th>\n",
       "      <th></th>\n",
       "      <th></th>\n",
       "    </tr>\n",
       "  </thead>\n",
       "  <tbody>\n",
       "    <tr>\n",
       "      <th>2014-01-02 10:06:00</th>\n",
       "      <td>80088.0</td>\n",
       "      <td>80118.0</td>\n",
       "      <td>80049.0</td>\n",
       "      <td>80088.0</td>\n",
       "      <td>1690</td>\n",
       "      <td>1</td>\n",
       "      <td>481</td>\n",
       "      <td>0.0</td>\n",
       "      <td>0.00</td>\n",
       "      <td>0.0</td>\n",
       "      <td>0.00</td>\n",
       "      <td>0.000000</td>\n",
       "      <td>0.000000</td>\n",
       "    </tr>\n",
       "    <tr>\n",
       "      <th>2014-01-02 10:07:00</th>\n",
       "      <td>80080.0</td>\n",
       "      <td>80080.0</td>\n",
       "      <td>80034.0</td>\n",
       "      <td>80049.0</td>\n",
       "      <td>670</td>\n",
       "      <td>1</td>\n",
       "      <td>184</td>\n",
       "      <td>0.0</td>\n",
       "      <td>0.00</td>\n",
       "      <td>0.0</td>\n",
       "      <td>0.00</td>\n",
       "      <td>0.000000</td>\n",
       "      <td>0.000000</td>\n",
       "    </tr>\n",
       "    <tr>\n",
       "      <th>2014-01-02 10:08:00</th>\n",
       "      <td>80041.0</td>\n",
       "      <td>80057.0</td>\n",
       "      <td>80010.0</td>\n",
       "      <td>80049.0</td>\n",
       "      <td>690</td>\n",
       "      <td>1</td>\n",
       "      <td>139</td>\n",
       "      <td>80085.0</td>\n",
       "      <td>80031.00</td>\n",
       "      <td>0.0</td>\n",
       "      <td>0.00</td>\n",
       "      <td>25.152866</td>\n",
       "      <td>16.062378</td>\n",
       "    </tr>\n",
       "    <tr>\n",
       "      <th>2014-01-02 10:09:00</th>\n",
       "      <td>80049.0</td>\n",
       "      <td>80049.0</td>\n",
       "      <td>80018.0</td>\n",
       "      <td>80026.0</td>\n",
       "      <td>210</td>\n",
       "      <td>1</td>\n",
       "      <td>43</td>\n",
       "      <td>80067.0</td>\n",
       "      <td>80024.50</td>\n",
       "      <td>-18.0</td>\n",
       "      <td>-6.50</td>\n",
       "      <td>13.140269</td>\n",
       "      <td>9.977753</td>\n",
       "    </tr>\n",
       "    <tr>\n",
       "      <th>2014-01-02 10:10:00</th>\n",
       "      <td>80034.0</td>\n",
       "      <td>80041.0</td>\n",
       "      <td>79632.0</td>\n",
       "      <td>79725.0</td>\n",
       "      <td>4740</td>\n",
       "      <td>1</td>\n",
       "      <td>1638</td>\n",
       "      <td>80054.0</td>\n",
       "      <td>79828.25</td>\n",
       "      <td>-13.0</td>\n",
       "      <td>-196.25</td>\n",
       "      <td>6.531973</td>\n",
       "      <td>180.106142</td>\n",
       "    </tr>\n",
       "  </tbody>\n",
       "</table>\n",
       "</div>"
      ],
      "text/plain": [
       "                           O        H        L        C    TV  S    RV  \\\n",
       "time                                                                     \n",
       "2014-01-02 10:06:00  80088.0  80118.0  80049.0  80088.0  1690  1   481   \n",
       "2014-01-02 10:07:00  80080.0  80080.0  80034.0  80049.0   670  1   184   \n",
       "2014-01-02 10:08:00  80041.0  80057.0  80010.0  80049.0   690  1   139   \n",
       "2014-01-02 10:09:00  80049.0  80049.0  80018.0  80026.0   210  1    43   \n",
       "2014-01-02 10:10:00  80034.0  80041.0  79632.0  79725.0  4740  1  1638   \n",
       "\n",
       "                        emaH      emaL   dH1     dL1       stdH        stdL  \n",
       "time                                                                         \n",
       "2014-01-02 10:06:00      0.0      0.00   0.0    0.00   0.000000    0.000000  \n",
       "2014-01-02 10:07:00      0.0      0.00   0.0    0.00   0.000000    0.000000  \n",
       "2014-01-02 10:08:00  80085.0  80031.00   0.0    0.00  25.152866   16.062378  \n",
       "2014-01-02 10:09:00  80067.0  80024.50 -18.0   -6.50  13.140269    9.977753  \n",
       "2014-01-02 10:10:00  80054.0  79828.25 -13.0 -196.25   6.531973  180.106142  "
      ]
     },
     "execution_count": 40,
     "metadata": {},
     "output_type": "execute_result"
    }
   ],
   "source": [
    "bars.head()"
   ]
  },
  {
   "cell_type": "code",
   "execution_count": 61,
   "metadata": {},
   "outputs": [
    {
     "data": {
      "text/plain": [
       "2"
      ]
     },
     "execution_count": 61,
     "metadata": {},
     "output_type": "execute_result"
    }
   ],
   "source": [
    "np.random.randint(0, 4)"
   ]
  },
  {
   "cell_type": "code",
   "execution_count": 41,
   "metadata": {},
   "outputs": [],
   "source": [
    "bars['OHLC'] = bars.O + bars.H + bars.L + bars.C)"
   ]
  },
  {
   "cell_type": "code",
   "execution_count": 42,
   "metadata": {},
   "outputs": [],
   "source": [
    "profit = bars.O.iloc[entries+3].values-bars.OHLC.iloc[entries+1].values"
   ]
  },
  {
   "cell_type": "code",
   "execution_count": 43,
   "metadata": {},
   "outputs": [
    {
     "data": {
      "text/plain": [
       "array([-629.  ,  -21.25,   33.25,   95.5 ])"
      ]
     },
     "execution_count": 43,
     "metadata": {},
     "output_type": "execute_result"
    }
   ],
   "source": [
    "np.percentile(profit, [0, 10, 50, 90])"
   ]
  },
  {
   "cell_type": "markdown",
   "metadata": {},
   "source": [
    "What probability of ending up with more than 0"
   ]
  },
  {
   "cell_type": "code",
   "execution_count": 45,
   "metadata": {},
   "outputs": [
    {
     "data": {
      "text/plain": [
       "21.24686492296668"
      ]
     },
     "execution_count": 45,
     "metadata": {},
     "output_type": "execute_result"
    }
   ],
   "source": [
    "scipy.stats.percentileofscore(profit, 0)"
   ]
  },
  {
   "cell_type": "code",
   "execution_count": 46,
   "metadata": {},
   "outputs": [],
   "source": [
    "profit = np.clip(profit, *np.percentile(profit, [0.1, 99.9]))"
   ]
  },
  {
   "cell_type": "code",
   "execution_count": 47,
   "metadata": {},
   "outputs": [
    {
     "data": {
      "image/png": "[encoded data removed]",
      "text/plain": [
       "<Figure size 720x216 with 1 Axes>"
      ]
     },
     "metadata": {
      "needs_background": "light"
     },
     "output_type": "display_data"
    }
   ],
   "source": [
    "plt.figure(figsize=(10,3))\n",
    "plt.hist(profit, bins=100);\n",
    "plt.grid()"
   ]
  },
  {
   "cell_type": "code",
   "execution_count": 48,
   "metadata": {},
   "outputs": [
    {
     "data": {
      "text/plain": [
       "[<matplotlib.lines.Line2D at 0x7fd9b95d0a90>]"
      ]
     },
     "execution_count": 48,
     "metadata": {},
     "output_type": "execute_result"
    },
    {
     "data": {
      "image/png": "[encoded data removed]",
      "text/plain": [
       "<Figure size 1296x216 with 1 Axes>"
      ]
     },
     "metadata": {
      "needs_background": "light"
     },
     "output_type": "display_data"
    }
   ],
   "source": [
    "plt.figure(figsize=(18,3))\n",
    "plt.plot(entries, profit)"
   ]
  },
  {
   "cell_type": "markdown",
   "metadata": {},
   "source": [
    "Last two months"
   ]
  },
  {
   "cell_type": "code",
   "execution_count": 49,
   "metadata": {},
   "outputs": [],
   "source": [
    "accs = (profit > 0) * 1"
   ]
  },
  {
   "cell_type": "code",
   "execution_count": 50,
   "metadata": {
    "scrolled": true
   },
   "outputs": [
    {
     "data": {
      "text/plain": [
       "[<matplotlib.lines.Line2D at 0x7fd9baf2fd30>]"
      ]
     },
     "execution_count": 50,
     "metadata": {},
     "output_type": "execute_result"
    },
    {
     "data": {
      "image/png": "[encoded data removed]",
      "text/plain": [
       "<Figure size 1080x216 with 1 Axes>"
      ]
     },
     "metadata": {
      "needs_background": "light"
     },
     "output_type": "display_data"
    }
   ],
   "source": [
    "plt.figure(figsize=(15,3))\n",
    "plt.plot(entries[-42*2:], ta.SMA(accs[-42*2:].astype(float), 3), '.')\n",
    "plt.plot(entries[-42*2:], ta.SMA(accs[-42*2:].astype(float), 3), '-r', lw=0.4)"
   ]
  },
  {
   "cell_type": "code",
   "execution_count": 51,
   "metadata": {},
   "outputs": [],
   "source": [
    "def percentile(N, P):\n",
    "    n = max(int(round(P * len(N) + 0.5)), 2)\n",
    "    return N[n-2]"
   ]
  },
  {
   "cell_type": "code",
   "execution_count": 52,
   "metadata": {},
   "outputs": [
    {
     "data": {
      "text/plain": [
       "159.5"
      ]
     },
     "execution_count": 52,
     "metadata": {},
     "output_type": "execute_result"
    }
   ],
   "source": [
    "percentile(np.sort(profit), .993)"
   ]
  },
  {
   "cell_type": "code",
   "execution_count": 53,
   "metadata": {},
   "outputs": [
    {
     "data": {
      "text/plain": [
       "159.85249999999985"
      ]
     },
     "execution_count": 53,
     "metadata": {},
     "output_type": "execute_result"
    }
   ],
   "source": [
    "np.percentile(profit, 99.3)"
   ]
  },
  {
   "cell_type": "code",
   "execution_count": 38,
   "metadata": {},
   "outputs": [],
   "source": [
    "round?"
   ]
  },
  {
   "cell_type": "code",
   "execution_count": null,
   "metadata": {},
   "outputs": [],
   "source": []
  }
 ],
 "metadata": {
  "kernelspec": {
   "display_name": "Python 3",
   "language": "python",
   "name": "python3"
  },
  "language_info": {
   "codemirror_mode": {
    "name": "ipython",
    "version": 3
   },
   "file_extension": ".py",
   "mimetype": "text/x-python",
   "name": "python",
   "nbconvert_exporter": "python",
   "pygments_lexer": "ipython3",
   "version": "3.6.7"
  }
 },
 "nbformat": 4,
 "nbformat_minor": 2
}
