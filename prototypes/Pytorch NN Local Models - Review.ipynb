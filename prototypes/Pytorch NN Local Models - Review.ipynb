{
 "cells": [
  {
   "cell_type": "markdown",
   "metadata": {},
   "source": [
    "#### Using WIN@  Minute Bars\n",
    "\n",
    "#### Create my Candle Pattern predictor for next half hour\n",
    "\n",
    "### Suggestions\n",
    "\n",
    "1. Cross-Features\n",
    "2. Create a class that is the up or down for next half-hour for minute\n",
    "3. Train using same scheme of 60/120 minutes before mapping next half-hour"
   ]
  },
  {
   "cell_type": "code",
   "execution_count": 1,
   "metadata": {},
   "outputs": [],
   "source": [
    "%matplotlib inline"
   ]
  },
  {
   "cell_type": "code",
   "execution_count": 2,
   "metadata": {},
   "outputs": [
    {
     "data": {
      "text/plain": [
       "'/home/andre/Projects/stocks/prototypes'"
      ]
     },
     "execution_count": 2,
     "metadata": {},
     "output_type": "execute_result"
    }
   ],
   "source": [
    "pwd"
   ]
  },
  {
   "cell_type": "code",
   "execution_count": 3,
   "metadata": {},
   "outputs": [
    {
     "name": "stdout",
     "output_type": "stream",
     "text": [
      "/home/andre/Projects/stocks\n"
     ]
    }
   ],
   "source": [
    "cd .."
   ]
  },
  {
   "cell_type": "code",
   "execution_count": 4,
   "metadata": {},
   "outputs": [],
   "source": [
    "from matplotlib import pyplot as plt\n",
    "import os\n",
    "import sys\n",
    "import pandas as pd\n",
    "import numpy as np\n",
    "import struct\n",
    "import datetime\n",
    "import calendar\n",
    "import time\n",
    "import argparse\n",
    "import seaborn as sns\n",
    "from algos.util import progressbar\n",
    "from algos import prepareData, meta5Ibov\n",
    "from algos.nn import torchNN, torchCV, torchUtil\n",
    "import torch as th\n",
    "import scipy"
   ]
  },
  {
   "cell_type": "markdown",
   "metadata": {},
   "source": [
    "### Load Dow Jones 1 Century Data"
   ]
  },
  {
   "cell_type": "code",
   "execution_count": 5,
   "metadata": {},
   "outputs": [
    {
     "name": "stdout",
     "output_type": "stream",
     "text": [
      "/home/andre/Projects/stocks/data\n"
     ]
    }
   ],
   "source": [
    "cd data"
   ]
  },
  {
   "cell_type": "code",
   "execution_count": 6,
   "metadata": {},
   "outputs": [
    {
     "data": {
      "text/plain": [
       "'/home/andre/Projects/stocks/data'"
      ]
     },
     "execution_count": 6,
     "metadata": {},
     "output_type": "execute_result"
    }
   ],
   "source": [
    "pwd"
   ]
  },
  {
   "cell_type": "markdown",
   "metadata": {},
   "source": [
    "### Devido ao desdobramento de ações, divisão de ações melhor usar o Ibovespa"
   ]
  },
  {
   "cell_type": "code",
   "execution_count": 7,
   "metadata": {},
   "outputs": [
    {
     "name": "stderr",
     "output_type": "stream",
     "text": [
      "Master data loaded size (minutes):  509471\n",
      "symbols loaded:\n",
      "['BBAS3' 'DOL$' 'VALE3' 'ABEV3' 'ITUB4' 'B3SA3' 'BBDC4' 'PETR4' 'WIN@']\n"
     ]
    }
   ],
   "source": [
    "# meta5Ibov.setDataPath(r'C:\\\\Users\\\\alferreira\\\\Documents\\\\stocks\\\\data', \n",
    "#                      r'C:\\\\Users\\\\alferreira\\\\Documents\\\\stocks\\\\data')\n",
    "meta5Ibov.setDataPath(r'/home/andre/Projects/stocks/data', \n",
    "                        r'/home/andre/Projects/stocks/data')"
   ]
  },
  {
   "cell_type": "code",
   "execution_count": 8,
   "metadata": {},
   "outputs": [
    {
     "name": "stderr",
     "output_type": "stream",
     "text": [
      "Using previous loaded data!\n"
     ]
    }
   ],
   "source": [
    "loaded = meta5Ibov.loadMeta5Data(suffix='M1.mt5bin', verbose=False)\n",
    "bars = meta5Ibov.getSymbol('WIN@')"
   ]
  },
  {
   "cell_type": "code",
   "execution_count": 9,
   "metadata": {},
   "outputs": [],
   "source": [
    "dow = bars"
   ]
  },
  {
   "cell_type": "code",
   "execution_count": 10,
   "metadata": {},
   "outputs": [
    {
     "data": {
      "text/html": [
       "<div>\n",
       "<style scoped>\n",
       "    .dataframe tbody tr th:only-of-type {\n",
       "        vertical-align: middle;\n",
       "    }\n",
       "\n",
       "    .dataframe tbody tr th {\n",
       "        vertical-align: top;\n",
       "    }\n",
       "\n",
       "    .dataframe thead th {\n",
       "        text-align: right;\n",
       "    }\n",
       "</style>\n",
       "<table border=\"1\" class=\"dataframe\">\n",
       "  <thead>\n",
       "    <tr style=\"text-align: right;\">\n",
       "      <th></th>\n",
       "      <th>O</th>\n",
       "      <th>H</th>\n",
       "      <th>L</th>\n",
       "      <th>C</th>\n",
       "      <th>TV</th>\n",
       "      <th>S</th>\n",
       "      <th>RV</th>\n",
       "    </tr>\n",
       "    <tr>\n",
       "      <th>time</th>\n",
       "      <th></th>\n",
       "      <th></th>\n",
       "      <th></th>\n",
       "      <th></th>\n",
       "      <th></th>\n",
       "      <th></th>\n",
       "      <th></th>\n",
       "    </tr>\n",
       "  </thead>\n",
       "  <tbody>\n",
       "    <tr>\n",
       "      <th>2019-01-17 17:50:00</th>\n",
       "      <td>95990.0</td>\n",
       "      <td>96025.0</td>\n",
       "      <td>95970.0</td>\n",
       "      <td>96010.0</td>\n",
       "      <td>1160</td>\n",
       "      <td>0</td>\n",
       "      <td>6206</td>\n",
       "    </tr>\n",
       "    <tr>\n",
       "      <th>2019-01-17 17:51:00</th>\n",
       "      <td>96010.0</td>\n",
       "      <td>96010.0</td>\n",
       "      <td>95955.0</td>\n",
       "      <td>95970.0</td>\n",
       "      <td>1133</td>\n",
       "      <td>0</td>\n",
       "      <td>5151</td>\n",
       "    </tr>\n",
       "    <tr>\n",
       "      <th>2019-01-17 17:52:00</th>\n",
       "      <td>95975.0</td>\n",
       "      <td>95980.0</td>\n",
       "      <td>95930.0</td>\n",
       "      <td>95940.0</td>\n",
       "      <td>1293</td>\n",
       "      <td>0</td>\n",
       "      <td>5268</td>\n",
       "    </tr>\n",
       "    <tr>\n",
       "      <th>2019-01-17 17:53:00</th>\n",
       "      <td>95945.0</td>\n",
       "      <td>95955.0</td>\n",
       "      <td>95895.0</td>\n",
       "      <td>95895.0</td>\n",
       "      <td>1204</td>\n",
       "      <td>0</td>\n",
       "      <td>5899</td>\n",
       "    </tr>\n",
       "    <tr>\n",
       "      <th>2019-01-17 17:54:00</th>\n",
       "      <td>95900.0</td>\n",
       "      <td>95905.0</td>\n",
       "      <td>95810.0</td>\n",
       "      <td>95820.0</td>\n",
       "      <td>2038</td>\n",
       "      <td>0</td>\n",
       "      <td>10680</td>\n",
       "    </tr>\n",
       "  </tbody>\n",
       "</table>\n",
       "</div>"
      ],
      "text/plain": [
       "                           O        H        L        C    TV  S     RV\n",
       "time                                                                   \n",
       "2019-01-17 17:50:00  95990.0  96025.0  95970.0  96010.0  1160  0   6206\n",
       "2019-01-17 17:51:00  96010.0  96010.0  95955.0  95970.0  1133  0   5151\n",
       "2019-01-17 17:52:00  95975.0  95980.0  95930.0  95940.0  1293  0   5268\n",
       "2019-01-17 17:53:00  95945.0  95955.0  95895.0  95895.0  1204  0   5899\n",
       "2019-01-17 17:54:00  95900.0  95905.0  95810.0  95820.0  2038  0  10680"
      ]
     },
     "execution_count": 10,
     "metadata": {},
     "output_type": "execute_result"
    }
   ],
   "source": [
    "dow.tail()"
   ]
  },
  {
   "cell_type": "code",
   "execution_count": 11,
   "metadata": {},
   "outputs": [],
   "source": [
    "# for yahooo finance data\n",
    "#dow['Close'] = dow['Adj Close']  \n",
    "dow.drop(['S'], axis=1, inplace=True) # Close is better than Adjusted Close\n",
    "# 1/3%"
   ]
  },
  {
   "cell_type": "code",
   "execution_count": 12,
   "metadata": {},
   "outputs": [
    {
     "data": {
      "text/plain": [
       "0"
      ]
     },
     "execution_count": 12,
     "metadata": {},
     "output_type": "execute_result"
    }
   ],
   "source": [
    "dow.isnull().sum().sum() # total number of cells with nans "
   ]
  },
  {
   "cell_type": "code",
   "execution_count": 13,
   "metadata": {},
   "outputs": [],
   "source": [
    "dow.dropna(inplace=True)"
   ]
  },
  {
   "cell_type": "markdown",
   "metadata": {},
   "source": [
    "Convert to datetime Date"
   ]
  },
  {
   "cell_type": "code",
   "execution_count": 14,
   "metadata": {},
   "outputs": [
    {
     "data": {
      "text/html": [
       "<div>\n",
       "<style scoped>\n",
       "    .dataframe tbody tr th:only-of-type {\n",
       "        vertical-align: middle;\n",
       "    }\n",
       "\n",
       "    .dataframe tbody tr th {\n",
       "        vertical-align: top;\n",
       "    }\n",
       "\n",
       "    .dataframe thead th {\n",
       "        text-align: right;\n",
       "    }\n",
       "</style>\n",
       "<table border=\"1\" class=\"dataframe\">\n",
       "  <thead>\n",
       "    <tr style=\"text-align: right;\">\n",
       "      <th></th>\n",
       "      <th>O</th>\n",
       "      <th>H</th>\n",
       "      <th>L</th>\n",
       "      <th>C</th>\n",
       "      <th>TV</th>\n",
       "      <th>RV</th>\n",
       "    </tr>\n",
       "    <tr>\n",
       "      <th>time</th>\n",
       "      <th></th>\n",
       "      <th></th>\n",
       "      <th></th>\n",
       "      <th></th>\n",
       "      <th></th>\n",
       "      <th></th>\n",
       "    </tr>\n",
       "  </thead>\n",
       "  <tbody>\n",
       "    <tr>\n",
       "      <th>2014-01-02 10:06:00</th>\n",
       "      <td>80088.0</td>\n",
       "      <td>80118.0</td>\n",
       "      <td>80049.0</td>\n",
       "      <td>80088.0</td>\n",
       "      <td>1690</td>\n",
       "      <td>481</td>\n",
       "    </tr>\n",
       "    <tr>\n",
       "      <th>2014-01-02 10:07:00</th>\n",
       "      <td>80080.0</td>\n",
       "      <td>80080.0</td>\n",
       "      <td>80034.0</td>\n",
       "      <td>80049.0</td>\n",
       "      <td>670</td>\n",
       "      <td>184</td>\n",
       "    </tr>\n",
       "  </tbody>\n",
       "</table>\n",
       "</div>"
      ],
      "text/plain": [
       "                           O        H        L        C    TV   RV\n",
       "time                                                              \n",
       "2014-01-02 10:06:00  80088.0  80118.0  80049.0  80088.0  1690  481\n",
       "2014-01-02 10:07:00  80080.0  80080.0  80034.0  80049.0   670  184"
      ]
     },
     "execution_count": 14,
     "metadata": {},
     "output_type": "execute_result"
    }
   ],
   "source": [
    "dow.head(2)"
   ]
  },
  {
   "cell_type": "markdown",
   "metadata": {},
   "source": [
    "### Fake Algo Random Data test"
   ]
  },
  {
   "cell_type": "code",
   "execution_count": 15,
   "metadata": {},
   "outputs": [
    {
     "data": {
      "text/plain": [
       "(509471, 6)"
      ]
     },
     "execution_count": 15,
     "metadata": {},
     "output_type": "execute_result"
    }
   ],
   "source": [
    "dow.shape"
   ]
  },
  {
   "cell_type": "code",
   "execution_count": 16,
   "metadata": {},
   "outputs": [],
   "source": [
    "#dow.iloc[:, :] = np.abs(np.random.rand(11668, 5)*10000)"
   ]
  },
  {
   "cell_type": "markdown",
   "metadata": {},
   "source": [
    "### **Let's create the up/down class for each day compared with the previous**"
   ]
  },
  {
   "cell_type": "code",
   "execution_count": 17,
   "metadata": {},
   "outputs": [],
   "source": [
    "dow['updown'] = np.nan"
   ]
  },
  {
   "cell_type": "markdown",
   "metadata": {},
   "source": [
    "We are pushing the days were there were no movement to the down. "
   ]
  },
  {
   "cell_type": "code",
   "execution_count": 18,
   "metadata": {},
   "outputs": [
    {
     "name": "stderr",
     "output_type": "stream",
     "text": [
      "/home/andre/anaconda3/lib/python3.6/site-packages/pandas/core/indexing.py:189: SettingWithCopyWarning: \n",
      "A value is trying to be set on a copy of a slice from a DataFrame\n",
      "\n",
      "See the caveats in the documentation: http://pandas.pydata.org/pandas-docs/stable/indexing.html#indexing-view-versus-copy\n",
      "  self._setitem_with_indexer(indexer, value)\n"
     ]
    }
   ],
   "source": [
    "# candles on close\n",
    "dow.updown.iloc[1:] = dow.iloc[1:].C.values > dow.iloc[:-1].C.values \n",
    "dow.updown = dow.updown.map(lambda x: 1 if x else 0)"
   ]
  },
  {
   "cell_type": "code",
   "execution_count": 19,
   "metadata": {},
   "outputs": [],
   "source": [
    "dow.updown.values[0] = -1 # first day has no info"
   ]
  },
  {
   "cell_type": "code",
   "execution_count": 20,
   "metadata": {
    "scrolled": true
   },
   "outputs": [
    {
     "data": {
      "text/html": [
       "<div>\n",
       "<style scoped>\n",
       "    .dataframe tbody tr th:only-of-type {\n",
       "        vertical-align: middle;\n",
       "    }\n",
       "\n",
       "    .dataframe tbody tr th {\n",
       "        vertical-align: top;\n",
       "    }\n",
       "\n",
       "    .dataframe thead th {\n",
       "        text-align: right;\n",
       "    }\n",
       "</style>\n",
       "<table border=\"1\" class=\"dataframe\">\n",
       "  <thead>\n",
       "    <tr style=\"text-align: right;\">\n",
       "      <th></th>\n",
       "      <th>O</th>\n",
       "      <th>H</th>\n",
       "      <th>L</th>\n",
       "      <th>C</th>\n",
       "      <th>TV</th>\n",
       "      <th>RV</th>\n",
       "      <th>updown</th>\n",
       "    </tr>\n",
       "    <tr>\n",
       "      <th>time</th>\n",
       "      <th></th>\n",
       "      <th></th>\n",
       "      <th></th>\n",
       "      <th></th>\n",
       "      <th></th>\n",
       "      <th></th>\n",
       "      <th></th>\n",
       "    </tr>\n",
       "  </thead>\n",
       "  <tbody>\n",
       "    <tr>\n",
       "      <th>2019-01-17 17:50:00</th>\n",
       "      <td>95990.0</td>\n",
       "      <td>96025.0</td>\n",
       "      <td>95970.0</td>\n",
       "      <td>96010.0</td>\n",
       "      <td>1160</td>\n",
       "      <td>6206</td>\n",
       "      <td>1</td>\n",
       "    </tr>\n",
       "    <tr>\n",
       "      <th>2019-01-17 17:51:00</th>\n",
       "      <td>96010.0</td>\n",
       "      <td>96010.0</td>\n",
       "      <td>95955.0</td>\n",
       "      <td>95970.0</td>\n",
       "      <td>1133</td>\n",
       "      <td>5151</td>\n",
       "      <td>0</td>\n",
       "    </tr>\n",
       "    <tr>\n",
       "      <th>2019-01-17 17:52:00</th>\n",
       "      <td>95975.0</td>\n",
       "      <td>95980.0</td>\n",
       "      <td>95930.0</td>\n",
       "      <td>95940.0</td>\n",
       "      <td>1293</td>\n",
       "      <td>5268</td>\n",
       "      <td>0</td>\n",
       "    </tr>\n",
       "    <tr>\n",
       "      <th>2019-01-17 17:53:00</th>\n",
       "      <td>95945.0</td>\n",
       "      <td>95955.0</td>\n",
       "      <td>95895.0</td>\n",
       "      <td>95895.0</td>\n",
       "      <td>1204</td>\n",
       "      <td>5899</td>\n",
       "      <td>0</td>\n",
       "    </tr>\n",
       "    <tr>\n",
       "      <th>2019-01-17 17:54:00</th>\n",
       "      <td>95900.0</td>\n",
       "      <td>95905.0</td>\n",
       "      <td>95810.0</td>\n",
       "      <td>95820.0</td>\n",
       "      <td>2038</td>\n",
       "      <td>10680</td>\n",
       "      <td>0</td>\n",
       "    </tr>\n",
       "  </tbody>\n",
       "</table>\n",
       "</div>"
      ],
      "text/plain": [
       "                           O        H        L        C    TV     RV  updown\n",
       "time                                                                        \n",
       "2019-01-17 17:50:00  95990.0  96025.0  95970.0  96010.0  1160   6206       1\n",
       "2019-01-17 17:51:00  96010.0  96010.0  95955.0  95970.0  1133   5151       0\n",
       "2019-01-17 17:52:00  95975.0  95980.0  95930.0  95940.0  1293   5268       0\n",
       "2019-01-17 17:53:00  95945.0  95955.0  95895.0  95895.0  1204   5899       0\n",
       "2019-01-17 17:54:00  95900.0  95905.0  95810.0  95820.0  2038  10680       0"
      ]
     },
     "execution_count": 20,
     "metadata": {},
     "output_type": "execute_result"
    }
   ],
   "source": [
    "dow.tail()"
   ]
  },
  {
   "cell_type": "code",
   "execution_count": 21,
   "metadata": {},
   "outputs": [],
   "source": [
    "#dow.Close.resample('D') # maybe use this someday"
   ]
  },
  {
   "cell_type": "markdown",
   "metadata": {},
   "source": [
    "### Lets take a look on that data"
   ]
  },
  {
   "cell_type": "code",
   "execution_count": 22,
   "metadata": {},
   "outputs": [
    {
     "data": {
      "text/plain": [
       "[<matplotlib.lines.Line2D at 0x7f6dd0c46518>]"
      ]
     },
     "execution_count": 22,
     "metadata": {},
     "output_type": "execute_result"
    },
    {
     "data": {
      "image/png": "[encoded data removed]",
      "text/plain": [
       "<Figure size 1080x144 with 1 Axes>"
      ]
     },
     "metadata": {
      "needs_background": "light"
     },
     "output_type": "display_data"
    },
    {
     "data": {
      "image/png": "[encoded data removed]",
      "text/plain": [
       "<Figure size 1080x144 with 1 Axes>"
      ]
     },
     "metadata": {
      "needs_background": "light"
     },
     "output_type": "display_data"
    }
   ],
   "source": [
    "plt.figure(figsize=(15,2))\n",
    "plt.plot(dow.C) # dow.index.map(lambda x: x.year)\n",
    "plt.figure(figsize=(15,2))\n",
    "plt.plot(dow.RV) # dow.index.map(lambda x: x.year)"
   ]
  },
  {
   "cell_type": "code",
   "execution_count": 23,
   "metadata": {},
   "outputs": [
    {
     "data": {
      "text/plain": [
       "time\n",
       "2014-01-02 10:06:00     481\n",
       "2014-01-02 10:07:00     184\n",
       "2014-01-02 10:08:00     139\n",
       "2014-01-02 10:09:00      43\n",
       "2014-01-02 10:10:00    1638\n",
       "Name: RV, dtype: int64"
      ]
     },
     "execution_count": 23,
     "metadata": {},
     "output_type": "execute_result"
    }
   ],
   "source": [
    "dow.RV.head()"
   ]
  },
  {
   "cell_type": "markdown",
   "metadata": {},
   "source": [
    "#### Since the data is `exponentially` increasing lets see if we can detrend it.\n",
    "Lets first use a simple log function"
   ]
  },
  {
   "cell_type": "code",
   "execution_count": 24,
   "metadata": {},
   "outputs": [
    {
     "data": {
      "text/plain": [
       "[<matplotlib.lines.Line2D at 0x7f6dd0bd5fd0>]"
      ]
     },
     "execution_count": 24,
     "metadata": {},
     "output_type": "execute_result"
    },
    {
     "data": {
      "image/png": "[encoded data removed]",
      "text/plain": [
       "<Figure size 1080x144 with 1 Axes>"
      ]
     },
     "metadata": {
      "needs_background": "light"
     },
     "output_type": "display_data"
    },
    {
     "data": {
      "image/png": "[encoded data removed]",
      "text/plain": [
       "<Figure size 1080x144 with 1 Axes>"
      ]
     },
     "metadata": {
      "needs_background": "light"
     },
     "output_type": "display_data"
    }
   ],
   "source": [
    "plt.figure(figsize=(15,2))\n",
    "plt.plot(np.log(dow.C)) # dow.index.map(lambda x: x.year)\n",
    "plt.figure(figsize=(15,2))\n",
    "plt.plot(np.log(dow.RV)) # dow.index.map(lambda x: x.year)"
   ]
  },
  {
   "cell_type": "code",
   "execution_count": 25,
   "metadata": {},
   "outputs": [],
   "source": [
    "for column in ['TV', 'RV']: # all less the up/down class\n",
    "    dow.loc[:, column] = np.log(dow.loc[:, column].values+5)"
   ]
  },
  {
   "cell_type": "markdown",
   "metadata": {},
   "source": [
    "For simplicity a linear detrend to solve the rest.  First try did not pose nice results.  \n",
    "Use it just for viewing. \n",
    "\n",
    "But since we are trying to analyse a specific time-scale 5/6 days all other variations are noise to us. So let's try to remove a moving average of three weeks (3*5=15 days). Need to figure out a better.  "
   ]
  },
  {
   "cell_type": "code",
   "execution_count": 26,
   "metadata": {},
   "outputs": [],
   "source": [
    "dow.dropna(inplace=True)"
   ]
  },
  {
   "cell_type": "code",
   "execution_count": 27,
   "metadata": {},
   "outputs": [],
   "source": [
    "from scipy.signal import detrend\n",
    "dowv = dow.copy()\n",
    "#dowv.values[:, 4:5] = detrend(dow.values[:,4:5], axis=0, type='linear')"
   ]
  },
  {
   "cell_type": "code",
   "execution_count": 28,
   "metadata": {},
   "outputs": [
    {
     "data": {
      "text/plain": [
       "Text(0.5, 1.0, 'Just for viewing data')"
      ]
     },
     "execution_count": 28,
     "metadata": {},
     "output_type": "execute_result"
    },
    {
     "data": {
      "image/png": "[encoded data removed]",
      "text/plain": [
       "<Figure size 1008x144 with 1 Axes>"
      ]
     },
     "metadata": {
      "needs_background": "light"
     },
     "output_type": "display_data"
    }
   ],
   "source": [
    "plt.figure(figsize=(14,2))\n",
    "plt.plot(dowv.C)\n",
    "plt.title('Just for viewing data')"
   ]
  },
  {
   "cell_type": "code",
   "execution_count": 29,
   "metadata": {},
   "outputs": [],
   "source": [
    "import talib as ta"
   ]
  },
  {
   "cell_type": "code",
   "execution_count": 30,
   "metadata": {
    "scrolled": true
   },
   "outputs": [
    {
     "data": {
      "text/plain": [
       "509471"
      ]
     },
     "execution_count": 30,
     "metadata": {},
     "output_type": "execute_result"
    }
   ],
   "source": [
    "len(dow)"
   ]
  },
  {
   "cell_type": "code",
   "execution_count": 31,
   "metadata": {},
   "outputs": [],
   "source": [
    "# this will need to change to a EMA or SMA due future data dependence\n",
    "for col in range(6):\n",
    "    #trend = np.convolve(dow.iloc[:, col], np.ones((15,))/15, mode='valid') \n",
    "    trend = ta.SMA(dow.iloc[:, col].values.astype(np.double), 2)\n",
    "    #dow.iloc[7:-7, col] -= trend # to fit at the center -7 + 7 samples are border\n",
    "    dow.iloc[:, col] -= trend # to fit at the center -7 + 7 samples are border\n",
    "# dow.drop(dow.index[:7], inplace=True) # due border effect\n",
    "# dow.drop(dow.index[-7:], inplace=True)"
   ]
  },
  {
   "cell_type": "code",
   "execution_count": 32,
   "metadata": {},
   "outputs": [],
   "source": [
    "dow.dropna(inplace=True) # drop first nan value and meaningless UpDown value"
   ]
  },
  {
   "cell_type": "code",
   "execution_count": 33,
   "metadata": {},
   "outputs": [
    {
     "data": {
      "text/plain": [
       "509470"
      ]
     },
     "execution_count": 33,
     "metadata": {},
     "output_type": "execute_result"
    }
   ],
   "source": [
    "len(dow)"
   ]
  },
  {
   "cell_type": "code",
   "execution_count": 34,
   "metadata": {},
   "outputs": [],
   "source": [
    "dowv = dowv.loc[dow.index] # update the viewing "
   ]
  },
  {
   "cell_type": "code",
   "execution_count": 35,
   "metadata": {},
   "outputs": [
    {
     "data": {
      "text/plain": [
       "[<matplotlib.lines.Line2D at 0x7f6dd082ba20>]"
      ]
     },
     "execution_count": 35,
     "metadata": {},
     "output_type": "execute_result"
    },
    {
     "data": {
      "image/png": "[encoded data removed]",
      "text/plain": [
       "<Figure size 1080x144 with 1 Axes>"
      ]
     },
     "metadata": {
      "needs_background": "light"
     },
     "output_type": "display_data"
    },
    {
     "data": {
      "image/png": "[encoded data removed]",
      "text/plain": [
       "<Figure size 1080x144 with 1 Axes>"
      ]
     },
     "metadata": {
      "needs_background": "light"
     },
     "output_type": "display_data"
    }
   ],
   "source": [
    "plt.figure(figsize=(15,2))\n",
    "plt.plot(dow.C) # dow.index.map(lambda x: x.year)\n",
    "plt.figure(figsize=(15,2))\n",
    "plt.plot(dow.RV) # dow.index.map(lambda x: x.year)"
   ]
  },
  {
   "cell_type": "markdown",
   "metadata": {},
   "source": [
    "For while, let inflation be!   \n",
    "Will just calculate pattern of candles.   "
   ]
  },
  {
   "cell_type": "code",
   "execution_count": 36,
   "metadata": {},
   "outputs": [],
   "source": [
    "dow['sup'] = np.nan"
   ]
  },
  {
   "cell_type": "markdown",
   "metadata": {},
   "source": [
    "We are pushing the days were there were no movement to the down. "
   ]
  },
  {
   "cell_type": "code",
   "execution_count": 37,
   "metadata": {},
   "outputs": [],
   "source": [
    "# candles on close\n",
    "dow.sup.iloc[1:] = dow.iloc[1:].C.values > dow.iloc[:-1].C.values \n",
    "dow.sup = dow.sup.map(lambda x: 1 if x else 0)"
   ]
  },
  {
   "cell_type": "code",
   "execution_count": 38,
   "metadata": {},
   "outputs": [],
   "source": [
    "#dow.sup.values[0] = 0 # first day has no info - but lets not contaminated the mean"
   ]
  },
  {
   "cell_type": "markdown",
   "metadata": {},
   "source": [
    "Let's drop the first sample due no info and nans on the **trend** removed"
   ]
  },
  {
   "cell_type": "code",
   "execution_count": 39,
   "metadata": {},
   "outputs": [],
   "source": [
    "dow = dow[1:]\n",
    "dowv = dowv[1:]"
   ]
  },
  {
   "cell_type": "code",
   "execution_count": 40,
   "metadata": {},
   "outputs": [],
   "source": [
    "dowv['sup'] = dow.sup.copy()"
   ]
  },
  {
   "cell_type": "markdown",
   "metadata": {},
   "source": [
    "### Lets Standardize data before creating the training Vector or Feature Vector X\n",
    "\n",
    "From the histograms we can see there is no class in-balance at first look. "
   ]
  },
  {
   "cell_type": "code",
   "execution_count": 41,
   "metadata": {},
   "outputs": [
    {
     "data": {
      "image/png": "[encoded data removed]",
      "text/plain": [
       "<Figure size 1080x720 with 6 Axes>"
      ]
     },
     "metadata": {
      "needs_background": "light"
     },
     "output_type": "display_data"
    }
   ],
   "source": [
    "dow.iloc[:, :6].hist(bins=100, figsize=(15,10));"
   ]
  },
  {
   "cell_type": "code",
   "execution_count": 42,
   "metadata": {},
   "outputs": [
    {
     "data": {
      "text/html": [
       "<div>\n",
       "<style scoped>\n",
       "    .dataframe tbody tr th:only-of-type {\n",
       "        vertical-align: middle;\n",
       "    }\n",
       "\n",
       "    .dataframe tbody tr th {\n",
       "        vertical-align: top;\n",
       "    }\n",
       "\n",
       "    .dataframe thead th {\n",
       "        text-align: right;\n",
       "    }\n",
       "</style>\n",
       "<table border=\"1\" class=\"dataframe\">\n",
       "  <thead>\n",
       "    <tr style=\"text-align: right;\">\n",
       "      <th></th>\n",
       "      <th>O</th>\n",
       "      <th>H</th>\n",
       "      <th>L</th>\n",
       "      <th>C</th>\n",
       "      <th>TV</th>\n",
       "      <th>RV</th>\n",
       "      <th>updown</th>\n",
       "      <th>sup</th>\n",
       "    </tr>\n",
       "    <tr>\n",
       "      <th>time</th>\n",
       "      <th></th>\n",
       "      <th></th>\n",
       "      <th></th>\n",
       "      <th></th>\n",
       "      <th></th>\n",
       "      <th></th>\n",
       "      <th></th>\n",
       "      <th></th>\n",
       "    </tr>\n",
       "  </thead>\n",
       "  <tbody>\n",
       "    <tr>\n",
       "      <th>2014-01-02 10:08:00</th>\n",
       "      <td>-19.5</td>\n",
       "      <td>-11.5</td>\n",
       "      <td>-12.0</td>\n",
       "      <td>0.0</td>\n",
       "      <td>0.0146</td>\n",
       "      <td>-0.135967</td>\n",
       "      <td>0</td>\n",
       "      <td>1</td>\n",
       "    </tr>\n",
       "  </tbody>\n",
       "</table>\n",
       "</div>"
      ],
      "text/plain": [
       "                        O     H     L    C      TV        RV  updown  sup\n",
       "time                                                                     \n",
       "2014-01-02 10:08:00 -19.5 -11.5 -12.0  0.0  0.0146 -0.135967       0    1"
      ]
     },
     "execution_count": 42,
     "metadata": {},
     "output_type": "execute_result"
    }
   ],
   "source": [
    "dow.head(1)"
   ]
  },
  {
   "cell_type": "code",
   "execution_count": 43,
   "metadata": {},
   "outputs": [],
   "source": [
    "newcolumns=dow.columns[:-2].tolist()\n",
    "newcolumns.extend(['sup', 'updown'])\n",
    "dow = dow.reindex(columns=newcolumns)\n",
    "dowv = dowv.reindex(columns=newcolumns)"
   ]
  },
  {
   "cell_type": "code",
   "execution_count": 44,
   "metadata": {
    "scrolled": true
   },
   "outputs": [
    {
     "data": {
      "text/html": [
       "<div>\n",
       "<style scoped>\n",
       "    .dataframe tbody tr th:only-of-type {\n",
       "        vertical-align: middle;\n",
       "    }\n",
       "\n",
       "    .dataframe tbody tr th {\n",
       "        vertical-align: top;\n",
       "    }\n",
       "\n",
       "    .dataframe thead th {\n",
       "        text-align: right;\n",
       "    }\n",
       "</style>\n",
       "<table border=\"1\" class=\"dataframe\">\n",
       "  <thead>\n",
       "    <tr style=\"text-align: right;\">\n",
       "      <th></th>\n",
       "      <th>O</th>\n",
       "      <th>H</th>\n",
       "      <th>L</th>\n",
       "      <th>C</th>\n",
       "      <th>TV</th>\n",
       "      <th>RV</th>\n",
       "      <th>sup</th>\n",
       "      <th>updown</th>\n",
       "    </tr>\n",
       "    <tr>\n",
       "      <th>time</th>\n",
       "      <th></th>\n",
       "      <th></th>\n",
       "      <th></th>\n",
       "      <th></th>\n",
       "      <th></th>\n",
       "      <th></th>\n",
       "      <th></th>\n",
       "      <th></th>\n",
       "    </tr>\n",
       "  </thead>\n",
       "  <tbody>\n",
       "    <tr>\n",
       "      <th>2014-01-02 10:08:00</th>\n",
       "      <td>-19.5</td>\n",
       "      <td>-11.5</td>\n",
       "      <td>-12.0</td>\n",
       "      <td>0.0</td>\n",
       "      <td>0.0146</td>\n",
       "      <td>-0.135967</td>\n",
       "      <td>1</td>\n",
       "      <td>0</td>\n",
       "    </tr>\n",
       "  </tbody>\n",
       "</table>\n",
       "</div>"
      ],
      "text/plain": [
       "                        O     H     L    C      TV        RV  sup  updown\n",
       "time                                                                     \n",
       "2014-01-02 10:08:00 -19.5 -11.5 -12.0  0.0  0.0146 -0.135967    1       0"
      ]
     },
     "execution_count": 44,
     "metadata": {},
     "output_type": "execute_result"
    }
   ],
   "source": [
    "dow.head(1)"
   ]
  },
  {
   "cell_type": "code",
   "execution_count": 45,
   "metadata": {},
   "outputs": [],
   "source": [
    "from sklearn import preprocessing\n",
    "from sklearn.preprocessing import RobustScaler"
   ]
  },
  {
   "cell_type": "code",
   "execution_count": 46,
   "metadata": {},
   "outputs": [],
   "source": [
    "quantile_transformer = preprocessing.QuantileTransformer(\n",
    "    output_distribution='normal', random_state=0)\n",
    "\n",
    "X_trans = quantile_transformer.fit_transform(dow.values[:,:-1])"
   ]
  },
  {
   "cell_type": "code",
   "execution_count": 47,
   "metadata": {},
   "outputs": [
    {
     "data": {
      "text/plain": [
       "(509469, 7)"
      ]
     },
     "execution_count": 47,
     "metadata": {},
     "output_type": "execute_result"
    }
   ],
   "source": [
    "X_trans.shape"
   ]
  },
  {
   "cell_type": "code",
   "execution_count": 48,
   "metadata": {},
   "outputs": [
    {
     "data": {
      "image/png": "[encoded data removed]",
      "text/plain": [
       "<Figure size 288x144 with 1 Axes>"
      ]
     },
     "metadata": {
      "needs_background": "light"
     },
     "output_type": "display_data"
    }
   ],
   "source": [
    "plt.figure(figsize=(4,2))\n",
    "plt.hist(X_trans[:,4], bins=100);"
   ]
  },
  {
   "cell_type": "code",
   "execution_count": 49,
   "metadata": {},
   "outputs": [
    {
     "data": {
      "text/plain": [
       "(0.001397940437140695, 0.9955629873310198)"
      ]
     },
     "execution_count": 49,
     "metadata": {},
     "output_type": "execute_result"
    }
   ],
   "source": [
    "np.mean(X_trans[:,4]), np.std(X_trans[:,4])"
   ]
  },
  {
   "cell_type": "code",
   "execution_count": 50,
   "metadata": {},
   "outputs": [
    {
     "data": {
      "text/plain": [
       "(509469, 7)"
      ]
     },
     "execution_count": 50,
     "metadata": {},
     "output_type": "execute_result"
    }
   ],
   "source": [
    "X_trans.shape"
   ]
  },
  {
   "cell_type": "code",
   "execution_count": 51,
   "metadata": {},
   "outputs": [],
   "source": [
    "X = np.array(X_trans)\n",
    "#X[:,:5] = X_trans[:,:]\n",
    "#X[:, 5] = dow.values[:,-2]\n",
    "#X[:, 5] = (X[:, 5] - X[:, 5].mean())/X[:, 5].std() # normalize variance=1 mean=0"
   ]
  },
  {
   "cell_type": "code",
   "execution_count": 52,
   "metadata": {
    "scrolled": true
   },
   "outputs": [
    {
     "data": {
      "text/plain": [
       "array([-0.00303857, -0.00435987,  0.0020074 , -0.00436415,  0.00139794,\n",
       "        0.00090943, -0.1559488 ])"
      ]
     },
     "execution_count": 52,
     "metadata": {},
     "output_type": "execute_result"
    }
   ],
   "source": [
    "np.mean(X, axis=0)"
   ]
  },
  {
   "cell_type": "code",
   "execution_count": 53,
   "metadata": {},
   "outputs": [
    {
     "data": {
      "text/plain": [
       "array([0.9983418 , 0.99530304, 1.00177219, 0.99960723, 0.99556299,\n",
       "       0.99804219, 5.19699829])"
      ]
     },
     "execution_count": 53,
     "metadata": {},
     "output_type": "execute_result"
    }
   ],
   "source": [
    "np.std(X, axis=0)"
   ]
  },
  {
   "cell_type": "markdown",
   "metadata": {},
   "source": [
    "### Lets make the feature vector X\n",
    "\n",
    "\n",
    "We will shift forward 5 days so we can use the last ones to predict the next.  \n",
    "So we can use previous days information to train to predict next one.  \n",
    "\n",
    "We will train like this:\n",
    "\n",
    "[-5, -4, -3, -2, -1] -> [0]  \n",
    "[-4, -3, -2, -1,  0] -> [1]  \n",
    "[-3, -2, -1,  0,  1] -> [2]  \n",
    "        ...              \n",
    " \n",
    "but each day O, H, L, C, V will be a row so:\n",
    "\n",
    "[-5, -4, -3, -2, -1] -> [0]\n",
    "is  \n",
    "\n",
    "[O[-5], H[-5], L[-5], C[-5], V[-5], O[-4], H[-4], L[-4], C[-4], V[-4] ... O[-1], H[-1], L[-1], C[-1], V[-1]] -> [0]\n",
    "\n",
    "Meaning training or feature vector will have 5*5 = 25 dimension. "
   ]
  },
  {
   "cell_type": "code",
   "execution_count": 54,
   "metadata": {},
   "outputs": [],
   "source": [
    "data = X # we don't use the training class"
   ]
  },
  {
   "cell_type": "code",
   "execution_count": 55,
   "metadata": {},
   "outputs": [],
   "source": [
    "pdays=21 # previous hours ~ 5 days on H2 time-frame"
   ]
  },
  {
   "cell_type": "code",
   "execution_count": 56,
   "metadata": {},
   "outputs": [],
   "source": [
    "data = dow.iloc[:, :-1].values"
   ]
  },
  {
   "cell_type": "code",
   "execution_count": 57,
   "metadata": {},
   "outputs": [],
   "source": [
    "# data = np.array([1, 3, 4, 5, 6, 3])\n",
    "# pdays=3"
   ]
  },
  {
   "cell_type": "code",
   "execution_count": 58,
   "metadata": {},
   "outputs": [],
   "source": [
    "from numba import jit\n",
    "\n",
    "@jit(nopython=True)\n",
    "def Xbackward_array(data, nprevious, ncolumns):\n",
    "    X = np.zeros((len(data)-nprevious+1, nprevious*ncolumns))\n",
    "    # maybe using np.tile with np.repeat is faster but dont know how\n",
    "    for i in range(nprevious, len(data)+1):\n",
    "        X[i-nprevious,:] = data[i-nprevious:i].flatten()\n",
    "    return X"
   ]
  },
  {
   "cell_type": "markdown",
   "metadata": {},
   "source": [
    "[1, 3, 4, 5, 6, 3]\n",
    "\n",
    "[1, 3, 4]  \n",
    "[3, 4, 5]  \n",
    "[4, 5, 6]  \n",
    "[5, 6, 3]  "
   ]
  },
  {
   "cell_type": "code",
   "execution_count": 59,
   "metadata": {},
   "outputs": [],
   "source": [
    "assert np.alltrue( \n",
    "    Xbackward_array(np.array([1, 3, 4, 5, 6, 3]), 3, 1) ==\n",
    "    np.array([[1, 3, 4], [3, 4, 5], [4, 5, 6], [5, 6, 3]]))"
   ]
  },
  {
   "cell_type": "code",
   "execution_count": 60,
   "metadata": {},
   "outputs": [],
   "source": [
    "X = Xbackward_array(data, pdays, 7)"
   ]
  },
  {
   "cell_type": "code",
   "execution_count": 61,
   "metadata": {},
   "outputs": [
    {
     "data": {
      "text/plain": [
       "509449"
      ]
     },
     "execution_count": 61,
     "metadata": {},
     "output_type": "execute_result"
    }
   ],
   "source": [
    "len(X)"
   ]
  },
  {
   "cell_type": "markdown",
   "metadata": {},
   "source": [
    "### Lets make the class vector or target vector Y"
   ]
  },
  {
   "cell_type": "code",
   "execution_count": 62,
   "metadata": {},
   "outputs": [],
   "source": [
    "Y = dow.updown[pdays:]\n",
    "Y = Y.values"
   ]
  },
  {
   "cell_type": "code",
   "execution_count": 63,
   "metadata": {},
   "outputs": [
    {
     "data": {
      "text/plain": [
       "(509449, 509448)"
      ]
     },
     "execution_count": 63,
     "metadata": {},
     "output_type": "execute_result"
    }
   ],
   "source": [
    "len(X), len(Y)"
   ]
  },
  {
   "cell_type": "code",
   "execution_count": 64,
   "metadata": {},
   "outputs": [],
   "source": [
    "Xfuture = X[-1] # last day/hour is prediction of future\n",
    "X = X[:-1] # this is training data"
   ]
  },
  {
   "cell_type": "code",
   "execution_count": 65,
   "metadata": {},
   "outputs": [],
   "source": [
    "dow = dow[pdays:] # the first days dont cannot use class for training so we dont need them\n",
    "dowv = dowv[pdays:] # same for plotting"
   ]
  },
  {
   "cell_type": "code",
   "execution_count": 66,
   "metadata": {},
   "outputs": [],
   "source": [
    "import sklearn"
   ]
  },
  {
   "cell_type": "code",
   "execution_count": 67,
   "metadata": {},
   "outputs": [
    {
     "name": "stdout",
     "output_type": "stream",
     "text": [
      "             precision    recall  f1-score   support\n",
      "\n",
      "          0       0.80      0.76      0.78    275103\n",
      "          1       0.73      0.77      0.75    234345\n",
      "\n",
      "avg / total       0.77      0.77      0.77    509448\n",
      "\n"
     ]
    }
   ],
   "source": [
    "print(sklearn.metrics.classification_report(dow.updown, dow.sup))"
   ]
  },
  {
   "cell_type": "code",
   "execution_count": 68,
   "metadata": {
    "scrolled": true
   },
   "outputs": [],
   "source": [
    "#sns.jointplot(dow.updown, dow.sup, kind='kde')"
   ]
  },
  {
   "cell_type": "markdown",
   "metadata": {},
   "source": [
    "#### Remember!\n",
    "\n",
    "dowv has same number of row than X, Y vectors, indexes are syncronized"
   ]
  },
  {
   "cell_type": "markdown",
   "metadata": {},
   "source": [
    "### Lets prepare the engine Torch"
   ]
  },
  {
   "cell_type": "code",
   "execution_count": 69,
   "metadata": {},
   "outputs": [],
   "source": [
    "import importlib"
   ]
  },
  {
   "cell_type": "code",
   "execution_count": 70,
   "metadata": {},
   "outputs": [
    {
     "data": {
      "text/plain": [
       "(<module 'algos.nn.torchNN' from '/home/andre/Projects/stocks/algos/nn/torchNN.py'>,\n",
       " <module 'algos.nn.torchCV' from '/home/andre/Projects/stocks/algos/nn/torchCV.py'>,\n",
       " <module 'algos.nn.torchUtil' from '/home/andre/Projects/stocks/algos/nn/torchUtil.py'>)"
      ]
     },
     "execution_count": 70,
     "metadata": {},
     "output_type": "execute_result"
    }
   ],
   "source": [
    "importlib.reload(torchNN), importlib.reload(torchCV), importlib.reload(torchUtil)"
   ]
  },
  {
   "cell_type": "code",
   "execution_count": 71,
   "metadata": {},
   "outputs": [],
   "source": [
    "device = torchNN.getDevice()"
   ]
  },
  {
   "cell_type": "code",
   "execution_count": 72,
   "metadata": {},
   "outputs": [
    {
     "data": {
      "text/plain": [
       "device(type='cuda')"
      ]
     },
     "execution_count": 72,
     "metadata": {},
     "output_type": "execute_result"
    }
   ],
   "source": [
    "device"
   ]
  },
  {
   "cell_type": "code",
   "execution_count": 73,
   "metadata": {},
   "outputs": [],
   "source": [
    "torchNN.setSeed(device, 25640) # reproducible"
   ]
  },
  {
   "cell_type": "markdown",
   "metadata": {},
   "source": [
    "Train in ~ **2 month** and test on the subsequent **0.1 months**\n",
    "\n",
    "training/valiation ratio of 90%"
   ]
  },
  {
   "cell_type": "code",
   "execution_count": 74,
   "metadata": {},
   "outputs": [],
   "source": [
    "X, Y = torchUtil.binaryTensors(X, Y, device=device)"
   ]
  },
  {
   "cell_type": "code",
   "execution_count": 98,
   "metadata": {},
   "outputs": [
    {
     "name": "stdout",
     "output_type": "stream",
     "text": [
      "number of folds  508608  M1 of training  755  M1 of validation  84  M1 of prediction  1\n"
     ]
    }
   ],
   "source": [
    "ntrain= 60*7*2\n",
    "kfold = torchCV.sKFold(X, foldsize=ntrain, ratio=0.9)\n",
    "nsplits = kfold.GetnSplits()\n",
    "ntrain, ntest, npred = kfold.ntrain, kfold.ntest, kfold.npred\n",
    "print('number of folds ', nsplits, \n",
    "      ' M1 of training ', ntrain, \n",
    "      ' M1 of validation ', ntest,\n",
    "      ' M1 of prediction ', npred)"
   ]
  },
  {
   "cell_type": "markdown",
   "metadata": {},
   "source": [
    "Get a random begin on data of those n years"
   ]
  },
  {
   "cell_type": "markdown",
   "metadata": {},
   "source": [
    "Locally normalize mean = 0 and variance to 1  \n",
    "Specially for this 25 type of data/training, this should not be done here. "
   ]
  },
  {
   "cell_type": "code",
   "execution_count": 99,
   "metadata": {},
   "outputs": [],
   "source": [
    "#Xfold = (Xfold - Xfold.mean())/Xfold.std() # normalize variance=1 mean=0"
   ]
  },
  {
   "cell_type": "code",
   "execution_count": 126,
   "metadata": {
    "scrolled": true
   },
   "outputs": [
    {
     "name": "stdout",
     "output_type": "stream",
     "text": [
      "unbalanced class percentage training ~: % -4.0\n",
      "unbalanced class percentage validation~: % -4.8\n",
      "Number of params  16274  size of data  123333\n",
      "Ratio data size to number of params 0.13\n"
     ]
    }
   ],
   "source": [
    "# tensors\n",
    "for start, sval, spred, end in kfold.SplitsRandn(1):\n",
    "    Xt, yt = X[start:sval], Y[start:sval]\n",
    "    Xs, ys = X[sval:spred], Y[sval:spred]\n",
    "    # use :end on slicing to avoid using unsqueze\n",
    "    Xp, yp = X[spred:end], Y[spred:end] # only ONE sample\n",
    "\n",
    "#print(start, sval, spred, end)\n",
    "print('unbalanced class percentage training ~: % {:.1f}'.format(100*((th.sum(yt).item()/(len(yt))-0.5))))\n",
    "print('unbalanced class percentage validation~: % {:.1f}'.format(100*((th.sum(ys).item()/len(ys))-0.5)))\n",
    "\n",
    "nnparams = {'nneurons' : [64, 64, 32, 16], 'dropout' : 0.5, 'learn' : 6e-3, 'patience' : 50}\n",
    "classifier = torchNN.BinaryNN(input_dim=X.shape[1], device=device, **nnparams)\n",
    "\n",
    "ndata = (len(Xt)+len(Xs))*X.shape[1]\n",
    "print('Number of params ', classifier.ncells, ' size of data ', ndata)\n",
    "\n",
    "print('Ratio data size to number of params {:.2f}'.format(classifier.ncells/ndata)) "
   ]
  },
  {
   "cell_type": "markdown",
   "metadata": {},
   "source": [
    "Awesome post aboute number of params, training samples and overfitting!\n",
    "\n",
    "https://stats.stackexchange.com/questions/320383/relationship-between-model-over-fitting-and-number-of-parameters/320387#320387"
   ]
  },
  {
   "cell_type": "code",
   "execution_count": 127,
   "metadata": {},
   "outputs": [
    {
     "name": "stdout",
     "output_type": "stream",
     "text": [
      "iteration : 2      train loss: 0.6893941 valid acc: 0.5357143 valid loss :0.6834136 learn r.: 0.0060000\n",
      "iteration : 5      train loss: 0.6878119 valid acc: 0.5595238 valid loss :0.6775371 learn r.: 0.0055200\n",
      "iteration : 8      train loss: 0.6860692 valid acc: 0.5595238 valid loss :0.6755232 learn r.: 0.0050784\n",
      "iteration : 11     train loss: 0.6861148 valid acc: 0.5476190 valid loss :0.6771429 learn r.: 0.0046721\n",
      "iteration : 14     train loss: 0.6855341 valid acc: 0.5476190 valid loss :0.6785711 learn r.: 0.0042984\n",
      "iteration : 17     train loss: 0.6841081 valid acc: 0.5476190 valid loss :0.6765848 learn r.: 0.0039545\n",
      "iteration : 20     train loss: 0.6829527 valid acc: 0.5476190 valid loss :0.6757622 learn r.: 0.0036381\n",
      "iteration : 23     train loss: 0.6817380 valid acc: 0.5476190 valid loss :0.6752066 learn r.: 0.0033471\n",
      "iteration : 26     train loss: 0.6806396 valid acc: 0.5595238 valid loss :0.6754249 learn r.: 0.0030793\n",
      "iteration : 29     train loss: 0.6796194 valid acc: 0.5595238 valid loss :0.6741365 learn r.: 0.0028330\n",
      "iteration : 32     train loss: 0.6790586 valid acc: 0.5714286 valid loss :0.6731114 learn r.: 0.0026063\n",
      "iteration : 35     train loss: 0.6787880 valid acc: 0.5714286 valid loss :0.6726034 learn r.: 0.0023978\n",
      "iteration : 38     train loss: 0.6784981 valid acc: 0.5714286 valid loss :0.6719124 learn r.: 0.0022060\n",
      "iteration : 41     train loss: 0.6787573 valid acc: 0.5833333 valid loss :0.6719198 learn r.: 0.0020295\n",
      "iteration : 44     train loss: 0.6791720 valid acc: 0.5833333 valid loss :0.6722795 learn r.: 0.0018672\n",
      "iteration : 47     train loss: 0.6789278 valid acc: 0.5833333 valid loss :0.6718160 learn r.: 0.0017178\n",
      "iteration : 50     train loss: 0.6787508 valid acc: 0.6071429 valid loss :0.6717555 learn r.: 0.0015804\n",
      "iteration : 53     train loss: 0.6784449 valid acc: 0.6190476 valid loss :0.6714637 learn r.: 0.0014539\n",
      "[################################################################################] 54/54\n",
      "final : train acc. 0.557616 val acc.0.619048\n"
     ]
    }
   ],
   "source": [
    "fitparams = {'epochs':9, 'batch':128, 'iscore':0.5, 'gma':0.92, 'verbose':True}\n",
    "classifier.fit(Xt, yt, Xs, ys, **fitparams);"
   ]
  },
  {
   "cell_type": "code",
   "execution_count": 128,
   "metadata": {},
   "outputs": [
    {
     "name": "stdout",
     "output_type": "stream",
     "text": [
      "[################################################################################] 2/2\n",
      "[################################################################################] 2/2\n"
     ]
    }
   ],
   "source": [
    "for i in range(2):\n",
    "    classifier.fineTune(Xs, ys, batch=128)"
   ]
  },
  {
   "cell_type": "code",
   "execution_count": 129,
   "metadata": {
    "scrolled": true
   },
   "outputs": [
    {
     "data": {
      "text/html": [
       "<div>\n",
       "<style scoped>\n",
       "    .dataframe tbody tr th:only-of-type {\n",
       "        vertical-align: middle;\n",
       "    }\n",
       "\n",
       "    .dataframe tbody tr th {\n",
       "        vertical-align: top;\n",
       "    }\n",
       "\n",
       "    .dataframe thead th {\n",
       "        text-align: right;\n",
       "    }\n",
       "</style>\n",
       "<table border=\"1\" class=\"dataframe\">\n",
       "  <thead>\n",
       "    <tr style=\"text-align: right;\">\n",
       "      <th></th>\n",
       "      <th>O</th>\n",
       "      <th>H</th>\n",
       "      <th>L</th>\n",
       "      <th>C</th>\n",
       "      <th>TV</th>\n",
       "      <th>RV</th>\n",
       "      <th>sup</th>\n",
       "      <th>updown</th>\n",
       "    </tr>\n",
       "    <tr>\n",
       "      <th>time</th>\n",
       "      <th></th>\n",
       "      <th></th>\n",
       "      <th></th>\n",
       "      <th></th>\n",
       "      <th></th>\n",
       "      <th></th>\n",
       "      <th></th>\n",
       "      <th></th>\n",
       "    </tr>\n",
       "  </thead>\n",
       "  <tbody>\n",
       "    <tr>\n",
       "      <th>2019-01-17 17:53:00</th>\n",
       "      <td>-15.0</td>\n",
       "      <td>-12.5</td>\n",
       "      <td>-17.5</td>\n",
       "      <td>-22.5</td>\n",
       "      <td>-0.035516</td>\n",
       "      <td>0.056515</td>\n",
       "      <td>0</td>\n",
       "      <td>0</td>\n",
       "    </tr>\n",
       "    <tr>\n",
       "      <th>2019-01-17 17:54:00</th>\n",
       "      <td>-22.5</td>\n",
       "      <td>-25.0</td>\n",
       "      <td>-42.5</td>\n",
       "      <td>-37.5</td>\n",
       "      <td>0.262313</td>\n",
       "      <td>0.296605</td>\n",
       "      <td>0</td>\n",
       "      <td>0</td>\n",
       "    </tr>\n",
       "  </tbody>\n",
       "</table>\n",
       "</div>"
      ],
      "text/plain": [
       "                        O     H     L     C        TV        RV  sup  updown\n",
       "time                                                                        \n",
       "2019-01-17 17:53:00 -15.0 -12.5 -17.5 -22.5 -0.035516  0.056515    0       0\n",
       "2019-01-17 17:54:00 -22.5 -25.0 -42.5 -37.5  0.262313  0.296605    0       0"
      ]
     },
     "execution_count": 129,
     "metadata": {},
     "output_type": "execute_result"
    }
   ],
   "source": [
    "dow.tail(2)"
   ]
  },
  {
   "cell_type": "code",
   "execution_count": 130,
   "metadata": {
    "scrolled": true
   },
   "outputs": [
    {
     "data": {
      "text/plain": [
       "<matplotlib.legend.Legend at 0x7f6dbce345f8>"
      ]
     },
     "execution_count": 130,
     "metadata": {},
     "output_type": "execute_result"
    },
    {
     "data": {
      "image/png": "[encoded data removed]",
      "text/plain": [
       "<Figure size 1080x144 with 1 Axes>"
      ]
     },
     "metadata": {
      "needs_background": "light"
     },
     "output_type": "display_data"
    }
   ],
   "source": [
    "plt.figure(figsize=(15,2))\n",
    "plt.plot(dowv.iloc[start:end].C, 'k-', lw=1, label='window')\n",
    "plt.plot(dowv.iloc[start:sval].C, 'g--', label='training', lw=1)\n",
    "plt.plot(dowv.iloc[sval:end].C, 'r-.', label='validation', lw=1)\n",
    "plt.legend()"
   ]
  },
  {
   "cell_type": "code",
   "execution_count": 131,
   "metadata": {
    "scrolled": true
   },
   "outputs": [
    {
     "data": {
      "text/plain": [
       "torch.Size([19, 3])"
      ]
     },
     "execution_count": 131,
     "metadata": {},
     "output_type": "execute_result"
    }
   ],
   "source": [
    "classifier.prog.shape"
   ]
  },
  {
   "cell_type": "markdown",
   "metadata": {},
   "source": [
    "Using a cut-off on model probability if not certain why should I trust?!  \n",
    "Try to correct the cases where there is no up or down, just laterall variation or anything else with not that certainty\n",
    "\n",
    "0.7 or 70% at least"
   ]
  },
  {
   "cell_type": "code",
   "execution_count": 132,
   "metadata": {},
   "outputs": [
    {
     "data": {
      "text/plain": [
       "0.6428571343421936"
      ]
     },
     "execution_count": 132,
     "metadata": {},
     "output_type": "execute_result"
    }
   ],
   "source": [
    "classifier.score(Xs, ys)"
   ]
  },
  {
   "cell_type": "code",
   "execution_count": 133,
   "metadata": {},
   "outputs": [],
   "source": [
    "params = {'cutoff':0.51}"
   ]
  },
  {
   "cell_type": "code",
   "execution_count": 134,
   "metadata": {
    "scrolled": true
   },
   "outputs": [
    {
     "name": "stdout",
     "output_type": "stream",
     "text": [
      "data above probability cutoff: 0.98\n"
     ]
    },
    {
     "data": {
      "text/plain": [
       "0.6341463327407837"
      ]
     },
     "execution_count": 134,
     "metadata": {},
     "output_type": "execute_result"
    }
   ],
   "source": [
    "classifier.score(Xs, ys, **params)"
   ]
  },
  {
   "cell_type": "markdown",
   "metadata": {},
   "source": [
    "To think about...\n",
    "\n",
    "That above indicates that validation must have a weight.   \n",
    "Those samples that are more recent should receive a higher 'weight' somehow.\n",
    "\n",
    "We cannot train too much on a validation set that is too far behind on time. \n",
    "\n",
    "Also there are breaking points when the market totally loose correlation from the past.  \n",
    "For example above near end november."
   ]
  },
  {
   "cell_type": "markdown",
   "metadata": {},
   "source": [
    "### Best 78.4% on validation\n",
    "\n",
    "- `gamma`  should not be too low (~0.9) otherwise we have overfitting on training set \n",
    "- a low `gamma` value makes it go to a local minima that is the validation minima"
   ]
  },
  {
   "cell_type": "code",
   "execution_count": 135,
   "metadata": {},
   "outputs": [
    {
     "data": {
      "image/png": "[encoded data removed]",
      "text/plain": [
       "<Figure size 1080x360 with 3 Axes>"
      ]
     },
     "metadata": {
      "needs_background": "light"
     },
     "output_type": "display_data"
    }
   ],
   "source": [
    "classifier.viewResults()"
   ]
  },
  {
   "cell_type": "markdown",
   "metadata": {},
   "source": [
    "###  Results\n",
    "\n",
    "Let's see latest forecasts."
   ]
  },
  {
   "cell_type": "code",
   "execution_count": 136,
   "metadata": {
    "scrolled": true
   },
   "outputs": [
    {
     "data": {
      "text/html": [
       "<div>\n",
       "<style scoped>\n",
       "    .dataframe tbody tr th:only-of-type {\n",
       "        vertical-align: middle;\n",
       "    }\n",
       "\n",
       "    .dataframe tbody tr th {\n",
       "        vertical-align: top;\n",
       "    }\n",
       "\n",
       "    .dataframe thead th {\n",
       "        text-align: right;\n",
       "    }\n",
       "</style>\n",
       "<table border=\"1\" class=\"dataframe\">\n",
       "  <thead>\n",
       "    <tr style=\"text-align: right;\">\n",
       "      <th></th>\n",
       "      <th>O</th>\n",
       "      <th>H</th>\n",
       "      <th>L</th>\n",
       "      <th>C</th>\n",
       "      <th>TV</th>\n",
       "      <th>RV</th>\n",
       "      <th>sup</th>\n",
       "      <th>updown</th>\n",
       "    </tr>\n",
       "    <tr>\n",
       "      <th>time</th>\n",
       "      <th></th>\n",
       "      <th></th>\n",
       "      <th></th>\n",
       "      <th></th>\n",
       "      <th></th>\n",
       "      <th></th>\n",
       "      <th></th>\n",
       "      <th></th>\n",
       "    </tr>\n",
       "  </thead>\n",
       "  <tbody>\n",
       "    <tr>\n",
       "      <th>2019-01-17 17:52:00</th>\n",
       "      <td>-17.5</td>\n",
       "      <td>-15.0</td>\n",
       "      <td>-12.5</td>\n",
       "      <td>-15.0</td>\n",
       "      <td>0.065776</td>\n",
       "      <td>0.011219</td>\n",
       "      <td>1</td>\n",
       "      <td>0</td>\n",
       "    </tr>\n",
       "    <tr>\n",
       "      <th>2019-01-17 17:53:00</th>\n",
       "      <td>-15.0</td>\n",
       "      <td>-12.5</td>\n",
       "      <td>-17.5</td>\n",
       "      <td>-22.5</td>\n",
       "      <td>-0.035516</td>\n",
       "      <td>0.056515</td>\n",
       "      <td>0</td>\n",
       "      <td>0</td>\n",
       "    </tr>\n",
       "    <tr>\n",
       "      <th>2019-01-17 17:54:00</th>\n",
       "      <td>-22.5</td>\n",
       "      <td>-25.0</td>\n",
       "      <td>-42.5</td>\n",
       "      <td>-37.5</td>\n",
       "      <td>0.262313</td>\n",
       "      <td>0.296605</td>\n",
       "      <td>0</td>\n",
       "      <td>0</td>\n",
       "    </tr>\n",
       "  </tbody>\n",
       "</table>\n",
       "</div>"
      ],
      "text/plain": [
       "                        O     H     L     C        TV        RV  sup  updown\n",
       "time                                                                        \n",
       "2019-01-17 17:52:00 -17.5 -15.0 -12.5 -15.0  0.065776  0.011219    1       0\n",
       "2019-01-17 17:53:00 -15.0 -12.5 -17.5 -22.5 -0.035516  0.056515    0       0\n",
       "2019-01-17 17:54:00 -22.5 -25.0 -42.5 -37.5  0.262313  0.296605    0       0"
      ]
     },
     "execution_count": 136,
     "metadata": {},
     "output_type": "execute_result"
    }
   ],
   "source": [
    "dow.tail(3)"
   ]
  },
  {
   "cell_type": "markdown",
   "metadata": {},
   "source": [
    "### last 10 days / 10 * 2H hours"
   ]
  },
  {
   "cell_type": "code",
   "execution_count": 137,
   "metadata": {},
   "outputs": [],
   "source": [
    "pdays=10\n",
    "cutoff=0.5"
   ]
  },
  {
   "cell_type": "code",
   "execution_count": 138,
   "metadata": {
    "scrolled": true
   },
   "outputs": [
    {
     "name": "stdout",
     "output_type": "stream",
     "text": [
      "data above probability cutoff: 1.00\n"
     ]
    },
    {
     "data": {
      "text/plain": [
       "0.7999999970197678"
      ]
     },
     "execution_count": 138,
     "metadata": {},
     "output_type": "execute_result"
    }
   ],
   "source": [
    "classifier.score(Xs[-pdays:], ys[-pdays:], cutoff)"
   ]
  },
  {
   "cell_type": "markdown",
   "metadata": {},
   "source": [
    "## Time Now"
   ]
  },
  {
   "cell_type": "code",
   "execution_count": 139,
   "metadata": {},
   "outputs": [
    {
     "data": {
      "text/plain": [
       "(tensor([[0.5910, 0.4090]], device='cuda:0'), tensor([0], device='cuda:0'))"
      ]
     },
     "execution_count": 139,
     "metadata": {},
     "output_type": "execute_result"
    }
   ],
   "source": [
    "classifier.predict(th.tensor(Xfuture, dtype=th.float, device=device).unsqueeze(dim=0))"
   ]
  },
  {
   "cell_type": "markdown",
   "metadata": {},
   "source": [
    "### Cross validation Sequential Folds "
   ]
  },
  {
   "cell_type": "code",
   "execution_count": 140,
   "metadata": {},
   "outputs": [
    {
     "data": {
      "text/plain": [
       "<module 'algos.nn.torchCV' from '/home/andre/Projects/stocks/algos/nn/torchCV.py'>"
      ]
     },
     "execution_count": 140,
     "metadata": {},
     "output_type": "execute_result"
    }
   ],
   "source": [
    "importlib.reload(torchCV)"
   ]
  },
  {
   "cell_type": "code",
   "execution_count": 141,
   "metadata": {},
   "outputs": [],
   "source": [
    "# stand-by dont need this now, better use probabilyties before and test\n",
    "# to find the best cut-off\n",
    "# accuracy_clip = lambda m, x, y : torchCV.accuracy(m, x, y, cutoff=0.65)"
   ]
  },
  {
   "cell_type": "code",
   "execution_count": 142,
   "metadata": {},
   "outputs": [],
   "source": [
    "classifier = torchNN.BinaryNN(input_dim=X.shape[1], device=device, **nnparams)\n",
    "fitparams['verbose'] = False"
   ]
  },
  {
   "cell_type": "markdown",
   "metadata": {},
   "source": [
    "#### Run 100 cross-validations on the last n folds\n",
    "\n",
    "- save predictions as well its probabilities\n",
    "- pass params using dictionary for 'fit' method"
   ]
  },
  {
   "cell_type": "code",
   "execution_count": 164,
   "metadata": {},
   "outputs": [
    {
     "name": "stdout",
     "output_type": "stream",
     "text": [
      "[################################################################################] 54/54\n",
      "[################################################################################] 2/2\n",
      "[################################################################################] 2/2\n",
      "[################################################################################] 2/2\n",
      "[################################################################################] 54/54\n",
      "[################################################################################] 2/2\n",
      "[################################################################################] 2/2\n",
      "[################################################################################] 2/2\n",
      "[################################################################################] 54/54\n",
      "[################################################################################] 2/2\n",
      "[################################################################################] 2/2\n",
      "[################################################################################] 2/2\n",
      "[################################################################################] 54/54\n",
      "[################################################################################] 2/2\n",
      "[################################################################################] 2/2\n",
      "[################################################################################] 2/2\n",
      "[################################################################################] 54/54\n",
      "[################################################################################] 2/2\n",
      "[################################################################################] 2/2\n",
      "[################################################################################] 2/2\n",
      "[################################################################################] 54/54\n",
      "[################################################################################] 2/2\n",
      "[################################################################################] 2/2\n",
      "[################################################################################] 2/2\n",
      "[################################################################################] 54/54\n",
      "[################################################################################] 2/2\n",
      "[################################################################################] 2/2\n",
      "[################################################################################] 2/2\n",
      "[################################################################################] 54/54\n",
      "[################################################################################] 2/2\n",
      "[################################################################################] 2/2\n",
      "[################################################################################] 2/2\n",
      "[################################################################################] 54/54\n",
      "[################################################################################] 2/2\n",
      "[################################################################################] 2/2\n",
      "[################################################################################] 2/2\n",
      "[################################################################################] 54/54\n",
      "[################################################################################] 2/2\n",
      "[################################################################################] 2/2\n",
      "[################################################################################] 2/2\n",
      "[################################################################################] 54/54\n",
      "[################################################################################] 2/2\n",
      "[################################################################################] 2/2\n",
      "[################################################################################] 2/2\n",
      "[################################################################################] 54/54\n",
      "[################################################################################] 2/2\n",
      "[################################################################################] 2/2\n",
      "[################################################################################] 2/2\n",
      "[################################################################################] 54/54\n",
      "[################################################################################] 2/2\n",
      "[################################################################################] 2/2\n",
      "[################################################################################] 2/2\n",
      "[################################################################################] 54/54\n",
      "[################################################################################] 2/2\n",
      "[################################################################################] 2/2\n",
      "[################################################################################] 2/2\n",
      "[################################################################################] 54/54\n",
      "[################################################################################] 2/2\n",
      "[################################################################################] 2/2\n",
      "[################################################################################] 2/2\n",
      "[################################################################################] 54/54\n",
      "[################################################################################] 2/2\n",
      "[################################################################################] 2/2\n",
      "[################################################################################] 2/2\n",
      "[################################################################################] 54/54\n",
      "[################################################################################] 2/2\n",
      "[################################################################################] 2/2\n",
      "[################################################################################] 2/2\n",
      "[################################################################################] 54/54\n",
      "[################################################################################] 2/2\n",
      "[################################################################################] 2/2\n",
      "[################################################################################] 2/2\n",
      "[################################################################################] 54/54\n",
      "[################################################################################] 2/2\n",
      "[################################################################################] 2/2\n",
      "[################################################################################] 2/2\n",
      "[################################################################################] 54/54\n",
      "[################################################################################] 2/2\n",
      "[################################################################################] 2/2\n",
      "[################################################################################] 2/2\n",
      "[################################################################################] 54/54\n",
      "[################################################################################] 2/2\n",
      "[################################################################################] 2/2\n",
      "[################################################################################] 2/2\n",
      "[################################################################################] 54/54\n",
      "[################################################################################] 2/2\n",
      "[################################################################################] 2/2\n",
      "[################################################################################] 2/2\n",
      "[################################################################################] 54/54\n",
      "[################################################################################] 2/2\n",
      "[################################################################################] 2/2\n",
      "[################################################################################] 2/2\n",
      "[################################################################################] 54/54\n",
      "[################################################################################] 2/2\n",
      "[################################################################################] 2/2\n",
      "[################################################################################] 2/2\n",
      "[################################################################################] 54/54\n",
      "[################################################################################] 2/2\n",
      "[################################################################################] 2/2\n",
      "[################################################################################] 2/2\n",
      "[################################################################################] 54/54\n",
      "[################################################################################] 2/2\n",
      "[################################################################################] 2/2\n",
      "[################################################################################] 2/2\n",
      "[################################################################################] 54/54\n",
      "[################################################################################] 2/2\n",
      "[################################################################################] 2/2\n",
      "[################################################################################] 2/2\n",
      "[################################################################################] 54/54\n",
      "[################################################################################] 2/2\n",
      "[################################################################################] 2/2\n",
      "[################################################################################] 2/2\n",
      "[################################################################################] 54/54\n",
      "[################################################################################] 2/2\n",
      "[################################################################################] 2/2\n",
      "[################################################################################] 2/2\n",
      "[################################################################################] 54/54\n",
      "[################################################################################] 2/2\n",
      "[################################################################################] 2/2\n",
      "[################################################################################] 2/2\n",
      "[################################################################################] 54/54\n",
      "[################################################################################] 2/2\n",
      "[################################################################################] 2/2\n",
      "[################################################################################] 2/2\n",
      "[################################################################################] 54/54\n",
      "[################################################################################] 2/2\n",
      "[################################################################################] 2/2\n",
      "[################################################################################] 2/2\n",
      "[################################################################################] 54/54\n",
      "[################################################################################] 2/2\n",
      "[################################################################################] 2/2\n",
      "[################################################################################] 2/2\n",
      "[################################################################################] 54/54\n",
      "[################################################################################] 2/2\n",
      "[################################################################################] 2/2\n",
      "[################################################################################] 2/2\n",
      "[################################################################################] 54/54\n",
      "[################################################################################] 2/2\n",
      "[################################################################################] 2/2\n",
      "[################################################################################] 2/2\n",
      "[################################################################################] 54/54\n",
      "[################################################################################] 2/2\n",
      "[################################################################################] 2/2\n",
      "[################################################################################] 2/2\n",
      "[################################################################################] 54/54\n",
      "[################################################################################] 2/2\n",
      "[################################################################################] 2/2\n",
      "[################################################################################] 2/2\n",
      "[################################################################################] 54/54\n",
      "[################################################################################] 2/2\n",
      "[################################################################################] 2/2\n",
      "[################################################################################] 2/2\n",
      "[################################################################################] 54/54\n",
      "[################################################################################] 2/2\n",
      "[################################################################################] 2/2\n",
      "[################################################################################] 2/2\n",
      "[################################################################################] 54/54\n",
      "[################################################################################] 2/2\n",
      "[################################################################################] 2/2\n",
      "[################################################################################] 2/2\n",
      "[################################################################################] 54/54\n",
      "[################################################################################] 2/2\n",
      "[################################################################################] 2/2\n",
      "[################################################################################] 2/2\n",
      "[################################################################################] 54/54\n",
      "[################################################################################] 2/2\n",
      "[################################################################################] 2/2\n",
      "[################################################################################] 2/2\n",
      "[################################################################################] 54/54\n",
      "[################################################################################] 2/2\n",
      "[################################################################################] 2/2\n",
      "[################################################################################] 2/2\n",
      "[################################################################################] 54/54\n",
      "[################################################################################] 2/2\n",
      "[################################################################################] 2/2\n",
      "[################################################################################] 2/2\n",
      "[################################################################################] 54/54\n",
      "[################################################################################] 2/2\n",
      "[################################################################################] 2/2\n",
      "[################################################################################] 2/2\n",
      "[################################################################################] 54/54\n",
      "[################################################################################] 2/2\n",
      "[################################################################################] 2/2\n",
      "[################################################################################] 2/2\n",
      "[################################################################################] 54/54\n",
      "[################################################################################] 2/2\n"
     ]
    },
    {
     "name": "stdout",
     "output_type": "stream",
     "text": [
      "[################################################################################] 2/2\n",
      "[################################################################################] 2/2\n",
      "[################################################################################] 54/54\n",
      "[################################################################################] 2/2\n",
      "[################################################################################] 2/2\n",
      "[################################################################################] 2/2\n",
      "[################################################################################] 54/54\n",
      "[################################################################################] 2/2\n",
      "[################################################################################] 2/2\n",
      "[################################################################################] 2/2\n",
      "[################################################################################] 54/54\n",
      "[################################################################################] 2/2\n",
      "[################################################################################] 2/2\n",
      "[################################################################################] 2/2\n",
      "[################################################################################] 54/54\n",
      "[################################################################################] 2/2\n",
      "[################################################################################] 2/2\n",
      "[################################################################################] 2/2\n",
      "[################################################################################] 54/54\n",
      "[################################################################################] 2/2\n",
      "[################################################################################] 2/2\n",
      "[################################################################################] 2/2\n",
      "[################################################################################] 54/54\n",
      "[################################################################################] 2/2\n",
      "[################################################################################] 2/2\n",
      "[################################################################################] 2/2\n",
      "[################################################################################] 54/54\n",
      "[################################################################################] 2/2\n",
      "[################################################################################] 2/2\n",
      "[################################################################################] 2/2\n",
      "[################################################################################] 54/54\n",
      "[################################################################################] 2/2\n",
      "[################################################################################] 2/2\n",
      "[################################################################################] 2/2\n",
      "[################################################################################] 54/54\n",
      "[################################################################################] 2/2\n",
      "[################################################################################] 2/2\n",
      "[################################################################################] 2/2\n",
      "[################################################################################] 54/54\n",
      "[################################################################################] 2/2\n",
      "[################################################################################] 2/2\n",
      "[################################################################################] 2/2\n",
      "[################################################################################] 54/54\n",
      "[################################################################################] 2/2\n",
      "[################################################################################] 2/2\n",
      "[################################################################################] 2/2\n",
      "[################################################################################] 54/54\n",
      "[################################################################################] 2/2\n",
      "[################################################################################] 2/2\n",
      "[################################################################################] 2/2\n",
      "[################################################################################] 54/54\n",
      "[################################################################################] 2/2\n",
      "[################################################################################] 2/2\n",
      "[################################################################################] 2/2\n",
      "[################################################################################] 54/54\n",
      "[################################################################################] 2/2\n",
      "[################################################################################] 2/2\n",
      "[################################################################################] 2/2\n",
      "[################################################################################] 54/54\n",
      "[################################################################################] 2/2\n",
      "[################################################################################] 2/2\n",
      "[################################################################################] 2/2\n",
      "[################################################################################] 54/54\n",
      "[################################################################################] 2/2\n",
      "[################################################################################] 2/2\n",
      "[################################################################################] 2/2\n",
      "[################################################################################] 54/54\n",
      "[################################################################################] 2/2\n",
      "[################################################################################] 2/2\n",
      "[################################################################################] 2/2\n",
      "[################################################################################] 54/54\n",
      "[################################################################################] 2/2\n",
      "[################################################################################] 2/2\n",
      "[################################################################################] 2/2\n",
      "[################################################################################] 54/54\n",
      "[################################################################################] 2/2\n",
      "[################################################################################] 2/2\n",
      "[################################################################################] 2/2\n",
      "[################################################################################] 54/54\n",
      "[################################################################################] 2/2\n",
      "[################################################################################] 2/2\n",
      "[################################################################################] 2/2\n",
      "[################################################################################] 54/54\n",
      "[################################################################################] 2/2\n",
      "[################################################################################] 2/2\n",
      "[################################################################################] 2/2\n",
      "[################################################################################] 54/54\n",
      "[################################################################################] 2/2\n",
      "[################################################################################] 2/2\n",
      "[################################################################################] 2/2\n",
      "[################################################################################] 54/54\n",
      "[################################################################################] 2/2\n",
      "[################################################################################] 2/2\n",
      "[################################################################################] 2/2\n",
      "[################################################################################] 54/54\n",
      "[################################################################################] 2/2\n",
      "[################################################################################] 2/2\n",
      "[################################################################################] 2/2\n",
      "[################################################################################] 54/54\n",
      "[################################################################################] 2/2\n",
      "[################################################################################] 2/2\n",
      "[################################################################################] 2/2\n",
      "[################################################################################] 54/54\n",
      "[################################################################################] 2/2\n",
      "[################################################################################] 2/2\n",
      "[################################################################################] 2/2\n",
      "[################################################################################] 54/54\n",
      "[################################################################################] 2/2\n",
      "[################################################################################] 2/2\n",
      "[################################################################################] 2/2\n",
      "[################################################################################] 54/54\n",
      "[################################################################################] 2/2\n",
      "[################################################################################] 2/2\n",
      "[################################################################################] 2/2\n",
      "[################################################################################] 54/54\n",
      "[################################################################################] 2/2\n",
      "[################################################################################] 2/2\n",
      "[################################################################################] 2/2\n",
      "[################################################################################] 54/54\n",
      "[################################################################################] 2/2\n",
      "[################################################################################] 2/2\n",
      "[################################################################################] 2/2\n",
      "[################################################################################] 54/54\n",
      "[################################################################################] 2/2\n",
      "[################################################################################] 2/2\n",
      "[################################################################################] 2/2\n",
      "[################################################################################] 54/54\n",
      "[################################################################################] 2/2\n",
      "[################################################################################] 2/2\n",
      "[################################################################################] 2/2\n",
      "[################################################################################] 54/54\n",
      "[################################################################################] 2/2\n",
      "[################################################################################] 2/2\n",
      "[################################################################################] 2/2\n",
      "[################################################################################] 54/54\n",
      "[################################################################################] 2/2\n",
      "[################################################################################] 2/2\n",
      "[################################################################################] 2/2\n",
      "[################################################################################] 54/54\n",
      "[################################################################################] 2/2\n",
      "[################################################################################] 2/2\n",
      "[################################################################################] 2/2\n",
      "[################################################################################] 54/54\n",
      "[################################################################################] 2/2\n",
      "[################################################################################] 2/2\n",
      "[################################################################################] 2/2\n",
      "[################################################################################] 54/54\n",
      "[################################################################################] 2/2\n",
      "[################################################################################] 2/2\n",
      "[################################################################################] 2/2\n",
      "[################################################################################] 54/54\n",
      "[################################################################################] 2/2\n",
      "[################################################################################] 2/2\n",
      "[################################################################################] 2/2\n",
      "[################################################################################] 54/54\n",
      "[################################################################################] 2/2\n",
      "[################################################################################] 2/2\n",
      "[################################################################################] 2/2\n",
      "[################################################################################] 54/54\n",
      "[################################################################################] 2/2\n",
      "[################################################################################] 2/2\n",
      "[################################################################################] 2/2\n",
      "[################################################################################] 54/54\n",
      "[################################################################################] 2/2\n",
      "[################################################################################] 2/2\n",
      "[################################################################################] 2/2\n",
      "[################################################################################] 54/54\n",
      "[################################################################################] 2/2\n",
      "[################################################################################] 2/2\n",
      "[################################################################################] 2/2\n",
      "[################################################################################] 54/54\n",
      "[################################################################################] 2/2\n",
      "[################################################################################] 2/2\n",
      "[################################################################################] 2/2\n",
      "[################################################################################] 54/54\n",
      "[################################################################################] 2/2\n",
      "[################################################################################] 2/2\n",
      "[################################################################################] 2/2\n",
      "[################################################################################] 54/54\n",
      "[################################################################################] 2/2\n",
      "[################################################################################] 2/2\n",
      "[################################################################################] 2/2\n",
      "[################################################################################] 54/54\n",
      "[################################################################################] 2/2\n",
      "[################################################################################] 2/2\n",
      "[################################################################################] 2/2\n"
     ]
    },
    {
     "name": "stdout",
     "output_type": "stream",
     "text": [
      "[################################################################################] 54/54\n",
      "[################################################################################] 2/2\n",
      "[################################################################################] 2/2\n",
      "[################################################################################] 2/2\n",
      "[################################################################################] 54/54\n",
      "[################################################################################] 2/2\n",
      "[################################################################################] 2/2\n",
      "[################################################################################] 2/2\n",
      "[################################################################################] 54/54\n",
      "[################################################################################] 2/2\n",
      "[################################################################################] 2/2\n",
      "[################################################################################] 2/2\n",
      "[################################################################################] 54/54\n",
      "[################################################################################] 2/2\n",
      "[################################################################################] 2/2\n",
      "[################################################################################] 2/2\n",
      "[################################################################################] 54/54\n",
      "[################################################################################] 2/2\n",
      "[################################################################################] 2/2\n",
      "[################################################################################] 2/2\n",
      "[################################################################################] 54/54\n",
      "[################################################################################] 2/2\n",
      "[################################################################################] 2/2\n",
      "[################################################################################] 2/2\n",
      "[################################################################################] 54/54\n",
      "[################################################################################] 2/2\n",
      "[################################################################################] 2/2\n",
      "[################################################################################] 2/2\n",
      "[################################################################################] 54/54\n",
      "[################################################################################] 2/2\n",
      "[################################################################################] 2/2\n",
      "[################################################################################] 2/2\n",
      "[################################################################################] 54/54\n",
      "[################################################################################] 2/2\n",
      "[################################################################################] 2/2\n",
      "[################################################################################] 2/2\n",
      "[################################################################################] 54/54\n",
      "[################################################################################] 2/2\n",
      "[################################################################################] 2/2\n",
      "[################################################################################] 2/2\n",
      "[################################################################################] 54/54\n",
      "[################################################################################] 2/2\n",
      "[################################################################################] 2/2\n",
      "[################################################################################] 2/2\n",
      "[################################################################################] 54/54\n",
      "[################################################################################] 2/2\n",
      "[################################################################################] 2/2\n",
      "[################################################################################] 2/2\n",
      "[################################################################################] 54/54\n",
      "[################################################################################] 2/2\n",
      "[################################################################################] 2/2\n",
      "[################################################################################] 2/2\n",
      "[################################################################################] 54/54\n",
      "[################################################################################] 2/2\n",
      "[################################################################################] 2/2\n",
      "[################################################################################] 2/2\n",
      "[################################################################################] 54/54\n",
      "[################################################################################] 2/2\n",
      "[################################################################################] 2/2\n",
      "[################################################################################] 2/2\n",
      "[################################################################################] 54/54\n",
      "[################################################################################] 2/2\n",
      "[################################################################################] 2/2\n",
      "[################################################################################] 2/2\n",
      "[################################################################################] 54/54\n",
      "[################################################################################] 2/2\n",
      "[################################################################################] 2/2\n",
      "[################################################################################] 2/2\n",
      "[################################################################################] 54/54\n",
      "[################################################################################] 2/2\n",
      "[################################################################################] 2/2\n",
      "[################################################################################] 2/2\n",
      "[################################################################################] 54/54\n",
      "[################################################################################] 2/2\n",
      "[################################################################################] 2/2\n",
      "[################################################################################] 2/2\n",
      "[################################################################################] 54/54\n",
      "[################################################################################] 2/2\n",
      "[################################################################################] 2/2\n",
      "[################################################################################] 2/2\n",
      "[################################################################################] 54/54\n",
      "[################################################################################] 2/2\n",
      "[################################################################################] 2/2\n",
      "[################################################################################] 2/2\n",
      "[################################################################################] 54/54\n",
      "[################################################################################] 2/2\n",
      "[################################################################################] 2/2\n",
      "[################################################################################] 2/2\n",
      "[################################################################################] 54/54\n",
      "[################################################################################] 2/2\n",
      "[################################################################################] 2/2\n",
      "[################################################################################] 2/2\n",
      "[################################################################################] 54/54\n",
      "[################################################################################] 2/2\n",
      "[################################################################################] 2/2\n",
      "[################################################################################] 2/2\n",
      "[################################################################################] 54/54\n",
      "[################################################################################] 2/2\n",
      "[################################################################################] 2/2\n",
      "[################################################################################] 2/2\n",
      "[################################################################################] 54/54\n",
      "[################################################################################] 2/2\n",
      "[################################################################################] 2/2\n",
      "[################################################################################] 2/2\n",
      "[################################################################################] 54/54\n",
      "[################################################################################] 2/2\n",
      "[################################################################################] 2/2\n",
      "[################################################################################] 2/2\n",
      "[################################################################################] 54/54\n",
      "[################################################################################] 2/2\n",
      "[################################################################################] 2/2\n",
      "[################################################################################] 2/2\n",
      "[################################################################################] 54/54\n",
      "[################################################################################] 2/2\n",
      "[################################################################################] 2/2\n",
      "[################################################################################] 2/2\n",
      "[################################################################################] 54/54\n",
      "[################################################################################] 2/2\n",
      "[################################################################################] 2/2\n",
      "[################################################################################] 2/2\n",
      "[################################################################################] 54/54\n",
      "[################################################################################] 2/2\n",
      "[################################################################################] 2/2\n",
      "[################################################################################] 2/2\n",
      "[################################################################################] 54/54\n",
      "[################################################################################] 2/2\n",
      "[################################################################################] 2/2\n",
      "[################################################################################] 2/2\n",
      "[################################################################################] 54/54\n",
      "[################################################################################] 2/2\n",
      "[################################################################################] 2/2\n",
      "[################################################################################] 2/2\n",
      "[################################################################################] 54/54\n",
      "[################################################################################] 2/2\n",
      "[################################################################################] 2/2\n",
      "[################################################################################] 2/2\n",
      "[################################################################################] 54/54\n",
      "[################################################################################] 2/2\n",
      "[################################################################################] 2/2\n",
      "[################################################################################] 2/2\n",
      "[################################################################################] 54/54\n",
      "[################################################################################] 2/2\n",
      "[################################################################################] 2/2\n",
      "[################################################################################] 2/2\n",
      "[################################################################################] 54/54\n",
      "[################################################################################] 2/2\n",
      "[################################################################################] 2/2\n",
      "[################################################################################] 2/2\n",
      "[################################################################################] 54/54\n",
      "[################################################################################] 2/2\n",
      "[################################################################################] 2/2\n",
      "[################################################################################] 2/2\n",
      "[################################################################################] 54/54\n",
      "[################################################################################] 2/2\n",
      "[################################################################################] 2/2\n",
      "[################################################################################] 2/2\n",
      "[################################################################################] 54/54\n",
      "[################################################################################] 2/2\n",
      "[################################################################################] 2/2\n",
      "[################################################################################] 2/2\n",
      "[################################################################################] 54/54\n",
      "[################################################################################] 2/2\n",
      "[################################################################################] 2/2\n",
      "[################################################################################] 2/2\n",
      "[################################################################################] 54/54\n",
      "[################################################################################] 2/2\n",
      "[################################################################################] 2/2\n",
      "[################################################################################] 2/2\n",
      "[################################################################################] 54/54\n",
      "[################################################################################] 2/2\n",
      "[################################################################################] 2/2\n",
      "[################################################################################] 2/2\n",
      "[################################################################################] 54/54\n",
      "[################################################################################] 2/2\n",
      "[################################################################################] 2/2\n",
      "[################################################################################] 2/2\n",
      "[################################################################################] 54/54\n",
      "[################################################################################] 2/2\n",
      "[################################################################################] 2/2\n",
      "[################################################################################] 2/2\n",
      "[################################################################################] 54/54\n",
      "[################################################################################] 2/2\n",
      "[################################################################################] 2/2\n",
      "[################################################################################] 2/2\n",
      "[################################################################################] 54/54\n",
      "[################################################################################] 2/2\n"
     ]
    },
    {
     "name": "stdout",
     "output_type": "stream",
     "text": [
      "[################################################################################] 2/2\n",
      "[################################################################################] 2/2\n",
      "[################################################################################] 54/54\n",
      "[################################################################################] 2/2\n",
      "[################################################################################] 2/2\n",
      "[################################################################################] 2/2\n",
      "[################################################################################] 54/54\n",
      "[################################################################################] 2/2\n",
      "[################################################################################] 2/2\n",
      "[################################################################################] 2/2\n",
      "[################################################################################] 54/54\n",
      "[################################################################################] 2/2\n",
      "[################################################################################] 2/2\n",
      "[################################################################################] 2/2\n",
      "[################################################################################] 54/54\n",
      "[################################################################################] 2/2\n",
      "[################################################################################] 2/2\n",
      "[################################################################################] 2/2\n",
      "[################################################################################] 54/54\n",
      "[################################################################################] 2/2\n",
      "[################################################################################] 2/2\n",
      "[################################################################################] 2/2\n",
      "[################################################################################] 54/54\n",
      "[################################################################################] 2/2\n",
      "[################################################################################] 2/2\n",
      "[################################################################################] 2/2\n",
      "[################################################################################] 54/54\n",
      "[################################################################################] 2/2\n",
      "[################################################################################] 2/2\n",
      "[################################################################################] 2/2\n",
      "[################################################################################] 54/54\n",
      "[################################################################################] 2/2\n",
      "[################################################################################] 2/2\n",
      "[################################################################################] 2/2\n",
      "[################################################################################] 54/54\n",
      "[################################################################################] 2/2\n",
      "[################################################################################] 2/2\n",
      "[################################################################################] 2/2\n",
      "[################################################################################] 54/54\n",
      "[################################################################################] 2/2\n",
      "[################################################################################] 2/2\n",
      "[################################################################################] 2/2\n",
      "[################################################################################] 54/54\n",
      "[################################################################################] 2/2\n",
      "[################################################################################] 2/2\n",
      "[################################################################################] 2/2\n",
      "[################################################################################] 54/54\n",
      "[################################################################################] 2/2\n",
      "[################################################################################] 2/2\n",
      "[################################################################################] 2/2\n",
      "[################################################################################] 54/54\n",
      "[################################################################################] 2/2\n",
      "[################################################################################] 2/2\n",
      "[################################################################################] 2/2\n",
      "[################################################################################] 54/54\n",
      "[################################################################################] 2/2\n",
      "[################################################################################] 2/2\n",
      "[################################################################################] 2/2\n",
      "[################################################################################] 54/54\n",
      "[################################################################################] 2/2\n",
      "[################################################################################] 2/2\n",
      "[################################################################################] 2/2\n",
      "[################################################################################] 54/54\n",
      "[################################################################################] 2/2\n",
      "[################################################################################] 2/2\n",
      "[################################################################################] 2/2\n",
      "[################################################################################] 54/54\n",
      "[################################################################################] 2/2\n",
      "[################################################################################] 2/2\n",
      "[################################################################################] 2/2\n",
      "[################################################################################] 54/54\n",
      "[################################################################################] 2/2\n",
      "[################################################################################] 2/2\n",
      "[################################################################################] 2/2\n",
      "[################################################################################] 54/54\n",
      "[################################################################################] 2/2\n",
      "[################################################################################] 2/2\n",
      "[################################################################################] 2/2\n",
      "[################################################################################] 54/54\n",
      "[################################################################################] 2/2\n",
      "[################################################################################] 2/2\n",
      "[################################################################################] 2/2\n",
      "[################################################################################] 54/54\n",
      "[################################################################################] 2/2\n",
      "[################################################################################] 2/2\n",
      "[################################################################################] 2/2\n",
      "[################################################################################] 54/54\n",
      "[################################################################################] 2/2\n",
      "[################################################################################] 2/2\n",
      "[################################################################################] 2/2\n",
      "[################################################################################] 54/54\n",
      "[################################################################################] 2/2\n",
      "[################################################################################] 2/2\n",
      "[################################################################################] 2/2\n",
      "[################################################################################] 54/54\n",
      "[################################################################################] 2/2\n",
      "[################################################################################] 2/2\n",
      "[################################################################################] 2/2\n",
      "[################################################################################] 54/54\n",
      "[################################################################################] 2/2\n",
      "[################################################################################] 2/2\n",
      "[################################################################################] 2/2\n",
      "[################################################################################] 54/54\n",
      "[################################################################################] 2/2\n",
      "[################################################################################] 2/2\n",
      "[################################################################################] 2/2\n",
      "[################################################################################] 54/54\n",
      "[################################################################################] 2/2\n",
      "[################################################################################] 2/2\n",
      "[################################################################################] 2/2\n",
      "[################################################################################] 54/54\n",
      "[################################################################################] 2/2\n",
      "[################################################################################] 2/2\n",
      "[################################################################################] 2/2\n",
      "[################################################################################] 54/54\n",
      "[################################################################################] 2/2\n",
      "[################################################################################] 2/2\n",
      "[################################################################################] 2/2\n",
      "[################################################################################] 54/54\n",
      "[################################################################################] 2/2\n",
      "[################################################################################] 2/2\n",
      "[################################################################################] 2/2\n",
      "[################################################################################] 54/54\n",
      "[################################################################################] 2/2\n",
      "[################################################################################] 2/2\n",
      "[################################################################################] 2/2\n",
      "[################################################################################] 54/54\n",
      "[################################################################################] 2/2\n",
      "[################################################################################] 2/2\n",
      "[################################################################################] 2/2\n",
      "[################################################################################] 54/54\n",
      "[################################################################################] 2/2\n",
      "[################################################################################] 2/2\n",
      "[################################################################################] 2/2\n",
      "[################################################################################] 54/54\n",
      "[################################################################################] 2/2\n",
      "[################################################################################] 2/2\n",
      "[################################################################################] 2/2\n",
      "[################################################################################] 54/54\n",
      "[################################################################################] 2/2\n",
      "[################################################################################] 2/2\n",
      "[################################################################################] 2/2\n",
      "[################################################################################] 54/54\n",
      "[################################################################################] 2/2\n",
      "[################################################################################] 2/2\n",
      "[################################################################################] 2/2\n",
      "[################################################################################] 54/54\n",
      "[################################################################################] 2/2\n",
      "[################################################################################] 2/2\n",
      "[################################################################################] 2/2\n",
      "[################################################################################] 54/54\n",
      "[################################################################################] 2/2\n",
      "[################################################################################] 2/2\n",
      "[################################################################################] 2/2\n",
      "[################################################################################] 54/54\n",
      "[################################################################################] 2/2\n",
      "[################################################################################] 2/2\n",
      "[################################################################################] 2/2\n",
      "[################################################################################] 54/54\n",
      "[################################################################################] 2/2\n",
      "[################################################################################] 2/2\n",
      "[################################################################################] 2/2\n",
      "[################################################################################] 54/54\n",
      "[################################################################################] 2/2\n",
      "[################################################################################] 2/2\n",
      "[################################################################################] 2/2\n",
      "[################################################################################] 54/54\n",
      "[################################################################################] 2/2\n",
      "[################################################################################] 2/2\n",
      "[################################################################################] 2/2\n",
      "[################################################################################] 54/54\n",
      "[################################################################################] 2/2\n",
      "[################################################################################] 2/2\n",
      "[################################################################################] 2/2\n",
      "[################################################################################] 54/54\n",
      "[################################################################################] 2/2\n",
      "[################################################################################] 2/2\n",
      "[################################################################################] 2/2\n",
      "[################################################################################] 54/54\n",
      "[################################################################################] 2/2\n",
      "[################################################################################] 2/2\n",
      "[################################################################################] 2/2\n",
      "[################################################################################] 54/54\n",
      "[################################################################################] 2/2\n",
      "[################################################################################] 2/2\n",
      "[################################################################################] 2/2\n"
     ]
    },
    {
     "name": "stdout",
     "output_type": "stream",
     "text": [
      "[################################################################################] 54/54\n",
      "[################################################################################] 2/2\n",
      "[################################################################################] 2/2\n",
      "[################################################################################] 2/2\n",
      "[################################################################################] 54/54\n",
      "[################################################################################] 2/2\n",
      "[################################################################################] 2/2\n",
      "[################################################################################] 2/2\n",
      "[################################################################################] 54/54\n",
      "[################################################################################] 2/2\n",
      "[################################################################################] 2/2\n",
      "[################################################################################] 2/2\n",
      "[################################################################################] 54/54\n",
      "[################################################################################] 2/2\n",
      "[################################################################################] 2/2\n",
      "[################################################################################] 2/2\n",
      "[################################################################################] 54/54\n",
      "[################################################################################] 2/2\n",
      "[################################################################################] 2/2\n",
      "[################################################################################] 2/2\n",
      "[################################################################################] 54/54\n",
      "[################################################################################] 2/2\n",
      "[################################################################################] 2/2\n",
      "[################################################################################] 2/2\n",
      "[################################################################################] 54/54\n",
      "[################################################################################] 2/2\n",
      "[################################################################################] 2/2\n",
      "[################################################################################] 2/2\n",
      "[################################################################################] 54/54\n",
      "[################################################################################] 2/2\n",
      "[################################################################################] 2/2\n",
      "[################################################################################] 2/2\n",
      "[################################################################################] 54/54\n",
      "[################################################################################] 2/2\n",
      "[################################################################################] 2/2\n",
      "[################################################################################] 2/2\n",
      "[################################################################################] 54/54\n",
      "[################################################################################] 2/2\n",
      "[################################################################################] 2/2\n",
      "[################################################################################] 2/2\n",
      "[################################################################################] 54/54\n",
      "[################################################################################] 2/2\n",
      "[################################################################################] 2/2\n",
      "[################################################################################] 2/2\n",
      "[################################################################################] 54/54\n",
      "[################################################################################] 2/2\n",
      "[################################################################################] 2/2\n",
      "[################################################################################] 2/2\n",
      "[################################################################################] 54/54\n",
      "[################################################################################] 2/2\n",
      "[################################################################################] 2/2\n",
      "[################################################################################] 2/2\n",
      "[################################################################################] 54/54\n",
      "[################################################################################] 2/2\n",
      "[################################################################################] 2/2\n",
      "[################################################################################] 2/2\n"
     ]
    }
   ],
   "source": [
    "# torchCV.sCrossValidate(X, Y, classifier, foldsize=ntrain, cv=3, \n",
    "#                        fit_params=params, scores=[accuracy_clip], predict=True)\n",
    "results = torchCV.sCrossValidate(X, Y, classifier, foldsize=ntrain, ratio=0.90, cv=200, fine=3, \n",
    "                       fit_params=fitparams, kind='randn', predict=True)"
   ]
  },
  {
   "cell_type": "code",
   "execution_count": 165,
   "metadata": {},
   "outputs": [],
   "source": [
    "metrics = pd.DataFrame(results, columns=['idx', 'trainac', 'validac', 'accpred', 'predb0', 'predb1', 'y' ])"
   ]
  },
  {
   "cell_type": "markdown",
   "metadata": {},
   "source": [
    "### Need to run cross-validation again \n",
    "\n"
   ]
  },
  {
   "cell_type": "code",
   "execution_count": 166,
   "metadata": {},
   "outputs": [
    {
     "data": {
      "text/html": [
       "<div>\n",
       "<style scoped>\n",
       "    .dataframe tbody tr th:only-of-type {\n",
       "        vertical-align: middle;\n",
       "    }\n",
       "\n",
       "    .dataframe tbody tr th {\n",
       "        vertical-align: top;\n",
       "    }\n",
       "\n",
       "    .dataframe thead th {\n",
       "        text-align: right;\n",
       "    }\n",
       "</style>\n",
       "<table border=\"1\" class=\"dataframe\">\n",
       "  <thead>\n",
       "    <tr style=\"text-align: right;\">\n",
       "      <th></th>\n",
       "      <th>idx</th>\n",
       "      <th>trainac</th>\n",
       "      <th>validac</th>\n",
       "      <th>accpred</th>\n",
       "      <th>predb0</th>\n",
       "      <th>predb1</th>\n",
       "      <th>y</th>\n",
       "    </tr>\n",
       "  </thead>\n",
       "  <tbody>\n",
       "    <tr>\n",
       "      <th>0</th>\n",
       "      <td>341187.0</td>\n",
       "      <td>0.572271</td>\n",
       "      <td>0.513158</td>\n",
       "      <td>1.0</td>\n",
       "      <td>0.536901</td>\n",
       "      <td>0.463099</td>\n",
       "      <td>0.0</td>\n",
       "    </tr>\n",
       "    <tr>\n",
       "      <th>1</th>\n",
       "      <td>330169.0</td>\n",
       "      <td>0.576696</td>\n",
       "      <td>0.644737</td>\n",
       "      <td>1.0</td>\n",
       "      <td>0.480407</td>\n",
       "      <td>0.519593</td>\n",
       "      <td>1.0</td>\n",
       "    </tr>\n",
       "    <tr>\n",
       "      <th>2</th>\n",
       "      <td>189588.0</td>\n",
       "      <td>0.563422</td>\n",
       "      <td>0.526316</td>\n",
       "      <td>1.0</td>\n",
       "      <td>0.533079</td>\n",
       "      <td>0.466921</td>\n",
       "      <td>0.0</td>\n",
       "    </tr>\n",
       "    <tr>\n",
       "      <th>3</th>\n",
       "      <td>424408.0</td>\n",
       "      <td>0.557522</td>\n",
       "      <td>0.539474</td>\n",
       "      <td>0.0</td>\n",
       "      <td>0.593250</td>\n",
       "      <td>0.406750</td>\n",
       "      <td>1.0</td>\n",
       "    </tr>\n",
       "    <tr>\n",
       "      <th>4</th>\n",
       "      <td>33546.0</td>\n",
       "      <td>0.544248</td>\n",
       "      <td>0.539474</td>\n",
       "      <td>0.0</td>\n",
       "      <td>0.592998</td>\n",
       "      <td>0.407002</td>\n",
       "      <td>1.0</td>\n",
       "    </tr>\n",
       "  </tbody>\n",
       "</table>\n",
       "</div>"
      ],
      "text/plain": [
       "        idx   trainac   validac  accpred    predb0    predb1    y\n",
       "0  341187.0  0.572271  0.513158      1.0  0.536901  0.463099  0.0\n",
       "1  330169.0  0.576696  0.644737      1.0  0.480407  0.519593  1.0\n",
       "2  189588.0  0.563422  0.526316      1.0  0.533079  0.466921  0.0\n",
       "3  424408.0  0.557522  0.539474      0.0  0.593250  0.406750  1.0\n",
       "4   33546.0  0.544248  0.539474      0.0  0.592998  0.407002  1.0"
      ]
     },
     "execution_count": 166,
     "metadata": {},
     "output_type": "execute_result"
    }
   ],
   "source": [
    "metrics.head()"
   ]
  },
  {
   "cell_type": "code",
   "execution_count": 167,
   "metadata": {},
   "outputs": [],
   "source": [
    "metrics.idx = metrics.idx.values.astype(int)\n",
    "metrics.y = metrics.y.values.astype(int)"
   ]
  },
  {
   "cell_type": "markdown",
   "metadata": {},
   "source": [
    "#### What is the best cut-off\n",
    "\n",
    "Better do interactvly cutting and calculating the percentage... of data  \n",
    "should also vary at the same time the model score to see where is the best  \n",
    "balance between data-percentage and accuracy. "
   ]
  },
  {
   "cell_type": "code",
   "execution_count": 168,
   "metadata": {},
   "outputs": [
    {
     "data": {
      "text/plain": [
       "0.5"
      ]
     },
     "execution_count": 168,
     "metadata": {},
     "output_type": "execute_result"
    }
   ],
   "source": [
    "np.mean(metrics.accpred)"
   ]
  },
  {
   "cell_type": "code",
   "execution_count": 169,
   "metadata": {},
   "outputs": [],
   "source": [
    "metrics['probmax'] = metrics.apply(lambda x:  max(x.predb0, x.predb1), axis=1)"
   ]
  },
  {
   "cell_type": "code",
   "execution_count": 170,
   "metadata": {
    "scrolled": true
   },
   "outputs": [
    {
     "data": {
      "text/plain": [
       "<seaborn.axisgrid.JointGrid at 0x7f6db4e03be0>"
      ]
     },
     "execution_count": 170,
     "metadata": {},
     "output_type": "execute_result"
    },
    {
     "data": {
      "image/png": "[encoded data removed]",
      "text/plain": [
       "<Figure size 432x432 with 3 Axes>"
      ]
     },
     "metadata": {
      "needs_background": "light"
     },
     "output_type": "display_data"
    }
   ],
   "source": [
    "sns.jointplot(metrics.accpred, metrics.probmax, kind='kde')"
   ]
  },
  {
   "cell_type": "code",
   "execution_count": 171,
   "metadata": {},
   "outputs": [
    {
     "data": {
      "text/plain": [
       "<matplotlib.axes._subplots.AxesSubplot at 0x7f6db4c60e48>"
      ]
     },
     "execution_count": 171,
     "metadata": {},
     "output_type": "execute_result"
    },
    {
     "data": {
      "image/png": "[encoded data removed]",
      "text/plain": [
       "<Figure size 432x288 with 1 Axes>"
      ]
     },
     "metadata": {
      "needs_background": "light"
     },
     "output_type": "display_data"
    }
   ],
   "source": [
    "metrics.accpred.hist()"
   ]
  },
  {
   "cell_type": "code",
   "execution_count": 172,
   "metadata": {},
   "outputs": [],
   "source": [
    "import talib as ta"
   ]
  },
  {
   "cell_type": "markdown",
   "metadata": {},
   "source": [
    "### Average Accuracy by 5"
   ]
  },
  {
   "cell_type": "code",
   "execution_count": 173,
   "metadata": {
    "scrolled": true
   },
   "outputs": [
    {
     "name": "stdout",
     "output_type": "stream",
     "text": [
      "[0.  0.  0.2 0.6 0.8]\n"
     ]
    },
    {
     "data": {
      "image/png": "[encoded data removed]",
      "text/plain": [
       "<Figure size 288x144 with 1 Axes>"
      ]
     },
     "metadata": {
      "needs_background": "light"
     },
     "output_type": "display_data"
    }
   ],
   "source": [
    "metrics['davpredac'] = ta.SMA(metrics.accpred.values, 5)\n",
    "plt.figure(figsize=(4,2))\n",
    "plt.hist(metrics.davpredac.dropna());\n",
    "print(np.percentile(metrics.davpredac.dropna().values, (0, 1, 10, 50, 90)))\n",
    "# davpredac_c = ta.SMA(metrics.predac_c.dropna().astype(np.double), 4)\n",
    "# plt.figure(figsize=(4,2))\n",
    "# plt.hist(davpredac_c.dropna());\n",
    "# print(np.percentile(davpredac_c.dropna(), (0, 1, 10, 50, 90)))"
   ]
  },
  {
   "cell_type": "code",
   "execution_count": 174,
   "metadata": {},
   "outputs": [],
   "source": [
    "metrics['modelscore'] = np.sqrt(metrics.trainac+2*metrics.validac)*metrics.probmax"
   ]
  },
  {
   "cell_type": "code",
   "execution_count": 175,
   "metadata": {},
   "outputs": [
    {
     "data": {
      "text/plain": [
       "<seaborn.axisgrid.JointGrid at 0x7f6db49f17b8>"
      ]
     },
     "execution_count": 175,
     "metadata": {},
     "output_type": "execute_result"
    },
    {
     "data": {
      "image/png": "[encoded data removed]",
      "text/plain": [
       "<Figure size 432x432 with 3 Axes>"
      ]
     },
     "metadata": {
      "needs_background": "light"
     },
     "output_type": "display_data"
    }
   ],
   "source": [
    "sns.jointplot(metrics.modelscore, metrics.davpredac, kind='kde')"
   ]
  },
  {
   "cell_type": "code",
   "execution_count": 182,
   "metadata": {
    "scrolled": true
   },
   "outputs": [
    {
     "name": "stdout",
     "output_type": "stream",
     "text": [
      "[0.    0.026 0.2   0.4   0.74 ]\n"
     ]
    }
   ],
   "source": [
    "print(np.percentile(metrics.davpredac[ metrics.modelscore > 0.9 ].dropna(), (0, 1, 10, 50, 90)))"
   ]
  },
  {
   "cell_type": "code",
   "execution_count": 183,
   "metadata": {},
   "outputs": [
    {
     "data": {
      "text/plain": [
       "0.2602040816326531"
      ]
     },
     "execution_count": 183,
     "metadata": {},
     "output_type": "execute_result"
    }
   ],
   "source": [
    "len(metrics.davpredac[ metrics.modelscore > 0.78 ].dropna())/len(metrics.davpredac.dropna())"
   ]
  },
  {
   "cell_type": "code",
   "execution_count": 184,
   "metadata": {},
   "outputs": [
    {
     "data": {
      "text/html": [
       "<div>\n",
       "<style scoped>\n",
       "    .dataframe tbody tr th:only-of-type {\n",
       "        vertical-align: middle;\n",
       "    }\n",
       "\n",
       "    .dataframe tbody tr th {\n",
       "        vertical-align: top;\n",
       "    }\n",
       "\n",
       "    .dataframe thead th {\n",
       "        text-align: right;\n",
       "    }\n",
       "</style>\n",
       "<table border=\"1\" class=\"dataframe\">\n",
       "  <thead>\n",
       "    <tr style=\"text-align: right;\">\n",
       "      <th></th>\n",
       "      <th>idx</th>\n",
       "      <th>trainac</th>\n",
       "      <th>validac</th>\n",
       "      <th>accpred</th>\n",
       "      <th>predb0</th>\n",
       "      <th>predb1</th>\n",
       "      <th>y</th>\n",
       "      <th>probmax</th>\n",
       "      <th>davpredac</th>\n",
       "      <th>modelscore</th>\n",
       "    </tr>\n",
       "  </thead>\n",
       "  <tbody>\n",
       "    <tr>\n",
       "      <th>190</th>\n",
       "      <td>501360</td>\n",
       "      <td>0.553097</td>\n",
       "      <td>0.539474</td>\n",
       "      <td>0.0</td>\n",
       "      <td>0.490055</td>\n",
       "      <td>0.509945</td>\n",
       "      <td>0</td>\n",
       "      <td>0.509945</td>\n",
       "      <td>0.8</td>\n",
       "      <td>0.651463</td>\n",
       "    </tr>\n",
       "    <tr>\n",
       "      <th>191</th>\n",
       "      <td>170677</td>\n",
       "      <td>0.535398</td>\n",
       "      <td>0.486842</td>\n",
       "      <td>0.0</td>\n",
       "      <td>0.529867</td>\n",
       "      <td>0.470133</td>\n",
       "      <td>1</td>\n",
       "      <td>0.529867</td>\n",
       "      <td>0.6</td>\n",
       "      <td>0.650914</td>\n",
       "    </tr>\n",
       "    <tr>\n",
       "      <th>192</th>\n",
       "      <td>49396</td>\n",
       "      <td>0.582596</td>\n",
       "      <td>0.552632</td>\n",
       "      <td>1.0</td>\n",
       "      <td>0.653202</td>\n",
       "      <td>0.346798</td>\n",
       "      <td>0</td>\n",
       "      <td>0.653202</td>\n",
       "      <td>0.6</td>\n",
       "      <td>0.848625</td>\n",
       "    </tr>\n",
       "    <tr>\n",
       "      <th>193</th>\n",
       "      <td>508944</td>\n",
       "      <td>0.572271</td>\n",
       "      <td>0.513158</td>\n",
       "      <td>1.0</td>\n",
       "      <td>0.681893</td>\n",
       "      <td>0.318107</td>\n",
       "      <td>0</td>\n",
       "      <td>0.681893</td>\n",
       "      <td>0.6</td>\n",
       "      <td>0.862152</td>\n",
       "    </tr>\n",
       "    <tr>\n",
       "      <th>194</th>\n",
       "      <td>157065</td>\n",
       "      <td>0.563422</td>\n",
       "      <td>0.578947</td>\n",
       "      <td>1.0</td>\n",
       "      <td>0.535648</td>\n",
       "      <td>0.464352</td>\n",
       "      <td>0</td>\n",
       "      <td>0.535648</td>\n",
       "      <td>0.6</td>\n",
       "      <td>0.702764</td>\n",
       "    </tr>\n",
       "    <tr>\n",
       "      <th>195</th>\n",
       "      <td>471819</td>\n",
       "      <td>0.502950</td>\n",
       "      <td>0.500000</td>\n",
       "      <td>0.0</td>\n",
       "      <td>0.494114</td>\n",
       "      <td>0.505886</td>\n",
       "      <td>0</td>\n",
       "      <td>0.505886</td>\n",
       "      <td>0.6</td>\n",
       "      <td>0.620190</td>\n",
       "    </tr>\n",
       "    <tr>\n",
       "      <th>196</th>\n",
       "      <td>60560</td>\n",
       "      <td>0.589970</td>\n",
       "      <td>0.539474</td>\n",
       "      <td>0.0</td>\n",
       "      <td>0.662196</td>\n",
       "      <td>0.337804</td>\n",
       "      <td>1</td>\n",
       "      <td>0.662196</td>\n",
       "      <td>0.6</td>\n",
       "      <td>0.855468</td>\n",
       "    </tr>\n",
       "    <tr>\n",
       "      <th>197</th>\n",
       "      <td>126102</td>\n",
       "      <td>0.556047</td>\n",
       "      <td>0.578947</td>\n",
       "      <td>0.0</td>\n",
       "      <td>0.535446</td>\n",
       "      <td>0.464554</td>\n",
       "      <td>1</td>\n",
       "      <td>0.535446</td>\n",
       "      <td>0.4</td>\n",
       "      <td>0.700993</td>\n",
       "    </tr>\n",
       "    <tr>\n",
       "      <th>198</th>\n",
       "      <td>32391</td>\n",
       "      <td>0.538348</td>\n",
       "      <td>0.473684</td>\n",
       "      <td>1.0</td>\n",
       "      <td>0.506178</td>\n",
       "      <td>0.493822</td>\n",
       "      <td>0</td>\n",
       "      <td>0.506178</td>\n",
       "      <td>0.4</td>\n",
       "      <td>0.616980</td>\n",
       "    </tr>\n",
       "    <tr>\n",
       "      <th>199</th>\n",
       "      <td>264155</td>\n",
       "      <td>0.474926</td>\n",
       "      <td>0.539474</td>\n",
       "      <td>0.0</td>\n",
       "      <td>0.701775</td>\n",
       "      <td>0.298225</td>\n",
       "      <td>1</td>\n",
       "      <td>0.701775</td>\n",
       "      <td>0.2</td>\n",
       "      <td>0.874794</td>\n",
       "    </tr>\n",
       "  </tbody>\n",
       "</table>\n",
       "</div>"
      ],
      "text/plain": [
       "        idx   trainac   validac  accpred    predb0    predb1  y   probmax  \\\n",
       "190  501360  0.553097  0.539474      0.0  0.490055  0.509945  0  0.509945   \n",
       "191  170677  0.535398  0.486842      0.0  0.529867  0.470133  1  0.529867   \n",
       "192   49396  0.582596  0.552632      1.0  0.653202  0.346798  0  0.653202   \n",
       "193  508944  0.572271  0.513158      1.0  0.681893  0.318107  0  0.681893   \n",
       "194  157065  0.563422  0.578947      1.0  0.535648  0.464352  0  0.535648   \n",
       "195  471819  0.502950  0.500000      0.0  0.494114  0.505886  0  0.505886   \n",
       "196   60560  0.589970  0.539474      0.0  0.662196  0.337804  1  0.662196   \n",
       "197  126102  0.556047  0.578947      0.0  0.535446  0.464554  1  0.535446   \n",
       "198   32391  0.538348  0.473684      1.0  0.506178  0.493822  0  0.506178   \n",
       "199  264155  0.474926  0.539474      0.0  0.701775  0.298225  1  0.701775   \n",
       "\n",
       "     davpredac  modelscore  \n",
       "190        0.8    0.651463  \n",
       "191        0.6    0.650914  \n",
       "192        0.6    0.848625  \n",
       "193        0.6    0.862152  \n",
       "194        0.6    0.702764  \n",
       "195        0.6    0.620190  \n",
       "196        0.6    0.855468  \n",
       "197        0.4    0.700993  \n",
       "198        0.4    0.616980  \n",
       "199        0.2    0.874794  "
      ]
     },
     "execution_count": 184,
     "metadata": {},
     "output_type": "execute_result"
    }
   ],
   "source": [
    "metrics[-10:]"
   ]
  },
  {
   "cell_type": "code",
   "execution_count": 125,
   "metadata": {},
   "outputs": [],
   "source": [
    "def probability(values):\n",
    "    percentiles = np.percentile(values, [0, 1, 10, 50, 90])\n",
    "    print('percentiles are ', percentiles)\n",
    "    import matplotlib.ticker as plticker\n",
    "    loc = plticker.MultipleLocator(base=1.0) # this locator puts ticks at regular intervals\n",
    "    fig = plt.figure(figsize=(10,4))\n",
    "    ax1 = fig.add_subplot(211);\n",
    "    ax1.hist(values, bins=20, density=True);\n",
    "    #ax1.set_xlim(percentiles[0], 5)\n",
    "    ax1.xaxis.set_major_locator(loc)\n",
    "    ax1.grid()\n",
    "    ax2 = fig.add_subplot(212, sharex=ax1)\n",
    "    ax2.hist(values, bins=20, density=True, cumulative=True);\n",
    "    ax2.xaxis.set_major_locator(loc)\n",
    "    ax2.set_ylabel('cumulative percentage (%)')\n",
    "    ax2.grid()"
   ]
  },
  {
   "cell_type": "code",
   "execution_count": 126,
   "metadata": {},
   "outputs": [
    {
     "name": "stdout",
     "output_type": "stream",
     "text": [
      "percentiles are  [0.75 0.75 0.75 0.85 0.9 ]\n"
     ]
    },
    {
     "data": {
      "image/png": "[encoded data removed]",
      "text/plain": [
       "<Figure size 720x288 with 2 Axes>"
      ]
     },
     "metadata": {
      "needs_background": "light"
     },
     "output_type": "display_data"
    }
   ],
   "source": [
    "probability(metrics.wavpredac[ metrics.probmax > 0.78 ].dropna());"
   ]
  },
  {
   "cell_type": "markdown",
   "metadata": {},
   "source": [
    "#### Percent of entries"
   ]
  },
  {
   "cell_type": "code",
   "execution_count": 128,
   "metadata": {},
   "outputs": [
    {
     "data": {
      "text/plain": [
       "0.77"
      ]
     },
     "execution_count": 128,
     "metadata": {},
     "output_type": "execute_result"
    }
   ],
   "source": [
    "len(metrics.wavpredac[ metrics.probmax > 0.78 ].dropna())/100"
   ]
  },
  {
   "cell_type": "code",
   "execution_count": null,
   "metadata": {},
   "outputs": [],
   "source": []
  }
 ],
 "metadata": {
  "kernelspec": {
   "display_name": "Python 3",
   "language": "python",
   "name": "python3"
  },
  "language_info": {
   "codemirror_mode": {
    "name": "ipython",
    "version": 3
   },
   "file_extension": ".py",
   "mimetype": "text/x-python",
   "name": "python",
   "nbconvert_exporter": "python",
   "pygments_lexer": "ipython3",
   "version": "3.6.8"
  }
 },
 "nbformat": 4,
 "nbformat_minor": 2
}
